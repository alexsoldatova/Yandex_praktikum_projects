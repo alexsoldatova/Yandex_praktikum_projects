{
 "cells": [
  {
   "cell_type": "markdown",
   "metadata": {},
   "source": [
    "# Определение стоимости автомобилей"
   ]
  },
  {
   "cell_type": "markdown",
   "metadata": {},
   "source": [
    "Сервис по продаже автомобилей с пробегом «Не бит, не крашен» разрабатывает приложение для привлечения новых клиентов. В нём можно быстро узнать рыночную стоимость своего автомобиля. В вашем распоряжении исторические данные: технические характеристики, комплектации и цены автомобилей. \n",
    "\n",
    "Цель: построить модель для определения стоимости. \n",
    "\n",
    "Заказчику важны:\n",
    "\n",
    "- качество предсказания;\n",
    "- скорость предсказания;\n",
    "- время обучения."
   ]
  },
  {
   "cell_type": "markdown",
   "metadata": {},
   "source": [
    "## Подготовка данных"
   ]
  },
  {
   "cell_type": "markdown",
   "metadata": {},
   "source": [
    "### Подготовка к работе"
   ]
  },
  {
   "cell_type": "code",
   "execution_count": 1,
   "metadata": {},
   "outputs": [
    {
     "name": "stdout",
     "output_type": "stream",
     "text": [
      "Requirement already satisfied: scikit-learn in /opt/conda/lib/python3.9/site-packages (1.4.1.post1)\n",
      "Requirement already satisfied: scipy>=1.6.0 in /opt/conda/lib/python3.9/site-packages (from scikit-learn) (1.9.1)\n",
      "Requirement already satisfied: numpy<2.0,>=1.19.5 in /opt/conda/lib/python3.9/site-packages (from scikit-learn) (1.21.1)\n",
      "Requirement already satisfied: joblib>=1.2.0 in /opt/conda/lib/python3.9/site-packages (from scikit-learn) (1.3.2)\n",
      "Requirement already satisfied: threadpoolctl>=2.0.0 in /opt/conda/lib/python3.9/site-packages (from scikit-learn) (3.1.0)\n",
      "Requirement already satisfied: optuna in /opt/conda/lib/python3.9/site-packages (3.5.0)\n",
      "Requirement already satisfied: colorlog in /opt/conda/lib/python3.9/site-packages (from optuna) (6.8.2)\n",
      "Requirement already satisfied: tqdm in /opt/conda/lib/python3.9/site-packages (from optuna) (4.61.2)\n",
      "Requirement already satisfied: PyYAML in /opt/conda/lib/python3.9/site-packages (from optuna) (6.0)\n",
      "Requirement already satisfied: alembic>=1.5.0 in /opt/conda/lib/python3.9/site-packages (from optuna) (1.6.5)\n",
      "Requirement already satisfied: packaging>=20.0 in /opt/conda/lib/python3.9/site-packages (from optuna) (21.3)\n",
      "Requirement already satisfied: sqlalchemy>=1.3.0 in /opt/conda/lib/python3.9/site-packages (from optuna) (1.4.20)\n",
      "Requirement already satisfied: numpy in /opt/conda/lib/python3.9/site-packages (from optuna) (1.21.1)\n",
      "Requirement already satisfied: Mako in /opt/conda/lib/python3.9/site-packages (from alembic>=1.5.0->optuna) (1.1.4)\n",
      "Requirement already satisfied: python-dateutil in /opt/conda/lib/python3.9/site-packages (from alembic>=1.5.0->optuna) (2.8.1)\n",
      "Requirement already satisfied: python-editor>=0.3 in /opt/conda/lib/python3.9/site-packages (from alembic>=1.5.0->optuna) (1.0.4)\n",
      "Requirement already satisfied: pyparsing!=3.0.5,>=2.0.2 in /opt/conda/lib/python3.9/site-packages (from packaging>=20.0->optuna) (2.4.7)\n",
      "Requirement already satisfied: greenlet!=0.4.17 in /opt/conda/lib/python3.9/site-packages (from sqlalchemy>=1.3.0->optuna) (1.1.0)\n",
      "Requirement already satisfied: MarkupSafe>=0.9.2 in /opt/conda/lib/python3.9/site-packages (from Mako->alembic>=1.5.0->optuna) (2.1.1)\n",
      "Requirement already satisfied: six>=1.5 in /opt/conda/lib/python3.9/site-packages (from python-dateutil->alembic>=1.5.0->optuna) (1.16.0)\n"
     ]
    }
   ],
   "source": [
    "!pip install phik==0.10.0 -q\n",
    "!pip install -q feature-engine\n",
    "!pip install -U scikit-learn\n",
    "!pip install optuna"
   ]
  },
  {
   "cell_type": "code",
   "execution_count": 2,
   "metadata": {},
   "outputs": [],
   "source": [
    "import pandas as pd\n",
    "import matplotlib.pyplot as plt\n",
    "import seaborn as sns\n",
    "import numpy as np\n",
    "import phik\n",
    "import time\n",
    "from sklearn.model_selection import train_test_split\n",
    "from sklearn.metrics import mean_squared_error\n",
    "from sklearn.linear_model import LinearRegression\n",
    "from sklearn.tree import DecisionTreeRegressor\n",
    "from sklearn.ensemble import RandomForestRegressor\n",
    "from sklearn.model_selection import RandomizedSearchCV\n",
    "from sklearn.preprocessing import (\n",
    "    StandardScaler,\n",
    "    OneHotEncoder,\n",
    "    OrdinalEncoder,\n",
    "    MinMaxScaler)\n",
    "from sklearn.pipeline import Pipeline\n",
    "from sklearn.impute import SimpleImputer\n",
    "from sklearn.compose import ColumnTransformer\n",
    "from sklearn.dummy import DummyRegressor \n",
    "from catboost import CatBoostRegressor, cv, Pool\n",
    "import lightgbm as lgb\n",
    "from lightgbm import LGBMRegressor\n",
    "from feature_engine.encoding import CountFrequencyEncoder\n",
    "from sklearn.metrics import make_scorer\n",
    "from sklearn.model_selection import KFold\n",
    "from sklearn.metrics import log_loss\n",
    "from sklearn.model_selection import StratifiedKFold\n",
    "import optuna\n",
    "from sklearn.model_selection import GridSearchCV"
   ]
  },
  {
   "cell_type": "code",
   "execution_count": 3,
   "metadata": {},
   "outputs": [],
   "source": [
    "import warnings\n",
    "warnings.filterwarnings('ignore')"
   ]
  },
  {
   "cell_type": "code",
   "execution_count": 4,
   "metadata": {},
   "outputs": [],
   "source": [
    "RANDOM_STATE = 123"
   ]
  },
  {
   "cell_type": "markdown",
   "metadata": {},
   "source": [
    "### Обзор данных"
   ]
  },
  {
   "cell_type": "code",
   "execution_count": 5,
   "metadata": {},
   "outputs": [],
   "source": [
    "data=pd.read_csv('/datasets/autos.csv', parse_dates=[\"DateCrawled\", \"DateCreated\", \"LastSeen\"])"
   ]
  },
  {
   "cell_type": "code",
   "execution_count": 6,
   "metadata": {
    "scrolled": true
   },
   "outputs": [
    {
     "data": {
      "text/html": [
       "<div>\n",
       "<style scoped>\n",
       "    .dataframe tbody tr th:only-of-type {\n",
       "        vertical-align: middle;\n",
       "    }\n",
       "\n",
       "    .dataframe tbody tr th {\n",
       "        vertical-align: top;\n",
       "    }\n",
       "\n",
       "    .dataframe thead th {\n",
       "        text-align: right;\n",
       "    }\n",
       "</style>\n",
       "<table border=\"1\" class=\"dataframe\">\n",
       "  <thead>\n",
       "    <tr style=\"text-align: right;\">\n",
       "      <th></th>\n",
       "      <th>DateCrawled</th>\n",
       "      <th>Price</th>\n",
       "      <th>VehicleType</th>\n",
       "      <th>RegistrationYear</th>\n",
       "      <th>Gearbox</th>\n",
       "      <th>Power</th>\n",
       "      <th>Model</th>\n",
       "      <th>Kilometer</th>\n",
       "      <th>RegistrationMonth</th>\n",
       "      <th>FuelType</th>\n",
       "      <th>Brand</th>\n",
       "      <th>Repaired</th>\n",
       "      <th>DateCreated</th>\n",
       "      <th>NumberOfPictures</th>\n",
       "      <th>PostalCode</th>\n",
       "      <th>LastSeen</th>\n",
       "    </tr>\n",
       "  </thead>\n",
       "  <tbody>\n",
       "    <tr>\n",
       "      <th>0</th>\n",
       "      <td>2016-03-24 11:52:17</td>\n",
       "      <td>480</td>\n",
       "      <td>NaN</td>\n",
       "      <td>1993</td>\n",
       "      <td>manual</td>\n",
       "      <td>0</td>\n",
       "      <td>golf</td>\n",
       "      <td>150000</td>\n",
       "      <td>0</td>\n",
       "      <td>petrol</td>\n",
       "      <td>volkswagen</td>\n",
       "      <td>NaN</td>\n",
       "      <td>2016-03-24</td>\n",
       "      <td>0</td>\n",
       "      <td>70435</td>\n",
       "      <td>2016-04-07 03:16:57</td>\n",
       "    </tr>\n",
       "    <tr>\n",
       "      <th>1</th>\n",
       "      <td>2016-03-24 10:58:45</td>\n",
       "      <td>18300</td>\n",
       "      <td>coupe</td>\n",
       "      <td>2011</td>\n",
       "      <td>manual</td>\n",
       "      <td>190</td>\n",
       "      <td>NaN</td>\n",
       "      <td>125000</td>\n",
       "      <td>5</td>\n",
       "      <td>gasoline</td>\n",
       "      <td>audi</td>\n",
       "      <td>yes</td>\n",
       "      <td>2016-03-24</td>\n",
       "      <td>0</td>\n",
       "      <td>66954</td>\n",
       "      <td>2016-04-07 01:46:50</td>\n",
       "    </tr>\n",
       "    <tr>\n",
       "      <th>2</th>\n",
       "      <td>2016-03-14 12:52:21</td>\n",
       "      <td>9800</td>\n",
       "      <td>suv</td>\n",
       "      <td>2004</td>\n",
       "      <td>auto</td>\n",
       "      <td>163</td>\n",
       "      <td>grand</td>\n",
       "      <td>125000</td>\n",
       "      <td>8</td>\n",
       "      <td>gasoline</td>\n",
       "      <td>jeep</td>\n",
       "      <td>NaN</td>\n",
       "      <td>2016-03-14</td>\n",
       "      <td>0</td>\n",
       "      <td>90480</td>\n",
       "      <td>2016-04-05 12:47:46</td>\n",
       "    </tr>\n",
       "    <tr>\n",
       "      <th>3</th>\n",
       "      <td>2016-03-17 16:54:04</td>\n",
       "      <td>1500</td>\n",
       "      <td>small</td>\n",
       "      <td>2001</td>\n",
       "      <td>manual</td>\n",
       "      <td>75</td>\n",
       "      <td>golf</td>\n",
       "      <td>150000</td>\n",
       "      <td>6</td>\n",
       "      <td>petrol</td>\n",
       "      <td>volkswagen</td>\n",
       "      <td>no</td>\n",
       "      <td>2016-03-17</td>\n",
       "      <td>0</td>\n",
       "      <td>91074</td>\n",
       "      <td>2016-03-17 17:40:17</td>\n",
       "    </tr>\n",
       "    <tr>\n",
       "      <th>4</th>\n",
       "      <td>2016-03-31 17:25:20</td>\n",
       "      <td>3600</td>\n",
       "      <td>small</td>\n",
       "      <td>2008</td>\n",
       "      <td>manual</td>\n",
       "      <td>69</td>\n",
       "      <td>fabia</td>\n",
       "      <td>90000</td>\n",
       "      <td>7</td>\n",
       "      <td>gasoline</td>\n",
       "      <td>skoda</td>\n",
       "      <td>no</td>\n",
       "      <td>2016-03-31</td>\n",
       "      <td>0</td>\n",
       "      <td>60437</td>\n",
       "      <td>2016-04-06 10:17:21</td>\n",
       "    </tr>\n",
       "  </tbody>\n",
       "</table>\n",
       "</div>"
      ],
      "text/plain": [
       "          DateCrawled  Price VehicleType  RegistrationYear Gearbox  Power  \\\n",
       "0 2016-03-24 11:52:17    480         NaN              1993  manual      0   \n",
       "1 2016-03-24 10:58:45  18300       coupe              2011  manual    190   \n",
       "2 2016-03-14 12:52:21   9800         suv              2004    auto    163   \n",
       "3 2016-03-17 16:54:04   1500       small              2001  manual     75   \n",
       "4 2016-03-31 17:25:20   3600       small              2008  manual     69   \n",
       "\n",
       "   Model  Kilometer  RegistrationMonth  FuelType       Brand Repaired  \\\n",
       "0   golf     150000                  0    petrol  volkswagen      NaN   \n",
       "1    NaN     125000                  5  gasoline        audi      yes   \n",
       "2  grand     125000                  8  gasoline        jeep      NaN   \n",
       "3   golf     150000                  6    petrol  volkswagen       no   \n",
       "4  fabia      90000                  7  gasoline       skoda       no   \n",
       "\n",
       "  DateCreated  NumberOfPictures  PostalCode            LastSeen  \n",
       "0  2016-03-24                 0       70435 2016-04-07 03:16:57  \n",
       "1  2016-03-24                 0       66954 2016-04-07 01:46:50  \n",
       "2  2016-03-14                 0       90480 2016-04-05 12:47:46  \n",
       "3  2016-03-17                 0       91074 2016-03-17 17:40:17  \n",
       "4  2016-03-31                 0       60437 2016-04-06 10:17:21  "
      ]
     },
     "execution_count": 6,
     "metadata": {},
     "output_type": "execute_result"
    }
   ],
   "source": [
    "data.head()"
   ]
  },
  {
   "cell_type": "markdown",
   "metadata": {},
   "source": [
    "Признаки:\n",
    "- DateCrawled — дата скачивания анкеты из базы\n",
    "- VehicleType — тип автомобильного кузова\n",
    "- RegistrationYear — год регистрации автомобиля\n",
    "- Gearbox — тип коробки передач\n",
    "- Power — мощность (л. с.)\n",
    "- Model — модель автомобиля\n",
    "- Kilometer — пробег (км)\n",
    "- RegistrationMonth — месяц регистрации автомобиля\n",
    "- FuelType — тип топлива\n",
    "- Brand — марка автомобиля\n",
    "- Repaired — была машина в ремонте или нет\n",
    "- DateCreated — дата создания анкеты\n",
    "- NumberOfPictures — количество фотографий автомобиля\n",
    "- PostalCode — почтовый индекс владельца анкеты (пользователя)\n",
    "- LastSeen — дата последней активности пользователя\n",
    "\n",
    "Целевой признак:\n",
    "- Price — цена (евро)"
   ]
  },
  {
   "cell_type": "markdown",
   "metadata": {},
   "source": [
    "Последняя дата выгрузки анкеты (год регитсрации автомобиля не может быть позже этой даты)"
   ]
  },
  {
   "cell_type": "code",
   "execution_count": 7,
   "metadata": {},
   "outputs": [
    {
     "data": {
      "text/plain": [
       "Timestamp('2016-04-07 14:36:58')"
      ]
     },
     "execution_count": 7,
     "metadata": {},
     "output_type": "execute_result"
    }
   ],
   "source": [
    "data['DateCrawled'].max()"
   ]
  },
  {
   "cell_type": "code",
   "execution_count": 8,
   "metadata": {},
   "outputs": [
    {
     "name": "stdout",
     "output_type": "stream",
     "text": [
      "<class 'pandas.core.frame.DataFrame'>\n",
      "RangeIndex: 354369 entries, 0 to 354368\n",
      "Data columns (total 16 columns):\n",
      " #   Column             Non-Null Count   Dtype         \n",
      "---  ------             --------------   -----         \n",
      " 0   DateCrawled        354369 non-null  datetime64[ns]\n",
      " 1   Price              354369 non-null  int64         \n",
      " 2   VehicleType        316879 non-null  object        \n",
      " 3   RegistrationYear   354369 non-null  int64         \n",
      " 4   Gearbox            334536 non-null  object        \n",
      " 5   Power              354369 non-null  int64         \n",
      " 6   Model              334664 non-null  object        \n",
      " 7   Kilometer          354369 non-null  int64         \n",
      " 8   RegistrationMonth  354369 non-null  int64         \n",
      " 9   FuelType           321474 non-null  object        \n",
      " 10  Brand              354369 non-null  object        \n",
      " 11  Repaired           283215 non-null  object        \n",
      " 12  DateCreated        354369 non-null  datetime64[ns]\n",
      " 13  NumberOfPictures   354369 non-null  int64         \n",
      " 14  PostalCode         354369 non-null  int64         \n",
      " 15  LastSeen           354369 non-null  datetime64[ns]\n",
      "dtypes: datetime64[ns](3), int64(7), object(6)\n",
      "memory usage: 43.3+ MB\n"
     ]
    }
   ],
   "source": [
    "data.info()"
   ]
  },
  {
   "cell_type": "markdown",
   "metadata": {},
   "source": [
    "Типы данных загружены корректно.\n",
    "Сразу видна необходимость исследовать пропуски в данных.\n",
    "Столбцы PostalCode, LastSeen, DateCrawled, DateCreated -  не оказывают никакого влияния на ценнобразования, следовательно, на следующем шаге их можно будет удалить."
   ]
  },
  {
   "cell_type": "markdown",
   "metadata": {},
   "source": [
    "### Предобработка данных"
   ]
  },
  {
   "cell_type": "markdown",
   "metadata": {},
   "source": [
    "Столбец NumberOfPictures содержит только нули, его тоже можно удалить"
   ]
  },
  {
   "cell_type": "code",
   "execution_count": 9,
   "metadata": {},
   "outputs": [],
   "source": [
    "data=data.drop(['PostalCode', 'NumberOfPictures', 'DateCrawled', 'DateCreated', 'LastSeen', 'RegistrationMonth'], axis=1)"
   ]
  },
  {
   "cell_type": "code",
   "execution_count": 10,
   "metadata": {
    "scrolled": false
   },
   "outputs": [
    {
     "data": {
      "text/html": [
       "<div>\n",
       "<style scoped>\n",
       "    .dataframe tbody tr th:only-of-type {\n",
       "        vertical-align: middle;\n",
       "    }\n",
       "\n",
       "    .dataframe tbody tr th {\n",
       "        vertical-align: top;\n",
       "    }\n",
       "\n",
       "    .dataframe thead th {\n",
       "        text-align: right;\n",
       "    }\n",
       "</style>\n",
       "<table border=\"1\" class=\"dataframe\">\n",
       "  <thead>\n",
       "    <tr style=\"text-align: right;\">\n",
       "      <th></th>\n",
       "      <th>Price</th>\n",
       "      <th>RegistrationYear</th>\n",
       "      <th>Power</th>\n",
       "      <th>Kilometer</th>\n",
       "    </tr>\n",
       "  </thead>\n",
       "  <tbody>\n",
       "    <tr>\n",
       "      <th>count</th>\n",
       "      <td>354369.000000</td>\n",
       "      <td>354369.000000</td>\n",
       "      <td>354369.000000</td>\n",
       "      <td>354369.000000</td>\n",
       "    </tr>\n",
       "    <tr>\n",
       "      <th>mean</th>\n",
       "      <td>4416.656776</td>\n",
       "      <td>2004.234448</td>\n",
       "      <td>110.094337</td>\n",
       "      <td>128211.172535</td>\n",
       "    </tr>\n",
       "    <tr>\n",
       "      <th>std</th>\n",
       "      <td>4514.158514</td>\n",
       "      <td>90.227958</td>\n",
       "      <td>189.850405</td>\n",
       "      <td>37905.341530</td>\n",
       "    </tr>\n",
       "    <tr>\n",
       "      <th>min</th>\n",
       "      <td>0.000000</td>\n",
       "      <td>1000.000000</td>\n",
       "      <td>0.000000</td>\n",
       "      <td>5000.000000</td>\n",
       "    </tr>\n",
       "    <tr>\n",
       "      <th>25%</th>\n",
       "      <td>1050.000000</td>\n",
       "      <td>1999.000000</td>\n",
       "      <td>69.000000</td>\n",
       "      <td>125000.000000</td>\n",
       "    </tr>\n",
       "    <tr>\n",
       "      <th>50%</th>\n",
       "      <td>2700.000000</td>\n",
       "      <td>2003.000000</td>\n",
       "      <td>105.000000</td>\n",
       "      <td>150000.000000</td>\n",
       "    </tr>\n",
       "    <tr>\n",
       "      <th>75%</th>\n",
       "      <td>6400.000000</td>\n",
       "      <td>2008.000000</td>\n",
       "      <td>143.000000</td>\n",
       "      <td>150000.000000</td>\n",
       "    </tr>\n",
       "    <tr>\n",
       "      <th>max</th>\n",
       "      <td>20000.000000</td>\n",
       "      <td>9999.000000</td>\n",
       "      <td>20000.000000</td>\n",
       "      <td>150000.000000</td>\n",
       "    </tr>\n",
       "  </tbody>\n",
       "</table>\n",
       "</div>"
      ],
      "text/plain": [
       "               Price  RegistrationYear          Power      Kilometer\n",
       "count  354369.000000     354369.000000  354369.000000  354369.000000\n",
       "mean     4416.656776       2004.234448     110.094337  128211.172535\n",
       "std      4514.158514         90.227958     189.850405   37905.341530\n",
       "min         0.000000       1000.000000       0.000000    5000.000000\n",
       "25%      1050.000000       1999.000000      69.000000  125000.000000\n",
       "50%      2700.000000       2003.000000     105.000000  150000.000000\n",
       "75%      6400.000000       2008.000000     143.000000  150000.000000\n",
       "max     20000.000000       9999.000000   20000.000000  150000.000000"
      ]
     },
     "execution_count": 10,
     "metadata": {},
     "output_type": "execute_result"
    }
   ],
   "source": [
    "data.describe()"
   ]
  },
  {
   "cell_type": "markdown",
   "metadata": {},
   "source": [
    "В данных наблюдаются аномальные значения:\n",
    "- Цена не может равняться 0, так как это целевой признак такого рода аномальные значения необходимо удалить\n",
    "- Год регистрации не может равняться 1000 или 9999\n",
    "- Мощность также не может быть 0 или 20000\n",
    "- Месяц регистрации также не может равняться 0"
   ]
  },
  {
   "cell_type": "code",
   "execution_count": 11,
   "metadata": {
    "scrolled": false
   },
   "outputs": [
    {
     "data": {
      "text/html": [
       "<style  type=\"text/css\" >\n",
       "#T_76689_row0_col0,#T_76689_row2_col0,#T_76689_row4_col0,#T_76689_row6_col0,#T_76689_row8_col0{\n",
       "            background-color:  #3b4cc0;\n",
       "            color:  #f1f1f1;\n",
       "        }#T_76689_row1_col0{\n",
       "            background-color:  #e3d9d3;\n",
       "            color:  #000000;\n",
       "        }#T_76689_row3_col0{\n",
       "            background-color:  #97b8ff;\n",
       "            color:  #000000;\n",
       "        }#T_76689_row5_col0{\n",
       "            background-color:  #96b7ff;\n",
       "            color:  #000000;\n",
       "        }#T_76689_row7_col0{\n",
       "            background-color:  #d3dbe7;\n",
       "            color:  #000000;\n",
       "        }#T_76689_row9_col0{\n",
       "            background-color:  #b40426;\n",
       "            color:  #f1f1f1;\n",
       "        }</style><table id=\"T_76689_\" ><thead>    <tr>        <th class=\"blank level0\" ></th>        <th class=\"col_heading level0 col0\" >0</th>    </tr></thead><tbody>\n",
       "                <tr>\n",
       "                        <th id=\"T_76689_level0_row0\" class=\"row_heading level0 row0\" >Price</th>\n",
       "                        <td id=\"T_76689_row0_col0\" class=\"data row0 col0\" >0.000000</td>\n",
       "            </tr>\n",
       "            <tr>\n",
       "                        <th id=\"T_76689_level0_row1\" class=\"row_heading level0 row1\" >VehicleType</th>\n",
       "                        <td id=\"T_76689_row1_col0\" class=\"data row1 col0\" >10.579368</td>\n",
       "            </tr>\n",
       "            <tr>\n",
       "                        <th id=\"T_76689_level0_row2\" class=\"row_heading level0 row2\" >RegistrationYear</th>\n",
       "                        <td id=\"T_76689_row2_col0\" class=\"data row2 col0\" >0.000000</td>\n",
       "            </tr>\n",
       "            <tr>\n",
       "                        <th id=\"T_76689_level0_row3\" class=\"row_heading level0 row3\" >Gearbox</th>\n",
       "                        <td id=\"T_76689_row3_col0\" class=\"data row3 col0\" >5.596709</td>\n",
       "            </tr>\n",
       "            <tr>\n",
       "                        <th id=\"T_76689_level0_row4\" class=\"row_heading level0 row4\" >Power</th>\n",
       "                        <td id=\"T_76689_row4_col0\" class=\"data row4 col0\" >0.000000</td>\n",
       "            </tr>\n",
       "            <tr>\n",
       "                        <th id=\"T_76689_level0_row5\" class=\"row_heading level0 row5\" >Model</th>\n",
       "                        <td id=\"T_76689_row5_col0\" class=\"data row5 col0\" >5.560588</td>\n",
       "            </tr>\n",
       "            <tr>\n",
       "                        <th id=\"T_76689_level0_row6\" class=\"row_heading level0 row6\" >Kilometer</th>\n",
       "                        <td id=\"T_76689_row6_col0\" class=\"data row6 col0\" >0.000000</td>\n",
       "            </tr>\n",
       "            <tr>\n",
       "                        <th id=\"T_76689_level0_row7\" class=\"row_heading level0 row7\" >FuelType</th>\n",
       "                        <td id=\"T_76689_row7_col0\" class=\"data row7 col0\" >9.282697</td>\n",
       "            </tr>\n",
       "            <tr>\n",
       "                        <th id=\"T_76689_level0_row8\" class=\"row_heading level0 row8\" >Brand</th>\n",
       "                        <td id=\"T_76689_row8_col0\" class=\"data row8 col0\" >0.000000</td>\n",
       "            </tr>\n",
       "            <tr>\n",
       "                        <th id=\"T_76689_level0_row9\" class=\"row_heading level0 row9\" >Repaired</th>\n",
       "                        <td id=\"T_76689_row9_col0\" class=\"data row9 col0\" >20.079070</td>\n",
       "            </tr>\n",
       "    </tbody></table>"
      ],
      "text/plain": [
       "<pandas.io.formats.style.Styler at 0x7ff2dc185250>"
      ]
     },
     "execution_count": 11,
     "metadata": {},
     "output_type": "execute_result"
    }
   ],
   "source": [
    "pd.DataFrame(data.isna().mean()*100).style.background_gradient('coolwarm')"
   ]
  },
  {
   "cell_type": "markdown",
   "metadata": {},
   "source": [
    "Пропуски будут заполнены при моделировании внутри пайплайна"
   ]
  },
  {
   "cell_type": "code",
   "execution_count": 12,
   "metadata": {},
   "outputs": [
    {
     "name": "stdout",
     "output_type": "stream",
     "text": [
      "Count numerical columns: 5\n",
      "Count categorical columns: 4\n"
     ]
    }
   ],
   "source": [
    "cat_columns = []\n",
    "num_columns = []\n",
    "\n",
    "for col_name in data.columns:\n",
    "\n",
    "    if isinstance(data[col_name].iloc[0], str):\n",
    "        cat_columns.append(col_name)\n",
    "    else:\n",
    "        num_columns.append(col_name)\n",
    "num_columns.remove('Price')\n",
    "print('Count numerical columns:', len(num_columns))\n",
    "print('Count categorical columns:', len(cat_columns))"
   ]
  },
  {
   "cell_type": "markdown",
   "metadata": {},
   "source": [
    "Проверяем категориальные признаки на наличие неявных дубликатов"
   ]
  },
  {
   "cell_type": "code",
   "execution_count": 13,
   "metadata": {
    "scrolled": true
   },
   "outputs": [
    {
     "name": "stdout",
     "output_type": "stream",
     "text": [
      "Уникальные значения столбца VehicleType\n",
      "[nan 'coupe' 'suv' 'small' 'sedan' 'convertible' 'bus' 'wagon' 'other'] \n",
      "\n",
      "Уникальные значения столбца Gearbox\n",
      "['manual' 'auto' nan] \n",
      "\n",
      "Уникальные значения столбца Model\n",
      "['golf' nan 'grand' 'fabia' '3er' '2_reihe' 'other' 'c_max' '3_reihe'\n",
      " 'passat' 'navara' 'ka' 'polo' 'twingo' 'a_klasse' 'scirocco' '5er'\n",
      " 'meriva' 'arosa' 'c4' 'civic' 'transporter' 'punto' 'e_klasse' 'clio'\n",
      " 'kadett' 'kangoo' 'corsa' 'one' 'fortwo' '1er' 'b_klasse' 'signum'\n",
      " 'astra' 'a8' 'jetta' 'fiesta' 'c_klasse' 'micra' 'vito' 'sprinter' '156'\n",
      " 'escort' 'forester' 'xc_reihe' 'scenic' 'a4' 'a1' 'insignia' 'combo'\n",
      " 'focus' 'tt' 'a6' 'jazz' 'omega' 'slk' '7er' '80' '147' '100' 'z_reihe'\n",
      " 'sportage' 'sorento' 'v40' 'ibiza' 'mustang' 'eos' 'touran' 'getz' 'a3'\n",
      " 'almera' 'megane' 'lupo' 'r19' 'zafira' 'caddy' 'mondeo' 'cordoba' 'colt'\n",
      " 'impreza' 'vectra' 'berlingo' 'tiguan' 'i_reihe' 'espace' 'sharan'\n",
      " '6_reihe' 'panda' 'up' 'seicento' 'ceed' '5_reihe' 'yeti' 'octavia' 'mii'\n",
      " 'rx_reihe' '6er' 'modus' 'fox' 'matiz' 'beetle' 'c1' 'rio' 'touareg'\n",
      " 'logan' 'spider' 'cuore' 's_max' 'a2' 'galaxy' 'c3' 'viano' 's_klasse'\n",
      " '1_reihe' 'avensis' 'roomster' 'sl' 'kaefer' 'santa' 'cooper' 'leon'\n",
      " '4_reihe' 'a5' '500' 'laguna' 'ptcruiser' 'clk' 'primera' 'x_reihe'\n",
      " 'exeo' '159' 'transit' 'juke' 'qashqai' 'carisma' 'accord' 'corolla'\n",
      " 'lanos' 'phaeton' 'verso' 'swift' 'rav' 'picanto' 'boxster' 'kalos'\n",
      " 'superb' 'stilo' 'alhambra' 'mx_reihe' 'roadster' 'ypsilon' 'cayenne'\n",
      " 'galant' 'justy' '90' 'sirion' 'crossfire' 'agila' 'duster' 'cr_reihe'\n",
      " 'v50' 'c_reihe' 'v_klasse' 'm_klasse' 'yaris' 'c5' 'aygo' 'cc' 'carnival'\n",
      " 'fusion' '911' 'bora' 'forfour' 'm_reihe' 'cl' 'tigra' '300c' 'spark'\n",
      " 'v70' 'kuga' 'x_type' 'ducato' 's_type' 'x_trail' 'toledo' 'altea'\n",
      " 'voyager' 'calibra' 'bravo' 'antara' 'tucson' 'citigo' 'jimny' 'wrangler'\n",
      " 'lybra' 'q7' 'lancer' 'captiva' 'c2' 'discovery' 'freelander' 'sandero'\n",
      " 'note' '900' 'cherokee' 'clubman' 'samara' 'defender' '601' 'cx_reihe'\n",
      " 'legacy' 'pajero' 'auris' 'niva' 's60' 'nubira' 'vivaro' 'g_klasse'\n",
      " 'lodgy' '850' 'range_rover' 'q3' 'serie_2' 'glk' 'charade' 'croma'\n",
      " 'outlander' 'doblo' 'musa' 'move' '9000' 'v60' '145' 'aveo' '200' 'b_max'\n",
      " 'range_rover_sport' 'terios' 'rangerover' 'q5' 'range_rover_evoque'\n",
      " 'materia' 'delta' 'gl' 'kalina' 'amarok' 'elefantino' 'i3' 'kappa'\n",
      " 'serie_3' 'serie_1'] \n",
      "\n",
      "Уникальные значения столбца FuelType\n",
      "['petrol' 'gasoline' nan 'lpg' 'other' 'hybrid' 'cng' 'electric'] \n",
      "\n",
      "Уникальные значения столбца Brand\n",
      "['volkswagen' 'audi' 'jeep' 'skoda' 'bmw' 'peugeot' 'ford' 'mazda'\n",
      " 'nissan' 'renault' 'mercedes_benz' 'opel' 'seat' 'citroen' 'honda' 'fiat'\n",
      " 'mini' 'smart' 'hyundai' 'sonstige_autos' 'alfa_romeo' 'subaru' 'volvo'\n",
      " 'mitsubishi' 'kia' 'suzuki' 'lancia' 'toyota' 'chevrolet' 'dacia'\n",
      " 'daihatsu' 'trabant' 'saab' 'chrysler' 'jaguar' 'daewoo' 'porsche'\n",
      " 'rover' 'land_rover' 'lada'] \n",
      "\n",
      "Уникальные значения столбца Repaired\n",
      "[nan 'yes' 'no'] \n",
      "\n"
     ]
    }
   ],
   "source": [
    "for col in data.select_dtypes(include='object').columns:\n",
    "    print('Уникальные значения столбца', col)\n",
    "    print(data[col].unique(), '\\n')"
   ]
  },
  {
   "cell_type": "markdown",
   "metadata": {},
   "source": [
    "Удаляем явные дубликаты"
   ]
  },
  {
   "cell_type": "code",
   "execution_count": 14,
   "metadata": {
    "scrolled": false
   },
   "outputs": [
    {
     "name": "stdout",
     "output_type": "stream",
     "text": [
      "45040\n"
     ]
    }
   ],
   "source": [
    "print(data.duplicated().sum())\n",
    "data=data.drop_duplicates()"
   ]
  },
  {
   "cell_type": "code",
   "execution_count": 15,
   "metadata": {},
   "outputs": [
    {
     "data": {
      "image/png": "[encoded data removed]",
      "text/plain": [
       "<Figure size 432x288 with 1 Axes>"
      ]
     },
     "metadata": {
      "needs_background": "light"
     },
     "output_type": "display_data"
    }
   ],
   "source": [
    "data['Kilometer'].value_counts().sort_values().plot(\n",
    "        kind='bar', edgecolor='black', alpha = 1, color='blue')\n",
    "plt.xlabel('Значения')\n",
    "plt.ylabel('Количество')\n",
    "plt.title('Распределение значений пробега, км');"
   ]
  },
  {
   "cell_type": "markdown",
   "metadata": {},
   "source": [
    "Признак Пробег является дискретным, поэтому при моделировании отнесем его к категориальным признакам"
   ]
  },
  {
   "cell_type": "markdown",
   "metadata": {},
   "source": [
    "В данных о мощности очень много выбросов. По результатам поиска в просторах интернетов рекордсмен по мощности 2028 л.с, а минимальное значение установим как 10."
   ]
  },
  {
   "cell_type": "code",
   "execution_count": 16,
   "metadata": {},
   "outputs": [],
   "source": [
    "data = data.query('10< = Power <= 2028')"
   ]
  },
  {
   "cell_type": "code",
   "execution_count": 17,
   "metadata": {
    "scrolled": false
   },
   "outputs": [
    {
     "data": {
      "image/png": "[encoded data removed]",
      "text/plain": [
       "<Figure size 720x360 with 2 Axes>"
      ]
     },
     "metadata": {
      "needs_background": "light"
     },
     "output_type": "display_data"
    }
   ],
   "source": [
    "fig, axes = plt.subplots(nrows=1, ncols=2, figsize=(10,5))\n",
    "plt.suptitle('Power')\n",
    "axes[0].hist(data['Power'], edgecolor='black')\n",
    "axes[0].set_xlabel('Значение признака')\n",
    "axes[0].set_ylabel('Количество')\n",
    "axes[1].boxplot(data['Power'])\n",
    "plt.ylabel('Значение признака')\n",
    "plt.ylim([0, 2500]);"
   ]
  },
  {
   "cell_type": "markdown",
   "metadata": {},
   "source": [
    "Верхнюю границу года регистрации ограничим по максимальному значению столбца даты выгрузки анкет(изучено выше при обзоре данных)"
   ]
  },
  {
   "cell_type": "code",
   "execution_count": 18,
   "metadata": {},
   "outputs": [],
   "source": [
    "data = data.query('1970<= RegistrationYear <= 2016')"
   ]
  },
  {
   "cell_type": "code",
   "execution_count": 19,
   "metadata": {
    "scrolled": false
   },
   "outputs": [
    {
     "data": {
      "image/png": "[encoded data removed]",
      "text/plain": [
       "<Figure size 720x360 with 2 Axes>"
      ]
     },
     "metadata": {
      "needs_background": "light"
     },
     "output_type": "display_data"
    }
   ],
   "source": [
    "fig, axes = plt.subplots(nrows=1, ncols=2, figsize=(10,5))\n",
    "plt.suptitle('RegistrationYear')\n",
    "axes[0].hist(data['RegistrationYear'], edgecolor='black')\n",
    "axes[0].set_xlabel('Значение признака')\n",
    "axes[0].set_ylabel('Количество')\n",
    "axes[1].boxplot(data['RegistrationYear'])\n",
    "plt.ylabel('Значение признака');"
   ]
  },
  {
   "cell_type": "markdown",
   "metadata": {},
   "source": [
    "### Исследовательский анализ"
   ]
  },
  {
   "cell_type": "markdown",
   "metadata": {},
   "source": [
    "#### Признаки"
   ]
  },
  {
   "cell_type": "markdown",
   "metadata": {},
   "source": [
    "Используем корреляцию Phik, так как признаки не распределены нормально, качественные преобладают над количественными, а которые Phik устойчива к выбросам и ненормальному распределению"
   ]
  },
  {
   "cell_type": "code",
   "execution_count": 20,
   "metadata": {
    "scrolled": false
   },
   "outputs": [
    {
     "data": {
      "image/png": "[encoded data removed]",
      "text/plain": [
       "<Figure size 576x432 with 2 Axes>"
      ]
     },
     "metadata": {
      "needs_background": "light"
     },
     "output_type": "display_data"
    }
   ],
   "source": [
    "plt.figure(figsize=(8,6))\n",
    "sns.heatmap(data.phik_matrix(interval_cols=['Power', 'Price']),\n",
    "            cmap='coolwarm',\n",
    "            center=0,\n",
    "            annot=True,\n",
    "            fmt=\".1f\");"
   ]
  },
  {
   "cell_type": "markdown",
   "metadata": {},
   "source": [
    "Мультиколлинеарность признаков наблюдается для Model и Brand, следовательно, при моделировании будем учитывать только один из этих признаков. Также аналогичный высокий коэффициент корреляции 0.9 получен для признаков Model и VehicleType.\n",
    "С целевым признаком коэффициенты корреляции больше 0.5 имеют RegistrationYear, Model, Kilometer."
   ]
  },
  {
   "cell_type": "markdown",
   "metadata": {},
   "source": [
    "#### Целевой признак"
   ]
  },
  {
   "cell_type": "code",
   "execution_count": 21,
   "metadata": {},
   "outputs": [],
   "source": [
    "data=data.query('Price > 500')"
   ]
  },
  {
   "cell_type": "code",
   "execution_count": 22,
   "metadata": {},
   "outputs": [],
   "source": [
    "X_train, X_test, y_train, y_test = train_test_split(\n",
    "    data.drop(['Price', 'Model'], axis=1),\n",
    "    data['Price'],\n",
    "    test_size = 0.25, \n",
    "    random_state = RANDOM_STATE)"
   ]
  },
  {
   "cell_type": "code",
   "execution_count": 23,
   "metadata": {},
   "outputs": [
    {
     "name": "stdout",
     "output_type": "stream",
     "text": [
      "(178236, 8)\n",
      "(178236,)\n",
      "(59412, 8)\n",
      "(59412,)\n"
     ]
    }
   ],
   "source": [
    "print(X_train.shape)\n",
    "print(y_train.shape)\n",
    "print(X_test.shape)\n",
    "print(y_test.shape)"
   ]
  },
  {
   "cell_type": "code",
   "execution_count": 24,
   "metadata": {
    "scrolled": false
   },
   "outputs": [
    {
     "data": {
      "image/png": "[encoded data removed]",
      "text/plain": [
       "<Figure size 432x288 with 1 Axes>"
      ]
     },
     "metadata": {
      "needs_background": "light"
     },
     "output_type": "display_data"
    }
   ],
   "source": [
    "sns.histplot(y_train, stat='density', common_norm=False, color='blue', kde=True)\n",
    "sns.histplot(y_test, stat='density', common_norm=False, color='orange', kde=True)\n",
    "labels= [\"Тренировочная\",\"Тестовая\"]\n",
    "plt.legend(labels)\n",
    "plt.title('Распределение значений целевого признака');"
   ]
  },
  {
   "cell_type": "markdown",
   "metadata": {},
   "source": [
    "Рапределение значений целевого признака на тренировочной и тестовой выборках совпадают. В целевом признаке преобладают низкие значение Цены авто, чем цена выше, тем меньше таких позиций на рынке."
   ]
  },
  {
   "cell_type": "markdown",
   "metadata": {},
   "source": [
    "### Вывод\n",
    "В предоставленных данных признаками являются параметры продаваемых авто, целевой признак - Цена.\n",
    "Типы данных загружены корректно.\n",
    "\n",
    "Сразу видна необходимость исследовать пропуски в данных.\n",
    "\n",
    "Столбцы PostalCode, LastSeen, DateCrawled, DateCreated - не оказывают никакого влияния на ценнобразования, следовательно, их можно будет удалить.\n",
    "\n",
    "В данных наблюдались аномальные значения:\n",
    "\n",
    "- Цена не может равняться 0, так как это целевой признак такого рода аномальные значения необходимо удалить\n",
    "- Год регистрации не может равняться 1000 или 9999\n",
    "- Мощность также не может быть 0 или 20000\n",
    "- Месяц регистрации также не может равняться 0\n",
    "- В данных о мощности очень много выбросов. По результатам поиска в просторах интернетов рекордсмен по мощности 2028 л.с, а минимальное значение установлено как 10.\n",
    "\n",
    "В данных были удалены явные дубликаты и проведен анализ неявных дубликатов.\n",
    "\n",
    "По результатам исследовательского анализа признаков:\n",
    "Мультиколлинеарность признаков наблюдается для Model и Brand, следовательно, при моделировании будем учитывать только один из этих признаков. Также аналогичный высокий коэффициент корреляции 0.9 получен для признаков Model и VehicleType. С целевым признаком коэффициенты корреляции больше 0.5 имеют RegistrationYear, Model, Kilometer.\n",
    "\n",
    "Данные были разделены на тестовую и тренировочную выборки в отношении 1 к 4. Рапределение значений целевого признака на тренировочной и тестовой выборках совпадают. В целевом признаке преобладают низкие значение Цены авто, чем цена выше, тем меньше таких позиций на рынке."
   ]
  },
  {
   "cell_type": "markdown",
   "metadata": {},
   "source": [
    "## Обучение моделей"
   ]
  },
  {
   "cell_type": "code",
   "execution_count": 25,
   "metadata": {},
   "outputs": [],
   "source": [
    "RMSE = make_scorer(mean_squared_error, greater_is_better=False, squared = False)"
   ]
  },
  {
   "cell_type": "code",
   "execution_count": 26,
   "metadata": {},
   "outputs": [],
   "source": [
    "ohe_columns = ['VehicleType', 'Gearbox', 'FuelType', 'Repaired', 'Brand']\n",
    "ord_columns = ['RegistrationYear', 'Kilometer']\n",
    "num_columns = ['Power']"
   ]
  },
  {
   "cell_type": "code",
   "execution_count": 27,
   "metadata": {},
   "outputs": [],
   "source": [
    "ohe_pipe = Pipeline(\n",
    "    [('simpleImputer_ohe_nan', SimpleImputer(missing_values=np.nan, strategy='most_frequent')),\n",
    "     ('ohe', OneHotEncoder(drop='first', handle_unknown='ignore', sparse_output=False))\n",
    "    ]\n",
    "    )\n",
    "\n",
    "ord_pipe = Pipeline(\n",
    "    [('simpleImputer_before_ord_nan', SimpleImputer(missing_values=np.nan, strategy='most_frequent')),\n",
    "     ('ord',  OrdinalEncoder(handle_unknown='use_encoded_value', unknown_value=np.nan\n",
    "            )\n",
    "        ),\n",
    "     ('simpleImputer_after_ord', SimpleImputer(missing_values=np.nan, strategy='most_frequent'))\n",
    "    ]\n",
    ")\n",
    " \n",
    "data_preprocessor = ColumnTransformer(\n",
    "    [('ohe', ohe_pipe, ohe_columns),\n",
    "     ('ord', ord_pipe, ord_columns),\n",
    "     ('num', StandardScaler(), num_columns)\n",
    "    ],\n",
    "    remainder='passthrough'\n",
    ")\n",
    "\n",
    "pipe_final = Pipeline([\n",
    "    ('preprocessor', data_preprocessor),\n",
    "    ('models', LinearRegression())\n",
    "])"
   ]
  },
  {
   "cell_type": "code",
   "execution_count": 28,
   "metadata": {},
   "outputs": [],
   "source": [
    "param_grid = [\n",
    "\n",
    "    # словарь для модели LinearRegression()\n",
    "    {\n",
    "        'models': [LinearRegression()],\n",
    "        'preprocessor__num': [StandardScaler(), MinMaxScaler(), 'passthrough']\n",
    "    },\n",
    "    # словарь для модели LGBMRegressor()\n",
    "    {'models' : [LGBMRegressor(random_state=RANDOM_STATE)],\n",
    "     'models__max_depth': [None] + [i for i in range(4, 7)],\n",
    "     'models__n_estimators': list(range(100, 150, 100)),\n",
    "     'preprocessor__num' : [StandardScaler(), MinMaxScaler(), 'passthrough']}]"
   ]
  },
  {
   "cell_type": "code",
   "execution_count": 29,
   "metadata": {
    "scrolled": false
   },
   "outputs": [
    {
     "name": "stdout",
     "output_type": "stream",
     "text": [
      "Лучшая модель и её параметры:\n",
      "\n",
      " Pipeline(steps=[('preprocessor',\n",
      "                 ColumnTransformer(remainder='passthrough',\n",
      "                                   transformers=[('ohe',\n",
      "                                                  Pipeline(steps=[('simpleImputer_ohe_nan',\n",
      "                                                                   SimpleImputer(strategy='most_frequent')),\n",
      "                                                                  ('ohe',\n",
      "                                                                   OneHotEncoder(drop='first',\n",
      "                                                                                 handle_unknown='ignore',\n",
      "                                                                                 sparse_output=False))]),\n",
      "                                                  ['VehicleType', 'Gearbox',\n",
      "                                                   'FuelType', 'Repaired',\n",
      "                                                   'Brand']),\n",
      "                                                 ('ord',\n",
      "                                                  Pipeline(steps=[('simpleImputer_before_ord_nan',\n",
      "                                                                   SimpleImputer(strategy='most_frequent')),\n",
      "                                                                  ('ord',\n",
      "                                                                   OrdinalEncoder(handle_unknown='use_encoded_value',\n",
      "                                                                                  unknown_value=nan)),\n",
      "                                                                  ('simpleImputer_after_ord',\n",
      "                                                                   SimpleImputer(strategy='most_frequent'))]),\n",
      "                                                  ['RegistrationYear',\n",
      "                                                   'Kilometer']),\n",
      "                                                 ('num', MinMaxScaler(),\n",
      "                                                  ['Power'])])),\n",
      "                ('models', LGBMRegressor(max_depth=None, random_state=123))])\n",
      "Метрика лучшей модели на тренировочной выборке: 1728.2212592275603\n",
      "CPU times: user 3min 14s, sys: 9.31 s, total: 3min 23s\n",
      "Wall time: 3min 24s\n"
     ]
    }
   ],
   "source": [
    "%%time\n",
    "randomized_search = RandomizedSearchCV(\n",
    "    pipe_final,\n",
    "    param_grid,\n",
    "    cv=5,\n",
    "    scoring=RMSE,\n",
    "    random_state=RANDOM_STATE,\n",
    "    n_jobs=-1,\n",
    "    error_score='raise'\n",
    ")\n",
    "randomized_search.fit(X_train, y_train)\n",
    "\n",
    "print('Лучшая модель и её параметры:\\n\\n', randomized_search.best_estimator_)\n",
    "print ('Метрика лучшей модели на тренировочной выборке:', -1*randomized_search.best_score_)"
   ]
  },
  {
   "cell_type": "code",
   "execution_count": 30,
   "metadata": {},
   "outputs": [
    {
     "name": "stdout",
     "output_type": "stream",
     "text": [
      "Время обучения лучшей модели на тренировочной выборке 0.081181534131368\n"
     ]
    }
   ],
   "source": [
    "\n",
    "start = time.time()\n",
    "best_model = randomized_search.best_estimator_ #получаем лучшую модель из best_estimator\n",
    "\n",
    "best_model.fit(X_train, y_train) #замеряем время обучения\n",
    "end = time.time()\n",
    "\n",
    "model_time_train = (end-start)/60\n",
    "print('Время обучения лучшей модели на тренировочной выборке', model_time_train)"
   ]
  },
  {
   "cell_type": "markdown",
   "metadata": {},
   "source": [
    "## Анализ моделей"
   ]
  },
  {
   "cell_type": "markdown",
   "metadata": {},
   "source": [
    "Список всех моделей, участвовавших в моделировании:"
   ]
  },
  {
   "cell_type": "code",
   "execution_count": 34,
   "metadata": {
    "scrolled": true
   },
   "outputs": [
    {
     "data": {
      "text/html": [
       "<div>\n",
       "<style scoped>\n",
       "    .dataframe tbody tr th:only-of-type {\n",
       "        vertical-align: middle;\n",
       "    }\n",
       "\n",
       "    .dataframe tbody tr th {\n",
       "        vertical-align: top;\n",
       "    }\n",
       "\n",
       "    .dataframe thead th {\n",
       "        text-align: right;\n",
       "    }\n",
       "</style>\n",
       "<table border=\"1\" class=\"dataframe\">\n",
       "  <thead>\n",
       "    <tr style=\"text-align: right;\">\n",
       "      <th></th>\n",
       "      <th>preprocessor__num</th>\n",
       "      <th>models__n_estimators</th>\n",
       "      <th>models__max_depth</th>\n",
       "      <th>models</th>\n",
       "      <th>mean_test_score</th>\n",
       "      <th>rank_test_score</th>\n",
       "      <th>mean_fit_time</th>\n",
       "      <th>mean_score_time</th>\n",
       "    </tr>\n",
       "  </thead>\n",
       "  <tbody>\n",
       "    <tr>\n",
       "      <th>0</th>\n",
       "      <td>StandardScaler()</td>\n",
       "      <td>nan</td>\n",
       "      <td>nan</td>\n",
       "      <td>LinearRegression()</td>\n",
       "      <td>-2965.449314</td>\n",
       "      <td>9</td>\n",
       "      <td>1.544551</td>\n",
       "      <td>0.239975</td>\n",
       "    </tr>\n",
       "    <tr>\n",
       "      <th>1</th>\n",
       "      <td>MinMaxScaler()</td>\n",
       "      <td>nan</td>\n",
       "      <td>nan</td>\n",
       "      <td>LinearRegression()</td>\n",
       "      <td>-2965.449314</td>\n",
       "      <td>9</td>\n",
       "      <td>1.607811</td>\n",
       "      <td>0.238468</td>\n",
       "    </tr>\n",
       "    <tr>\n",
       "      <th>2</th>\n",
       "      <td>passthrough</td>\n",
       "      <td>100.0</td>\n",
       "      <td>4.0</td>\n",
       "      <td>LGBMRegressor(random_state=123)</td>\n",
       "      <td>-1853.705923</td>\n",
       "      <td>7</td>\n",
       "      <td>3.158625</td>\n",
       "      <td>0.305488</td>\n",
       "    </tr>\n",
       "    <tr>\n",
       "      <th>3</th>\n",
       "      <td>MinMaxScaler()</td>\n",
       "      <td>100.0</td>\n",
       "      <td>5.0</td>\n",
       "      <td>LGBMRegressor(random_state=123)</td>\n",
       "      <td>-1792.122902</td>\n",
       "      <td>5</td>\n",
       "      <td>3.417792</td>\n",
       "      <td>0.399379</td>\n",
       "    </tr>\n",
       "    <tr>\n",
       "      <th>4</th>\n",
       "      <td>passthrough</td>\n",
       "      <td>100.0</td>\n",
       "      <td>5.0</td>\n",
       "      <td>LGBMRegressor(random_state=123)</td>\n",
       "      <td>-1792.122902</td>\n",
       "      <td>5</td>\n",
       "      <td>3.572978</td>\n",
       "      <td>0.345109</td>\n",
       "    </tr>\n",
       "    <tr>\n",
       "      <th>5</th>\n",
       "      <td>MinMaxScaler()</td>\n",
       "      <td>100.0</td>\n",
       "      <td>4.0</td>\n",
       "      <td>LGBMRegressor(random_state=123)</td>\n",
       "      <td>-1853.705923</td>\n",
       "      <td>7</td>\n",
       "      <td>3.688233</td>\n",
       "      <td>0.344059</td>\n",
       "    </tr>\n",
       "    <tr>\n",
       "      <th>6</th>\n",
       "      <td>StandardScaler()</td>\n",
       "      <td>100.0</td>\n",
       "      <td>5.0</td>\n",
       "      <td>LGBMRegressor(random_state=123)</td>\n",
       "      <td>-1791.048667</td>\n",
       "      <td>4</td>\n",
       "      <td>3.937633</td>\n",
       "      <td>0.437694</td>\n",
       "    </tr>\n",
       "    <tr>\n",
       "      <th>7</th>\n",
       "      <td>StandardScaler()</td>\n",
       "      <td>100.0</td>\n",
       "      <td>nan</td>\n",
       "      <td>LGBMRegressor(random_state=123)</td>\n",
       "      <td>-1729.645861</td>\n",
       "      <td>3</td>\n",
       "      <td>4.556921</td>\n",
       "      <td>0.440498</td>\n",
       "    </tr>\n",
       "    <tr>\n",
       "      <th>8</th>\n",
       "      <td>MinMaxScaler()</td>\n",
       "      <td>100.0</td>\n",
       "      <td>nan</td>\n",
       "      <td>LGBMRegressor(random_state=123)</td>\n",
       "      <td>-1728.221259</td>\n",
       "      <td>1</td>\n",
       "      <td>4.777894</td>\n",
       "      <td>0.466873</td>\n",
       "    </tr>\n",
       "    <tr>\n",
       "      <th>9</th>\n",
       "      <td>passthrough</td>\n",
       "      <td>100.0</td>\n",
       "      <td>nan</td>\n",
       "      <td>LGBMRegressor(random_state=123)</td>\n",
       "      <td>-1728.221259</td>\n",
       "      <td>1</td>\n",
       "      <td>5.180982</td>\n",
       "      <td>0.446333</td>\n",
       "    </tr>\n",
       "  </tbody>\n",
       "</table>\n",
       "</div>"
      ],
      "text/plain": [
       "  preprocessor__num models__n_estimators models__max_depth  \\\n",
       "0  StandardScaler()                  nan               nan   \n",
       "1    MinMaxScaler()                  nan               nan   \n",
       "2       passthrough                100.0               4.0   \n",
       "3    MinMaxScaler()                100.0               5.0   \n",
       "4       passthrough                100.0               5.0   \n",
       "5    MinMaxScaler()                100.0               4.0   \n",
       "6  StandardScaler()                100.0               5.0   \n",
       "7  StandardScaler()                100.0               nan   \n",
       "8    MinMaxScaler()                100.0               nan   \n",
       "9       passthrough                100.0               nan   \n",
       "\n",
       "                            models  mean_test_score  rank_test_score  \\\n",
       "0               LinearRegression()     -2965.449314                9   \n",
       "1               LinearRegression()     -2965.449314                9   \n",
       "2  LGBMRegressor(random_state=123)     -1853.705923                7   \n",
       "3  LGBMRegressor(random_state=123)     -1792.122902                5   \n",
       "4  LGBMRegressor(random_state=123)     -1792.122902                5   \n",
       "5  LGBMRegressor(random_state=123)     -1853.705923                7   \n",
       "6  LGBMRegressor(random_state=123)     -1791.048667                4   \n",
       "7  LGBMRegressor(random_state=123)     -1729.645861                3   \n",
       "8  LGBMRegressor(random_state=123)     -1728.221259                1   \n",
       "9  LGBMRegressor(random_state=123)     -1728.221259                1   \n",
       "\n",
       "   mean_fit_time  mean_score_time  \n",
       "0       1.544551         0.239975  \n",
       "1       1.607811         0.238468  \n",
       "2       3.158625         0.305488  \n",
       "3       3.417792         0.399379  \n",
       "4       3.572978         0.345109  \n",
       "5       3.688233         0.344059  \n",
       "6       3.937633         0.437694  \n",
       "7       4.556921         0.440498  \n",
       "8       4.777894         0.466873  \n",
       "9       5.180982         0.446333  "
      ]
     },
     "execution_count": 34,
     "metadata": {},
     "output_type": "execute_result"
    }
   ],
   "source": [
    "df1=pd.DataFrame(randomized_search.cv_results_['params']).astype(str)\n",
    "df2=(pd.DataFrame(randomized_search.cv_results_)\n",
    "  [['mean_test_score', 'rank_test_score', 'mean_fit_time', 'mean_score_time']]\n",
    "     )\n",
    "result=pd.concat([df1, df2], axis=1).sort_values(\n",
    "    by=['mean_fit_time', 'mean_score_time'], ascending=(True, True)).reset_index(drop=True)\n",
    "result"
   ]
  },
  {
   "cell_type": "markdown",
   "metadata": {},
   "source": [
    "Параметры и время обучения и предсказания для лучших моделей:"
   ]
  },
  {
   "cell_type": "code",
   "execution_count": 35,
   "metadata": {
    "scrolled": true
   },
   "outputs": [
    {
     "data": {
      "text/html": [
       "<div>\n",
       "<style scoped>\n",
       "    .dataframe tbody tr th:only-of-type {\n",
       "        vertical-align: middle;\n",
       "    }\n",
       "\n",
       "    .dataframe tbody tr th {\n",
       "        vertical-align: top;\n",
       "    }\n",
       "\n",
       "    .dataframe thead th {\n",
       "        text-align: right;\n",
       "    }\n",
       "</style>\n",
       "<table border=\"1\" class=\"dataframe\">\n",
       "  <thead>\n",
       "    <tr style=\"text-align: right;\">\n",
       "      <th></th>\n",
       "      <th>preprocessor__num</th>\n",
       "      <th>models__n_estimators</th>\n",
       "      <th>models__max_depth</th>\n",
       "      <th>models</th>\n",
       "      <th>mean_test_score</th>\n",
       "      <th>rank_test_score</th>\n",
       "      <th>mean_fit_time</th>\n",
       "      <th>mean_score_time</th>\n",
       "    </tr>\n",
       "  </thead>\n",
       "  <tbody>\n",
       "    <tr>\n",
       "      <th>8</th>\n",
       "      <td>MinMaxScaler()</td>\n",
       "      <td>100.0</td>\n",
       "      <td>nan</td>\n",
       "      <td>LGBMRegressor(random_state=123)</td>\n",
       "      <td>-1728.221259</td>\n",
       "      <td>1</td>\n",
       "      <td>4.777894</td>\n",
       "      <td>0.466873</td>\n",
       "    </tr>\n",
       "    <tr>\n",
       "      <th>0</th>\n",
       "      <td>StandardScaler()</td>\n",
       "      <td>nan</td>\n",
       "      <td>nan</td>\n",
       "      <td>LinearRegression()</td>\n",
       "      <td>-2965.449314</td>\n",
       "      <td>9</td>\n",
       "      <td>1.544551</td>\n",
       "      <td>0.239975</td>\n",
       "    </tr>\n",
       "  </tbody>\n",
       "</table>\n",
       "</div>"
      ],
      "text/plain": [
       "  preprocessor__num models__n_estimators models__max_depth  \\\n",
       "8    MinMaxScaler()                100.0               nan   \n",
       "0  StandardScaler()                  nan               nan   \n",
       "\n",
       "                            models  mean_test_score  rank_test_score  \\\n",
       "8  LGBMRegressor(random_state=123)     -1728.221259                1   \n",
       "0               LinearRegression()     -2965.449314                9   \n",
       "\n",
       "   mean_fit_time  mean_score_time  \n",
       "8       4.777894         0.466873  \n",
       "0       1.544551         0.239975  "
      ]
     },
     "execution_count": 35,
     "metadata": {},
     "output_type": "execute_result"
    }
   ],
   "source": [
    "result.iloc[result.groupby('models')['mean_test_score'].idxmax()].sort_values(by=['mean_test_score'], ascending=(False))"
   ]
  },
  {
   "cell_type": "markdown",
   "metadata": {},
   "source": [
    "### Проверка модели на тестовых данных"
   ]
  },
  {
   "cell_type": "code",
   "execution_count": 37,
   "metadata": {
    "scrolled": true
   },
   "outputs": [
    {
     "name": "stdout",
     "output_type": "stream",
     "text": [
      "Метрика на тестовой выборке: 1730.1488013971189\n",
      "Время предсказания лучшей модели на тестовой выборке 0.09457765022913615\n"
     ]
    }
   ],
   "source": [
    "pred = best_model.predict(X_test)\n",
    "RMSE=mean_squared_error(y_test, pred)** 0.5\n",
    "print(f'Метрика на тестовой выборке:', RMSE)\n",
    "end = time.time()\n",
    "\n",
    "model_time_pred = (end-start)/60\n",
    "print('Время предсказания лучшей модели на тестовой выборке', model_time_pred)"
   ]
  },
  {
   "cell_type": "code",
   "execution_count": 38,
   "metadata": {},
   "outputs": [
    {
     "name": "stdout",
     "output_type": "stream",
     "text": [
      "Метрика на константной модели: 4638.995807419353\n"
     ]
    }
   ],
   "source": [
    "lm_dummy_mean = DummyRegressor(strategy = 'mean').fit(X_train, y_train)\n",
    "y_predict_dummy_mean = lm_dummy_mean.predict(X_test) \n",
    "print(f'Метрика на константной модели: {mean_squared_error(y_test, y_predict_dummy_mean)** 0.5}')"
   ]
  },
  {
   "cell_type": "markdown",
   "metadata": {},
   "source": [
    "Метрика на константной модели хуже, чем на тестовой выборке"
   ]
  },
  {
   "cell_type": "markdown",
   "metadata": {},
   "source": [
    "### Итоговый вывод\n",
    "\n",
    "Сервис по продаже автомобилей с пробегом «Не бит, не крашен» разрабатывает приложение для привлечения новых клиентов. В нём можно быстро узнать рыночную стоимость своего автомобиля. В вашем распоряжении исторические данные: технические характеристики, комплектации и цены автомобилей. \n",
    "\n",
    "Цель: построить модель для определения стоимости. \n",
    "\n",
    "Заказчику важны:\n",
    "\n",
    "- качество предсказания;\n",
    "- скорость предсказания;\n",
    "- время обучения.\n",
    "\n",
    "В предоставленных данных признаками являются параметры продаваемых авто, целевой признак - Цена.\n",
    "Типы данных загружены корректно.\n",
    "\n",
    "Сразу видна необходимость исследовать пропуски в данных.\n",
    "\n",
    "Столбцы PostalCode, LastSeen, DateCrawled, DateCreated - не оказывают никакого влияния на ценнобразования, следовательно, их можно будет удалить.\n",
    "\n",
    "В данных наблюдались аномальные значения:\n",
    "\n",
    "- Цена не может равняться 0, так как это целевой признак такого рода аномальные значения необходимо удалить\n",
    "- Год регистрации не может равняться 1000 или 9999\n",
    "- Мощность также не может быть 0 или 20000\n",
    "- Месяц регистрации также не может равняться 0\n",
    "- В данных о мощности очень много выбросов. По результатам поиска в просторах интернетов рекордсмен по мощности 2028 л.с, а минимальное значение установлено как 10.\n",
    "\n",
    "В данных были удалены явные дубликаты и проведен анализ неявных дубликатов.\n",
    "\n",
    "По результатам исследовательского анализа признаков:\n",
    "Мультиколлинеарность признаков наблюдается для Model и Brand, следовательно, при моделировании будем учитывать только один из этих признаков. Также аналогичный высокий коэффициент корреляции 0.9 получен для признаков Model и VehicleType. С целевым признаком коэффициенты корреляции больше 0.5 имеют RegistrationYear, Model, Kilometer.\n",
    "\n",
    "Данные были разделены на тестовую и тренировочную выборки в отношении 1 к 4. Рапределение значений целевого признака на тренировочной и тестовой выборках совпадают. В целевом признаке преобладают низкие значение Цены авто, чем цена выше, тем меньше таких позиций на рынке.\n",
    "\n",
    "Моделирование было проведено с помощью модели градиентного бустинга LGBM, а также с помощью модели линейной регрессии. \n",
    "\n",
    "Наилучшей моделью оказалась модель \n",
    "С параметрами {'preprocessor__num': MinMaxScaler(), 'models__n_estimators': 100, 'models__max_depth': None, 'models': LGBMRegressor(random_state=123)}\n",
    "\n",
    "Лучшее значение метрики RMSE на тестовых данных равно: 1730.1488013971189\n",
    "\n"
   ]
  }
 ],
 "metadata": {
  "ExecuteTimeLog": [
   {
    "duration": 1367,
    "start_time": "2024-02-15T13:17:32.220Z"
   },
   {
    "duration": 3,
    "start_time": "2024-02-15T13:17:33.589Z"
   },
   {
    "duration": 1248,
    "start_time": "2024-02-15T13:17:33.593Z"
   },
   {
    "duration": 20,
    "start_time": "2024-02-15T13:17:34.842Z"
   },
   {
    "duration": 79,
    "start_time": "2024-02-15T13:18:58.403Z"
   },
   {
    "duration": 7,
    "start_time": "2024-02-15T13:20:38.876Z"
   },
   {
    "duration": 381,
    "start_time": "2024-02-15T13:22:18.012Z"
   },
   {
    "duration": 3,
    "start_time": "2024-02-15T13:24:23.386Z"
   },
   {
    "duration": 9,
    "start_time": "2024-02-15T13:24:23.391Z"
   },
   {
    "duration": 985,
    "start_time": "2024-02-15T13:24:23.402Z"
   },
   {
    "duration": 16,
    "start_time": "2024-02-15T13:24:24.389Z"
   },
   {
    "duration": 26,
    "start_time": "2024-02-15T13:24:24.406Z"
   },
   {
    "duration": 286,
    "start_time": "2024-02-15T13:24:24.434Z"
   },
   {
    "duration": 84,
    "start_time": "2024-02-15T13:25:00.688Z"
   },
   {
    "duration": 93,
    "start_time": "2024-02-15T13:25:09.368Z"
   },
   {
    "duration": 86,
    "start_time": "2024-02-15T13:25:34.729Z"
   },
   {
    "duration": 133,
    "start_time": "2024-02-15T13:25:39.713Z"
   },
   {
    "duration": 1042,
    "start_time": "2024-02-15T13:25:47.897Z"
   },
   {
    "duration": 2,
    "start_time": "2024-02-15T13:25:51.213Z"
   },
   {
    "duration": 14,
    "start_time": "2024-02-15T13:25:51.218Z"
   },
   {
    "duration": 1066,
    "start_time": "2024-02-15T13:25:51.233Z"
   },
   {
    "duration": 14,
    "start_time": "2024-02-15T13:25:52.301Z"
   },
   {
    "duration": 26,
    "start_time": "2024-02-15T13:25:52.317Z"
   },
   {
    "duration": 237,
    "start_time": "2024-02-15T13:25:52.344Z"
   },
   {
    "duration": 3,
    "start_time": "2024-02-15T13:26:09.141Z"
   },
   {
    "duration": 16,
    "start_time": "2024-02-15T13:26:09.146Z"
   },
   {
    "duration": 1081,
    "start_time": "2024-02-15T13:26:09.164Z"
   },
   {
    "duration": 14,
    "start_time": "2024-02-15T13:26:10.247Z"
   },
   {
    "duration": 43,
    "start_time": "2024-02-15T13:26:10.263Z"
   },
   {
    "duration": 153,
    "start_time": "2024-02-15T13:26:10.308Z"
   },
   {
    "duration": 8,
    "start_time": "2024-02-15T13:27:32.643Z"
   },
   {
    "duration": 269,
    "start_time": "2024-02-15T13:27:39.070Z"
   },
   {
    "duration": 580,
    "start_time": "2024-02-15T13:27:44.907Z"
   },
   {
    "duration": 4358,
    "start_time": "2024-02-15T13:28:45.613Z"
   },
   {
    "duration": 737349,
    "start_time": "2024-02-15T13:29:59.933Z"
   },
   {
    "duration": 52,
    "start_time": "2024-02-16T17:40:58.490Z"
   },
   {
    "duration": 1684,
    "start_time": "2024-02-16T17:41:03.353Z"
   },
   {
    "duration": 3,
    "start_time": "2024-02-16T17:41:05.040Z"
   },
   {
    "duration": 1410,
    "start_time": "2024-02-16T17:41:05.045Z"
   },
   {
    "duration": 21,
    "start_time": "2024-02-16T17:41:06.457Z"
   },
   {
    "duration": 6,
    "start_time": "2024-02-16T17:41:06.481Z"
   },
   {
    "duration": 170,
    "start_time": "2024-02-16T17:41:06.489Z"
   },
   {
    "duration": 767,
    "start_time": "2024-02-16T17:41:06.662Z"
   },
   {
    "duration": 513,
    "start_time": "2024-02-16T17:41:07.431Z"
   },
   {
    "duration": 91,
    "start_time": "2024-02-16T17:41:07.945Z"
   },
   {
    "duration": 0,
    "start_time": "2024-02-16T17:41:08.038Z"
   },
   {
    "duration": 113,
    "start_time": "2024-02-16T17:41:28.730Z"
   },
   {
    "duration": 32,
    "start_time": "2024-02-16T17:43:55.470Z"
   },
   {
    "duration": 11,
    "start_time": "2024-02-16T17:44:41.519Z"
   },
   {
    "duration": 1768,
    "start_time": "2024-02-16T17:44:45.679Z"
   },
   {
    "duration": 1798,
    "start_time": "2024-02-16T17:46:22.907Z"
   },
   {
    "duration": 151,
    "start_time": "2024-02-16T17:48:33.045Z"
   },
   {
    "duration": 4495,
    "start_time": "2024-02-16T17:51:21.301Z"
   },
   {
    "duration": 4613,
    "start_time": "2024-02-16T17:51:41.565Z"
   },
   {
    "duration": 4508,
    "start_time": "2024-02-16T17:52:16.444Z"
   },
   {
    "duration": 126,
    "start_time": "2024-02-16T17:52:32.844Z"
   },
   {
    "duration": 4459,
    "start_time": "2024-02-16T17:52:37.305Z"
   },
   {
    "duration": 56,
    "start_time": "2024-02-16T17:55:52.378Z"
   },
   {
    "duration": 3,
    "start_time": "2024-02-16T17:55:52.436Z"
   },
   {
    "duration": 1138,
    "start_time": "2024-02-16T17:55:52.441Z"
   },
   {
    "duration": 16,
    "start_time": "2024-02-16T17:55:53.581Z"
   },
   {
    "duration": 120,
    "start_time": "2024-02-16T17:55:53.599Z"
   },
   {
    "duration": 18,
    "start_time": "2024-02-16T17:55:53.721Z"
   },
   {
    "duration": 131,
    "start_time": "2024-02-16T17:55:53.741Z"
   },
   {
    "duration": 5243,
    "start_time": "2024-02-16T17:55:53.874Z"
   },
   {
    "duration": 7,
    "start_time": "2024-02-16T17:55:59.119Z"
   },
   {
    "duration": 163,
    "start_time": "2024-02-16T17:55:59.129Z"
   },
   {
    "duration": 534,
    "start_time": "2024-02-16T17:55:59.294Z"
   },
   {
    "duration": 30,
    "start_time": "2024-02-16T17:55:59.830Z"
   },
   {
    "duration": 0,
    "start_time": "2024-02-16T17:55:59.861Z"
   },
   {
    "duration": 0,
    "start_time": "2024-02-16T17:55:59.862Z"
   },
   {
    "duration": 0,
    "start_time": "2024-02-16T17:55:59.864Z"
   },
   {
    "duration": 1521,
    "start_time": "2024-02-16T17:56:37.145Z"
   },
   {
    "duration": 3,
    "start_time": "2024-02-16T17:56:38.668Z"
   },
   {
    "duration": 1985,
    "start_time": "2024-02-16T17:56:38.673Z"
   },
   {
    "duration": 19,
    "start_time": "2024-02-16T17:56:40.660Z"
   },
   {
    "duration": 128,
    "start_time": "2024-02-16T17:56:40.681Z"
   },
   {
    "duration": 33,
    "start_time": "2024-02-16T17:56:40.811Z"
   },
   {
    "duration": 162,
    "start_time": "2024-02-16T17:56:40.858Z"
   },
   {
    "duration": 2,
    "start_time": "2024-02-16T17:56:41.022Z"
   },
   {
    "duration": 9,
    "start_time": "2024-02-16T17:56:41.026Z"
   },
   {
    "duration": 4,
    "start_time": "2024-02-16T17:56:41.037Z"
   },
   {
    "duration": 696,
    "start_time": "2024-02-16T17:56:41.042Z"
   },
   {
    "duration": 139,
    "start_time": "2024-02-16T17:56:41.740Z"
   },
   {
    "duration": 129,
    "start_time": "2024-02-16T17:56:41.881Z"
   },
   {
    "duration": 0,
    "start_time": "2024-02-16T17:56:42.012Z"
   },
   {
    "duration": 0,
    "start_time": "2024-02-16T17:56:42.013Z"
   },
   {
    "duration": 34094,
    "start_time": "2024-02-16T17:58:00.209Z"
   },
   {
    "duration": 25,
    "start_time": "2024-02-16T17:58:34.305Z"
   },
   {
    "duration": 1457,
    "start_time": "2024-02-16T17:58:44.413Z"
   },
   {
    "duration": 2,
    "start_time": "2024-02-16T17:58:45.872Z"
   },
   {
    "duration": 1175,
    "start_time": "2024-02-16T17:58:45.878Z"
   },
   {
    "duration": 19,
    "start_time": "2024-02-16T17:58:47.058Z"
   },
   {
    "duration": 137,
    "start_time": "2024-02-16T17:58:47.078Z"
   },
   {
    "duration": 34,
    "start_time": "2024-02-16T17:58:47.216Z"
   },
   {
    "duration": 161,
    "start_time": "2024-02-16T17:58:47.259Z"
   },
   {
    "duration": 3,
    "start_time": "2024-02-16T17:58:47.423Z"
   },
   {
    "duration": 8,
    "start_time": "2024-02-16T17:58:47.428Z"
   },
   {
    "duration": 10,
    "start_time": "2024-02-16T17:58:47.437Z"
   },
   {
    "duration": 679,
    "start_time": "2024-02-16T17:58:47.459Z"
   },
   {
    "duration": 149,
    "start_time": "2024-02-16T17:58:48.139Z"
   },
   {
    "duration": 24,
    "start_time": "2024-02-16T17:58:48.290Z"
   },
   {
    "duration": 32814,
    "start_time": "2024-02-16T17:58:48.316Z"
   },
   {
    "duration": 2,
    "start_time": "2024-02-16T17:59:21.133Z"
   },
   {
    "duration": 78,
    "start_time": "2024-02-16T17:59:21.137Z"
   },
   {
    "duration": 0,
    "start_time": "2024-02-16T17:59:21.217Z"
   },
   {
    "duration": 2254,
    "start_time": "2024-02-16T17:59:27.614Z"
   },
   {
    "duration": 2222,
    "start_time": "2024-02-16T17:59:47.337Z"
   },
   {
    "duration": 1623,
    "start_time": "2024-02-17T10:15:20.977Z"
   },
   {
    "duration": 2,
    "start_time": "2024-02-17T10:15:22.603Z"
   },
   {
    "duration": 1347,
    "start_time": "2024-02-17T10:15:22.607Z"
   },
   {
    "duration": 16,
    "start_time": "2024-02-17T10:15:23.956Z"
   },
   {
    "duration": 106,
    "start_time": "2024-02-17T10:15:23.975Z"
   },
   {
    "duration": 45,
    "start_time": "2024-02-17T10:15:24.082Z"
   },
   {
    "duration": 98,
    "start_time": "2024-02-17T10:15:24.129Z"
   },
   {
    "duration": 139,
    "start_time": "2024-02-17T10:15:24.229Z"
   },
   {
    "duration": 2,
    "start_time": "2024-02-17T10:15:24.370Z"
   },
   {
    "duration": 29,
    "start_time": "2024-02-17T10:15:24.374Z"
   },
   {
    "duration": 38,
    "start_time": "2024-02-17T10:15:24.405Z"
   },
   {
    "duration": 663,
    "start_time": "2024-02-17T10:15:24.444Z"
   },
   {
    "duration": 134,
    "start_time": "2024-02-17T10:15:25.108Z"
   },
   {
    "duration": 2340,
    "start_time": "2024-02-17T10:15:25.245Z"
   },
   {
    "duration": 2,
    "start_time": "2024-02-17T10:15:27.587Z"
   },
   {
    "duration": 27,
    "start_time": "2024-02-17T10:15:27.590Z"
   },
   {
    "duration": 87,
    "start_time": "2024-02-17T10:15:27.627Z"
   },
   {
    "duration": 29,
    "start_time": "2024-02-17T10:16:28.911Z"
   },
   {
    "duration": 24,
    "start_time": "2024-02-17T10:16:40.702Z"
   },
   {
    "duration": 133,
    "start_time": "2024-02-17T10:16:58.775Z"
   },
   {
    "duration": 4,
    "start_time": "2024-02-17T10:17:06.831Z"
   },
   {
    "duration": 4,
    "start_time": "2024-02-17T10:17:06.838Z"
   },
   {
    "duration": 1038,
    "start_time": "2024-02-17T10:17:06.844Z"
   },
   {
    "duration": 15,
    "start_time": "2024-02-17T10:17:07.883Z"
   },
   {
    "duration": 123,
    "start_time": "2024-02-17T10:17:07.901Z"
   },
   {
    "duration": 24,
    "start_time": "2024-02-17T10:17:08.027Z"
   },
   {
    "duration": 88,
    "start_time": "2024-02-17T10:17:08.053Z"
   },
   {
    "duration": 133,
    "start_time": "2024-02-17T10:17:08.143Z"
   },
   {
    "duration": 3,
    "start_time": "2024-02-17T10:17:08.278Z"
   },
   {
    "duration": 9,
    "start_time": "2024-02-17T10:17:08.283Z"
   },
   {
    "duration": 5,
    "start_time": "2024-02-17T10:17:08.294Z"
   },
   {
    "duration": 588,
    "start_time": "2024-02-17T10:17:08.301Z"
   },
   {
    "duration": 120,
    "start_time": "2024-02-17T10:17:08.890Z"
   },
   {
    "duration": 2176,
    "start_time": "2024-02-17T10:17:09.013Z"
   },
   {
    "duration": 2,
    "start_time": "2024-02-17T10:17:11.191Z"
   },
   {
    "duration": 6,
    "start_time": "2024-02-17T10:17:11.194Z"
   },
   {
    "duration": 140,
    "start_time": "2024-02-17T10:17:11.202Z"
   },
   {
    "duration": 239,
    "start_time": "2024-02-17T10:21:27.203Z"
   },
   {
    "duration": 245,
    "start_time": "2024-02-17T10:21:47.934Z"
   },
   {
    "duration": 25,
    "start_time": "2024-02-17T10:22:46.043Z"
   },
   {
    "duration": 3,
    "start_time": "2024-02-17T10:22:49.269Z"
   },
   {
    "duration": 4,
    "start_time": "2024-02-17T10:22:49.274Z"
   },
   {
    "duration": 986,
    "start_time": "2024-02-17T10:22:49.279Z"
   },
   {
    "duration": 13,
    "start_time": "2024-02-17T10:22:50.267Z"
   },
   {
    "duration": 110,
    "start_time": "2024-02-17T10:22:50.282Z"
   },
   {
    "duration": 33,
    "start_time": "2024-02-17T10:22:50.394Z"
   },
   {
    "duration": 62,
    "start_time": "2024-02-17T10:22:50.429Z"
   },
   {
    "duration": 39,
    "start_time": "2024-02-17T10:22:50.493Z"
   },
   {
    "duration": 94,
    "start_time": "2024-02-17T10:22:50.534Z"
   },
   {
    "duration": 2,
    "start_time": "2024-02-17T10:22:50.630Z"
   },
   {
    "duration": 8,
    "start_time": "2024-02-17T10:22:50.633Z"
   },
   {
    "duration": 3,
    "start_time": "2024-02-17T10:22:50.643Z"
   },
   {
    "duration": 436,
    "start_time": "2024-02-17T10:22:50.647Z"
   },
   {
    "duration": 248,
    "start_time": "2024-02-17T10:22:51.085Z"
   },
   {
    "duration": 91,
    "start_time": "2024-02-17T10:22:51.335Z"
   },
   {
    "duration": 2768,
    "start_time": "2024-02-17T10:22:51.428Z"
   },
   {
    "duration": 3,
    "start_time": "2024-02-17T10:22:54.198Z"
   },
   {
    "duration": 5,
    "start_time": "2024-02-17T10:22:54.202Z"
   },
   {
    "duration": 77,
    "start_time": "2024-02-17T10:22:54.218Z"
   },
   {
    "duration": 66,
    "start_time": "2024-02-17T10:23:13.004Z"
   },
   {
    "duration": 3,
    "start_time": "2024-02-17T10:23:49.729Z"
   },
   {
    "duration": 7,
    "start_time": "2024-02-17T10:23:49.734Z"
   },
   {
    "duration": 1042,
    "start_time": "2024-02-17T10:23:49.742Z"
   },
   {
    "duration": 14,
    "start_time": "2024-02-17T10:23:50.785Z"
   },
   {
    "duration": 131,
    "start_time": "2024-02-17T10:23:50.801Z"
   },
   {
    "duration": 16,
    "start_time": "2024-02-17T10:23:50.935Z"
   },
   {
    "duration": 82,
    "start_time": "2024-02-17T10:23:50.953Z"
   },
   {
    "duration": 117,
    "start_time": "2024-02-17T10:23:51.036Z"
   },
   {
    "duration": 2,
    "start_time": "2024-02-17T10:23:51.155Z"
   },
   {
    "duration": 9,
    "start_time": "2024-02-17T10:23:51.159Z"
   },
   {
    "duration": 5,
    "start_time": "2024-02-17T10:23:51.170Z"
   },
   {
    "duration": 554,
    "start_time": "2024-02-17T10:23:51.177Z"
   },
   {
    "duration": 381,
    "start_time": "2024-02-17T10:23:51.740Z"
   },
   {
    "duration": 235,
    "start_time": "2024-02-17T10:23:52.126Z"
   },
   {
    "duration": 4771,
    "start_time": "2024-02-17T10:23:52.363Z"
   },
   {
    "duration": 2,
    "start_time": "2024-02-17T10:23:57.135Z"
   },
   {
    "duration": 7,
    "start_time": "2024-02-17T10:23:57.139Z"
   },
   {
    "duration": 83,
    "start_time": "2024-02-17T10:23:57.148Z"
   },
   {
    "duration": 237,
    "start_time": "2024-02-17T10:26:43.611Z"
   },
   {
    "duration": 237,
    "start_time": "2024-02-17T10:27:23.773Z"
   },
   {
    "duration": 237,
    "start_time": "2024-02-17T10:27:27.312Z"
   },
   {
    "duration": 268,
    "start_time": "2024-02-17T10:27:32.893Z"
   },
   {
    "duration": 247,
    "start_time": "2024-02-17T10:29:47.762Z"
   },
   {
    "duration": 322,
    "start_time": "2024-02-17T10:29:52.280Z"
   },
   {
    "duration": 229,
    "start_time": "2024-02-17T10:30:35.059Z"
   },
   {
    "duration": 226,
    "start_time": "2024-02-17T10:30:38.586Z"
   },
   {
    "duration": 208,
    "start_time": "2024-02-17T10:31:44.526Z"
   },
   {
    "duration": 204,
    "start_time": "2024-02-17T10:32:15.861Z"
   },
   {
    "duration": 200,
    "start_time": "2024-02-17T10:32:24.371Z"
   },
   {
    "duration": 198,
    "start_time": "2024-02-17T10:32:39.487Z"
   },
   {
    "duration": 29,
    "start_time": "2024-02-17T10:33:22.201Z"
   },
   {
    "duration": 237,
    "start_time": "2024-02-17T10:33:23.630Z"
   },
   {
    "duration": 22,
    "start_time": "2024-02-17T10:33:35.903Z"
   },
   {
    "duration": 202,
    "start_time": "2024-02-17T10:33:37.291Z"
   },
   {
    "duration": 220,
    "start_time": "2024-02-17T10:34:55.199Z"
   },
   {
    "duration": 216,
    "start_time": "2024-02-17T10:35:04.751Z"
   },
   {
    "duration": 284,
    "start_time": "2024-02-17T10:35:09.981Z"
   },
   {
    "duration": 199,
    "start_time": "2024-02-17T10:35:16.060Z"
   },
   {
    "duration": 219,
    "start_time": "2024-02-17T10:35:31.333Z"
   },
   {
    "duration": 222,
    "start_time": "2024-02-17T10:35:37.130Z"
   },
   {
    "duration": 76,
    "start_time": "2024-02-17T10:36:19.918Z"
   },
   {
    "duration": 222,
    "start_time": "2024-02-17T10:36:23.667Z"
   },
   {
    "duration": 225,
    "start_time": "2024-02-17T10:36:31.533Z"
   },
   {
    "duration": 228,
    "start_time": "2024-02-17T10:36:37.003Z"
   },
   {
    "duration": 246,
    "start_time": "2024-02-17T10:36:40.793Z"
   },
   {
    "duration": 218,
    "start_time": "2024-02-17T10:37:14.411Z"
   },
   {
    "duration": 173,
    "start_time": "2024-02-17T10:37:23.726Z"
   },
   {
    "duration": 231,
    "start_time": "2024-02-17T10:37:34.881Z"
   },
   {
    "duration": 332,
    "start_time": "2024-02-17T10:37:38.302Z"
   },
   {
    "duration": 65,
    "start_time": "2024-02-17T10:38:56.776Z"
   },
   {
    "duration": 214,
    "start_time": "2024-02-17T10:44:40.303Z"
   },
   {
    "duration": 233,
    "start_time": "2024-02-17T10:44:57.343Z"
   },
   {
    "duration": 231,
    "start_time": "2024-02-17T10:44:59.857Z"
   },
   {
    "duration": 8,
    "start_time": "2024-02-17T10:45:31.229Z"
   },
   {
    "duration": 198,
    "start_time": "2024-02-17T10:45:32.850Z"
   },
   {
    "duration": 6,
    "start_time": "2024-02-17T10:45:42.441Z"
   },
   {
    "duration": 206,
    "start_time": "2024-02-17T10:45:44.059Z"
   },
   {
    "duration": 6,
    "start_time": "2024-02-17T10:45:54.140Z"
   },
   {
    "duration": 226,
    "start_time": "2024-02-17T10:45:55.637Z"
   },
   {
    "duration": 355,
    "start_time": "2024-02-17T12:12:13.405Z"
   },
   {
    "duration": 356,
    "start_time": "2024-02-17T12:12:20.608Z"
   },
   {
    "duration": 320,
    "start_time": "2024-02-17T12:12:24.143Z"
   },
   {
    "duration": 344,
    "start_time": "2024-02-17T12:12:38.426Z"
   },
   {
    "duration": 4,
    "start_time": "2024-02-17T12:13:02.943Z"
   },
   {
    "duration": 9,
    "start_time": "2024-02-17T12:13:02.948Z"
   },
   {
    "duration": 915,
    "start_time": "2024-02-17T12:13:02.958Z"
   },
   {
    "duration": 14,
    "start_time": "2024-02-17T12:13:03.875Z"
   },
   {
    "duration": 106,
    "start_time": "2024-02-17T12:13:03.890Z"
   },
   {
    "duration": 28,
    "start_time": "2024-02-17T12:13:03.998Z"
   },
   {
    "duration": 181,
    "start_time": "2024-02-17T12:13:04.027Z"
   },
   {
    "duration": 98,
    "start_time": "2024-02-17T12:13:04.210Z"
   },
   {
    "duration": 3,
    "start_time": "2024-02-17T12:13:04.315Z"
   },
   {
    "duration": 7,
    "start_time": "2024-02-17T12:13:04.320Z"
   },
   {
    "duration": 2,
    "start_time": "2024-02-17T12:13:04.329Z"
   },
   {
    "duration": 497,
    "start_time": "2024-02-17T12:13:04.333Z"
   },
   {
    "duration": 246,
    "start_time": "2024-02-17T12:13:04.832Z"
   },
   {
    "duration": 35,
    "start_time": "2024-02-17T12:13:05.080Z"
   },
   {
    "duration": 221,
    "start_time": "2024-02-17T12:13:05.116Z"
   },
   {
    "duration": 9,
    "start_time": "2024-02-17T12:13:05.338Z"
   },
   {
    "duration": 321,
    "start_time": "2024-02-17T12:13:05.349Z"
   },
   {
    "duration": 12,
    "start_time": "2024-02-17T12:13:05.672Z"
   },
   {
    "duration": 230,
    "start_time": "2024-02-17T12:13:05.686Z"
   },
   {
    "duration": 3,
    "start_time": "2024-02-17T12:13:05.918Z"
   },
   {
    "duration": 5,
    "start_time": "2024-02-17T12:13:05.923Z"
   },
   {
    "duration": 86,
    "start_time": "2024-02-17T12:13:05.929Z"
   },
   {
    "duration": 3,
    "start_time": "2024-02-17T12:14:01.850Z"
   },
   {
    "duration": 40,
    "start_time": "2024-02-17T12:14:01.855Z"
   },
   {
    "duration": 913,
    "start_time": "2024-02-17T12:14:01.897Z"
   },
   {
    "duration": 14,
    "start_time": "2024-02-17T12:14:02.811Z"
   },
   {
    "duration": 113,
    "start_time": "2024-02-17T12:14:02.827Z"
   },
   {
    "duration": 29,
    "start_time": "2024-02-17T12:14:02.941Z"
   },
   {
    "duration": 82,
    "start_time": "2024-02-17T12:14:02.972Z"
   },
   {
    "duration": 103,
    "start_time": "2024-02-17T12:14:03.056Z"
   },
   {
    "duration": 3,
    "start_time": "2024-02-17T12:14:03.160Z"
   },
   {
    "duration": 7,
    "start_time": "2024-02-17T12:14:03.164Z"
   },
   {
    "duration": 5,
    "start_time": "2024-02-17T12:14:03.173Z"
   },
   {
    "duration": 479,
    "start_time": "2024-02-17T12:14:03.180Z"
   },
   {
    "duration": 25,
    "start_time": "2024-02-17T12:14:03.660Z"
   },
   {
    "duration": 3,
    "start_time": "2024-02-17T12:14:03.977Z"
   },
   {
    "duration": 4,
    "start_time": "2024-02-17T12:14:03.982Z"
   },
   {
    "duration": 959,
    "start_time": "2024-02-17T12:14:03.988Z"
   },
   {
    "duration": 13,
    "start_time": "2024-02-17T12:14:04.949Z"
   },
   {
    "duration": 107,
    "start_time": "2024-02-17T12:14:04.964Z"
   },
   {
    "duration": 28,
    "start_time": "2024-02-17T12:14:05.073Z"
   },
   {
    "duration": 64,
    "start_time": "2024-02-17T12:14:05.115Z"
   },
   {
    "duration": 109,
    "start_time": "2024-02-17T12:14:05.180Z"
   },
   {
    "duration": 2,
    "start_time": "2024-02-17T12:14:05.290Z"
   },
   {
    "duration": 10,
    "start_time": "2024-02-17T12:14:05.293Z"
   },
   {
    "duration": 11,
    "start_time": "2024-02-17T12:14:05.304Z"
   },
   {
    "duration": 478,
    "start_time": "2024-02-17T12:14:05.316Z"
   },
   {
    "duration": 38,
    "start_time": "2024-02-17T12:14:05.796Z"
   },
   {
    "duration": 210,
    "start_time": "2024-02-17T12:14:05.837Z"
   },
   {
    "duration": 8,
    "start_time": "2024-02-17T12:14:06.048Z"
   },
   {
    "duration": 215,
    "start_time": "2024-02-17T12:14:06.057Z"
   },
   {
    "duration": 371,
    "start_time": "2024-02-17T12:14:06.273Z"
   },
   {
    "duration": 6,
    "start_time": "2024-02-17T12:14:06.645Z"
   },
   {
    "duration": 225,
    "start_time": "2024-02-17T12:14:06.652Z"
   },
   {
    "duration": 3,
    "start_time": "2024-02-17T12:14:06.878Z"
   },
   {
    "duration": 9,
    "start_time": "2024-02-17T12:14:06.883Z"
   },
   {
    "duration": 82,
    "start_time": "2024-02-17T12:14:06.894Z"
   },
   {
    "duration": 4,
    "start_time": "2024-02-17T12:15:12.547Z"
   },
   {
    "duration": 4,
    "start_time": "2024-02-17T12:15:44.341Z"
   },
   {
    "duration": 4,
    "start_time": "2024-02-17T12:15:54.506Z"
   },
   {
    "duration": 4,
    "start_time": "2024-02-17T12:15:58.445Z"
   },
   {
    "duration": 4,
    "start_time": "2024-02-17T12:15:58.451Z"
   },
   {
    "duration": 908,
    "start_time": "2024-02-17T12:15:58.456Z"
   },
   {
    "duration": 13,
    "start_time": "2024-02-17T12:15:59.365Z"
   },
   {
    "duration": 105,
    "start_time": "2024-02-17T12:15:59.380Z"
   },
   {
    "duration": 34,
    "start_time": "2024-02-17T12:15:59.487Z"
   },
   {
    "duration": 66,
    "start_time": "2024-02-17T12:15:59.522Z"
   },
   {
    "duration": 107,
    "start_time": "2024-02-17T12:15:59.589Z"
   },
   {
    "duration": 2,
    "start_time": "2024-02-17T12:15:59.698Z"
   },
   {
    "duration": 16,
    "start_time": "2024-02-17T12:15:59.702Z"
   },
   {
    "duration": 6,
    "start_time": "2024-02-17T12:15:59.719Z"
   },
   {
    "duration": 478,
    "start_time": "2024-02-17T12:15:59.726Z"
   },
   {
    "duration": 30,
    "start_time": "2024-02-17T12:16:00.206Z"
   },
   {
    "duration": 228,
    "start_time": "2024-02-17T12:16:00.239Z"
   },
   {
    "duration": 25,
    "start_time": "2024-02-17T12:16:00.474Z"
   },
   {
    "duration": 24,
    "start_time": "2024-02-17T12:16:00.501Z"
   },
   {
    "duration": 4,
    "start_time": "2024-02-17T12:16:02.208Z"
   },
   {
    "duration": 10,
    "start_time": "2024-02-17T12:16:02.213Z"
   },
   {
    "duration": 946,
    "start_time": "2024-02-17T12:16:02.224Z"
   },
   {
    "duration": 13,
    "start_time": "2024-02-17T12:16:03.171Z"
   },
   {
    "duration": 107,
    "start_time": "2024-02-17T12:16:03.186Z"
   },
   {
    "duration": 32,
    "start_time": "2024-02-17T12:16:03.295Z"
   },
   {
    "duration": 65,
    "start_time": "2024-02-17T12:16:03.329Z"
   },
   {
    "duration": 104,
    "start_time": "2024-02-17T12:16:03.396Z"
   },
   {
    "duration": 14,
    "start_time": "2024-02-17T12:16:03.501Z"
   },
   {
    "duration": 6,
    "start_time": "2024-02-17T12:16:03.516Z"
   },
   {
    "duration": 13,
    "start_time": "2024-02-17T12:16:03.523Z"
   },
   {
    "duration": 470,
    "start_time": "2024-02-17T12:16:03.537Z"
   },
   {
    "duration": 24,
    "start_time": "2024-02-17T12:16:04.009Z"
   },
   {
    "duration": 221,
    "start_time": "2024-02-17T12:16:04.036Z"
   },
   {
    "duration": 4,
    "start_time": "2024-02-17T12:16:04.258Z"
   },
   {
    "duration": 9,
    "start_time": "2024-02-17T12:16:04.264Z"
   },
   {
    "duration": 302,
    "start_time": "2024-02-17T12:16:04.275Z"
   },
   {
    "duration": 4,
    "start_time": "2024-02-17T12:16:04.579Z"
   },
   {
    "duration": 395,
    "start_time": "2024-02-17T12:16:04.585Z"
   },
   {
    "duration": 6,
    "start_time": "2024-02-17T12:16:04.982Z"
   },
   {
    "duration": 5,
    "start_time": "2024-02-17T12:16:04.989Z"
   },
   {
    "duration": 221,
    "start_time": "2024-02-17T12:16:04.996Z"
   },
   {
    "duration": 2,
    "start_time": "2024-02-17T12:16:05.219Z"
   },
   {
    "duration": 6,
    "start_time": "2024-02-17T12:16:05.222Z"
   },
   {
    "duration": 79,
    "start_time": "2024-02-17T12:16:05.229Z"
   },
   {
    "duration": 4,
    "start_time": "2024-02-17T12:18:25.197Z"
   },
   {
    "duration": 2,
    "start_time": "2024-02-17T12:18:25.206Z"
   },
   {
    "duration": 968,
    "start_time": "2024-02-17T12:18:25.210Z"
   },
   {
    "duration": 13,
    "start_time": "2024-02-17T12:18:26.180Z"
   },
   {
    "duration": 103,
    "start_time": "2024-02-17T12:18:26.195Z"
   },
   {
    "duration": 32,
    "start_time": "2024-02-17T12:18:26.300Z"
   },
   {
    "duration": 66,
    "start_time": "2024-02-17T12:18:26.333Z"
   },
   {
    "duration": 107,
    "start_time": "2024-02-17T12:18:26.400Z"
   },
   {
    "duration": 2,
    "start_time": "2024-02-17T12:18:26.515Z"
   },
   {
    "duration": 7,
    "start_time": "2024-02-17T12:18:26.518Z"
   },
   {
    "duration": 5,
    "start_time": "2024-02-17T12:18:26.526Z"
   },
   {
    "duration": 495,
    "start_time": "2024-02-17T12:18:26.532Z"
   },
   {
    "duration": 2,
    "start_time": "2024-02-17T12:18:27.029Z"
   },
   {
    "duration": 226,
    "start_time": "2024-02-17T12:18:27.032Z"
   },
   {
    "duration": 3,
    "start_time": "2024-02-17T12:18:27.261Z"
   },
   {
    "duration": 3,
    "start_time": "2024-02-17T12:18:27.265Z"
   },
   {
    "duration": 225,
    "start_time": "2024-02-17T12:18:27.270Z"
   },
   {
    "duration": 4,
    "start_time": "2024-02-17T12:18:27.496Z"
   },
   {
    "duration": 370,
    "start_time": "2024-02-17T12:18:27.501Z"
   },
   {
    "duration": 109,
    "start_time": "2024-02-17T12:18:27.873Z"
   },
   {
    "duration": 4,
    "start_time": "2024-02-17T12:18:27.984Z"
   },
   {
    "duration": 2130,
    "start_time": "2024-02-17T12:18:27.989Z"
   },
   {
    "duration": 3,
    "start_time": "2024-02-17T12:18:30.120Z"
   },
   {
    "duration": 23,
    "start_time": "2024-02-17T12:18:30.124Z"
   },
   {
    "duration": 94,
    "start_time": "2024-02-17T12:18:30.149Z"
   },
   {
    "duration": 3126,
    "start_time": "2024-02-17T12:19:53.966Z"
   },
   {
    "duration": 5,
    "start_time": "2024-02-17T12:19:57.094Z"
   },
   {
    "duration": 13,
    "start_time": "2024-02-17T12:19:57.100Z"
   },
   {
    "duration": 955,
    "start_time": "2024-02-17T12:19:57.115Z"
   },
   {
    "duration": 15,
    "start_time": "2024-02-17T12:19:58.071Z"
   },
   {
    "duration": 132,
    "start_time": "2024-02-17T12:19:58.088Z"
   },
   {
    "duration": 20,
    "start_time": "2024-02-17T12:19:58.221Z"
   },
   {
    "duration": 79,
    "start_time": "2024-02-17T12:19:58.243Z"
   },
   {
    "duration": 105,
    "start_time": "2024-02-17T12:19:58.324Z"
   },
   {
    "duration": 1,
    "start_time": "2024-02-17T12:19:58.432Z"
   },
   {
    "duration": 14,
    "start_time": "2024-02-17T12:19:58.435Z"
   },
   {
    "duration": 8,
    "start_time": "2024-02-17T12:19:58.451Z"
   },
   {
    "duration": 455,
    "start_time": "2024-02-17T12:19:58.460Z"
   },
   {
    "duration": 2,
    "start_time": "2024-02-17T12:19:58.916Z"
   },
   {
    "duration": 225,
    "start_time": "2024-02-17T12:19:58.920Z"
   },
   {
    "duration": 3,
    "start_time": "2024-02-17T12:19:59.147Z"
   },
   {
    "duration": 5,
    "start_time": "2024-02-17T12:19:59.152Z"
   },
   {
    "duration": 230,
    "start_time": "2024-02-17T12:19:59.158Z"
   },
   {
    "duration": 4,
    "start_time": "2024-02-17T12:19:59.389Z"
   },
   {
    "duration": 541,
    "start_time": "2024-02-17T12:19:59.394Z"
   },
   {
    "duration": 104,
    "start_time": "2024-02-17T12:19:59.937Z"
   },
   {
    "duration": 4,
    "start_time": "2024-02-17T12:20:00.042Z"
   },
   {
    "duration": 2082,
    "start_time": "2024-02-17T12:20:00.047Z"
   },
   {
    "duration": 3,
    "start_time": "2024-02-17T12:20:02.131Z"
   },
   {
    "duration": 5,
    "start_time": "2024-02-17T12:20:02.135Z"
   },
   {
    "duration": 78,
    "start_time": "2024-02-17T12:20:02.142Z"
   },
   {
    "duration": 30,
    "start_time": "2024-02-17T12:20:56.814Z"
   },
   {
    "duration": 94,
    "start_time": "2024-02-17T12:20:57.108Z"
   },
   {
    "duration": 4,
    "start_time": "2024-02-17T12:20:57.467Z"
   },
   {
    "duration": 1967,
    "start_time": "2024-02-17T12:20:58.074Z"
   },
   {
    "duration": 12,
    "start_time": "2024-02-17T12:22:02.108Z"
   },
   {
    "duration": 13,
    "start_time": "2024-02-17T12:22:26.666Z"
   },
   {
    "duration": 2,
    "start_time": "2024-02-17T12:25:11.647Z"
   },
   {
    "duration": 132,
    "start_time": "2024-02-17T12:28:40.188Z"
   },
   {
    "duration": 3,
    "start_time": "2024-02-17T12:28:59.353Z"
   },
   {
    "duration": 11,
    "start_time": "2024-02-17T12:34:35.049Z"
   },
   {
    "duration": 2,
    "start_time": "2024-02-17T12:35:10.885Z"
   },
   {
    "duration": 29,
    "start_time": "2024-02-17T12:35:10.897Z"
   },
   {
    "duration": 47,
    "start_time": "2024-02-17T12:35:10.929Z"
   },
   {
    "duration": 1009,
    "start_time": "2024-02-17T12:35:10.978Z"
   },
   {
    "duration": 14,
    "start_time": "2024-02-17T12:35:11.989Z"
   },
   {
    "duration": 105,
    "start_time": "2024-02-17T12:35:12.004Z"
   },
   {
    "duration": 26,
    "start_time": "2024-02-17T12:35:12.114Z"
   },
   {
    "duration": 74,
    "start_time": "2024-02-17T12:35:12.142Z"
   },
   {
    "duration": 104,
    "start_time": "2024-02-17T12:35:12.217Z"
   },
   {
    "duration": 3,
    "start_time": "2024-02-17T12:35:12.322Z"
   },
   {
    "duration": 5,
    "start_time": "2024-02-17T12:35:12.328Z"
   },
   {
    "duration": 150,
    "start_time": "2024-02-17T12:35:12.335Z"
   },
   {
    "duration": 495,
    "start_time": "2024-02-17T12:35:12.487Z"
   },
   {
    "duration": 3,
    "start_time": "2024-02-17T12:35:12.983Z"
   },
   {
    "duration": 229,
    "start_time": "2024-02-17T12:35:12.987Z"
   },
   {
    "duration": 4,
    "start_time": "2024-02-17T12:35:13.218Z"
   },
   {
    "duration": 7,
    "start_time": "2024-02-17T12:35:13.223Z"
   },
   {
    "duration": 325,
    "start_time": "2024-02-17T12:35:13.231Z"
   },
   {
    "duration": 4,
    "start_time": "2024-02-17T12:35:13.557Z"
   },
   {
    "duration": 25,
    "start_time": "2024-02-17T12:35:13.562Z"
   },
   {
    "duration": 33,
    "start_time": "2024-02-17T12:35:13.588Z"
   },
   {
    "duration": 99,
    "start_time": "2024-02-17T12:35:13.623Z"
   },
   {
    "duration": 4,
    "start_time": "2024-02-17T12:35:13.723Z"
   },
   {
    "duration": 1994,
    "start_time": "2024-02-17T12:35:13.729Z"
   },
   {
    "duration": 3,
    "start_time": "2024-02-17T12:35:15.725Z"
   },
   {
    "duration": 36,
    "start_time": "2024-02-17T12:35:15.729Z"
   },
   {
    "duration": 0,
    "start_time": "2024-02-17T12:35:15.767Z"
   },
   {
    "duration": 2,
    "start_time": "2024-02-17T12:35:34.302Z"
   },
   {
    "duration": 6,
    "start_time": "2024-02-17T12:35:34.313Z"
   },
   {
    "duration": 3,
    "start_time": "2024-02-17T12:35:34.320Z"
   },
   {
    "duration": 947,
    "start_time": "2024-02-17T12:35:34.324Z"
   },
   {
    "duration": 14,
    "start_time": "2024-02-17T12:35:35.272Z"
   },
   {
    "duration": 110,
    "start_time": "2024-02-17T12:35:35.288Z"
   },
   {
    "duration": 20,
    "start_time": "2024-02-17T12:35:35.400Z"
   },
   {
    "duration": 60,
    "start_time": "2024-02-17T12:35:35.422Z"
   },
   {
    "duration": 109,
    "start_time": "2024-02-17T12:35:35.484Z"
   },
   {
    "duration": 2,
    "start_time": "2024-02-17T12:35:35.595Z"
   },
   {
    "duration": 18,
    "start_time": "2024-02-17T12:35:35.599Z"
   },
   {
    "duration": 150,
    "start_time": "2024-02-17T12:35:35.618Z"
   },
   {
    "duration": 469,
    "start_time": "2024-02-17T12:35:35.770Z"
   },
   {
    "duration": 2,
    "start_time": "2024-02-17T12:35:36.241Z"
   },
   {
    "duration": 215,
    "start_time": "2024-02-17T12:35:36.244Z"
   },
   {
    "duration": 4,
    "start_time": "2024-02-17T12:35:36.460Z"
   },
   {
    "duration": 3,
    "start_time": "2024-02-17T12:35:36.465Z"
   },
   {
    "duration": 218,
    "start_time": "2024-02-17T12:35:36.470Z"
   },
   {
    "duration": 3,
    "start_time": "2024-02-17T12:35:36.690Z"
   },
   {
    "duration": 5,
    "start_time": "2024-02-17T12:35:36.695Z"
   },
   {
    "duration": 38,
    "start_time": "2024-02-17T12:35:36.701Z"
   },
   {
    "duration": 125,
    "start_time": "2024-02-17T12:35:36.741Z"
   },
   {
    "duration": 3,
    "start_time": "2024-02-17T12:35:36.869Z"
   },
   {
    "duration": 2038,
    "start_time": "2024-02-17T12:35:36.874Z"
   },
   {
    "duration": 2,
    "start_time": "2024-02-17T12:35:38.914Z"
   },
   {
    "duration": 20,
    "start_time": "2024-02-17T12:35:38.918Z"
   },
   {
    "duration": 0,
    "start_time": "2024-02-17T12:35:38.939Z"
   },
   {
    "duration": 4,
    "start_time": "2024-02-17T12:36:55.535Z"
   },
   {
    "duration": 12,
    "start_time": "2024-02-17T12:59:55.859Z"
   },
   {
    "duration": 3,
    "start_time": "2024-02-17T13:01:54.611Z"
   },
   {
    "duration": 6,
    "start_time": "2024-02-17T13:01:54.616Z"
   },
   {
    "duration": 2,
    "start_time": "2024-02-17T13:01:54.624Z"
   },
   {
    "duration": 1013,
    "start_time": "2024-02-17T13:01:54.628Z"
   },
   {
    "duration": 14,
    "start_time": "2024-02-17T13:01:55.644Z"
   },
   {
    "duration": 132,
    "start_time": "2024-02-17T13:01:55.660Z"
   },
   {
    "duration": 32,
    "start_time": "2024-02-17T13:01:55.794Z"
   },
   {
    "duration": 69,
    "start_time": "2024-02-17T13:01:55.828Z"
   },
   {
    "duration": 117,
    "start_time": "2024-02-17T13:01:55.899Z"
   },
   {
    "duration": 3,
    "start_time": "2024-02-17T13:01:56.018Z"
   },
   {
    "duration": 8,
    "start_time": "2024-02-17T13:01:56.023Z"
   },
   {
    "duration": 156,
    "start_time": "2024-02-17T13:01:56.032Z"
   },
   {
    "duration": 482,
    "start_time": "2024-02-17T13:01:56.189Z"
   },
   {
    "duration": 1198,
    "start_time": "2024-02-17T13:01:56.673Z"
   },
   {
    "duration": 0,
    "start_time": "2024-02-17T13:01:57.872Z"
   },
   {
    "duration": 0,
    "start_time": "2024-02-17T13:01:57.873Z"
   },
   {
    "duration": 0,
    "start_time": "2024-02-17T13:01:57.874Z"
   },
   {
    "duration": 0,
    "start_time": "2024-02-17T13:01:57.875Z"
   },
   {
    "duration": 0,
    "start_time": "2024-02-17T13:01:57.876Z"
   },
   {
    "duration": 0,
    "start_time": "2024-02-17T13:01:57.878Z"
   },
   {
    "duration": 0,
    "start_time": "2024-02-17T13:01:57.878Z"
   },
   {
    "duration": 0,
    "start_time": "2024-02-17T13:01:57.880Z"
   },
   {
    "duration": 0,
    "start_time": "2024-02-17T13:01:57.880Z"
   },
   {
    "duration": 0,
    "start_time": "2024-02-17T13:01:57.881Z"
   },
   {
    "duration": 0,
    "start_time": "2024-02-17T13:01:57.882Z"
   },
   {
    "duration": 0,
    "start_time": "2024-02-17T13:01:57.883Z"
   },
   {
    "duration": 0,
    "start_time": "2024-02-17T13:01:57.885Z"
   },
   {
    "duration": 0,
    "start_time": "2024-02-17T13:01:57.885Z"
   },
   {
    "duration": 3,
    "start_time": "2024-02-17T13:02:21.078Z"
   },
   {
    "duration": 18,
    "start_time": "2024-02-17T13:02:21.083Z"
   },
   {
    "duration": 15,
    "start_time": "2024-02-17T13:02:21.103Z"
   },
   {
    "duration": 956,
    "start_time": "2024-02-17T13:02:21.119Z"
   },
   {
    "duration": 14,
    "start_time": "2024-02-17T13:02:22.076Z"
   },
   {
    "duration": 130,
    "start_time": "2024-02-17T13:02:22.093Z"
   },
   {
    "duration": 28,
    "start_time": "2024-02-17T13:02:22.225Z"
   },
   {
    "duration": 87,
    "start_time": "2024-02-17T13:02:22.254Z"
   },
   {
    "duration": 104,
    "start_time": "2024-02-17T13:02:22.343Z"
   },
   {
    "duration": 2,
    "start_time": "2024-02-17T13:02:22.448Z"
   },
   {
    "duration": 10,
    "start_time": "2024-02-17T13:02:22.452Z"
   },
   {
    "duration": 144,
    "start_time": "2024-02-17T13:02:22.464Z"
   },
   {
    "duration": 527,
    "start_time": "2024-02-17T13:02:22.610Z"
   },
   {
    "duration": 3,
    "start_time": "2024-02-17T13:02:23.138Z"
   },
   {
    "duration": 3,
    "start_time": "2024-02-17T13:02:23.144Z"
   },
   {
    "duration": 239,
    "start_time": "2024-02-17T13:02:23.148Z"
   },
   {
    "duration": 4,
    "start_time": "2024-02-17T13:02:23.389Z"
   },
   {
    "duration": 12,
    "start_time": "2024-02-17T13:02:23.394Z"
   },
   {
    "duration": 352,
    "start_time": "2024-02-17T13:02:23.407Z"
   },
   {
    "duration": 4,
    "start_time": "2024-02-17T13:02:23.761Z"
   },
   {
    "duration": 4,
    "start_time": "2024-02-17T13:02:23.767Z"
   },
   {
    "duration": 47,
    "start_time": "2024-02-17T13:02:23.772Z"
   },
   {
    "duration": 102,
    "start_time": "2024-02-17T13:02:23.820Z"
   },
   {
    "duration": 4,
    "start_time": "2024-02-17T13:02:23.924Z"
   },
   {
    "duration": 2130,
    "start_time": "2024-02-17T13:02:23.930Z"
   },
   {
    "duration": 3,
    "start_time": "2024-02-17T13:02:26.062Z"
   },
   {
    "duration": 10,
    "start_time": "2024-02-17T13:02:26.066Z"
   },
   {
    "duration": 0,
    "start_time": "2024-02-17T13:02:26.077Z"
   },
   {
    "duration": 4,
    "start_time": "2024-02-17T13:05:26.577Z"
   },
   {
    "duration": 7,
    "start_time": "2024-02-17T13:08:32.367Z"
   },
   {
    "duration": 3,
    "start_time": "2024-02-17T14:54:44.518Z"
   },
   {
    "duration": 1536,
    "start_time": "2024-02-17T14:54:44.523Z"
   },
   {
    "duration": 3,
    "start_time": "2024-02-17T14:54:46.061Z"
   },
   {
    "duration": 1248,
    "start_time": "2024-02-17T14:54:46.066Z"
   },
   {
    "duration": 18,
    "start_time": "2024-02-17T14:54:47.315Z"
   },
   {
    "duration": 95,
    "start_time": "2024-02-17T14:54:47.334Z"
   },
   {
    "duration": 34,
    "start_time": "2024-02-17T14:54:47.431Z"
   },
   {
    "duration": 68,
    "start_time": "2024-02-17T14:54:47.467Z"
   },
   {
    "duration": 143,
    "start_time": "2024-02-17T14:54:47.537Z"
   },
   {
    "duration": 2,
    "start_time": "2024-02-17T14:54:47.684Z"
   },
   {
    "duration": 7,
    "start_time": "2024-02-17T14:54:47.688Z"
   },
   {
    "duration": 157,
    "start_time": "2024-02-17T14:54:47.697Z"
   },
   {
    "duration": 559,
    "start_time": "2024-02-17T14:54:47.865Z"
   },
   {
    "duration": 2,
    "start_time": "2024-02-17T14:54:48.426Z"
   },
   {
    "duration": 3,
    "start_time": "2024-02-17T14:54:48.429Z"
   },
   {
    "duration": 243,
    "start_time": "2024-02-17T14:54:48.433Z"
   },
   {
    "duration": 4,
    "start_time": "2024-02-17T14:54:48.677Z"
   },
   {
    "duration": 3,
    "start_time": "2024-02-17T14:54:48.682Z"
   },
   {
    "duration": 245,
    "start_time": "2024-02-17T14:54:48.686Z"
   },
   {
    "duration": 5,
    "start_time": "2024-02-17T14:54:48.932Z"
   },
   {
    "duration": 7,
    "start_time": "2024-02-17T14:54:48.939Z"
   },
   {
    "duration": 55,
    "start_time": "2024-02-17T14:54:48.948Z"
   },
   {
    "duration": 132,
    "start_time": "2024-02-17T14:54:49.005Z"
   },
   {
    "duration": 3,
    "start_time": "2024-02-17T14:54:49.138Z"
   },
   {
    "duration": 2223,
    "start_time": "2024-02-17T14:54:49.143Z"
   },
   {
    "duration": 2,
    "start_time": "2024-02-17T14:54:51.368Z"
   },
   {
    "duration": 12,
    "start_time": "2024-02-17T14:54:51.371Z"
   },
   {
    "duration": 10,
    "start_time": "2024-02-17T14:54:51.385Z"
   },
   {
    "duration": 107,
    "start_time": "2024-02-17T14:54:51.397Z"
   },
   {
    "duration": 0,
    "start_time": "2024-02-17T14:54:51.505Z"
   },
   {
    "duration": 3,
    "start_time": "2024-02-17T15:08:27.523Z"
   },
   {
    "duration": 23,
    "start_time": "2024-02-17T15:08:27.528Z"
   },
   {
    "duration": 3,
    "start_time": "2024-02-17T15:08:27.552Z"
   },
   {
    "duration": 973,
    "start_time": "2024-02-17T15:08:27.556Z"
   },
   {
    "duration": 15,
    "start_time": "2024-02-17T15:08:28.531Z"
   },
   {
    "duration": 110,
    "start_time": "2024-02-17T15:08:28.547Z"
   },
   {
    "duration": 23,
    "start_time": "2024-02-17T15:08:28.658Z"
   },
   {
    "duration": 60,
    "start_time": "2024-02-17T15:08:28.682Z"
   },
   {
    "duration": 109,
    "start_time": "2024-02-17T15:08:28.744Z"
   },
   {
    "duration": 2,
    "start_time": "2024-02-17T15:08:28.855Z"
   },
   {
    "duration": 10,
    "start_time": "2024-02-17T15:08:28.865Z"
   },
   {
    "duration": 155,
    "start_time": "2024-02-17T15:08:28.877Z"
   },
   {
    "duration": 457,
    "start_time": "2024-02-17T15:08:29.034Z"
   },
   {
    "duration": 2,
    "start_time": "2024-02-17T15:08:29.494Z"
   },
   {
    "duration": 5,
    "start_time": "2024-02-17T15:08:29.498Z"
   },
   {
    "duration": 226,
    "start_time": "2024-02-17T15:08:29.504Z"
   },
   {
    "duration": 4,
    "start_time": "2024-02-17T15:08:29.731Z"
   },
   {
    "duration": 5,
    "start_time": "2024-02-17T15:08:29.736Z"
   },
   {
    "duration": 230,
    "start_time": "2024-02-17T15:08:29.742Z"
   },
   {
    "duration": 3,
    "start_time": "2024-02-17T15:08:29.974Z"
   },
   {
    "duration": 4,
    "start_time": "2024-02-17T15:08:29.978Z"
   },
   {
    "duration": 69,
    "start_time": "2024-02-17T15:08:29.983Z"
   },
   {
    "duration": 115,
    "start_time": "2024-02-17T15:08:30.054Z"
   },
   {
    "duration": 3,
    "start_time": "2024-02-17T15:08:30.170Z"
   },
   {
    "duration": 1961,
    "start_time": "2024-02-17T15:08:30.175Z"
   },
   {
    "duration": 3,
    "start_time": "2024-02-17T15:08:32.138Z"
   },
   {
    "duration": 6,
    "start_time": "2024-02-17T15:08:32.142Z"
   },
   {
    "duration": 6,
    "start_time": "2024-02-17T15:08:32.149Z"
   },
   {
    "duration": 1194,
    "start_time": "2024-02-17T15:08:32.171Z"
   },
   {
    "duration": 0,
    "start_time": "2024-02-17T15:08:33.367Z"
   },
   {
    "duration": 3,
    "start_time": "2024-02-17T15:09:06.934Z"
   },
   {
    "duration": 10,
    "start_time": "2024-02-17T15:09:06.939Z"
   },
   {
    "duration": 9,
    "start_time": "2024-02-17T15:09:06.951Z"
   },
   {
    "duration": 957,
    "start_time": "2024-02-17T15:09:06.961Z"
   },
   {
    "duration": 13,
    "start_time": "2024-02-17T15:09:07.920Z"
   },
   {
    "duration": 103,
    "start_time": "2024-02-17T15:09:07.935Z"
   },
   {
    "duration": 27,
    "start_time": "2024-02-17T15:09:08.039Z"
   },
   {
    "duration": 59,
    "start_time": "2024-02-17T15:09:08.068Z"
   },
   {
    "duration": 104,
    "start_time": "2024-02-17T15:09:08.129Z"
   },
   {
    "duration": 3,
    "start_time": "2024-02-17T15:09:08.234Z"
   },
   {
    "duration": 16,
    "start_time": "2024-02-17T15:09:08.238Z"
   },
   {
    "duration": 146,
    "start_time": "2024-02-17T15:09:08.255Z"
   },
   {
    "duration": 482,
    "start_time": "2024-02-17T15:09:08.403Z"
   },
   {
    "duration": 2,
    "start_time": "2024-02-17T15:09:08.889Z"
   },
   {
    "duration": 22,
    "start_time": "2024-02-17T15:09:08.893Z"
   },
   {
    "duration": 222,
    "start_time": "2024-02-17T15:09:08.917Z"
   },
   {
    "duration": 4,
    "start_time": "2024-02-17T15:09:09.140Z"
   },
   {
    "duration": 4,
    "start_time": "2024-02-17T15:09:09.145Z"
   },
   {
    "duration": 337,
    "start_time": "2024-02-17T15:09:09.150Z"
   },
   {
    "duration": 4,
    "start_time": "2024-02-17T15:09:09.489Z"
   },
   {
    "duration": 8,
    "start_time": "2024-02-17T15:09:09.494Z"
   },
   {
    "duration": 30,
    "start_time": "2024-02-17T15:09:09.504Z"
   },
   {
    "duration": 100,
    "start_time": "2024-02-17T15:09:09.535Z"
   },
   {
    "duration": 4,
    "start_time": "2024-02-17T15:09:09.636Z"
   },
   {
    "duration": 2003,
    "start_time": "2024-02-17T15:09:09.641Z"
   },
   {
    "duration": 2,
    "start_time": "2024-02-17T15:09:11.645Z"
   },
   {
    "duration": 4,
    "start_time": "2024-02-17T15:09:11.649Z"
   },
   {
    "duration": 11,
    "start_time": "2024-02-17T15:09:11.655Z"
   },
   {
    "duration": 111,
    "start_time": "2024-02-17T15:09:11.667Z"
   },
   {
    "duration": 0,
    "start_time": "2024-02-17T15:09:11.780Z"
   },
   {
    "duration": 11,
    "start_time": "2024-02-17T15:30:23.337Z"
   },
   {
    "duration": 2935,
    "start_time": "2024-02-17T15:33:08.783Z"
   },
   {
    "duration": 2066,
    "start_time": "2024-02-17T15:34:57.680Z"
   },
   {
    "duration": 2,
    "start_time": "2024-02-17T15:36:26.216Z"
   },
   {
    "duration": 30,
    "start_time": "2024-02-17T15:36:26.220Z"
   },
   {
    "duration": 2,
    "start_time": "2024-02-17T15:36:26.252Z"
   },
   {
    "duration": 972,
    "start_time": "2024-02-17T15:36:26.257Z"
   },
   {
    "duration": 14,
    "start_time": "2024-02-17T15:36:27.230Z"
   },
   {
    "duration": 108,
    "start_time": "2024-02-17T15:36:27.245Z"
   },
   {
    "duration": 17,
    "start_time": "2024-02-17T15:36:27.355Z"
   },
   {
    "duration": 63,
    "start_time": "2024-02-17T15:36:27.373Z"
   },
   {
    "duration": 106,
    "start_time": "2024-02-17T15:36:27.438Z"
   },
   {
    "duration": 2,
    "start_time": "2024-02-17T15:36:27.546Z"
   },
   {
    "duration": 18,
    "start_time": "2024-02-17T15:36:27.550Z"
   },
   {
    "duration": 160,
    "start_time": "2024-02-17T15:36:27.570Z"
   },
   {
    "duration": 349,
    "start_time": "2024-02-17T15:36:27.731Z"
   },
   {
    "duration": 4,
    "start_time": "2024-02-17T15:36:28.082Z"
   },
   {
    "duration": 13,
    "start_time": "2024-02-17T15:36:28.088Z"
   },
   {
    "duration": 227,
    "start_time": "2024-02-17T15:36:28.102Z"
   },
   {
    "duration": 3,
    "start_time": "2024-02-17T15:36:28.331Z"
   },
   {
    "duration": 3,
    "start_time": "2024-02-17T15:36:28.335Z"
   },
   {
    "duration": 209,
    "start_time": "2024-02-17T15:36:28.339Z"
   },
   {
    "duration": 3,
    "start_time": "2024-02-17T15:36:28.550Z"
   },
   {
    "duration": 2,
    "start_time": "2024-02-17T15:36:28.564Z"
   },
   {
    "duration": 24,
    "start_time": "2024-02-17T15:36:28.568Z"
   },
   {
    "duration": 81,
    "start_time": "2024-02-17T15:36:28.594Z"
   },
   {
    "duration": 3,
    "start_time": "2024-02-17T15:36:28.677Z"
   },
   {
    "duration": 1858,
    "start_time": "2024-02-17T15:36:28.682Z"
   },
   {
    "duration": 3,
    "start_time": "2024-02-17T15:36:30.541Z"
   },
   {
    "duration": 48,
    "start_time": "2024-02-17T15:36:30.545Z"
   },
   {
    "duration": 37,
    "start_time": "2024-02-17T15:36:30.596Z"
   },
   {
    "duration": 74,
    "start_time": "2024-02-17T15:36:30.635Z"
   },
   {
    "duration": 47,
    "start_time": "2024-02-17T15:36:30.710Z"
   },
   {
    "duration": 2114,
    "start_time": "2024-02-17T15:36:30.758Z"
   },
   {
    "duration": 23,
    "start_time": "2024-02-17T15:37:17.279Z"
   },
   {
    "duration": 22,
    "start_time": "2024-02-17T15:37:27.855Z"
   },
   {
    "duration": 2188,
    "start_time": "2024-02-17T15:37:32.873Z"
   },
   {
    "duration": 24,
    "start_time": "2024-02-17T15:38:24.596Z"
   },
   {
    "duration": 10,
    "start_time": "2024-02-17T15:39:18.066Z"
   },
   {
    "duration": 2679,
    "start_time": "2024-02-17T15:39:22.528Z"
   },
   {
    "duration": 1243,
    "start_time": "2024-02-17T15:42:14.468Z"
   },
   {
    "duration": 2630,
    "start_time": "2024-02-17T15:42:37.293Z"
   },
   {
    "duration": 86,
    "start_time": "2024-02-17T15:43:39.188Z"
   },
   {
    "duration": 4,
    "start_time": "2024-02-17T15:43:58.199Z"
   },
   {
    "duration": 4,
    "start_time": "2024-02-17T15:43:58.558Z"
   },
   {
    "duration": 591,
    "start_time": "2024-02-17T15:43:59.400Z"
   },
   {
    "duration": 7156,
    "start_time": "2024-02-17T15:45:44.280Z"
   },
   {
    "duration": 22,
    "start_time": "2024-02-17T15:45:51.438Z"
   },
   {
    "duration": 0,
    "start_time": "2024-02-17T15:45:51.462Z"
   },
   {
    "duration": 0,
    "start_time": "2024-02-17T15:45:51.463Z"
   },
   {
    "duration": 1,
    "start_time": "2024-02-17T15:45:51.464Z"
   },
   {
    "duration": 0,
    "start_time": "2024-02-17T15:45:51.466Z"
   },
   {
    "duration": 0,
    "start_time": "2024-02-17T15:45:51.467Z"
   },
   {
    "duration": 0,
    "start_time": "2024-02-17T15:45:51.468Z"
   },
   {
    "duration": 0,
    "start_time": "2024-02-17T15:45:51.469Z"
   },
   {
    "duration": 0,
    "start_time": "2024-02-17T15:45:51.469Z"
   },
   {
    "duration": 0,
    "start_time": "2024-02-17T15:45:51.470Z"
   },
   {
    "duration": 0,
    "start_time": "2024-02-17T15:45:51.471Z"
   },
   {
    "duration": 0,
    "start_time": "2024-02-17T15:45:51.472Z"
   },
   {
    "duration": 0,
    "start_time": "2024-02-17T15:45:51.473Z"
   },
   {
    "duration": 0,
    "start_time": "2024-02-17T15:45:51.474Z"
   },
   {
    "duration": 0,
    "start_time": "2024-02-17T15:45:51.475Z"
   },
   {
    "duration": 0,
    "start_time": "2024-02-17T15:45:51.476Z"
   },
   {
    "duration": 0,
    "start_time": "2024-02-17T15:45:51.476Z"
   },
   {
    "duration": 0,
    "start_time": "2024-02-17T15:45:51.477Z"
   },
   {
    "duration": 0,
    "start_time": "2024-02-17T15:45:51.478Z"
   },
   {
    "duration": 0,
    "start_time": "2024-02-17T15:45:51.479Z"
   },
   {
    "duration": 0,
    "start_time": "2024-02-17T15:45:51.480Z"
   },
   {
    "duration": 0,
    "start_time": "2024-02-17T15:45:51.481Z"
   },
   {
    "duration": 0,
    "start_time": "2024-02-17T15:45:51.482Z"
   },
   {
    "duration": 0,
    "start_time": "2024-02-17T15:45:51.483Z"
   },
   {
    "duration": 0,
    "start_time": "2024-02-17T15:45:51.484Z"
   },
   {
    "duration": 0,
    "start_time": "2024-02-17T15:45:51.485Z"
   },
   {
    "duration": 0,
    "start_time": "2024-02-17T15:45:51.486Z"
   },
   {
    "duration": 0,
    "start_time": "2024-02-17T15:45:51.486Z"
   },
   {
    "duration": 0,
    "start_time": "2024-02-17T15:45:51.487Z"
   },
   {
    "duration": 0,
    "start_time": "2024-02-17T15:45:51.488Z"
   },
   {
    "duration": 5202,
    "start_time": "2024-02-17T15:46:57.389Z"
   },
   {
    "duration": 20,
    "start_time": "2024-02-17T15:47:02.593Z"
   },
   {
    "duration": 11,
    "start_time": "2024-02-17T15:49:52.110Z"
   },
   {
    "duration": 5628,
    "start_time": "2024-02-17T15:50:25.557Z"
   },
   {
    "duration": 1346,
    "start_time": "2024-02-17T15:50:31.187Z"
   },
   {
    "duration": 2,
    "start_time": "2024-02-17T15:50:32.535Z"
   },
   {
    "duration": 1025,
    "start_time": "2024-02-17T15:50:32.539Z"
   },
   {
    "duration": 15,
    "start_time": "2024-02-17T15:50:33.566Z"
   },
   {
    "duration": 114,
    "start_time": "2024-02-17T15:50:33.583Z"
   },
   {
    "duration": 27,
    "start_time": "2024-02-17T15:50:33.699Z"
   },
   {
    "duration": 86,
    "start_time": "2024-02-17T15:50:33.727Z"
   },
   {
    "duration": 125,
    "start_time": "2024-02-17T15:50:33.814Z"
   },
   {
    "duration": 2,
    "start_time": "2024-02-17T15:50:33.940Z"
   },
   {
    "duration": 22,
    "start_time": "2024-02-17T15:50:33.944Z"
   },
   {
    "duration": 140,
    "start_time": "2024-02-17T15:50:33.967Z"
   },
   {
    "duration": 463,
    "start_time": "2024-02-17T15:50:34.109Z"
   },
   {
    "duration": 2,
    "start_time": "2024-02-17T15:50:34.575Z"
   },
   {
    "duration": 6,
    "start_time": "2024-02-17T15:50:34.578Z"
   },
   {
    "duration": 216,
    "start_time": "2024-02-17T15:50:34.585Z"
   },
   {
    "duration": 3,
    "start_time": "2024-02-17T15:50:34.803Z"
   },
   {
    "duration": 10,
    "start_time": "2024-02-17T15:50:34.808Z"
   },
   {
    "duration": 283,
    "start_time": "2024-02-17T15:50:34.819Z"
   },
   {
    "duration": 4,
    "start_time": "2024-02-17T15:50:35.103Z"
   },
   {
    "duration": 10,
    "start_time": "2024-02-17T15:50:35.108Z"
   },
   {
    "duration": 35,
    "start_time": "2024-02-17T15:50:35.119Z"
   },
   {
    "duration": 82,
    "start_time": "2024-02-17T15:50:35.165Z"
   },
   {
    "duration": 4,
    "start_time": "2024-02-17T15:50:35.249Z"
   },
   {
    "duration": 2428,
    "start_time": "2024-02-17T15:50:35.254Z"
   },
   {
    "duration": 3,
    "start_time": "2024-02-17T15:50:37.683Z"
   },
   {
    "duration": 3,
    "start_time": "2024-02-17T15:50:37.688Z"
   },
   {
    "duration": 303,
    "start_time": "2024-02-17T15:50:37.693Z"
   },
   {
    "duration": 0,
    "start_time": "2024-02-17T15:50:37.998Z"
   },
   {
    "duration": 0,
    "start_time": "2024-02-17T15:50:37.999Z"
   },
   {
    "duration": 0,
    "start_time": "2024-02-17T15:50:38.001Z"
   },
   {
    "duration": 0,
    "start_time": "2024-02-17T15:50:38.002Z"
   },
   {
    "duration": 3,
    "start_time": "2024-02-17T15:51:28.237Z"
   },
   {
    "duration": 3,
    "start_time": "2024-02-17T15:51:28.669Z"
   },
   {
    "duration": 12,
    "start_time": "2024-02-17T15:51:29.490Z"
   },
   {
    "duration": 12,
    "start_time": "2024-02-17T15:51:35.762Z"
   },
   {
    "duration": 13,
    "start_time": "2024-02-17T15:51:45.728Z"
   },
   {
    "duration": 8131,
    "start_time": "2024-02-17T15:51:57.490Z"
   },
   {
    "duration": 1263,
    "start_time": "2024-02-17T15:52:05.624Z"
   },
   {
    "duration": 3,
    "start_time": "2024-02-17T15:52:06.888Z"
   },
   {
    "duration": 1045,
    "start_time": "2024-02-17T15:52:06.892Z"
   },
   {
    "duration": 16,
    "start_time": "2024-02-17T15:52:07.940Z"
   },
   {
    "duration": 114,
    "start_time": "2024-02-17T15:52:07.957Z"
   },
   {
    "duration": 24,
    "start_time": "2024-02-17T15:52:08.073Z"
   },
   {
    "duration": 81,
    "start_time": "2024-02-17T15:52:08.099Z"
   },
   {
    "duration": 139,
    "start_time": "2024-02-17T15:52:08.181Z"
   },
   {
    "duration": 2,
    "start_time": "2024-02-17T15:52:08.322Z"
   },
   {
    "duration": 13,
    "start_time": "2024-02-17T15:52:08.326Z"
   },
   {
    "duration": 155,
    "start_time": "2024-02-17T15:52:08.341Z"
   },
   {
    "duration": 476,
    "start_time": "2024-02-17T15:52:08.498Z"
   },
   {
    "duration": 3,
    "start_time": "2024-02-17T15:52:08.978Z"
   },
   {
    "duration": 11,
    "start_time": "2024-02-17T15:52:08.982Z"
   },
   {
    "duration": 226,
    "start_time": "2024-02-17T15:52:08.995Z"
   },
   {
    "duration": 3,
    "start_time": "2024-02-17T15:52:09.223Z"
   },
   {
    "duration": 4,
    "start_time": "2024-02-17T15:52:09.227Z"
   },
   {
    "duration": 302,
    "start_time": "2024-02-17T15:52:09.232Z"
   },
   {
    "duration": 3,
    "start_time": "2024-02-17T15:52:09.536Z"
   },
   {
    "duration": 16,
    "start_time": "2024-02-17T15:52:09.541Z"
   },
   {
    "duration": 35,
    "start_time": "2024-02-17T15:52:09.559Z"
   },
   {
    "duration": 95,
    "start_time": "2024-02-17T15:52:09.596Z"
   },
   {
    "duration": 4,
    "start_time": "2024-02-17T15:52:09.692Z"
   },
   {
    "duration": 1943,
    "start_time": "2024-02-17T15:52:09.698Z"
   },
   {
    "duration": 3,
    "start_time": "2024-02-17T15:52:11.642Z"
   },
   {
    "duration": 123,
    "start_time": "2024-02-17T15:52:11.647Z"
   },
   {
    "duration": 0,
    "start_time": "2024-02-17T15:52:11.772Z"
   },
   {
    "duration": 0,
    "start_time": "2024-02-17T15:52:11.773Z"
   },
   {
    "duration": 0,
    "start_time": "2024-02-17T15:52:11.774Z"
   },
   {
    "duration": 0,
    "start_time": "2024-02-17T15:52:11.775Z"
   },
   {
    "duration": 11,
    "start_time": "2024-02-17T15:54:25.882Z"
   },
   {
    "duration": 7856,
    "start_time": "2024-02-17T15:54:33.989Z"
   },
   {
    "duration": 5,
    "start_time": "2024-02-17T15:54:41.847Z"
   },
   {
    "duration": 12,
    "start_time": "2024-02-17T15:54:41.853Z"
   },
   {
    "duration": 1045,
    "start_time": "2024-02-17T15:54:41.866Z"
   },
   {
    "duration": 15,
    "start_time": "2024-02-17T15:54:42.913Z"
   },
   {
    "duration": 105,
    "start_time": "2024-02-17T15:54:42.930Z"
   },
   {
    "duration": 18,
    "start_time": "2024-02-17T15:54:43.037Z"
   },
   {
    "duration": 63,
    "start_time": "2024-02-17T15:54:43.065Z"
   },
   {
    "duration": 102,
    "start_time": "2024-02-17T15:54:43.130Z"
   },
   {
    "duration": 2,
    "start_time": "2024-02-17T15:54:43.233Z"
   },
   {
    "duration": 8,
    "start_time": "2024-02-17T15:54:43.236Z"
   },
   {
    "duration": 136,
    "start_time": "2024-02-17T15:54:43.245Z"
   },
   {
    "duration": 361,
    "start_time": "2024-02-17T15:54:43.382Z"
   },
   {
    "duration": 3,
    "start_time": "2024-02-17T15:54:43.746Z"
   },
   {
    "duration": 23,
    "start_time": "2024-02-17T15:54:43.750Z"
   },
   {
    "duration": 220,
    "start_time": "2024-02-17T15:54:43.774Z"
   },
   {
    "duration": 4,
    "start_time": "2024-02-17T15:54:43.995Z"
   },
   {
    "duration": 3,
    "start_time": "2024-02-17T15:54:44.001Z"
   },
   {
    "duration": 216,
    "start_time": "2024-02-17T15:54:44.005Z"
   },
   {
    "duration": 3,
    "start_time": "2024-02-17T15:54:44.223Z"
   },
   {
    "duration": 2,
    "start_time": "2024-02-17T15:54:44.228Z"
   },
   {
    "duration": 37,
    "start_time": "2024-02-17T15:54:44.232Z"
   },
   {
    "duration": 76,
    "start_time": "2024-02-17T15:54:44.270Z"
   },
   {
    "duration": 4,
    "start_time": "2024-02-17T15:54:44.348Z"
   },
   {
    "duration": 1863,
    "start_time": "2024-02-17T15:54:44.365Z"
   },
   {
    "duration": 3,
    "start_time": "2024-02-17T15:54:46.229Z"
   },
   {
    "duration": 15,
    "start_time": "2024-02-17T15:54:46.234Z"
   },
   {
    "duration": 0,
    "start_time": "2024-02-17T15:54:46.251Z"
   },
   {
    "duration": 0,
    "start_time": "2024-02-17T15:54:46.252Z"
   },
   {
    "duration": 0,
    "start_time": "2024-02-17T15:54:46.264Z"
   },
   {
    "duration": 0,
    "start_time": "2024-02-17T15:54:46.265Z"
   },
   {
    "duration": 5,
    "start_time": "2024-02-17T15:54:53.079Z"
   },
   {
    "duration": 4,
    "start_time": "2024-02-17T15:54:56.993Z"
   },
   {
    "duration": 604,
    "start_time": "2024-02-17T15:54:57.421Z"
   },
   {
    "duration": 14,
    "start_time": "2024-02-17T16:02:21.287Z"
   },
   {
    "duration": 5,
    "start_time": "2024-02-17T16:02:28.672Z"
   },
   {
    "duration": 3,
    "start_time": "2024-02-17T16:02:30.148Z"
   },
   {
    "duration": 653,
    "start_time": "2024-02-17T16:02:30.662Z"
   },
   {
    "duration": 5,
    "start_time": "2024-02-17T16:03:48.016Z"
   },
   {
    "duration": 3,
    "start_time": "2024-02-17T16:03:48.869Z"
   },
   {
    "duration": 383,
    "start_time": "2024-02-17T16:03:49.595Z"
   },
   {
    "duration": 12,
    "start_time": "2024-02-17T16:06:34.878Z"
   },
   {
    "duration": 5,
    "start_time": "2024-02-17T16:06:38.617Z"
   },
   {
    "duration": 4,
    "start_time": "2024-02-17T16:06:39.873Z"
   },
   {
    "duration": 2,
    "start_time": "2024-02-17T16:07:08.953Z"
   },
   {
    "duration": 6,
    "start_time": "2024-02-17T16:07:08.958Z"
   },
   {
    "duration": 3,
    "start_time": "2024-02-17T16:07:08.966Z"
   },
   {
    "duration": 974,
    "start_time": "2024-02-17T16:07:08.970Z"
   },
   {
    "duration": 19,
    "start_time": "2024-02-17T16:07:09.946Z"
   },
   {
    "duration": 107,
    "start_time": "2024-02-17T16:07:09.966Z"
   },
   {
    "duration": 16,
    "start_time": "2024-02-17T16:07:10.075Z"
   },
   {
    "duration": 74,
    "start_time": "2024-02-17T16:07:10.092Z"
   },
   {
    "duration": 103,
    "start_time": "2024-02-17T16:07:10.167Z"
   },
   {
    "duration": 2,
    "start_time": "2024-02-17T16:07:10.272Z"
   },
   {
    "duration": 6,
    "start_time": "2024-02-17T16:07:10.276Z"
   },
   {
    "duration": 137,
    "start_time": "2024-02-17T16:07:10.283Z"
   },
   {
    "duration": 344,
    "start_time": "2024-02-17T16:07:10.422Z"
   },
   {
    "duration": 2,
    "start_time": "2024-02-17T16:07:10.769Z"
   },
   {
    "duration": 12,
    "start_time": "2024-02-17T16:07:10.773Z"
   },
   {
    "duration": 317,
    "start_time": "2024-02-17T16:07:10.786Z"
   },
   {
    "duration": 5,
    "start_time": "2024-02-17T16:07:11.105Z"
   },
   {
    "duration": 3,
    "start_time": "2024-02-17T16:07:11.112Z"
   },
   {
    "duration": 329,
    "start_time": "2024-02-17T16:07:11.117Z"
   },
   {
    "duration": 3,
    "start_time": "2024-02-17T16:07:11.448Z"
   },
   {
    "duration": 12,
    "start_time": "2024-02-17T16:07:11.453Z"
   },
   {
    "duration": 22,
    "start_time": "2024-02-17T16:07:11.466Z"
   },
   {
    "duration": 88,
    "start_time": "2024-02-17T16:07:11.489Z"
   },
   {
    "duration": 3,
    "start_time": "2024-02-17T16:07:11.579Z"
   },
   {
    "duration": 1838,
    "start_time": "2024-02-17T16:07:11.583Z"
   },
   {
    "duration": 3,
    "start_time": "2024-02-17T16:07:13.422Z"
   },
   {
    "duration": 5,
    "start_time": "2024-02-17T16:07:13.427Z"
   },
   {
    "duration": 5,
    "start_time": "2024-02-17T16:07:13.433Z"
   },
   {
    "duration": 409,
    "start_time": "2024-02-17T16:07:13.440Z"
   },
   {
    "duration": 0,
    "start_time": "2024-02-17T16:07:13.851Z"
   },
   {
    "duration": 0,
    "start_time": "2024-02-17T16:07:13.852Z"
   },
   {
    "duration": 4,
    "start_time": "2024-02-17T16:09:11.652Z"
   },
   {
    "duration": 398,
    "start_time": "2024-02-17T16:09:11.811Z"
   },
   {
    "duration": 5410,
    "start_time": "2024-02-17T16:09:35.965Z"
   },
   {
    "duration": 5,
    "start_time": "2024-02-17T16:10:53.937Z"
   },
   {
    "duration": 3,
    "start_time": "2024-02-17T16:10:54.398Z"
   },
   {
    "duration": 4401,
    "start_time": "2024-02-17T16:10:55.279Z"
   },
   {
    "duration": 324,
    "start_time": "2024-02-17T16:11:17.996Z"
   },
   {
    "duration": 5,
    "start_time": "2024-02-17T16:11:34.390Z"
   },
   {
    "duration": 3,
    "start_time": "2024-02-17T16:11:34.665Z"
   },
   {
    "duration": 427,
    "start_time": "2024-02-17T16:11:34.982Z"
   },
   {
    "duration": 7,
    "start_time": "2024-02-17T16:12:55.570Z"
   },
   {
    "duration": 3,
    "start_time": "2024-02-17T16:12:55.874Z"
   },
   {
    "duration": 430,
    "start_time": "2024-02-17T16:12:56.269Z"
   },
   {
    "duration": 7449,
    "start_time": "2024-02-17T16:13:11.334Z"
   },
   {
    "duration": 1269,
    "start_time": "2024-02-17T16:13:18.785Z"
   },
   {
    "duration": 3,
    "start_time": "2024-02-17T16:13:20.055Z"
   },
   {
    "duration": 985,
    "start_time": "2024-02-17T16:13:20.065Z"
   },
   {
    "duration": 23,
    "start_time": "2024-02-17T16:13:21.052Z"
   },
   {
    "duration": 119,
    "start_time": "2024-02-17T16:13:21.077Z"
   },
   {
    "duration": 26,
    "start_time": "2024-02-17T16:13:21.197Z"
   },
   {
    "duration": 93,
    "start_time": "2024-02-17T16:13:21.224Z"
   },
   {
    "duration": 130,
    "start_time": "2024-02-17T16:13:21.319Z"
   },
   {
    "duration": 2,
    "start_time": "2024-02-17T16:13:21.451Z"
   },
   {
    "duration": 20,
    "start_time": "2024-02-17T16:13:21.455Z"
   },
   {
    "duration": 131,
    "start_time": "2024-02-17T16:13:21.477Z"
   },
   {
    "duration": 445,
    "start_time": "2024-02-17T16:13:21.610Z"
   },
   {
    "duration": 2,
    "start_time": "2024-02-17T16:13:22.056Z"
   },
   {
    "duration": 2,
    "start_time": "2024-02-17T16:13:22.065Z"
   },
   {
    "duration": 214,
    "start_time": "2024-02-17T16:13:22.069Z"
   },
   {
    "duration": 4,
    "start_time": "2024-02-17T16:13:22.284Z"
   },
   {
    "duration": 3,
    "start_time": "2024-02-17T16:13:22.289Z"
   },
   {
    "duration": 289,
    "start_time": "2024-02-17T16:13:22.294Z"
   },
   {
    "duration": 3,
    "start_time": "2024-02-17T16:13:22.585Z"
   },
   {
    "duration": 18,
    "start_time": "2024-02-17T16:13:22.590Z"
   },
   {
    "duration": 36,
    "start_time": "2024-02-17T16:13:22.610Z"
   },
   {
    "duration": 84,
    "start_time": "2024-02-17T16:13:22.648Z"
   },
   {
    "duration": 3,
    "start_time": "2024-02-17T16:13:22.734Z"
   },
   {
    "duration": 1880,
    "start_time": "2024-02-17T16:13:22.739Z"
   },
   {
    "duration": 2,
    "start_time": "2024-02-17T16:13:24.621Z"
   },
   {
    "duration": 5,
    "start_time": "2024-02-17T16:13:24.625Z"
   },
   {
    "duration": 4,
    "start_time": "2024-02-17T16:13:24.633Z"
   },
   {
    "duration": 586,
    "start_time": "2024-02-17T16:13:24.638Z"
   },
   {
    "duration": 0,
    "start_time": "2024-02-17T16:13:25.226Z"
   },
   {
    "duration": 0,
    "start_time": "2024-02-17T16:13:25.227Z"
   },
   {
    "duration": 9,
    "start_time": "2024-02-17T16:16:02.185Z"
   },
   {
    "duration": 8178,
    "start_time": "2024-02-17T16:18:11.729Z"
   },
   {
    "duration": 5,
    "start_time": "2024-02-17T16:18:19.909Z"
   },
   {
    "duration": 15,
    "start_time": "2024-02-17T16:18:19.915Z"
   },
   {
    "duration": 1013,
    "start_time": "2024-02-17T16:18:19.931Z"
   },
   {
    "duration": 14,
    "start_time": "2024-02-17T16:18:20.947Z"
   },
   {
    "duration": 106,
    "start_time": "2024-02-17T16:18:20.965Z"
   },
   {
    "duration": 15,
    "start_time": "2024-02-17T16:18:21.072Z"
   },
   {
    "duration": 83,
    "start_time": "2024-02-17T16:18:21.089Z"
   },
   {
    "duration": 101,
    "start_time": "2024-02-17T16:18:21.173Z"
   },
   {
    "duration": 2,
    "start_time": "2024-02-17T16:18:21.276Z"
   },
   {
    "duration": 7,
    "start_time": "2024-02-17T16:18:21.280Z"
   },
   {
    "duration": 134,
    "start_time": "2024-02-17T16:18:21.288Z"
   },
   {
    "duration": 393,
    "start_time": "2024-02-17T16:18:21.424Z"
   },
   {
    "duration": 2,
    "start_time": "2024-02-17T16:18:21.821Z"
   },
   {
    "duration": 3,
    "start_time": "2024-02-17T16:18:21.825Z"
   },
   {
    "duration": 240,
    "start_time": "2024-02-17T16:18:21.829Z"
   },
   {
    "duration": 4,
    "start_time": "2024-02-17T16:18:22.071Z"
   },
   {
    "duration": 4,
    "start_time": "2024-02-17T16:18:22.076Z"
   },
   {
    "duration": 210,
    "start_time": "2024-02-17T16:18:22.082Z"
   },
   {
    "duration": 3,
    "start_time": "2024-02-17T16:18:22.294Z"
   },
   {
    "duration": 11,
    "start_time": "2024-02-17T16:18:22.299Z"
   },
   {
    "duration": 24,
    "start_time": "2024-02-17T16:18:22.312Z"
   },
   {
    "duration": 97,
    "start_time": "2024-02-17T16:18:22.337Z"
   },
   {
    "duration": 4,
    "start_time": "2024-02-17T16:18:22.435Z"
   },
   {
    "duration": 2574,
    "start_time": "2024-02-17T16:18:22.440Z"
   },
   {
    "duration": 14,
    "start_time": "2024-02-17T16:18:25.016Z"
   },
   {
    "duration": 0,
    "start_time": "2024-02-17T16:18:25.031Z"
   },
   {
    "duration": 0,
    "start_time": "2024-02-17T16:18:25.032Z"
   },
   {
    "duration": 0,
    "start_time": "2024-02-17T16:18:25.034Z"
   },
   {
    "duration": 0,
    "start_time": "2024-02-17T16:18:25.036Z"
   },
   {
    "duration": 0,
    "start_time": "2024-02-17T16:18:25.037Z"
   },
   {
    "duration": 0,
    "start_time": "2024-02-17T16:18:25.038Z"
   },
   {
    "duration": 3,
    "start_time": "2024-02-17T16:18:35.191Z"
   },
   {
    "duration": 2,
    "start_time": "2024-02-17T16:18:35.893Z"
   },
   {
    "duration": 6,
    "start_time": "2024-02-17T16:18:36.816Z"
   },
   {
    "duration": 3,
    "start_time": "2024-02-17T16:18:37.909Z"
   },
   {
    "duration": 1221,
    "start_time": "2024-02-17T16:18:38.865Z"
   },
   {
    "duration": 7360,
    "start_time": "2024-02-17T16:20:43.316Z"
   },
   {
    "duration": 5,
    "start_time": "2024-02-17T16:20:50.678Z"
   },
   {
    "duration": 6,
    "start_time": "2024-02-17T16:20:50.684Z"
   },
   {
    "duration": 942,
    "start_time": "2024-02-17T16:20:50.691Z"
   },
   {
    "duration": 13,
    "start_time": "2024-02-17T16:20:51.636Z"
   },
   {
    "duration": 108,
    "start_time": "2024-02-17T16:20:51.651Z"
   },
   {
    "duration": 16,
    "start_time": "2024-02-17T16:20:51.761Z"
   },
   {
    "duration": 64,
    "start_time": "2024-02-17T16:20:51.779Z"
   },
   {
    "duration": 127,
    "start_time": "2024-02-17T16:20:51.844Z"
   },
   {
    "duration": 2,
    "start_time": "2024-02-17T16:20:51.973Z"
   },
   {
    "duration": 6,
    "start_time": "2024-02-17T16:20:51.976Z"
   },
   {
    "duration": 143,
    "start_time": "2024-02-17T16:20:51.983Z"
   },
   {
    "duration": 360,
    "start_time": "2024-02-17T16:20:52.127Z"
   },
   {
    "duration": 3,
    "start_time": "2024-02-17T16:20:52.489Z"
   },
   {
    "duration": 4,
    "start_time": "2024-02-17T16:20:52.493Z"
   },
   {
    "duration": 212,
    "start_time": "2024-02-17T16:20:52.498Z"
   },
   {
    "duration": 3,
    "start_time": "2024-02-17T16:20:52.712Z"
   },
   {
    "duration": 5,
    "start_time": "2024-02-17T16:20:52.717Z"
   },
   {
    "duration": 328,
    "start_time": "2024-02-17T16:20:52.723Z"
   },
   {
    "duration": 4,
    "start_time": "2024-02-17T16:20:53.052Z"
   },
   {
    "duration": 3,
    "start_time": "2024-02-17T16:20:53.065Z"
   },
   {
    "duration": 22,
    "start_time": "2024-02-17T16:20:53.070Z"
   },
   {
    "duration": 89,
    "start_time": "2024-02-17T16:20:53.094Z"
   },
   {
    "duration": 3,
    "start_time": "2024-02-17T16:20:53.185Z"
   },
   {
    "duration": 1937,
    "start_time": "2024-02-17T16:20:53.189Z"
   },
   {
    "duration": 2,
    "start_time": "2024-02-17T16:20:55.128Z"
   },
   {
    "duration": 3,
    "start_time": "2024-02-17T16:20:55.132Z"
   },
   {
    "duration": 7,
    "start_time": "2024-02-17T16:20:55.136Z"
   },
   {
    "duration": 22,
    "start_time": "2024-02-17T16:20:55.144Z"
   },
   {
    "duration": 444,
    "start_time": "2024-02-17T16:20:55.168Z"
   },
   {
    "duration": 0,
    "start_time": "2024-02-17T16:20:55.615Z"
   },
   {
    "duration": 0,
    "start_time": "2024-02-17T16:20:55.616Z"
   },
   {
    "duration": 3,
    "start_time": "2024-02-17T16:33:23.303Z"
   },
   {
    "duration": 2919,
    "start_time": "2024-02-17T16:33:33.340Z"
   },
   {
    "duration": 2813,
    "start_time": "2024-02-17T16:35:07.135Z"
   },
   {
    "duration": 2666,
    "start_time": "2024-02-17T16:35:43.429Z"
   },
   {
    "duration": 1369,
    "start_time": "2024-02-17T16:37:54.981Z"
   },
   {
    "duration": 104,
    "start_time": "2024-02-17T16:38:20.935Z"
   },
   {
    "duration": 1360,
    "start_time": "2024-02-17T16:38:30.497Z"
   },
   {
    "duration": 127,
    "start_time": "2024-02-17T16:38:51.532Z"
   },
   {
    "duration": 1541,
    "start_time": "2024-02-17T16:39:06.449Z"
   },
   {
    "duration": 147,
    "start_time": "2024-02-17T16:39:31.952Z"
   },
   {
    "duration": 7301,
    "start_time": "2024-02-17T16:42:29.432Z"
   },
   {
    "duration": 1306,
    "start_time": "2024-02-17T16:42:36.736Z"
   },
   {
    "duration": 3,
    "start_time": "2024-02-17T16:42:38.043Z"
   },
   {
    "duration": 1040,
    "start_time": "2024-02-17T16:42:38.047Z"
   },
   {
    "duration": 17,
    "start_time": "2024-02-17T16:42:39.089Z"
   },
   {
    "duration": 105,
    "start_time": "2024-02-17T16:42:39.108Z"
   },
   {
    "duration": 23,
    "start_time": "2024-02-17T16:42:39.214Z"
   },
   {
    "duration": 81,
    "start_time": "2024-02-17T16:42:39.239Z"
   },
   {
    "duration": 145,
    "start_time": "2024-02-17T16:42:39.321Z"
   },
   {
    "duration": 3,
    "start_time": "2024-02-17T16:42:39.467Z"
   },
   {
    "duration": 5,
    "start_time": "2024-02-17T16:42:39.472Z"
   },
   {
    "duration": 173,
    "start_time": "2024-02-17T16:42:39.478Z"
   },
   {
    "duration": 431,
    "start_time": "2024-02-17T16:42:39.652Z"
   },
   {
    "duration": 2,
    "start_time": "2024-02-17T16:42:40.085Z"
   },
   {
    "duration": 11,
    "start_time": "2024-02-17T16:42:40.088Z"
   },
   {
    "duration": 200,
    "start_time": "2024-02-17T16:42:40.101Z"
   },
   {
    "duration": 3,
    "start_time": "2024-02-17T16:42:40.302Z"
   },
   {
    "duration": 5,
    "start_time": "2024-02-17T16:42:40.307Z"
   },
   {
    "duration": 277,
    "start_time": "2024-02-17T16:42:40.313Z"
   },
   {
    "duration": 3,
    "start_time": "2024-02-17T16:42:40.592Z"
   },
   {
    "duration": 10,
    "start_time": "2024-02-17T16:42:40.597Z"
   },
   {
    "duration": 39,
    "start_time": "2024-02-17T16:42:40.608Z"
   },
   {
    "duration": 96,
    "start_time": "2024-02-17T16:42:40.649Z"
   },
   {
    "duration": 3,
    "start_time": "2024-02-17T16:42:40.747Z"
   },
   {
    "duration": 1938,
    "start_time": "2024-02-17T16:42:40.752Z"
   },
   {
    "duration": 3,
    "start_time": "2024-02-17T16:42:42.691Z"
   },
   {
    "duration": 4,
    "start_time": "2024-02-17T16:42:42.696Z"
   },
   {
    "duration": 6,
    "start_time": "2024-02-17T16:42:42.701Z"
   },
   {
    "duration": 15,
    "start_time": "2024-02-17T16:42:42.708Z"
   },
   {
    "duration": 4,
    "start_time": "2024-02-17T16:42:42.724Z"
   },
   {
    "duration": 7,
    "start_time": "2024-02-17T16:42:42.729Z"
   },
   {
    "duration": 3,
    "start_time": "2024-02-17T16:42:42.737Z"
   },
   {
    "duration": 240,
    "start_time": "2024-02-17T16:42:42.741Z"
   },
   {
    "duration": 2666,
    "start_time": "2024-02-17T16:42:51.796Z"
   },
   {
    "duration": 130,
    "start_time": "2024-02-17T16:45:13.590Z"
   },
   {
    "duration": 2194,
    "start_time": "2024-02-17T16:45:18.526Z"
   },
   {
    "duration": 12,
    "start_time": "2024-02-17T16:47:12.827Z"
   },
   {
    "duration": 13,
    "start_time": "2024-02-17T16:48:56.830Z"
   },
   {
    "duration": 7412,
    "start_time": "2024-02-17T16:49:08.364Z"
   },
   {
    "duration": 1295,
    "start_time": "2024-02-17T16:49:15.778Z"
   },
   {
    "duration": 3,
    "start_time": "2024-02-17T16:49:17.074Z"
   },
   {
    "duration": 1018,
    "start_time": "2024-02-17T16:49:17.078Z"
   },
   {
    "duration": 16,
    "start_time": "2024-02-17T16:49:18.098Z"
   },
   {
    "duration": 103,
    "start_time": "2024-02-17T16:49:18.115Z"
   },
   {
    "duration": 22,
    "start_time": "2024-02-17T16:49:18.220Z"
   },
   {
    "duration": 76,
    "start_time": "2024-02-17T16:49:18.243Z"
   },
   {
    "duration": 126,
    "start_time": "2024-02-17T16:49:18.320Z"
   },
   {
    "duration": 3,
    "start_time": "2024-02-17T16:49:18.448Z"
   },
   {
    "duration": 5,
    "start_time": "2024-02-17T16:49:18.465Z"
   },
   {
    "duration": 140,
    "start_time": "2024-02-17T16:49:18.471Z"
   },
   {
    "duration": 481,
    "start_time": "2024-02-17T16:49:18.612Z"
   },
   {
    "duration": 3,
    "start_time": "2024-02-17T16:49:19.094Z"
   },
   {
    "duration": 5,
    "start_time": "2024-02-17T16:49:19.098Z"
   },
   {
    "duration": 238,
    "start_time": "2024-02-17T16:49:19.104Z"
   },
   {
    "duration": 4,
    "start_time": "2024-02-17T16:49:19.343Z"
   },
   {
    "duration": 6,
    "start_time": "2024-02-17T16:49:19.348Z"
   },
   {
    "duration": 265,
    "start_time": "2024-02-17T16:49:19.364Z"
   },
   {
    "duration": 4,
    "start_time": "2024-02-17T16:49:19.631Z"
   },
   {
    "duration": 5,
    "start_time": "2024-02-17T16:49:19.636Z"
   },
   {
    "duration": 43,
    "start_time": "2024-02-17T16:49:19.642Z"
   },
   {
    "duration": 85,
    "start_time": "2024-02-17T16:49:19.687Z"
   },
   {
    "duration": 4,
    "start_time": "2024-02-17T16:49:19.774Z"
   },
   {
    "duration": 1829,
    "start_time": "2024-02-17T16:49:19.780Z"
   },
   {
    "duration": 3,
    "start_time": "2024-02-17T16:49:21.610Z"
   },
   {
    "duration": 12,
    "start_time": "2024-02-17T16:49:21.614Z"
   },
   {
    "duration": 6,
    "start_time": "2024-02-17T16:49:21.629Z"
   },
   {
    "duration": 11,
    "start_time": "2024-02-17T16:49:21.636Z"
   },
   {
    "duration": 16,
    "start_time": "2024-02-17T16:49:21.649Z"
   },
   {
    "duration": 130,
    "start_time": "2024-02-17T16:49:21.666Z"
   },
   {
    "duration": 0,
    "start_time": "2024-02-17T16:49:21.798Z"
   },
   {
    "duration": 0,
    "start_time": "2024-02-17T16:49:21.800Z"
   },
   {
    "duration": 0,
    "start_time": "2024-02-17T16:49:21.801Z"
   },
   {
    "duration": 125,
    "start_time": "2024-02-17T16:52:28.092Z"
   },
   {
    "duration": 2712,
    "start_time": "2024-02-17T16:52:46.689Z"
   },
   {
    "duration": 2790,
    "start_time": "2024-02-17T16:53:11.591Z"
   },
   {
    "duration": 7410,
    "start_time": "2024-02-17T17:23:48.048Z"
   },
   {
    "duration": 1382,
    "start_time": "2024-02-17T17:23:55.460Z"
   },
   {
    "duration": 2,
    "start_time": "2024-02-17T17:23:56.844Z"
   },
   {
    "duration": 1010,
    "start_time": "2024-02-17T17:23:56.848Z"
   },
   {
    "duration": 18,
    "start_time": "2024-02-17T17:23:57.859Z"
   },
   {
    "duration": 105,
    "start_time": "2024-02-17T17:23:57.878Z"
   },
   {
    "duration": 25,
    "start_time": "2024-02-17T17:23:57.984Z"
   },
   {
    "duration": 83,
    "start_time": "2024-02-17T17:23:58.010Z"
   },
   {
    "duration": 129,
    "start_time": "2024-02-17T17:23:58.095Z"
   },
   {
    "duration": 2,
    "start_time": "2024-02-17T17:23:58.227Z"
   },
   {
    "duration": 7,
    "start_time": "2024-02-17T17:23:58.230Z"
   },
   {
    "duration": 153,
    "start_time": "2024-02-17T17:23:58.238Z"
   },
   {
    "duration": 435,
    "start_time": "2024-02-17T17:23:58.393Z"
   },
   {
    "duration": 2,
    "start_time": "2024-02-17T17:23:58.830Z"
   },
   {
    "duration": 3,
    "start_time": "2024-02-17T17:23:58.834Z"
   },
   {
    "duration": 254,
    "start_time": "2024-02-17T17:23:58.838Z"
   },
   {
    "duration": 3,
    "start_time": "2024-02-17T17:23:59.094Z"
   },
   {
    "duration": 2,
    "start_time": "2024-02-17T17:23:59.099Z"
   },
   {
    "duration": 288,
    "start_time": "2024-02-17T17:23:59.103Z"
   },
   {
    "duration": 3,
    "start_time": "2024-02-17T17:23:59.393Z"
   },
   {
    "duration": 15,
    "start_time": "2024-02-17T17:23:59.398Z"
   },
   {
    "duration": 34,
    "start_time": "2024-02-17T17:23:59.414Z"
   },
   {
    "duration": 87,
    "start_time": "2024-02-17T17:23:59.450Z"
   },
   {
    "duration": 4,
    "start_time": "2024-02-17T17:23:59.539Z"
   },
   {
    "duration": 1900,
    "start_time": "2024-02-17T17:23:59.544Z"
   },
   {
    "duration": 2,
    "start_time": "2024-02-17T17:24:01.446Z"
   },
   {
    "duration": 39,
    "start_time": "2024-02-17T17:24:01.449Z"
   },
   {
    "duration": 66,
    "start_time": "2024-02-17T17:24:01.492Z"
   },
   {
    "duration": 118,
    "start_time": "2024-02-17T17:24:01.559Z"
   },
   {
    "duration": 590,
    "start_time": "2024-02-17T17:24:01.678Z"
   },
   {
    "duration": 0,
    "start_time": "2024-02-17T17:24:02.270Z"
   },
   {
    "duration": 0,
    "start_time": "2024-02-17T17:24:02.272Z"
   },
   {
    "duration": 0,
    "start_time": "2024-02-17T17:24:02.274Z"
   },
   {
    "duration": 0,
    "start_time": "2024-02-17T17:24:02.275Z"
   },
   {
    "duration": 3,
    "start_time": "2024-02-17T17:26:06.901Z"
   },
   {
    "duration": 7,
    "start_time": "2024-02-17T17:26:07.209Z"
   },
   {
    "duration": 3,
    "start_time": "2024-02-17T17:26:07.793Z"
   },
   {
    "duration": 1365,
    "start_time": "2024-02-17T17:26:08.510Z"
   },
   {
    "duration": 7490,
    "start_time": "2024-02-17T17:30:06.876Z"
   },
   {
    "duration": 1298,
    "start_time": "2024-02-17T17:30:14.368Z"
   },
   {
    "duration": 2,
    "start_time": "2024-02-17T17:30:15.668Z"
   },
   {
    "duration": 1022,
    "start_time": "2024-02-17T17:30:15.672Z"
   },
   {
    "duration": 16,
    "start_time": "2024-02-17T17:30:16.696Z"
   },
   {
    "duration": 111,
    "start_time": "2024-02-17T17:30:16.713Z"
   },
   {
    "duration": 26,
    "start_time": "2024-02-17T17:30:16.826Z"
   },
   {
    "duration": 80,
    "start_time": "2024-02-17T17:30:16.854Z"
   },
   {
    "duration": 152,
    "start_time": "2024-02-17T17:30:16.936Z"
   },
   {
    "duration": 2,
    "start_time": "2024-02-17T17:30:17.090Z"
   },
   {
    "duration": 8,
    "start_time": "2024-02-17T17:30:17.093Z"
   },
   {
    "duration": 141,
    "start_time": "2024-02-17T17:30:17.102Z"
   },
   {
    "duration": 432,
    "start_time": "2024-02-17T17:30:17.245Z"
   },
   {
    "duration": 2,
    "start_time": "2024-02-17T17:30:17.680Z"
   },
   {
    "duration": 14,
    "start_time": "2024-02-17T17:30:17.683Z"
   },
   {
    "duration": 211,
    "start_time": "2024-02-17T17:30:17.699Z"
   },
   {
    "duration": 4,
    "start_time": "2024-02-17T17:30:17.912Z"
   },
   {
    "duration": 3,
    "start_time": "2024-02-17T17:30:17.917Z"
   },
   {
    "duration": 297,
    "start_time": "2024-02-17T17:30:17.922Z"
   },
   {
    "duration": 5,
    "start_time": "2024-02-17T17:30:18.221Z"
   },
   {
    "duration": 5,
    "start_time": "2024-02-17T17:30:18.228Z"
   },
   {
    "duration": 49,
    "start_time": "2024-02-17T17:30:18.235Z"
   },
   {
    "duration": 97,
    "start_time": "2024-02-17T17:30:18.286Z"
   },
   {
    "duration": 4,
    "start_time": "2024-02-17T17:30:18.384Z"
   },
   {
    "duration": 1929,
    "start_time": "2024-02-17T17:30:18.389Z"
   },
   {
    "duration": 3,
    "start_time": "2024-02-17T17:30:20.319Z"
   },
   {
    "duration": 119,
    "start_time": "2024-02-17T17:30:20.323Z"
   },
   {
    "duration": 0,
    "start_time": "2024-02-17T17:30:20.444Z"
   },
   {
    "duration": 0,
    "start_time": "2024-02-17T17:30:20.445Z"
   },
   {
    "duration": 0,
    "start_time": "2024-02-17T17:30:20.447Z"
   },
   {
    "duration": 0,
    "start_time": "2024-02-17T17:30:20.448Z"
   },
   {
    "duration": 0,
    "start_time": "2024-02-17T17:30:20.464Z"
   },
   {
    "duration": 0,
    "start_time": "2024-02-17T17:30:20.466Z"
   },
   {
    "duration": 0,
    "start_time": "2024-02-17T17:30:20.467Z"
   },
   {
    "duration": 18,
    "start_time": "2024-02-17T17:31:47.929Z"
   },
   {
    "duration": 11,
    "start_time": "2024-02-17T17:31:48.854Z"
   },
   {
    "duration": 4,
    "start_time": "2024-02-17T17:32:07.523Z"
   },
   {
    "duration": 4,
    "start_time": "2024-02-17T17:32:08.464Z"
   },
   {
    "duration": 1186,
    "start_time": "2024-02-17T17:32:09.462Z"
   },
   {
    "duration": 7282,
    "start_time": "2024-02-17T17:34:06.342Z"
   },
   {
    "duration": 1205,
    "start_time": "2024-02-17T17:34:13.626Z"
   },
   {
    "duration": 3,
    "start_time": "2024-02-17T17:34:14.832Z"
   },
   {
    "duration": 1029,
    "start_time": "2024-02-17T17:34:14.836Z"
   },
   {
    "duration": 17,
    "start_time": "2024-02-17T17:34:15.867Z"
   },
   {
    "duration": 107,
    "start_time": "2024-02-17T17:34:15.886Z"
   },
   {
    "duration": 21,
    "start_time": "2024-02-17T17:34:15.995Z"
   },
   {
    "duration": 77,
    "start_time": "2024-02-17T17:34:16.018Z"
   },
   {
    "duration": 131,
    "start_time": "2024-02-17T17:34:16.096Z"
   },
   {
    "duration": 3,
    "start_time": "2024-02-17T17:34:16.228Z"
   },
   {
    "duration": 5,
    "start_time": "2024-02-17T17:34:16.232Z"
   },
   {
    "duration": 152,
    "start_time": "2024-02-17T17:34:16.238Z"
   },
   {
    "duration": 418,
    "start_time": "2024-02-17T17:34:16.392Z"
   },
   {
    "duration": 2,
    "start_time": "2024-02-17T17:34:16.813Z"
   },
   {
    "duration": 5,
    "start_time": "2024-02-17T17:34:16.816Z"
   },
   {
    "duration": 208,
    "start_time": "2024-02-17T17:34:16.823Z"
   },
   {
    "duration": 4,
    "start_time": "2024-02-17T17:34:17.032Z"
   },
   {
    "duration": 3,
    "start_time": "2024-02-17T17:34:17.037Z"
   },
   {
    "duration": 273,
    "start_time": "2024-02-17T17:34:17.042Z"
   },
   {
    "duration": 4,
    "start_time": "2024-02-17T17:34:17.317Z"
   },
   {
    "duration": 9,
    "start_time": "2024-02-17T17:34:17.323Z"
   },
   {
    "duration": 45,
    "start_time": "2024-02-17T17:34:17.333Z"
   },
   {
    "duration": 76,
    "start_time": "2024-02-17T17:34:17.379Z"
   },
   {
    "duration": 10,
    "start_time": "2024-02-17T17:34:17.457Z"
   },
   {
    "duration": 1877,
    "start_time": "2024-02-17T17:34:17.468Z"
   },
   {
    "duration": 3,
    "start_time": "2024-02-17T17:34:19.347Z"
   },
   {
    "duration": 25,
    "start_time": "2024-02-17T17:34:19.351Z"
   },
   {
    "duration": 4,
    "start_time": "2024-02-17T17:34:19.378Z"
   },
   {
    "duration": 10,
    "start_time": "2024-02-17T17:34:19.384Z"
   },
   {
    "duration": 300688,
    "start_time": "2024-02-17T17:34:19.395Z"
   },
   {
    "duration": 3,
    "start_time": "2024-02-17T17:39:20.084Z"
   },
   {
    "duration": 11,
    "start_time": "2024-02-17T17:39:20.088Z"
   },
   {
    "duration": 3,
    "start_time": "2024-02-17T17:39:20.101Z"
   },
   {
    "duration": 3066,
    "start_time": "2024-02-17T17:39:20.106Z"
   },
   {
    "duration": 7431,
    "start_time": "2024-02-17T17:41:22.965Z"
   },
   {
    "duration": 1660,
    "start_time": "2024-02-17T17:41:30.399Z"
   },
   {
    "duration": 3,
    "start_time": "2024-02-17T17:41:32.060Z"
   },
   {
    "duration": 1030,
    "start_time": "2024-02-17T17:41:32.065Z"
   },
   {
    "duration": 16,
    "start_time": "2024-02-17T17:41:33.097Z"
   },
   {
    "duration": 107,
    "start_time": "2024-02-17T17:41:33.115Z"
   },
   {
    "duration": 23,
    "start_time": "2024-02-17T17:41:33.223Z"
   },
   {
    "duration": 81,
    "start_time": "2024-02-17T17:41:33.247Z"
   },
   {
    "duration": 137,
    "start_time": "2024-02-17T17:41:33.329Z"
   },
   {
    "duration": 2,
    "start_time": "2024-02-17T17:41:33.469Z"
   },
   {
    "duration": 13,
    "start_time": "2024-02-17T17:41:33.473Z"
   },
   {
    "duration": 137,
    "start_time": "2024-02-17T17:41:33.487Z"
   },
   {
    "duration": 442,
    "start_time": "2024-02-17T17:41:33.626Z"
   },
   {
    "duration": 3,
    "start_time": "2024-02-17T17:41:34.070Z"
   },
   {
    "duration": 7,
    "start_time": "2024-02-17T17:41:34.075Z"
   },
   {
    "duration": 223,
    "start_time": "2024-02-17T17:41:34.083Z"
   },
   {
    "duration": 4,
    "start_time": "2024-02-17T17:41:34.307Z"
   },
   {
    "duration": 3,
    "start_time": "2024-02-17T17:41:34.312Z"
   },
   {
    "duration": 275,
    "start_time": "2024-02-17T17:41:34.317Z"
   },
   {
    "duration": 4,
    "start_time": "2024-02-17T17:41:34.594Z"
   },
   {
    "duration": 3,
    "start_time": "2024-02-17T17:41:34.599Z"
   },
   {
    "duration": 33,
    "start_time": "2024-02-17T17:41:34.603Z"
   },
   {
    "duration": 97,
    "start_time": "2024-02-17T17:41:34.638Z"
   },
   {
    "duration": 4,
    "start_time": "2024-02-17T17:41:34.737Z"
   },
   {
    "duration": 1886,
    "start_time": "2024-02-17T17:41:34.742Z"
   },
   {
    "duration": 3,
    "start_time": "2024-02-17T17:41:36.631Z"
   },
   {
    "duration": 4,
    "start_time": "2024-02-17T17:41:36.635Z"
   },
   {
    "duration": 127,
    "start_time": "2024-02-17T17:41:36.643Z"
   },
   {
    "duration": 0,
    "start_time": "2024-02-17T17:41:36.771Z"
   },
   {
    "duration": 0,
    "start_time": "2024-02-17T17:41:36.772Z"
   },
   {
    "duration": 0,
    "start_time": "2024-02-17T17:41:36.774Z"
   },
   {
    "duration": 0,
    "start_time": "2024-02-17T17:41:36.775Z"
   },
   {
    "duration": 0,
    "start_time": "2024-02-17T17:41:36.776Z"
   },
   {
    "duration": 0,
    "start_time": "2024-02-17T17:41:36.777Z"
   },
   {
    "duration": 6,
    "start_time": "2024-02-17T17:42:11.771Z"
   },
   {
    "duration": 4,
    "start_time": "2024-02-17T17:42:13.186Z"
   },
   {
    "duration": 1299,
    "start_time": "2024-02-17T17:42:14.591Z"
   },
   {
    "duration": 5,
    "start_time": "2024-02-17T17:43:48.603Z"
   },
   {
    "duration": 3,
    "start_time": "2024-02-17T17:43:49.091Z"
   },
   {
    "duration": 304638,
    "start_time": "2024-02-17T17:43:49.556Z"
   },
   {
    "duration": 11,
    "start_time": "2024-02-17T17:50:03.982Z"
   },
   {
    "duration": 7,
    "start_time": "2024-02-17T17:50:52.361Z"
   },
   {
    "duration": 10,
    "start_time": "2024-02-17T17:50:59.096Z"
   },
   {
    "duration": 6,
    "start_time": "2024-02-17T17:51:07.356Z"
   },
   {
    "duration": 9,
    "start_time": "2024-02-17T17:51:17.535Z"
   },
   {
    "duration": 47,
    "start_time": "2024-02-17T17:52:47.587Z"
   },
   {
    "duration": 240,
    "start_time": "2024-02-17T17:54:13.344Z"
   },
   {
    "duration": 119001,
    "start_time": "2024-02-17T17:54:19.378Z"
   },
   {
    "duration": 7339,
    "start_time": "2024-02-17T17:59:26.464Z"
   },
   {
    "duration": 1629,
    "start_time": "2024-02-17T17:59:33.804Z"
   },
   {
    "duration": 2,
    "start_time": "2024-02-17T17:59:35.437Z"
   },
   {
    "duration": 11,
    "start_time": "2024-02-17T17:59:35.441Z"
   },
   {
    "duration": 1031,
    "start_time": "2024-02-17T17:59:35.454Z"
   },
   {
    "duration": 18,
    "start_time": "2024-02-17T17:59:36.487Z"
   },
   {
    "duration": 116,
    "start_time": "2024-02-17T17:59:36.506Z"
   },
   {
    "duration": 27,
    "start_time": "2024-02-17T17:59:36.624Z"
   },
   {
    "duration": 70,
    "start_time": "2024-02-17T17:59:36.667Z"
   },
   {
    "duration": 143,
    "start_time": "2024-02-17T17:59:36.738Z"
   },
   {
    "duration": 3,
    "start_time": "2024-02-17T17:59:36.883Z"
   },
   {
    "duration": 6,
    "start_time": "2024-02-17T17:59:36.887Z"
   },
   {
    "duration": 153,
    "start_time": "2024-02-17T17:59:36.895Z"
   },
   {
    "duration": 429,
    "start_time": "2024-02-17T17:59:37.050Z"
   },
   {
    "duration": 2,
    "start_time": "2024-02-17T17:59:37.481Z"
   },
   {
    "duration": 6,
    "start_time": "2024-02-17T17:59:37.484Z"
   },
   {
    "duration": 213,
    "start_time": "2024-02-17T17:59:37.491Z"
   },
   {
    "duration": 3,
    "start_time": "2024-02-17T17:59:37.706Z"
   },
   {
    "duration": 6,
    "start_time": "2024-02-17T17:59:37.710Z"
   },
   {
    "duration": 217,
    "start_time": "2024-02-17T17:59:37.717Z"
   },
   {
    "duration": 3,
    "start_time": "2024-02-17T17:59:37.935Z"
   },
   {
    "duration": 3,
    "start_time": "2024-02-17T17:59:37.940Z"
   },
   {
    "duration": 48,
    "start_time": "2024-02-17T17:59:37.944Z"
   },
   {
    "duration": 78,
    "start_time": "2024-02-17T17:59:37.993Z"
   },
   {
    "duration": 4,
    "start_time": "2024-02-17T17:59:38.072Z"
   },
   {
    "duration": 1908,
    "start_time": "2024-02-17T17:59:38.077Z"
   },
   {
    "duration": 3,
    "start_time": "2024-02-17T17:59:39.988Z"
   },
   {
    "duration": 7,
    "start_time": "2024-02-17T17:59:39.992Z"
   },
   {
    "duration": 25,
    "start_time": "2024-02-17T17:59:40.000Z"
   },
   {
    "duration": 5,
    "start_time": "2024-02-17T17:59:40.026Z"
   },
   {
    "duration": 1420,
    "start_time": "2024-02-17T17:59:40.032Z"
   },
   {
    "duration": 13,
    "start_time": "2024-02-17T17:59:41.453Z"
   },
   {
    "duration": 0,
    "start_time": "2024-02-17T17:59:41.467Z"
   },
   {
    "duration": 0,
    "start_time": "2024-02-17T17:59:41.468Z"
   },
   {
    "duration": 0,
    "start_time": "2024-02-17T17:59:41.469Z"
   },
   {
    "duration": 3,
    "start_time": "2024-02-17T17:59:54.431Z"
   },
   {
    "duration": 4,
    "start_time": "2024-02-17T17:59:55.002Z"
   },
   {
    "duration": 3,
    "start_time": "2024-02-17T17:59:55.516Z"
   },
   {
    "duration": 46700,
    "start_time": "2024-02-17T17:59:56.073Z"
   },
   {
    "duration": 7391,
    "start_time": "2024-02-17T18:01:06.831Z"
   },
   {
    "duration": 1564,
    "start_time": "2024-02-17T18:01:14.224Z"
   },
   {
    "duration": 3,
    "start_time": "2024-02-17T18:01:15.790Z"
   },
   {
    "duration": 7,
    "start_time": "2024-02-17T18:01:15.795Z"
   },
   {
    "duration": 994,
    "start_time": "2024-02-17T18:01:15.804Z"
   },
   {
    "duration": 17,
    "start_time": "2024-02-17T18:01:16.799Z"
   },
   {
    "duration": 104,
    "start_time": "2024-02-17T18:01:16.817Z"
   },
   {
    "duration": 23,
    "start_time": "2024-02-17T18:01:16.922Z"
   },
   {
    "duration": 80,
    "start_time": "2024-02-17T18:01:16.946Z"
   },
   {
    "duration": 129,
    "start_time": "2024-02-17T18:01:17.029Z"
   },
   {
    "duration": 3,
    "start_time": "2024-02-17T18:01:17.165Z"
   },
   {
    "duration": 8,
    "start_time": "2024-02-17T18:01:17.169Z"
   },
   {
    "duration": 137,
    "start_time": "2024-02-17T18:01:17.178Z"
   },
   {
    "duration": 418,
    "start_time": "2024-02-17T18:01:17.318Z"
   },
   {
    "duration": 9,
    "start_time": "2024-02-17T18:01:17.738Z"
   },
   {
    "duration": 3,
    "start_time": "2024-02-17T18:01:17.749Z"
   },
   {
    "duration": 229,
    "start_time": "2024-02-17T18:01:17.754Z"
   },
   {
    "duration": 4,
    "start_time": "2024-02-17T18:01:17.984Z"
   },
   {
    "duration": 3,
    "start_time": "2024-02-17T18:01:17.990Z"
   },
   {
    "duration": 226,
    "start_time": "2024-02-17T18:01:17.994Z"
   },
   {
    "duration": 4,
    "start_time": "2024-02-17T18:01:18.222Z"
   },
   {
    "duration": 3,
    "start_time": "2024-02-17T18:01:18.228Z"
   },
   {
    "duration": 52,
    "start_time": "2024-02-17T18:01:18.233Z"
   },
   {
    "duration": 79,
    "start_time": "2024-02-17T18:01:18.286Z"
   },
   {
    "duration": 3,
    "start_time": "2024-02-17T18:01:18.367Z"
   },
   {
    "duration": 1849,
    "start_time": "2024-02-17T18:01:18.372Z"
   },
   {
    "duration": 3,
    "start_time": "2024-02-17T18:01:20.222Z"
   },
   {
    "duration": 5,
    "start_time": "2024-02-17T18:01:20.226Z"
   },
   {
    "duration": 5,
    "start_time": "2024-02-17T18:01:20.233Z"
   },
   {
    "duration": 5,
    "start_time": "2024-02-17T18:01:20.240Z"
   },
   {
    "duration": 47938,
    "start_time": "2024-02-17T18:01:20.246Z"
   },
   {
    "duration": 134,
    "start_time": "2024-02-17T18:02:08.186Z"
   },
   {
    "duration": 0,
    "start_time": "2024-02-17T18:02:08.322Z"
   },
   {
    "duration": 0,
    "start_time": "2024-02-17T18:02:08.324Z"
   },
   {
    "duration": 0,
    "start_time": "2024-02-17T18:02:08.325Z"
   },
   {
    "duration": 7182,
    "start_time": "2024-02-17T18:04:09.610Z"
   },
   {
    "duration": 1527,
    "start_time": "2024-02-17T18:04:16.794Z"
   },
   {
    "duration": 3,
    "start_time": "2024-02-17T18:04:18.324Z"
   },
   {
    "duration": 9,
    "start_time": "2024-02-17T18:04:18.329Z"
   },
   {
    "duration": 1024,
    "start_time": "2024-02-17T18:04:18.339Z"
   },
   {
    "duration": 16,
    "start_time": "2024-02-17T18:04:19.365Z"
   },
   {
    "duration": 117,
    "start_time": "2024-02-17T18:04:19.382Z"
   },
   {
    "duration": 21,
    "start_time": "2024-02-17T18:04:19.500Z"
   },
   {
    "duration": 73,
    "start_time": "2024-02-17T18:04:19.523Z"
   },
   {
    "duration": 127,
    "start_time": "2024-02-17T18:04:19.597Z"
   },
   {
    "duration": 2,
    "start_time": "2024-02-17T18:04:19.725Z"
   },
   {
    "duration": 5,
    "start_time": "2024-02-17T18:04:19.729Z"
   },
   {
    "duration": 151,
    "start_time": "2024-02-17T18:04:19.736Z"
   },
   {
    "duration": 422,
    "start_time": "2024-02-17T18:04:19.888Z"
   },
   {
    "duration": 2,
    "start_time": "2024-02-17T18:04:20.312Z"
   },
   {
    "duration": 31,
    "start_time": "2024-02-17T18:04:20.316Z"
   },
   {
    "duration": 217,
    "start_time": "2024-02-17T18:04:20.348Z"
   },
   {
    "duration": 4,
    "start_time": "2024-02-17T18:04:20.566Z"
   },
   {
    "duration": 56,
    "start_time": "2024-02-17T18:04:20.571Z"
   },
   {
    "duration": 0,
    "start_time": "2024-02-17T18:04:20.628Z"
   },
   {
    "duration": 0,
    "start_time": "2024-02-17T18:04:20.629Z"
   },
   {
    "duration": 0,
    "start_time": "2024-02-17T18:04:20.630Z"
   },
   {
    "duration": 0,
    "start_time": "2024-02-17T18:04:20.631Z"
   },
   {
    "duration": 0,
    "start_time": "2024-02-17T18:04:20.632Z"
   },
   {
    "duration": 0,
    "start_time": "2024-02-17T18:04:20.633Z"
   },
   {
    "duration": 0,
    "start_time": "2024-02-17T18:04:20.634Z"
   },
   {
    "duration": 0,
    "start_time": "2024-02-17T18:04:20.635Z"
   },
   {
    "duration": 0,
    "start_time": "2024-02-17T18:04:20.636Z"
   },
   {
    "duration": 0,
    "start_time": "2024-02-17T18:04:20.637Z"
   },
   {
    "duration": 0,
    "start_time": "2024-02-17T18:04:20.638Z"
   },
   {
    "duration": 0,
    "start_time": "2024-02-17T18:04:20.639Z"
   },
   {
    "duration": 0,
    "start_time": "2024-02-17T18:04:20.640Z"
   },
   {
    "duration": 0,
    "start_time": "2024-02-17T18:04:20.642Z"
   },
   {
    "duration": 0,
    "start_time": "2024-02-17T18:04:20.642Z"
   },
   {
    "duration": 0,
    "start_time": "2024-02-17T18:04:20.644Z"
   },
   {
    "duration": 26,
    "start_time": "2024-02-17T18:04:40.510Z"
   },
   {
    "duration": 198,
    "start_time": "2024-02-17T18:04:41.286Z"
   },
   {
    "duration": 3,
    "start_time": "2024-02-17T18:04:42.068Z"
   },
   {
    "duration": 2,
    "start_time": "2024-02-17T18:04:46.591Z"
   },
   {
    "duration": 31,
    "start_time": "2024-02-17T18:04:47.011Z"
   },
   {
    "duration": 67,
    "start_time": "2024-02-17T18:04:47.203Z"
   },
   {
    "duration": 4,
    "start_time": "2024-02-17T18:04:47.442Z"
   },
   {
    "duration": 1919,
    "start_time": "2024-02-17T18:04:49.428Z"
   },
   {
    "duration": 4,
    "start_time": "2024-02-17T18:04:51.349Z"
   },
   {
    "duration": 12,
    "start_time": "2024-02-17T18:04:51.354Z"
   },
   {
    "duration": 23,
    "start_time": "2024-02-17T18:04:51.368Z"
   },
   {
    "duration": 2,
    "start_time": "2024-02-17T18:04:52.076Z"
   },
   {
    "duration": 7266,
    "start_time": "2024-02-17T18:05:35.101Z"
   },
   {
    "duration": 1525,
    "start_time": "2024-02-17T18:05:42.368Z"
   },
   {
    "duration": 2,
    "start_time": "2024-02-17T18:05:43.895Z"
   },
   {
    "duration": 3,
    "start_time": "2024-02-17T18:05:43.899Z"
   },
   {
    "duration": 968,
    "start_time": "2024-02-17T18:05:43.903Z"
   },
   {
    "duration": 17,
    "start_time": "2024-02-17T18:05:44.872Z"
   },
   {
    "duration": 111,
    "start_time": "2024-02-17T18:05:44.890Z"
   },
   {
    "duration": 25,
    "start_time": "2024-02-17T18:05:45.003Z"
   },
   {
    "duration": 86,
    "start_time": "2024-02-17T18:05:45.030Z"
   },
   {
    "duration": 133,
    "start_time": "2024-02-17T18:05:45.118Z"
   },
   {
    "duration": 12,
    "start_time": "2024-02-17T18:05:45.253Z"
   },
   {
    "duration": 5,
    "start_time": "2024-02-17T18:05:45.267Z"
   },
   {
    "duration": 144,
    "start_time": "2024-02-17T18:05:45.273Z"
   },
   {
    "duration": 461,
    "start_time": "2024-02-17T18:05:45.419Z"
   },
   {
    "duration": 2,
    "start_time": "2024-02-17T18:05:45.882Z"
   },
   {
    "duration": 37,
    "start_time": "2024-02-17T18:05:45.886Z"
   },
   {
    "duration": 212,
    "start_time": "2024-02-17T18:05:45.924Z"
   },
   {
    "duration": 4,
    "start_time": "2024-02-17T18:05:46.138Z"
   },
   {
    "duration": 40,
    "start_time": "2024-02-17T18:05:46.143Z"
   },
   {
    "duration": 207,
    "start_time": "2024-02-17T18:05:46.184Z"
   },
   {
    "duration": 4,
    "start_time": "2024-02-17T18:05:46.393Z"
   },
   {
    "duration": 3,
    "start_time": "2024-02-17T18:05:46.399Z"
   },
   {
    "duration": 32,
    "start_time": "2024-02-17T18:05:46.403Z"
   },
   {
    "duration": 7,
    "start_time": "2024-02-17T18:05:46.436Z"
   },
   {
    "duration": 4,
    "start_time": "2024-02-17T18:05:46.464Z"
   },
   {
    "duration": 243,
    "start_time": "2024-02-17T18:05:46.469Z"
   },
   {
    "duration": 3,
    "start_time": "2024-02-17T18:05:46.713Z"
   },
   {
    "duration": 3,
    "start_time": "2024-02-17T18:05:46.719Z"
   },
   {
    "duration": 5,
    "start_time": "2024-02-17T18:05:46.723Z"
   },
   {
    "duration": 7,
    "start_time": "2024-02-17T18:05:46.729Z"
   },
   {
    "duration": 3347,
    "start_time": "2024-02-17T18:05:46.737Z"
   },
   {
    "duration": 136,
    "start_time": "2024-02-17T18:05:50.086Z"
   },
   {
    "duration": 0,
    "start_time": "2024-02-17T18:05:50.223Z"
   },
   {
    "duration": 0,
    "start_time": "2024-02-17T18:05:50.224Z"
   },
   {
    "duration": 0,
    "start_time": "2024-02-17T18:05:50.225Z"
   },
   {
    "duration": 4,
    "start_time": "2024-02-17T18:07:32.192Z"
   },
   {
    "duration": 1342,
    "start_time": "2024-02-17T18:07:32.755Z"
   },
   {
    "duration": 7,
    "start_time": "2024-02-17T18:08:42.399Z"
   },
   {
    "duration": 2744,
    "start_time": "2024-02-17T18:27:46.276Z"
   },
   {
    "duration": 87,
    "start_time": "2024-02-17T18:28:27.765Z"
   },
   {
    "duration": 2104,
    "start_time": "2024-02-17T18:29:18.844Z"
   },
   {
    "duration": 15,
    "start_time": "2024-02-17T18:30:34.831Z"
   },
   {
    "duration": 2248,
    "start_time": "2024-02-17T18:31:30.813Z"
   },
   {
    "duration": 90,
    "start_time": "2024-02-17T18:32:36.924Z"
   },
   {
    "duration": 2058,
    "start_time": "2024-02-17T18:32:43.434Z"
   },
   {
    "duration": 80,
    "start_time": "2024-02-17T18:35:14.782Z"
   },
   {
    "duration": 89,
    "start_time": "2024-02-17T18:36:05.576Z"
   },
   {
    "duration": 92,
    "start_time": "2024-02-17T18:36:11.723Z"
   },
   {
    "duration": 7187,
    "start_time": "2024-02-17T18:37:18.917Z"
   },
   {
    "duration": 1535,
    "start_time": "2024-02-17T18:37:26.106Z"
   },
   {
    "duration": 3,
    "start_time": "2024-02-17T18:37:27.642Z"
   },
   {
    "duration": 5,
    "start_time": "2024-02-17T18:37:27.647Z"
   },
   {
    "duration": 979,
    "start_time": "2024-02-17T18:37:27.654Z"
   },
   {
    "duration": 17,
    "start_time": "2024-02-17T18:37:28.634Z"
   },
   {
    "duration": 131,
    "start_time": "2024-02-17T18:37:28.652Z"
   },
   {
    "duration": 25,
    "start_time": "2024-02-17T18:37:28.785Z"
   },
   {
    "duration": 84,
    "start_time": "2024-02-17T18:37:28.811Z"
   },
   {
    "duration": 146,
    "start_time": "2024-02-17T18:37:28.898Z"
   },
   {
    "duration": 3,
    "start_time": "2024-02-17T18:37:29.045Z"
   },
   {
    "duration": 17,
    "start_time": "2024-02-17T18:37:29.049Z"
   },
   {
    "duration": 138,
    "start_time": "2024-02-17T18:37:29.067Z"
   },
   {
    "duration": 429,
    "start_time": "2024-02-17T18:37:29.206Z"
   },
   {
    "duration": 2,
    "start_time": "2024-02-17T18:37:29.637Z"
   },
   {
    "duration": 43,
    "start_time": "2024-02-17T18:37:29.640Z"
   },
   {
    "duration": 222,
    "start_time": "2024-02-17T18:37:29.684Z"
   },
   {
    "duration": 4,
    "start_time": "2024-02-17T18:37:29.908Z"
   },
   {
    "duration": 29,
    "start_time": "2024-02-17T18:37:29.914Z"
   },
   {
    "duration": 225,
    "start_time": "2024-02-17T18:37:29.945Z"
   },
   {
    "duration": 4,
    "start_time": "2024-02-17T18:37:30.172Z"
   },
   {
    "duration": 79,
    "start_time": "2024-02-17T18:37:30.177Z"
   },
   {
    "duration": 75,
    "start_time": "2024-02-17T18:37:30.258Z"
   },
   {
    "duration": 9,
    "start_time": "2024-02-17T18:37:30.335Z"
   },
   {
    "duration": 41,
    "start_time": "2024-02-17T18:37:30.346Z"
   },
   {
    "duration": 259,
    "start_time": "2024-02-17T18:37:30.389Z"
   },
   {
    "duration": 3,
    "start_time": "2024-02-17T18:37:30.650Z"
   },
   {
    "duration": 25,
    "start_time": "2024-02-17T18:37:30.655Z"
   },
   {
    "duration": 27,
    "start_time": "2024-02-17T18:37:30.682Z"
   },
   {
    "duration": 48,
    "start_time": "2024-02-17T18:37:30.711Z"
   },
   {
    "duration": 1347,
    "start_time": "2024-02-17T18:37:30.760Z"
   },
   {
    "duration": 12,
    "start_time": "2024-02-17T18:37:32.109Z"
   },
   {
    "duration": 4,
    "start_time": "2024-02-17T18:37:32.123Z"
   },
   {
    "duration": 3,
    "start_time": "2024-02-17T18:37:32.128Z"
   },
   {
    "duration": 4,
    "start_time": "2024-02-17T18:37:32.132Z"
   },
   {
    "duration": 42,
    "start_time": "2024-02-17T18:37:32.137Z"
   },
   {
    "duration": 194,
    "start_time": "2024-02-17T18:37:42.129Z"
   },
   {
    "duration": 1231,
    "start_time": "2024-02-17T18:45:41.222Z"
   },
   {
    "duration": 5,
    "start_time": "2024-02-17T18:46:18.141Z"
   },
   {
    "duration": 1402,
    "start_time": "2024-02-17T18:46:35.624Z"
   },
   {
    "duration": 528,
    "start_time": "2024-02-17T18:46:47.364Z"
   },
   {
    "duration": 532,
    "start_time": "2024-02-17T18:47:53.211Z"
   },
   {
    "duration": 552,
    "start_time": "2024-02-17T18:48:59.131Z"
   },
   {
    "duration": 644,
    "start_time": "2024-02-17T18:49:10.066Z"
   },
   {
    "duration": 559,
    "start_time": "2024-02-17T18:49:50.481Z"
   },
   {
    "duration": 1322,
    "start_time": "2024-02-17T18:51:33.187Z"
   },
   {
    "duration": 668,
    "start_time": "2024-02-17T18:52:24.510Z"
   },
   {
    "duration": 7340,
    "start_time": "2024-02-17T18:52:53.061Z"
   },
   {
    "duration": 1556,
    "start_time": "2024-02-17T18:53:00.403Z"
   },
   {
    "duration": 2,
    "start_time": "2024-02-17T18:53:01.960Z"
   },
   {
    "duration": 6,
    "start_time": "2024-02-17T18:53:01.966Z"
   },
   {
    "duration": 998,
    "start_time": "2024-02-17T18:53:01.973Z"
   },
   {
    "duration": 15,
    "start_time": "2024-02-17T18:53:02.973Z"
   },
   {
    "duration": 114,
    "start_time": "2024-02-17T18:53:02.990Z"
   },
   {
    "duration": 24,
    "start_time": "2024-02-17T18:53:03.105Z"
   },
   {
    "duration": 74,
    "start_time": "2024-02-17T18:53:03.131Z"
   },
   {
    "duration": 125,
    "start_time": "2024-02-17T18:53:03.207Z"
   },
   {
    "duration": 2,
    "start_time": "2024-02-17T18:53:03.333Z"
   },
   {
    "duration": 5,
    "start_time": "2024-02-17T18:53:03.336Z"
   },
   {
    "duration": 144,
    "start_time": "2024-02-17T18:53:03.342Z"
   },
   {
    "duration": 420,
    "start_time": "2024-02-17T18:53:03.488Z"
   },
   {
    "duration": 2,
    "start_time": "2024-02-17T18:53:03.910Z"
   },
   {
    "duration": 32,
    "start_time": "2024-02-17T18:53:03.914Z"
   },
   {
    "duration": 223,
    "start_time": "2024-02-17T18:53:03.948Z"
   },
   {
    "duration": 3,
    "start_time": "2024-02-17T18:53:04.172Z"
   },
   {
    "duration": 34,
    "start_time": "2024-02-17T18:53:04.177Z"
   },
   {
    "duration": 205,
    "start_time": "2024-02-17T18:53:04.212Z"
   },
   {
    "duration": 3,
    "start_time": "2024-02-17T18:53:04.419Z"
   },
   {
    "duration": 4,
    "start_time": "2024-02-17T18:53:04.423Z"
   },
   {
    "duration": 46,
    "start_time": "2024-02-17T18:53:04.428Z"
   },
   {
    "duration": 6,
    "start_time": "2024-02-17T18:53:04.475Z"
   },
   {
    "duration": 7,
    "start_time": "2024-02-17T18:53:04.482Z"
   },
   {
    "duration": 216,
    "start_time": "2024-02-17T18:53:04.490Z"
   },
   {
    "duration": 2,
    "start_time": "2024-02-17T18:53:04.708Z"
   },
   {
    "duration": 3,
    "start_time": "2024-02-17T18:53:04.713Z"
   },
   {
    "duration": 4,
    "start_time": "2024-02-17T18:53:04.717Z"
   },
   {
    "duration": 3,
    "start_time": "2024-02-17T18:53:04.723Z"
   },
   {
    "duration": 1322,
    "start_time": "2024-02-17T18:53:04.728Z"
   },
   {
    "duration": 15,
    "start_time": "2024-02-17T18:53:06.051Z"
   },
   {
    "duration": 4,
    "start_time": "2024-02-17T18:53:06.067Z"
   },
   {
    "duration": 4,
    "start_time": "2024-02-17T18:53:06.073Z"
   },
   {
    "duration": 4,
    "start_time": "2024-02-17T18:53:06.079Z"
   },
   {
    "duration": 223,
    "start_time": "2024-02-17T18:53:06.084Z"
   },
   {
    "duration": 2,
    "start_time": "2024-02-17T18:53:06.309Z"
   },
   {
    "duration": 597,
    "start_time": "2024-02-17T18:53:52.934Z"
   },
   {
    "duration": 38,
    "start_time": "2024-02-17T18:56:02.680Z"
   },
   {
    "duration": 666,
    "start_time": "2024-02-17T18:56:31.830Z"
   },
   {
    "duration": 679,
    "start_time": "2024-02-17T18:56:59.645Z"
   },
   {
    "duration": 559,
    "start_time": "2024-02-17T18:57:07.952Z"
   },
   {
    "duration": 556,
    "start_time": "2024-02-17T18:57:36.313Z"
   },
   {
    "duration": 572,
    "start_time": "2024-02-17T18:58:43.755Z"
   },
   {
    "duration": 814,
    "start_time": "2024-02-17T18:59:00.740Z"
   },
   {
    "duration": 657,
    "start_time": "2024-02-17T18:59:19.472Z"
   },
   {
    "duration": 12,
    "start_time": "2024-02-17T19:05:11.331Z"
   },
   {
    "duration": 1326,
    "start_time": "2024-02-17T19:05:24.156Z"
   },
   {
    "duration": 43,
    "start_time": "2024-02-17T19:17:28.674Z"
   },
   {
    "duration": 92,
    "start_time": "2024-02-17T19:19:19.135Z"
   },
   {
    "duration": 7277,
    "start_time": "2024-02-17T19:19:30.286Z"
   },
   {
    "duration": 1590,
    "start_time": "2024-02-17T19:19:37.565Z"
   },
   {
    "duration": 3,
    "start_time": "2024-02-17T19:19:39.156Z"
   },
   {
    "duration": 4,
    "start_time": "2024-02-17T19:19:39.164Z"
   },
   {
    "duration": 1005,
    "start_time": "2024-02-17T19:19:39.170Z"
   },
   {
    "duration": 17,
    "start_time": "2024-02-17T19:19:40.177Z"
   },
   {
    "duration": 111,
    "start_time": "2024-02-17T19:19:40.196Z"
   },
   {
    "duration": 26,
    "start_time": "2024-02-17T19:19:40.309Z"
   },
   {
    "duration": 78,
    "start_time": "2024-02-17T19:19:40.337Z"
   },
   {
    "duration": 129,
    "start_time": "2024-02-17T19:19:40.417Z"
   },
   {
    "duration": 2,
    "start_time": "2024-02-17T19:19:40.548Z"
   },
   {
    "duration": 4,
    "start_time": "2024-02-17T19:19:40.565Z"
   },
   {
    "duration": 135,
    "start_time": "2024-02-17T19:19:40.571Z"
   },
   {
    "duration": 424,
    "start_time": "2024-02-17T19:19:40.710Z"
   },
   {
    "duration": 3,
    "start_time": "2024-02-17T19:19:41.135Z"
   },
   {
    "duration": 48,
    "start_time": "2024-02-17T19:19:41.139Z"
   },
   {
    "duration": 204,
    "start_time": "2024-02-17T19:19:41.188Z"
   },
   {
    "duration": 4,
    "start_time": "2024-02-17T19:19:41.394Z"
   },
   {
    "duration": 29,
    "start_time": "2024-02-17T19:19:41.400Z"
   },
   {
    "duration": 214,
    "start_time": "2024-02-17T19:19:41.431Z"
   },
   {
    "duration": 4,
    "start_time": "2024-02-17T19:19:41.646Z"
   },
   {
    "duration": 2,
    "start_time": "2024-02-17T19:19:41.651Z"
   },
   {
    "duration": 30,
    "start_time": "2024-02-17T19:19:41.664Z"
   },
   {
    "duration": 6,
    "start_time": "2024-02-17T19:19:41.695Z"
   },
   {
    "duration": 3,
    "start_time": "2024-02-17T19:19:41.703Z"
   },
   {
    "duration": 250,
    "start_time": "2024-02-17T19:19:41.708Z"
   },
   {
    "duration": 5,
    "start_time": "2024-02-17T19:19:41.960Z"
   },
   {
    "duration": 3,
    "start_time": "2024-02-17T19:19:41.966Z"
   },
   {
    "duration": 7,
    "start_time": "2024-02-17T19:19:41.971Z"
   },
   {
    "duration": 6,
    "start_time": "2024-02-17T19:19:41.979Z"
   },
   {
    "duration": 1335,
    "start_time": "2024-02-17T19:19:41.986Z"
   },
   {
    "duration": 12,
    "start_time": "2024-02-17T19:19:43.322Z"
   },
   {
    "duration": 4,
    "start_time": "2024-02-17T19:19:43.336Z"
   },
   {
    "duration": 2,
    "start_time": "2024-02-17T19:19:43.341Z"
   },
   {
    "duration": 20,
    "start_time": "2024-02-17T19:19:43.345Z"
   },
   {
    "duration": 226,
    "start_time": "2024-02-17T19:19:43.366Z"
   },
   {
    "duration": 1580,
    "start_time": "2024-02-17T19:19:43.594Z"
   },
   {
    "duration": 3,
    "start_time": "2024-02-17T19:19:45.175Z"
   },
   {
    "duration": 795,
    "start_time": "2024-02-17T19:20:34.201Z"
   },
   {
    "duration": 8170,
    "start_time": "2024-02-17T19:32:15.966Z"
   },
   {
    "duration": 1595,
    "start_time": "2024-02-17T19:32:24.138Z"
   },
   {
    "duration": 3,
    "start_time": "2024-02-17T19:32:25.735Z"
   },
   {
    "duration": 8,
    "start_time": "2024-02-17T19:32:25.739Z"
   },
   {
    "duration": 1003,
    "start_time": "2024-02-17T19:32:25.748Z"
   },
   {
    "duration": 19,
    "start_time": "2024-02-17T19:32:26.753Z"
   },
   {
    "duration": 108,
    "start_time": "2024-02-17T19:32:26.773Z"
   },
   {
    "duration": 25,
    "start_time": "2024-02-17T19:32:26.883Z"
   },
   {
    "duration": 76,
    "start_time": "2024-02-17T19:32:26.910Z"
   },
   {
    "duration": 132,
    "start_time": "2024-02-17T19:32:26.988Z"
   },
   {
    "duration": 2,
    "start_time": "2024-02-17T19:32:27.121Z"
   },
   {
    "duration": 7,
    "start_time": "2024-02-17T19:32:27.125Z"
   },
   {
    "duration": 149,
    "start_time": "2024-02-17T19:32:27.133Z"
   },
   {
    "duration": 418,
    "start_time": "2024-02-17T19:32:27.284Z"
   },
   {
    "duration": 3,
    "start_time": "2024-02-17T19:32:27.703Z"
   },
   {
    "duration": 38,
    "start_time": "2024-02-17T19:32:27.707Z"
   },
   {
    "duration": 222,
    "start_time": "2024-02-17T19:32:27.747Z"
   },
   {
    "duration": 4,
    "start_time": "2024-02-17T19:32:27.971Z"
   },
   {
    "duration": 43,
    "start_time": "2024-02-17T19:32:27.976Z"
   },
   {
    "duration": 220,
    "start_time": "2024-02-17T19:32:28.020Z"
   },
   {
    "duration": 3,
    "start_time": "2024-02-17T19:32:28.242Z"
   },
   {
    "duration": 16,
    "start_time": "2024-02-17T19:32:28.247Z"
   },
   {
    "duration": 36,
    "start_time": "2024-02-17T19:32:28.265Z"
   },
   {
    "duration": 6,
    "start_time": "2024-02-17T19:32:28.302Z"
   },
   {
    "duration": 12,
    "start_time": "2024-02-17T19:32:28.309Z"
   },
   {
    "duration": 258,
    "start_time": "2024-02-17T19:32:28.323Z"
   },
   {
    "duration": 3,
    "start_time": "2024-02-17T19:32:28.582Z"
   },
   {
    "duration": 10,
    "start_time": "2024-02-17T19:32:28.588Z"
   },
   {
    "duration": 11,
    "start_time": "2024-02-17T19:32:28.599Z"
   },
   {
    "duration": 9,
    "start_time": "2024-02-17T19:32:28.611Z"
   },
   {
    "duration": 1354,
    "start_time": "2024-02-17T19:32:28.622Z"
   },
   {
    "duration": 14,
    "start_time": "2024-02-17T19:32:29.978Z"
   },
   {
    "duration": 5,
    "start_time": "2024-02-17T19:32:29.994Z"
   },
   {
    "duration": 40,
    "start_time": "2024-02-17T19:32:30.000Z"
   },
   {
    "duration": 25,
    "start_time": "2024-02-17T19:32:30.042Z"
   },
   {
    "duration": 248,
    "start_time": "2024-02-17T19:32:30.068Z"
   },
   {
    "duration": 1255,
    "start_time": "2024-02-17T19:32:30.318Z"
   },
   {
    "duration": 2,
    "start_time": "2024-02-17T19:32:31.575Z"
   },
   {
    "duration": 697,
    "start_time": "2024-02-17T19:33:28.803Z"
   },
   {
    "duration": 14206,
    "start_time": "2024-02-17T19:34:05.112Z"
   },
   {
    "duration": 14225,
    "start_time": "2024-02-18T16:58:02.596Z"
   },
   {
    "duration": 2226,
    "start_time": "2024-02-18T16:58:16.823Z"
   },
   {
    "duration": 2,
    "start_time": "2024-02-18T16:58:19.051Z"
   },
   {
    "duration": 14,
    "start_time": "2024-02-18T16:58:19.055Z"
   },
   {
    "duration": 3080,
    "start_time": "2024-02-18T16:58:19.071Z"
   },
   {
    "duration": 30,
    "start_time": "2024-02-18T16:58:22.153Z"
   },
   {
    "duration": 116,
    "start_time": "2024-02-18T16:58:22.185Z"
   },
   {
    "duration": 26,
    "start_time": "2024-02-18T16:58:22.303Z"
   },
   {
    "duration": 89,
    "start_time": "2024-02-18T16:58:22.331Z"
   },
   {
    "duration": 149,
    "start_time": "2024-02-18T16:58:22.423Z"
   },
   {
    "duration": 3,
    "start_time": "2024-02-18T16:58:22.581Z"
   },
   {
    "duration": 23,
    "start_time": "2024-02-18T16:58:22.585Z"
   },
   {
    "duration": 145,
    "start_time": "2024-02-18T16:58:22.610Z"
   },
   {
    "duration": 467,
    "start_time": "2024-02-18T16:58:22.757Z"
   },
   {
    "duration": 3,
    "start_time": "2024-02-18T16:58:23.226Z"
   },
   {
    "duration": 39,
    "start_time": "2024-02-18T16:58:23.230Z"
   },
   {
    "duration": 232,
    "start_time": "2024-02-18T16:58:23.279Z"
   },
   {
    "duration": 4,
    "start_time": "2024-02-18T16:58:23.513Z"
   },
   {
    "duration": 32,
    "start_time": "2024-02-18T16:58:23.519Z"
   },
   {
    "duration": 235,
    "start_time": "2024-02-18T16:58:23.553Z"
   },
   {
    "duration": 4,
    "start_time": "2024-02-18T16:58:23.790Z"
   },
   {
    "duration": 4,
    "start_time": "2024-02-18T16:58:23.796Z"
   },
   {
    "duration": 41,
    "start_time": "2024-02-18T16:58:23.801Z"
   },
   {
    "duration": 37,
    "start_time": "2024-02-18T16:58:23.843Z"
   },
   {
    "duration": 5,
    "start_time": "2024-02-18T16:58:23.882Z"
   },
   {
    "duration": 267,
    "start_time": "2024-02-18T16:58:23.889Z"
   },
   {
    "duration": 4,
    "start_time": "2024-02-18T16:58:24.157Z"
   },
   {
    "duration": 7,
    "start_time": "2024-02-18T16:58:24.164Z"
   },
   {
    "duration": 12,
    "start_time": "2024-02-18T16:58:24.173Z"
   },
   {
    "duration": 109,
    "start_time": "2024-02-18T16:58:24.187Z"
   },
   {
    "duration": 0,
    "start_time": "2024-02-18T16:58:24.298Z"
   },
   {
    "duration": 0,
    "start_time": "2024-02-18T16:58:24.299Z"
   },
   {
    "duration": 0,
    "start_time": "2024-02-18T16:58:24.301Z"
   },
   {
    "duration": 0,
    "start_time": "2024-02-18T16:58:24.302Z"
   },
   {
    "duration": 0,
    "start_time": "2024-02-18T16:58:24.303Z"
   },
   {
    "duration": 0,
    "start_time": "2024-02-18T16:58:24.304Z"
   },
   {
    "duration": 0,
    "start_time": "2024-02-18T16:58:24.305Z"
   },
   {
    "duration": 0,
    "start_time": "2024-02-18T16:58:24.307Z"
   },
   {
    "duration": 159,
    "start_time": "2024-02-18T16:58:44.824Z"
   },
   {
    "duration": 8159,
    "start_time": "2024-02-18T16:59:21.485Z"
   },
   {
    "duration": 1688,
    "start_time": "2024-02-18T16:59:29.646Z"
   },
   {
    "duration": 2,
    "start_time": "2024-02-18T16:59:31.336Z"
   },
   {
    "duration": 26,
    "start_time": "2024-02-18T16:59:31.340Z"
   },
   {
    "duration": 1163,
    "start_time": "2024-02-18T16:59:31.368Z"
   },
   {
    "duration": 23,
    "start_time": "2024-02-18T16:59:32.533Z"
   },
   {
    "duration": 128,
    "start_time": "2024-02-18T16:59:32.557Z"
   },
   {
    "duration": 27,
    "start_time": "2024-02-18T16:59:32.687Z"
   },
   {
    "duration": 85,
    "start_time": "2024-02-18T16:59:32.715Z"
   },
   {
    "duration": 149,
    "start_time": "2024-02-18T16:59:32.804Z"
   },
   {
    "duration": 3,
    "start_time": "2024-02-18T16:59:32.955Z"
   },
   {
    "duration": 21,
    "start_time": "2024-02-18T16:59:32.960Z"
   },
   {
    "duration": 157,
    "start_time": "2024-02-18T16:59:32.983Z"
   },
   {
    "duration": 497,
    "start_time": "2024-02-18T16:59:33.142Z"
   },
   {
    "duration": 2,
    "start_time": "2024-02-18T16:59:33.641Z"
   },
   {
    "duration": 45,
    "start_time": "2024-02-18T16:59:33.645Z"
   },
   {
    "duration": 236,
    "start_time": "2024-02-18T16:59:33.692Z"
   },
   {
    "duration": 5,
    "start_time": "2024-02-18T16:59:33.930Z"
   },
   {
    "duration": 51,
    "start_time": "2024-02-18T16:59:33.937Z"
   },
   {
    "duration": 228,
    "start_time": "2024-02-18T16:59:33.990Z"
   },
   {
    "duration": 5,
    "start_time": "2024-02-18T16:59:34.220Z"
   },
   {
    "duration": 5,
    "start_time": "2024-02-18T16:59:34.227Z"
   },
   {
    "duration": 55,
    "start_time": "2024-02-18T16:59:34.234Z"
   },
   {
    "duration": 8,
    "start_time": "2024-02-18T16:59:34.290Z"
   },
   {
    "duration": 6,
    "start_time": "2024-02-18T16:59:34.299Z"
   },
   {
    "duration": 300,
    "start_time": "2024-02-18T16:59:34.307Z"
   },
   {
    "duration": 3,
    "start_time": "2024-02-18T16:59:34.608Z"
   },
   {
    "duration": 5,
    "start_time": "2024-02-18T16:59:34.616Z"
   },
   {
    "duration": 7,
    "start_time": "2024-02-18T16:59:34.622Z"
   },
   {
    "duration": 55,
    "start_time": "2024-02-18T16:59:34.631Z"
   },
   {
    "duration": 1540,
    "start_time": "2024-02-18T16:59:34.688Z"
   },
   {
    "duration": 15,
    "start_time": "2024-02-18T16:59:36.231Z"
   },
   {
    "duration": 9,
    "start_time": "2024-02-18T16:59:36.247Z"
   },
   {
    "duration": 22,
    "start_time": "2024-02-18T16:59:36.258Z"
   },
   {
    "duration": 12,
    "start_time": "2024-02-18T16:59:36.282Z"
   },
   {
    "duration": 13098,
    "start_time": "2024-02-18T16:59:36.296Z"
   },
   {
    "duration": 1486,
    "start_time": "2024-02-18T16:59:49.396Z"
   },
   {
    "duration": 2,
    "start_time": "2024-02-18T16:59:50.884Z"
   },
   {
    "duration": 8658,
    "start_time": "2024-02-18T17:00:09.954Z"
   },
   {
    "duration": 8623,
    "start_time": "2024-02-18T17:03:38.520Z"
   },
   {
    "duration": 4668,
    "start_time": "2024-02-18T17:04:20.373Z"
   },
   {
    "duration": 4,
    "start_time": "2024-02-18T17:04:57.488Z"
   },
   {
    "duration": 1620,
    "start_time": "2024-02-18T17:04:57.922Z"
   },
   {
    "duration": 4,
    "start_time": "2024-02-18T17:05:41.814Z"
   },
   {
    "duration": 17,
    "start_time": "2024-02-18T17:14:15.822Z"
   },
   {
    "duration": 16,
    "start_time": "2024-02-18T17:14:38.615Z"
   },
   {
    "duration": 17,
    "start_time": "2024-02-18T17:14:53.002Z"
   },
   {
    "duration": 101,
    "start_time": "2024-02-18T17:15:02.144Z"
   },
   {
    "duration": 29,
    "start_time": "2024-02-18T17:15:15.291Z"
   },
   {
    "duration": 8460,
    "start_time": "2024-02-18T17:15:33.298Z"
   },
   {
    "duration": 1767,
    "start_time": "2024-02-18T17:15:41.761Z"
   },
   {
    "duration": 3,
    "start_time": "2024-02-18T17:15:43.530Z"
   },
   {
    "duration": 5,
    "start_time": "2024-02-18T17:15:43.535Z"
   },
   {
    "duration": 1157,
    "start_time": "2024-02-18T17:15:43.541Z"
   },
   {
    "duration": 26,
    "start_time": "2024-02-18T17:15:44.700Z"
   },
   {
    "duration": 129,
    "start_time": "2024-02-18T17:15:44.728Z"
   },
   {
    "duration": 30,
    "start_time": "2024-02-18T17:15:44.859Z"
   },
   {
    "duration": 89,
    "start_time": "2024-02-18T17:15:44.891Z"
   },
   {
    "duration": 156,
    "start_time": "2024-02-18T17:15:44.983Z"
   },
   {
    "duration": 3,
    "start_time": "2024-02-18T17:15:45.140Z"
   },
   {
    "duration": 38,
    "start_time": "2024-02-18T17:15:45.144Z"
   },
   {
    "duration": 165,
    "start_time": "2024-02-18T17:15:45.184Z"
   },
   {
    "duration": 492,
    "start_time": "2024-02-18T17:15:45.350Z"
   },
   {
    "duration": 3,
    "start_time": "2024-02-18T17:15:45.844Z"
   },
   {
    "duration": 52,
    "start_time": "2024-02-18T17:15:45.848Z"
   },
   {
    "duration": 253,
    "start_time": "2024-02-18T17:15:45.902Z"
   },
   {
    "duration": 4,
    "start_time": "2024-02-18T17:15:46.157Z"
   },
   {
    "duration": 98,
    "start_time": "2024-02-18T17:15:46.163Z"
   },
   {
    "duration": 249,
    "start_time": "2024-02-18T17:15:46.263Z"
   },
   {
    "duration": 4,
    "start_time": "2024-02-18T17:15:46.514Z"
   },
   {
    "duration": 3,
    "start_time": "2024-02-18T17:15:46.520Z"
   },
   {
    "duration": 40,
    "start_time": "2024-02-18T17:15:46.525Z"
   },
   {
    "duration": 6,
    "start_time": "2024-02-18T17:15:46.581Z"
   },
   {
    "duration": 6,
    "start_time": "2024-02-18T17:15:46.588Z"
   },
   {
    "duration": 256,
    "start_time": "2024-02-18T17:15:46.595Z"
   },
   {
    "duration": 3,
    "start_time": "2024-02-18T17:15:46.853Z"
   },
   {
    "duration": 3,
    "start_time": "2024-02-18T17:15:46.859Z"
   },
   {
    "duration": 19,
    "start_time": "2024-02-18T17:15:46.863Z"
   },
   {
    "duration": 32,
    "start_time": "2024-02-18T17:15:46.883Z"
   },
   {
    "duration": 1601,
    "start_time": "2024-02-18T17:15:46.916Z"
   },
   {
    "duration": 17,
    "start_time": "2024-02-18T17:15:48.519Z"
   },
   {
    "duration": 9,
    "start_time": "2024-02-18T17:15:48.538Z"
   },
   {
    "duration": 5117,
    "start_time": "2024-02-18T17:15:48.549Z"
   },
   {
    "duration": 2,
    "start_time": "2024-02-18T17:15:53.668Z"
   },
   {
    "duration": 14,
    "start_time": "2024-02-18T17:15:53.672Z"
   },
   {
    "duration": 10,
    "start_time": "2024-02-18T17:15:53.687Z"
   },
   {
    "duration": 130,
    "start_time": "2024-02-18T17:21:23.586Z"
   },
   {
    "duration": 16,
    "start_time": "2024-02-18T17:21:34.591Z"
   },
   {
    "duration": 9017,
    "start_time": "2024-02-18T17:29:12.558Z"
   },
   {
    "duration": 5,
    "start_time": "2024-02-18T17:29:21.578Z"
   },
   {
    "duration": 12,
    "start_time": "2024-02-18T17:29:21.585Z"
   },
   {
    "duration": 3,
    "start_time": "2024-02-18T17:29:21.599Z"
   },
   {
    "duration": 1085,
    "start_time": "2024-02-18T17:29:21.604Z"
   },
   {
    "duration": 16,
    "start_time": "2024-02-18T17:29:22.691Z"
   },
   {
    "duration": 121,
    "start_time": "2024-02-18T17:29:22.708Z"
   },
   {
    "duration": 16,
    "start_time": "2024-02-18T17:29:22.831Z"
   },
   {
    "duration": 82,
    "start_time": "2024-02-18T17:29:22.848Z"
   },
   {
    "duration": 125,
    "start_time": "2024-02-18T17:29:22.932Z"
   },
   {
    "duration": 5,
    "start_time": "2024-02-18T17:29:23.059Z"
   },
   {
    "duration": 156,
    "start_time": "2024-02-18T17:29:23.081Z"
   },
   {
    "duration": 400,
    "start_time": "2024-02-18T17:29:23.238Z"
   },
   {
    "duration": 2,
    "start_time": "2024-02-18T17:29:23.641Z"
   },
   {
    "duration": 44,
    "start_time": "2024-02-18T17:29:23.645Z"
   },
   {
    "duration": 231,
    "start_time": "2024-02-18T17:29:23.690Z"
   },
   {
    "duration": 4,
    "start_time": "2024-02-18T17:29:23.923Z"
   },
   {
    "duration": 26,
    "start_time": "2024-02-18T17:29:23.929Z"
   },
   {
    "duration": 353,
    "start_time": "2024-02-18T17:29:23.957Z"
   },
   {
    "duration": 4,
    "start_time": "2024-02-18T17:29:24.311Z"
   },
   {
    "duration": 5,
    "start_time": "2024-02-18T17:29:24.317Z"
   },
   {
    "duration": 50,
    "start_time": "2024-02-18T17:29:24.324Z"
   },
   {
    "duration": 6,
    "start_time": "2024-02-18T17:29:24.380Z"
   },
   {
    "duration": 6,
    "start_time": "2024-02-18T17:29:24.388Z"
   },
   {
    "duration": 322,
    "start_time": "2024-02-18T17:29:24.396Z"
   },
   {
    "duration": 4,
    "start_time": "2024-02-18T17:29:24.720Z"
   },
   {
    "duration": 11,
    "start_time": "2024-02-18T17:29:24.726Z"
   },
   {
    "duration": 6,
    "start_time": "2024-02-18T17:29:24.738Z"
   },
   {
    "duration": 18,
    "start_time": "2024-02-18T17:29:24.746Z"
   },
   {
    "duration": 1594,
    "start_time": "2024-02-18T17:29:24.766Z"
   },
   {
    "duration": 24,
    "start_time": "2024-02-18T17:29:26.362Z"
   },
   {
    "duration": 6,
    "start_time": "2024-02-18T17:29:26.388Z"
   },
   {
    "duration": 4492,
    "start_time": "2024-02-18T17:29:26.396Z"
   },
   {
    "duration": 4,
    "start_time": "2024-02-18T17:29:30.889Z"
   },
   {
    "duration": 51,
    "start_time": "2024-02-18T17:29:30.894Z"
   },
   {
    "duration": 22,
    "start_time": "2024-02-18T17:29:30.947Z"
   },
   {
    "duration": 13,
    "start_time": "2024-02-18T17:34:56.647Z"
   },
   {
    "duration": 53,
    "start_time": "2024-02-18T17:35:03.107Z"
   },
   {
    "duration": 50,
    "start_time": "2024-02-18T17:35:51.690Z"
   },
   {
    "duration": 3,
    "start_time": "2024-02-18T17:35:55.694Z"
   },
   {
    "duration": 33,
    "start_time": "2024-02-18T17:35:55.699Z"
   },
   {
    "duration": 14,
    "start_time": "2024-02-18T17:35:55.733Z"
   },
   {
    "duration": 6,
    "start_time": "2024-02-18T17:35:55.749Z"
   },
   {
    "duration": 1016,
    "start_time": "2024-02-18T17:35:55.757Z"
   },
   {
    "duration": 24,
    "start_time": "2024-02-18T17:35:56.774Z"
   },
   {
    "duration": 118,
    "start_time": "2024-02-18T17:35:56.799Z"
   },
   {
    "duration": 18,
    "start_time": "2024-02-18T17:35:56.919Z"
   },
   {
    "duration": 86,
    "start_time": "2024-02-18T17:35:56.939Z"
   },
   {
    "duration": 111,
    "start_time": "2024-02-18T17:35:57.026Z"
   },
   {
    "duration": 5,
    "start_time": "2024-02-18T17:35:57.139Z"
   },
   {
    "duration": 165,
    "start_time": "2024-02-18T17:35:57.146Z"
   },
   {
    "duration": 662,
    "start_time": "2024-02-18T17:35:57.313Z"
   },
   {
    "duration": 0,
    "start_time": "2024-02-18T17:35:57.977Z"
   },
   {
    "duration": 0,
    "start_time": "2024-02-18T17:35:57.978Z"
   },
   {
    "duration": 0,
    "start_time": "2024-02-18T17:35:57.979Z"
   },
   {
    "duration": 0,
    "start_time": "2024-02-18T17:35:57.980Z"
   },
   {
    "duration": 0,
    "start_time": "2024-02-18T17:35:57.982Z"
   },
   {
    "duration": 0,
    "start_time": "2024-02-18T17:35:57.983Z"
   },
   {
    "duration": 0,
    "start_time": "2024-02-18T17:35:57.984Z"
   },
   {
    "duration": 0,
    "start_time": "2024-02-18T17:35:57.985Z"
   },
   {
    "duration": 0,
    "start_time": "2024-02-18T17:35:57.986Z"
   },
   {
    "duration": 0,
    "start_time": "2024-02-18T17:35:57.987Z"
   },
   {
    "duration": 0,
    "start_time": "2024-02-18T17:35:57.989Z"
   },
   {
    "duration": 0,
    "start_time": "2024-02-18T17:35:57.991Z"
   },
   {
    "duration": 0,
    "start_time": "2024-02-18T17:35:57.992Z"
   },
   {
    "duration": 0,
    "start_time": "2024-02-18T17:35:57.993Z"
   },
   {
    "duration": 0,
    "start_time": "2024-02-18T17:35:57.995Z"
   },
   {
    "duration": 0,
    "start_time": "2024-02-18T17:35:57.996Z"
   },
   {
    "duration": 0,
    "start_time": "2024-02-18T17:35:57.998Z"
   },
   {
    "duration": 0,
    "start_time": "2024-02-18T17:35:57.999Z"
   },
   {
    "duration": 0,
    "start_time": "2024-02-18T17:35:58.001Z"
   },
   {
    "duration": 0,
    "start_time": "2024-02-18T17:35:58.002Z"
   },
   {
    "duration": 0,
    "start_time": "2024-02-18T17:35:58.005Z"
   },
   {
    "duration": 0,
    "start_time": "2024-02-18T17:35:58.006Z"
   },
   {
    "duration": 0,
    "start_time": "2024-02-18T17:35:58.007Z"
   },
   {
    "duration": 0,
    "start_time": "2024-02-18T17:35:58.009Z"
   },
   {
    "duration": 643,
    "start_time": "2024-02-18T17:36:27.295Z"
   },
   {
    "duration": 24,
    "start_time": "2024-02-18T17:37:21.409Z"
   },
   {
    "duration": 456,
    "start_time": "2024-02-18T17:37:22.358Z"
   },
   {
    "duration": 3,
    "start_time": "2024-02-18T17:37:22.816Z"
   },
   {
    "duration": 37,
    "start_time": "2024-02-18T17:37:22.960Z"
   },
   {
    "duration": 251,
    "start_time": "2024-02-18T17:37:23.156Z"
   },
   {
    "duration": 3,
    "start_time": "2024-02-18T17:37:25.801Z"
   },
   {
    "duration": 18,
    "start_time": "2024-02-18T17:37:25.818Z"
   },
   {
    "duration": 3,
    "start_time": "2024-02-18T17:37:25.839Z"
   },
   {
    "duration": 13,
    "start_time": "2024-02-18T17:37:25.844Z"
   },
   {
    "duration": 1075,
    "start_time": "2024-02-18T17:37:25.859Z"
   },
   {
    "duration": 15,
    "start_time": "2024-02-18T17:37:26.936Z"
   },
   {
    "duration": 118,
    "start_time": "2024-02-18T17:37:26.952Z"
   },
   {
    "duration": 20,
    "start_time": "2024-02-18T17:37:27.072Z"
   },
   {
    "duration": 106,
    "start_time": "2024-02-18T17:37:27.093Z"
   },
   {
    "duration": 122,
    "start_time": "2024-02-18T17:37:27.200Z"
   },
   {
    "duration": 5,
    "start_time": "2024-02-18T17:37:27.324Z"
   },
   {
    "duration": 164,
    "start_time": "2024-02-18T17:37:27.331Z"
   },
   {
    "duration": 24,
    "start_time": "2024-02-18T17:37:27.497Z"
   },
   {
    "duration": 391,
    "start_time": "2024-02-18T17:37:27.523Z"
   },
   {
    "duration": 2,
    "start_time": "2024-02-18T17:37:27.919Z"
   },
   {
    "duration": 31,
    "start_time": "2024-02-18T17:37:27.922Z"
   },
   {
    "duration": 232,
    "start_time": "2024-02-18T17:37:27.954Z"
   },
   {
    "duration": 4,
    "start_time": "2024-02-18T17:37:28.188Z"
   },
   {
    "duration": 68,
    "start_time": "2024-02-18T17:37:28.193Z"
   },
   {
    "duration": 228,
    "start_time": "2024-02-18T17:37:28.263Z"
   },
   {
    "duration": 4,
    "start_time": "2024-02-18T17:37:28.493Z"
   },
   {
    "duration": 3,
    "start_time": "2024-02-18T17:37:28.499Z"
   },
   {
    "duration": 38,
    "start_time": "2024-02-18T17:37:28.504Z"
   },
   {
    "duration": 7,
    "start_time": "2024-02-18T17:37:28.544Z"
   },
   {
    "duration": 30,
    "start_time": "2024-02-18T17:37:28.552Z"
   },
   {
    "duration": 289,
    "start_time": "2024-02-18T17:37:28.584Z"
   },
   {
    "duration": 3,
    "start_time": "2024-02-18T17:37:28.879Z"
   },
   {
    "duration": 8,
    "start_time": "2024-02-18T17:37:28.884Z"
   },
   {
    "duration": 6,
    "start_time": "2024-02-18T17:37:28.893Z"
   },
   {
    "duration": 21,
    "start_time": "2024-02-18T17:37:28.900Z"
   },
   {
    "duration": 1598,
    "start_time": "2024-02-18T17:37:28.923Z"
   },
   {
    "duration": 21,
    "start_time": "2024-02-18T17:37:30.523Z"
   },
   {
    "duration": 22,
    "start_time": "2024-02-18T17:37:30.546Z"
   },
   {
    "duration": 5048,
    "start_time": "2024-02-18T17:37:30.570Z"
   },
   {
    "duration": 2,
    "start_time": "2024-02-18T17:37:35.620Z"
   },
   {
    "duration": 14,
    "start_time": "2024-02-18T17:37:35.624Z"
   },
   {
    "duration": 8,
    "start_time": "2024-02-18T17:37:35.640Z"
   },
   {
    "duration": 58,
    "start_time": "2024-02-18T17:39:06.842Z"
   },
   {
    "duration": 3,
    "start_time": "2024-02-18T17:39:17.939Z"
   },
   {
    "duration": 7,
    "start_time": "2024-02-18T17:39:17.944Z"
   },
   {
    "duration": 6,
    "start_time": "2024-02-18T17:39:17.953Z"
   },
   {
    "duration": 4,
    "start_time": "2024-02-18T17:39:17.961Z"
   },
   {
    "duration": 1088,
    "start_time": "2024-02-18T17:39:17.967Z"
   },
   {
    "duration": 15,
    "start_time": "2024-02-18T17:39:19.057Z"
   },
   {
    "duration": 111,
    "start_time": "2024-02-18T17:39:19.080Z"
   },
   {
    "duration": 16,
    "start_time": "2024-02-18T17:39:19.193Z"
   },
   {
    "duration": 83,
    "start_time": "2024-02-18T17:39:19.210Z"
   },
   {
    "duration": 105,
    "start_time": "2024-02-18T17:39:19.295Z"
   },
   {
    "duration": 7,
    "start_time": "2024-02-18T17:39:19.401Z"
   },
   {
    "duration": 157,
    "start_time": "2024-02-18T17:39:19.409Z"
   },
   {
    "duration": 653,
    "start_time": "2024-02-18T17:39:19.568Z"
   },
   {
    "duration": 0,
    "start_time": "2024-02-18T17:39:20.223Z"
   },
   {
    "duration": 0,
    "start_time": "2024-02-18T17:39:20.224Z"
   },
   {
    "duration": 0,
    "start_time": "2024-02-18T17:39:20.225Z"
   },
   {
    "duration": 0,
    "start_time": "2024-02-18T17:39:20.227Z"
   },
   {
    "duration": 0,
    "start_time": "2024-02-18T17:39:20.228Z"
   },
   {
    "duration": 0,
    "start_time": "2024-02-18T17:39:20.230Z"
   },
   {
    "duration": 0,
    "start_time": "2024-02-18T17:39:20.231Z"
   },
   {
    "duration": 0,
    "start_time": "2024-02-18T17:39:20.233Z"
   },
   {
    "duration": 0,
    "start_time": "2024-02-18T17:39:20.234Z"
   },
   {
    "duration": 0,
    "start_time": "2024-02-18T17:39:20.235Z"
   },
   {
    "duration": 0,
    "start_time": "2024-02-18T17:39:20.237Z"
   },
   {
    "duration": 0,
    "start_time": "2024-02-18T17:39:20.238Z"
   },
   {
    "duration": 0,
    "start_time": "2024-02-18T17:39:20.240Z"
   },
   {
    "duration": 0,
    "start_time": "2024-02-18T17:39:20.242Z"
   },
   {
    "duration": 0,
    "start_time": "2024-02-18T17:39:20.243Z"
   },
   {
    "duration": 0,
    "start_time": "2024-02-18T17:39:20.244Z"
   },
   {
    "duration": 0,
    "start_time": "2024-02-18T17:39:20.245Z"
   },
   {
    "duration": 0,
    "start_time": "2024-02-18T17:39:20.247Z"
   },
   {
    "duration": 0,
    "start_time": "2024-02-18T17:39:20.249Z"
   },
   {
    "duration": 0,
    "start_time": "2024-02-18T17:39:20.250Z"
   },
   {
    "duration": 0,
    "start_time": "2024-02-18T17:39:20.251Z"
   },
   {
    "duration": 0,
    "start_time": "2024-02-18T17:39:20.253Z"
   },
   {
    "duration": 0,
    "start_time": "2024-02-18T17:39:20.254Z"
   },
   {
    "duration": 0,
    "start_time": "2024-02-18T17:39:20.255Z"
   },
   {
    "duration": 3,
    "start_time": "2024-02-18T17:39:37.570Z"
   },
   {
    "duration": 465,
    "start_time": "2024-02-18T17:39:39.956Z"
   },
   {
    "duration": 169,
    "start_time": "2024-02-18T17:42:01.955Z"
   },
   {
    "duration": 22,
    "start_time": "2024-02-18T17:42:14.184Z"
   },
   {
    "duration": 8460,
    "start_time": "2024-02-18T17:47:14.410Z"
   },
   {
    "duration": 1771,
    "start_time": "2024-02-18T17:47:22.873Z"
   },
   {
    "duration": 3,
    "start_time": "2024-02-18T17:47:24.646Z"
   },
   {
    "duration": 12,
    "start_time": "2024-02-18T17:47:24.651Z"
   },
   {
    "duration": 1132,
    "start_time": "2024-02-18T17:47:24.664Z"
   },
   {
    "duration": 18,
    "start_time": "2024-02-18T17:47:25.798Z"
   },
   {
    "duration": 130,
    "start_time": "2024-02-18T17:47:25.817Z"
   },
   {
    "duration": 33,
    "start_time": "2024-02-18T17:47:25.948Z"
   },
   {
    "duration": 84,
    "start_time": "2024-02-18T17:47:25.983Z"
   },
   {
    "duration": 155,
    "start_time": "2024-02-18T17:47:26.070Z"
   },
   {
    "duration": 5,
    "start_time": "2024-02-18T17:47:26.227Z"
   },
   {
    "duration": 167,
    "start_time": "2024-02-18T17:47:26.234Z"
   },
   {
    "duration": 2,
    "start_time": "2024-02-18T17:47:26.403Z"
   },
   {
    "duration": 518,
    "start_time": "2024-02-18T17:47:26.407Z"
   },
   {
    "duration": 142,
    "start_time": "2024-02-18T17:47:26.927Z"
   },
   {
    "duration": 0,
    "start_time": "2024-02-18T17:47:27.071Z"
   },
   {
    "duration": 0,
    "start_time": "2024-02-18T17:47:27.072Z"
   },
   {
    "duration": 0,
    "start_time": "2024-02-18T17:47:27.080Z"
   },
   {
    "duration": 0,
    "start_time": "2024-02-18T17:47:27.081Z"
   },
   {
    "duration": 0,
    "start_time": "2024-02-18T17:47:27.082Z"
   },
   {
    "duration": 0,
    "start_time": "2024-02-18T17:47:27.083Z"
   },
   {
    "duration": 0,
    "start_time": "2024-02-18T17:47:27.084Z"
   },
   {
    "duration": 0,
    "start_time": "2024-02-18T17:47:27.085Z"
   },
   {
    "duration": 0,
    "start_time": "2024-02-18T17:47:27.086Z"
   },
   {
    "duration": 0,
    "start_time": "2024-02-18T17:47:27.087Z"
   },
   {
    "duration": 0,
    "start_time": "2024-02-18T17:47:27.088Z"
   },
   {
    "duration": 0,
    "start_time": "2024-02-18T17:47:27.090Z"
   },
   {
    "duration": 0,
    "start_time": "2024-02-18T17:47:27.091Z"
   },
   {
    "duration": 0,
    "start_time": "2024-02-18T17:47:27.091Z"
   },
   {
    "duration": 0,
    "start_time": "2024-02-18T17:47:27.093Z"
   },
   {
    "duration": 0,
    "start_time": "2024-02-18T17:47:27.094Z"
   },
   {
    "duration": 0,
    "start_time": "2024-02-18T17:47:27.095Z"
   },
   {
    "duration": 0,
    "start_time": "2024-02-18T17:47:27.096Z"
   },
   {
    "duration": 0,
    "start_time": "2024-02-18T17:47:27.097Z"
   },
   {
    "duration": 0,
    "start_time": "2024-02-18T17:47:27.098Z"
   },
   {
    "duration": 0,
    "start_time": "2024-02-18T17:47:27.099Z"
   },
   {
    "duration": 0,
    "start_time": "2024-02-18T17:47:27.100Z"
   },
   {
    "duration": 176,
    "start_time": "2024-02-18T17:48:13.014Z"
   },
   {
    "duration": 163,
    "start_time": "2024-02-18T17:50:15.355Z"
   },
   {
    "duration": 158,
    "start_time": "2024-02-18T17:50:21.216Z"
   },
   {
    "duration": 159,
    "start_time": "2024-02-18T17:51:04.388Z"
   },
   {
    "duration": 160,
    "start_time": "2024-02-18T17:53:28.226Z"
   },
   {
    "duration": 8416,
    "start_time": "2024-02-18T17:55:14.906Z"
   },
   {
    "duration": 1733,
    "start_time": "2024-02-18T17:55:23.324Z"
   },
   {
    "duration": 3,
    "start_time": "2024-02-18T17:55:25.059Z"
   },
   {
    "duration": 38,
    "start_time": "2024-02-18T17:55:25.064Z"
   },
   {
    "duration": 1187,
    "start_time": "2024-02-18T17:55:25.104Z"
   },
   {
    "duration": 18,
    "start_time": "2024-02-18T17:55:26.293Z"
   },
   {
    "duration": 124,
    "start_time": "2024-02-18T17:55:26.312Z"
   },
   {
    "duration": 27,
    "start_time": "2024-02-18T17:55:26.438Z"
   },
   {
    "duration": 100,
    "start_time": "2024-02-18T17:55:26.467Z"
   },
   {
    "duration": 151,
    "start_time": "2024-02-18T17:55:26.571Z"
   },
   {
    "duration": 4,
    "start_time": "2024-02-18T17:55:26.724Z"
   },
   {
    "duration": 170,
    "start_time": "2024-02-18T17:55:26.730Z"
   },
   {
    "duration": 3,
    "start_time": "2024-02-18T17:55:26.902Z"
   },
   {
    "duration": 522,
    "start_time": "2024-02-18T17:55:26.907Z"
   },
   {
    "duration": 190,
    "start_time": "2024-02-18T17:55:27.430Z"
   },
   {
    "duration": 64,
    "start_time": "2024-02-18T17:55:27.622Z"
   },
   {
    "duration": 223,
    "start_time": "2024-02-18T17:55:27.688Z"
   },
   {
    "duration": 5,
    "start_time": "2024-02-18T17:55:27.913Z"
   },
   {
    "duration": 22,
    "start_time": "2024-02-18T17:55:27.920Z"
   },
   {
    "duration": 241,
    "start_time": "2024-02-18T17:55:27.944Z"
   },
   {
    "duration": 5,
    "start_time": "2024-02-18T17:55:28.187Z"
   },
   {
    "duration": 3,
    "start_time": "2024-02-18T17:55:28.193Z"
   },
   {
    "duration": 27,
    "start_time": "2024-02-18T17:55:28.198Z"
   },
   {
    "duration": 6,
    "start_time": "2024-02-18T17:55:28.226Z"
   },
   {
    "duration": 6,
    "start_time": "2024-02-18T17:55:28.234Z"
   },
   {
    "duration": 271,
    "start_time": "2024-02-18T17:55:28.241Z"
   },
   {
    "duration": 5,
    "start_time": "2024-02-18T17:55:28.514Z"
   },
   {
    "duration": 4,
    "start_time": "2024-02-18T17:55:28.523Z"
   },
   {
    "duration": 7,
    "start_time": "2024-02-18T17:55:28.529Z"
   },
   {
    "duration": 11,
    "start_time": "2024-02-18T17:55:28.537Z"
   },
   {
    "duration": 1597,
    "start_time": "2024-02-18T17:55:28.549Z"
   },
   {
    "duration": 15,
    "start_time": "2024-02-18T17:55:30.148Z"
   },
   {
    "duration": 28,
    "start_time": "2024-02-18T17:55:30.165Z"
   },
   {
    "duration": 5523,
    "start_time": "2024-02-18T17:55:30.195Z"
   },
   {
    "duration": 3,
    "start_time": "2024-02-18T17:55:35.720Z"
   },
   {
    "duration": 14,
    "start_time": "2024-02-18T17:55:35.725Z"
   },
   {
    "duration": 9,
    "start_time": "2024-02-18T17:55:35.741Z"
   },
   {
    "duration": 8399,
    "start_time": "2024-02-18T17:57:38.564Z"
   },
   {
    "duration": 1759,
    "start_time": "2024-02-18T17:57:46.966Z"
   },
   {
    "duration": 3,
    "start_time": "2024-02-18T17:57:48.727Z"
   },
   {
    "duration": 16,
    "start_time": "2024-02-18T17:57:48.732Z"
   },
   {
    "duration": 1146,
    "start_time": "2024-02-18T17:57:48.750Z"
   },
   {
    "duration": 18,
    "start_time": "2024-02-18T17:57:49.897Z"
   },
   {
    "duration": 131,
    "start_time": "2024-02-18T17:57:49.917Z"
   },
   {
    "duration": 39,
    "start_time": "2024-02-18T17:57:50.050Z"
   },
   {
    "duration": 76,
    "start_time": "2024-02-18T17:57:50.090Z"
   },
   {
    "duration": 167,
    "start_time": "2024-02-18T17:57:50.167Z"
   },
   {
    "duration": 6,
    "start_time": "2024-02-18T17:57:50.336Z"
   },
   {
    "duration": 170,
    "start_time": "2024-02-18T17:57:50.345Z"
   },
   {
    "duration": 2,
    "start_time": "2024-02-18T17:57:50.517Z"
   },
   {
    "duration": 502,
    "start_time": "2024-02-18T17:57:50.523Z"
   },
   {
    "duration": 195,
    "start_time": "2024-02-18T17:57:51.027Z"
   },
   {
    "duration": 29,
    "start_time": "2024-02-18T17:57:51.224Z"
   },
   {
    "duration": 246,
    "start_time": "2024-02-18T17:57:51.255Z"
   },
   {
    "duration": 4,
    "start_time": "2024-02-18T17:57:51.503Z"
   },
   {
    "duration": 25,
    "start_time": "2024-02-18T17:57:51.508Z"
   },
   {
    "duration": 246,
    "start_time": "2024-02-18T17:57:51.534Z"
   },
   {
    "duration": 10,
    "start_time": "2024-02-18T17:57:51.782Z"
   },
   {
    "duration": 101326,
    "start_time": "2024-02-18T17:57:51.794Z"
   },
   {
    "duration": 36,
    "start_time": "2024-02-18T17:59:33.122Z"
   },
   {
    "duration": 23,
    "start_time": "2024-02-18T17:59:33.160Z"
   },
   {
    "duration": 39,
    "start_time": "2024-02-18T17:59:33.184Z"
   },
   {
    "duration": 250,
    "start_time": "2024-02-18T17:59:33.225Z"
   },
   {
    "duration": 4,
    "start_time": "2024-02-18T17:59:33.476Z"
   },
   {
    "duration": 15,
    "start_time": "2024-02-18T17:59:33.482Z"
   },
   {
    "duration": 33,
    "start_time": "2024-02-18T17:59:33.498Z"
   },
   {
    "duration": 99,
    "start_time": "2024-02-18T17:59:33.533Z"
   },
   {
    "duration": 1777,
    "start_time": "2024-02-18T17:59:33.634Z"
   },
   {
    "duration": 15,
    "start_time": "2024-02-18T17:59:35.413Z"
   },
   {
    "duration": 19,
    "start_time": "2024-02-18T17:59:35.430Z"
   },
   {
    "duration": 4591,
    "start_time": "2024-02-18T17:59:35.451Z"
   },
   {
    "duration": 3,
    "start_time": "2024-02-18T17:59:40.043Z"
   },
   {
    "duration": 61,
    "start_time": "2024-02-18T17:59:40.048Z"
   },
   {
    "duration": 32,
    "start_time": "2024-02-18T17:59:40.110Z"
   },
   {
    "duration": 8329,
    "start_time": "2024-02-18T18:27:17.687Z"
   },
   {
    "duration": 1708,
    "start_time": "2024-02-18T18:27:26.018Z"
   },
   {
    "duration": 3,
    "start_time": "2024-02-18T18:27:27.727Z"
   },
   {
    "duration": 23,
    "start_time": "2024-02-18T18:27:27.732Z"
   },
   {
    "duration": 1126,
    "start_time": "2024-02-18T18:27:27.757Z"
   },
   {
    "duration": 19,
    "start_time": "2024-02-18T18:27:28.884Z"
   },
   {
    "duration": 122,
    "start_time": "2024-02-18T18:27:28.905Z"
   },
   {
    "duration": 29,
    "start_time": "2024-02-18T18:27:29.028Z"
   },
   {
    "duration": 89,
    "start_time": "2024-02-18T18:27:29.059Z"
   },
   {
    "duration": 155,
    "start_time": "2024-02-18T18:27:29.150Z"
   },
   {
    "duration": 5,
    "start_time": "2024-02-18T18:27:29.307Z"
   },
   {
    "duration": 174,
    "start_time": "2024-02-18T18:27:29.313Z"
   },
   {
    "duration": 2,
    "start_time": "2024-02-18T18:27:29.489Z"
   },
   {
    "duration": 491,
    "start_time": "2024-02-18T18:27:29.494Z"
   },
   {
    "duration": 213,
    "start_time": "2024-02-18T18:27:29.987Z"
   },
   {
    "duration": 36,
    "start_time": "2024-02-18T18:27:30.202Z"
   },
   {
    "duration": 247,
    "start_time": "2024-02-18T18:27:30.240Z"
   },
   {
    "duration": 5,
    "start_time": "2024-02-18T18:27:30.489Z"
   },
   {
    "duration": 59,
    "start_time": "2024-02-18T18:27:30.496Z"
   },
   {
    "duration": 265,
    "start_time": "2024-02-18T18:27:30.557Z"
   },
   {
    "duration": 5,
    "start_time": "2024-02-18T18:27:30.823Z"
   },
   {
    "duration": 45913,
    "start_time": "2024-02-18T18:27:30.830Z"
   },
   {
    "duration": 0,
    "start_time": "2024-02-18T18:28:16.745Z"
   },
   {
    "duration": 0,
    "start_time": "2024-02-18T18:28:16.746Z"
   },
   {
    "duration": 0,
    "start_time": "2024-02-18T18:28:16.747Z"
   },
   {
    "duration": 0,
    "start_time": "2024-02-18T18:28:16.748Z"
   },
   {
    "duration": 0,
    "start_time": "2024-02-18T18:28:16.749Z"
   },
   {
    "duration": 0,
    "start_time": "2024-02-18T18:28:16.750Z"
   },
   {
    "duration": 0,
    "start_time": "2024-02-18T18:28:16.751Z"
   },
   {
    "duration": 0,
    "start_time": "2024-02-18T18:28:16.752Z"
   },
   {
    "duration": 0,
    "start_time": "2024-02-18T18:28:16.753Z"
   },
   {
    "duration": 0,
    "start_time": "2024-02-18T18:28:16.754Z"
   },
   {
    "duration": 0,
    "start_time": "2024-02-18T18:28:16.755Z"
   },
   {
    "duration": 0,
    "start_time": "2024-02-18T18:28:16.756Z"
   },
   {
    "duration": 0,
    "start_time": "2024-02-18T18:28:16.757Z"
   },
   {
    "duration": 0,
    "start_time": "2024-02-18T18:28:16.758Z"
   },
   {
    "duration": 0,
    "start_time": "2024-02-18T18:28:16.759Z"
   },
   {
    "duration": 2,
    "start_time": "2024-02-18T18:28:20.593Z"
   },
   {
    "duration": 48,
    "start_time": "2024-02-18T18:28:22.276Z"
   },
   {
    "duration": 9,
    "start_time": "2024-02-18T18:28:22.846Z"
   },
   {
    "duration": 4,
    "start_time": "2024-02-18T18:28:24.156Z"
   },
   {
    "duration": 317,
    "start_time": "2024-02-18T18:28:24.539Z"
   },
   {
    "duration": 3,
    "start_time": "2024-02-18T18:28:26.330Z"
   },
   {
    "duration": 3,
    "start_time": "2024-02-18T18:28:26.623Z"
   },
   {
    "duration": 5,
    "start_time": "2024-02-18T18:28:26.885Z"
   },
   {
    "duration": 5,
    "start_time": "2024-02-18T18:28:27.919Z"
   },
   {
    "duration": 2920,
    "start_time": "2024-02-18T18:28:28.560Z"
   },
   {
    "duration": 19,
    "start_time": "2024-02-18T18:29:22.925Z"
   },
   {
    "duration": 6,
    "start_time": "2024-02-18T18:29:23.583Z"
   },
   {
    "duration": 5382,
    "start_time": "2024-02-18T18:29:25.490Z"
   },
   {
    "duration": 59,
    "start_time": "2024-02-18T18:32:33.953Z"
   },
   {
    "duration": 5161,
    "start_time": "2024-02-18T18:32:39.668Z"
   },
   {
    "duration": 97,
    "start_time": "2024-02-18T18:38:21.694Z"
   },
   {
    "duration": 93,
    "start_time": "2024-02-18T18:38:43.134Z"
   },
   {
    "duration": 112,
    "start_time": "2024-02-18T18:38:49.378Z"
   },
   {
    "duration": 93,
    "start_time": "2024-02-18T18:38:54.808Z"
   },
   {
    "duration": 114,
    "start_time": "2024-02-18T18:39:26.314Z"
   },
   {
    "duration": 20,
    "start_time": "2024-02-18T18:39:45.534Z"
   },
   {
    "duration": 8406,
    "start_time": "2024-02-18T18:40:03.403Z"
   },
   {
    "duration": 6,
    "start_time": "2024-02-18T18:40:11.811Z"
   },
   {
    "duration": 67,
    "start_time": "2024-02-18T18:40:11.818Z"
   },
   {
    "duration": 42,
    "start_time": "2024-02-18T18:40:11.886Z"
   },
   {
    "duration": 1106,
    "start_time": "2024-02-18T18:40:11.930Z"
   },
   {
    "duration": 16,
    "start_time": "2024-02-18T18:40:13.037Z"
   },
   {
    "duration": 136,
    "start_time": "2024-02-18T18:40:13.054Z"
   },
   {
    "duration": 17,
    "start_time": "2024-02-18T18:40:13.191Z"
   },
   {
    "duration": 91,
    "start_time": "2024-02-18T18:40:13.209Z"
   },
   {
    "duration": 108,
    "start_time": "2024-02-18T18:40:13.301Z"
   },
   {
    "duration": 28,
    "start_time": "2024-02-18T18:40:13.411Z"
   },
   {
    "duration": 148,
    "start_time": "2024-02-18T18:40:13.441Z"
   },
   {
    "duration": 3,
    "start_time": "2024-02-18T18:40:13.590Z"
   },
   {
    "duration": 438,
    "start_time": "2024-02-18T18:40:13.595Z"
   },
   {
    "duration": 180,
    "start_time": "2024-02-18T18:40:14.035Z"
   },
   {
    "duration": 25,
    "start_time": "2024-02-18T18:40:14.217Z"
   },
   {
    "duration": 228,
    "start_time": "2024-02-18T18:40:14.244Z"
   },
   {
    "duration": 7,
    "start_time": "2024-02-18T18:40:14.474Z"
   },
   {
    "duration": 38,
    "start_time": "2024-02-18T18:40:14.483Z"
   },
   {
    "duration": 257,
    "start_time": "2024-02-18T18:40:14.523Z"
   },
   {
    "duration": 4,
    "start_time": "2024-02-18T18:40:14.781Z"
   },
   {
    "duration": 18,
    "start_time": "2024-02-18T18:40:14.787Z"
   },
   {
    "duration": 62,
    "start_time": "2024-02-18T18:40:14.806Z"
   },
   {
    "duration": 23,
    "start_time": "2024-02-18T18:40:14.869Z"
   },
   {
    "duration": 17,
    "start_time": "2024-02-18T18:40:14.894Z"
   },
   {
    "duration": 366,
    "start_time": "2024-02-18T18:40:14.913Z"
   },
   {
    "duration": 5,
    "start_time": "2024-02-18T18:40:15.281Z"
   },
   {
    "duration": 19,
    "start_time": "2024-02-18T18:40:15.287Z"
   },
   {
    "duration": 19,
    "start_time": "2024-02-18T18:40:15.308Z"
   },
   {
    "duration": 63,
    "start_time": "2024-02-18T18:40:15.329Z"
   },
   {
    "duration": 2672,
    "start_time": "2024-02-18T18:40:15.394Z"
   },
   {
    "duration": 26,
    "start_time": "2024-02-18T18:40:18.067Z"
   },
   {
    "duration": 5,
    "start_time": "2024-02-18T18:40:18.095Z"
   },
   {
    "duration": 4969,
    "start_time": "2024-02-18T18:40:18.101Z"
   },
   {
    "duration": 26,
    "start_time": "2024-02-18T18:40:23.071Z"
   },
   {
    "duration": 0,
    "start_time": "2024-02-18T18:40:23.099Z"
   },
   {
    "duration": 0,
    "start_time": "2024-02-18T18:40:23.101Z"
   },
   {
    "duration": 24,
    "start_time": "2024-02-18T18:41:42.510Z"
   },
   {
    "duration": 825,
    "start_time": "2024-02-18T18:43:30.305Z"
   },
   {
    "duration": 18,
    "start_time": "2024-02-18T18:44:11.483Z"
   },
   {
    "duration": 20,
    "start_time": "2024-02-18T18:44:19.599Z"
   },
   {
    "duration": 12639,
    "start_time": "2024-02-18T18:45:42.862Z"
   },
   {
    "duration": 1993,
    "start_time": "2024-02-18T18:45:55.503Z"
   },
   {
    "duration": 3,
    "start_time": "2024-02-18T18:45:57.497Z"
   },
   {
    "duration": 7,
    "start_time": "2024-02-18T18:45:57.502Z"
   },
   {
    "duration": 1190,
    "start_time": "2024-02-18T18:45:57.510Z"
   },
   {
    "duration": 25,
    "start_time": "2024-02-18T18:45:58.704Z"
   },
   {
    "duration": 143,
    "start_time": "2024-02-18T18:45:58.731Z"
   },
   {
    "duration": 38,
    "start_time": "2024-02-18T18:45:58.880Z"
   },
   {
    "duration": 75,
    "start_time": "2024-02-18T18:45:58.919Z"
   },
   {
    "duration": 150,
    "start_time": "2024-02-18T18:45:58.997Z"
   },
   {
    "duration": 5,
    "start_time": "2024-02-18T18:45:59.148Z"
   },
   {
    "duration": 174,
    "start_time": "2024-02-18T18:45:59.154Z"
   },
   {
    "duration": 2,
    "start_time": "2024-02-18T18:45:59.330Z"
   },
   {
    "duration": 421,
    "start_time": "2024-02-18T18:45:59.333Z"
   },
   {
    "duration": 198,
    "start_time": "2024-02-18T18:45:59.756Z"
   },
   {
    "duration": 41,
    "start_time": "2024-02-18T18:45:59.956Z"
   },
   {
    "duration": 347,
    "start_time": "2024-02-18T18:45:59.999Z"
   },
   {
    "duration": 4,
    "start_time": "2024-02-18T18:46:00.347Z"
   },
   {
    "duration": 74,
    "start_time": "2024-02-18T18:46:00.353Z"
   },
   {
    "duration": 269,
    "start_time": "2024-02-18T18:46:00.429Z"
   },
   {
    "duration": 4,
    "start_time": "2024-02-18T18:46:00.699Z"
   },
   {
    "duration": 39,
    "start_time": "2024-02-18T18:46:00.705Z"
   },
   {
    "duration": 53,
    "start_time": "2024-02-18T18:46:00.746Z"
   },
   {
    "duration": 10,
    "start_time": "2024-02-18T18:46:00.800Z"
   },
   {
    "duration": 35,
    "start_time": "2024-02-18T18:46:00.812Z"
   },
   {
    "duration": 361,
    "start_time": "2024-02-18T18:46:00.849Z"
   },
   {
    "duration": 3,
    "start_time": "2024-02-18T18:46:01.212Z"
   },
   {
    "duration": 48,
    "start_time": "2024-02-18T18:46:01.218Z"
   },
   {
    "duration": 35,
    "start_time": "2024-02-18T18:46:01.268Z"
   },
   {
    "duration": 22,
    "start_time": "2024-02-18T18:46:01.305Z"
   },
   {
    "duration": 2883,
    "start_time": "2024-02-18T18:46:01.329Z"
   },
   {
    "duration": 19,
    "start_time": "2024-02-18T18:46:04.214Z"
   },
   {
    "duration": 5,
    "start_time": "2024-02-18T18:46:04.235Z"
   },
   {
    "duration": 6050,
    "start_time": "2024-02-18T18:46:04.242Z"
   },
   {
    "duration": 7,
    "start_time": "2024-02-18T18:46:10.294Z"
   },
   {
    "duration": 25,
    "start_time": "2024-02-18T18:46:10.303Z"
   },
   {
    "duration": 7,
    "start_time": "2024-02-18T18:46:10.330Z"
   },
   {
    "duration": 4,
    "start_time": "2024-02-18T18:47:24.276Z"
   },
   {
    "duration": 4,
    "start_time": "2024-02-18T18:52:04.271Z"
   },
   {
    "duration": 52,
    "start_time": "2024-02-18T18:52:05.903Z"
   },
   {
    "duration": 144710,
    "start_time": "2024-02-18T18:52:14.890Z"
   },
   {
    "duration": 4,
    "start_time": "2024-02-18T18:54:50.467Z"
   },
   {
    "duration": 95024,
    "start_time": "2024-02-18T18:54:51.518Z"
   },
   {
    "duration": 11747,
    "start_time": "2024-02-18T18:57:36.423Z"
   },
   {
    "duration": 2002,
    "start_time": "2024-02-18T18:57:48.172Z"
   },
   {
    "duration": 8,
    "start_time": "2024-02-18T18:57:50.176Z"
   },
   {
    "duration": 3,
    "start_time": "2024-02-18T18:57:50.194Z"
   },
   {
    "duration": 1223,
    "start_time": "2024-02-18T18:57:50.199Z"
   },
   {
    "duration": 19,
    "start_time": "2024-02-18T18:57:51.424Z"
   },
   {
    "duration": 128,
    "start_time": "2024-02-18T18:57:51.444Z"
   },
   {
    "duration": 30,
    "start_time": "2024-02-18T18:57:51.574Z"
   },
   {
    "duration": 93,
    "start_time": "2024-02-18T18:57:51.605Z"
   },
   {
    "duration": 146,
    "start_time": "2024-02-18T18:57:51.699Z"
   },
   {
    "duration": 5,
    "start_time": "2024-02-18T18:57:51.847Z"
   },
   {
    "duration": 176,
    "start_time": "2024-02-18T18:57:51.853Z"
   },
   {
    "duration": 3,
    "start_time": "2024-02-18T18:57:52.030Z"
   },
   {
    "duration": 467,
    "start_time": "2024-02-18T18:57:52.037Z"
   },
   {
    "duration": 200,
    "start_time": "2024-02-18T18:57:52.505Z"
   },
   {
    "duration": 24,
    "start_time": "2024-02-18T18:57:52.707Z"
   },
   {
    "duration": 339,
    "start_time": "2024-02-18T18:57:52.733Z"
   },
   {
    "duration": 19,
    "start_time": "2024-02-18T18:57:53.074Z"
   },
   {
    "duration": 23,
    "start_time": "2024-02-18T18:57:53.095Z"
   },
   {
    "duration": 246,
    "start_time": "2024-02-18T18:57:53.120Z"
   },
   {
    "duration": 4,
    "start_time": "2024-02-18T18:57:53.367Z"
   },
   {
    "duration": 22,
    "start_time": "2024-02-18T18:57:53.372Z"
   },
   {
    "duration": 40,
    "start_time": "2024-02-18T18:57:53.395Z"
   },
   {
    "duration": 7,
    "start_time": "2024-02-18T18:57:53.437Z"
   },
   {
    "duration": 22,
    "start_time": "2024-02-18T18:57:53.446Z"
   },
   {
    "duration": 357,
    "start_time": "2024-02-18T18:57:53.470Z"
   },
   {
    "duration": 4,
    "start_time": "2024-02-18T18:57:53.829Z"
   },
   {
    "duration": 34,
    "start_time": "2024-02-18T18:57:53.834Z"
   },
   {
    "duration": 32,
    "start_time": "2024-02-18T18:57:53.870Z"
   },
   {
    "duration": 23,
    "start_time": "2024-02-18T18:57:53.904Z"
   },
   {
    "duration": 2833,
    "start_time": "2024-02-18T18:57:53.929Z"
   },
   {
    "duration": 31,
    "start_time": "2024-02-18T18:57:56.764Z"
   },
   {
    "duration": 15,
    "start_time": "2024-02-18T18:57:56.797Z"
   },
   {
    "duration": 5627,
    "start_time": "2024-02-18T18:57:56.814Z"
   },
   {
    "duration": 3,
    "start_time": "2024-02-18T18:58:02.442Z"
   },
   {
    "duration": 24,
    "start_time": "2024-02-18T18:58:02.446Z"
   },
   {
    "duration": 282,
    "start_time": "2024-02-18T18:58:02.472Z"
   },
   {
    "duration": 2,
    "start_time": "2024-02-18T18:58:02.756Z"
   },
   {
    "duration": 34,
    "start_time": "2024-02-18T18:58:02.760Z"
   },
   {
    "duration": 249891,
    "start_time": "2024-02-18T18:58:21.029Z"
   },
   {
    "duration": 112,
    "start_time": "2024-02-18T19:02:33.446Z"
   },
   {
    "duration": 4,
    "start_time": "2024-02-18T19:03:03.885Z"
   },
   {
    "duration": 10,
    "start_time": "2024-02-18T19:03:03.891Z"
   },
   {
    "duration": 16,
    "start_time": "2024-02-18T19:03:03.902Z"
   },
   {
    "duration": 5,
    "start_time": "2024-02-18T19:03:03.919Z"
   },
   {
    "duration": 1079,
    "start_time": "2024-02-18T19:03:03.926Z"
   },
   {
    "duration": 15,
    "start_time": "2024-02-18T19:03:05.007Z"
   },
   {
    "duration": 127,
    "start_time": "2024-02-18T19:03:05.023Z"
   },
   {
    "duration": 15,
    "start_time": "2024-02-18T19:03:05.152Z"
   },
   {
    "duration": 89,
    "start_time": "2024-02-18T19:03:05.168Z"
   },
   {
    "duration": 114,
    "start_time": "2024-02-18T19:03:05.259Z"
   },
   {
    "duration": 11,
    "start_time": "2024-02-18T19:03:05.380Z"
   },
   {
    "duration": 150,
    "start_time": "2024-02-18T19:03:05.400Z"
   },
   {
    "duration": 3,
    "start_time": "2024-02-18T19:03:05.552Z"
   },
   {
    "duration": 435,
    "start_time": "2024-02-18T19:03:05.558Z"
   },
   {
    "duration": 166,
    "start_time": "2024-02-18T19:03:05.994Z"
   },
   {
    "duration": 34,
    "start_time": "2024-02-18T19:03:06.162Z"
   },
   {
    "duration": 221,
    "start_time": "2024-02-18T19:03:06.197Z"
   },
   {
    "duration": 3,
    "start_time": "2024-02-18T19:03:06.420Z"
   },
   {
    "duration": 25,
    "start_time": "2024-02-18T19:03:06.424Z"
   },
   {
    "duration": 270,
    "start_time": "2024-02-18T19:03:06.451Z"
   },
   {
    "duration": 4,
    "start_time": "2024-02-18T19:03:06.723Z"
   },
   {
    "duration": 3,
    "start_time": "2024-02-18T19:03:06.729Z"
   },
   {
    "duration": 55,
    "start_time": "2024-02-18T19:03:06.734Z"
   },
   {
    "duration": 8,
    "start_time": "2024-02-18T19:03:06.791Z"
   },
   {
    "duration": 7,
    "start_time": "2024-02-18T19:03:06.801Z"
   },
   {
    "duration": 349,
    "start_time": "2024-02-18T19:03:06.809Z"
   },
   {
    "duration": 3,
    "start_time": "2024-02-18T19:03:07.160Z"
   },
   {
    "duration": 6,
    "start_time": "2024-02-18T19:03:07.164Z"
   },
   {
    "duration": 14,
    "start_time": "2024-02-18T19:03:07.185Z"
   },
   {
    "duration": 9,
    "start_time": "2024-02-18T19:03:07.200Z"
   },
   {
    "duration": 2778,
    "start_time": "2024-02-18T19:03:07.211Z"
   },
   {
    "duration": 20,
    "start_time": "2024-02-18T19:03:09.993Z"
   },
   {
    "duration": 5,
    "start_time": "2024-02-18T19:03:10.015Z"
   },
   {
    "duration": 5544,
    "start_time": "2024-02-18T19:03:10.021Z"
   },
   {
    "duration": 4,
    "start_time": "2024-02-18T19:03:15.567Z"
   },
   {
    "duration": 24,
    "start_time": "2024-02-18T19:03:15.572Z"
   },
   {
    "duration": 120,
    "start_time": "2024-02-18T19:03:15.598Z"
   },
   {
    "duration": 2,
    "start_time": "2024-02-18T19:03:15.720Z"
   },
   {
    "duration": 14,
    "start_time": "2024-02-18T19:03:15.724Z"
   },
   {
    "duration": 106202,
    "start_time": "2024-02-18T19:04:18.007Z"
   },
   {
    "duration": 19,
    "start_time": "2024-02-18T19:06:04.212Z"
   },
   {
    "duration": 11516,
    "start_time": "2024-02-18T19:10:34.760Z"
   },
   {
    "duration": 2018,
    "start_time": "2024-02-18T19:10:46.278Z"
   },
   {
    "duration": 3,
    "start_time": "2024-02-18T19:10:48.297Z"
   },
   {
    "duration": 5,
    "start_time": "2024-02-18T19:10:48.301Z"
   },
   {
    "duration": 1190,
    "start_time": "2024-02-18T19:10:48.308Z"
   },
   {
    "duration": 20,
    "start_time": "2024-02-18T19:10:49.499Z"
   },
   {
    "duration": 131,
    "start_time": "2024-02-18T19:10:49.521Z"
   },
   {
    "duration": 42,
    "start_time": "2024-02-18T19:10:49.655Z"
   },
   {
    "duration": 74,
    "start_time": "2024-02-18T19:10:49.698Z"
   },
   {
    "duration": 160,
    "start_time": "2024-02-18T19:10:49.774Z"
   },
   {
    "duration": 5,
    "start_time": "2024-02-18T19:10:49.936Z"
   },
   {
    "duration": 170,
    "start_time": "2024-02-18T19:10:49.942Z"
   },
   {
    "duration": 3,
    "start_time": "2024-02-18T19:10:50.114Z"
   },
   {
    "duration": 523,
    "start_time": "2024-02-18T19:10:50.120Z"
   },
   {
    "duration": 193,
    "start_time": "2024-02-18T19:10:50.644Z"
   },
   {
    "duration": 29,
    "start_time": "2024-02-18T19:10:50.839Z"
   },
   {
    "duration": 336,
    "start_time": "2024-02-18T19:10:50.879Z"
   },
   {
    "duration": 4,
    "start_time": "2024-02-18T19:10:51.217Z"
   },
   {
    "duration": 46,
    "start_time": "2024-02-18T19:10:51.223Z"
   },
   {
    "duration": 255,
    "start_time": "2024-02-18T19:10:51.271Z"
   },
   {
    "duration": 4,
    "start_time": "2024-02-18T19:10:51.528Z"
   },
   {
    "duration": 18,
    "start_time": "2024-02-18T19:10:51.534Z"
   },
   {
    "duration": 54,
    "start_time": "2024-02-18T19:10:51.554Z"
   },
   {
    "duration": 9,
    "start_time": "2024-02-18T19:10:51.610Z"
   },
   {
    "duration": 4,
    "start_time": "2024-02-18T19:10:51.620Z"
   },
   {
    "duration": 377,
    "start_time": "2024-02-18T19:10:51.626Z"
   },
   {
    "duration": 3,
    "start_time": "2024-02-18T19:10:52.005Z"
   },
   {
    "duration": 5,
    "start_time": "2024-02-18T19:10:52.009Z"
   },
   {
    "duration": 8,
    "start_time": "2024-02-18T19:10:52.015Z"
   },
   {
    "duration": 100,
    "start_time": "2024-02-18T19:10:52.025Z"
   },
   {
    "duration": 0,
    "start_time": "2024-02-18T19:10:52.127Z"
   },
   {
    "duration": 0,
    "start_time": "2024-02-18T19:10:52.130Z"
   },
   {
    "duration": 0,
    "start_time": "2024-02-18T19:10:52.132Z"
   },
   {
    "duration": 0,
    "start_time": "2024-02-18T19:10:52.133Z"
   },
   {
    "duration": 0,
    "start_time": "2024-02-18T19:10:52.134Z"
   },
   {
    "duration": 0,
    "start_time": "2024-02-18T19:10:52.135Z"
   },
   {
    "duration": 5,
    "start_time": "2024-02-18T19:11:23.130Z"
   },
   {
    "duration": 2787,
    "start_time": "2024-02-18T19:11:24.201Z"
   },
   {
    "duration": 20,
    "start_time": "2024-02-18T19:12:16.121Z"
   },
   {
    "duration": 5,
    "start_time": "2024-02-18T19:12:17.126Z"
   },
   {
    "duration": 5257,
    "start_time": "2024-02-18T19:12:18.370Z"
   },
   {
    "duration": 156,
    "start_time": "2024-02-18T19:15:20.215Z"
   },
   {
    "duration": 21,
    "start_time": "2024-02-18T19:15:34.880Z"
   },
   {
    "duration": 11,
    "start_time": "2024-02-18T19:15:44.404Z"
   },
   {
    "duration": 11770,
    "start_time": "2024-02-18T19:15:57.665Z"
   },
   {
    "duration": 7,
    "start_time": "2024-02-18T19:16:09.438Z"
   },
   {
    "duration": 7,
    "start_time": "2024-02-18T19:16:09.446Z"
   },
   {
    "duration": 4,
    "start_time": "2024-02-18T19:16:09.455Z"
   },
   {
    "duration": 1148,
    "start_time": "2024-02-18T19:16:09.461Z"
   },
   {
    "duration": 16,
    "start_time": "2024-02-18T19:16:10.611Z"
   },
   {
    "duration": 123,
    "start_time": "2024-02-18T19:16:10.628Z"
   },
   {
    "duration": 16,
    "start_time": "2024-02-18T19:16:10.752Z"
   },
   {
    "duration": 91,
    "start_time": "2024-02-18T19:16:10.770Z"
   },
   {
    "duration": 111,
    "start_time": "2024-02-18T19:16:10.862Z"
   },
   {
    "duration": 12,
    "start_time": "2024-02-18T19:16:10.984Z"
   },
   {
    "duration": 157,
    "start_time": "2024-02-18T19:16:10.998Z"
   },
   {
    "duration": 3,
    "start_time": "2024-02-18T19:16:11.156Z"
   },
   {
    "duration": 412,
    "start_time": "2024-02-18T19:16:11.162Z"
   },
   {
    "duration": 182,
    "start_time": "2024-02-18T19:16:11.581Z"
   },
   {
    "duration": 36,
    "start_time": "2024-02-18T19:16:11.765Z"
   },
   {
    "duration": 234,
    "start_time": "2024-02-18T19:16:11.803Z"
   },
   {
    "duration": 5,
    "start_time": "2024-02-18T19:16:12.038Z"
   },
   {
    "duration": 46,
    "start_time": "2024-02-18T19:16:12.044Z"
   },
   {
    "duration": 251,
    "start_time": "2024-02-18T19:16:12.092Z"
   },
   {
    "duration": 4,
    "start_time": "2024-02-18T19:16:12.345Z"
   },
   {
    "duration": 10,
    "start_time": "2024-02-18T19:16:12.350Z"
   },
   {
    "duration": 46,
    "start_time": "2024-02-18T19:16:12.361Z"
   },
   {
    "duration": 8,
    "start_time": "2024-02-18T19:16:12.409Z"
   },
   {
    "duration": 4,
    "start_time": "2024-02-18T19:16:12.419Z"
   },
   {
    "duration": 373,
    "start_time": "2024-02-18T19:16:12.425Z"
   },
   {
    "duration": 3,
    "start_time": "2024-02-18T19:16:12.800Z"
   },
   {
    "duration": 4,
    "start_time": "2024-02-18T19:16:12.804Z"
   },
   {
    "duration": 8,
    "start_time": "2024-02-18T19:16:12.810Z"
   },
   {
    "duration": 6,
    "start_time": "2024-02-18T19:16:12.820Z"
   },
   {
    "duration": 6451,
    "start_time": "2024-02-18T19:16:12.828Z"
   },
   {
    "duration": 13,
    "start_time": "2024-02-18T19:16:19.282Z"
   },
   {
    "duration": 0,
    "start_time": "2024-02-18T19:16:19.297Z"
   },
   {
    "duration": 0,
    "start_time": "2024-02-18T19:16:19.298Z"
   },
   {
    "duration": 0,
    "start_time": "2024-02-18T19:16:19.299Z"
   },
   {
    "duration": 0,
    "start_time": "2024-02-18T19:16:19.300Z"
   },
   {
    "duration": 0,
    "start_time": "2024-02-18T19:16:19.302Z"
   },
   {
    "duration": 0,
    "start_time": "2024-02-18T19:16:19.303Z"
   },
   {
    "duration": 14753,
    "start_time": "2024-02-18T19:16:49.288Z"
   },
   {
    "duration": 4,
    "start_time": "2024-02-18T19:17:29.298Z"
   },
   {
    "duration": 126,
    "start_time": "2024-02-18T19:17:29.636Z"
   },
   {
    "duration": 5,
    "start_time": "2024-02-18T19:17:42.548Z"
   },
   {
    "duration": 6600,
    "start_time": "2024-02-18T19:17:42.901Z"
   },
   {
    "duration": 10,
    "start_time": "2024-02-18T19:17:53.054Z"
   },
   {
    "duration": 14,
    "start_time": "2024-02-18T19:18:28.992Z"
   },
   {
    "duration": 4,
    "start_time": "2024-02-18T19:21:19.365Z"
   },
   {
    "duration": 101517,
    "start_time": "2024-02-18T19:21:19.815Z"
   },
   {
    "duration": 4,
    "start_time": "2024-02-18T19:23:21.338Z"
   },
   {
    "duration": 6792,
    "start_time": "2024-02-18T19:23:21.801Z"
   },
   {
    "duration": 12,
    "start_time": "2024-02-18T19:23:31.898Z"
   },
   {
    "duration": 13,
    "start_time": "2024-02-18T19:23:53.497Z"
   },
   {
    "duration": 12,
    "start_time": "2024-02-18T19:24:13.015Z"
   },
   {
    "duration": 4,
    "start_time": "2024-02-18T19:24:26.712Z"
   },
   {
    "duration": 4,
    "start_time": "2024-02-18T19:24:57.675Z"
   },
   {
    "duration": 137171,
    "start_time": "2024-02-18T19:24:58.176Z"
   },
   {
    "duration": 8471,
    "start_time": "2024-02-18T19:27:17.135Z"
   },
   {
    "duration": 3,
    "start_time": "2024-02-18T19:27:26.831Z"
   },
   {
    "duration": 5906,
    "start_time": "2024-02-18T19:27:27.093Z"
   },
   {
    "duration": 14,
    "start_time": "2024-02-18T19:29:20.463Z"
   },
   {
    "duration": 16,
    "start_time": "2024-02-18T19:29:29.494Z"
   },
   {
    "duration": 5,
    "start_time": "2024-02-18T19:30:18.205Z"
   },
   {
    "duration": 2697,
    "start_time": "2024-02-18T19:30:18.691Z"
   },
   {
    "duration": 16,
    "start_time": "2024-02-18T19:30:25.417Z"
   },
   {
    "duration": 19,
    "start_time": "2024-02-18T19:32:23.239Z"
   },
   {
    "duration": 7,
    "start_time": "2024-02-18T19:32:29.951Z"
   },
   {
    "duration": 18,
    "start_time": "2024-02-18T19:33:11.406Z"
   },
   {
    "duration": 19,
    "start_time": "2024-02-18T19:33:30.132Z"
   },
   {
    "duration": 16,
    "start_time": "2024-02-18T19:33:45.327Z"
   },
   {
    "duration": 103,
    "start_time": "2024-02-18T19:43:32.258Z"
   },
   {
    "duration": 2834,
    "start_time": "2024-02-18T19:43:32.895Z"
   },
   {
    "duration": 153,
    "start_time": "2024-02-18T19:43:41.242Z"
   },
   {
    "duration": 2777,
    "start_time": "2024-02-18T19:43:42.012Z"
   },
   {
    "duration": 16,
    "start_time": "2024-02-18T19:43:49.018Z"
   },
   {
    "duration": 3,
    "start_time": "2024-02-18T19:44:03.414Z"
   },
   {
    "duration": 110,
    "start_time": "2024-02-18T19:44:04.000Z"
   },
   {
    "duration": 4,
    "start_time": "2024-02-18T19:44:46.593Z"
   },
   {
    "duration": 50229,
    "start_time": "2024-02-18T19:44:47.075Z"
   },
   {
    "duration": 16,
    "start_time": "2024-02-18T19:45:47.713Z"
   },
   {
    "duration": 98,
    "start_time": "2024-02-18T19:48:01.782Z"
   },
   {
    "duration": 6,
    "start_time": "2024-02-18T19:48:02.003Z"
   },
   {
    "duration": 5704,
    "start_time": "2024-02-18T19:48:02.260Z"
   },
   {
    "duration": 13,
    "start_time": "2024-02-18T19:48:07.966Z"
   },
   {
    "duration": 3,
    "start_time": "2024-02-18T19:56:57.979Z"
   },
   {
    "duration": 111,
    "start_time": "2024-02-18T19:56:58.274Z"
   },
   {
    "duration": 4,
    "start_time": "2024-02-18T19:57:12.013Z"
   },
   {
    "duration": 111,
    "start_time": "2024-02-18T19:57:12.466Z"
   },
   {
    "duration": 4,
    "start_time": "2024-02-18T19:57:30.188Z"
   },
   {
    "duration": 115,
    "start_time": "2024-02-18T19:57:30.424Z"
   },
   {
    "duration": 4,
    "start_time": "2024-02-18T19:57:39.309Z"
   },
   {
    "duration": 107,
    "start_time": "2024-02-18T19:57:39.993Z"
   },
   {
    "duration": 4,
    "start_time": "2024-02-18T19:57:47.954Z"
   },
   {
    "duration": 119,
    "start_time": "2024-02-18T19:57:48.480Z"
   },
   {
    "duration": 10943,
    "start_time": "2024-02-18T19:58:13.497Z"
   },
   {
    "duration": 1901,
    "start_time": "2024-02-18T19:58:24.442Z"
   },
   {
    "duration": 2,
    "start_time": "2024-02-18T19:58:26.345Z"
   },
   {
    "duration": 15,
    "start_time": "2024-02-18T19:58:26.349Z"
   },
   {
    "duration": 1131,
    "start_time": "2024-02-18T19:58:26.366Z"
   },
   {
    "duration": 19,
    "start_time": "2024-02-18T19:58:27.498Z"
   },
   {
    "duration": 124,
    "start_time": "2024-02-18T19:58:27.518Z"
   },
   {
    "duration": 37,
    "start_time": "2024-02-18T19:58:27.643Z"
   },
   {
    "duration": 74,
    "start_time": "2024-02-18T19:58:27.682Z"
   },
   {
    "duration": 157,
    "start_time": "2024-02-18T19:58:27.759Z"
   },
   {
    "duration": 5,
    "start_time": "2024-02-18T19:58:27.917Z"
   },
   {
    "duration": 159,
    "start_time": "2024-02-18T19:58:27.924Z"
   },
   {
    "duration": 2,
    "start_time": "2024-02-18T19:58:28.085Z"
   },
   {
    "duration": 474,
    "start_time": "2024-02-18T19:58:28.089Z"
   },
   {
    "duration": 206,
    "start_time": "2024-02-18T19:58:28.565Z"
   },
   {
    "duration": 39,
    "start_time": "2024-02-18T19:58:28.773Z"
   },
   {
    "duration": 332,
    "start_time": "2024-02-18T19:58:28.814Z"
   },
   {
    "duration": 3,
    "start_time": "2024-02-18T19:58:29.148Z"
   },
   {
    "duration": 39,
    "start_time": "2024-02-18T19:58:29.153Z"
   },
   {
    "duration": 228,
    "start_time": "2024-02-18T19:58:29.194Z"
   },
   {
    "duration": 3,
    "start_time": "2024-02-18T19:58:29.424Z"
   },
   {
    "duration": 3,
    "start_time": "2024-02-18T19:58:29.429Z"
   },
   {
    "duration": 37,
    "start_time": "2024-02-18T19:58:29.434Z"
   },
   {
    "duration": 11,
    "start_time": "2024-02-18T19:58:29.472Z"
   },
   {
    "duration": 7,
    "start_time": "2024-02-18T19:58:29.485Z"
   },
   {
    "duration": 442,
    "start_time": "2024-02-18T19:58:29.494Z"
   },
   {
    "duration": 3,
    "start_time": "2024-02-18T19:58:29.938Z"
   },
   {
    "duration": 10,
    "start_time": "2024-02-18T19:58:29.944Z"
   },
   {
    "duration": 7,
    "start_time": "2024-02-18T19:58:29.956Z"
   },
   {
    "duration": 17,
    "start_time": "2024-02-18T19:58:29.965Z"
   },
   {
    "duration": 38431,
    "start_time": "2024-02-18T19:58:29.984Z"
   },
   {
    "duration": 78,
    "start_time": "2024-02-18T19:59:08.417Z"
   },
   {
    "duration": 86,
    "start_time": "2024-02-18T19:59:08.496Z"
   },
   {
    "duration": 5,
    "start_time": "2024-02-18T19:59:08.584Z"
   },
   {
    "duration": 4920,
    "start_time": "2024-02-18T19:59:08.590Z"
   },
   {
    "duration": 149,
    "start_time": "2024-02-18T19:59:13.512Z"
   },
   {
    "duration": 0,
    "start_time": "2024-02-18T19:59:13.663Z"
   },
   {
    "duration": 0,
    "start_time": "2024-02-18T19:59:13.664Z"
   },
   {
    "duration": 0,
    "start_time": "2024-02-18T19:59:13.665Z"
   },
   {
    "duration": 5,
    "start_time": "2024-02-18T20:04:25.021Z"
   },
   {
    "duration": 105,
    "start_time": "2024-02-18T20:04:25.574Z"
   },
   {
    "duration": 11275,
    "start_time": "2024-02-18T20:04:32.902Z"
   },
   {
    "duration": 1939,
    "start_time": "2024-02-18T20:04:44.180Z"
   },
   {
    "duration": 3,
    "start_time": "2024-02-18T20:04:46.120Z"
   },
   {
    "duration": 5,
    "start_time": "2024-02-18T20:04:46.124Z"
   },
   {
    "duration": 1139,
    "start_time": "2024-02-18T20:04:46.132Z"
   },
   {
    "duration": 25,
    "start_time": "2024-02-18T20:04:47.273Z"
   },
   {
    "duration": 130,
    "start_time": "2024-02-18T20:04:47.300Z"
   },
   {
    "duration": 23,
    "start_time": "2024-02-18T20:04:47.432Z"
   },
   {
    "duration": 85,
    "start_time": "2024-02-18T20:04:47.457Z"
   },
   {
    "duration": 155,
    "start_time": "2024-02-18T20:04:47.544Z"
   },
   {
    "duration": 5,
    "start_time": "2024-02-18T20:04:47.701Z"
   },
   {
    "duration": 166,
    "start_time": "2024-02-18T20:04:47.708Z"
   },
   {
    "duration": 3,
    "start_time": "2024-02-18T20:04:47.880Z"
   },
   {
    "duration": 502,
    "start_time": "2024-02-18T20:04:47.887Z"
   },
   {
    "duration": 194,
    "start_time": "2024-02-18T20:04:48.392Z"
   },
   {
    "duration": 31,
    "start_time": "2024-02-18T20:04:48.588Z"
   },
   {
    "duration": 341,
    "start_time": "2024-02-18T20:04:48.621Z"
   },
   {
    "duration": 4,
    "start_time": "2024-02-18T20:04:48.964Z"
   },
   {
    "duration": 24,
    "start_time": "2024-02-18T20:04:48.980Z"
   },
   {
    "duration": 258,
    "start_time": "2024-02-18T20:04:49.005Z"
   },
   {
    "duration": 4,
    "start_time": "2024-02-18T20:04:49.264Z"
   },
   {
    "duration": 2,
    "start_time": "2024-02-18T20:04:49.281Z"
   },
   {
    "duration": 41,
    "start_time": "2024-02-18T20:04:49.284Z"
   },
   {
    "duration": 8,
    "start_time": "2024-02-18T20:04:49.327Z"
   },
   {
    "duration": 7,
    "start_time": "2024-02-18T20:04:49.336Z"
   },
   {
    "duration": 360,
    "start_time": "2024-02-18T20:04:49.344Z"
   },
   {
    "duration": 3,
    "start_time": "2024-02-18T20:04:49.705Z"
   },
   {
    "duration": 19,
    "start_time": "2024-02-18T20:04:49.709Z"
   },
   {
    "duration": 30,
    "start_time": "2024-02-18T20:04:49.729Z"
   },
   {
    "duration": 25,
    "start_time": "2024-02-18T20:04:49.761Z"
   },
   {
    "duration": 0,
    "start_time": "2024-02-18T20:04:49.787Z"
   },
   {
    "duration": 0,
    "start_time": "2024-02-18T20:04:49.789Z"
   },
   {
    "duration": 0,
    "start_time": "2024-02-18T20:04:49.790Z"
   },
   {
    "duration": 0,
    "start_time": "2024-02-18T20:04:49.791Z"
   },
   {
    "duration": 0,
    "start_time": "2024-02-18T20:04:49.792Z"
   },
   {
    "duration": 4,
    "start_time": "2024-02-18T20:05:07.672Z"
   },
   {
    "duration": 259,
    "start_time": "2024-02-18T20:05:08.262Z"
   },
   {
    "duration": 4,
    "start_time": "2024-02-18T20:05:28.484Z"
   },
   {
    "duration": 76379,
    "start_time": "2024-02-18T20:05:28.832Z"
   },
   {
    "duration": 17,
    "start_time": "2024-02-18T20:11:58.265Z"
   },
   {
    "duration": 16,
    "start_time": "2024-02-18T20:12:02.360Z"
   },
   {
    "duration": 15,
    "start_time": "2024-02-18T20:12:19.224Z"
   },
   {
    "duration": 15,
    "start_time": "2024-02-18T20:12:22.547Z"
   },
   {
    "duration": 100,
    "start_time": "2024-02-18T20:25:06.408Z"
   },
   {
    "duration": 113,
    "start_time": "2024-02-18T20:25:19.988Z"
   },
   {
    "duration": 93,
    "start_time": "2024-02-18T20:25:25.368Z"
   },
   {
    "duration": 5,
    "start_time": "2024-02-18T20:25:40.477Z"
   },
   {
    "duration": 105,
    "start_time": "2024-02-18T20:25:58.938Z"
   },
   {
    "duration": 14,
    "start_time": "2024-02-18T20:26:18.460Z"
   },
   {
    "duration": 12,
    "start_time": "2024-02-18T20:26:48.190Z"
   },
   {
    "duration": 13,
    "start_time": "2024-02-18T20:27:01.512Z"
   },
   {
    "duration": 4,
    "start_time": "2024-02-18T20:27:24.904Z"
   },
   {
    "duration": 11031,
    "start_time": "2024-02-18T20:27:35.926Z"
   },
   {
    "duration": 1985,
    "start_time": "2024-02-18T20:27:46.960Z"
   },
   {
    "duration": 3,
    "start_time": "2024-02-18T20:27:48.946Z"
   },
   {
    "duration": 16,
    "start_time": "2024-02-18T20:27:48.951Z"
   },
   {
    "duration": 1143,
    "start_time": "2024-02-18T20:27:48.969Z"
   },
   {
    "duration": 19,
    "start_time": "2024-02-18T20:27:50.113Z"
   },
   {
    "duration": 124,
    "start_time": "2024-02-18T20:27:50.133Z"
   },
   {
    "duration": 30,
    "start_time": "2024-02-18T20:27:50.258Z"
   },
   {
    "duration": 77,
    "start_time": "2024-02-18T20:27:50.289Z"
   },
   {
    "duration": 159,
    "start_time": "2024-02-18T20:27:50.380Z"
   },
   {
    "duration": 6,
    "start_time": "2024-02-18T20:27:50.540Z"
   },
   {
    "duration": 177,
    "start_time": "2024-02-18T20:27:50.548Z"
   },
   {
    "duration": 2,
    "start_time": "2024-02-18T20:27:50.727Z"
   },
   {
    "duration": 486,
    "start_time": "2024-02-18T20:27:50.732Z"
   },
   {
    "duration": 185,
    "start_time": "2024-02-18T20:27:51.220Z"
   },
   {
    "duration": 36,
    "start_time": "2024-02-18T20:27:51.406Z"
   },
   {
    "duration": 327,
    "start_time": "2024-02-18T20:27:51.444Z"
   },
   {
    "duration": 30,
    "start_time": "2024-02-18T20:27:51.772Z"
   },
   {
    "duration": 250,
    "start_time": "2024-02-18T20:27:51.804Z"
   },
   {
    "duration": 3,
    "start_time": "2024-02-18T20:27:52.056Z"
   },
   {
    "duration": 57,
    "start_time": "2024-02-18T20:27:52.061Z"
   },
   {
    "duration": 11,
    "start_time": "2024-02-18T20:27:52.120Z"
   },
   {
    "duration": 10,
    "start_time": "2024-02-18T20:27:52.133Z"
   },
   {
    "duration": 335,
    "start_time": "2024-02-18T20:27:52.145Z"
   },
   {
    "duration": 3,
    "start_time": "2024-02-18T20:27:52.482Z"
   },
   {
    "duration": 6,
    "start_time": "2024-02-18T20:27:52.487Z"
   },
   {
    "duration": 8,
    "start_time": "2024-02-18T20:27:52.494Z"
   },
   {
    "duration": 9,
    "start_time": "2024-02-18T20:27:52.504Z"
   },
   {
    "duration": 260,
    "start_time": "2024-02-18T20:27:52.514Z"
   },
   {
    "duration": 5398,
    "start_time": "2024-02-18T20:27:52.776Z"
   },
   {
    "duration": 18,
    "start_time": "2024-02-18T20:27:58.175Z"
   },
   {
    "duration": 0,
    "start_time": "2024-02-18T20:27:58.195Z"
   },
   {
    "duration": 0,
    "start_time": "2024-02-18T20:27:58.196Z"
   },
   {
    "duration": 15,
    "start_time": "2024-02-18T20:28:17.490Z"
   },
   {
    "duration": 158832,
    "start_time": "2024-02-18T20:28:17.958Z"
   },
   {
    "duration": 5149,
    "start_time": "2024-02-18T20:30:56.792Z"
   },
   {
    "duration": 34,
    "start_time": "2024-02-18T20:31:01.942Z"
   },
   {
    "duration": 29,
    "start_time": "2024-02-18T20:31:01.981Z"
   },
   {
    "duration": 65,
    "start_time": "2024-02-18T20:31:02.012Z"
   },
   {
    "duration": 10959,
    "start_time": "2024-02-18T20:32:17.653Z"
   },
   {
    "duration": 2100,
    "start_time": "2024-02-18T20:32:28.614Z"
   },
   {
    "duration": 3,
    "start_time": "2024-02-18T20:32:30.716Z"
   },
   {
    "duration": 40,
    "start_time": "2024-02-18T20:32:30.721Z"
   },
   {
    "duration": 1164,
    "start_time": "2024-02-18T20:32:30.763Z"
   },
   {
    "duration": 18,
    "start_time": "2024-02-18T20:32:31.928Z"
   },
   {
    "duration": 157,
    "start_time": "2024-02-18T20:32:31.947Z"
   },
   {
    "duration": 31,
    "start_time": "2024-02-18T20:32:32.106Z"
   },
   {
    "duration": 86,
    "start_time": "2024-02-18T20:32:32.139Z"
   },
   {
    "duration": 141,
    "start_time": "2024-02-18T20:32:32.228Z"
   },
   {
    "duration": 13,
    "start_time": "2024-02-18T20:32:32.371Z"
   },
   {
    "duration": 159,
    "start_time": "2024-02-18T20:32:32.386Z"
   },
   {
    "duration": 3,
    "start_time": "2024-02-18T20:32:32.546Z"
   },
   {
    "duration": 449,
    "start_time": "2024-02-18T20:32:32.550Z"
   },
   {
    "duration": 188,
    "start_time": "2024-02-18T20:32:33.001Z"
   },
   {
    "duration": 30,
    "start_time": "2024-02-18T20:32:33.190Z"
   },
   {
    "duration": 353,
    "start_time": "2024-02-18T20:32:33.222Z"
   },
   {
    "duration": 23,
    "start_time": "2024-02-18T20:32:33.576Z"
   },
   {
    "duration": 251,
    "start_time": "2024-02-18T20:32:33.601Z"
   },
   {
    "duration": 112867,
    "start_time": "2024-02-18T20:32:33.854Z"
   },
   {
    "duration": 33,
    "start_time": "2024-02-18T20:34:26.723Z"
   },
   {
    "duration": 85,
    "start_time": "2024-02-18T20:34:26.758Z"
   },
   {
    "duration": 4,
    "start_time": "2024-02-18T20:34:26.845Z"
   },
   {
    "duration": 1893,
    "start_time": "2024-02-18T20:34:26.851Z"
   },
   {
    "duration": 3,
    "start_time": "2024-02-18T20:34:28.747Z"
   },
   {
    "duration": 5,
    "start_time": "2024-02-18T20:34:28.751Z"
   },
   {
    "duration": 24,
    "start_time": "2024-02-18T20:34:28.757Z"
   },
   {
    "duration": 5,
    "start_time": "2024-02-18T20:34:28.785Z"
   },
   {
    "duration": 682219,
    "start_time": "2024-02-18T20:34:28.791Z"
   },
   {
    "duration": 18862,
    "start_time": "2024-02-18T20:45:51.011Z"
   },
   {
    "duration": 709,
    "start_time": "2024-02-18T20:46:09.875Z"
   },
   {
    "duration": 6,
    "start_time": "2024-02-18T20:46:10.586Z"
   },
   {
    "duration": 19,
    "start_time": "2024-02-18T20:46:10.594Z"
   },
   {
    "duration": 18,
    "start_time": "2024-02-18T20:57:46.237Z"
   },
   {
    "duration": 401,
    "start_time": "2024-02-18T21:00:23.470Z"
   },
   {
    "duration": 11150,
    "start_time": "2024-02-18T21:00:55.756Z"
   },
   {
    "duration": 1900,
    "start_time": "2024-02-18T21:01:06.908Z"
   },
   {
    "duration": 2,
    "start_time": "2024-02-18T21:01:08.810Z"
   },
   {
    "duration": 10,
    "start_time": "2024-02-18T21:01:08.814Z"
   },
   {
    "duration": 1101,
    "start_time": "2024-02-18T21:01:08.825Z"
   },
   {
    "duration": 18,
    "start_time": "2024-02-18T21:01:09.928Z"
   },
   {
    "duration": 114,
    "start_time": "2024-02-18T21:01:09.947Z"
   },
   {
    "duration": 23,
    "start_time": "2024-02-18T21:01:10.063Z"
   },
   {
    "duration": 73,
    "start_time": "2024-02-18T21:01:10.088Z"
   },
   {
    "duration": 154,
    "start_time": "2024-02-18T21:01:10.164Z"
   },
   {
    "duration": 5,
    "start_time": "2024-02-18T21:01:10.320Z"
   },
   {
    "duration": 164,
    "start_time": "2024-02-18T21:01:10.326Z"
   },
   {
    "duration": 3,
    "start_time": "2024-02-18T21:01:10.492Z"
   },
   {
    "duration": 489,
    "start_time": "2024-02-18T21:01:10.497Z"
   },
   {
    "duration": 191,
    "start_time": "2024-02-18T21:01:10.988Z"
   },
   {
    "duration": 32,
    "start_time": "2024-02-18T21:01:11.181Z"
   },
   {
    "duration": 327,
    "start_time": "2024-02-18T21:01:11.215Z"
   },
   {
    "duration": 36,
    "start_time": "2024-02-18T21:01:11.544Z"
   },
   {
    "duration": 243,
    "start_time": "2024-02-18T21:01:11.582Z"
   },
   {
    "duration": 112434,
    "start_time": "2024-02-18T21:01:11.827Z"
   },
   {
    "duration": 41,
    "start_time": "2024-02-18T21:03:04.263Z"
   },
   {
    "duration": 91,
    "start_time": "2024-02-18T21:03:04.306Z"
   },
   {
    "duration": 5,
    "start_time": "2024-02-18T21:03:04.399Z"
   },
   {
    "duration": 1835,
    "start_time": "2024-02-18T21:03:04.406Z"
   },
   {
    "duration": 2,
    "start_time": "2024-02-18T21:03:06.243Z"
   },
   {
    "duration": 14,
    "start_time": "2024-02-18T21:03:06.247Z"
   },
   {
    "duration": 12,
    "start_time": "2024-02-18T21:03:06.262Z"
   },
   {
    "duration": 17,
    "start_time": "2024-02-18T21:03:06.277Z"
   },
   {
    "duration": 278994,
    "start_time": "2024-02-18T21:03:06.295Z"
   },
   {
    "duration": 19315,
    "start_time": "2024-02-18T21:07:45.290Z"
   },
   {
    "duration": 677,
    "start_time": "2024-02-18T21:08:04.607Z"
   },
   {
    "duration": 5,
    "start_time": "2024-02-18T21:08:05.286Z"
   },
   {
    "duration": 21,
    "start_time": "2024-02-18T21:08:05.293Z"
   },
   {
    "duration": 11181,
    "start_time": "2024-02-18T21:23:44.076Z"
   },
   {
    "duration": 1959,
    "start_time": "2024-02-18T21:23:55.260Z"
   },
   {
    "duration": 3,
    "start_time": "2024-02-18T21:23:57.221Z"
   },
   {
    "duration": 6,
    "start_time": "2024-02-18T21:23:57.225Z"
   },
   {
    "duration": 1144,
    "start_time": "2024-02-18T21:23:57.232Z"
   },
   {
    "duration": 18,
    "start_time": "2024-02-18T21:23:58.378Z"
   },
   {
    "duration": 124,
    "start_time": "2024-02-18T21:23:58.397Z"
   },
   {
    "duration": 24,
    "start_time": "2024-02-18T21:23:58.523Z"
   },
   {
    "duration": 86,
    "start_time": "2024-02-18T21:23:58.548Z"
   },
   {
    "duration": 156,
    "start_time": "2024-02-18T21:23:58.637Z"
   },
   {
    "duration": 5,
    "start_time": "2024-02-18T21:23:58.794Z"
   },
   {
    "duration": 156,
    "start_time": "2024-02-18T21:23:58.801Z"
   },
   {
    "duration": 2,
    "start_time": "2024-02-18T21:23:58.959Z"
   },
   {
    "duration": 478,
    "start_time": "2024-02-18T21:23:58.963Z"
   },
   {
    "duration": 192,
    "start_time": "2024-02-18T21:23:59.443Z"
   },
   {
    "duration": 45,
    "start_time": "2024-02-18T21:23:59.638Z"
   },
   {
    "duration": 324,
    "start_time": "2024-02-18T21:23:59.685Z"
   },
   {
    "duration": 23,
    "start_time": "2024-02-18T21:24:00.011Z"
   },
   {
    "duration": 252,
    "start_time": "2024-02-18T21:24:00.036Z"
   },
   {
    "duration": 115765,
    "start_time": "2024-02-18T21:24:00.290Z"
   },
   {
    "duration": 42,
    "start_time": "2024-02-18T21:25:56.057Z"
   },
   {
    "duration": 91,
    "start_time": "2024-02-18T21:25:56.100Z"
   },
   {
    "duration": 4,
    "start_time": "2024-02-18T21:25:56.192Z"
   },
   {
    "duration": 1843,
    "start_time": "2024-02-18T21:25:56.198Z"
   },
   {
    "duration": 4,
    "start_time": "2024-02-18T21:25:58.043Z"
   },
   {
    "duration": 15,
    "start_time": "2024-02-18T21:25:58.048Z"
   },
   {
    "duration": 13,
    "start_time": "2024-02-18T21:25:58.065Z"
   },
   {
    "duration": 5,
    "start_time": "2024-02-18T21:25:58.082Z"
   },
   {
    "duration": 50097,
    "start_time": "2024-02-18T21:25:58.089Z"
   },
   {
    "duration": 173,
    "start_time": "2024-02-18T21:26:48.187Z"
   },
   {
    "duration": 5,
    "start_time": "2024-02-18T21:26:48.362Z"
   },
   {
    "duration": 26,
    "start_time": "2024-02-18T21:26:48.369Z"
   },
   {
    "duration": 11158,
    "start_time": "2024-02-18T21:40:15.451Z"
   },
   {
    "duration": 1901,
    "start_time": "2024-02-18T21:40:26.612Z"
   },
   {
    "duration": 3,
    "start_time": "2024-02-18T21:40:28.515Z"
   },
   {
    "duration": 9,
    "start_time": "2024-02-18T21:40:28.519Z"
   },
   {
    "duration": 1129,
    "start_time": "2024-02-18T21:40:28.530Z"
   },
   {
    "duration": 26,
    "start_time": "2024-02-18T21:40:29.660Z"
   },
   {
    "duration": 114,
    "start_time": "2024-02-18T21:40:29.687Z"
   },
   {
    "duration": 16,
    "start_time": "2024-02-18T21:40:29.802Z"
   },
   {
    "duration": 90,
    "start_time": "2024-02-18T21:40:29.820Z"
   },
   {
    "duration": 147,
    "start_time": "2024-02-18T21:40:29.912Z"
   },
   {
    "duration": 22,
    "start_time": "2024-02-18T21:40:30.060Z"
   },
   {
    "duration": 219,
    "start_time": "2024-02-18T21:40:30.083Z"
   },
   {
    "duration": 3,
    "start_time": "2024-02-18T21:40:30.303Z"
   },
   {
    "duration": 506,
    "start_time": "2024-02-18T21:40:30.309Z"
   },
   {
    "duration": 203,
    "start_time": "2024-02-18T21:40:30.816Z"
   },
   {
    "duration": 35,
    "start_time": "2024-02-18T21:40:31.021Z"
   },
   {
    "duration": 344,
    "start_time": "2024-02-18T21:40:31.058Z"
   },
   {
    "duration": 23,
    "start_time": "2024-02-18T21:40:31.405Z"
   },
   {
    "duration": 369,
    "start_time": "2024-02-18T21:40:31.431Z"
   },
   {
    "duration": 126578,
    "start_time": "2024-02-18T21:40:31.802Z"
   },
   {
    "duration": 41,
    "start_time": "2024-02-18T21:42:38.382Z"
   },
   {
    "duration": 131,
    "start_time": "2024-02-18T21:42:38.426Z"
   },
   {
    "duration": 4,
    "start_time": "2024-02-18T21:42:38.559Z"
   },
   {
    "duration": 1887,
    "start_time": "2024-02-18T21:42:38.566Z"
   },
   {
    "duration": 3,
    "start_time": "2024-02-18T21:42:40.455Z"
   },
   {
    "duration": 19,
    "start_time": "2024-02-18T21:42:40.461Z"
   },
   {
    "duration": 8,
    "start_time": "2024-02-18T21:42:40.483Z"
   },
   {
    "duration": 9,
    "start_time": "2024-02-18T21:42:40.493Z"
   },
   {
    "duration": 1361166,
    "start_time": "2024-02-18T21:42:40.504Z"
   },
   {
    "duration": 17,
    "start_time": "2024-02-18T22:05:21.672Z"
   },
   {
    "duration": 0,
    "start_time": "2024-02-18T22:05:21.691Z"
   },
   {
    "duration": 0,
    "start_time": "2024-02-18T22:05:21.692Z"
   },
   {
    "duration": 11115,
    "start_time": "2024-02-18T22:06:23.123Z"
   },
   {
    "duration": 1923,
    "start_time": "2024-02-18T22:06:34.241Z"
   },
   {
    "duration": 2,
    "start_time": "2024-02-18T22:06:36.165Z"
   },
   {
    "duration": 9,
    "start_time": "2024-02-18T22:06:36.171Z"
   },
   {
    "duration": 1126,
    "start_time": "2024-02-18T22:06:36.182Z"
   },
   {
    "duration": 17,
    "start_time": "2024-02-18T22:06:37.310Z"
   },
   {
    "duration": 118,
    "start_time": "2024-02-18T22:06:37.329Z"
   },
   {
    "duration": 31,
    "start_time": "2024-02-18T22:06:37.449Z"
   },
   {
    "duration": 74,
    "start_time": "2024-02-18T22:06:37.481Z"
   },
   {
    "duration": 153,
    "start_time": "2024-02-18T22:06:37.558Z"
   },
   {
    "duration": 5,
    "start_time": "2024-02-18T22:06:37.713Z"
   },
   {
    "duration": 160,
    "start_time": "2024-02-18T22:06:37.720Z"
   },
   {
    "duration": 3,
    "start_time": "2024-02-18T22:06:37.882Z"
   },
   {
    "duration": 473,
    "start_time": "2024-02-18T22:06:37.886Z"
   },
   {
    "duration": 212,
    "start_time": "2024-02-18T22:06:38.361Z"
   },
   {
    "duration": 27,
    "start_time": "2024-02-18T22:06:38.575Z"
   },
   {
    "duration": 343,
    "start_time": "2024-02-18T22:06:38.604Z"
   },
   {
    "duration": 22,
    "start_time": "2024-02-18T22:06:38.948Z"
   },
   {
    "duration": 250,
    "start_time": "2024-02-18T22:06:38.972Z"
   },
   {
    "duration": 115918,
    "start_time": "2024-02-18T22:06:39.224Z"
   },
   {
    "duration": 50,
    "start_time": "2024-02-18T22:08:35.145Z"
   },
   {
    "duration": 85,
    "start_time": "2024-02-18T22:08:35.197Z"
   },
   {
    "duration": 5,
    "start_time": "2024-02-18T22:08:35.284Z"
   },
   {
    "duration": 1956,
    "start_time": "2024-02-18T22:08:35.291Z"
   },
   {
    "duration": 3,
    "start_time": "2024-02-18T22:08:37.248Z"
   },
   {
    "duration": 6,
    "start_time": "2024-02-18T22:08:37.253Z"
   },
   {
    "duration": 19,
    "start_time": "2024-02-18T22:08:37.261Z"
   },
   {
    "duration": 6,
    "start_time": "2024-02-18T22:08:37.284Z"
   },
   {
    "duration": 10412526,
    "start_time": "2024-02-18T22:08:37.291Z"
   },
   {
    "duration": 699,
    "start_time": "2024-02-19T01:02:09.819Z"
   },
   {
    "duration": 7,
    "start_time": "2024-02-19T01:02:10.580Z"
   },
   {
    "duration": 23,
    "start_time": "2024-02-19T01:02:10.588Z"
   },
   {
    "duration": 11348,
    "start_time": "2024-02-19T06:19:15.366Z"
   },
   {
    "duration": 1959,
    "start_time": "2024-02-19T06:19:26.716Z"
   },
   {
    "duration": 3,
    "start_time": "2024-02-19T06:19:28.679Z"
   },
   {
    "duration": 10,
    "start_time": "2024-02-19T06:19:28.684Z"
   },
   {
    "duration": 1155,
    "start_time": "2024-02-19T06:19:28.695Z"
   },
   {
    "duration": 28,
    "start_time": "2024-02-19T06:19:29.852Z"
   },
   {
    "duration": 114,
    "start_time": "2024-02-19T06:19:29.881Z"
   },
   {
    "duration": 29,
    "start_time": "2024-02-19T06:19:29.996Z"
   },
   {
    "duration": 104,
    "start_time": "2024-02-19T06:19:30.027Z"
   },
   {
    "duration": 156,
    "start_time": "2024-02-19T06:19:30.133Z"
   },
   {
    "duration": 5,
    "start_time": "2024-02-19T06:19:30.290Z"
   },
   {
    "duration": 197,
    "start_time": "2024-02-19T06:19:30.297Z"
   },
   {
    "duration": 3,
    "start_time": "2024-02-19T06:19:30.497Z"
   },
   {
    "duration": 452,
    "start_time": "2024-02-19T06:19:30.501Z"
   },
   {
    "duration": 198,
    "start_time": "2024-02-19T06:19:30.954Z"
   },
   {
    "duration": 46,
    "start_time": "2024-02-19T06:19:31.153Z"
   },
   {
    "duration": 338,
    "start_time": "2024-02-19T06:19:31.200Z"
   },
   {
    "duration": 23,
    "start_time": "2024-02-19T06:19:31.539Z"
   },
   {
    "duration": 269,
    "start_time": "2024-02-19T06:19:31.564Z"
   },
   {
    "duration": 118786,
    "start_time": "2024-02-19T06:19:31.834Z"
   },
   {
    "duration": 35,
    "start_time": "2024-02-19T06:21:30.622Z"
   },
   {
    "duration": 98,
    "start_time": "2024-02-19T06:21:30.659Z"
   },
   {
    "duration": 4,
    "start_time": "2024-02-19T06:21:30.759Z"
   },
   {
    "duration": 1996,
    "start_time": "2024-02-19T06:21:30.765Z"
   },
   {
    "duration": 3,
    "start_time": "2024-02-19T06:21:32.763Z"
   },
   {
    "duration": 32,
    "start_time": "2024-02-19T06:21:32.768Z"
   },
   {
    "duration": 39,
    "start_time": "2024-02-19T06:21:32.802Z"
   },
   {
    "duration": 56,
    "start_time": "2024-02-19T06:21:32.844Z"
   },
   {
    "duration": 466539,
    "start_time": "2024-02-19T06:21:32.902Z"
   },
   {
    "duration": 16,
    "start_time": "2024-02-19T06:29:19.443Z"
   },
   {
    "duration": 0,
    "start_time": "2024-02-19T06:29:19.461Z"
   },
   {
    "duration": 0,
    "start_time": "2024-02-19T06:29:19.462Z"
   },
   {
    "duration": 11331,
    "start_time": "2024-02-19T06:29:40.243Z"
   },
   {
    "duration": 1974,
    "start_time": "2024-02-19T06:29:51.577Z"
   },
   {
    "duration": 3,
    "start_time": "2024-02-19T06:29:53.553Z"
   },
   {
    "duration": 5,
    "start_time": "2024-02-19T06:29:53.557Z"
   },
   {
    "duration": 1155,
    "start_time": "2024-02-19T06:29:53.565Z"
   },
   {
    "duration": 22,
    "start_time": "2024-02-19T06:29:54.721Z"
   },
   {
    "duration": 121,
    "start_time": "2024-02-19T06:29:54.745Z"
   },
   {
    "duration": 31,
    "start_time": "2024-02-19T06:29:54.868Z"
   },
   {
    "duration": 87,
    "start_time": "2024-02-19T06:29:54.901Z"
   },
   {
    "duration": 148,
    "start_time": "2024-02-19T06:29:54.989Z"
   },
   {
    "duration": 5,
    "start_time": "2024-02-19T06:29:55.139Z"
   },
   {
    "duration": 165,
    "start_time": "2024-02-19T06:29:55.146Z"
   },
   {
    "duration": 2,
    "start_time": "2024-02-19T06:29:55.313Z"
   },
   {
    "duration": 466,
    "start_time": "2024-02-19T06:29:55.318Z"
   },
   {
    "duration": 196,
    "start_time": "2024-02-19T06:29:55.786Z"
   },
   {
    "duration": 34,
    "start_time": "2024-02-19T06:29:55.984Z"
   },
   {
    "duration": 336,
    "start_time": "2024-02-19T06:29:56.021Z"
   },
   {
    "duration": 35,
    "start_time": "2024-02-19T06:29:56.359Z"
   },
   {
    "duration": 249,
    "start_time": "2024-02-19T06:29:56.396Z"
   },
   {
    "duration": 118524,
    "start_time": "2024-02-19T06:29:56.646Z"
   },
   {
    "duration": 36,
    "start_time": "2024-02-19T06:31:55.172Z"
   },
   {
    "duration": 91,
    "start_time": "2024-02-19T06:31:55.210Z"
   },
   {
    "duration": 4,
    "start_time": "2024-02-19T06:31:55.303Z"
   },
   {
    "duration": 1918,
    "start_time": "2024-02-19T06:31:55.309Z"
   },
   {
    "duration": 3,
    "start_time": "2024-02-19T06:31:57.229Z"
   },
   {
    "duration": 7,
    "start_time": "2024-02-19T06:31:57.234Z"
   },
   {
    "duration": 7,
    "start_time": "2024-02-19T06:31:57.243Z"
   },
   {
    "duration": 6,
    "start_time": "2024-02-19T06:31:57.252Z"
   },
   {
    "duration": 11886,
    "start_time": "2024-02-19T07:27:34.358Z"
   },
   {
    "duration": 1993,
    "start_time": "2024-02-19T07:27:46.247Z"
   },
   {
    "duration": 2,
    "start_time": "2024-02-19T07:27:48.242Z"
   },
   {
    "duration": 7,
    "start_time": "2024-02-19T07:27:48.246Z"
   },
   {
    "duration": 1193,
    "start_time": "2024-02-19T07:27:48.255Z"
   },
   {
    "duration": 20,
    "start_time": "2024-02-19T07:27:49.450Z"
   },
   {
    "duration": 119,
    "start_time": "2024-02-19T07:27:49.481Z"
   },
   {
    "duration": 28,
    "start_time": "2024-02-19T07:27:49.602Z"
   },
   {
    "duration": 95,
    "start_time": "2024-02-19T07:27:49.632Z"
   },
   {
    "duration": 147,
    "start_time": "2024-02-19T07:27:49.729Z"
   },
   {
    "duration": 6,
    "start_time": "2024-02-19T07:27:49.880Z"
   },
   {
    "duration": 167,
    "start_time": "2024-02-19T07:27:49.887Z"
   },
   {
    "duration": 3,
    "start_time": "2024-02-19T07:27:50.056Z"
   },
   {
    "duration": 495,
    "start_time": "2024-02-19T07:27:50.062Z"
   },
   {
    "duration": 225,
    "start_time": "2024-02-19T07:27:50.559Z"
   },
   {
    "duration": 39,
    "start_time": "2024-02-19T07:27:50.786Z"
   },
   {
    "duration": 344,
    "start_time": "2024-02-19T07:27:50.827Z"
   },
   {
    "duration": 25,
    "start_time": "2024-02-19T07:27:51.180Z"
   },
   {
    "duration": 252,
    "start_time": "2024-02-19T07:27:51.206Z"
   },
   {
    "duration": 114826,
    "start_time": "2024-02-19T07:27:51.460Z"
   },
   {
    "duration": 33,
    "start_time": "2024-02-19T07:29:46.288Z"
   },
   {
    "duration": 84,
    "start_time": "2024-02-19T07:29:46.323Z"
   },
   {
    "duration": 3,
    "start_time": "2024-02-19T07:29:46.409Z"
   },
   {
    "duration": 1918,
    "start_time": "2024-02-19T07:29:46.414Z"
   },
   {
    "duration": 5,
    "start_time": "2024-02-19T07:29:48.334Z"
   },
   {
    "duration": 5,
    "start_time": "2024-02-19T07:29:48.341Z"
   },
   {
    "duration": 6,
    "start_time": "2024-02-19T07:29:48.348Z"
   },
   {
    "duration": 24,
    "start_time": "2024-02-19T07:29:48.356Z"
   },
   {
    "duration": 162529,
    "start_time": "2024-02-19T07:29:48.382Z"
   },
   {
    "duration": 787,
    "start_time": "2024-02-19T07:32:30.913Z"
   },
   {
    "duration": 80,
    "start_time": "2024-02-19T07:32:31.701Z"
   },
   {
    "duration": 18,
    "start_time": "2024-02-19T07:32:31.782Z"
   },
   {
    "duration": 49,
    "start_time": "2024-02-19T16:24:48.041Z"
   },
   {
    "duration": 16470,
    "start_time": "2024-02-19T16:25:02.308Z"
   },
   {
    "duration": 1918,
    "start_time": "2024-02-19T16:25:18.780Z"
   },
   {
    "duration": 2,
    "start_time": "2024-02-19T16:25:20.700Z"
   },
   {
    "duration": 55,
    "start_time": "2024-02-19T16:25:20.704Z"
   },
   {
    "duration": 1257,
    "start_time": "2024-02-19T16:25:20.761Z"
   },
   {
    "duration": 16,
    "start_time": "2024-02-19T16:25:22.019Z"
   },
   {
    "duration": 120,
    "start_time": "2024-02-19T16:25:22.036Z"
   },
   {
    "duration": 21,
    "start_time": "2024-02-19T16:25:22.158Z"
   },
   {
    "duration": 80,
    "start_time": "2024-02-19T16:25:22.180Z"
   },
   {
    "duration": 142,
    "start_time": "2024-02-19T16:25:22.262Z"
   },
   {
    "duration": 11,
    "start_time": "2024-02-19T16:25:22.406Z"
   },
   {
    "duration": 174,
    "start_time": "2024-02-19T16:25:22.418Z"
   },
   {
    "duration": 372,
    "start_time": "2024-02-19T16:25:22.594Z"
   },
   {
    "duration": 187,
    "start_time": "2024-02-19T16:25:22.968Z"
   },
   {
    "duration": 22,
    "start_time": "2024-02-19T16:25:23.158Z"
   },
   {
    "duration": 399,
    "start_time": "2024-02-19T16:25:23.182Z"
   },
   {
    "duration": 219,
    "start_time": "2024-02-19T16:25:45.466Z"
   },
   {
    "duration": 235,
    "start_time": "2024-02-19T16:26:43.130Z"
   },
   {
    "duration": 237,
    "start_time": "2024-02-19T16:27:08.015Z"
   },
   {
    "duration": 212,
    "start_time": "2024-02-19T16:27:15.265Z"
   },
   {
    "duration": 212,
    "start_time": "2024-02-19T16:28:28.421Z"
   },
   {
    "duration": 219,
    "start_time": "2024-02-19T16:28:48.537Z"
   },
   {
    "duration": 218,
    "start_time": "2024-02-19T16:29:16.955Z"
   },
   {
    "duration": 104,
    "start_time": "2024-02-19T16:30:43.124Z"
   },
   {
    "duration": 1168,
    "start_time": "2024-02-19T16:34:33.598Z"
   },
   {
    "duration": 1001,
    "start_time": "2024-02-19T16:34:40.701Z"
   },
   {
    "duration": 12,
    "start_time": "2024-02-19T16:34:42.676Z"
   },
   {
    "duration": 5,
    "start_time": "2024-02-19T16:34:44.007Z"
   },
   {
    "duration": 9673,
    "start_time": "2024-02-19T16:46:43.953Z"
   },
   {
    "duration": 1738,
    "start_time": "2024-02-19T16:46:53.629Z"
   },
   {
    "duration": 3,
    "start_time": "2024-02-19T16:46:55.368Z"
   },
   {
    "duration": 15,
    "start_time": "2024-02-19T16:46:55.372Z"
   },
   {
    "duration": 969,
    "start_time": "2024-02-19T16:46:55.388Z"
   },
   {
    "duration": 16,
    "start_time": "2024-02-19T16:46:56.358Z"
   },
   {
    "duration": 4,
    "start_time": "2024-02-19T16:46:56.376Z"
   },
   {
    "duration": 127,
    "start_time": "2024-02-19T16:46:56.381Z"
   },
   {
    "duration": 22,
    "start_time": "2024-02-19T16:46:56.510Z"
   },
   {
    "duration": 64,
    "start_time": "2024-02-19T16:46:56.534Z"
   },
   {
    "duration": 156,
    "start_time": "2024-02-19T16:46:56.599Z"
   },
   {
    "duration": 5,
    "start_time": "2024-02-19T16:46:56.756Z"
   },
   {
    "duration": 137,
    "start_time": "2024-02-19T16:46:56.762Z"
   },
   {
    "duration": 406,
    "start_time": "2024-02-19T16:46:56.901Z"
   },
   {
    "duration": 228,
    "start_time": "2024-02-19T16:46:57.309Z"
   },
   {
    "duration": 32,
    "start_time": "2024-02-19T16:46:57.538Z"
   },
   {
    "duration": 291,
    "start_time": "2024-02-19T16:46:57.572Z"
   },
   {
    "duration": 19,
    "start_time": "2024-02-19T16:46:57.865Z"
   },
   {
    "duration": 218,
    "start_time": "2024-02-19T16:46:57.886Z"
   },
   {
    "duration": 20528,
    "start_time": "2024-02-19T16:46:58.106Z"
   },
   {
    "duration": 24,
    "start_time": "2024-02-19T16:47:18.636Z"
   },
   {
    "duration": 68,
    "start_time": "2024-02-19T16:47:18.661Z"
   },
   {
    "duration": 3,
    "start_time": "2024-02-19T16:47:18.731Z"
   },
   {
    "duration": 1552,
    "start_time": "2024-02-19T16:47:18.735Z"
   },
   {
    "duration": 3,
    "start_time": "2024-02-19T16:47:20.289Z"
   },
   {
    "duration": 61,
    "start_time": "2024-02-19T16:47:20.294Z"
   },
   {
    "duration": 40,
    "start_time": "2024-02-19T16:47:20.356Z"
   },
   {
    "duration": 54,
    "start_time": "2024-02-19T16:47:20.399Z"
   },
   {
    "duration": 1356717,
    "start_time": "2024-02-19T16:47:20.454Z"
   },
   {
    "duration": 584,
    "start_time": "2024-02-19T17:09:57.173Z"
   },
   {
    "duration": 5,
    "start_time": "2024-02-19T17:09:57.759Z"
   },
   {
    "duration": 42,
    "start_time": "2024-02-19T17:09:57.766Z"
   },
   {
    "duration": 136,
    "start_time": "2024-02-19T17:10:50.510Z"
   },
   {
    "duration": 75,
    "start_time": "2024-02-19T17:11:07.804Z"
   },
   {
    "duration": 11,
    "start_time": "2024-02-19T17:11:28.237Z"
   },
   {
    "duration": 6600,
    "start_time": "2024-02-19T17:11:34.847Z"
   },
   {
    "duration": 9,
    "start_time": "2024-02-19T17:11:46.830Z"
   },
   {
    "duration": 1709,
    "start_time": "2024-02-19T17:11:57.552Z"
   },
   {
    "duration": 0,
    "start_time": "2024-02-19T17:13:00.462Z"
   },
   {
    "duration": 0,
    "start_time": "2024-02-19T17:13:00.463Z"
   },
   {
    "duration": 5514,
    "start_time": "2024-02-19T17:13:03.650Z"
   },
   {
    "duration": 1705,
    "start_time": "2024-02-19T17:13:09.246Z"
   },
   {
    "duration": 15,
    "start_time": "2024-02-19T17:14:39.854Z"
   },
   {
    "duration": 30,
    "start_time": "2024-02-19T17:20:12.126Z"
   },
   {
    "duration": 15,
    "start_time": "2024-02-19T17:21:25.798Z"
   },
   {
    "duration": 16,
    "start_time": "2024-02-19T17:21:38.808Z"
   },
   {
    "duration": 15,
    "start_time": "2024-02-19T17:21:45.214Z"
   },
   {
    "duration": 15,
    "start_time": "2024-02-19T17:21:51.415Z"
   },
   {
    "duration": 15,
    "start_time": "2024-02-19T17:21:56.598Z"
   },
   {
    "duration": 15,
    "start_time": "2024-02-19T17:22:10.722Z"
   },
   {
    "duration": 16,
    "start_time": "2024-02-19T17:22:15.357Z"
   },
   {
    "duration": 17,
    "start_time": "2024-02-19T17:22:30.786Z"
   },
   {
    "duration": 14,
    "start_time": "2024-02-19T17:22:49.390Z"
   },
   {
    "duration": 17,
    "start_time": "2024-02-19T17:22:55.409Z"
   },
   {
    "duration": 17,
    "start_time": "2024-02-19T17:23:26.329Z"
   },
   {
    "duration": 17,
    "start_time": "2024-02-19T17:23:31.024Z"
   },
   {
    "duration": 14,
    "start_time": "2024-02-19T17:23:42.924Z"
   },
   {
    "duration": 86,
    "start_time": "2024-02-19T17:25:07.441Z"
   },
   {
    "duration": 16,
    "start_time": "2024-02-19T17:25:12.240Z"
   },
   {
    "duration": 10,
    "start_time": "2024-02-19T17:25:37.168Z"
   },
   {
    "duration": 556,
    "start_time": "2024-02-19T17:25:41.489Z"
   },
   {
    "duration": 11,
    "start_time": "2024-02-19T17:26:55.098Z"
   },
   {
    "duration": 9,
    "start_time": "2024-02-19T17:27:19.822Z"
   },
   {
    "duration": 8,
    "start_time": "2024-02-19T17:28:24.095Z"
   },
   {
    "duration": 187609,
    "start_time": "2024-02-19T17:35:37.258Z"
   },
   {
    "duration": 9608,
    "start_time": "2024-02-19T17:39:10.828Z"
   },
   {
    "duration": 1673,
    "start_time": "2024-02-19T17:39:20.438Z"
   },
   {
    "duration": 3,
    "start_time": "2024-02-19T17:39:22.112Z"
   },
   {
    "duration": 4,
    "start_time": "2024-02-19T17:39:22.117Z"
   },
   {
    "duration": 937,
    "start_time": "2024-02-19T17:39:22.122Z"
   },
   {
    "duration": 17,
    "start_time": "2024-02-19T17:39:23.060Z"
   },
   {
    "duration": 4,
    "start_time": "2024-02-19T17:39:23.078Z"
   },
   {
    "duration": 107,
    "start_time": "2024-02-19T17:39:23.084Z"
   },
   {
    "duration": 20,
    "start_time": "2024-02-19T17:39:23.193Z"
   },
   {
    "duration": 65,
    "start_time": "2024-02-19T17:39:23.215Z"
   },
   {
    "duration": 124,
    "start_time": "2024-02-19T17:39:23.282Z"
   },
   {
    "duration": 5,
    "start_time": "2024-02-19T17:39:23.407Z"
   },
   {
    "duration": 160,
    "start_time": "2024-02-19T17:39:23.414Z"
   },
   {
    "duration": 407,
    "start_time": "2024-02-19T17:39:23.576Z"
   },
   {
    "duration": 187,
    "start_time": "2024-02-19T17:39:23.985Z"
   },
   {
    "duration": 25,
    "start_time": "2024-02-19T17:39:24.173Z"
   },
   {
    "duration": 292,
    "start_time": "2024-02-19T17:39:24.199Z"
   },
   {
    "duration": 19,
    "start_time": "2024-02-19T17:39:24.492Z"
   },
   {
    "duration": 223,
    "start_time": "2024-02-19T17:39:24.513Z"
   },
   {
    "duration": 20277,
    "start_time": "2024-02-19T17:39:24.737Z"
   },
   {
    "duration": 31,
    "start_time": "2024-02-19T17:39:45.016Z"
   },
   {
    "duration": 58,
    "start_time": "2024-02-19T17:39:45.048Z"
   },
   {
    "duration": 4,
    "start_time": "2024-02-19T17:39:45.107Z"
   },
   {
    "duration": 1552,
    "start_time": "2024-02-19T17:39:45.112Z"
   },
   {
    "duration": 3,
    "start_time": "2024-02-19T17:39:46.665Z"
   },
   {
    "duration": 5,
    "start_time": "2024-02-19T17:39:46.669Z"
   },
   {
    "duration": 15,
    "start_time": "2024-02-19T17:39:46.675Z"
   },
   {
    "duration": 7,
    "start_time": "2024-02-19T17:39:46.693Z"
   },
   {
    "duration": 1372380,
    "start_time": "2024-02-19T17:39:46.702Z"
   },
   {
    "duration": 4971,
    "start_time": "2024-02-19T18:02:39.084Z"
   },
   {
    "duration": 1799,
    "start_time": "2024-02-19T18:02:44.056Z"
   },
   {
    "duration": 17,
    "start_time": "2024-02-19T18:02:45.856Z"
   },
   {
    "duration": 575,
    "start_time": "2024-02-19T18:02:45.875Z"
   },
   {
    "duration": 5,
    "start_time": "2024-02-19T18:02:46.451Z"
   },
   {
    "duration": 44,
    "start_time": "2024-02-20T13:17:42.052Z"
   },
   {
    "duration": 16924,
    "start_time": "2024-02-20T13:20:53.579Z"
   },
   {
    "duration": 1826,
    "start_time": "2024-02-20T13:21:10.505Z"
   },
   {
    "duration": 2,
    "start_time": "2024-02-20T13:21:12.332Z"
   },
   {
    "duration": 11,
    "start_time": "2024-02-20T13:21:12.336Z"
   },
   {
    "duration": 1047,
    "start_time": "2024-02-20T13:21:12.348Z"
   },
   {
    "duration": 16,
    "start_time": "2024-02-20T13:21:13.396Z"
   },
   {
    "duration": 5,
    "start_time": "2024-02-20T13:21:13.413Z"
   },
   {
    "duration": 86,
    "start_time": "2024-02-20T13:21:13.420Z"
   },
   {
    "duration": 21,
    "start_time": "2024-02-20T13:21:13.508Z"
   },
   {
    "duration": 54,
    "start_time": "2024-02-20T13:21:13.532Z"
   },
   {
    "duration": 105,
    "start_time": "2024-02-20T13:21:13.587Z"
   },
   {
    "duration": 11,
    "start_time": "2024-02-20T13:21:13.694Z"
   },
   {
    "duration": 139,
    "start_time": "2024-02-20T13:21:13.706Z"
   },
   {
    "duration": 295,
    "start_time": "2024-02-20T13:21:13.846Z"
   },
   {
    "duration": 160,
    "start_time": "2024-02-20T13:21:14.143Z"
   },
   {
    "duration": 21,
    "start_time": "2024-02-20T13:21:14.305Z"
   },
   {
    "duration": 276,
    "start_time": "2024-02-20T13:21:14.327Z"
   },
   {
    "duration": 19,
    "start_time": "2024-02-20T13:21:14.605Z"
   },
   {
    "duration": 198,
    "start_time": "2024-02-20T13:21:14.625Z"
   },
   {
    "duration": 17962,
    "start_time": "2024-02-20T13:21:14.824Z"
   },
   {
    "duration": 39,
    "start_time": "2024-02-20T13:21:32.788Z"
   },
   {
    "duration": 53,
    "start_time": "2024-02-20T13:21:32.828Z"
   },
   {
    "duration": 3,
    "start_time": "2024-02-20T13:21:32.882Z"
   },
   {
    "duration": 1380,
    "start_time": "2024-02-20T13:21:32.886Z"
   },
   {
    "duration": 2,
    "start_time": "2024-02-20T13:21:34.268Z"
   },
   {
    "duration": 19,
    "start_time": "2024-02-20T13:21:34.271Z"
   },
   {
    "duration": 16,
    "start_time": "2024-02-20T13:21:34.291Z"
   },
   {
    "duration": 9,
    "start_time": "2024-02-20T13:21:34.310Z"
   },
   {
    "duration": 201313,
    "start_time": "2024-02-20T13:21:34.320Z"
   },
   {
    "duration": 4777,
    "start_time": "2024-02-20T13:24:55.634Z"
   },
   {
    "duration": 1791,
    "start_time": "2024-02-20T13:25:00.412Z"
   },
   {
    "duration": 180,
    "start_time": "2024-02-20T13:25:02.204Z"
   },
   {
    "duration": 0,
    "start_time": "2024-02-20T13:25:02.386Z"
   },
   {
    "duration": 0,
    "start_time": "2024-02-20T13:25:02.387Z"
   },
   {
    "duration": 0,
    "start_time": "2024-02-20T13:25:02.389Z"
   },
   {
    "duration": 0,
    "start_time": "2024-02-20T13:25:02.390Z"
   },
   {
    "duration": 9,
    "start_time": "2024-02-20T13:25:55.092Z"
   },
   {
    "duration": 9,
    "start_time": "2024-02-20T13:26:12.188Z"
   },
   {
    "duration": 18,
    "start_time": "2024-02-20T13:26:22.909Z"
   },
   {
    "duration": 19,
    "start_time": "2024-02-20T13:27:08.438Z"
   },
   {
    "duration": 8,
    "start_time": "2024-02-20T13:27:55.823Z"
   },
   {
    "duration": 12,
    "start_time": "2024-02-20T13:28:16.592Z"
   },
   {
    "duration": 7,
    "start_time": "2024-02-20T13:31:12.499Z"
   },
   {
    "duration": 8,
    "start_time": "2024-02-20T13:31:43.438Z"
   },
   {
    "duration": 6,
    "start_time": "2024-02-20T13:31:50.636Z"
   },
   {
    "duration": 9,
    "start_time": "2024-02-20T13:32:04.484Z"
   },
   {
    "duration": 8,
    "start_time": "2024-02-20T13:32:37.332Z"
   },
   {
    "duration": 9,
    "start_time": "2024-02-20T13:32:40.613Z"
   },
   {
    "duration": 13,
    "start_time": "2024-02-20T13:32:56.613Z"
   },
   {
    "duration": 8,
    "start_time": "2024-02-20T13:34:31.544Z"
   },
   {
    "duration": 10,
    "start_time": "2024-02-20T13:34:40.344Z"
   },
   {
    "duration": 15,
    "start_time": "2024-02-20T13:35:10.417Z"
   },
   {
    "duration": 8,
    "start_time": "2024-02-20T13:36:18.098Z"
   },
   {
    "duration": 9,
    "start_time": "2024-02-20T13:36:29.314Z"
   },
   {
    "duration": 8,
    "start_time": "2024-02-20T13:36:39.483Z"
   },
   {
    "duration": 19,
    "start_time": "2024-02-20T13:36:55.106Z"
   },
   {
    "duration": 9,
    "start_time": "2024-02-20T13:40:42.192Z"
   },
   {
    "duration": 9,
    "start_time": "2024-02-20T13:40:55.183Z"
   },
   {
    "duration": 15,
    "start_time": "2024-02-20T13:41:12.200Z"
   },
   {
    "duration": 3,
    "start_time": "2024-02-20T13:41:17.009Z"
   },
   {
    "duration": 28,
    "start_time": "2024-02-20T13:41:19.720Z"
   },
   {
    "duration": 15,
    "start_time": "2024-02-20T13:41:50.818Z"
   },
   {
    "duration": 16,
    "start_time": "2024-02-20T13:42:46.290Z"
   },
   {
    "duration": 13,
    "start_time": "2024-02-20T13:43:21.643Z"
   },
   {
    "duration": 6,
    "start_time": "2024-02-20T13:43:45.114Z"
   },
   {
    "duration": 10,
    "start_time": "2024-02-20T13:44:38.484Z"
   },
   {
    "duration": 18,
    "start_time": "2024-02-20T13:45:14.195Z"
   },
   {
    "duration": 85,
    "start_time": "2024-02-20T13:45:33.100Z"
   },
   {
    "duration": 76,
    "start_time": "2024-02-20T13:45:46.781Z"
   },
   {
    "duration": 12,
    "start_time": "2024-02-20T13:45:54.813Z"
   },
   {
    "duration": 11,
    "start_time": "2024-02-20T13:47:38.608Z"
   },
   {
    "duration": 14,
    "start_time": "2024-02-20T13:47:44.767Z"
   },
   {
    "duration": 78,
    "start_time": "2024-02-20T13:48:20.712Z"
   },
   {
    "duration": 11,
    "start_time": "2024-02-20T13:48:46.936Z"
   },
   {
    "duration": 73,
    "start_time": "2024-02-20T13:51:51.036Z"
   },
   {
    "duration": 12,
    "start_time": "2024-02-20T13:51:55.188Z"
   },
   {
    "duration": 13,
    "start_time": "2024-02-20T13:52:03.660Z"
   },
   {
    "duration": 28,
    "start_time": "2024-02-20T13:53:33.750Z"
   },
   {
    "duration": 19,
    "start_time": "2024-02-20T13:53:54.510Z"
   },
   {
    "duration": 70,
    "start_time": "2024-02-20T13:54:03.518Z"
   },
   {
    "duration": 17,
    "start_time": "2024-02-20T13:54:14.878Z"
   },
   {
    "duration": 9,
    "start_time": "2024-02-20T13:54:57.304Z"
   },
   {
    "duration": 7,
    "start_time": "2024-02-20T13:55:28.396Z"
   },
   {
    "duration": 14,
    "start_time": "2024-02-20T13:56:01.560Z"
   },
   {
    "duration": 588,
    "start_time": "2024-02-20T13:56:26.185Z"
   },
   {
    "duration": 16,
    "start_time": "2024-02-20T13:56:41.562Z"
   },
   {
    "duration": 22,
    "start_time": "2024-02-20T13:58:19.580Z"
   },
   {
    "duration": 10,
    "start_time": "2024-02-20T14:04:43.455Z"
   },
   {
    "duration": 15,
    "start_time": "2024-02-20T14:04:47.347Z"
   },
   {
    "duration": 14,
    "start_time": "2024-02-20T14:05:23.829Z"
   },
   {
    "duration": 3,
    "start_time": "2024-02-20T14:05:45.596Z"
   },
   {
    "duration": 4,
    "start_time": "2024-02-20T14:05:51.485Z"
   },
   {
    "duration": 4,
    "start_time": "2024-02-20T14:05:57.685Z"
   },
   {
    "duration": 4,
    "start_time": "2024-02-20T14:06:15.157Z"
   },
   {
    "duration": 72,
    "start_time": "2024-02-20T14:07:28.479Z"
   },
   {
    "duration": 5,
    "start_time": "2024-02-20T14:07:33.095Z"
   },
   {
    "duration": 4,
    "start_time": "2024-02-20T14:07:54.399Z"
   },
   {
    "duration": 110,
    "start_time": "2024-02-20T14:09:33.530Z"
   },
   {
    "duration": 9,
    "start_time": "2024-02-20T14:09:41.801Z"
   },
   {
    "duration": 956,
    "start_time": "2024-02-20T14:09:48.906Z"
   },
   {
    "duration": 1132,
    "start_time": "2024-02-20T14:10:10.619Z"
   },
   {
    "duration": 2,
    "start_time": "2024-02-20T14:12:07.455Z"
   },
   {
    "duration": 12,
    "start_time": "2024-02-20T14:12:57.145Z"
   },
   {
    "duration": 5,
    "start_time": "2024-02-20T14:13:00.600Z"
   },
   {
    "duration": 12,
    "start_time": "2024-02-20T14:13:23.710Z"
   },
   {
    "duration": 3,
    "start_time": "2024-02-20T14:13:41.638Z"
   },
   {
    "duration": 5,
    "start_time": "2024-02-20T14:13:47.599Z"
   },
   {
    "duration": 5,
    "start_time": "2024-02-20T14:14:19.151Z"
   },
   {
    "duration": 10,
    "start_time": "2024-02-20T14:14:30.081Z"
   },
   {
    "duration": 10,
    "start_time": "2024-02-20T14:15:08.720Z"
   },
   {
    "duration": 5,
    "start_time": "2024-02-20T14:15:23.762Z"
   },
   {
    "duration": 12,
    "start_time": "2024-02-20T14:15:26.121Z"
   },
   {
    "duration": 5,
    "start_time": "2024-02-20T14:15:51.466Z"
   },
   {
    "duration": 2,
    "start_time": "2024-02-20T14:17:33.285Z"
   },
   {
    "duration": 2,
    "start_time": "2024-02-20T14:17:34.061Z"
   },
   {
    "duration": 80,
    "start_time": "2024-02-20T14:22:36.654Z"
   },
   {
    "duration": 21,
    "start_time": "2024-02-20T14:23:05.493Z"
   },
   {
    "duration": 14,
    "start_time": "2024-02-20T14:23:16.821Z"
   },
   {
    "duration": 21,
    "start_time": "2024-02-20T14:24:01.397Z"
   },
   {
    "duration": 1005,
    "start_time": "2024-02-20T14:24:14.878Z"
   },
   {
    "duration": 67,
    "start_time": "2024-02-20T14:25:48.737Z"
   },
   {
    "duration": 13,
    "start_time": "2024-02-20T14:26:18.577Z"
   },
   {
    "duration": 6,
    "start_time": "2024-02-20T14:26:31.130Z"
   },
   {
    "duration": 19,
    "start_time": "2024-02-20T14:27:32.563Z"
   },
   {
    "duration": 911,
    "start_time": "2024-02-20T14:27:38.260Z"
   },
   {
    "duration": 983,
    "start_time": "2024-02-20T14:27:47.115Z"
   },
   {
    "duration": 383,
    "start_time": "2024-02-20T14:30:31.943Z"
   },
   {
    "duration": 14,
    "start_time": "2024-02-20T14:30:45.728Z"
   },
   {
    "duration": 5,
    "start_time": "2024-02-20T14:30:49.880Z"
   },
   {
    "duration": 5,
    "start_time": "2024-02-20T14:30:58.856Z"
   },
   {
    "duration": 6,
    "start_time": "2024-02-20T14:31:09.208Z"
   },
   {
    "duration": 70,
    "start_time": "2024-02-20T14:33:40.787Z"
   },
   {
    "duration": 7,
    "start_time": "2024-02-20T14:33:43.707Z"
   },
   {
    "duration": 6,
    "start_time": "2024-02-20T14:35:46.022Z"
   },
   {
    "duration": 86,
    "start_time": "2024-02-20T14:36:51.266Z"
   },
   {
    "duration": 16,
    "start_time": "2024-02-20T14:37:01.904Z"
   },
   {
    "duration": 5,
    "start_time": "2024-02-20T14:37:09.624Z"
   },
   {
    "duration": 18,
    "start_time": "2024-02-20T14:37:33.689Z"
   },
   {
    "duration": 5,
    "start_time": "2024-02-20T14:37:38.976Z"
   },
   {
    "duration": 2,
    "start_time": "2024-02-20T14:38:25.473Z"
   },
   {
    "duration": 10,
    "start_time": "2024-02-20T14:38:39.042Z"
   },
   {
    "duration": 19,
    "start_time": "2024-02-20T14:39:30.276Z"
   },
   {
    "duration": 10,
    "start_time": "2024-02-20T14:39:35.651Z"
   },
   {
    "duration": 17,
    "start_time": "2024-02-20T14:39:42.844Z"
   },
   {
    "duration": 10,
    "start_time": "2024-02-20T14:39:43.827Z"
   },
   {
    "duration": 68,
    "start_time": "2024-02-20T14:40:39.149Z"
   },
   {
    "duration": 67,
    "start_time": "2024-02-20T14:40:45.685Z"
   },
   {
    "duration": 16,
    "start_time": "2024-02-20T14:40:52.812Z"
   },
   {
    "duration": 84,
    "start_time": "2024-02-20T14:41:00.013Z"
   },
   {
    "duration": 11,
    "start_time": "2024-02-20T14:41:07.236Z"
   },
   {
    "duration": 10,
    "start_time": "2024-02-20T14:41:11.477Z"
   },
   {
    "duration": 10867,
    "start_time": "2024-02-20T14:43:01.420Z"
   },
   {
    "duration": 1658,
    "start_time": "2024-02-20T14:43:12.289Z"
   },
   {
    "duration": 2,
    "start_time": "2024-02-20T14:43:13.948Z"
   },
   {
    "duration": 5,
    "start_time": "2024-02-20T14:43:13.951Z"
   },
   {
    "duration": 880,
    "start_time": "2024-02-20T14:43:13.959Z"
   },
   {
    "duration": 15,
    "start_time": "2024-02-20T14:43:14.840Z"
   },
   {
    "duration": 19,
    "start_time": "2024-02-20T14:43:14.856Z"
   },
   {
    "duration": 155,
    "start_time": "2024-02-20T14:43:14.876Z"
   },
   {
    "duration": 30,
    "start_time": "2024-02-20T14:43:15.033Z"
   },
   {
    "duration": 103,
    "start_time": "2024-02-20T14:43:15.065Z"
   },
   {
    "duration": 114,
    "start_time": "2024-02-20T14:43:15.169Z"
   },
   {
    "duration": 7,
    "start_time": "2024-02-20T14:43:15.284Z"
   },
   {
    "duration": 124,
    "start_time": "2024-02-20T14:43:15.302Z"
   },
   {
    "duration": 357,
    "start_time": "2024-02-20T14:43:15.429Z"
   },
   {
    "duration": 166,
    "start_time": "2024-02-20T14:43:15.787Z"
   },
   {
    "duration": 31,
    "start_time": "2024-02-20T14:43:15.954Z"
   },
   {
    "duration": 282,
    "start_time": "2024-02-20T14:43:15.986Z"
   },
   {
    "duration": 19,
    "start_time": "2024-02-20T14:43:16.270Z"
   },
   {
    "duration": 207,
    "start_time": "2024-02-20T14:43:16.291Z"
   },
   {
    "duration": 18597,
    "start_time": "2024-02-20T14:43:16.501Z"
   },
   {
    "duration": 26,
    "start_time": "2024-02-20T14:43:35.101Z"
   },
   {
    "duration": 49,
    "start_time": "2024-02-20T14:43:35.128Z"
   },
   {
    "duration": 3,
    "start_time": "2024-02-20T14:43:35.179Z"
   },
   {
    "duration": 1391,
    "start_time": "2024-02-20T14:43:35.183Z"
   },
   {
    "duration": 3,
    "start_time": "2024-02-20T14:43:36.576Z"
   },
   {
    "duration": 3,
    "start_time": "2024-02-20T14:43:36.581Z"
   },
   {
    "duration": 16,
    "start_time": "2024-02-20T14:43:36.586Z"
   },
   {
    "duration": 22,
    "start_time": "2024-02-20T14:43:36.603Z"
   },
   {
    "duration": 10576,
    "start_time": "2024-02-20T15:29:43.533Z"
   },
   {
    "duration": 1635,
    "start_time": "2024-02-20T15:29:54.111Z"
   },
   {
    "duration": 3,
    "start_time": "2024-02-20T15:29:55.747Z"
   },
   {
    "duration": 38,
    "start_time": "2024-02-20T15:29:55.752Z"
   },
   {
    "duration": 861,
    "start_time": "2024-02-20T15:29:55.791Z"
   },
   {
    "duration": 16,
    "start_time": "2024-02-20T15:29:56.653Z"
   },
   {
    "duration": 6,
    "start_time": "2024-02-20T15:29:56.670Z"
   },
   {
    "duration": 88,
    "start_time": "2024-02-20T15:29:56.677Z"
   },
   {
    "duration": 25,
    "start_time": "2024-02-20T15:29:56.767Z"
   },
   {
    "duration": 77,
    "start_time": "2024-02-20T15:29:56.801Z"
   },
   {
    "duration": 98,
    "start_time": "2024-02-20T15:29:56.879Z"
   },
   {
    "duration": 4,
    "start_time": "2024-02-20T15:29:56.979Z"
   },
   {
    "duration": 139,
    "start_time": "2024-02-20T15:29:56.985Z"
   },
   {
    "duration": 319,
    "start_time": "2024-02-20T15:29:57.125Z"
   },
   {
    "duration": 169,
    "start_time": "2024-02-20T15:29:57.445Z"
   },
   {
    "duration": 26,
    "start_time": "2024-02-20T15:29:57.615Z"
   },
   {
    "duration": 265,
    "start_time": "2024-02-20T15:29:57.643Z"
   },
   {
    "duration": 20,
    "start_time": "2024-02-20T15:29:57.910Z"
   },
   {
    "duration": 212,
    "start_time": "2024-02-20T15:29:57.931Z"
   },
   {
    "duration": 17868,
    "start_time": "2024-02-20T15:29:58.145Z"
   },
   {
    "duration": 28,
    "start_time": "2024-02-20T15:30:16.015Z"
   },
   {
    "duration": 62,
    "start_time": "2024-02-20T15:30:16.044Z"
   },
   {
    "duration": 4,
    "start_time": "2024-02-20T15:30:16.107Z"
   },
   {
    "duration": 1386,
    "start_time": "2024-02-20T15:30:16.112Z"
   },
   {
    "duration": 2,
    "start_time": "2024-02-20T15:30:17.501Z"
   },
   {
    "duration": 7,
    "start_time": "2024-02-20T15:30:17.504Z"
   },
   {
    "duration": 8,
    "start_time": "2024-02-20T15:30:17.512Z"
   },
   {
    "duration": 4,
    "start_time": "2024-02-20T15:30:17.523Z"
   },
   {
    "duration": 195893,
    "start_time": "2024-02-20T15:30:17.529Z"
   },
   {
    "duration": 2,
    "start_time": "2024-02-20T15:33:33.424Z"
   },
   {
    "duration": 31,
    "start_time": "2024-02-20T15:33:33.428Z"
   },
   {
    "duration": 9,
    "start_time": "2024-02-20T15:33:33.460Z"
   },
   {
    "duration": 6,
    "start_time": "2024-02-20T15:33:33.470Z"
   },
   {
    "duration": 33,
    "start_time": "2024-02-20T15:33:33.477Z"
   },
   {
    "duration": 28,
    "start_time": "2024-02-20T15:33:33.511Z"
   },
   {
    "duration": 6,
    "start_time": "2024-02-20T15:33:33.541Z"
   },
   {
    "duration": 79,
    "start_time": "2024-02-20T15:33:33.548Z"
   },
   {
    "duration": 0,
    "start_time": "2024-02-20T15:33:33.628Z"
   },
   {
    "duration": 5824,
    "start_time": "2024-02-20T15:45:24.883Z"
   },
   {
    "duration": 642,
    "start_time": "2024-02-20T15:45:56.279Z"
   },
   {
    "duration": 10517,
    "start_time": "2024-02-20T15:46:43.246Z"
   },
   {
    "duration": 1665,
    "start_time": "2024-02-20T15:46:53.764Z"
   },
   {
    "duration": 2,
    "start_time": "2024-02-20T15:46:55.430Z"
   },
   {
    "duration": 5,
    "start_time": "2024-02-20T15:46:55.434Z"
   },
   {
    "duration": 910,
    "start_time": "2024-02-20T15:46:55.440Z"
   },
   {
    "duration": 14,
    "start_time": "2024-02-20T15:46:56.352Z"
   },
   {
    "duration": 10,
    "start_time": "2024-02-20T15:46:56.367Z"
   },
   {
    "duration": 76,
    "start_time": "2024-02-20T15:46:56.378Z"
   },
   {
    "duration": 23,
    "start_time": "2024-02-20T15:46:56.456Z"
   },
   {
    "duration": 65,
    "start_time": "2024-02-20T15:46:56.481Z"
   },
   {
    "duration": 100,
    "start_time": "2024-02-20T15:46:56.548Z"
   },
   {
    "duration": 5,
    "start_time": "2024-02-20T15:46:56.650Z"
   },
   {
    "duration": 126,
    "start_time": "2024-02-20T15:46:56.656Z"
   },
   {
    "duration": 316,
    "start_time": "2024-02-20T15:46:56.783Z"
   },
   {
    "duration": 165,
    "start_time": "2024-02-20T15:46:57.100Z"
   },
   {
    "duration": 34,
    "start_time": "2024-02-20T15:46:57.267Z"
   },
   {
    "duration": 262,
    "start_time": "2024-02-20T15:46:57.303Z"
   },
   {
    "duration": 18,
    "start_time": "2024-02-20T15:46:57.567Z"
   },
   {
    "duration": 197,
    "start_time": "2024-02-20T15:46:57.587Z"
   },
   {
    "duration": 18521,
    "start_time": "2024-02-20T15:46:57.786Z"
   },
   {
    "duration": 28,
    "start_time": "2024-02-20T15:47:16.309Z"
   },
   {
    "duration": 62,
    "start_time": "2024-02-20T15:47:16.339Z"
   },
   {
    "duration": 3,
    "start_time": "2024-02-20T15:47:16.403Z"
   },
   {
    "duration": 1363,
    "start_time": "2024-02-20T15:47:16.407Z"
   },
   {
    "duration": 3,
    "start_time": "2024-02-20T15:47:17.771Z"
   },
   {
    "duration": 16,
    "start_time": "2024-02-20T15:47:17.775Z"
   },
   {
    "duration": 5,
    "start_time": "2024-02-20T15:47:17.792Z"
   },
   {
    "duration": 3,
    "start_time": "2024-02-20T15:47:17.800Z"
   },
   {
    "duration": 204235,
    "start_time": "2024-02-20T15:47:17.804Z"
   },
   {
    "duration": 4962,
    "start_time": "2024-02-20T15:50:42.040Z"
   },
   {
    "duration": 2,
    "start_time": "2024-02-20T15:50:47.005Z"
   },
   {
    "duration": 7,
    "start_time": "2024-02-20T15:50:47.008Z"
   },
   {
    "duration": 23,
    "start_time": "2024-02-20T15:50:47.017Z"
   },
   {
    "duration": 35,
    "start_time": "2024-02-20T15:50:47.041Z"
   },
   {
    "duration": 29,
    "start_time": "2024-02-20T15:50:47.078Z"
   },
   {
    "duration": 2,
    "start_time": "2024-02-20T15:50:47.108Z"
   },
   {
    "duration": 606,
    "start_time": "2024-02-20T15:50:47.111Z"
   },
   {
    "duration": 85,
    "start_time": "2024-02-20T15:50:47.719Z"
   }
  ],
  "kernelspec": {
   "display_name": "Python 3 (ipykernel)",
   "language": "python",
   "name": "python3"
  },
  "language_info": {
   "codemirror_mode": {
    "name": "ipython",
    "version": 3
   },
   "file_extension": ".py",
   "mimetype": "text/x-python",
   "name": "python",
   "nbconvert_exporter": "python",
   "pygments_lexer": "ipython3",
   "version": "3.10.9"
  },
  "toc": {
   "base_numbering": 1,
   "nav_menu": {},
   "number_sections": true,
   "sideBar": true,
   "skip_h1_title": true,
   "title_cell": "Table of Contents",
   "title_sidebar": "Contents",
   "toc_cell": false,
   "toc_position": {
    "height": "calc(100% - 180px)",
    "left": "10px",
    "top": "150px",
    "width": "288px"
   },
   "toc_section_display": true,
   "toc_window_display": true
  }
 },
 "nbformat": 4,
 "nbformat_minor": 2
}
