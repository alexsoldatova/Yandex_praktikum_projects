{
 "cells": [
  {
   "cell_type": "markdown",
   "metadata": {
    "toc": true
   },
   "source": [
    "<h1>Содержание<span class=\"tocSkip\"></span></h1>\n",
    "<div class=\"toc\"><ul class=\"toc-item\"><li><span><a href=\"#Подготовка\" data-toc-modified-id=\"Подготовка-1\"><span class=\"toc-item-num\">1&nbsp;&nbsp;</span>Подготовка</a></span><ul class=\"toc-item\"><li><span><a href=\"#Обзор-данных\" data-toc-modified-id=\"Обзор-данных-1.1\"><span class=\"toc-item-num\">1.1&nbsp;&nbsp;</span>Обзор данных</a></span></li></ul></li><li><span><a href=\"#Анализ\" data-toc-modified-id=\"Анализ-2\"><span class=\"toc-item-num\">2&nbsp;&nbsp;</span>Анализ</a></span><ul class=\"toc-item\"><li><span><a href=\"#Анализ-данных\" data-toc-modified-id=\"Анализ-данных-2.1\"><span class=\"toc-item-num\">2.1&nbsp;&nbsp;</span>Анализ данных</a></span></li><li><span><a href=\"#Создание-новых-признаков\" data-toc-modified-id=\"Создание-новых-признаков-2.2\"><span class=\"toc-item-num\">2.2&nbsp;&nbsp;</span>Создание новых признаков</a></span></li><li><span><a href=\"#Проверка-ряда-на-стационарность\" data-toc-modified-id=\"Проверка-ряда-на-стационарность-2.3\"><span class=\"toc-item-num\">2.3&nbsp;&nbsp;</span>Проверка ряда на стационарность</a></span></li></ul></li><li><span><a href=\"#Обучение\" data-toc-modified-id=\"Обучение-3\"><span class=\"toc-item-num\">3&nbsp;&nbsp;</span>Обучение</a></span><ul class=\"toc-item\"><li><span><a href=\"#Моделирование\" data-toc-modified-id=\"Моделирование-3.1\"><span class=\"toc-item-num\">3.1&nbsp;&nbsp;</span>Моделирование</a></span></li></ul></li><li><span><a href=\"#Тестирование\" data-toc-modified-id=\"Тестирование-4\"><span class=\"toc-item-num\">4&nbsp;&nbsp;</span>Тестирование</a></span></li><li><span><a href=\"#Итоговый-вывод\" data-toc-modified-id=\"Итоговый-вывод-5\"><span class=\"toc-item-num\">5&nbsp;&nbsp;</span>Итоговый вывод</a></span></li></ul></div>"
   ]
  },
  {
   "cell_type": "markdown",
   "metadata": {},
   "source": [
    "#  Прогнозирование заказов такси"
   ]
  },
  {
   "cell_type": "markdown",
   "metadata": {},
   "source": [
    "Компания «Чётенькое такси» собрала исторические данные о заказах такси в аэропортах. Чтобы привлекать больше водителей в период пиковой нагрузки, нужно спрогнозировать количество заказов такси на следующий час. Постройте модель для такого предсказания.\n",
    "\n",
    "Задачи:\n",
    "\n",
    "1. Загрузить данные и выполнить их ресемплирование по одному часу.\n",
    "2. Проанализировать данные.\n",
    "3. Обучить разные модели с различными гиперпараметрами. Сделать тестовую выборку размером 10% от исходных данных.\n",
    "4. Проверить данные на тестовой выборке и сделать выводы.\n"
   ]
  },
  {
   "cell_type": "markdown",
   "metadata": {},
   "source": [
    "## Подготовка"
   ]
  },
  {
   "cell_type": "markdown",
   "metadata": {},
   "source": [
    "Загрузка необходимых в работе библиотек"
   ]
  },
  {
   "cell_type": "code",
   "execution_count": 1,
   "metadata": {},
   "outputs": [],
   "source": [
    "import pandas as pd\n",
    "import seaborn as sns\n",
    "import numpy as np\n",
    "from sklearn.model_selection import train_test_split\n",
    "from statsmodels.tsa.seasonal import seasonal_decompose\n",
    "import matplotlib.pyplot as plt\n",
    "from sklearn.linear_model import LinearRegression\n",
    "from sklearn.tree import DecisionTreeRegressor\n",
    "from sklearn.ensemble import RandomForestRegressor\n",
    "from sklearn.metrics import mean_squared_error\n",
    "from sklearn.model_selection import TimeSeriesSplit\n",
    "from sklearn.pipeline import Pipeline\n",
    "from sklearn.model_selection import RandomizedSearchCV\n",
    "from sklearn.dummy import DummyRegressor\n",
    "from statsmodels.tsa.stattools import adfuller"
   ]
  },
  {
   "cell_type": "code",
   "execution_count": 2,
   "metadata": {},
   "outputs": [],
   "source": [
    "RANDOM_STATE = 123"
   ]
  },
  {
   "cell_type": "code",
   "execution_count": 3,
   "metadata": {},
   "outputs": [],
   "source": [
    "import warnings\n",
    "warnings.filterwarnings('ignore')"
   ]
  },
  {
   "cell_type": "markdown",
   "metadata": {},
   "source": [
    "### Обзор данных"
   ]
  },
  {
   "cell_type": "code",
   "execution_count": 4,
   "metadata": {},
   "outputs": [],
   "source": [
    "data = pd.read_csv('/datasets/taxi.csv', index_col=[0], parse_dates=[0])\n",
    "data.sort_index(inplace=True)"
   ]
  },
  {
   "cell_type": "code",
   "execution_count": 5,
   "metadata": {},
   "outputs": [
    {
     "data": {
      "text/html": [
       "<div>\n",
       "<style scoped>\n",
       "    .dataframe tbody tr th:only-of-type {\n",
       "        vertical-align: middle;\n",
       "    }\n",
       "\n",
       "    .dataframe tbody tr th {\n",
       "        vertical-align: top;\n",
       "    }\n",
       "\n",
       "    .dataframe thead th {\n",
       "        text-align: right;\n",
       "    }\n",
       "</style>\n",
       "<table border=\"1\" class=\"dataframe\">\n",
       "  <thead>\n",
       "    <tr style=\"text-align: right;\">\n",
       "      <th></th>\n",
       "      <th>num_orders</th>\n",
       "    </tr>\n",
       "    <tr>\n",
       "      <th>datetime</th>\n",
       "      <th></th>\n",
       "    </tr>\n",
       "  </thead>\n",
       "  <tbody>\n",
       "    <tr>\n",
       "      <th>2018-03-01 00:00:00</th>\n",
       "      <td>9</td>\n",
       "    </tr>\n",
       "    <tr>\n",
       "      <th>2018-03-01 00:10:00</th>\n",
       "      <td>14</td>\n",
       "    </tr>\n",
       "    <tr>\n",
       "      <th>2018-03-01 00:20:00</th>\n",
       "      <td>28</td>\n",
       "    </tr>\n",
       "    <tr>\n",
       "      <th>2018-03-01 00:30:00</th>\n",
       "      <td>20</td>\n",
       "    </tr>\n",
       "    <tr>\n",
       "      <th>2018-03-01 00:40:00</th>\n",
       "      <td>32</td>\n",
       "    </tr>\n",
       "  </tbody>\n",
       "</table>\n",
       "</div>"
      ],
      "text/plain": [
       "                     num_orders\n",
       "datetime                       \n",
       "2018-03-01 00:00:00           9\n",
       "2018-03-01 00:10:00          14\n",
       "2018-03-01 00:20:00          28\n",
       "2018-03-01 00:30:00          20\n",
       "2018-03-01 00:40:00          32"
      ]
     },
     "execution_count": 5,
     "metadata": {},
     "output_type": "execute_result"
    }
   ],
   "source": [
    "data.head()"
   ]
  },
  {
   "cell_type": "code",
   "execution_count": 6,
   "metadata": {},
   "outputs": [
    {
     "name": "stdout",
     "output_type": "stream",
     "text": [
      "<class 'pandas.core.frame.DataFrame'>\n",
      "DatetimeIndex: 26496 entries, 2018-03-01 00:00:00 to 2018-08-31 23:50:00\n",
      "Data columns (total 1 columns):\n",
      " #   Column      Non-Null Count  Dtype\n",
      "---  ------      --------------  -----\n",
      " 0   num_orders  26496 non-null  int64\n",
      "dtypes: int64(1)\n",
      "memory usage: 414.0 KB\n"
     ]
    }
   ],
   "source": [
    "data.info()"
   ]
  },
  {
   "cell_type": "markdown",
   "metadata": {},
   "source": [
    "Данные предоставлены за период с марта по август 2018 года"
   ]
  },
  {
   "cell_type": "markdown",
   "metadata": {},
   "source": [
    "## Анализ"
   ]
  },
  {
   "cell_type": "markdown",
   "metadata": {},
   "source": [
    "### Анализ данных"
   ]
  },
  {
   "cell_type": "markdown",
   "metadata": {},
   "source": [
    "Просемплируем данные по часам:\n",
    "\n",
    "(Так как график по часам очень шумный на большом отрезке времени, рассмотрим данные за 1 месяц)"
   ]
  },
  {
   "cell_type": "code",
   "execution_count": 7,
   "metadata": {},
   "outputs": [],
   "source": [
    "data_hours = data.resample('1H').sum()"
   ]
  },
  {
   "cell_type": "code",
   "execution_count": 8,
   "metadata": {},
   "outputs": [],
   "source": [
    "data_hours['mean'] = data_hours['num_orders'].shift().rolling(20).mean()\n",
    "data_hours['std'] = data_hours['num_orders'].shift().rolling(20).std()"
   ]
  },
  {
   "cell_type": "code",
   "execution_count": 9,
   "metadata": {
    "scrolled": false
   },
   "outputs": [
    {
     "data": {
      "image/png": "[encoded data removed]",
      "text/plain": [
       "<Figure size 1080x360 with 1 Axes>"
      ]
     },
     "metadata": {
      "needs_background": "light"
     },
     "output_type": "display_data"
    }
   ],
   "source": [
    "data_hours['2018-03':'2018-04'].plot(figsize=(15, 5))\n",
    "plt.title('График заказов такси по часам за март')\n",
    "plt.xlabel('Дни')\n",
    "plt.ylabel('Заказы');"
   ]
  },
  {
   "cell_type": "markdown",
   "metadata": {},
   "source": [
    "По графику за такой короткий пириод нельзя сделать вывод о стационарности временного ряда. "
   ]
  },
  {
   "cell_type": "markdown",
   "metadata": {},
   "source": [
    "Просемплируем данные по дням:"
   ]
  },
  {
   "cell_type": "code",
   "execution_count": 10,
   "metadata": {
    "scrolled": true
   },
   "outputs": [
    {
     "data": {
      "image/png": "[encoded data removed]",
      "text/plain": [
       "<Figure size 1080x360 with 1 Axes>"
      ]
     },
     "metadata": {
      "needs_background": "light"
     },
     "output_type": "display_data"
    }
   ],
   "source": [
    "data_days = data.resample('1D').sum()\n",
    "data_days['mean'] = data_days['num_orders'].rolling(5).mean()\n",
    "data_days['std'] = data_days['num_orders'].rolling(5).std()\n",
    "data_days.plot(figsize=(15, 5))\n",
    "plt.title('График заказов такси по дням за период с марта по август')\n",
    "plt.xlabel('Месяцы')\n",
    "plt.ylabel('Заказы');"
   ]
  },
  {
   "cell_type": "markdown",
   "metadata": {},
   "source": [
    "Как видно из графика среднее значение заказов такси по дням растет, можно сделать вывод, что временной ряд нестационарен"
   ]
  },
  {
   "cell_type": "markdown",
   "metadata": {},
   "source": [
    "Разобьем врекменной ряд на тренд и сезонность:"
   ]
  },
  {
   "cell_type": "code",
   "execution_count": 11,
   "metadata": {
    "scrolled": false
   },
   "outputs": [
    {
     "data": {
      "image/png": "[encoded data removed]",
      "text/plain": [
       "<Figure size 864x576 with 3 Axes>"
      ]
     },
     "metadata": {
      "needs_background": "light"
     },
     "output_type": "display_data"
    }
   ],
   "source": [
    "decomposed = seasonal_decompose(data_hours['num_orders'])\n",
    "plt.figure(figsize=(12, 8))\n",
    "plt.subplot(311)\n",
    "decomposed.trend.plot(ax=plt.gca())\n",
    "plt.title('Trend')\n",
    "plt.xlabel('Месяцы')\n",
    "plt.ylabel('Заказы')\n",
    "plt.subplot(312)\n",
    "decomposed.seasonal['2018-03-01':'2018-03-14'].plot(ax=plt.gca())\n",
    "plt.title('Seasonality 2 weeks')\n",
    "plt.xlabel('Дни')\n",
    "plt.ylabel('Заказы')\n",
    "plt.subplot(313)\n",
    "decomposed.seasonal['2018-03-01':'2018-03-04'].plot(ax=plt.gca())\n",
    "plt.title('Seasonality 2 days')\n",
    "plt.xlabel('Дни')\n",
    "plt.ylabel('Заказы')\n",
    "plt.tight_layout();"
   ]
  },
  {
   "cell_type": "markdown",
   "metadata": {},
   "source": [
    "- Тренд растет от месяца к месяцу - среднее количество заказов такси за рассматриваемый период постоянно растет\n",
    "- По графику сезонности видно, что в течение дня есть 3 пиковые точки с максимальной загруженностью\n",
    "- Самые загруженные часы - ночью и рано утром"
   ]
  },
  {
   "cell_type": "markdown",
   "metadata": {},
   "source": [
    "### Создание новых признаков"
   ]
  },
  {
   "cell_type": "markdown",
   "metadata": {},
   "source": [
    "Создание новых признаков\n",
    "\n",
    "Напишем функцию, с помощью которой добавим следующие принзнаки:\n",
    "1. Календарные признаки\n",
    "2. «Отстающие значения»\n",
    "3. Скользящее среднее (Не включая текущее значение ряда)"
   ]
  },
  {
   "cell_type": "code",
   "execution_count": 12,
   "metadata": {},
   "outputs": [],
   "source": [
    "data_model = data.resample('1H').sum()\n",
    "\n",
    "def make_features(data, max_lag, rolling_mean_size):\n",
    "#     data['month'] = data.index.month\n",
    "    data['day'] = data.index.day\n",
    "    data['dayofweek'] = data.index.dayofweek\n",
    "    data['hour'] = data.index.hour\n",
    "    \n",
    "    for lag in range(1, max_lag + 1):\n",
    "        data['lag_{}'.format(lag)] = data['num_orders'].shift(lag)\n",
    "        data['rolling_mean'] = data['num_orders'].rolling(rolling_mean_size).mean().shift()"
   ]
  },
  {
   "cell_type": "code",
   "execution_count": 13,
   "metadata": {
    "scrolled": false
   },
   "outputs": [
    {
     "name": "stdout",
     "output_type": "stream",
     "text": [
      "                     num_orders  day  dayofweek  hour  lag_1  rolling_mean  \\\n",
      "datetime                                                                     \n",
      "2018-03-01 00:00:00         124    1          3     0    NaN           NaN   \n",
      "2018-03-01 01:00:00          85    1          3     1  124.0           NaN   \n",
      "2018-03-01 02:00:00          71    1          3     2   85.0           NaN   \n",
      "2018-03-01 03:00:00          66    1          3     3   71.0           NaN   \n",
      "2018-03-01 04:00:00          43    1          3     4   66.0           NaN   \n",
      "\n",
      "                     lag_2  lag_3  lag_4  lag_5  lag_6  lag_7  \n",
      "datetime                                                       \n",
      "2018-03-01 00:00:00    NaN    NaN    NaN    NaN    NaN    NaN  \n",
      "2018-03-01 01:00:00    NaN    NaN    NaN    NaN    NaN    NaN  \n",
      "2018-03-01 02:00:00  124.0    NaN    NaN    NaN    NaN    NaN  \n",
      "2018-03-01 03:00:00   85.0  124.0    NaN    NaN    NaN    NaN  \n",
      "2018-03-01 04:00:00   71.0   85.0  124.0    NaN    NaN    NaN  \n"
     ]
    }
   ],
   "source": [
    "make_features(data_model, 7, 20)\n",
    "print(data_model.head())"
   ]
  },
  {
   "cell_type": "code",
   "execution_count": 14,
   "metadata": {},
   "outputs": [
    {
     "data": {
      "image/png": "[encoded data removed]",
      "text/plain": [
       "<Figure size 1080x360 with 1 Axes>"
      ]
     },
     "metadata": {
      "needs_background": "light"
     },
     "output_type": "display_data"
    }
   ],
   "source": [
    "plt.figure(figsize=(15,5))\n",
    "sns.boxplot(y='num_orders', x='hour', data=data_model)\n",
    "plt.title('Распределение заказов по часам')\n",
    "plt.xlabel('Часы')\n",
    "plt.ylabel('Заказы');"
   ]
  },
  {
   "cell_type": "markdown",
   "metadata": {},
   "source": [
    "Самое большое количество заказов в ночное время и в начале и в конце рабочего дня. \n",
    "В 2 часа ночи иногда отмечается рекордное количество заказов - заметные выбросы"
   ]
  },
  {
   "cell_type": "code",
   "execution_count": 15,
   "metadata": {
    "scrolled": true
   },
   "outputs": [
    {
     "data": {
      "image/png": "[encoded data removed]",
      "text/plain": [
       "<Figure size 1080x360 with 1 Axes>"
      ]
     },
     "metadata": {
      "needs_background": "light"
     },
     "output_type": "display_data"
    }
   ],
   "source": [
    "plt.figure(figsize=(15,5))\n",
    "sns.boxplot(y='num_orders', x='dayofweek', data=data_model)\n",
    "plt.title('Распределение заказов по дням недели')\n",
    "plt.xlabel('День недели')\n",
    "plt.ylabel('Заказы');"
   ]
  },
  {
   "cell_type": "markdown",
   "metadata": {},
   "source": [
    "Среднее количество заказов практически не различается по дням недели"
   ]
  },
  {
   "cell_type": "markdown",
   "metadata": {},
   "source": [
    "### Проверка ряда на стационарность"
   ]
  },
  {
   "cell_type": "markdown",
   "metadata": {},
   "source": [
    "Проведем тест Дики-Фуллера на стационарность"
   ]
  },
  {
   "cell_type": "markdown",
   "metadata": {},
   "source": [
    "Сформулируем нулевую и альтернативную гипотезы:\n",
    "\n",
    "H0: Временной ряд обладает единичным корнем (unit root), не стационарен\n",
    "\n",
    "H1: Временной ряд НЕ обладает единичным корнем (unit root), стационарен"
   ]
  },
  {
   "cell_type": "code",
   "execution_count": 16,
   "metadata": {},
   "outputs": [
    {
     "name": "stdout",
     "output_type": "stream",
     "text": [
      "ADF Statistic: -3.068924\n",
      "p-value: 0.028940\n",
      "Critical Values:\n",
      "\t1%: -3.432\n",
      "\t5%: -2.862\n",
      "\t10%: -2.567\n",
      "есть единичные корни, ряд не стационарен\n"
     ]
    }
   ],
   "source": [
    "st_test = adfuller(data_model['num_orders'])\n",
    "print('ADF Statistic: %f' % st_test[0])\n",
    "print('p-value: %f' % st_test[1])\n",
    "print('Critical Values:')\n",
    "for key, value in st_test[4].items():\n",
    "    print('\\t%s: %.3f' % (key, value))\n",
    " \n",
    "if st_test [0]> st_test [4]['1%']:\n",
    "    print ('есть единичные корни, ряд не стационарен')\n",
    "else:\n",
    "    print ('единичных корней нет, ряд стационарен')"
   ]
  },
  {
   "cell_type": "markdown",
   "metadata": {},
   "source": [
    "## Обучение"
   ]
  },
  {
   "cell_type": "markdown",
   "metadata": {},
   "source": [
    "### Моделирование"
   ]
  },
  {
   "cell_type": "code",
   "execution_count": 17,
   "metadata": {},
   "outputs": [
    {
     "name": "stdout",
     "output_type": "stream",
     "text": [
      "2018-03-01 20:00:00 2018-08-13 15:00:00\n",
      "2018-08-13 16:00:00 2018-08-31 23:00:00\n"
     ]
    }
   ],
   "source": [
    "data_model = data_model.dropna()\n",
    "X_train, X_test, y_train, y_test = train_test_split(data_model.drop(['num_orders'], axis=1),\n",
    "                               data_model['num_orders'],\n",
    "                               shuffle=False,\n",
    "                               test_size=0.1)\n",
    "\n",
    "print(X_train.index.min(), X_train.index.max())\n",
    "print(X_test.index.min(), X_test.index.max())"
   ]
  },
  {
   "cell_type": "markdown",
   "metadata": {},
   "source": [
    "Данные поделены корректно: тренировочная выборка заканчивается там, где начинается тестовая"
   ]
  },
  {
   "cell_type": "code",
   "execution_count": 18,
   "metadata": {},
   "outputs": [],
   "source": [
    "pipe_final = Pipeline([\n",
    "    ('models', LinearRegression())\n",
    "])\n",
    "\n",
    "param_grid = [\n",
    "    # словарь для модели RandomForestRegressor()\n",
    "    {\n",
    "     'models': [RandomForestRegressor(random_state=RANDOM_STATE)],\n",
    "     'models__max_depth': range(2, 20, 2),\n",
    "     'models__n_estimators':[50, 100],\n",
    "     'models__min_samples_split': range(2, 10, 2),\n",
    "     'models__min_samples_leaf': range(2, 10, 2)\n",
    "    },\n",
    "    # словарь для модели DecisionTreeRegressor()\n",
    "    {\n",
    "     'models': [DecisionTreeRegressor(random_state=RANDOM_STATE)],\n",
    "     'models__max_depth': range(2, 10, 2),\n",
    "     'models__max_features': range(2, 10, 2),\n",
    "     'models__min_samples_split': range(2, 10, 2),\n",
    "     'models__min_samples_leaf': range(2, 10, 2)\n",
    "    },\n",
    "\n",
    "    # словарь для модели LinearRegression()\n",
    "    {\n",
    "        'models': [LinearRegression()]\n",
    "    },\n",
    "]"
   ]
  },
  {
   "cell_type": "code",
   "execution_count": 19,
   "metadata": {},
   "outputs": [],
   "source": [
    "tcv = TimeSeriesSplit(n_splits=5)"
   ]
  },
  {
   "cell_type": "code",
   "execution_count": 20,
   "metadata": {},
   "outputs": [
    {
     "name": "stdout",
     "output_type": "stream",
     "text": [
      "Лучшая модель и её параметры:\n",
      "\n",
      " Pipeline(steps=[('models',\n",
      "                 RandomForestRegressor(max_depth=18, min_samples_leaf=2,\n",
      "                                       min_samples_split=8,\n",
      "                                       random_state=123))])\n",
      "Метрика лучшей модели на тренировочной выборке: 25.59869358144284\n"
     ]
    }
   ],
   "source": [
    "randomized_search = RandomizedSearchCV(\n",
    "    pipe_final,\n",
    "    param_grid,\n",
    "    scoring='neg_root_mean_squared_error',\n",
    "    random_state=RANDOM_STATE,\n",
    "    cv=tcv,\n",
    "    n_jobs=-1\n",
    ")\n",
    "randomized_search.fit(X_train, y_train)\n",
    "\n",
    "print('Лучшая модель и её параметры:\\n\\n', randomized_search.best_estimator_)\n",
    "print ('Метрика лучшей модели на тренировочной выборке:', -1*randomized_search.best_score_)"
   ]
  },
  {
   "cell_type": "markdown",
   "metadata": {},
   "source": [
    "## Тестирование"
   ]
  },
  {
   "cell_type": "code",
   "execution_count": 21,
   "metadata": {},
   "outputs": [
    {
     "name": "stdout",
     "output_type": "stream",
     "text": [
      "Метрика лучшей модели на тестовой выборке: 44.55773190527811\n"
     ]
    }
   ],
   "source": [
    "pred = randomized_search.predict(X_test)\n",
    "print('Метрика лучшей модели на тестовой выборке:', mean_squared_error(y_test, pred)**0.5)"
   ]
  },
  {
   "cell_type": "code",
   "execution_count": 22,
   "metadata": {
    "scrolled": true
   },
   "outputs": [
    {
     "data": {
      "image/png": "[encoded data removed]",
      "text/plain": [
       "<Figure size 1080x360 with 1 Axes>"
      ]
     },
     "metadata": {
      "needs_background": "light"
     },
     "output_type": "display_data"
    }
   ],
   "source": [
    "result=pd.DataFrame(zip(y_test, pred), columns=['test', 'predictions'], index=(y_test.index))\n",
    "result.plot(figsize=(15, 5))\n",
    "plt.xlabel('Дни')\n",
    "plt.ylabel('Заказы')\n",
    "plt.title('Сравнение реальных данных тестовой выборки с прогнозом модели');"
   ]
  },
  {
   "cell_type": "code",
   "execution_count": 23,
   "metadata": {},
   "outputs": [
    {
     "name": "stdout",
     "output_type": "stream",
     "text": [
      "Метрика на константной модели: 84.69056594015109\n"
     ]
    }
   ],
   "source": [
    "dummy_mean = DummyRegressor(strategy = 'mean').fit(X_train, y_train)\n",
    "y_predict_dummy_mean = dummy_mean.predict(X_test) \n",
    "print(f'Метрика на константной модели: {mean_squared_error(y_test, y_predict_dummy_mean)** 0.5}')"
   ]
  },
  {
   "cell_type": "markdown",
   "metadata": {},
   "source": [
    "## Итоговый вывод\n",
    "\n",
    "Компания «Чётенькое такси» собрала исторические данные о заказах такси в аэропортах. Чтобы привлекать больше водителей в период пиковой нагрузки.\n",
    "\n",
    "Задача была спрогнозировать количество заказов такси на следующий час. \n",
    "\n",
    "Были выполены следующие этапы:\n",
    "\n",
    "1. Загрузка, обзор данных и их ресемплирование.\n",
    "\n",
    "Данные предоставлены за период с марта по август 2018 года\n",
    "\n",
    "2. Анализ данных.\n",
    "\n",
    "- Тренд растет от месяца к месяцу - среднее количество заказов такси за рассматриваемый период постоянно растет\n",
    "- По графику сезонности видно, что в течение дня есть 3 пиковые точки с максимальной загруженностью\n",
    "- Самые загруженные часы - ночью и рано утром\n",
    "- Самое большое количество заказов в ночное время и в начале и в конце рабочего дня. В 2 часа ночи иногда отмечается рекордное количество заказов - заметные выбросы\n",
    "- Среднее количество заказов практически не различается по дням недели\n",
    "\n",
    "Как видно из графиков тренда и среднего значения заказов такси по дням, эти показатели растут, можно сделать вывод, что временной ряд нестационарен.\n",
    "\n",
    "Также был проведен тест Дики-Фуллера на стационарность, по результатам коротого изучаемый временной ряд стационарным не является. Этот тест подтвердил нестационарность ряда, наблюдаемую по росту труенда и среднего значения по дням.\n",
    "\n",
    "В процессе работы были созданы новые признаки:\n",
    "- Календарные признаки\n",
    "-  «Отстающие значения»\n",
    "- Скользящее среднее (Не включая текущее значение ряда)\n",
    "\n",
    "3. Обучение моделей с различными гиперпараметрами. \n",
    "Тестовая выборка взята размером 10% от исходных данных. Данные поделены корректно: тренировочная выборка заканчивается там, где начинается тестовая.\n",
    "В процессы моделирование были исследованы модели: RandomForestRegressor, DecisionTreeRegressor, LinearRegression.\n",
    "\n",
    "Лучшая модель и её параметры:\n",
    "\n",
    " Pipeline(steps=[('models',\n",
    "                 RandomForestRegressor(max_depth=18, min_samples_leaf=2,\n",
    "                                       min_samples_split=8,\n",
    "                                       random_state=123))])\n",
    "                                       \n",
    "4. Проверка лучшей модели на тестовых данных.\n",
    "\n",
    "Метрика лучшей модели на тестовой выборке: 44.55773190527811\n",
    "\n",
    "Модель хорошо прогнозирует часы с низким количеством заказов и часы средней загрузки. Хуже всего модель справляется именно с пиковыми загруженными часами. Сама форма кривой прогноза корректная и пиковые часы можно увидеть, однако модель только занижаниет непосредственно количество заказов в это время."
   ]
  }
 ],
 "metadata": {
  "ExecuteTimeLog": [
   {
    "duration": 1633,
    "start_time": "2024-02-21T12:59:00.862Z"
   },
   {
    "duration": 109,
    "start_time": "2024-02-21T12:59:02.497Z"
   },
   {
    "duration": 0,
    "start_time": "2024-02-21T12:59:02.607Z"
   },
   {
    "duration": 62,
    "start_time": "2024-02-21T12:59:12.472Z"
   },
   {
    "duration": 14,
    "start_time": "2024-02-21T12:59:20.016Z"
   },
   {
    "duration": 127,
    "start_time": "2024-02-21T12:59:32.536Z"
   },
   {
    "duration": 10,
    "start_time": "2024-02-21T12:59:34.431Z"
   },
   {
    "duration": 335,
    "start_time": "2024-02-21T12:59:52.296Z"
   },
   {
    "duration": 248,
    "start_time": "2024-02-21T13:00:11.857Z"
   },
   {
    "duration": 643,
    "start_time": "2024-02-21T13:00:32.077Z"
   },
   {
    "duration": 261,
    "start_time": "2024-02-21T13:10:11.235Z"
   },
   {
    "duration": 224,
    "start_time": "2024-02-21T13:10:16.767Z"
   },
   {
    "duration": 223,
    "start_time": "2024-02-21T13:10:33.560Z"
   },
   {
    "duration": 314,
    "start_time": "2024-02-21T13:10:39.553Z"
   },
   {
    "duration": 416,
    "start_time": "2024-02-21T13:12:44.236Z"
   },
   {
    "duration": 1567,
    "start_time": "2024-02-21T13:13:19.460Z"
   },
   {
    "duration": 3,
    "start_time": "2024-02-21T13:13:32.160Z"
   },
   {
    "duration": 47,
    "start_time": "2024-02-21T13:13:32.166Z"
   },
   {
    "duration": 7,
    "start_time": "2024-02-21T13:13:32.215Z"
   },
   {
    "duration": 1531,
    "start_time": "2024-02-21T13:13:32.224Z"
   },
   {
    "duration": 0,
    "start_time": "2024-02-21T13:13:33.756Z"
   },
   {
    "duration": 0,
    "start_time": "2024-02-21T13:13:33.757Z"
   },
   {
    "duration": 0,
    "start_time": "2024-02-21T13:13:33.758Z"
   },
   {
    "duration": 0,
    "start_time": "2024-02-21T13:13:33.760Z"
   },
   {
    "duration": 448,
    "start_time": "2024-02-21T13:14:08.783Z"
   },
   {
    "duration": 230,
    "start_time": "2024-02-21T13:14:45.032Z"
   },
   {
    "duration": 1581,
    "start_time": "2024-02-21T13:15:04.159Z"
   },
   {
    "duration": 233,
    "start_time": "2024-02-21T13:15:14.575Z"
   },
   {
    "duration": 245,
    "start_time": "2024-02-21T13:15:23.504Z"
   },
   {
    "duration": 239,
    "start_time": "2024-02-21T13:15:30.255Z"
   },
   {
    "duration": 10,
    "start_time": "2024-02-21T13:19:33.429Z"
   },
   {
    "duration": 20674,
    "start_time": "2024-02-21T13:24:36.486Z"
   },
   {
    "duration": 16,
    "start_time": "2024-02-21T13:52:14.071Z"
   },
   {
    "duration": 3,
    "start_time": "2024-02-21T14:05:07.471Z"
   },
   {
    "duration": 56,
    "start_time": "2024-02-21T14:05:07.476Z"
   },
   {
    "duration": 6,
    "start_time": "2024-02-21T14:05:07.534Z"
   },
   {
    "duration": 369,
    "start_time": "2024-02-21T14:05:07.542Z"
   },
   {
    "duration": 253,
    "start_time": "2024-02-21T14:05:07.913Z"
   },
   {
    "duration": 652,
    "start_time": "2024-02-21T14:05:08.168Z"
   },
   {
    "duration": 9,
    "start_time": "2024-02-21T14:05:08.822Z"
   },
   {
    "duration": 13,
    "start_time": "2024-02-21T14:05:08.832Z"
   },
   {
    "duration": 8,
    "start_time": "2024-02-21T14:05:08.846Z"
   },
   {
    "duration": 17902,
    "start_time": "2024-02-21T14:05:08.858Z"
   },
   {
    "duration": 100,
    "start_time": "2024-02-21T14:05:26.762Z"
   },
   {
    "duration": 0,
    "start_time": "2024-02-21T14:05:26.864Z"
   },
   {
    "duration": 0,
    "start_time": "2024-02-21T14:05:26.865Z"
   },
   {
    "duration": 0,
    "start_time": "2024-02-21T14:05:26.866Z"
   },
   {
    "duration": 0,
    "start_time": "2024-02-21T14:05:26.867Z"
   },
   {
    "duration": 0,
    "start_time": "2024-02-21T14:05:26.868Z"
   },
   {
    "duration": 0,
    "start_time": "2024-02-21T14:05:26.869Z"
   },
   {
    "duration": 104,
    "start_time": "2024-02-21T14:07:55.918Z"
   },
   {
    "duration": 11,
    "start_time": "2024-02-21T14:08:01.710Z"
   },
   {
    "duration": 13,
    "start_time": "2024-02-21T14:08:14.454Z"
   },
   {
    "duration": 1413,
    "start_time": "2024-02-21T14:09:51.146Z"
   },
   {
    "duration": 46,
    "start_time": "2024-02-21T14:09:52.560Z"
   },
   {
    "duration": 9,
    "start_time": "2024-02-21T14:09:52.608Z"
   },
   {
    "duration": 362,
    "start_time": "2024-02-21T14:09:52.619Z"
   },
   {
    "duration": 243,
    "start_time": "2024-02-21T14:09:52.983Z"
   },
   {
    "duration": 641,
    "start_time": "2024-02-21T14:09:53.228Z"
   },
   {
    "duration": 11,
    "start_time": "2024-02-21T14:09:53.870Z"
   },
   {
    "duration": 29,
    "start_time": "2024-02-21T14:09:53.882Z"
   },
   {
    "duration": 8,
    "start_time": "2024-02-21T14:09:53.912Z"
   },
   {
    "duration": 19337,
    "start_time": "2024-02-21T14:09:53.922Z"
   },
   {
    "duration": 3,
    "start_time": "2024-02-21T14:10:13.261Z"
   },
   {
    "duration": 100,
    "start_time": "2024-02-21T14:10:13.266Z"
   },
   {
    "duration": 149,
    "start_time": "2024-02-21T14:10:13.368Z"
   },
   {
    "duration": 0,
    "start_time": "2024-02-21T14:10:13.518Z"
   },
   {
    "duration": 0,
    "start_time": "2024-02-21T14:10:13.519Z"
   },
   {
    "duration": 0,
    "start_time": "2024-02-21T14:10:13.520Z"
   },
   {
    "duration": 1340,
    "start_time": "2024-02-21T14:12:22.317Z"
   },
   {
    "duration": 2,
    "start_time": "2024-02-21T14:12:23.659Z"
   },
   {
    "duration": 21,
    "start_time": "2024-02-21T14:12:23.663Z"
   },
   {
    "duration": 58,
    "start_time": "2024-02-21T14:12:23.685Z"
   },
   {
    "duration": 10,
    "start_time": "2024-02-21T14:12:23.746Z"
   },
   {
    "duration": 366,
    "start_time": "2024-02-21T14:12:23.758Z"
   },
   {
    "duration": 247,
    "start_time": "2024-02-21T14:12:24.126Z"
   },
   {
    "duration": 592,
    "start_time": "2024-02-21T14:12:24.374Z"
   },
   {
    "duration": 11,
    "start_time": "2024-02-21T14:12:24.968Z"
   },
   {
    "duration": 3,
    "start_time": "2024-02-21T14:12:24.980Z"
   },
   {
    "duration": 5,
    "start_time": "2024-02-21T14:12:24.984Z"
   },
   {
    "duration": 20385,
    "start_time": "2024-02-21T14:12:24.990Z"
   },
   {
    "duration": 83,
    "start_time": "2024-02-21T14:12:45.377Z"
   },
   {
    "duration": 99,
    "start_time": "2024-02-21T14:12:45.465Z"
   },
   {
    "duration": 3,
    "start_time": "2024-02-21T14:12:45.566Z"
   },
   {
    "duration": 132,
    "start_time": "2024-02-21T14:12:45.571Z"
   },
   {
    "duration": 0,
    "start_time": "2024-02-21T14:12:45.704Z"
   },
   {
    "duration": 0,
    "start_time": "2024-02-21T14:12:45.705Z"
   },
   {
    "duration": 3,
    "start_time": "2024-02-21T14:14:31.030Z"
   },
   {
    "duration": 61,
    "start_time": "2024-02-21T14:14:31.035Z"
   },
   {
    "duration": 40,
    "start_time": "2024-02-21T14:14:31.098Z"
   },
   {
    "duration": 71,
    "start_time": "2024-02-21T14:14:31.140Z"
   },
   {
    "duration": 11,
    "start_time": "2024-02-21T14:14:31.214Z"
   },
   {
    "duration": 408,
    "start_time": "2024-02-21T14:14:31.227Z"
   },
   {
    "duration": 289,
    "start_time": "2024-02-21T14:14:31.637Z"
   },
   {
    "duration": 565,
    "start_time": "2024-02-21T14:14:31.927Z"
   },
   {
    "duration": 10,
    "start_time": "2024-02-21T14:14:32.493Z"
   },
   {
    "duration": 6,
    "start_time": "2024-02-21T14:14:32.504Z"
   },
   {
    "duration": 4,
    "start_time": "2024-02-21T14:14:32.511Z"
   },
   {
    "duration": 17943,
    "start_time": "2024-02-21T14:14:32.516Z"
   },
   {
    "duration": 3,
    "start_time": "2024-02-21T14:14:50.461Z"
   },
   {
    "duration": 114,
    "start_time": "2024-02-21T14:14:50.470Z"
   },
   {
    "duration": 19,
    "start_time": "2024-02-21T14:14:50.586Z"
   },
   {
    "duration": 225,
    "start_time": "2024-02-21T14:14:50.606Z"
   },
   {
    "duration": 10,
    "start_time": "2024-02-21T14:14:50.832Z"
   },
   {
    "duration": 0,
    "start_time": "2024-02-21T14:14:50.843Z"
   },
   {
    "duration": 13,
    "start_time": "2024-02-21T14:15:38.543Z"
   },
   {
    "duration": 12,
    "start_time": "2024-02-21T14:15:52.850Z"
   },
   {
    "duration": 6,
    "start_time": "2024-02-21T14:16:00.321Z"
   },
   {
    "duration": 9,
    "start_time": "2024-02-21T14:16:09.905Z"
   },
   {
    "duration": 4,
    "start_time": "2024-02-21T14:22:49.276Z"
   },
   {
    "duration": 206,
    "start_time": "2024-02-21T14:22:50.203Z"
   },
   {
    "duration": 5,
    "start_time": "2024-02-21T14:23:11.003Z"
   },
   {
    "duration": 9,
    "start_time": "2024-02-21T14:23:11.731Z"
   },
   {
    "duration": 1513,
    "start_time": "2024-02-21T14:23:17.141Z"
   },
   {
    "duration": 2,
    "start_time": "2024-02-21T14:23:18.656Z"
   },
   {
    "duration": 32,
    "start_time": "2024-02-21T14:23:18.660Z"
   },
   {
    "duration": 84,
    "start_time": "2024-02-21T14:23:18.693Z"
   },
   {
    "duration": 10,
    "start_time": "2024-02-21T14:23:18.779Z"
   },
   {
    "duration": 430,
    "start_time": "2024-02-21T14:23:18.791Z"
   },
   {
    "duration": 274,
    "start_time": "2024-02-21T14:23:19.223Z"
   },
   {
    "duration": 618,
    "start_time": "2024-02-21T14:23:19.499Z"
   },
   {
    "duration": 10,
    "start_time": "2024-02-21T14:23:20.118Z"
   },
   {
    "duration": 7,
    "start_time": "2024-02-21T14:23:20.129Z"
   },
   {
    "duration": 11,
    "start_time": "2024-02-21T14:23:20.137Z"
   },
   {
    "duration": 19111,
    "start_time": "2024-02-21T14:23:20.149Z"
   },
   {
    "duration": 3,
    "start_time": "2024-02-21T14:23:39.262Z"
   },
   {
    "duration": 109,
    "start_time": "2024-02-21T14:23:39.269Z"
   },
   {
    "duration": 4,
    "start_time": "2024-02-21T14:23:39.380Z"
   },
   {
    "duration": 244,
    "start_time": "2024-02-21T14:23:39.386Z"
   },
   {
    "duration": 5,
    "start_time": "2024-02-21T14:23:39.632Z"
   },
   {
    "duration": 29,
    "start_time": "2024-02-21T14:23:39.639Z"
   },
   {
    "duration": 4,
    "start_time": "2024-02-21T14:26:21.893Z"
   },
   {
    "duration": 215,
    "start_time": "2024-02-21T14:26:22.456Z"
   },
   {
    "duration": 5,
    "start_time": "2024-02-21T14:26:30.056Z"
   },
   {
    "duration": 182,
    "start_time": "2024-02-21T14:26:30.304Z"
   },
   {
    "duration": 4,
    "start_time": "2024-02-21T14:26:57.049Z"
   },
   {
    "duration": 260,
    "start_time": "2024-02-21T14:26:57.353Z"
   },
   {
    "duration": 4,
    "start_time": "2024-02-21T14:27:02.218Z"
   },
   {
    "duration": 1947,
    "start_time": "2024-02-21T14:27:02.537Z"
   },
   {
    "duration": 5,
    "start_time": "2024-02-21T14:27:10.897Z"
   },
   {
    "duration": 173,
    "start_time": "2024-02-21T14:27:11.201Z"
   },
   {
    "duration": 4,
    "start_time": "2024-02-21T14:27:17.025Z"
   },
   {
    "duration": 2114,
    "start_time": "2024-02-21T14:27:17.377Z"
   },
   {
    "duration": 7,
    "start_time": "2024-02-21T14:27:38.969Z"
   },
   {
    "duration": 289,
    "start_time": "2024-02-21T14:27:39.353Z"
   },
   {
    "duration": 4,
    "start_time": "2024-02-21T14:27:45.330Z"
   },
   {
    "duration": 294,
    "start_time": "2024-02-21T14:27:45.633Z"
   },
   {
    "duration": 5,
    "start_time": "2024-02-21T14:27:57.137Z"
   },
   {
    "duration": 318,
    "start_time": "2024-02-21T14:27:57.409Z"
   },
   {
    "duration": 5,
    "start_time": "2024-02-21T14:28:02.435Z"
   },
   {
    "duration": 338,
    "start_time": "2024-02-21T14:28:02.713Z"
   },
   {
    "duration": 5,
    "start_time": "2024-02-21T14:28:06.540Z"
   },
   {
    "duration": 5,
    "start_time": "2024-02-21T14:29:51.493Z"
   },
   {
    "duration": 4,
    "start_time": "2024-02-21T14:29:54.508Z"
   },
   {
    "duration": 5667,
    "start_time": "2024-02-21T14:29:55.421Z"
   },
   {
    "duration": 17,
    "start_time": "2024-02-21T14:30:04.244Z"
   },
   {
    "duration": 5,
    "start_time": "2024-02-21T14:30:21.431Z"
   },
   {
    "duration": 344,
    "start_time": "2024-02-21T14:30:21.757Z"
   },
   {
    "duration": 5,
    "start_time": "2024-02-21T14:30:32.582Z"
   },
   {
    "duration": 248,
    "start_time": "2024-02-21T14:30:33.165Z"
   },
   {
    "duration": 6,
    "start_time": "2024-02-21T14:30:35.981Z"
   },
   {
    "duration": 5,
    "start_time": "2024-02-21T14:30:44.030Z"
   },
   {
    "duration": 4,
    "start_time": "2024-02-21T14:31:25.791Z"
   },
   {
    "duration": 2680,
    "start_time": "2024-02-21T14:31:26.167Z"
   },
   {
    "duration": 6,
    "start_time": "2024-02-21T14:31:48.713Z"
   },
   {
    "duration": 5924,
    "start_time": "2024-02-21T14:31:49.135Z"
   },
   {
    "duration": 14,
    "start_time": "2024-02-21T14:31:57.360Z"
   },
   {
    "duration": 5,
    "start_time": "2024-02-21T14:32:19.708Z"
   },
   {
    "duration": 5586,
    "start_time": "2024-02-21T14:32:20.080Z"
   },
   {
    "duration": 5,
    "start_time": "2024-02-21T14:32:40.009Z"
   },
   {
    "duration": 4123,
    "start_time": "2024-02-21T14:32:40.321Z"
   },
   {
    "duration": 4,
    "start_time": "2024-02-21T14:32:59.866Z"
   },
   {
    "duration": 7752,
    "start_time": "2024-02-21T14:33:00.201Z"
   },
   {
    "duration": 5,
    "start_time": "2024-02-21T14:33:14.969Z"
   },
   {
    "duration": 2660,
    "start_time": "2024-02-21T14:33:15.224Z"
   },
   {
    "duration": 4,
    "start_time": "2024-02-21T14:33:28.098Z"
   },
   {
    "duration": 6414,
    "start_time": "2024-02-21T14:33:28.361Z"
   },
   {
    "duration": 17,
    "start_time": "2024-02-21T14:33:38.249Z"
   },
   {
    "duration": 50,
    "start_time": "2024-02-21T16:08:26.204Z"
   },
   {
    "duration": 1840,
    "start_time": "2024-02-21T16:08:29.551Z"
   },
   {
    "duration": 3,
    "start_time": "2024-02-21T16:08:31.393Z"
   },
   {
    "duration": 52,
    "start_time": "2024-02-21T16:08:31.397Z"
   },
   {
    "duration": 192,
    "start_time": "2024-02-21T16:08:31.450Z"
   },
   {
    "duration": 11,
    "start_time": "2024-02-21T16:08:31.644Z"
   },
   {
    "duration": 492,
    "start_time": "2024-02-21T16:08:31.657Z"
   },
   {
    "duration": 263,
    "start_time": "2024-02-21T16:08:32.151Z"
   },
   {
    "duration": 736,
    "start_time": "2024-02-21T16:08:32.415Z"
   },
   {
    "duration": 11,
    "start_time": "2024-02-21T16:08:33.152Z"
   },
   {
    "duration": 3,
    "start_time": "2024-02-21T16:08:33.172Z"
   },
   {
    "duration": 7,
    "start_time": "2024-02-21T16:08:33.176Z"
   },
   {
    "duration": 21165,
    "start_time": "2024-02-21T16:08:33.184Z"
   },
   {
    "duration": 0,
    "start_time": "2024-02-21T16:08:54.351Z"
   },
   {
    "duration": 0,
    "start_time": "2024-02-21T16:08:54.352Z"
   },
   {
    "duration": 0,
    "start_time": "2024-02-21T16:08:54.353Z"
   },
   {
    "duration": 0,
    "start_time": "2024-02-21T16:08:54.354Z"
   },
   {
    "duration": 0,
    "start_time": "2024-02-21T16:08:54.355Z"
   },
   {
    "duration": 0,
    "start_time": "2024-02-21T16:08:54.356Z"
   },
   {
    "duration": 19580,
    "start_time": "2024-02-21T16:09:01.296Z"
   },
   {
    "duration": 105,
    "start_time": "2024-02-21T16:10:01.312Z"
   },
   {
    "duration": 108,
    "start_time": "2024-02-21T16:10:10.961Z"
   },
   {
    "duration": 106,
    "start_time": "2024-02-21T16:10:14.576Z"
   },
   {
    "duration": 98,
    "start_time": "2024-02-21T16:10:26.800Z"
   },
   {
    "duration": 24935,
    "start_time": "2024-02-21T16:10:32.340Z"
   },
   {
    "duration": 22328,
    "start_time": "2024-02-21T16:11:06.544Z"
   },
   {
    "duration": 23333,
    "start_time": "2024-02-21T16:11:35.555Z"
   },
   {
    "duration": 16,
    "start_time": "2024-02-21T16:14:17.038Z"
   },
   {
    "duration": 4184,
    "start_time": "2024-02-21T16:15:07.812Z"
   },
   {
    "duration": 1590,
    "start_time": "2024-02-21T16:15:22.158Z"
   },
   {
    "duration": 2,
    "start_time": "2024-02-21T16:15:23.750Z"
   },
   {
    "duration": 5,
    "start_time": "2024-02-21T16:15:23.754Z"
   },
   {
    "duration": 67,
    "start_time": "2024-02-21T16:15:23.760Z"
   },
   {
    "duration": 10,
    "start_time": "2024-02-21T16:15:23.829Z"
   },
   {
    "duration": 457,
    "start_time": "2024-02-21T16:15:23.840Z"
   },
   {
    "duration": 276,
    "start_time": "2024-02-21T16:15:24.299Z"
   },
   {
    "duration": 662,
    "start_time": "2024-02-21T16:15:24.584Z"
   },
   {
    "duration": 37,
    "start_time": "2024-02-21T16:15:25.247Z"
   },
   {
    "duration": 2,
    "start_time": "2024-02-21T16:15:25.286Z"
   },
   {
    "duration": 11,
    "start_time": "2024-02-21T16:15:25.290Z"
   },
   {
    "duration": 3287,
    "start_time": "2024-02-21T16:15:25.302Z"
   },
   {
    "duration": 89,
    "start_time": "2024-02-21T16:15:28.592Z"
   },
   {
    "duration": 92,
    "start_time": "2024-02-21T16:15:28.689Z"
   },
   {
    "duration": 6,
    "start_time": "2024-02-21T16:15:28.782Z"
   },
   {
    "duration": 11676,
    "start_time": "2024-02-21T16:15:28.789Z"
   },
   {
    "duration": 28,
    "start_time": "2024-02-21T16:15:40.467Z"
   },
   {
    "duration": 8,
    "start_time": "2024-02-21T16:15:40.497Z"
   },
   {
    "duration": 4,
    "start_time": "2024-02-21T16:23:55.387Z"
   },
   {
    "duration": 6,
    "start_time": "2024-02-21T16:23:55.393Z"
   },
   {
    "duration": 6,
    "start_time": "2024-02-21T16:23:55.400Z"
   },
   {
    "duration": 56,
    "start_time": "2024-02-21T16:23:55.407Z"
   },
   {
    "duration": 8,
    "start_time": "2024-02-21T16:23:55.466Z"
   },
   {
    "duration": 396,
    "start_time": "2024-02-21T16:23:55.476Z"
   },
   {
    "duration": 281,
    "start_time": "2024-02-21T16:23:55.877Z"
   },
   {
    "duration": 632,
    "start_time": "2024-02-21T16:23:56.159Z"
   },
   {
    "duration": 143,
    "start_time": "2024-02-21T16:23:56.792Z"
   },
   {
    "duration": 0,
    "start_time": "2024-02-21T16:23:56.937Z"
   },
   {
    "duration": 0,
    "start_time": "2024-02-21T16:23:56.938Z"
   },
   {
    "duration": 0,
    "start_time": "2024-02-21T16:23:56.939Z"
   },
   {
    "duration": 0,
    "start_time": "2024-02-21T16:23:56.940Z"
   },
   {
    "duration": 0,
    "start_time": "2024-02-21T16:23:56.942Z"
   },
   {
    "duration": 0,
    "start_time": "2024-02-21T16:23:56.943Z"
   },
   {
    "duration": 0,
    "start_time": "2024-02-21T16:23:56.944Z"
   },
   {
    "duration": 0,
    "start_time": "2024-02-21T16:23:56.945Z"
   },
   {
    "duration": 0,
    "start_time": "2024-02-21T16:23:56.946Z"
   },
   {
    "duration": 1575,
    "start_time": "2024-02-21T16:24:18.794Z"
   },
   {
    "duration": 27,
    "start_time": "2024-02-21T16:24:26.977Z"
   },
   {
    "duration": 3,
    "start_time": "2024-02-21T16:24:37.052Z"
   },
   {
    "duration": 6,
    "start_time": "2024-02-21T16:24:37.477Z"
   },
   {
    "duration": 4119,
    "start_time": "2024-02-21T16:24:38.457Z"
   },
   {
    "duration": 2,
    "start_time": "2024-02-21T16:24:44.353Z"
   },
   {
    "duration": 14,
    "start_time": "2024-02-21T16:24:45.286Z"
   },
   {
    "duration": 4,
    "start_time": "2024-02-21T16:24:45.804Z"
   },
   {
    "duration": 9341,
    "start_time": "2024-02-21T16:24:46.456Z"
   },
   {
    "duration": 16,
    "start_time": "2024-02-21T16:24:57.527Z"
   },
   {
    "duration": 5,
    "start_time": "2024-02-21T16:24:58.224Z"
   },
   {
    "duration": 1603,
    "start_time": "2024-02-21T16:25:14.431Z"
   },
   {
    "duration": 3,
    "start_time": "2024-02-21T16:25:16.036Z"
   },
   {
    "duration": 14,
    "start_time": "2024-02-21T16:25:16.040Z"
   },
   {
    "duration": 70,
    "start_time": "2024-02-21T16:25:16.055Z"
   },
   {
    "duration": 11,
    "start_time": "2024-02-21T16:25:16.127Z"
   },
   {
    "duration": 446,
    "start_time": "2024-02-21T16:25:16.139Z"
   },
   {
    "duration": 267,
    "start_time": "2024-02-21T16:25:16.587Z"
   },
   {
    "duration": 692,
    "start_time": "2024-02-21T16:25:16.856Z"
   },
   {
    "duration": 35,
    "start_time": "2024-02-21T16:25:17.550Z"
   },
   {
    "duration": 3,
    "start_time": "2024-02-21T16:25:17.587Z"
   },
   {
    "duration": 15,
    "start_time": "2024-02-21T16:25:17.592Z"
   },
   {
    "duration": 3678,
    "start_time": "2024-02-21T16:25:17.609Z"
   },
   {
    "duration": 84,
    "start_time": "2024-02-21T16:25:21.289Z"
   },
   {
    "duration": 99,
    "start_time": "2024-02-21T16:25:21.377Z"
   },
   {
    "duration": 11,
    "start_time": "2024-02-21T16:25:21.478Z"
   },
   {
    "duration": 8692,
    "start_time": "2024-02-21T16:25:21.490Z"
   },
   {
    "duration": 17,
    "start_time": "2024-02-21T16:25:30.186Z"
   },
   {
    "duration": 85,
    "start_time": "2024-02-21T16:25:30.204Z"
   },
   {
    "duration": 22,
    "start_time": "2024-02-21T16:26:03.088Z"
   },
   {
    "duration": 5,
    "start_time": "2024-02-21T16:26:05.728Z"
   },
   {
    "duration": 6,
    "start_time": "2024-02-21T16:26:05.734Z"
   },
   {
    "duration": 9,
    "start_time": "2024-02-21T16:26:05.741Z"
   },
   {
    "duration": 64,
    "start_time": "2024-02-21T16:26:05.751Z"
   },
   {
    "duration": 6,
    "start_time": "2024-02-21T16:26:05.817Z"
   },
   {
    "duration": 413,
    "start_time": "2024-02-21T16:26:05.825Z"
   },
   {
    "duration": 287,
    "start_time": "2024-02-21T16:26:06.239Z"
   },
   {
    "duration": 610,
    "start_time": "2024-02-21T16:26:06.528Z"
   },
   {
    "duration": 35,
    "start_time": "2024-02-21T16:26:07.139Z"
   },
   {
    "duration": 3,
    "start_time": "2024-02-21T16:26:07.176Z"
   },
   {
    "duration": 2,
    "start_time": "2024-02-21T16:26:07.180Z"
   },
   {
    "duration": 3606,
    "start_time": "2024-02-21T16:26:07.184Z"
   },
   {
    "duration": 5,
    "start_time": "2024-02-21T16:26:10.792Z"
   },
   {
    "duration": 107,
    "start_time": "2024-02-21T16:26:10.877Z"
   },
   {
    "duration": 17,
    "start_time": "2024-02-21T16:26:10.986Z"
   },
   {
    "duration": 9991,
    "start_time": "2024-02-21T16:26:11.005Z"
   },
   {
    "duration": 12,
    "start_time": "2024-02-21T16:26:20.998Z"
   },
   {
    "duration": 12,
    "start_time": "2024-02-21T16:26:21.012Z"
   },
   {
    "duration": 4,
    "start_time": "2024-02-21T16:26:36.744Z"
   },
   {
    "duration": 14,
    "start_time": "2024-02-21T16:26:36.750Z"
   },
   {
    "duration": 21,
    "start_time": "2024-02-21T16:26:36.765Z"
   },
   {
    "duration": 52,
    "start_time": "2024-02-21T16:26:36.788Z"
   },
   {
    "duration": 8,
    "start_time": "2024-02-21T16:26:36.842Z"
   },
   {
    "duration": 439,
    "start_time": "2024-02-21T16:26:36.851Z"
   },
   {
    "duration": 292,
    "start_time": "2024-02-21T16:26:37.291Z"
   },
   {
    "duration": 578,
    "start_time": "2024-02-21T16:26:37.585Z"
   },
   {
    "duration": 32,
    "start_time": "2024-02-21T16:26:38.172Z"
   },
   {
    "duration": 2,
    "start_time": "2024-02-21T16:26:38.206Z"
   },
   {
    "duration": 13,
    "start_time": "2024-02-21T16:26:38.210Z"
   },
   {
    "duration": 3750,
    "start_time": "2024-02-21T16:26:38.224Z"
   },
   {
    "duration": 16,
    "start_time": "2024-02-21T16:26:41.976Z"
   },
   {
    "duration": 23,
    "start_time": "2024-02-21T16:26:42.076Z"
   },
   {
    "duration": 22,
    "start_time": "2024-02-21T16:26:42.101Z"
   },
   {
    "duration": 9563,
    "start_time": "2024-02-21T16:26:42.125Z"
   },
   {
    "duration": 16,
    "start_time": "2024-02-21T16:26:51.689Z"
   },
   {
    "duration": 4,
    "start_time": "2024-02-21T16:26:51.707Z"
   },
   {
    "duration": 5,
    "start_time": "2024-02-21T16:27:07.626Z"
   },
   {
    "duration": 35,
    "start_time": "2024-02-21T16:27:07.633Z"
   },
   {
    "duration": 27,
    "start_time": "2024-02-21T16:27:07.669Z"
   },
   {
    "duration": 65,
    "start_time": "2024-02-21T16:27:07.698Z"
   },
   {
    "duration": 7,
    "start_time": "2024-02-21T16:27:07.765Z"
   },
   {
    "duration": 443,
    "start_time": "2024-02-21T16:27:07.783Z"
   },
   {
    "duration": 286,
    "start_time": "2024-02-21T16:27:08.227Z"
   },
   {
    "duration": 712,
    "start_time": "2024-02-21T16:27:08.515Z"
   },
   {
    "duration": 24,
    "start_time": "2024-02-21T16:27:09.229Z"
   },
   {
    "duration": 21,
    "start_time": "2024-02-21T16:27:09.255Z"
   },
   {
    "duration": 3,
    "start_time": "2024-02-21T16:27:09.283Z"
   },
   {
    "duration": 2891,
    "start_time": "2024-02-21T16:27:09.287Z"
   },
   {
    "duration": 9,
    "start_time": "2024-02-21T16:27:12.180Z"
   },
   {
    "duration": 96,
    "start_time": "2024-02-21T16:27:12.193Z"
   },
   {
    "duration": 83,
    "start_time": "2024-02-21T16:27:12.293Z"
   },
   {
    "duration": 9511,
    "start_time": "2024-02-21T16:27:12.382Z"
   },
   {
    "duration": 17,
    "start_time": "2024-02-21T16:27:21.894Z"
   },
   {
    "duration": 5,
    "start_time": "2024-02-21T16:27:21.913Z"
   },
   {
    "duration": 5,
    "start_time": "2024-02-21T16:28:14.990Z"
   },
   {
    "duration": 77,
    "start_time": "2024-02-21T16:28:14.997Z"
   },
   {
    "duration": 34,
    "start_time": "2024-02-21T16:28:15.076Z"
   },
   {
    "duration": 59,
    "start_time": "2024-02-21T16:28:15.111Z"
   },
   {
    "duration": 16,
    "start_time": "2024-02-21T16:28:15.172Z"
   },
   {
    "duration": 419,
    "start_time": "2024-02-21T16:28:15.189Z"
   },
   {
    "duration": 281,
    "start_time": "2024-02-21T16:28:15.610Z"
   },
   {
    "duration": 625,
    "start_time": "2024-02-21T16:28:15.893Z"
   },
   {
    "duration": 25,
    "start_time": "2024-02-21T16:28:16.520Z"
   },
   {
    "duration": 2,
    "start_time": "2024-02-21T16:28:16.547Z"
   },
   {
    "duration": 12,
    "start_time": "2024-02-21T16:28:16.550Z"
   },
   {
    "duration": 3819,
    "start_time": "2024-02-21T16:28:16.581Z"
   },
   {
    "duration": 16,
    "start_time": "2024-02-21T16:28:20.482Z"
   },
   {
    "duration": 13,
    "start_time": "2024-02-21T16:28:20.576Z"
   },
   {
    "duration": 6,
    "start_time": "2024-02-21T16:28:20.591Z"
   },
   {
    "duration": 11493,
    "start_time": "2024-02-21T16:28:20.599Z"
   },
   {
    "duration": 18,
    "start_time": "2024-02-21T16:28:32.094Z"
   },
   {
    "duration": 5,
    "start_time": "2024-02-21T16:28:32.114Z"
   },
   {
    "duration": 5,
    "start_time": "2024-02-21T16:28:52.330Z"
   },
   {
    "duration": 8875,
    "start_time": "2024-02-21T16:28:52.614Z"
   },
   {
    "duration": 15,
    "start_time": "2024-02-21T16:29:18.269Z"
   },
   {
    "duration": 17382,
    "start_time": "2024-02-21T16:29:18.527Z"
   },
   {
    "duration": 5,
    "start_time": "2024-02-21T16:30:07.913Z"
   },
   {
    "duration": 17016,
    "start_time": "2024-02-21T16:30:08.300Z"
   },
   {
    "duration": 16,
    "start_time": "2024-02-21T16:30:27.349Z"
   },
   {
    "duration": 1558,
    "start_time": "2024-02-21T19:01:21.852Z"
   },
   {
    "duration": 3,
    "start_time": "2024-02-21T19:01:23.412Z"
   },
   {
    "duration": 5,
    "start_time": "2024-02-21T19:01:23.416Z"
   },
   {
    "duration": 108,
    "start_time": "2024-02-21T19:01:23.422Z"
   },
   {
    "duration": 9,
    "start_time": "2024-02-21T19:01:23.532Z"
   },
   {
    "duration": 372,
    "start_time": "2024-02-21T19:01:23.543Z"
   },
   {
    "duration": 255,
    "start_time": "2024-02-21T19:01:23.916Z"
   },
   {
    "duration": 714,
    "start_time": "2024-02-21T19:01:24.173Z"
   },
   {
    "duration": 32,
    "start_time": "2024-02-21T19:01:24.889Z"
   },
   {
    "duration": 125,
    "start_time": "2024-02-21T19:01:24.922Z"
   },
   {
    "duration": 0,
    "start_time": "2024-02-21T19:01:25.048Z"
   },
   {
    "duration": 0,
    "start_time": "2024-02-21T19:01:25.050Z"
   },
   {
    "duration": 0,
    "start_time": "2024-02-21T19:01:25.051Z"
   },
   {
    "duration": 0,
    "start_time": "2024-02-21T19:01:25.052Z"
   },
   {
    "duration": 0,
    "start_time": "2024-02-21T19:01:25.053Z"
   },
   {
    "duration": 0,
    "start_time": "2024-02-21T19:01:25.054Z"
   },
   {
    "duration": 429,
    "start_time": "2024-02-21T19:02:25.827Z"
   },
   {
    "duration": 407,
    "start_time": "2024-02-21T19:02:34.037Z"
   },
   {
    "duration": 515,
    "start_time": "2024-02-21T19:03:14.118Z"
   },
   {
    "duration": 421,
    "start_time": "2024-02-21T19:03:22.307Z"
   },
   {
    "duration": 409,
    "start_time": "2024-02-21T19:03:51.701Z"
   },
   {
    "duration": 2069,
    "start_time": "2024-02-21T19:04:01.747Z"
   },
   {
    "duration": 11,
    "start_time": "2024-02-21T19:04:04.930Z"
   },
   {
    "duration": 4,
    "start_time": "2024-02-21T19:04:05.481Z"
   },
   {
    "duration": 14580,
    "start_time": "2024-02-21T19:04:05.734Z"
   },
   {
    "duration": 17,
    "start_time": "2024-02-21T19:04:20.316Z"
   },
   {
    "duration": 4,
    "start_time": "2024-02-21T19:04:20.335Z"
   },
   {
    "duration": 5,
    "start_time": "2024-02-21T19:04:45.268Z"
   },
   {
    "duration": 15837,
    "start_time": "2024-02-21T19:04:56.123Z"
   },
   {
    "duration": 4,
    "start_time": "2024-02-21T19:05:48.839Z"
   },
   {
    "duration": 14400,
    "start_time": "2024-02-21T19:05:49.095Z"
   },
   {
    "duration": 4,
    "start_time": "2024-02-21T19:06:55.633Z"
   },
   {
    "duration": 7283,
    "start_time": "2024-02-21T19:06:55.899Z"
   },
   {
    "duration": 16,
    "start_time": "2024-02-21T19:07:05.370Z"
   },
   {
    "duration": 26,
    "start_time": "2024-02-21T19:07:30.582Z"
   },
   {
    "duration": 521,
    "start_time": "2024-02-21T19:07:31.866Z"
   },
   {
    "duration": 1998,
    "start_time": "2024-02-21T19:07:33.023Z"
   },
   {
    "duration": 192,
    "start_time": "2024-02-21T19:07:35.023Z"
   },
   {
    "duration": 6,
    "start_time": "2024-02-21T19:07:35.217Z"
   },
   {
    "duration": 7847,
    "start_time": "2024-02-21T19:07:35.280Z"
   },
   {
    "duration": 16,
    "start_time": "2024-02-21T19:07:45.615Z"
   },
   {
    "duration": 5,
    "start_time": "2024-02-21T19:07:47.560Z"
   },
   {
    "duration": 12,
    "start_time": "2024-02-21T19:12:52.007Z"
   },
   {
    "duration": 1415,
    "start_time": "2024-02-21T19:13:26.965Z"
   },
   {
    "duration": 3,
    "start_time": "2024-02-21T19:13:28.381Z"
   },
   {
    "duration": 6,
    "start_time": "2024-02-21T19:13:28.385Z"
   },
   {
    "duration": 50,
    "start_time": "2024-02-21T19:13:28.392Z"
   },
   {
    "duration": 10,
    "start_time": "2024-02-21T19:13:28.444Z"
   },
   {
    "duration": 10,
    "start_time": "2024-02-21T19:13:28.455Z"
   },
   {
    "duration": 420,
    "start_time": "2024-02-21T19:13:28.467Z"
   },
   {
    "duration": 252,
    "start_time": "2024-02-21T19:13:28.889Z"
   },
   {
    "duration": 596,
    "start_time": "2024-02-21T19:13:29.143Z"
   },
   {
    "duration": 26,
    "start_time": "2024-02-21T19:13:29.740Z"
   },
   {
    "duration": 426,
    "start_time": "2024-02-21T19:13:29.767Z"
   },
   {
    "duration": 1925,
    "start_time": "2024-02-21T19:13:30.195Z"
   },
   {
    "duration": 195,
    "start_time": "2024-02-21T19:13:32.122Z"
   },
   {
    "duration": 10,
    "start_time": "2024-02-21T19:13:32.319Z"
   },
   {
    "duration": 7998,
    "start_time": "2024-02-21T19:13:32.331Z"
   },
   {
    "duration": 16,
    "start_time": "2024-02-21T19:13:40.331Z"
   },
   {
    "duration": 5,
    "start_time": "2024-02-21T19:13:40.348Z"
   },
   {
    "duration": 4,
    "start_time": "2024-02-21T19:16:59.911Z"
   },
   {
    "duration": 13390,
    "start_time": "2024-02-21T19:17:00.202Z"
   },
   {
    "duration": 18,
    "start_time": "2024-02-21T19:17:17.610Z"
   },
   {
    "duration": 4,
    "start_time": "2024-02-21T19:17:34.746Z"
   },
   {
    "duration": 18269,
    "start_time": "2024-02-21T19:17:35.079Z"
   },
   {
    "duration": 16,
    "start_time": "2024-02-21T19:17:55.647Z"
   },
   {
    "duration": 5,
    "start_time": "2024-02-21T19:17:58.296Z"
   },
   {
    "duration": 716,
    "start_time": "2024-02-21T19:19:42.706Z"
   },
   {
    "duration": 4,
    "start_time": "2024-02-21T19:20:42.581Z"
   },
   {
    "duration": 5,
    "start_time": "2024-02-21T19:20:42.587Z"
   },
   {
    "duration": 11,
    "start_time": "2024-02-21T19:20:42.593Z"
   },
   {
    "duration": 48,
    "start_time": "2024-02-21T19:20:42.606Z"
   },
   {
    "duration": 6,
    "start_time": "2024-02-21T19:20:42.656Z"
   },
   {
    "duration": 8,
    "start_time": "2024-02-21T19:20:42.664Z"
   },
   {
    "duration": 375,
    "start_time": "2024-02-21T19:20:42.674Z"
   },
   {
    "duration": 267,
    "start_time": "2024-02-21T19:20:43.051Z"
   },
   {
    "duration": 514,
    "start_time": "2024-02-21T19:20:43.320Z"
   },
   {
    "duration": 24,
    "start_time": "2024-02-21T19:20:43.836Z"
   },
   {
    "duration": 420,
    "start_time": "2024-02-21T19:20:43.862Z"
   },
   {
    "duration": 1834,
    "start_time": "2024-02-21T19:20:44.283Z"
   },
   {
    "duration": 12,
    "start_time": "2024-02-21T19:20:46.214Z"
   },
   {
    "duration": 4,
    "start_time": "2024-02-21T19:20:46.228Z"
   },
   {
    "duration": 18410,
    "start_time": "2024-02-21T19:20:46.234Z"
   },
   {
    "duration": 18,
    "start_time": "2024-02-21T19:21:04.645Z"
   },
   {
    "duration": 4,
    "start_time": "2024-02-21T19:21:04.665Z"
   },
   {
    "duration": 557,
    "start_time": "2024-02-21T19:32:04.718Z"
   },
   {
    "duration": 574,
    "start_time": "2024-02-21T19:32:08.748Z"
   },
   {
    "duration": 4,
    "start_time": "2024-02-21T19:32:48.024Z"
   },
   {
    "duration": 5,
    "start_time": "2024-02-21T19:32:48.029Z"
   },
   {
    "duration": 4,
    "start_time": "2024-02-21T19:32:48.035Z"
   },
   {
    "duration": 50,
    "start_time": "2024-02-21T19:32:48.040Z"
   },
   {
    "duration": 7,
    "start_time": "2024-02-21T19:32:48.093Z"
   },
   {
    "duration": 16,
    "start_time": "2024-02-21T19:32:48.101Z"
   },
   {
    "duration": 364,
    "start_time": "2024-02-21T19:32:48.119Z"
   },
   {
    "duration": 256,
    "start_time": "2024-02-21T19:32:48.485Z"
   },
   {
    "duration": 672,
    "start_time": "2024-02-21T19:32:48.743Z"
   },
   {
    "duration": 25,
    "start_time": "2024-02-21T19:32:49.416Z"
   },
   {
    "duration": 410,
    "start_time": "2024-02-21T19:32:49.442Z"
   },
   {
    "duration": 1566,
    "start_time": "2024-02-21T19:32:49.854Z"
   },
   {
    "duration": 192,
    "start_time": "2024-02-21T19:32:51.422Z"
   },
   {
    "duration": 4,
    "start_time": "2024-02-21T19:32:51.616Z"
   },
   {
    "duration": 18353,
    "start_time": "2024-02-21T19:32:51.622Z"
   },
   {
    "duration": 17,
    "start_time": "2024-02-21T19:33:09.977Z"
   },
   {
    "duration": 4,
    "start_time": "2024-02-21T19:33:09.996Z"
   },
   {
    "duration": 190,
    "start_time": "2024-02-21T19:36:56.728Z"
   },
   {
    "duration": 5,
    "start_time": "2024-02-21T19:37:51.531Z"
   },
   {
    "duration": 14,
    "start_time": "2024-02-21T19:37:51.538Z"
   },
   {
    "duration": 14,
    "start_time": "2024-02-21T19:37:51.553Z"
   },
   {
    "duration": 56,
    "start_time": "2024-02-21T19:37:51.568Z"
   },
   {
    "duration": 6,
    "start_time": "2024-02-21T19:37:51.626Z"
   },
   {
    "duration": 10,
    "start_time": "2024-02-21T19:37:51.634Z"
   },
   {
    "duration": 358,
    "start_time": "2024-02-21T19:37:51.645Z"
   },
   {
    "duration": 268,
    "start_time": "2024-02-21T19:37:52.004Z"
   },
   {
    "duration": 703,
    "start_time": "2024-02-21T19:37:52.273Z"
   },
   {
    "duration": 24,
    "start_time": "2024-02-21T19:37:52.977Z"
   },
   {
    "duration": 400,
    "start_time": "2024-02-21T19:37:53.014Z"
   },
   {
    "duration": 2,
    "start_time": "2024-02-21T19:37:53.416Z"
   },
   {
    "duration": 1796,
    "start_time": "2024-02-21T19:37:53.420Z"
   },
   {
    "duration": 103,
    "start_time": "2024-02-21T19:37:55.220Z"
   },
   {
    "duration": 5,
    "start_time": "2024-02-21T19:37:55.324Z"
   },
   {
    "duration": 17784,
    "start_time": "2024-02-21T19:37:55.330Z"
   },
   {
    "duration": 18,
    "start_time": "2024-02-21T19:38:13.115Z"
   },
   {
    "duration": 4,
    "start_time": "2024-02-21T19:38:13.135Z"
   },
   {
    "duration": 120,
    "start_time": "2024-02-21T19:38:37.136Z"
   },
   {
    "duration": 4,
    "start_time": "2024-02-21T19:38:42.294Z"
   },
   {
    "duration": 7,
    "start_time": "2024-02-21T19:38:42.299Z"
   },
   {
    "duration": 3,
    "start_time": "2024-02-21T19:38:42.307Z"
   },
   {
    "duration": 49,
    "start_time": "2024-02-21T19:38:42.312Z"
   },
   {
    "duration": 6,
    "start_time": "2024-02-21T19:38:42.363Z"
   },
   {
    "duration": 14,
    "start_time": "2024-02-21T19:38:42.370Z"
   },
   {
    "duration": 358,
    "start_time": "2024-02-21T19:38:42.385Z"
   },
   {
    "duration": 275,
    "start_time": "2024-02-21T19:38:42.744Z"
   },
   {
    "duration": 544,
    "start_time": "2024-02-21T19:38:43.021Z"
   },
   {
    "duration": 25,
    "start_time": "2024-02-21T19:38:43.566Z"
   },
   {
    "duration": 515,
    "start_time": "2024-02-21T19:38:43.592Z"
   },
   {
    "duration": 205,
    "start_time": "2024-02-21T19:38:44.109Z"
   },
   {
    "duration": 2000,
    "start_time": "2024-02-21T19:38:44.316Z"
   },
   {
    "duration": 96,
    "start_time": "2024-02-21T19:38:46.325Z"
   },
   {
    "duration": 5,
    "start_time": "2024-02-21T19:38:46.422Z"
   },
   {
    "duration": 19918,
    "start_time": "2024-02-21T19:38:46.428Z"
   },
   {
    "duration": 17,
    "start_time": "2024-02-21T19:39:06.348Z"
   },
   {
    "duration": 4,
    "start_time": "2024-02-21T19:39:06.366Z"
   },
   {
    "duration": 1468,
    "start_time": "2024-02-21T19:47:56.274Z"
   },
   {
    "duration": 2,
    "start_time": "2024-02-21T19:47:57.744Z"
   },
   {
    "duration": 3,
    "start_time": "2024-02-21T19:47:57.748Z"
   },
   {
    "duration": 52,
    "start_time": "2024-02-21T19:47:57.752Z"
   },
   {
    "duration": 12,
    "start_time": "2024-02-21T19:47:57.805Z"
   },
   {
    "duration": 9,
    "start_time": "2024-02-21T19:47:57.819Z"
   },
   {
    "duration": 422,
    "start_time": "2024-02-21T19:47:57.829Z"
   },
   {
    "duration": 253,
    "start_time": "2024-02-21T19:47:58.252Z"
   },
   {
    "duration": 661,
    "start_time": "2024-02-21T19:47:58.507Z"
   },
   {
    "duration": 28,
    "start_time": "2024-02-21T19:47:59.169Z"
   },
   {
    "duration": 433,
    "start_time": "2024-02-21T19:47:59.198Z"
   },
   {
    "duration": 207,
    "start_time": "2024-02-21T19:47:59.633Z"
   },
   {
    "duration": 2082,
    "start_time": "2024-02-21T19:47:59.842Z"
   },
   {
    "duration": 102,
    "start_time": "2024-02-21T19:48:02.018Z"
   },
   {
    "duration": 14,
    "start_time": "2024-02-21T19:48:02.121Z"
   },
   {
    "duration": 18417,
    "start_time": "2024-02-21T19:48:02.136Z"
   },
   {
    "duration": 107,
    "start_time": "2024-02-21T19:48:20.555Z"
   },
   {
    "duration": 0,
    "start_time": "2024-02-21T19:48:20.663Z"
   },
   {
    "duration": 21,
    "start_time": "2024-02-21T19:48:37.110Z"
   },
   {
    "duration": 4,
    "start_time": "2024-02-21T19:48:37.846Z"
   },
   {
    "duration": 604,
    "start_time": "2024-02-21T19:50:41.559Z"
   },
   {
    "duration": 1466,
    "start_time": "2024-02-21T19:51:20.278Z"
   },
   {
    "duration": 3,
    "start_time": "2024-02-21T19:51:21.745Z"
   },
   {
    "duration": 4,
    "start_time": "2024-02-21T19:51:21.750Z"
   },
   {
    "duration": 51,
    "start_time": "2024-02-21T19:51:21.755Z"
   },
   {
    "duration": 10,
    "start_time": "2024-02-21T19:51:21.809Z"
   },
   {
    "duration": 12,
    "start_time": "2024-02-21T19:51:21.821Z"
   },
   {
    "duration": 416,
    "start_time": "2024-02-21T19:51:21.835Z"
   },
   {
    "duration": 264,
    "start_time": "2024-02-21T19:51:22.252Z"
   },
   {
    "duration": 658,
    "start_time": "2024-02-21T19:51:22.518Z"
   },
   {
    "duration": 25,
    "start_time": "2024-02-21T19:51:23.178Z"
   },
   {
    "duration": 397,
    "start_time": "2024-02-21T19:51:23.215Z"
   },
   {
    "duration": 204,
    "start_time": "2024-02-21T19:51:23.615Z"
   },
   {
    "duration": 2093,
    "start_time": "2024-02-21T19:51:23.822Z"
   },
   {
    "duration": 99,
    "start_time": "2024-02-21T19:51:25.918Z"
   },
   {
    "duration": 6,
    "start_time": "2024-02-21T19:51:26.019Z"
   },
   {
    "duration": 19105,
    "start_time": "2024-02-21T19:51:26.027Z"
   },
   {
    "duration": 19,
    "start_time": "2024-02-21T19:51:45.134Z"
   },
   {
    "duration": 4,
    "start_time": "2024-02-21T19:51:45.154Z"
   },
   {
    "duration": 4,
    "start_time": "2024-02-21T21:17:30.966Z"
   },
   {
    "duration": 42,
    "start_time": "2024-02-21T21:17:30.972Z"
   },
   {
    "duration": 56,
    "start_time": "2024-02-21T21:17:31.015Z"
   },
   {
    "duration": 101,
    "start_time": "2024-02-21T21:17:31.072Z"
   },
   {
    "duration": 7,
    "start_time": "2024-02-21T21:17:31.176Z"
   },
   {
    "duration": 52,
    "start_time": "2024-02-21T21:17:31.184Z"
   },
   {
    "duration": 39,
    "start_time": "2024-02-21T21:17:31.238Z"
   },
   {
    "duration": 63,
    "start_time": "2024-02-21T21:17:31.278Z"
   },
   {
    "duration": 76,
    "start_time": "2024-02-21T21:17:31.343Z"
   },
   {
    "duration": 0,
    "start_time": "2024-02-21T21:17:31.420Z"
   },
   {
    "duration": 0,
    "start_time": "2024-02-21T21:17:31.422Z"
   },
   {
    "duration": 0,
    "start_time": "2024-02-21T21:17:31.423Z"
   },
   {
    "duration": 0,
    "start_time": "2024-02-21T21:17:31.424Z"
   },
   {
    "duration": 0,
    "start_time": "2024-02-21T21:17:31.425Z"
   },
   {
    "duration": 0,
    "start_time": "2024-02-21T21:17:31.426Z"
   },
   {
    "duration": 0,
    "start_time": "2024-02-21T21:17:31.428Z"
   },
   {
    "duration": 0,
    "start_time": "2024-02-21T21:17:31.429Z"
   },
   {
    "duration": 0,
    "start_time": "2024-02-21T21:17:31.430Z"
   },
   {
    "duration": 0,
    "start_time": "2024-02-21T21:17:31.432Z"
   },
   {
    "duration": 0,
    "start_time": "2024-02-21T21:17:31.433Z"
   },
   {
    "duration": 0,
    "start_time": "2024-02-21T21:17:31.434Z"
   },
   {
    "duration": 0,
    "start_time": "2024-02-21T21:17:31.435Z"
   },
   {
    "duration": 0,
    "start_time": "2024-02-21T21:17:31.436Z"
   },
   {
    "duration": 371,
    "start_time": "2024-02-21T21:18:36.072Z"
   },
   {
    "duration": 1476,
    "start_time": "2024-02-21T21:24:37.194Z"
   },
   {
    "duration": 3,
    "start_time": "2024-02-21T21:24:38.671Z"
   },
   {
    "duration": 5,
    "start_time": "2024-02-21T21:24:38.675Z"
   },
   {
    "duration": 51,
    "start_time": "2024-02-21T21:24:38.681Z"
   },
   {
    "duration": 10,
    "start_time": "2024-02-21T21:24:38.734Z"
   },
   {
    "duration": 10,
    "start_time": "2024-02-21T21:24:38.745Z"
   },
   {
    "duration": 8,
    "start_time": "2024-02-21T21:24:38.756Z"
   },
   {
    "duration": 6,
    "start_time": "2024-02-21T21:24:38.765Z"
   },
   {
    "duration": 459,
    "start_time": "2024-02-21T21:24:38.773Z"
   },
   {
    "duration": 273,
    "start_time": "2024-02-21T21:24:39.234Z"
   },
   {
    "duration": 677,
    "start_time": "2024-02-21T21:24:39.509Z"
   },
   {
    "duration": 8,
    "start_time": "2024-02-21T21:24:40.187Z"
   },
   {
    "duration": 32,
    "start_time": "2024-02-21T21:24:40.197Z"
   },
   {
    "duration": 140,
    "start_time": "2024-02-21T21:24:40.231Z"
   },
   {
    "duration": 0,
    "start_time": "2024-02-21T21:24:40.373Z"
   },
   {
    "duration": 1,
    "start_time": "2024-02-21T21:24:40.374Z"
   },
   {
    "duration": 0,
    "start_time": "2024-02-21T21:24:40.376Z"
   },
   {
    "duration": 0,
    "start_time": "2024-02-21T21:24:40.377Z"
   },
   {
    "duration": 0,
    "start_time": "2024-02-21T21:24:40.378Z"
   },
   {
    "duration": 0,
    "start_time": "2024-02-21T21:24:40.379Z"
   },
   {
    "duration": 0,
    "start_time": "2024-02-21T21:24:40.380Z"
   },
   {
    "duration": 0,
    "start_time": "2024-02-21T21:24:40.381Z"
   },
   {
    "duration": 438,
    "start_time": "2024-02-21T21:27:04.583Z"
   },
   {
    "duration": 189,
    "start_time": "2024-02-21T21:27:07.823Z"
   },
   {
    "duration": 1998,
    "start_time": "2024-02-21T21:28:58.525Z"
   },
   {
    "duration": 2005,
    "start_time": "2024-02-21T21:33:11.618Z"
   },
   {
    "duration": 1904,
    "start_time": "2024-02-21T21:34:52.215Z"
   },
   {
    "duration": 76,
    "start_time": "2024-02-21T21:35:18.780Z"
   },
   {
    "duration": 1502,
    "start_time": "2024-02-21T21:36:05.085Z"
   },
   {
    "duration": 3,
    "start_time": "2024-02-21T21:36:06.588Z"
   },
   {
    "duration": 8,
    "start_time": "2024-02-21T21:36:06.592Z"
   },
   {
    "duration": 62,
    "start_time": "2024-02-21T21:36:06.601Z"
   },
   {
    "duration": 11,
    "start_time": "2024-02-21T21:36:06.665Z"
   },
   {
    "duration": 11,
    "start_time": "2024-02-21T21:36:06.678Z"
   },
   {
    "duration": 9,
    "start_time": "2024-02-21T21:36:06.690Z"
   },
   {
    "duration": 8,
    "start_time": "2024-02-21T21:36:06.700Z"
   },
   {
    "duration": 416,
    "start_time": "2024-02-21T21:36:06.709Z"
   },
   {
    "duration": 259,
    "start_time": "2024-02-21T21:36:07.127Z"
   },
   {
    "duration": 679,
    "start_time": "2024-02-21T21:36:07.387Z"
   },
   {
    "duration": 15,
    "start_time": "2024-02-21T21:36:08.068Z"
   },
   {
    "duration": 42,
    "start_time": "2024-02-21T21:36:08.085Z"
   },
   {
    "duration": 413,
    "start_time": "2024-02-21T21:36:08.131Z"
   },
   {
    "duration": 192,
    "start_time": "2024-02-21T21:36:08.547Z"
   },
   {
    "duration": 2175,
    "start_time": "2024-02-21T21:36:08.741Z"
   },
   {
    "duration": 103,
    "start_time": "2024-02-21T21:36:10.920Z"
   },
   {
    "duration": 5,
    "start_time": "2024-02-21T21:36:11.025Z"
   },
   {
    "duration": 3,
    "start_time": "2024-02-21T21:36:11.031Z"
   },
   {
    "duration": 328,
    "start_time": "2024-02-21T21:36:11.036Z"
   },
   {
    "duration": 0,
    "start_time": "2024-02-21T21:36:11.366Z"
   },
   {
    "duration": 0,
    "start_time": "2024-02-21T21:36:11.367Z"
   },
   {
    "duration": 9,
    "start_time": "2024-02-21T21:39:35.236Z"
   },
   {
    "duration": 5,
    "start_time": "2024-02-21T21:39:36.375Z"
   },
   {
    "duration": 2,
    "start_time": "2024-02-21T21:39:36.689Z"
   },
   {
    "duration": 18163,
    "start_time": "2024-02-21T21:39:37.408Z"
   },
   {
    "duration": 166,
    "start_time": "2024-02-21T21:42:02.547Z"
   },
   {
    "duration": 173,
    "start_time": "2024-02-21T21:42:14.355Z"
   },
   {
    "duration": 19,
    "start_time": "2024-02-21T21:42:18.391Z"
   },
   {
    "duration": 193,
    "start_time": "2024-02-21T21:42:21.111Z"
   },
   {
    "duration": 107,
    "start_time": "2024-02-21T21:46:10.077Z"
   },
   {
    "duration": 16,
    "start_time": "2024-02-21T21:47:00.033Z"
   },
   {
    "duration": 64,
    "start_time": "2024-02-21T21:47:59.738Z"
   },
   {
    "duration": 15,
    "start_time": "2024-02-21T21:48:04.480Z"
   },
   {
    "duration": 129,
    "start_time": "2024-02-21T21:48:08.942Z"
   },
   {
    "duration": 132,
    "start_time": "2024-02-21T21:48:55.809Z"
   },
   {
    "duration": 7,
    "start_time": "2024-02-21T21:49:18.128Z"
   },
   {
    "duration": 70,
    "start_time": "2024-02-21T21:49:34.918Z"
   },
   {
    "duration": 68,
    "start_time": "2024-02-21T21:49:39.228Z"
   },
   {
    "duration": 6,
    "start_time": "2024-02-21T21:49:42.037Z"
   },
   {
    "duration": 16,
    "start_time": "2024-02-21T21:51:44.096Z"
   },
   {
    "duration": 1450,
    "start_time": "2024-02-21T21:52:08.099Z"
   },
   {
    "duration": 3,
    "start_time": "2024-02-21T21:52:09.551Z"
   },
   {
    "duration": 4,
    "start_time": "2024-02-21T21:52:09.555Z"
   },
   {
    "duration": 52,
    "start_time": "2024-02-21T21:52:09.561Z"
   },
   {
    "duration": 11,
    "start_time": "2024-02-21T21:52:09.615Z"
   },
   {
    "duration": 11,
    "start_time": "2024-02-21T21:52:09.627Z"
   },
   {
    "duration": 8,
    "start_time": "2024-02-21T21:52:09.639Z"
   },
   {
    "duration": 7,
    "start_time": "2024-02-21T21:52:09.648Z"
   },
   {
    "duration": 427,
    "start_time": "2024-02-21T21:52:09.656Z"
   },
   {
    "duration": 256,
    "start_time": "2024-02-21T21:52:10.085Z"
   },
   {
    "duration": 666,
    "start_time": "2024-02-21T21:52:10.342Z"
   },
   {
    "duration": 7,
    "start_time": "2024-02-21T21:52:11.010Z"
   },
   {
    "duration": 21,
    "start_time": "2024-02-21T21:52:11.019Z"
   },
   {
    "duration": 416,
    "start_time": "2024-02-21T21:52:11.042Z"
   },
   {
    "duration": 191,
    "start_time": "2024-02-21T21:52:11.459Z"
   },
   {
    "duration": 1965,
    "start_time": "2024-02-21T21:52:11.651Z"
   },
   {
    "duration": 97,
    "start_time": "2024-02-21T21:52:13.623Z"
   },
   {
    "duration": 5,
    "start_time": "2024-02-21T21:52:13.722Z"
   },
   {
    "duration": 21,
    "start_time": "2024-02-21T21:52:13.728Z"
   },
   {
    "duration": 18193,
    "start_time": "2024-02-21T21:52:13.750Z"
   },
   {
    "duration": 17,
    "start_time": "2024-02-21T21:52:31.945Z"
   },
   {
    "duration": 218,
    "start_time": "2024-02-21T21:52:31.964Z"
   },
   {
    "duration": 5,
    "start_time": "2024-02-21T21:52:32.184Z"
   },
   {
    "duration": 203,
    "start_time": "2024-02-21T21:53:03.481Z"
   },
   {
    "duration": 206,
    "start_time": "2024-02-21T21:53:16.316Z"
   },
   {
    "duration": 322,
    "start_time": "2024-02-21T21:53:29.557Z"
   },
   {
    "duration": 238,
    "start_time": "2024-02-21T21:53:35.683Z"
   },
   {
    "duration": 232,
    "start_time": "2024-02-21T21:53:38.934Z"
   },
   {
    "duration": 238,
    "start_time": "2024-02-21T21:54:30.095Z"
   },
   {
    "duration": 1392,
    "start_time": "2024-02-21T21:57:30.466Z"
   },
   {
    "duration": 2,
    "start_time": "2024-02-21T21:57:31.860Z"
   },
   {
    "duration": 27,
    "start_time": "2024-02-21T21:57:31.864Z"
   },
   {
    "duration": 78,
    "start_time": "2024-02-21T21:57:31.893Z"
   },
   {
    "duration": 10,
    "start_time": "2024-02-21T21:57:31.972Z"
   },
   {
    "duration": 42,
    "start_time": "2024-02-21T21:57:31.984Z"
   },
   {
    "duration": 25,
    "start_time": "2024-02-21T21:57:32.028Z"
   },
   {
    "duration": 24,
    "start_time": "2024-02-21T21:57:32.054Z"
   },
   {
    "duration": 431,
    "start_time": "2024-02-21T21:57:32.079Z"
   },
   {
    "duration": 261,
    "start_time": "2024-02-21T21:57:32.512Z"
   },
   {
    "duration": 685,
    "start_time": "2024-02-21T21:57:32.774Z"
   },
   {
    "duration": 7,
    "start_time": "2024-02-21T21:57:33.460Z"
   },
   {
    "duration": 21,
    "start_time": "2024-02-21T21:57:33.469Z"
   },
   {
    "duration": 405,
    "start_time": "2024-02-21T21:57:33.491Z"
   },
   {
    "duration": 205,
    "start_time": "2024-02-21T21:57:33.898Z"
   },
   {
    "duration": 2015,
    "start_time": "2024-02-21T21:57:34.105Z"
   },
   {
    "duration": 193,
    "start_time": "2024-02-21T21:57:36.123Z"
   },
   {
    "duration": 5,
    "start_time": "2024-02-21T21:57:36.318Z"
   },
   {
    "duration": 6,
    "start_time": "2024-02-21T21:57:36.324Z"
   },
   {
    "duration": 17848,
    "start_time": "2024-02-21T21:57:36.331Z"
   },
   {
    "duration": 18,
    "start_time": "2024-02-21T21:57:54.181Z"
   },
   {
    "duration": 242,
    "start_time": "2024-02-21T21:57:54.201Z"
   },
   {
    "duration": 5,
    "start_time": "2024-02-21T21:57:54.445Z"
   },
   {
    "duration": 1410,
    "start_time": "2024-02-21T21:59:18.416Z"
   },
   {
    "duration": 3,
    "start_time": "2024-02-21T21:59:19.828Z"
   },
   {
    "duration": 4,
    "start_time": "2024-02-21T21:59:19.832Z"
   },
   {
    "duration": 50,
    "start_time": "2024-02-21T21:59:19.837Z"
   },
   {
    "duration": 9,
    "start_time": "2024-02-21T21:59:19.890Z"
   },
   {
    "duration": 14,
    "start_time": "2024-02-21T21:59:19.900Z"
   },
   {
    "duration": 8,
    "start_time": "2024-02-21T21:59:19.916Z"
   },
   {
    "duration": 12,
    "start_time": "2024-02-21T21:59:19.926Z"
   },
   {
    "duration": 407,
    "start_time": "2024-02-21T21:59:19.940Z"
   },
   {
    "duration": 258,
    "start_time": "2024-02-21T21:59:20.348Z"
   },
   {
    "duration": 684,
    "start_time": "2024-02-21T21:59:20.607Z"
   },
   {
    "duration": 21,
    "start_time": "2024-02-21T21:59:21.294Z"
   },
   {
    "duration": 21,
    "start_time": "2024-02-21T21:59:21.316Z"
   },
   {
    "duration": 418,
    "start_time": "2024-02-21T21:59:21.340Z"
   },
   {
    "duration": 198,
    "start_time": "2024-02-21T21:59:21.759Z"
   },
   {
    "duration": 2062,
    "start_time": "2024-02-21T21:59:21.958Z"
   },
   {
    "duration": 99,
    "start_time": "2024-02-21T21:59:24.022Z"
   },
   {
    "duration": 92,
    "start_time": "2024-02-21T21:59:24.123Z"
   },
   {
    "duration": 4,
    "start_time": "2024-02-21T21:59:24.217Z"
   },
   {
    "duration": 17887,
    "start_time": "2024-02-21T21:59:24.222Z"
   },
   {
    "duration": 20,
    "start_time": "2024-02-21T21:59:42.110Z"
   },
   {
    "duration": 240,
    "start_time": "2024-02-21T21:59:42.131Z"
   },
   {
    "duration": 4,
    "start_time": "2024-02-21T21:59:42.373Z"
   }
  ],
  "kernelspec": {
   "display_name": "Python 3 (ipykernel)",
   "language": "python",
   "name": "python3"
  },
  "language_info": {
   "codemirror_mode": {
    "name": "ipython",
    "version": 3
   },
   "file_extension": ".py",
   "mimetype": "text/x-python",
   "name": "python",
   "nbconvert_exporter": "python",
   "pygments_lexer": "ipython3",
   "version": "3.10.9"
  },
  "toc": {
   "base_numbering": 1,
   "nav_menu": {},
   "number_sections": true,
   "sideBar": true,
   "skip_h1_title": true,
   "title_cell": "Содержание",
   "title_sidebar": "Contents",
   "toc_cell": true,
   "toc_position": {
    "height": "calc(100% - 180px)",
    "left": "10px",
    "top": "150px",
    "width": "288px"
   },
   "toc_section_display": true,
   "toc_window_display": true
  }
 },
 "nbformat": 4,
 "nbformat_minor": 2
}
