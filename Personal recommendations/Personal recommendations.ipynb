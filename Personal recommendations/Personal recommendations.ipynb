{
 "cells": [
  {
   "cell_type": "markdown",
   "metadata": {},
   "source": [
    "## Описание проекта"
   ]
  },
  {
   "cell_type": "markdown",
   "metadata": {},
   "source": [
    "Интернет-магазин продаёт разные товары: для детей, для дома, мелкую бытовую технику, косметику и даже продукты. Отчёт магазина за прошлый период показал, что активность покупателей начала снижаться. Привлекать новых клиентов уже не так эффективно: о магазине и так знает большая часть целевой аудитории. Возможный выход — удерживать активность постоянных клиентов. Сделать это можно с помощью персонализированных предложений.\n",
    "\n",
    "Цель: персонализировать предложения постоянным клиентам, чтобы увеличить их покупательскую активность\n",
    "\n",
    "Задачи:\n",
    "1. Нужно построить модель, которая предскажет вероятность снижения покупательской активности клиента в следующие три месяца.\n",
    "2. В исследование нужно включить дополнительные данные финансового департамента о прибыльности клиента: какой доход каждый покупатель приносил компании за последние три месяца.\n",
    "3. Используя данные модели и данные о прибыльности клиентов, нужно выделить сегменты покупателей и разработать для них персонализированные предложения."
   ]
  },
  {
   "cell_type": "code",
   "execution_count": 1,
   "metadata": {},
   "outputs": [
    {
     "name": "stdout",
     "output_type": "stream",
     "text": [
      "Requirement already satisfied: scikit-learn in /opt/conda/lib/python3.9/site-packages (1.3.2)\n",
      "Requirement already satisfied: numpy<2.0,>=1.17.3 in /opt/conda/lib/python3.9/site-packages (from scikit-learn) (1.21.1)\n",
      "Requirement already satisfied: scipy>=1.5.0 in /opt/conda/lib/python3.9/site-packages (from scikit-learn) (1.9.1)\n",
      "Requirement already satisfied: threadpoolctl>=2.0.0 in /opt/conda/lib/python3.9/site-packages (from scikit-learn) (3.1.0)\n",
      "Requirement already satisfied: joblib>=1.1.1 in /opt/conda/lib/python3.9/site-packages (from scikit-learn) (1.3.2)\n"
     ]
    }
   ],
   "source": [
    "!pip install shap -q\n",
    "!pip install -U scikit-learn"
   ]
  },
  {
   "cell_type": "code",
   "execution_count": 2,
   "metadata": {
    "id": "H6cQIZr3ElW1"
   },
   "outputs": [],
   "source": [
    "import pandas as pd\n",
    "import matplotlib.pyplot as plt\n",
    "import seaborn as sns \n",
    "import numpy as np\n",
    "from sklearn.preprocessing import (\n",
    "    StandardScaler,\n",
    "    OneHotEncoder,\n",
    "    OrdinalEncoder,\n",
    "    MinMaxScaler,\n",
    "    RobustScaler\n",
    ")\n",
    "from sklearn.model_selection import train_test_split\n",
    "from sklearn.linear_model import LogisticRegression\n",
    "from sklearn.neighbors import KNeighborsClassifier\n",
    "from sklearn.tree import DecisionTreeClassifier\n",
    "from sklearn.model_selection import RandomizedSearchCV\n",
    "from sklearn.metrics import roc_auc_score\n",
    "from sklearn.impute import SimpleImputer\n",
    "from sklearn.compose import ColumnTransformer\n",
    "from sklearn.pipeline import Pipeline\n",
    "from sklearn.svm import SVC\n",
    "import shap"
   ]
  },
  {
   "cell_type": "code",
   "execution_count": 3,
   "metadata": {},
   "outputs": [],
   "source": [
    "import warnings\n",
    "warnings.filterwarnings('ignore')"
   ]
  },
  {
   "cell_type": "code",
   "execution_count": 4,
   "metadata": {},
   "outputs": [],
   "source": [
    "RANDOM_STATE = 123"
   ]
  },
  {
   "cell_type": "markdown",
   "metadata": {},
   "source": [
    "## Обзор данных"
   ]
  },
  {
   "cell_type": "code",
   "execution_count": 5,
   "metadata": {},
   "outputs": [],
   "source": [
    "df_file = pd.read_csv('/datasets/market_file.csv', sep=',').set_index('id', drop=True)\n",
    "df_market_money = pd.read_csv('/datasets/market_money.csv', sep=',').set_index('id', drop=True)\n",
    "df_money = pd.read_csv('/datasets/money.csv', sep=';', decimal=',').set_index('id', drop=True)\n",
    "df_time = pd.read_csv('/datasets/market_time.csv', sep=',').set_index('id', drop=True)\n",
    "df=[df_file, df_market_money, df_money, df_time]"
   ]
  },
  {
   "cell_type": "markdown",
   "metadata": {},
   "source": [
    "### Данные о поведении покупателя"
   ]
  },
  {
   "cell_type": "markdown",
   "metadata": {},
   "source": [
    "Таблица, которая содержит данные о поведении покупателя на сайте, о коммуникациях с покупателем и его продуктовом поведении."
   ]
  },
  {
   "cell_type": "code",
   "execution_count": 6,
   "metadata": {
    "scrolled": false
   },
   "outputs": [
    {
     "data": {
      "text/html": [
       "<div>\n",
       "<style scoped>\n",
       "    .dataframe tbody tr th:only-of-type {\n",
       "        vertical-align: middle;\n",
       "    }\n",
       "\n",
       "    .dataframe tbody tr th {\n",
       "        vertical-align: top;\n",
       "    }\n",
       "\n",
       "    .dataframe thead th {\n",
       "        text-align: right;\n",
       "    }\n",
       "</style>\n",
       "<table border=\"1\" class=\"dataframe\">\n",
       "  <thead>\n",
       "    <tr style=\"text-align: right;\">\n",
       "      <th></th>\n",
       "      <th>Покупательская активность</th>\n",
       "      <th>Тип сервиса</th>\n",
       "      <th>Разрешить сообщать</th>\n",
       "      <th>Маркет_актив_6_мес</th>\n",
       "      <th>Маркет_актив_тек_мес</th>\n",
       "      <th>Длительность</th>\n",
       "      <th>Акционные_покупки</th>\n",
       "      <th>Популярная_категория</th>\n",
       "      <th>Средний_просмотр_категорий_за_визит</th>\n",
       "      <th>Неоплаченные_продукты_штук_квартал</th>\n",
       "      <th>Ошибка_сервиса</th>\n",
       "      <th>Страниц_за_визит</th>\n",
       "    </tr>\n",
       "    <tr>\n",
       "      <th>id</th>\n",
       "      <th></th>\n",
       "      <th></th>\n",
       "      <th></th>\n",
       "      <th></th>\n",
       "      <th></th>\n",
       "      <th></th>\n",
       "      <th></th>\n",
       "      <th></th>\n",
       "      <th></th>\n",
       "      <th></th>\n",
       "      <th></th>\n",
       "      <th></th>\n",
       "    </tr>\n",
       "  </thead>\n",
       "  <tbody>\n",
       "    <tr>\n",
       "      <th>215348</th>\n",
       "      <td>Снизилась</td>\n",
       "      <td>премиум</td>\n",
       "      <td>да</td>\n",
       "      <td>3.4</td>\n",
       "      <td>5</td>\n",
       "      <td>121</td>\n",
       "      <td>0.00</td>\n",
       "      <td>Товары для детей</td>\n",
       "      <td>6</td>\n",
       "      <td>2</td>\n",
       "      <td>1</td>\n",
       "      <td>5</td>\n",
       "    </tr>\n",
       "    <tr>\n",
       "      <th>215349</th>\n",
       "      <td>Снизилась</td>\n",
       "      <td>премиум</td>\n",
       "      <td>да</td>\n",
       "      <td>4.4</td>\n",
       "      <td>4</td>\n",
       "      <td>819</td>\n",
       "      <td>0.75</td>\n",
       "      <td>Товары для детей</td>\n",
       "      <td>4</td>\n",
       "      <td>4</td>\n",
       "      <td>2</td>\n",
       "      <td>5</td>\n",
       "    </tr>\n",
       "    <tr>\n",
       "      <th>215350</th>\n",
       "      <td>Снизилась</td>\n",
       "      <td>стандартт</td>\n",
       "      <td>нет</td>\n",
       "      <td>4.9</td>\n",
       "      <td>3</td>\n",
       "      <td>539</td>\n",
       "      <td>0.14</td>\n",
       "      <td>Домашний текстиль</td>\n",
       "      <td>5</td>\n",
       "      <td>2</td>\n",
       "      <td>1</td>\n",
       "      <td>5</td>\n",
       "    </tr>\n",
       "    <tr>\n",
       "      <th>215351</th>\n",
       "      <td>Снизилась</td>\n",
       "      <td>стандартт</td>\n",
       "      <td>да</td>\n",
       "      <td>3.2</td>\n",
       "      <td>5</td>\n",
       "      <td>896</td>\n",
       "      <td>0.99</td>\n",
       "      <td>Товары для детей</td>\n",
       "      <td>5</td>\n",
       "      <td>0</td>\n",
       "      <td>6</td>\n",
       "      <td>4</td>\n",
       "    </tr>\n",
       "    <tr>\n",
       "      <th>215352</th>\n",
       "      <td>Снизилась</td>\n",
       "      <td>стандартт</td>\n",
       "      <td>нет</td>\n",
       "      <td>5.1</td>\n",
       "      <td>3</td>\n",
       "      <td>1064</td>\n",
       "      <td>0.94</td>\n",
       "      <td>Товары для детей</td>\n",
       "      <td>3</td>\n",
       "      <td>2</td>\n",
       "      <td>3</td>\n",
       "      <td>2</td>\n",
       "    </tr>\n",
       "  </tbody>\n",
       "</table>\n",
       "</div>"
      ],
      "text/plain": [
       "       Покупательская активность Тип сервиса Разрешить сообщать  \\\n",
       "id                                                                \n",
       "215348                 Снизилась     премиум                 да   \n",
       "215349                 Снизилась     премиум                 да   \n",
       "215350                 Снизилась   стандартт                нет   \n",
       "215351                 Снизилась   стандартт                 да   \n",
       "215352                 Снизилась   стандартт                нет   \n",
       "\n",
       "        Маркет_актив_6_мес  Маркет_актив_тек_мес  Длительность  \\\n",
       "id                                                               \n",
       "215348                 3.4                     5           121   \n",
       "215349                 4.4                     4           819   \n",
       "215350                 4.9                     3           539   \n",
       "215351                 3.2                     5           896   \n",
       "215352                 5.1                     3          1064   \n",
       "\n",
       "        Акционные_покупки Популярная_категория  \\\n",
       "id                                               \n",
       "215348               0.00     Товары для детей   \n",
       "215349               0.75     Товары для детей   \n",
       "215350               0.14    Домашний текстиль   \n",
       "215351               0.99     Товары для детей   \n",
       "215352               0.94     Товары для детей   \n",
       "\n",
       "        Средний_просмотр_категорий_за_визит  \\\n",
       "id                                            \n",
       "215348                                    6   \n",
       "215349                                    4   \n",
       "215350                                    5   \n",
       "215351                                    5   \n",
       "215352                                    3   \n",
       "\n",
       "        Неоплаченные_продукты_штук_квартал  Ошибка_сервиса  Страниц_за_визит  \n",
       "id                                                                            \n",
       "215348                                   2               1                 5  \n",
       "215349                                   4               2                 5  \n",
       "215350                                   2               1                 5  \n",
       "215351                                   0               6                 4  \n",
       "215352                                   2               3                 2  "
      ]
     },
     "execution_count": 6,
     "metadata": {},
     "output_type": "execute_result"
    }
   ],
   "source": [
    "df_file.head()"
   ]
  },
  {
   "cell_type": "markdown",
   "metadata": {},
   "source": [
    "- id — номер покупателя в корпоративной базе данных.\n",
    "- Покупательская активность — рассчитанный класс покупательской активности (**целевой признак**): «снизилась» или «прежний уровень».\n",
    "- Тип сервиса — уровень сервиса, например «премиум» и «стандарт».\n",
    "- Разрешить сообщать — информация о том, можно ли присылать покупателю дополнительные предложения о товаре. Согласие на это даёт покупатель.\n",
    "- Маркет_актив_6_мес — среднемесячное значение маркетинговых коммуникаций компании, которое приходилось на покупателя за последние 6 месяцев. Это значение показывает, какое число рассылок, звонков, показов рекламы и прочего приходилось на клиента.\n",
    "- Маркет_актив_тек_мес — количество маркетинговых коммуникаций в текущем месяце.\n",
    "- Длительность — значение, которое показывает, сколько дней прошло с момента регистрации покупателя на сайте.\n",
    "- Акционные_покупки — среднемесячная доля покупок по акции от общего числа покупок за последние 6 месяцев.\n",
    "- Популярная_категория — самая популярная категория товаров у покупателя за последние 6 месяцев.\n",
    "- Средний_просмотр_категорий_за_визит — показывает, сколько в среднем категорий покупатель просмотрел за визит в течение последнего месяца.\n",
    "- Неоплаченные_продукты_штук_квартал — общее число неоплаченных товаров в корзине за последние 3 месяца.\n",
    "- Ошибка_сервиса — число сбоев, которые коснулись покупателя во время посещения сайта.\n",
    "- Страниц_за_визит — среднее количество страниц, которые просмотрел покупатель за один визит на сайт за последние 3 месяца."
   ]
  },
  {
   "cell_type": "code",
   "execution_count": 7,
   "metadata": {
    "scrolled": false
   },
   "outputs": [
    {
     "data": {
      "text/html": [
       "<div>\n",
       "<style scoped>\n",
       "    .dataframe tbody tr th:only-of-type {\n",
       "        vertical-align: middle;\n",
       "    }\n",
       "\n",
       "    .dataframe tbody tr th {\n",
       "        vertical-align: top;\n",
       "    }\n",
       "\n",
       "    .dataframe thead th {\n",
       "        text-align: right;\n",
       "    }\n",
       "</style>\n",
       "<table border=\"1\" class=\"dataframe\">\n",
       "  <thead>\n",
       "    <tr style=\"text-align: right;\">\n",
       "      <th></th>\n",
       "      <th>Маркет_актив_6_мес</th>\n",
       "      <th>Маркет_актив_тек_мес</th>\n",
       "      <th>Длительность</th>\n",
       "      <th>Акционные_покупки</th>\n",
       "      <th>Средний_просмотр_категорий_за_визит</th>\n",
       "      <th>Неоплаченные_продукты_штук_квартал</th>\n",
       "      <th>Ошибка_сервиса</th>\n",
       "      <th>Страниц_за_визит</th>\n",
       "    </tr>\n",
       "  </thead>\n",
       "  <tbody>\n",
       "    <tr>\n",
       "      <th>count</th>\n",
       "      <td>1300.000000</td>\n",
       "      <td>1300.000000</td>\n",
       "      <td>1300.000000</td>\n",
       "      <td>1300.000000</td>\n",
       "      <td>1300.00000</td>\n",
       "      <td>1300.000000</td>\n",
       "      <td>1300.000000</td>\n",
       "      <td>1300.000000</td>\n",
       "    </tr>\n",
       "    <tr>\n",
       "      <th>mean</th>\n",
       "      <td>4.253769</td>\n",
       "      <td>4.011538</td>\n",
       "      <td>601.898462</td>\n",
       "      <td>0.319808</td>\n",
       "      <td>3.27000</td>\n",
       "      <td>2.840000</td>\n",
       "      <td>4.185385</td>\n",
       "      <td>8.176923</td>\n",
       "    </tr>\n",
       "    <tr>\n",
       "      <th>std</th>\n",
       "      <td>1.014814</td>\n",
       "      <td>0.696868</td>\n",
       "      <td>249.856289</td>\n",
       "      <td>0.249843</td>\n",
       "      <td>1.35535</td>\n",
       "      <td>1.971451</td>\n",
       "      <td>1.955298</td>\n",
       "      <td>3.978126</td>\n",
       "    </tr>\n",
       "    <tr>\n",
       "      <th>min</th>\n",
       "      <td>0.900000</td>\n",
       "      <td>3.000000</td>\n",
       "      <td>110.000000</td>\n",
       "      <td>0.000000</td>\n",
       "      <td>1.00000</td>\n",
       "      <td>0.000000</td>\n",
       "      <td>0.000000</td>\n",
       "      <td>1.000000</td>\n",
       "    </tr>\n",
       "    <tr>\n",
       "      <th>25%</th>\n",
       "      <td>3.700000</td>\n",
       "      <td>4.000000</td>\n",
       "      <td>405.500000</td>\n",
       "      <td>0.170000</td>\n",
       "      <td>2.00000</td>\n",
       "      <td>1.000000</td>\n",
       "      <td>3.000000</td>\n",
       "      <td>5.000000</td>\n",
       "    </tr>\n",
       "    <tr>\n",
       "      <th>50%</th>\n",
       "      <td>4.200000</td>\n",
       "      <td>4.000000</td>\n",
       "      <td>606.000000</td>\n",
       "      <td>0.240000</td>\n",
       "      <td>3.00000</td>\n",
       "      <td>3.000000</td>\n",
       "      <td>4.000000</td>\n",
       "      <td>8.000000</td>\n",
       "    </tr>\n",
       "    <tr>\n",
       "      <th>75%</th>\n",
       "      <td>4.900000</td>\n",
       "      <td>4.000000</td>\n",
       "      <td>806.000000</td>\n",
       "      <td>0.300000</td>\n",
       "      <td>4.00000</td>\n",
       "      <td>4.000000</td>\n",
       "      <td>6.000000</td>\n",
       "      <td>11.000000</td>\n",
       "    </tr>\n",
       "    <tr>\n",
       "      <th>max</th>\n",
       "      <td>6.600000</td>\n",
       "      <td>5.000000</td>\n",
       "      <td>1079.000000</td>\n",
       "      <td>0.990000</td>\n",
       "      <td>6.00000</td>\n",
       "      <td>10.000000</td>\n",
       "      <td>9.000000</td>\n",
       "      <td>20.000000</td>\n",
       "    </tr>\n",
       "  </tbody>\n",
       "</table>\n",
       "</div>"
      ],
      "text/plain": [
       "       Маркет_актив_6_мес  Маркет_актив_тек_мес  Длительность  \\\n",
       "count         1300.000000           1300.000000   1300.000000   \n",
       "mean             4.253769              4.011538    601.898462   \n",
       "std              1.014814              0.696868    249.856289   \n",
       "min              0.900000              3.000000    110.000000   \n",
       "25%              3.700000              4.000000    405.500000   \n",
       "50%              4.200000              4.000000    606.000000   \n",
       "75%              4.900000              4.000000    806.000000   \n",
       "max              6.600000              5.000000   1079.000000   \n",
       "\n",
       "       Акционные_покупки  Средний_просмотр_категорий_за_визит  \\\n",
       "count        1300.000000                           1300.00000   \n",
       "mean            0.319808                              3.27000   \n",
       "std             0.249843                              1.35535   \n",
       "min             0.000000                              1.00000   \n",
       "25%             0.170000                              2.00000   \n",
       "50%             0.240000                              3.00000   \n",
       "75%             0.300000                              4.00000   \n",
       "max             0.990000                              6.00000   \n",
       "\n",
       "       Неоплаченные_продукты_штук_квартал  Ошибка_сервиса  Страниц_за_визит  \n",
       "count                         1300.000000     1300.000000       1300.000000  \n",
       "mean                             2.840000        4.185385          8.176923  \n",
       "std                              1.971451        1.955298          3.978126  \n",
       "min                              0.000000        0.000000          1.000000  \n",
       "25%                              1.000000        3.000000          5.000000  \n",
       "50%                              3.000000        4.000000          8.000000  \n",
       "75%                              4.000000        6.000000         11.000000  \n",
       "max                             10.000000        9.000000         20.000000  "
      ]
     },
     "execution_count": 7,
     "metadata": {},
     "output_type": "execute_result"
    }
   ],
   "source": [
    "df_file.describe()"
   ]
  },
  {
   "cell_type": "markdown",
   "metadata": {},
   "source": [
    "В признаках отсутствуют аномальные значения"
   ]
  },
  {
   "cell_type": "markdown",
   "metadata": {},
   "source": [
    "### Данные о выручке"
   ]
  },
  {
   "cell_type": "markdown",
   "metadata": {},
   "source": [
    "Таблица с данными о выручке, которую получает магазин с покупателя, то есть сколько покупатель всего потратил за период взаимодействия с сайтом."
   ]
  },
  {
   "cell_type": "code",
   "execution_count": 8,
   "metadata": {
    "scrolled": true
   },
   "outputs": [
    {
     "data": {
      "text/html": [
       "<div>\n",
       "<style scoped>\n",
       "    .dataframe tbody tr th:only-of-type {\n",
       "        vertical-align: middle;\n",
       "    }\n",
       "\n",
       "    .dataframe tbody tr th {\n",
       "        vertical-align: top;\n",
       "    }\n",
       "\n",
       "    .dataframe thead th {\n",
       "        text-align: right;\n",
       "    }\n",
       "</style>\n",
       "<table border=\"1\" class=\"dataframe\">\n",
       "  <thead>\n",
       "    <tr style=\"text-align: right;\">\n",
       "      <th></th>\n",
       "      <th>Период</th>\n",
       "      <th>Выручка</th>\n",
       "    </tr>\n",
       "    <tr>\n",
       "      <th>id</th>\n",
       "      <th></th>\n",
       "      <th></th>\n",
       "    </tr>\n",
       "  </thead>\n",
       "  <tbody>\n",
       "    <tr>\n",
       "      <th>215348</th>\n",
       "      <td>препредыдущий_месяц</td>\n",
       "      <td>0.0</td>\n",
       "    </tr>\n",
       "    <tr>\n",
       "      <th>215348</th>\n",
       "      <td>текущий_месяц</td>\n",
       "      <td>3293.1</td>\n",
       "    </tr>\n",
       "    <tr>\n",
       "      <th>215348</th>\n",
       "      <td>предыдущий_месяц</td>\n",
       "      <td>0.0</td>\n",
       "    </tr>\n",
       "    <tr>\n",
       "      <th>215349</th>\n",
       "      <td>препредыдущий_месяц</td>\n",
       "      <td>4472.0</td>\n",
       "    </tr>\n",
       "    <tr>\n",
       "      <th>215349</th>\n",
       "      <td>текущий_месяц</td>\n",
       "      <td>4971.6</td>\n",
       "    </tr>\n",
       "  </tbody>\n",
       "</table>\n",
       "</div>"
      ],
      "text/plain": [
       "                     Период  Выручка\n",
       "id                                  \n",
       "215348  препредыдущий_месяц      0.0\n",
       "215348        текущий_месяц   3293.1\n",
       "215348     предыдущий_месяц      0.0\n",
       "215349  препредыдущий_месяц   4472.0\n",
       "215349        текущий_месяц   4971.6"
      ]
     },
     "execution_count": 8,
     "metadata": {},
     "output_type": "execute_result"
    }
   ],
   "source": [
    "df_market_money.head()"
   ]
  },
  {
   "cell_type": "code",
   "execution_count": 9,
   "metadata": {
    "scrolled": true
   },
   "outputs": [
    {
     "data": {
      "text/html": [
       "<div>\n",
       "<style scoped>\n",
       "    .dataframe tbody tr th:only-of-type {\n",
       "        vertical-align: middle;\n",
       "    }\n",
       "\n",
       "    .dataframe tbody tr th {\n",
       "        vertical-align: top;\n",
       "    }\n",
       "\n",
       "    .dataframe thead th {\n",
       "        text-align: right;\n",
       "    }\n",
       "</style>\n",
       "<table border=\"1\" class=\"dataframe\">\n",
       "  <thead>\n",
       "    <tr style=\"text-align: right;\">\n",
       "      <th></th>\n",
       "      <th>Выручка</th>\n",
       "    </tr>\n",
       "  </thead>\n",
       "  <tbody>\n",
       "    <tr>\n",
       "      <th>count</th>\n",
       "      <td>3900.000000</td>\n",
       "    </tr>\n",
       "    <tr>\n",
       "      <th>mean</th>\n",
       "      <td>5025.696051</td>\n",
       "    </tr>\n",
       "    <tr>\n",
       "      <th>std</th>\n",
       "      <td>1777.704104</td>\n",
       "    </tr>\n",
       "    <tr>\n",
       "      <th>min</th>\n",
       "      <td>0.000000</td>\n",
       "    </tr>\n",
       "    <tr>\n",
       "      <th>25%</th>\n",
       "      <td>4590.150000</td>\n",
       "    </tr>\n",
       "    <tr>\n",
       "      <th>50%</th>\n",
       "      <td>4957.500000</td>\n",
       "    </tr>\n",
       "    <tr>\n",
       "      <th>75%</th>\n",
       "      <td>5363.000000</td>\n",
       "    </tr>\n",
       "    <tr>\n",
       "      <th>max</th>\n",
       "      <td>106862.200000</td>\n",
       "    </tr>\n",
       "  </tbody>\n",
       "</table>\n",
       "</div>"
      ],
      "text/plain": [
       "             Выручка\n",
       "count    3900.000000\n",
       "mean     5025.696051\n",
       "std      1777.704104\n",
       "min         0.000000\n",
       "25%      4590.150000\n",
       "50%      4957.500000\n",
       "75%      5363.000000\n",
       "max    106862.200000"
      ]
     },
     "execution_count": 9,
     "metadata": {},
     "output_type": "execute_result"
    }
   ],
   "source": [
    "df_market_money.describe()"
   ]
  },
  {
   "cell_type": "markdown",
   "metadata": {},
   "source": [
    "Максимальное значение сильно отличается от значения 75 квантиля - необходимо проверить данные по выручке на выбросы."
   ]
  },
  {
   "cell_type": "markdown",
   "metadata": {},
   "source": [
    "### Данные о среднемесячной прибыли"
   ]
  },
  {
   "cell_type": "markdown",
   "metadata": {},
   "source": [
    "Таблица с данными о среднемесячной прибыли покупателя за последние 3 месяца: какую прибыль получает магазин от продаж каждому покупателю."
   ]
  },
  {
   "cell_type": "code",
   "execution_count": 10,
   "metadata": {
    "scrolled": false
   },
   "outputs": [
    {
     "data": {
      "text/html": [
       "<div>\n",
       "<style scoped>\n",
       "    .dataframe tbody tr th:only-of-type {\n",
       "        vertical-align: middle;\n",
       "    }\n",
       "\n",
       "    .dataframe tbody tr th {\n",
       "        vertical-align: top;\n",
       "    }\n",
       "\n",
       "    .dataframe thead th {\n",
       "        text-align: right;\n",
       "    }\n",
       "</style>\n",
       "<table border=\"1\" class=\"dataframe\">\n",
       "  <thead>\n",
       "    <tr style=\"text-align: right;\">\n",
       "      <th></th>\n",
       "      <th>Прибыль</th>\n",
       "    </tr>\n",
       "    <tr>\n",
       "      <th>id</th>\n",
       "      <th></th>\n",
       "    </tr>\n",
       "  </thead>\n",
       "  <tbody>\n",
       "    <tr>\n",
       "      <th>215348</th>\n",
       "      <td>0.98</td>\n",
       "    </tr>\n",
       "    <tr>\n",
       "      <th>215349</th>\n",
       "      <td>4.16</td>\n",
       "    </tr>\n",
       "    <tr>\n",
       "      <th>215350</th>\n",
       "      <td>3.13</td>\n",
       "    </tr>\n",
       "    <tr>\n",
       "      <th>215351</th>\n",
       "      <td>4.87</td>\n",
       "    </tr>\n",
       "    <tr>\n",
       "      <th>215352</th>\n",
       "      <td>4.21</td>\n",
       "    </tr>\n",
       "  </tbody>\n",
       "</table>\n",
       "</div>"
      ],
      "text/plain": [
       "        Прибыль\n",
       "id             \n",
       "215348     0.98\n",
       "215349     4.16\n",
       "215350     3.13\n",
       "215351     4.87\n",
       "215352     4.21"
      ]
     },
     "execution_count": 10,
     "metadata": {},
     "output_type": "execute_result"
    }
   ],
   "source": [
    "df_money.head()"
   ]
  },
  {
   "cell_type": "code",
   "execution_count": 11,
   "metadata": {
    "scrolled": true
   },
   "outputs": [
    {
     "data": {
      "text/html": [
       "<div>\n",
       "<style scoped>\n",
       "    .dataframe tbody tr th:only-of-type {\n",
       "        vertical-align: middle;\n",
       "    }\n",
       "\n",
       "    .dataframe tbody tr th {\n",
       "        vertical-align: top;\n",
       "    }\n",
       "\n",
       "    .dataframe thead th {\n",
       "        text-align: right;\n",
       "    }\n",
       "</style>\n",
       "<table border=\"1\" class=\"dataframe\">\n",
       "  <thead>\n",
       "    <tr style=\"text-align: right;\">\n",
       "      <th></th>\n",
       "      <th>Прибыль</th>\n",
       "    </tr>\n",
       "  </thead>\n",
       "  <tbody>\n",
       "    <tr>\n",
       "      <th>count</th>\n",
       "      <td>1300.000000</td>\n",
       "    </tr>\n",
       "    <tr>\n",
       "      <th>mean</th>\n",
       "      <td>3.996631</td>\n",
       "    </tr>\n",
       "    <tr>\n",
       "      <th>std</th>\n",
       "      <td>1.013722</td>\n",
       "    </tr>\n",
       "    <tr>\n",
       "      <th>min</th>\n",
       "      <td>0.860000</td>\n",
       "    </tr>\n",
       "    <tr>\n",
       "      <th>25%</th>\n",
       "      <td>3.300000</td>\n",
       "    </tr>\n",
       "    <tr>\n",
       "      <th>50%</th>\n",
       "      <td>4.045000</td>\n",
       "    </tr>\n",
       "    <tr>\n",
       "      <th>75%</th>\n",
       "      <td>4.670000</td>\n",
       "    </tr>\n",
       "    <tr>\n",
       "      <th>max</th>\n",
       "      <td>7.430000</td>\n",
       "    </tr>\n",
       "  </tbody>\n",
       "</table>\n",
       "</div>"
      ],
      "text/plain": [
       "           Прибыль\n",
       "count  1300.000000\n",
       "mean      3.996631\n",
       "std       1.013722\n",
       "min       0.860000\n",
       "25%       3.300000\n",
       "50%       4.045000\n",
       "75%       4.670000\n",
       "max       7.430000"
      ]
     },
     "execution_count": 11,
     "metadata": {},
     "output_type": "execute_result"
    }
   ],
   "source": [
    "df_money.describe()"
   ]
  },
  {
   "cell_type": "markdown",
   "metadata": {},
   "source": [
    "В прибыли отсутствуют аномальные значения"
   ]
  },
  {
   "cell_type": "markdown",
   "metadata": {},
   "source": [
    "### Данные о времени, проведенном на сайте"
   ]
  },
  {
   "cell_type": "markdown",
   "metadata": {},
   "source": [
    "Таблица с данными о времени (в минутах), которое покупатель провёл на сайте в течение периода."
   ]
  },
  {
   "cell_type": "code",
   "execution_count": 12,
   "metadata": {
    "scrolled": true
   },
   "outputs": [
    {
     "data": {
      "text/html": [
       "<div>\n",
       "<style scoped>\n",
       "    .dataframe tbody tr th:only-of-type {\n",
       "        vertical-align: middle;\n",
       "    }\n",
       "\n",
       "    .dataframe tbody tr th {\n",
       "        vertical-align: top;\n",
       "    }\n",
       "\n",
       "    .dataframe thead th {\n",
       "        text-align: right;\n",
       "    }\n",
       "</style>\n",
       "<table border=\"1\" class=\"dataframe\">\n",
       "  <thead>\n",
       "    <tr style=\"text-align: right;\">\n",
       "      <th></th>\n",
       "      <th>Период</th>\n",
       "      <th>минут</th>\n",
       "    </tr>\n",
       "    <tr>\n",
       "      <th>id</th>\n",
       "      <th></th>\n",
       "      <th></th>\n",
       "    </tr>\n",
       "  </thead>\n",
       "  <tbody>\n",
       "    <tr>\n",
       "      <th>215348</th>\n",
       "      <td>текущий_месяц</td>\n",
       "      <td>14</td>\n",
       "    </tr>\n",
       "    <tr>\n",
       "      <th>215348</th>\n",
       "      <td>предыдцщий_месяц</td>\n",
       "      <td>13</td>\n",
       "    </tr>\n",
       "    <tr>\n",
       "      <th>215349</th>\n",
       "      <td>текущий_месяц</td>\n",
       "      <td>10</td>\n",
       "    </tr>\n",
       "    <tr>\n",
       "      <th>215349</th>\n",
       "      <td>предыдцщий_месяц</td>\n",
       "      <td>12</td>\n",
       "    </tr>\n",
       "    <tr>\n",
       "      <th>215350</th>\n",
       "      <td>текущий_месяц</td>\n",
       "      <td>13</td>\n",
       "    </tr>\n",
       "  </tbody>\n",
       "</table>\n",
       "</div>"
      ],
      "text/plain": [
       "                  Период  минут\n",
       "id                             \n",
       "215348     текущий_месяц     14\n",
       "215348  предыдцщий_месяц     13\n",
       "215349     текущий_месяц     10\n",
       "215349  предыдцщий_месяц     12\n",
       "215350     текущий_месяц     13"
      ]
     },
     "execution_count": 12,
     "metadata": {},
     "output_type": "execute_result"
    }
   ],
   "source": [
    "df_time.head()"
   ]
  },
  {
   "cell_type": "code",
   "execution_count": 13,
   "metadata": {
    "scrolled": true
   },
   "outputs": [
    {
     "data": {
      "text/html": [
       "<div>\n",
       "<style scoped>\n",
       "    .dataframe tbody tr th:only-of-type {\n",
       "        vertical-align: middle;\n",
       "    }\n",
       "\n",
       "    .dataframe tbody tr th {\n",
       "        vertical-align: top;\n",
       "    }\n",
       "\n",
       "    .dataframe thead th {\n",
       "        text-align: right;\n",
       "    }\n",
       "</style>\n",
       "<table border=\"1\" class=\"dataframe\">\n",
       "  <thead>\n",
       "    <tr style=\"text-align: right;\">\n",
       "      <th></th>\n",
       "      <th>минут</th>\n",
       "    </tr>\n",
       "  </thead>\n",
       "  <tbody>\n",
       "    <tr>\n",
       "      <th>count</th>\n",
       "      <td>2600.000000</td>\n",
       "    </tr>\n",
       "    <tr>\n",
       "      <th>mean</th>\n",
       "      <td>13.336154</td>\n",
       "    </tr>\n",
       "    <tr>\n",
       "      <th>std</th>\n",
       "      <td>4.080198</td>\n",
       "    </tr>\n",
       "    <tr>\n",
       "      <th>min</th>\n",
       "      <td>4.000000</td>\n",
       "    </tr>\n",
       "    <tr>\n",
       "      <th>25%</th>\n",
       "      <td>10.000000</td>\n",
       "    </tr>\n",
       "    <tr>\n",
       "      <th>50%</th>\n",
       "      <td>13.000000</td>\n",
       "    </tr>\n",
       "    <tr>\n",
       "      <th>75%</th>\n",
       "      <td>16.000000</td>\n",
       "    </tr>\n",
       "    <tr>\n",
       "      <th>max</th>\n",
       "      <td>23.000000</td>\n",
       "    </tr>\n",
       "  </tbody>\n",
       "</table>\n",
       "</div>"
      ],
      "text/plain": [
       "             минут\n",
       "count  2600.000000\n",
       "mean     13.336154\n",
       "std       4.080198\n",
       "min       4.000000\n",
       "25%      10.000000\n",
       "50%      13.000000\n",
       "75%      16.000000\n",
       "max      23.000000"
      ]
     },
     "execution_count": 13,
     "metadata": {},
     "output_type": "execute_result"
    }
   ],
   "source": [
    "df_time.describe()"
   ]
  },
  {
   "cell_type": "markdown",
   "metadata": {},
   "source": [
    "В данных о времени на сайте отсутствуют аномальные значения"
   ]
  },
  {
   "cell_type": "markdown",
   "metadata": {},
   "source": [
    "### Вывод\n",
    "Для выполнения работы были переданы 4 датасета:\n",
    "1. df_file - Таблица, которая содержит данные о поведении покупателя на сайте, о коммуникациях с покупателем и его продуктовом поведении.\n",
    "2. df_market_money - Таблица с данными о выручке, которую получает магазин с покупателя, то есть сколько покупатель всего потратил за период взаимодействия с сайтом.\n",
    "3. df_money - Таблица с данными о среднемесячной прибыли покупателя за последние 3 месяца: какую прибыль получает магазин от продаж каждому покупателю.\n",
    "4. df_time - Таблица с данными о времени (в минутах), которое покупатель провёл на сайте в течение периода.\n",
    "\n",
    "Целевой признак - Покупательская активность\n",
    "В признаках отствуют аномальные значения, за имсключением значений Выручки, что будет исследованно далее."
   ]
  },
  {
   "cell_type": "markdown",
   "metadata": {},
   "source": [
    "## Предобработка данных"
   ]
  },
  {
   "cell_type": "code",
   "execution_count": 14,
   "metadata": {},
   "outputs": [],
   "source": [
    "df_file['Покупательская активность'] = df_file['Покупательская активность'].apply(\n",
    "    lambda x: 1 if x=='Снизилась' else 0)"
   ]
  },
  {
   "cell_type": "code",
   "execution_count": 15,
   "metadata": {},
   "outputs": [
    {
     "name": "stdout",
     "output_type": "stream",
     "text": [
      "Count numerical columns: 8\n",
      "Count categorical columns: 3\n"
     ]
    }
   ],
   "source": [
    "cat_columns = []\n",
    "num_columns = []\n",
    "\n",
    "for col_name in df_file.columns:\n",
    "    \n",
    "    if isinstance(df_file[col_name].iloc[0], str):\n",
    "        cat_columns.append(col_name)\n",
    "    else:\n",
    "        num_columns.append(col_name)\n",
    "num_columns.remove('Покупательская активность')       \n",
    "print('Count numerical columns:', len(num_columns))\n",
    "print('Count categorical columns:', len(cat_columns))"
   ]
  },
  {
   "cell_type": "code",
   "execution_count": 16,
   "metadata": {
    "scrolled": true
   },
   "outputs": [
    {
     "name": "stdout",
     "output_type": "stream",
     "text": [
      "Тип сервиса\n",
      "['премиум' 'стандартт' 'стандарт']\n",
      "Разрешить сообщать\n",
      "['да' 'нет']\n",
      "Популярная_категория\n",
      "['Товары для детей' 'Домашний текстиль' 'Косметика и аксесуары'\n",
      " 'Техника для красоты и здоровья' 'Кухонная посуда'\n",
      " 'Мелкая бытовая техника и электроника']\n"
     ]
    }
   ],
   "source": [
    "for cat_col in cat_columns:\n",
    "    print(cat_col)\n",
    "    print(df_file[cat_col].unique())\n",
    "            "
   ]
  },
  {
   "cell_type": "code",
   "execution_count": 17,
   "metadata": {},
   "outputs": [
    {
     "data": {
      "text/plain": [
       "array(['текущий_месяц', 'предыдцщий_месяц'], dtype=object)"
      ]
     },
     "execution_count": 17,
     "metadata": {},
     "output_type": "execute_result"
    }
   ],
   "source": [
    "df_time['Период'].unique()"
   ]
  },
  {
   "cell_type": "code",
   "execution_count": 18,
   "metadata": {},
   "outputs": [
    {
     "data": {
      "text/plain": [
       "array(['препредыдущий_месяц', 'текущий_месяц', 'предыдущий_месяц'],\n",
       "      dtype=object)"
      ]
     },
     "execution_count": 18,
     "metadata": {},
     "output_type": "execute_result"
    }
   ],
   "source": [
    "df_market_money['Период'].unique()"
   ]
  },
  {
   "cell_type": "code",
   "execution_count": 19,
   "metadata": {},
   "outputs": [],
   "source": [
    "df_file['Тип сервиса'] = df_file['Тип сервиса'].str.replace('стандартт', 'стандарт')\n",
    "df_time['Период'] = df_time['Период'].str.replace('предыдцщий_месяц', 'предыдущий_месяц')"
   ]
  },
  {
   "cell_type": "code",
   "execution_count": 20,
   "metadata": {},
   "outputs": [
    {
     "name": "stdout",
     "output_type": "stream",
     "text": [
      "11\n"
     ]
    }
   ],
   "source": [
    "print(df_file.duplicated().sum())\n",
    "df_file=df_file.drop_duplicates()"
   ]
  },
  {
   "cell_type": "code",
   "execution_count": 21,
   "metadata": {},
   "outputs": [
    {
     "data": {
      "text/html": [
       "<style  type=\"text/css\" >\n",
       "#T_c6952_row0_col0,#T_c6952_row1_col0,#T_c6952_row2_col0,#T_c6952_row3_col0,#T_c6952_row4_col0,#T_c6952_row5_col0,#T_c6952_row6_col0,#T_c6952_row7_col0{\n",
       "            background-color:  #3b4cc0;\n",
       "            color:  #f1f1f1;\n",
       "        }</style><table id=\"T_c6952_\" ><thead>    <tr>        <th class=\"blank level0\" ></th>        <th class=\"col_heading level0 col0\" >0</th>    </tr></thead><tbody>\n",
       "                <tr>\n",
       "                        <th id=\"T_c6952_level0_row0\" class=\"row_heading level0 row0\" >Маркет_актив_6_мес</th>\n",
       "                        <td id=\"T_c6952_row0_col0\" class=\"data row0 col0\" >0.000000</td>\n",
       "            </tr>\n",
       "            <tr>\n",
       "                        <th id=\"T_c6952_level0_row1\" class=\"row_heading level0 row1\" >Маркет_актив_тек_мес</th>\n",
       "                        <td id=\"T_c6952_row1_col0\" class=\"data row1 col0\" >0.000000</td>\n",
       "            </tr>\n",
       "            <tr>\n",
       "                        <th id=\"T_c6952_level0_row2\" class=\"row_heading level0 row2\" >Длительность</th>\n",
       "                        <td id=\"T_c6952_row2_col0\" class=\"data row2 col0\" >0.000000</td>\n",
       "            </tr>\n",
       "            <tr>\n",
       "                        <th id=\"T_c6952_level0_row3\" class=\"row_heading level0 row3\" >Акционные_покупки</th>\n",
       "                        <td id=\"T_c6952_row3_col0\" class=\"data row3 col0\" >0.000000</td>\n",
       "            </tr>\n",
       "            <tr>\n",
       "                        <th id=\"T_c6952_level0_row4\" class=\"row_heading level0 row4\" >Средний_просмотр_категорий_за_визит</th>\n",
       "                        <td id=\"T_c6952_row4_col0\" class=\"data row4 col0\" >0.000000</td>\n",
       "            </tr>\n",
       "            <tr>\n",
       "                        <th id=\"T_c6952_level0_row5\" class=\"row_heading level0 row5\" >Неоплаченные_продукты_штук_квартал</th>\n",
       "                        <td id=\"T_c6952_row5_col0\" class=\"data row5 col0\" >0.000000</td>\n",
       "            </tr>\n",
       "            <tr>\n",
       "                        <th id=\"T_c6952_level0_row6\" class=\"row_heading level0 row6\" >Ошибка_сервиса</th>\n",
       "                        <td id=\"T_c6952_row6_col0\" class=\"data row6 col0\" >0.000000</td>\n",
       "            </tr>\n",
       "            <tr>\n",
       "                        <th id=\"T_c6952_level0_row7\" class=\"row_heading level0 row7\" >Страниц_за_визит</th>\n",
       "                        <td id=\"T_c6952_row7_col0\" class=\"data row7 col0\" >0.000000</td>\n",
       "            </tr>\n",
       "    </tbody></table>"
      ],
      "text/plain": [
       "<pandas.io.formats.style.Styler at 0x7fd56de4dcd0>"
      ]
     },
     "execution_count": 21,
     "metadata": {},
     "output_type": "execute_result"
    }
   ],
   "source": [
    "pd.DataFrame(df_file[num_columns].isna().mean()*100).style.background_gradient('coolwarm')"
   ]
  },
  {
   "cell_type": "markdown",
   "metadata": {},
   "source": [
    "В процессе предобработки данных были выполнены:\n",
    "- Исследованы и удалены при наличии неявные дубликаты во всех датасетах\n",
    "- Признаки поделены на качественные и количественные"
   ]
  },
  {
   "cell_type": "markdown",
   "metadata": {},
   "source": [
    "## Исследовательский анализ данных"
   ]
  },
  {
   "cell_type": "markdown",
   "metadata": {},
   "source": [
    "### Исследования целевого признака"
   ]
  },
  {
   "cell_type": "code",
   "execution_count": 22,
   "metadata": {
    "scrolled": true
   },
   "outputs": [
    {
     "data": {
      "image/png": "[encoded data removed]",
      "text/plain": [
       "<Figure size 432x288 with 1 Axes>"
      ]
     },
     "metadata": {
      "needs_background": "light"
     },
     "output_type": "display_data"
    }
   ],
   "source": [
    "df_file['Покупательская активность'].value_counts(normalize=True).plot(kind='bar', title='Покупательская активность');"
   ]
  },
  {
   "cell_type": "markdown",
   "metadata": {},
   "source": [
    "В целом признаке отмечен сильный дисбаланс классов.\n",
    "Дисбаланс классов объясняется спецификой задачи, так как снижение активности фиксируется для небольшого процента покупателей. Нельзя устранить такой дисбаланс, не нарушив закономерности данных. Его нужно будет учитывать во время подготовки данных и обучения модели"
   ]
  },
  {
   "cell_type": "markdown",
   "metadata": {},
   "source": [
    "### Качественные признаки"
   ]
  },
  {
   "cell_type": "code",
   "execution_count": 23,
   "metadata": {
    "scrolled": true
   },
   "outputs": [
    {
     "data": {
      "image/png": "[encoded data removed]",
      "text/plain": [
       "<Figure size 1080x360 with 3 Axes>"
      ]
     },
     "metadata": {},
     "output_type": "display_data"
    }
   ],
   "source": [
    "fig, axs = plt.subplots(1, len(cat_columns), figsize=(15, 5))\n",
    "for i, col in enumerate(cat_columns):\n",
    "    df_file.loc[df_file['Покупательская активность']==1][col].value_counts().plot(kind='pie',\n",
    "                              ax=axs[i],\n",
    "                              title = col, \n",
    "                              autopct='%1.1f%%')\n",
    "plt.show();"
   ]
  },
  {
   "cell_type": "code",
   "execution_count": 24,
   "metadata": {
    "scrolled": false
   },
   "outputs": [
    {
     "data": {
      "image/png": "[encoded data removed]",
      "text/plain": [
       "<Figure size 1080x360 with 3 Axes>"
      ]
     },
     "metadata": {},
     "output_type": "display_data"
    }
   ],
   "source": [
    "fig, axs = plt.subplots(1, len(cat_columns), figsize=(15, 5))\n",
    "for i, col in enumerate(cat_columns):\n",
    "    df_file.loc[df_file['Покупательская активность']==0][col].value_counts().plot(kind='pie',\n",
    "                              ax=axs[i],\n",
    "                              title = col, \n",
    "                              autopct='%1.1f%%')\n",
    "plt.show();"
   ]
  },
  {
   "cell_type": "markdown",
   "metadata": {},
   "source": [
    "Среди пользователей, у которых покупательская активность снизилась, меньше доля пользователей премиум сервиса, но больше для подписок на рассылку. Самая популярная категория у обоих групп Товары для детей. В целом для обоих групп пользователей, разделенных по целевому признаку, не наблюдается существенных различий в интересах по категориям товаров"
   ]
  },
  {
   "cell_type": "markdown",
   "metadata": {},
   "source": [
    "### Количественные признаки"
   ]
  },
  {
   "cell_type": "code",
   "execution_count": 25,
   "metadata": {
    "scrolled": false
   },
   "outputs": [
    {
     "data": {
      "image/png": "[encoded data removed]",
      "text/plain": [
       "<Figure size 432x288 with 1 Axes>"
      ]
     },
     "metadata": {
      "needs_background": "light"
     },
     "output_type": "display_data"
    },
    {
     "data": {
      "image/png": "[encoded data removed]",
      "text/plain": [
       "<Figure size 432x288 with 1 Axes>"
      ]
     },
     "metadata": {
      "needs_background": "light"
     },
     "output_type": "display_data"
    },
    {
     "data": {
      "image/png": "[encoded data removed]",
      "text/plain": [
       "<Figure size 432x288 with 1 Axes>"
      ]
     },
     "metadata": {
      "needs_background": "light"
     },
     "output_type": "display_data"
    },
    {
     "data": {
      "image/png": "[encoded data removed]",
      "text/plain": [
       "<Figure size 432x288 with 1 Axes>"
      ]
     },
     "metadata": {
      "needs_background": "light"
     },
     "output_type": "display_data"
    },
    {
     "data": {
      "image/png": "[encoded data removed]",
      "text/plain": [
       "<Figure size 432x288 with 1 Axes>"
      ]
     },
     "metadata": {
      "needs_background": "light"
     },
     "output_type": "display_data"
    },
    {
     "data": {
      "image/png": "[encoded data removed]",
      "text/plain": [
       "<Figure size 432x288 with 1 Axes>"
      ]
     },
     "metadata": {
      "needs_background": "light"
     },
     "output_type": "display_data"
    },
    {
     "data": {
      "image/png": "[encoded data removed]",
      "text/plain": [
       "<Figure size 432x288 with 1 Axes>"
      ]
     },
     "metadata": {
      "needs_background": "light"
     },
     "output_type": "display_data"
    },
    {
     "data": {
      "image/png": "[encoded data removed]",
      "text/plain": [
       "<Figure size 432x288 with 1 Axes>"
      ]
     },
     "metadata": {
      "needs_background": "light"
     },
     "output_type": "display_data"
    }
   ],
   "source": [
    "for col in num_columns:\n",
    "    df_file.loc[df_file['Покупательская активность']==0][col].plot(\n",
    "        kind='hist', bins= 15, title = col, edgecolor='black', alpha = 1)\n",
    "    df_file.loc[df_file['Покупательская активность']==1][col].plot(\n",
    "        kind='hist', bins= 15, title = col, edgecolor='black', alpha = 0.8)\n",
    "    labels= [\"0\",\"1\"]\n",
    "    plt.legend(labels)\n",
    "    plt.show();"
   ]
  },
  {
   "cell_type": "markdown",
   "metadata": {},
   "source": [
    "Анализ распределения количественных признаков показал, что пользователи, у которых снизилась активность: - просматривают меньше страниц при посещении сайта\n",
    "- чаще имеют дело с ошибками сервиса\n",
    "- имеют больше неоплаченных продуктов\n",
    "- просматривают за визит меньше категорий"
   ]
  },
  {
   "cell_type": "code",
   "execution_count": 26,
   "metadata": {},
   "outputs": [],
   "source": [
    "df_file['Акционные_покупки'] = df_file['Акционные_покупки'].apply(\n",
    "    lambda x: 1 if x>0.6 else 0)"
   ]
  },
  {
   "cell_type": "code",
   "execution_count": 27,
   "metadata": {
    "scrolled": false
   },
   "outputs": [
    {
     "data": {
      "image/png": "[encoded data removed]",
      "text/plain": [
       "<Figure size 432x288 with 1 Axes>"
      ]
     },
     "metadata": {
      "needs_background": "light"
     },
     "output_type": "display_data"
    }
   ],
   "source": [
    "df_market_money.boxplot(column='Выручка')\n",
    "plt.title('Выручка')\n",
    "plt.show()"
   ]
  },
  {
   "cell_type": "markdown",
   "metadata": {},
   "source": [
    "В данных о выручке явно присутсвуют выбросы. Удалим самое неправдоподобно большое знасчение в сравнении с остальными данными, и также выручка не может быть равна 0."
   ]
  },
  {
   "cell_type": "code",
   "execution_count": 28,
   "metadata": {},
   "outputs": [],
   "source": [
    "df_market_money = df_market_money.loc[\n",
    "    (df_market_money['Выручка'] < 20000) & (df_market_money['Выручка'] != 0)]"
   ]
  },
  {
   "cell_type": "code",
   "execution_count": 29,
   "metadata": {
    "scrolled": true
   },
   "outputs": [
    {
     "data": {
      "image/png": "[encoded data removed]",
      "text/plain": [
       "<Figure size 720x360 with 2 Axes>"
      ]
     },
     "metadata": {
      "needs_background": "light"
     },
     "output_type": "display_data"
    }
   ],
   "source": [
    "fig, axes = plt.subplots(nrows=1, ncols=2, figsize=(10,5))\n",
    "axes[0].hist(df_market_money['Выручка'], edgecolor='black')\n",
    "axes[1].boxplot(df_market_money['Выручка'])\n",
    "plt.title('Выручка');"
   ]
  },
  {
   "cell_type": "markdown",
   "metadata": {},
   "source": [
    "Значени выручки распределены нормально, но отмечается много выбросов за счет явного преобладания значений выручки близким к среднему."
   ]
  },
  {
   "cell_type": "code",
   "execution_count": 30,
   "metadata": {
    "scrolled": false
   },
   "outputs": [
    {
     "data": {
      "image/png": "[encoded data removed]",
      "text/plain": [
       "<Figure size 720x360 with 2 Axes>"
      ]
     },
     "metadata": {
      "needs_background": "light"
     },
     "output_type": "display_data"
    }
   ],
   "source": [
    "fig, axes = plt.subplots(nrows=1, ncols=2, figsize=(10,5))\n",
    "axes[0].hist(df_time['минут'], edgecolor='black')\n",
    "axes[1].boxplot(df_time['минут'])\n",
    "plt.title('минут');"
   ]
  },
  {
   "cell_type": "markdown",
   "metadata": {},
   "source": [
    "Данные о минутах проведенных на сайте распределены нормально, выбросы отсутсвуют"
   ]
  },
  {
   "cell_type": "code",
   "execution_count": 31,
   "metadata": {
    "scrolled": true
   },
   "outputs": [
    {
     "data": {
      "image/png": "[encoded data removed]",
      "text/plain": [
       "<Figure size 720x360 with 2 Axes>"
      ]
     },
     "metadata": {
      "needs_background": "light"
     },
     "output_type": "display_data"
    }
   ],
   "source": [
    "fig, axes = plt.subplots(nrows=1, ncols=2, figsize=(10,5))\n",
    "axes[0].hist(df_money['Прибыль'], edgecolor='black')\n",
    "axes[1].boxplot(df_money['Прибыль'])\n",
    "plt.title('Прибыль');"
   ]
  },
  {
   "cell_type": "markdown",
   "metadata": {},
   "source": [
    "Данные о прибыли проведенных на сайте распределены нормально, присутствует незначительное кол-во выбросов"
   ]
  },
  {
   "cell_type": "markdown",
   "metadata": {},
   "source": [
    "### Вывод\n",
    "\n",
    "В целом признаке Покупательская активность отмечен сильный дисбаланс классов.\n",
    "Дисбаланс классов объясняется спецификой задачи, так как снижение активности фиксируется для небольшого процента покупателей. Нельзя устранить такой дисбаланс, не нарушив закономерности данных. Его нужно будет учитывать во время подготовки данных и обучения модели.\n",
    "\n",
    "Среди пользователей, у которых покупательская активность снизилась, меньше доля пользователей премиум сервиса, но больше для подписок на рассылку. Самая популярная категория у обоих групп Товары для детей. В целом для обоих групп пользователей, разделенных по целевому признаку, не наблюдается существенных различий в интересах по категориям товаров\n",
    "\n",
    "Анализ распределения количественных признаков показал, что пользователи, у которых снизилась активность: - просматривают меньше страниц при посещении сайта\n",
    "- чаще имеют дело с ошибками сервиса\n",
    "- имеют больше неоплаченных продуктов\n",
    "- просматривают за визит меньше категорий\n",
    "\n",
    "После удаления одного максимального выброса, значения выручки описываются нормальным распределением, но отмечается все еще много выбросов за счет явного преобладания значений выручки близким к среднему.\n",
    "Данные о минутах проведенных на сайте распределены нормально, выбросы отсутсвуют\n",
    "Данные о прибыли проведенных на сайте распределены нормально, присутствует незначительное кол-во выбросов"
   ]
  },
  {
   "cell_type": "markdown",
   "metadata": {},
   "source": [
    "##  Объединение таблиц"
   ]
  },
  {
   "cell_type": "markdown",
   "metadata": {},
   "source": [
    "Отберем клиентов с покупательской активностью не менее трёх месяцев"
   ]
  },
  {
   "cell_type": "code",
   "execution_count": 32,
   "metadata": {
    "scrolled": false
   },
   "outputs": [
    {
     "data": {
      "text/html": [
       "<div>\n",
       "<style scoped>\n",
       "    .dataframe tbody tr th:only-of-type {\n",
       "        vertical-align: middle;\n",
       "    }\n",
       "\n",
       "    .dataframe tbody tr th {\n",
       "        vertical-align: top;\n",
       "    }\n",
       "\n",
       "    .dataframe thead th {\n",
       "        text-align: right;\n",
       "    }\n",
       "</style>\n",
       "<table border=\"1\" class=\"dataframe\">\n",
       "  <thead>\n",
       "    <tr style=\"text-align: right;\">\n",
       "      <th></th>\n",
       "      <th>выручка_предыдущий_месяц</th>\n",
       "      <th>выручка_препредыдущий_месяц</th>\n",
       "      <th>выручка_текущий_месяц</th>\n",
       "    </tr>\n",
       "    <tr>\n",
       "      <th>id</th>\n",
       "      <th></th>\n",
       "      <th></th>\n",
       "      <th></th>\n",
       "    </tr>\n",
       "  </thead>\n",
       "  <tbody>\n",
       "    <tr>\n",
       "      <th>215348</th>\n",
       "      <td>NaN</td>\n",
       "      <td>NaN</td>\n",
       "      <td>3293.1</td>\n",
       "    </tr>\n",
       "    <tr>\n",
       "      <th>215349</th>\n",
       "      <td>5216.0</td>\n",
       "      <td>4472.0</td>\n",
       "      <td>4971.6</td>\n",
       "    </tr>\n",
       "    <tr>\n",
       "      <th>215350</th>\n",
       "      <td>5457.5</td>\n",
       "      <td>4826.0</td>\n",
       "      <td>5058.4</td>\n",
       "    </tr>\n",
       "    <tr>\n",
       "      <th>215351</th>\n",
       "      <td>6158.0</td>\n",
       "      <td>4793.0</td>\n",
       "      <td>6610.4</td>\n",
       "    </tr>\n",
       "    <tr>\n",
       "      <th>215352</th>\n",
       "      <td>5807.5</td>\n",
       "      <td>4594.0</td>\n",
       "      <td>5872.5</td>\n",
       "    </tr>\n",
       "    <tr>\n",
       "      <th>215353</th>\n",
       "      <td>4738.5</td>\n",
       "      <td>5124.0</td>\n",
       "      <td>5388.5</td>\n",
       "    </tr>\n",
       "    <tr>\n",
       "      <th>215354</th>\n",
       "      <td>5685.0</td>\n",
       "      <td>4503.0</td>\n",
       "      <td>5869.6</td>\n",
       "    </tr>\n",
       "    <tr>\n",
       "      <th>215355</th>\n",
       "      <td>3263.0</td>\n",
       "      <td>4749.0</td>\n",
       "      <td>3772.6</td>\n",
       "    </tr>\n",
       "    <tr>\n",
       "      <th>215356</th>\n",
       "      <td>4146.5</td>\n",
       "      <td>4433.0</td>\n",
       "      <td>4566.4</td>\n",
       "    </tr>\n",
       "    <tr>\n",
       "      <th>215357</th>\n",
       "      <td>NaN</td>\n",
       "      <td>NaN</td>\n",
       "      <td>5986.3</td>\n",
       "    </tr>\n",
       "  </tbody>\n",
       "</table>\n",
       "</div>"
      ],
      "text/plain": [
       "        выручка_предыдущий_месяц  выручка_препредыдущий_месяц  \\\n",
       "id                                                              \n",
       "215348                       NaN                          NaN   \n",
       "215349                    5216.0                       4472.0   \n",
       "215350                    5457.5                       4826.0   \n",
       "215351                    6158.0                       4793.0   \n",
       "215352                    5807.5                       4594.0   \n",
       "215353                    4738.5                       5124.0   \n",
       "215354                    5685.0                       4503.0   \n",
       "215355                    3263.0                       4749.0   \n",
       "215356                    4146.5                       4433.0   \n",
       "215357                       NaN                          NaN   \n",
       "\n",
       "        выручка_текущий_месяц  \n",
       "id                             \n",
       "215348                 3293.1  \n",
       "215349                 4971.6  \n",
       "215350                 5058.4  \n",
       "215351                 6610.4  \n",
       "215352                 5872.5  \n",
       "215353                 5388.5  \n",
       "215354                 5869.6  \n",
       "215355                 3772.6  \n",
       "215356                 4566.4  \n",
       "215357                 5986.3  "
      ]
     },
     "execution_count": 32,
     "metadata": {},
     "output_type": "execute_result"
    }
   ],
   "source": [
    "df_mm = pd.pivot_table(df_market_money, index='id', columns='Период', values='Выручка')\n",
    "df_mm.columns = ['выручка_предыдущий_месяц', 'выручка_препредыдущий_месяц', 'выручка_текущий_месяц']\n",
    "for col in df_mm.columns:\n",
    "    df_mm = df_mm.loc[df_mm[col] != 0]\n",
    "df_mm.head(10)"
   ]
  },
  {
   "cell_type": "code",
   "execution_count": 33,
   "metadata": {},
   "outputs": [
    {
     "data": {
      "text/html": [
       "<div>\n",
       "<style scoped>\n",
       "    .dataframe tbody tr th:only-of-type {\n",
       "        vertical-align: middle;\n",
       "    }\n",
       "\n",
       "    .dataframe tbody tr th {\n",
       "        vertical-align: top;\n",
       "    }\n",
       "\n",
       "    .dataframe thead th {\n",
       "        text-align: right;\n",
       "    }\n",
       "</style>\n",
       "<table border=\"1\" class=\"dataframe\">\n",
       "  <thead>\n",
       "    <tr style=\"text-align: right;\">\n",
       "      <th></th>\n",
       "      <th>минут_предыдущий_месяц</th>\n",
       "      <th>минут_текущий_месяц</th>\n",
       "    </tr>\n",
       "    <tr>\n",
       "      <th>id</th>\n",
       "      <th></th>\n",
       "      <th></th>\n",
       "    </tr>\n",
       "  </thead>\n",
       "  <tbody>\n",
       "    <tr>\n",
       "      <th>215348</th>\n",
       "      <td>13</td>\n",
       "      <td>14</td>\n",
       "    </tr>\n",
       "    <tr>\n",
       "      <th>215349</th>\n",
       "      <td>12</td>\n",
       "      <td>10</td>\n",
       "    </tr>\n",
       "    <tr>\n",
       "      <th>215350</th>\n",
       "      <td>8</td>\n",
       "      <td>13</td>\n",
       "    </tr>\n",
       "    <tr>\n",
       "      <th>215351</th>\n",
       "      <td>11</td>\n",
       "      <td>13</td>\n",
       "    </tr>\n",
       "    <tr>\n",
       "      <th>215352</th>\n",
       "      <td>8</td>\n",
       "      <td>11</td>\n",
       "    </tr>\n",
       "    <tr>\n",
       "      <th>...</th>\n",
       "      <td>...</td>\n",
       "      <td>...</td>\n",
       "    </tr>\n",
       "    <tr>\n",
       "      <th>216643</th>\n",
       "      <td>14</td>\n",
       "      <td>7</td>\n",
       "    </tr>\n",
       "    <tr>\n",
       "      <th>216644</th>\n",
       "      <td>12</td>\n",
       "      <td>11</td>\n",
       "    </tr>\n",
       "    <tr>\n",
       "      <th>216645</th>\n",
       "      <td>12</td>\n",
       "      <td>18</td>\n",
       "    </tr>\n",
       "    <tr>\n",
       "      <th>216646</th>\n",
       "      <td>18</td>\n",
       "      <td>7</td>\n",
       "    </tr>\n",
       "    <tr>\n",
       "      <th>216647</th>\n",
       "      <td>15</td>\n",
       "      <td>10</td>\n",
       "    </tr>\n",
       "  </tbody>\n",
       "</table>\n",
       "<p>1300 rows × 2 columns</p>\n",
       "</div>"
      ],
      "text/plain": [
       "        минут_предыдущий_месяц  минут_текущий_месяц\n",
       "id                                                 \n",
       "215348                      13                   14\n",
       "215349                      12                   10\n",
       "215350                       8                   13\n",
       "215351                      11                   13\n",
       "215352                       8                   11\n",
       "...                        ...                  ...\n",
       "216643                      14                    7\n",
       "216644                      12                   11\n",
       "216645                      12                   18\n",
       "216646                      18                    7\n",
       "216647                      15                   10\n",
       "\n",
       "[1300 rows x 2 columns]"
      ]
     },
     "execution_count": 33,
     "metadata": {},
     "output_type": "execute_result"
    }
   ],
   "source": [
    "df_t = pd.pivot_table(df_time, index='id', columns='Период', values='минут')\n",
    "df_t.columns = ['минут_предыдущий_месяц', 'минут_текущий_месяц']\n",
    "df_t"
   ]
  },
  {
   "cell_type": "code",
   "execution_count": 34,
   "metadata": {
    "scrolled": true
   },
   "outputs": [
    {
     "data": {
      "text/html": [
       "<div>\n",
       "<style scoped>\n",
       "    .dataframe tbody tr th:only-of-type {\n",
       "        vertical-align: middle;\n",
       "    }\n",
       "\n",
       "    .dataframe tbody tr th {\n",
       "        vertical-align: top;\n",
       "    }\n",
       "\n",
       "    .dataframe thead th {\n",
       "        text-align: right;\n",
       "    }\n",
       "</style>\n",
       "<table border=\"1\" class=\"dataframe\">\n",
       "  <thead>\n",
       "    <tr style=\"text-align: right;\">\n",
       "      <th></th>\n",
       "      <th>Покупательская активность</th>\n",
       "      <th>Тип сервиса</th>\n",
       "      <th>Разрешить сообщать</th>\n",
       "      <th>Маркет_актив_6_мес</th>\n",
       "      <th>Маркет_актив_тек_мес</th>\n",
       "      <th>Длительность</th>\n",
       "      <th>Акционные_покупки</th>\n",
       "      <th>Популярная_категория</th>\n",
       "      <th>Средний_просмотр_категорий_за_визит</th>\n",
       "      <th>Неоплаченные_продукты_штук_квартал</th>\n",
       "      <th>Ошибка_сервиса</th>\n",
       "      <th>Страниц_за_визит</th>\n",
       "      <th>выручка_предыдущий_месяц</th>\n",
       "      <th>выручка_препредыдущий_месяц</th>\n",
       "      <th>выручка_текущий_месяц</th>\n",
       "      <th>минут_предыдущий_месяц</th>\n",
       "      <th>минут_текущий_месяц</th>\n",
       "      <th>Прибыль</th>\n",
       "    </tr>\n",
       "    <tr>\n",
       "      <th>id</th>\n",
       "      <th></th>\n",
       "      <th></th>\n",
       "      <th></th>\n",
       "      <th></th>\n",
       "      <th></th>\n",
       "      <th></th>\n",
       "      <th></th>\n",
       "      <th></th>\n",
       "      <th></th>\n",
       "      <th></th>\n",
       "      <th></th>\n",
       "      <th></th>\n",
       "      <th></th>\n",
       "      <th></th>\n",
       "      <th></th>\n",
       "      <th></th>\n",
       "      <th></th>\n",
       "      <th></th>\n",
       "    </tr>\n",
       "  </thead>\n",
       "  <tbody>\n",
       "    <tr>\n",
       "      <th>215348</th>\n",
       "      <td>1</td>\n",
       "      <td>премиум</td>\n",
       "      <td>да</td>\n",
       "      <td>3.4</td>\n",
       "      <td>5</td>\n",
       "      <td>121</td>\n",
       "      <td>0</td>\n",
       "      <td>Товары для детей</td>\n",
       "      <td>6</td>\n",
       "      <td>2</td>\n",
       "      <td>1</td>\n",
       "      <td>5</td>\n",
       "      <td>NaN</td>\n",
       "      <td>NaN</td>\n",
       "      <td>3293.1</td>\n",
       "      <td>13</td>\n",
       "      <td>14</td>\n",
       "      <td>0.98</td>\n",
       "    </tr>\n",
       "    <tr>\n",
       "      <th>215349</th>\n",
       "      <td>1</td>\n",
       "      <td>премиум</td>\n",
       "      <td>да</td>\n",
       "      <td>4.4</td>\n",
       "      <td>4</td>\n",
       "      <td>819</td>\n",
       "      <td>1</td>\n",
       "      <td>Товары для детей</td>\n",
       "      <td>4</td>\n",
       "      <td>4</td>\n",
       "      <td>2</td>\n",
       "      <td>5</td>\n",
       "      <td>5216.0</td>\n",
       "      <td>4472.0</td>\n",
       "      <td>4971.6</td>\n",
       "      <td>12</td>\n",
       "      <td>10</td>\n",
       "      <td>4.16</td>\n",
       "    </tr>\n",
       "    <tr>\n",
       "      <th>215350</th>\n",
       "      <td>1</td>\n",
       "      <td>стандарт</td>\n",
       "      <td>нет</td>\n",
       "      <td>4.9</td>\n",
       "      <td>3</td>\n",
       "      <td>539</td>\n",
       "      <td>0</td>\n",
       "      <td>Домашний текстиль</td>\n",
       "      <td>5</td>\n",
       "      <td>2</td>\n",
       "      <td>1</td>\n",
       "      <td>5</td>\n",
       "      <td>5457.5</td>\n",
       "      <td>4826.0</td>\n",
       "      <td>5058.4</td>\n",
       "      <td>8</td>\n",
       "      <td>13</td>\n",
       "      <td>3.13</td>\n",
       "    </tr>\n",
       "    <tr>\n",
       "      <th>215351</th>\n",
       "      <td>1</td>\n",
       "      <td>стандарт</td>\n",
       "      <td>да</td>\n",
       "      <td>3.2</td>\n",
       "      <td>5</td>\n",
       "      <td>896</td>\n",
       "      <td>1</td>\n",
       "      <td>Товары для детей</td>\n",
       "      <td>5</td>\n",
       "      <td>0</td>\n",
       "      <td>6</td>\n",
       "      <td>4</td>\n",
       "      <td>6158.0</td>\n",
       "      <td>4793.0</td>\n",
       "      <td>6610.4</td>\n",
       "      <td>11</td>\n",
       "      <td>13</td>\n",
       "      <td>4.87</td>\n",
       "    </tr>\n",
       "    <tr>\n",
       "      <th>215352</th>\n",
       "      <td>1</td>\n",
       "      <td>стандарт</td>\n",
       "      <td>нет</td>\n",
       "      <td>5.1</td>\n",
       "      <td>3</td>\n",
       "      <td>1064</td>\n",
       "      <td>1</td>\n",
       "      <td>Товары для детей</td>\n",
       "      <td>3</td>\n",
       "      <td>2</td>\n",
       "      <td>3</td>\n",
       "      <td>2</td>\n",
       "      <td>5807.5</td>\n",
       "      <td>4594.0</td>\n",
       "      <td>5872.5</td>\n",
       "      <td>8</td>\n",
       "      <td>11</td>\n",
       "      <td>4.21</td>\n",
       "    </tr>\n",
       "    <tr>\n",
       "      <th>...</th>\n",
       "      <td>...</td>\n",
       "      <td>...</td>\n",
       "      <td>...</td>\n",
       "      <td>...</td>\n",
       "      <td>...</td>\n",
       "      <td>...</td>\n",
       "      <td>...</td>\n",
       "      <td>...</td>\n",
       "      <td>...</td>\n",
       "      <td>...</td>\n",
       "      <td>...</td>\n",
       "      <td>...</td>\n",
       "      <td>...</td>\n",
       "      <td>...</td>\n",
       "      <td>...</td>\n",
       "      <td>...</td>\n",
       "      <td>...</td>\n",
       "      <td>...</td>\n",
       "    </tr>\n",
       "    <tr>\n",
       "      <th>216643</th>\n",
       "      <td>0</td>\n",
       "      <td>стандарт</td>\n",
       "      <td>да</td>\n",
       "      <td>6.6</td>\n",
       "      <td>3</td>\n",
       "      <td>318</td>\n",
       "      <td>0</td>\n",
       "      <td>Техника для красоты и здоровья</td>\n",
       "      <td>5</td>\n",
       "      <td>3</td>\n",
       "      <td>3</td>\n",
       "      <td>11</td>\n",
       "      <td>3664.0</td>\n",
       "      <td>4704.0</td>\n",
       "      <td>4741.7</td>\n",
       "      <td>14</td>\n",
       "      <td>7</td>\n",
       "      <td>4.44</td>\n",
       "    </tr>\n",
       "    <tr>\n",
       "      <th>216644</th>\n",
       "      <td>0</td>\n",
       "      <td>стандарт</td>\n",
       "      <td>нет</td>\n",
       "      <td>5.1</td>\n",
       "      <td>4</td>\n",
       "      <td>454</td>\n",
       "      <td>0</td>\n",
       "      <td>Домашний текстиль</td>\n",
       "      <td>6</td>\n",
       "      <td>2</td>\n",
       "      <td>3</td>\n",
       "      <td>9</td>\n",
       "      <td>4729.0</td>\n",
       "      <td>5299.0</td>\n",
       "      <td>5353.0</td>\n",
       "      <td>12</td>\n",
       "      <td>11</td>\n",
       "      <td>6.11</td>\n",
       "    </tr>\n",
       "    <tr>\n",
       "      <th>216645</th>\n",
       "      <td>0</td>\n",
       "      <td>стандарт</td>\n",
       "      <td>да</td>\n",
       "      <td>4.1</td>\n",
       "      <td>3</td>\n",
       "      <td>586</td>\n",
       "      <td>0</td>\n",
       "      <td>Домашний текстиль</td>\n",
       "      <td>3</td>\n",
       "      <td>2</td>\n",
       "      <td>5</td>\n",
       "      <td>7</td>\n",
       "      <td>5160.0</td>\n",
       "      <td>5334.0</td>\n",
       "      <td>5139.2</td>\n",
       "      <td>12</td>\n",
       "      <td>18</td>\n",
       "      <td>3.29</td>\n",
       "    </tr>\n",
       "    <tr>\n",
       "      <th>216646</th>\n",
       "      <td>0</td>\n",
       "      <td>стандарт</td>\n",
       "      <td>да</td>\n",
       "      <td>6.3</td>\n",
       "      <td>5</td>\n",
       "      <td>645</td>\n",
       "      <td>0</td>\n",
       "      <td>Техника для красоты и здоровья</td>\n",
       "      <td>3</td>\n",
       "      <td>3</td>\n",
       "      <td>5</td>\n",
       "      <td>7</td>\n",
       "      <td>4923.0</td>\n",
       "      <td>4725.0</td>\n",
       "      <td>5224.6</td>\n",
       "      <td>18</td>\n",
       "      <td>7</td>\n",
       "      <td>4.03</td>\n",
       "    </tr>\n",
       "    <tr>\n",
       "      <th>216647</th>\n",
       "      <td>0</td>\n",
       "      <td>премиум</td>\n",
       "      <td>да</td>\n",
       "      <td>4.0</td>\n",
       "      <td>5</td>\n",
       "      <td>906</td>\n",
       "      <td>1</td>\n",
       "      <td>Техника для красоты и здоровья</td>\n",
       "      <td>4</td>\n",
       "      <td>5</td>\n",
       "      <td>3</td>\n",
       "      <td>12</td>\n",
       "      <td>4720.0</td>\n",
       "      <td>5183.0</td>\n",
       "      <td>4448.3</td>\n",
       "      <td>15</td>\n",
       "      <td>10</td>\n",
       "      <td>3.28</td>\n",
       "    </tr>\n",
       "  </tbody>\n",
       "</table>\n",
       "<p>1289 rows × 18 columns</p>\n",
       "</div>"
      ],
      "text/plain": [
       "        Покупательская активность Тип сервиса Разрешить сообщать  \\\n",
       "id                                                                 \n",
       "215348                          1     премиум                 да   \n",
       "215349                          1     премиум                 да   \n",
       "215350                          1    стандарт                нет   \n",
       "215351                          1    стандарт                 да   \n",
       "215352                          1    стандарт                нет   \n",
       "...                           ...         ...                ...   \n",
       "216643                          0    стандарт                 да   \n",
       "216644                          0    стандарт                нет   \n",
       "216645                          0    стандарт                 да   \n",
       "216646                          0    стандарт                 да   \n",
       "216647                          0     премиум                 да   \n",
       "\n",
       "        Маркет_актив_6_мес  Маркет_актив_тек_мес  Длительность  \\\n",
       "id                                                               \n",
       "215348                 3.4                     5           121   \n",
       "215349                 4.4                     4           819   \n",
       "215350                 4.9                     3           539   \n",
       "215351                 3.2                     5           896   \n",
       "215352                 5.1                     3          1064   \n",
       "...                    ...                   ...           ...   \n",
       "216643                 6.6                     3           318   \n",
       "216644                 5.1                     4           454   \n",
       "216645                 4.1                     3           586   \n",
       "216646                 6.3                     5           645   \n",
       "216647                 4.0                     5           906   \n",
       "\n",
       "        Акционные_покупки            Популярная_категория  \\\n",
       "id                                                          \n",
       "215348                  0                Товары для детей   \n",
       "215349                  1                Товары для детей   \n",
       "215350                  0               Домашний текстиль   \n",
       "215351                  1                Товары для детей   \n",
       "215352                  1                Товары для детей   \n",
       "...                   ...                             ...   \n",
       "216643                  0  Техника для красоты и здоровья   \n",
       "216644                  0               Домашний текстиль   \n",
       "216645                  0               Домашний текстиль   \n",
       "216646                  0  Техника для красоты и здоровья   \n",
       "216647                  1  Техника для красоты и здоровья   \n",
       "\n",
       "        Средний_просмотр_категорий_за_визит  \\\n",
       "id                                            \n",
       "215348                                    6   \n",
       "215349                                    4   \n",
       "215350                                    5   \n",
       "215351                                    5   \n",
       "215352                                    3   \n",
       "...                                     ...   \n",
       "216643                                    5   \n",
       "216644                                    6   \n",
       "216645                                    3   \n",
       "216646                                    3   \n",
       "216647                                    4   \n",
       "\n",
       "        Неоплаченные_продукты_штук_квартал  Ошибка_сервиса  Страниц_за_визит  \\\n",
       "id                                                                             \n",
       "215348                                   2               1                 5   \n",
       "215349                                   4               2                 5   \n",
       "215350                                   2               1                 5   \n",
       "215351                                   0               6                 4   \n",
       "215352                                   2               3                 2   \n",
       "...                                    ...             ...               ...   \n",
       "216643                                   3               3                11   \n",
       "216644                                   2               3                 9   \n",
       "216645                                   2               5                 7   \n",
       "216646                                   3               5                 7   \n",
       "216647                                   5               3                12   \n",
       "\n",
       "        выручка_предыдущий_месяц  выручка_препредыдущий_месяц  \\\n",
       "id                                                              \n",
       "215348                       NaN                          NaN   \n",
       "215349                    5216.0                       4472.0   \n",
       "215350                    5457.5                       4826.0   \n",
       "215351                    6158.0                       4793.0   \n",
       "215352                    5807.5                       4594.0   \n",
       "...                          ...                          ...   \n",
       "216643                    3664.0                       4704.0   \n",
       "216644                    4729.0                       5299.0   \n",
       "216645                    5160.0                       5334.0   \n",
       "216646                    4923.0                       4725.0   \n",
       "216647                    4720.0                       5183.0   \n",
       "\n",
       "        выручка_текущий_месяц  минут_предыдущий_месяц  минут_текущий_месяц  \\\n",
       "id                                                                           \n",
       "215348                 3293.1                      13                   14   \n",
       "215349                 4971.6                      12                   10   \n",
       "215350                 5058.4                       8                   13   \n",
       "215351                 6610.4                      11                   13   \n",
       "215352                 5872.5                       8                   11   \n",
       "...                       ...                     ...                  ...   \n",
       "216643                 4741.7                      14                    7   \n",
       "216644                 5353.0                      12                   11   \n",
       "216645                 5139.2                      12                   18   \n",
       "216646                 5224.6                      18                    7   \n",
       "216647                 4448.3                      15                   10   \n",
       "\n",
       "        Прибыль  \n",
       "id               \n",
       "215348     0.98  \n",
       "215349     4.16  \n",
       "215350     3.13  \n",
       "215351     4.87  \n",
       "215352     4.21  \n",
       "...         ...  \n",
       "216643     4.44  \n",
       "216644     6.11  \n",
       "216645     3.29  \n",
       "216646     4.03  \n",
       "216647     3.28  \n",
       "\n",
       "[1289 rows x 18 columns]"
      ]
     },
     "execution_count": 34,
     "metadata": {},
     "output_type": "execute_result"
    }
   ],
   "source": [
    "df_full=df_file.join(df_mm, how='left')\n",
    "df_full=df_full.join(df_t, how='left')\n",
    "df_full=df_full.join(df_money, how='left')\n",
    "df_full"
   ]
  },
  {
   "cell_type": "code",
   "execution_count": 35,
   "metadata": {
    "scrolled": true
   },
   "outputs": [
    {
     "data": {
      "text/html": [
       "<style  type=\"text/css\" >\n",
       "#T_2598f_row0_col0,#T_2598f_row1_col0,#T_2598f_row2_col0,#T_2598f_row3_col0,#T_2598f_row4_col0,#T_2598f_row5_col0,#T_2598f_row6_col0,#T_2598f_row7_col0,#T_2598f_row8_col0,#T_2598f_row9_col0,#T_2598f_row10_col0,#T_2598f_row11_col0,#T_2598f_row15_col0,#T_2598f_row16_col0,#T_2598f_row17_col0{\n",
       "            background-color:  #3b4cc0;\n",
       "            color:  #f1f1f1;\n",
       "        }#T_2598f_row12_col0,#T_2598f_row13_col0{\n",
       "            background-color:  #b40426;\n",
       "            color:  #f1f1f1;\n",
       "        }#T_2598f_row14_col0{\n",
       "            background-color:  #aac7fd;\n",
       "            color:  #000000;\n",
       "        }</style><table id=\"T_2598f_\" ><thead>    <tr>        <th class=\"blank level0\" ></th>        <th class=\"col_heading level0 col0\" >0</th>    </tr></thead><tbody>\n",
       "                <tr>\n",
       "                        <th id=\"T_2598f_level0_row0\" class=\"row_heading level0 row0\" >Покупательская активность</th>\n",
       "                        <td id=\"T_2598f_row0_col0\" class=\"data row0 col0\" >0.000000</td>\n",
       "            </tr>\n",
       "            <tr>\n",
       "                        <th id=\"T_2598f_level0_row1\" class=\"row_heading level0 row1\" >Тип сервиса</th>\n",
       "                        <td id=\"T_2598f_row1_col0\" class=\"data row1 col0\" >0.000000</td>\n",
       "            </tr>\n",
       "            <tr>\n",
       "                        <th id=\"T_2598f_level0_row2\" class=\"row_heading level0 row2\" >Разрешить сообщать</th>\n",
       "                        <td id=\"T_2598f_row2_col0\" class=\"data row2 col0\" >0.000000</td>\n",
       "            </tr>\n",
       "            <tr>\n",
       "                        <th id=\"T_2598f_level0_row3\" class=\"row_heading level0 row3\" >Маркет_актив_6_мес</th>\n",
       "                        <td id=\"T_2598f_row3_col0\" class=\"data row3 col0\" >0.000000</td>\n",
       "            </tr>\n",
       "            <tr>\n",
       "                        <th id=\"T_2598f_level0_row4\" class=\"row_heading level0 row4\" >Маркет_актив_тек_мес</th>\n",
       "                        <td id=\"T_2598f_row4_col0\" class=\"data row4 col0\" >0.000000</td>\n",
       "            </tr>\n",
       "            <tr>\n",
       "                        <th id=\"T_2598f_level0_row5\" class=\"row_heading level0 row5\" >Длительность</th>\n",
       "                        <td id=\"T_2598f_row5_col0\" class=\"data row5 col0\" >0.000000</td>\n",
       "            </tr>\n",
       "            <tr>\n",
       "                        <th id=\"T_2598f_level0_row6\" class=\"row_heading level0 row6\" >Акционные_покупки</th>\n",
       "                        <td id=\"T_2598f_row6_col0\" class=\"data row6 col0\" >0.000000</td>\n",
       "            </tr>\n",
       "            <tr>\n",
       "                        <th id=\"T_2598f_level0_row7\" class=\"row_heading level0 row7\" >Популярная_категория</th>\n",
       "                        <td id=\"T_2598f_row7_col0\" class=\"data row7 col0\" >0.000000</td>\n",
       "            </tr>\n",
       "            <tr>\n",
       "                        <th id=\"T_2598f_level0_row8\" class=\"row_heading level0 row8\" >Средний_просмотр_категорий_за_визит</th>\n",
       "                        <td id=\"T_2598f_row8_col0\" class=\"data row8 col0\" >0.000000</td>\n",
       "            </tr>\n",
       "            <tr>\n",
       "                        <th id=\"T_2598f_level0_row9\" class=\"row_heading level0 row9\" >Неоплаченные_продукты_штук_квартал</th>\n",
       "                        <td id=\"T_2598f_row9_col0\" class=\"data row9 col0\" >0.000000</td>\n",
       "            </tr>\n",
       "            <tr>\n",
       "                        <th id=\"T_2598f_level0_row10\" class=\"row_heading level0 row10\" >Ошибка_сервиса</th>\n",
       "                        <td id=\"T_2598f_row10_col0\" class=\"data row10 col0\" >0.000000</td>\n",
       "            </tr>\n",
       "            <tr>\n",
       "                        <th id=\"T_2598f_level0_row11\" class=\"row_heading level0 row11\" >Страниц_за_визит</th>\n",
       "                        <td id=\"T_2598f_row11_col0\" class=\"data row11 col0\" >0.000000</td>\n",
       "            </tr>\n",
       "            <tr>\n",
       "                        <th id=\"T_2598f_level0_row12\" class=\"row_heading level0 row12\" >выручка_предыдущий_месяц</th>\n",
       "                        <td id=\"T_2598f_row12_col0\" class=\"data row12 col0\" >0.232739</td>\n",
       "            </tr>\n",
       "            <tr>\n",
       "                        <th id=\"T_2598f_level0_row13\" class=\"row_heading level0 row13\" >выручка_препредыдущий_месяц</th>\n",
       "                        <td id=\"T_2598f_row13_col0\" class=\"data row13 col0\" >0.232739</td>\n",
       "            </tr>\n",
       "            <tr>\n",
       "                        <th id=\"T_2598f_level0_row14\" class=\"row_heading level0 row14\" >выручка_текущий_месяц</th>\n",
       "                        <td id=\"T_2598f_row14_col0\" class=\"data row14 col0\" >0.077580</td>\n",
       "            </tr>\n",
       "            <tr>\n",
       "                        <th id=\"T_2598f_level0_row15\" class=\"row_heading level0 row15\" >минут_предыдущий_месяц</th>\n",
       "                        <td id=\"T_2598f_row15_col0\" class=\"data row15 col0\" >0.000000</td>\n",
       "            </tr>\n",
       "            <tr>\n",
       "                        <th id=\"T_2598f_level0_row16\" class=\"row_heading level0 row16\" >минут_текущий_месяц</th>\n",
       "                        <td id=\"T_2598f_row16_col0\" class=\"data row16 col0\" >0.000000</td>\n",
       "            </tr>\n",
       "            <tr>\n",
       "                        <th id=\"T_2598f_level0_row17\" class=\"row_heading level0 row17\" >Прибыль</th>\n",
       "                        <td id=\"T_2598f_row17_col0\" class=\"data row17 col0\" >0.000000</td>\n",
       "            </tr>\n",
       "    </tbody></table>"
      ],
      "text/plain": [
       "<pandas.io.formats.style.Styler at 0x7fd56d851b80>"
      ]
     },
     "execution_count": 35,
     "metadata": {},
     "output_type": "execute_result"
    }
   ],
   "source": [
    "pd.DataFrame(df_full.isna().mean()*100).style.background_gradient('coolwarm')"
   ]
  },
  {
   "cell_type": "code",
   "execution_count": 36,
   "metadata": {},
   "outputs": [],
   "source": [
    "df_full=df_full.dropna()"
   ]
  },
  {
   "cell_type": "markdown",
   "metadata": {},
   "source": [
    "## Корреляционный анализ"
   ]
  },
  {
   "cell_type": "code",
   "execution_count": 37,
   "metadata": {},
   "outputs": [
    {
     "data": {
      "image/png": "[encoded data removed]",
      "text/plain": [
       "<Figure size 720x576 with 2 Axes>"
      ]
     },
     "metadata": {
      "needs_background": "light"
     },
     "output_type": "display_data"
    }
   ],
   "source": [
    "plt.figure(figsize=(10,8))\n",
    "sns.heatmap(df_full.corr(), annot=True, cmap='PiYG', fmt=\".1f\")\n",
    "plt.show()"
   ]
  },
  {
   "cell_type": "markdown",
   "metadata": {},
   "source": [
    "Мультиколлинеарность признаков отсутствует. Наиболее высокая корреляция признаков наблюдается между выручкой в текущем и прошлом месяце. \n",
    "Самый высокий коэффциент корреляции с целевым признаком у признака Страниц за визит"
   ]
  },
  {
   "cell_type": "markdown",
   "metadata": {},
   "source": [
    "## Подготовка к моделированию"
   ]
  },
  {
   "cell_type": "code",
   "execution_count": 38,
   "metadata": {},
   "outputs": [],
   "source": [
    "X_train, X_test, y_train, y_test = train_test_split(\n",
    "    df_full.drop(['Покупательская активность'], axis=1),\n",
    "    df_full['Покупательская активность'],\n",
    "    test_size = 0.25, \n",
    "    random_state = RANDOM_STATE,\n",
    "    stratify = df_full['Покупательская активность'])\n",
    "\n",
    "\n",
    "X_train.shape, X_test.shape\n",
    "\n",
    "\n",
    "ohe_columns = ['Популярная_категория']\n",
    "ord_columns = ['Тип сервиса', 'Разрешить сообщать']\n",
    "num_columns = num_columns+['выручка_текущий_месяц',\n",
    "                            'минут_текущий_месяц', 'выручка_предыдущий_месяц',\n",
    "                            'минут_предыдущий_месяц', 'выручка_препредыдущий_месяц'\n",
    "                           ]"
   ]
  },
  {
   "cell_type": "code",
   "execution_count": 39,
   "metadata": {},
   "outputs": [],
   "source": [
    "# создаём пайплайн для подготовки признаков из списка ohe_columns: заполнение пропусков и OHE-кодирование\n",
    "# SimpleImputer + OHE\n",
    "ohe_pipe = Pipeline(\n",
    "    [('simpleImputer_ohe', SimpleImputer(missing_values=np.nan, strategy='most_frequent')),\n",
    "     ('ohe', OneHotEncoder(drop='first', handle_unknown='error', sparse=False))\n",
    "    ]\n",
    "    )"
   ]
  },
  {
   "cell_type": "code",
   "execution_count": 40,
   "metadata": {},
   "outputs": [],
   "source": [
    "# создаём пайплайн для подготовки признаков из списка ord_columns: заполнение пропусков и Ordinal-кодирование\n",
    "# SimpleImputer + OE\n",
    "ord_pipe = Pipeline(\n",
    "    [('simpleImputer_before_ord', SimpleImputer(missing_values=np.nan, strategy='most_frequent')),\n",
    "     ('ord',  OrdinalEncoder(\n",
    "                categories=[\n",
    "                    ['премиум', 'стандарт'],\n",
    "                    ['да', 'нет'],\n",
    "                ], \n",
    "                handle_unknown='use_encoded_value', unknown_value=np.nan\n",
    "            )\n",
    "        ),\n",
    "     ('simpleImputer_after_ord', SimpleImputer(missing_values=np.nan, strategy='most_frequent'))\n",
    "    ]\n",
    ")"
   ]
  },
  {
   "cell_type": "code",
   "execution_count": 41,
   "metadata": {},
   "outputs": [],
   "source": [
    "# создаём общий пайплайн для подготовки данных\n",
    "data_preprocessor = ColumnTransformer(\n",
    "    [('ohe', ohe_pipe, ohe_columns),\n",
    "     ('ord', ord_pipe, ord_columns),\n",
    "     ('num', StandardScaler(), num_columns)\n",
    "    ], \n",
    "    remainder='passthrough'\n",
    ")\n",
    "\n",
    "# создаём итоговый пайплайн: подготовка данных и модель\n",
    "pipe_final = Pipeline([\n",
    "    ('preprocessor', data_preprocessor),\n",
    "    ('models', DecisionTreeClassifier(random_state=RANDOM_STATE))\n",
    "])\n"
   ]
  },
  {
   "cell_type": "code",
   "execution_count": 42,
   "metadata": {},
   "outputs": [],
   "source": [
    "param_grid = [\n",
    "    # словарь для модели DecisionTreeClassifier()\n",
    "    {\n",
    "        'models': [DecisionTreeClassifier(random_state=RANDOM_STATE)],\n",
    "        'models__max_depth': range(2,5),\n",
    "        'models__max_features': range(2,5),\n",
    "        'preprocessor__num': [StandardScaler(), MinMaxScaler(), 'passthrough']  \n",
    "    },\n",
    "    \n",
    "#     словарь для модели KNeighborsClassifier() \n",
    "    {\n",
    "        'models': [KNeighborsClassifier()],\n",
    "        'models__n_neighbors': range(2,5),\n",
    "        'preprocessor__num': [StandardScaler(), MinMaxScaler(), 'passthrough']   \n",
    "    },\n",
    "\n",
    "    # словарь для модели LogisticRegression()\n",
    "    {\n",
    "        'models': [LogisticRegression(\n",
    "            random_state=RANDOM_STATE, \n",
    "            solver='liblinear', \n",
    "            penalty='l1'\n",
    "        )],\n",
    "        'models__C': range(1,5),\n",
    "        'preprocessor__num': [StandardScaler(), MinMaxScaler(), 'passthrough']  \n",
    "    },\n",
    "    # словарь для модели SVC()\n",
    "    {\n",
    "        'models': [SVC(random_state=RANDOM_STATE)],\n",
    "        'models__C': [0.01,0.01,1,10,100],\n",
    "        'models__kernel': ['linear', 'poly', 'rbf', 'sigmoid'],\n",
    "        'models__degree': ['1', '2', '3', '4']\n",
    " \n",
    "    }\n",
    "]\n"
   ]
  },
  {
   "cell_type": "code",
   "execution_count": 43,
   "metadata": {},
   "outputs": [
    {
     "name": "stdout",
     "output_type": "stream",
     "text": [
      "Лучшая модель и её параметры:\n",
      "\n",
      " Pipeline(steps=[('preprocessor',\n",
      "                 ColumnTransformer(remainder='passthrough',\n",
      "                                   transformers=[('ohe',\n",
      "                                                  Pipeline(steps=[('simpleImputer_ohe',\n",
      "                                                                   SimpleImputer(strategy='most_frequent')),\n",
      "                                                                  ('ohe',\n",
      "                                                                   OneHotEncoder(drop='first',\n",
      "                                                                                 sparse=False))]),\n",
      "                                                  ['Популярная_категория']),\n",
      "                                                 ('ord',\n",
      "                                                  Pipeline(steps=[('simpleImputer_before_ord',\n",
      "                                                                   SimpleImputer(strategy='most_frequent')),\n",
      "                                                                  ('ord',\n",
      "                                                                   O...\n",
      "                                                   'Длительность',\n",
      "                                                   'Акционные_покупки',\n",
      "                                                   'Средний_просмотр_категорий_за_визит',\n",
      "                                                   'Неоплаченные_продукты_штук_квартал',\n",
      "                                                   'Ошибка_сервиса',\n",
      "                                                   'Страниц_за_визит',\n",
      "                                                   'выручка_текущий_месяц',\n",
      "                                                   'минут_текущий_месяц',\n",
      "                                                   'выручка_предыдущий_месяц',\n",
      "                                                   'минут_предыдущий_месяц',\n",
      "                                                   'выручка_препредыдущий_месяц'])])),\n",
      "                ('models',\n",
      "                 LogisticRegression(C=3, penalty='l1', random_state=123,\n",
      "                                    solver='liblinear'))])\n",
      "Метрика лучшей модели на тренировочной выборке: 0.9086058881676875\n"
     ]
    }
   ],
   "source": [
    "randomized_search = RandomizedSearchCV(\n",
    "    pipe_final, \n",
    "    param_grid, \n",
    "    cv=5,\n",
    "    scoring='roc_auc',\n",
    "    random_state=RANDOM_STATE,\n",
    "    n_jobs=-1\n",
    ")\n",
    "randomized_search.fit(X_train, y_train)\n",
    "\n",
    "print('Лучшая модель и её параметры:\\n\\n', randomized_search.best_estimator_)\n",
    "print ('Метрика лучшей модели на тренировочной выборке:', randomized_search.best_score_)\n",
    "\n"
   ]
  },
  {
   "cell_type": "code",
   "execution_count": 44,
   "metadata": {},
   "outputs": [
    {
     "name": "stdout",
     "output_type": "stream",
     "text": [
      "Метрика ROC-AUC на тестовой выборке: 0.8552896673656512\n"
     ]
    }
   ],
   "source": [
    "y_test_pred = randomized_search.predict(X_test)\n",
    "print(f'Метрика ROC-AUC на тестовой выборке: {roc_auc_score(y_test, y_test_pred)}')"
   ]
  },
  {
   "cell_type": "markdown",
   "metadata": {},
   "source": [
    "### Вывод\n",
    "\n",
    "Лучшая модель и её параметры:\n",
    "LogisticRegression(C=3, penalty='l1', random_state=123,\n",
    "                                    solver='liblinear'))])\n",
    "Метрика лучшей модели на тренировочной выборке: 0.9086058881676875\n",
    "Метрика ROC-AUC на тестовой выборке: 0.8552896673656512"
   ]
  },
  {
   "cell_type": "markdown",
   "metadata": {},
   "source": [
    "## Анализ важности признаков"
   ]
  },
  {
   "cell_type": "code",
   "execution_count": 45,
   "metadata": {},
   "outputs": [
    {
     "data": {
      "image/png": "[encoded data removed]",
      "text/plain": [
       "<Figure size 576x684 with 1 Axes>"
      ]
     },
     "metadata": {
      "needs_background": "light"
     },
     "output_type": "display_data"
    }
   ],
   "source": [
    "x_Train = pipe_final.named_steps['preprocessor'].fit_transform(X_train)\n",
    " \n",
    "x_Train = pipe_final.named_steps['preprocessor'].fit_transform(X_train)\n",
    "x_Test = pipe_final.named_steps['preprocessor'].transform(X_test) \n",
    "explainer = shap.Explainer(randomized_search.best_estimator_.named_steps['models'], x_Train)\n",
    "\n",
    "shap_values = explainer(x_Test)\n",
    "shap.summary_plot(shap_values, x_Test, plot_type=\"bar\", \n",
    "                  feature_names=pipe_final.named_steps['preprocessor'].get_feature_names_out())"
   ]
  },
  {
   "cell_type": "markdown",
   "metadata": {},
   "source": [
    "Мало значимы для модели:\n",
    "- Ошибка сервиса\n",
    "- Длительность\n",
    "- Категории товаров Товары для детей и Кухонная посуда\n",
    "- Количество маркетинговых коммуникаций в текущем месяце\n",
    "\n",
    "Сильнее всего влияют на целевой признак:\n",
    "- Кол-во страниц за визит\n",
    "- Кол-во минут на сайте\n",
    "- Среднее кол-во категорий за визит\n",
    "- Кол-во неоплаченных продуктов\n",
    "\n",
    "При моделировании значимость признаков для модели можно использовать для ее улучшения, например больше внимания уделить их анализу или сгенерирвоать новые на их основе\n",
    "В процессе принятия бизнес-решений важность признаков должна использоваться для лучшего понимания поведения пользователя и взаимодействия с ним, выдвижения гипотез на их основе. "
   ]
  },
  {
   "cell_type": "markdown",
   "metadata": {},
   "source": [
    "## Сегментация покупателей"
   ]
  },
  {
   "cell_type": "code",
   "execution_count": 46,
   "metadata": {
    "scrolled": true
   },
   "outputs": [],
   "source": [
    "X_test['вероятность_снижения'] = randomized_search.predict_proba(X_test)[:,1]\n",
    "X_test['покупательская_способность'] = randomized_search.predict(X_test)"
   ]
  },
  {
   "cell_type": "code",
   "execution_count": 47,
   "metadata": {},
   "outputs": [
    {
     "data": {
      "image/png": "[encoded data removed]",
      "text/plain": [
       "<Figure size 432x288 with 1 Axes>"
      ]
     },
     "metadata": {
      "needs_background": "light"
     },
     "output_type": "display_data"
    }
   ],
   "source": [
    "sns.scatterplot(data=X_test,\n",
    "                x=X_test['вероятность_снижения'],\n",
    "                y=X_test['Прибыль']);"
   ]
  },
  {
   "cell_type": "markdown",
   "metadata": {},
   "source": [
    "Выделим группу клиентов с высокой вероятностью снижения покупательской активности и наиболее высокой прибыльностью."
   ]
  },
  {
   "cell_type": "code",
   "execution_count": 48,
   "metadata": {},
   "outputs": [],
   "source": [
    "group=X_test.query('вероятность_снижения >0.6 and Прибыль>4')"
   ]
  },
  {
   "cell_type": "markdown",
   "metadata": {},
   "source": [
    "**Продуктовое поведение**"
   ]
  },
  {
   "cell_type": "code",
   "execution_count": 49,
   "metadata": {},
   "outputs": [
    {
     "data": {
      "image/png": "[encoded data removed]",
      "text/plain": [
       "<Figure size 1080x360 with 3 Axes>"
      ]
     },
     "metadata": {
      "needs_background": "light"
     },
     "output_type": "display_data"
    }
   ],
   "source": [
    "fig, axes = plt.subplots(nrows=1, ncols=3, figsize=(15,5))\n",
    "group['Популярная_категория'].value_counts().plot(kind='pie', \n",
    "                              autopct='%1.1f%%', ax=axes[0], title='Популярная_категория');\n",
    "group['Средний_просмотр_категорий_за_визит'].plot(kind='hist',\n",
    "                                                  bins= 15, ax=axes[1],\n",
    "                                                  title = 'Средний_просмотр_категорий_за_визит');\n",
    "group['Неоплаченные_продукты_штук_квартал'].plot(kind='hist',\n",
    "                                                  bins= 15, ax=axes[2],\n",
    "                                                  title = 'Неоплаченные_продукты_штук_квартал');"
   ]
  },
  {
   "cell_type": "markdown",
   "metadata": {},
   "source": [
    "Наиболее популярна среди покупателей выбранного сегмента категория \"Товары для детей\", далее по популярности идут Домашний текстиль и Косметика и аксессуары. При этом покупатели чаще всего просматривают только 2 или 3 категории товаров. \n",
    "То есть либо покупатели ищут что-то конкретное, либо переход в другие категории на сайте для них не очевиден. Покупали часто передумывают или забывают о товарах в корзине - много неплаченных товаров"
   ]
  },
  {
   "cell_type": "markdown",
   "metadata": {},
   "source": [
    "**Коммуникация с клиентом**"
   ]
  },
  {
   "cell_type": "code",
   "execution_count": 50,
   "metadata": {
    "scrolled": true
   },
   "outputs": [
    {
     "data": {
      "image/png": "[encoded data removed]",
      "text/plain": [
       "<Figure size 1080x360 with 2 Axes>"
      ]
     },
     "metadata": {},
     "output_type": "display_data"
    }
   ],
   "source": [
    "fig, axes = plt.subplots(nrows=1, ncols=2, figsize=(15,5))\n",
    "group['Тип сервиса'].value_counts().plot(kind='pie', \n",
    "                              autopct='%1.1f%%', ax=axes[0], title='Тип сервиса');\n",
    "group['Разрешить сообщать'].value_counts().plot(kind='pie', \n",
    "                              autopct='%1.1f%%', ax=axes[1], title='Разрешить сообщать');"
   ]
  },
  {
   "cell_type": "markdown",
   "metadata": {},
   "source": [
    "Преобладающее большинство пользователей изучаемого сегмента не пользуются премиум сервисом, но при этом они согласны получать рассылку с рекомендациями, чем и надо воспользоваться в этой ситуации."
   ]
  },
  {
   "cell_type": "markdown",
   "metadata": {},
   "source": [
    "Рекомендация: для покупателей с высокой вероятностью снижения активности и высокой прибыльностью необходимо расссылать рекламные предложения с преобладанием товаров для детей и для дома, но также включающих схожие товары из других категорий. Также необходимо уделить больше внимания рекламе премиум сервиса в этой категории покупателей, что позволит привлечь клиента больше взаимодействовать с магазином за счет преимуществ премиум сервиса.\n",
    "Добавить рассылку о добавленных и неоплаченных товарах в корзине."
   ]
  },
  {
   "cell_type": "markdown",
   "metadata": {},
   "source": [
    "## Вывод"
   ]
  },
  {
   "cell_type": "markdown",
   "metadata": {},
   "source": [
    "Интернет-магазин «В один клик» продаёт разные товары: для детей, для дома, мелкую бытовую технику, косметику и даже продукты. Отчёт магазина за прошлый период показал, что активность покупателей начала снижаться. Привлекать новых клиентов уже не так эффективно: о магазине и так знает большая часть целевой аудитории. \n",
    "Необходимо персонализировать предложения постоянным клиентам, чтобы увеличить их покупательскую активность\n",
    "\n",
    "Для выполнения работы были переданы 4 датасета:\n",
    "1. df_file - Таблица, которая содержит данные о поведении покупателя на сайте, о коммуникациях с покупателем и его продуктовом поведении.\n",
    "2. df_market_money - Таблица с данными о выручке, которую получает магазин с покупателя, то есть сколько покупатель всего потратил за период взаимодействия с сайтом.\n",
    "3. df_money - Таблица с данными о среднемесячной прибыли покупателя за последние 3 месяца: какую прибыль получает магазин от продаж каждому покупателю.\n",
    "4. df_time - Таблица с данными о времени (в минутах), которое покупатель провёл на сайте в течение периода.\n",
    "\n",
    "Целевой признак - Покупательская активность\n",
    "\n",
    "В признаках отствуют аномальные значения, за имсключением значений Выручки\n",
    "\n",
    "В процессе предобработки данных были выполнены:\n",
    "- Исследованы и удалены при наличии неявные дубликаты во всех датасетах\n",
    "- Признаки поделены на качественные и количественные\n",
    "\n",
    "В целом признаке Покупательская активность отмечен сильный дисбаланс классов.\n",
    "Дисбаланс классов объясняется спецификой задачи, так как снижение активности фиксируется для небольшого процента покупателей. Нельзя устранить такой дисбаланс, не нарушив закономерности данных. Его нужно будет учитывать во время подготовки данных и обучения модели.\n",
    "\n",
    "Среди пользователей, у которых покупательская активность снизилась, меньше доля пользователей премиум сервиса, но больше для подписок на рассылку. Самая популярная категория у обоих групп Товары для детей. В целом для обоих групп пользователей, разделенных по целевому признаку, не наблюдается существенных различий в интересах по категориям товаров\n",
    "\n",
    "Анализ распределения количественных признаков показал, что пользователи, у которых снизилась активность: - просматривают меньше страниц при посещении сайта\n",
    "- чаще имеют дело с ошибками сервиса\n",
    "- имеют больше неоплаченных продуктов\n",
    "- просматривают за визит меньше категорий\n",
    "\n",
    "После удаления одного максимального выброса, значения выручки описываются нормальным распределением, но отмечается все еще много выбросов за счет явного преобладания значений выручки близким к среднему.\n",
    "Данные о минутах проведенных на сайте распределены нормально, выбросы отсутсвуют\n",
    "Данные о прибыли проведенных на сайте распределены нормально, присутствует незначительное кол-во выбросов\n",
    "\n",
    "Мультиколлинеарность признаков отсутствует. Наиболее высокая корреляция признаков наблюдается между выручкой в текущем и прошлом месяце. \n",
    "Самый высокий коэффциент корреляции с целевым признаком у признака Страниц за визит\n",
    "\n",
    "Лучшая модель и её параметры:\n",
    "LogisticRegression(C=3, penalty='l1', random_state=123,\n",
    "                                    solver='liblinear'))])\n",
    "Метрика лучшей модели на тренировочной выборке: 0.9086058881676875\n",
    "Метрика ROC-AUC на тестовой выборке: 0.8552896673656512\n",
    "\n",
    "Анализ важности признаков показал, что:\n",
    "Мало значимы для модели:\n",
    "- Ошибка сервиса\n",
    "- Длительность\n",
    "- Категории товаров Товары для детей и Кухонная посуда\n",
    "- Количество маркетинговых коммуникаций в текущем месяце\n",
    "\n",
    "Сильнее всего влияют на целевой признак:\n",
    "- Кол-во страниц за визит\n",
    "- Кол-во минут на сайте\n",
    "- Среднее кол-во категорий за визит\n",
    "- Кол-во неоплаченных продуктов\n",
    "\n",
    "При моделировании значимость признаков для модели можно использовать для ее улучшения, например больше внимания уделить их анализу или сгенерирвоать новые на их основе\n",
    "В процессе принятия бизнес-решений важность признаков должна использоваться для лучшего понимания поведения пользователя и взаимодействия с ним, выдвижения гипотез на их основе."
   ]
  },
  {
   "cell_type": "markdown",
   "metadata": {},
   "source": [
    " **Рекомендация**\n",
    "\n",
    "Для покупателей с высокой вероятностью снижения активности и высокой прибыльностью необходимо расссылать рекламные предложения с преобладанием товаров для детей и для дома, но также включающих схожие товары из других категорий. Также необходимо уделить больше внимания рекламе премиум сервиса в этой категории покупателей, что позволит привлечь клиента больше взаимодействовать с магазином за счет преимуществ премиум сервиса.\n",
    "Добавить рассылку о добавленных и неоплаченных товарах в корзине."
   ]
  },
  {
   "cell_type": "code",
   "execution_count": null,
   "metadata": {},
   "outputs": [],
   "source": []
  }
 ],
 "metadata": {
  "ExecuteTimeLog": [
   {
    "duration": 50,
    "start_time": "2023-12-05T21:21:38.614Z"
   },
   {
    "duration": 1171,
    "start_time": "2023-12-05T21:21:40.673Z"
   },
   {
    "duration": 98,
    "start_time": "2023-12-05T21:21:41.846Z"
   },
   {
    "duration": 66,
    "start_time": "2023-12-05T21:21:59.757Z"
   },
   {
    "duration": 44,
    "start_time": "2023-12-06T05:41:44.831Z"
   },
   {
    "duration": 5,
    "start_time": "2023-12-06T05:41:48.869Z"
   },
   {
    "duration": 1346,
    "start_time": "2023-12-06T05:41:51.281Z"
   },
   {
    "duration": 322,
    "start_time": "2023-12-06T05:41:52.629Z"
   },
   {
    "duration": 9,
    "start_time": "2023-12-06T05:41:52.953Z"
   },
   {
    "duration": 17,
    "start_time": "2023-12-06T05:41:52.963Z"
   },
   {
    "duration": 17,
    "start_time": "2023-12-06T05:41:52.981Z"
   },
   {
    "duration": 25,
    "start_time": "2023-12-06T05:41:53.000Z"
   },
   {
    "duration": 3,
    "start_time": "2023-12-06T05:42:53.821Z"
   },
   {
    "duration": 95,
    "start_time": "2023-12-06T05:42:53.826Z"
   },
   {
    "duration": 6,
    "start_time": "2023-12-06T05:42:53.924Z"
   },
   {
    "duration": 17,
    "start_time": "2023-12-06T05:42:53.931Z"
   },
   {
    "duration": 17,
    "start_time": "2023-12-06T05:42:53.950Z"
   },
   {
    "duration": 23,
    "start_time": "2023-12-06T05:42:53.969Z"
   },
   {
    "duration": 3,
    "start_time": "2023-12-06T05:43:24.003Z"
   },
   {
    "duration": 89,
    "start_time": "2023-12-06T05:43:24.008Z"
   },
   {
    "duration": 7,
    "start_time": "2023-12-06T05:43:24.098Z"
   },
   {
    "duration": 17,
    "start_time": "2023-12-06T05:43:24.106Z"
   },
   {
    "duration": 12,
    "start_time": "2023-12-06T05:43:24.125Z"
   },
   {
    "duration": 11,
    "start_time": "2023-12-06T05:43:24.138Z"
   },
   {
    "duration": 3,
    "start_time": "2023-12-06T05:44:03.590Z"
   },
   {
    "duration": 91,
    "start_time": "2023-12-06T05:44:03.595Z"
   },
   {
    "duration": 15,
    "start_time": "2023-12-06T05:44:03.688Z"
   },
   {
    "duration": 10,
    "start_time": "2023-12-06T05:44:03.705Z"
   },
   {
    "duration": 9,
    "start_time": "2023-12-06T05:44:03.717Z"
   },
   {
    "duration": 9,
    "start_time": "2023-12-06T05:44:03.728Z"
   },
   {
    "duration": 2,
    "start_time": "2023-12-06T05:44:19.167Z"
   },
   {
    "duration": 94,
    "start_time": "2023-12-06T05:44:19.172Z"
   },
   {
    "duration": 12,
    "start_time": "2023-12-06T05:44:19.268Z"
   },
   {
    "duration": 7,
    "start_time": "2023-12-06T05:44:19.281Z"
   },
   {
    "duration": 22,
    "start_time": "2023-12-06T05:44:19.290Z"
   },
   {
    "duration": 8,
    "start_time": "2023-12-06T05:44:19.313Z"
   },
   {
    "duration": 1182,
    "start_time": "2023-12-06T05:44:28.680Z"
   },
   {
    "duration": 94,
    "start_time": "2023-12-06T05:44:29.864Z"
   },
   {
    "duration": 15,
    "start_time": "2023-12-06T05:44:29.959Z"
   },
   {
    "duration": 63,
    "start_time": "2023-12-06T05:44:29.975Z"
   },
   {
    "duration": 98,
    "start_time": "2023-12-06T05:44:30.040Z"
   },
   {
    "duration": 63,
    "start_time": "2023-12-06T05:44:30.140Z"
   },
   {
    "duration": 1159,
    "start_time": "2023-12-06T05:44:52.692Z"
   },
   {
    "duration": 89,
    "start_time": "2023-12-06T05:44:53.853Z"
   },
   {
    "duration": 16,
    "start_time": "2023-12-06T05:44:53.944Z"
   },
   {
    "duration": 18,
    "start_time": "2023-12-06T05:44:53.961Z"
   },
   {
    "duration": 23,
    "start_time": "2023-12-06T05:44:53.981Z"
   },
   {
    "duration": 25,
    "start_time": "2023-12-06T05:44:54.005Z"
   },
   {
    "duration": 1106,
    "start_time": "2023-12-06T05:45:08.009Z"
   },
   {
    "duration": 92,
    "start_time": "2023-12-06T05:45:09.118Z"
   },
   {
    "duration": 17,
    "start_time": "2023-12-06T05:45:09.212Z"
   },
   {
    "duration": 13,
    "start_time": "2023-12-06T05:45:09.230Z"
   },
   {
    "duration": 21,
    "start_time": "2023-12-06T05:45:09.246Z"
   },
   {
    "duration": 10,
    "start_time": "2023-12-06T05:45:09.269Z"
   },
   {
    "duration": 1150,
    "start_time": "2023-12-06T05:45:16.461Z"
   },
   {
    "duration": 92,
    "start_time": "2023-12-06T05:45:17.614Z"
   },
   {
    "duration": 18,
    "start_time": "2023-12-06T05:45:17.710Z"
   },
   {
    "duration": 6,
    "start_time": "2023-12-06T05:45:17.730Z"
   },
   {
    "duration": 8,
    "start_time": "2023-12-06T05:45:17.738Z"
   },
   {
    "duration": 9,
    "start_time": "2023-12-06T05:45:17.748Z"
   },
   {
    "duration": 7,
    "start_time": "2023-12-06T05:56:31.351Z"
   },
   {
    "duration": 111,
    "start_time": "2023-12-06T05:56:56.151Z"
   },
   {
    "duration": 6,
    "start_time": "2023-12-06T05:58:37.375Z"
   },
   {
    "duration": 5,
    "start_time": "2023-12-06T06:07:10.695Z"
   },
   {
    "duration": 1998,
    "start_time": "2023-12-06T06:08:27.443Z"
   },
   {
    "duration": 1064,
    "start_time": "2023-12-06T06:08:46.732Z"
   },
   {
    "duration": 3,
    "start_time": "2023-12-06T06:08:47.797Z"
   },
   {
    "duration": 98,
    "start_time": "2023-12-06T06:08:47.801Z"
   },
   {
    "duration": 16,
    "start_time": "2023-12-06T06:08:47.901Z"
   },
   {
    "duration": 7,
    "start_time": "2023-12-06T06:08:47.919Z"
   },
   {
    "duration": 11,
    "start_time": "2023-12-06T06:08:47.929Z"
   },
   {
    "duration": 11,
    "start_time": "2023-12-06T06:08:47.941Z"
   },
   {
    "duration": 9,
    "start_time": "2023-12-06T06:08:47.954Z"
   },
   {
    "duration": 36,
    "start_time": "2023-12-06T06:08:47.965Z"
   },
   {
    "duration": 5,
    "start_time": "2023-12-06T06:08:48.003Z"
   },
   {
    "duration": 2054,
    "start_time": "2023-12-06T06:08:48.009Z"
   },
   {
    "duration": 304,
    "start_time": "2023-12-06T06:09:17.725Z"
   },
   {
    "duration": 618,
    "start_time": "2023-12-06T06:09:46.511Z"
   },
   {
    "duration": 28,
    "start_time": "2023-12-06T06:09:54.511Z"
   },
   {
    "duration": 315,
    "start_time": "2023-12-06T06:10:05.037Z"
   },
   {
    "duration": 1231,
    "start_time": "2023-12-06T06:12:41.680Z"
   },
   {
    "duration": 5,
    "start_time": "2023-12-06T06:52:32.829Z"
   },
   {
    "duration": 4,
    "start_time": "2023-12-06T06:52:32.836Z"
   },
   {
    "duration": 68,
    "start_time": "2023-12-06T06:52:32.842Z"
   },
   {
    "duration": 0,
    "start_time": "2023-12-06T06:52:32.915Z"
   },
   {
    "duration": 0,
    "start_time": "2023-12-06T06:52:32.916Z"
   },
   {
    "duration": 0,
    "start_time": "2023-12-06T06:52:32.917Z"
   },
   {
    "duration": 0,
    "start_time": "2023-12-06T06:52:32.918Z"
   },
   {
    "duration": 0,
    "start_time": "2023-12-06T06:52:32.923Z"
   },
   {
    "duration": 0,
    "start_time": "2023-12-06T06:52:32.925Z"
   },
   {
    "duration": 0,
    "start_time": "2023-12-06T06:52:32.927Z"
   },
   {
    "duration": 0,
    "start_time": "2023-12-06T06:52:32.928Z"
   },
   {
    "duration": 0,
    "start_time": "2023-12-06T06:52:32.930Z"
   },
   {
    "duration": 95,
    "start_time": "2023-12-06T06:53:01.746Z"
   },
   {
    "duration": 1139,
    "start_time": "2023-12-06T06:53:07.296Z"
   },
   {
    "duration": 2,
    "start_time": "2023-12-06T06:53:08.437Z"
   },
   {
    "duration": 101,
    "start_time": "2023-12-06T06:53:08.441Z"
   },
   {
    "duration": 15,
    "start_time": "2023-12-06T06:53:08.544Z"
   },
   {
    "duration": 21,
    "start_time": "2023-12-06T06:53:08.561Z"
   },
   {
    "duration": 30,
    "start_time": "2023-12-06T06:53:08.584Z"
   },
   {
    "duration": 27,
    "start_time": "2023-12-06T06:53:08.616Z"
   },
   {
    "duration": 928,
    "start_time": "2023-12-06T06:53:08.645Z"
   },
   {
    "duration": 0,
    "start_time": "2023-12-06T06:53:09.575Z"
   },
   {
    "duration": 0,
    "start_time": "2023-12-06T06:53:09.576Z"
   },
   {
    "duration": 0,
    "start_time": "2023-12-06T06:53:09.577Z"
   },
   {
    "duration": 0,
    "start_time": "2023-12-06T06:53:09.578Z"
   },
   {
    "duration": 789,
    "start_time": "2023-12-06T06:54:49.984Z"
   },
   {
    "duration": 13,
    "start_time": "2023-12-06T06:55:05.205Z"
   },
   {
    "duration": 13,
    "start_time": "2023-12-06T06:55:17.822Z"
   },
   {
    "duration": 3,
    "start_time": "2023-12-06T06:56:35.444Z"
   },
   {
    "duration": 1206,
    "start_time": "2023-12-06T06:56:59.475Z"
   },
   {
    "duration": 3,
    "start_time": "2023-12-06T06:57:00.683Z"
   },
   {
    "duration": 198,
    "start_time": "2023-12-06T06:57:00.687Z"
   },
   {
    "duration": 27,
    "start_time": "2023-12-06T06:57:00.887Z"
   },
   {
    "duration": 64,
    "start_time": "2023-12-06T06:57:00.917Z"
   },
   {
    "duration": 62,
    "start_time": "2023-12-06T06:57:00.983Z"
   },
   {
    "duration": 63,
    "start_time": "2023-12-06T06:57:01.047Z"
   },
   {
    "duration": 1000,
    "start_time": "2023-12-06T06:57:01.114Z"
   },
   {
    "duration": 0,
    "start_time": "2023-12-06T06:57:02.117Z"
   },
   {
    "duration": 0,
    "start_time": "2023-12-06T06:57:02.118Z"
   },
   {
    "duration": 0,
    "start_time": "2023-12-06T06:57:02.119Z"
   },
   {
    "duration": 0,
    "start_time": "2023-12-06T06:57:02.120Z"
   },
   {
    "duration": 5,
    "start_time": "2023-12-06T06:57:34.043Z"
   },
   {
    "duration": 617,
    "start_time": "2023-12-06T06:57:53.945Z"
   },
   {
    "duration": 795,
    "start_time": "2023-12-06T06:58:15.884Z"
   },
   {
    "duration": 5,
    "start_time": "2023-12-06T06:59:04.386Z"
   },
   {
    "duration": 5,
    "start_time": "2023-12-06T06:59:30.165Z"
   },
   {
    "duration": 48,
    "start_time": "2023-12-06T18:34:04.530Z"
   },
   {
    "duration": 1307,
    "start_time": "2023-12-06T18:34:11.184Z"
   },
   {
    "duration": 4,
    "start_time": "2023-12-06T18:34:12.493Z"
   },
   {
    "duration": 246,
    "start_time": "2023-12-06T18:34:12.498Z"
   },
   {
    "duration": 16,
    "start_time": "2023-12-06T18:34:12.746Z"
   },
   {
    "duration": 18,
    "start_time": "2023-12-06T18:34:12.764Z"
   },
   {
    "duration": 20,
    "start_time": "2023-12-06T18:34:12.784Z"
   },
   {
    "duration": 20,
    "start_time": "2023-12-06T18:34:12.806Z"
   },
   {
    "duration": 11,
    "start_time": "2023-12-06T18:34:12.828Z"
   },
   {
    "duration": 38,
    "start_time": "2023-12-06T18:34:12.840Z"
   },
   {
    "duration": 10,
    "start_time": "2023-12-06T18:34:12.880Z"
   },
   {
    "duration": 6,
    "start_time": "2023-12-06T18:34:12.892Z"
   },
   {
    "duration": 6,
    "start_time": "2023-12-06T18:34:12.900Z"
   },
   {
    "duration": 349,
    "start_time": "2023-12-06T18:34:12.908Z"
   },
   {
    "duration": 1186,
    "start_time": "2023-12-06T18:34:13.260Z"
   },
   {
    "duration": 1170,
    "start_time": "2023-12-06T18:41:21.906Z"
   },
   {
    "duration": 2,
    "start_time": "2023-12-06T18:41:23.078Z"
   },
   {
    "duration": 88,
    "start_time": "2023-12-06T18:41:23.082Z"
   },
   {
    "duration": 15,
    "start_time": "2023-12-06T18:41:23.172Z"
   },
   {
    "duration": 9,
    "start_time": "2023-12-06T18:41:23.189Z"
   },
   {
    "duration": 5,
    "start_time": "2023-12-06T18:41:23.199Z"
   },
   {
    "duration": 7,
    "start_time": "2023-12-06T18:41:23.206Z"
   },
   {
    "duration": 8,
    "start_time": "2023-12-06T18:41:23.215Z"
   },
   {
    "duration": 111,
    "start_time": "2023-12-06T18:41:23.224Z"
   },
   {
    "duration": 0,
    "start_time": "2023-12-06T18:41:23.336Z"
   },
   {
    "duration": 0,
    "start_time": "2023-12-06T18:41:23.342Z"
   },
   {
    "duration": 0,
    "start_time": "2023-12-06T18:41:23.343Z"
   },
   {
    "duration": 0,
    "start_time": "2023-12-06T18:41:23.345Z"
   },
   {
    "duration": 0,
    "start_time": "2023-12-06T18:41:23.346Z"
   },
   {
    "duration": 0,
    "start_time": "2023-12-06T18:41:23.348Z"
   },
   {
    "duration": 9,
    "start_time": "2023-12-06T18:41:40.764Z"
   },
   {
    "duration": 4,
    "start_time": "2023-12-06T18:41:45.212Z"
   },
   {
    "duration": 4,
    "start_time": "2023-12-06T18:41:46.449Z"
   },
   {
    "duration": 5,
    "start_time": "2023-12-06T18:41:46.690Z"
   },
   {
    "duration": 4,
    "start_time": "2023-12-06T18:41:48.797Z"
   },
   {
    "duration": 6,
    "start_time": "2023-12-06T18:41:49.410Z"
   },
   {
    "duration": 294,
    "start_time": "2023-12-06T18:41:50.328Z"
   },
   {
    "duration": 1265,
    "start_time": "2023-12-06T18:41:52.090Z"
   },
   {
    "duration": 5,
    "start_time": "2023-12-06T18:43:29.622Z"
   },
   {
    "duration": 6,
    "start_time": "2023-12-06T18:43:30.996Z"
   },
   {
    "duration": 4,
    "start_time": "2023-12-06T18:43:31.254Z"
   },
   {
    "duration": 282,
    "start_time": "2023-12-06T18:43:31.854Z"
   },
   {
    "duration": 1221,
    "start_time": "2023-12-06T18:43:32.234Z"
   },
   {
    "duration": 151,
    "start_time": "2023-12-06T18:43:55.720Z"
   },
   {
    "duration": 136,
    "start_time": "2023-12-06T18:44:03.084Z"
   },
   {
    "duration": 13,
    "start_time": "2023-12-06T18:44:36.041Z"
   },
   {
    "duration": 139,
    "start_time": "2023-12-06T18:44:45.714Z"
   },
   {
    "duration": 134,
    "start_time": "2023-12-06T18:45:05.770Z"
   },
   {
    "duration": 6,
    "start_time": "2023-12-06T18:45:14.275Z"
   },
   {
    "duration": 123,
    "start_time": "2023-12-06T18:45:26.439Z"
   },
   {
    "duration": 5,
    "start_time": "2023-12-06T18:45:31.696Z"
   },
   {
    "duration": 9,
    "start_time": "2023-12-06T18:49:03.668Z"
   },
   {
    "duration": 6942,
    "start_time": "2023-12-06T18:49:21.568Z"
   },
   {
    "duration": 1161,
    "start_time": "2023-12-06T18:50:40.715Z"
   },
   {
    "duration": 856,
    "start_time": "2023-12-06T18:51:08.518Z"
   },
   {
    "duration": 1199,
    "start_time": "2023-12-06T18:55:24.421Z"
   },
   {
    "duration": 3,
    "start_time": "2023-12-06T18:55:25.622Z"
   },
   {
    "duration": 97,
    "start_time": "2023-12-06T18:55:25.626Z"
   },
   {
    "duration": 18,
    "start_time": "2023-12-06T18:55:25.725Z"
   },
   {
    "duration": 14,
    "start_time": "2023-12-06T18:55:25.745Z"
   },
   {
    "duration": 6,
    "start_time": "2023-12-06T18:55:25.763Z"
   },
   {
    "duration": 24,
    "start_time": "2023-12-06T18:55:25.770Z"
   },
   {
    "duration": 14,
    "start_time": "2023-12-06T18:55:25.796Z"
   },
   {
    "duration": 6,
    "start_time": "2023-12-06T18:55:25.812Z"
   },
   {
    "duration": 23,
    "start_time": "2023-12-06T18:55:25.820Z"
   },
   {
    "duration": 10,
    "start_time": "2023-12-06T18:55:25.845Z"
   },
   {
    "duration": 20,
    "start_time": "2023-12-06T18:55:25.856Z"
   },
   {
    "duration": 14,
    "start_time": "2023-12-06T18:55:25.878Z"
   },
   {
    "duration": 294,
    "start_time": "2023-12-06T18:55:25.894Z"
   },
   {
    "duration": 5,
    "start_time": "2023-12-06T18:55:26.190Z"
   },
   {
    "duration": 1126,
    "start_time": "2023-12-06T18:55:26.197Z"
   },
   {
    "duration": 825,
    "start_time": "2023-12-06T18:55:27.325Z"
   },
   {
    "duration": 1483,
    "start_time": "2023-12-11T16:43:49.623Z"
   },
   {
    "duration": 3,
    "start_time": "2023-12-11T16:43:51.108Z"
   },
   {
    "duration": 269,
    "start_time": "2023-12-11T16:43:51.112Z"
   },
   {
    "duration": 18,
    "start_time": "2023-12-11T16:43:51.383Z"
   },
   {
    "duration": 8,
    "start_time": "2023-12-11T16:43:51.404Z"
   },
   {
    "duration": 26,
    "start_time": "2023-12-11T16:43:51.413Z"
   },
   {
    "duration": 11,
    "start_time": "2023-12-11T16:43:51.441Z"
   },
   {
    "duration": 10,
    "start_time": "2023-12-11T16:43:51.453Z"
   },
   {
    "duration": 8,
    "start_time": "2023-12-11T16:43:51.465Z"
   },
   {
    "duration": 7,
    "start_time": "2023-12-11T16:43:51.475Z"
   },
   {
    "duration": 9,
    "start_time": "2023-12-11T16:43:51.484Z"
   },
   {
    "duration": 7,
    "start_time": "2023-12-11T16:43:51.495Z"
   },
   {
    "duration": 27,
    "start_time": "2023-12-11T16:43:51.504Z"
   },
   {
    "duration": 336,
    "start_time": "2023-12-11T16:43:51.534Z"
   },
   {
    "duration": 6,
    "start_time": "2023-12-11T16:43:51.871Z"
   },
   {
    "duration": 1222,
    "start_time": "2023-12-11T16:43:51.879Z"
   },
   {
    "duration": 947,
    "start_time": "2023-12-11T16:43:53.102Z"
   },
   {
    "duration": 5,
    "start_time": "2023-12-11T16:44:39.510Z"
   },
   {
    "duration": 21,
    "start_time": "2023-12-11T16:54:50.932Z"
   },
   {
    "duration": 24,
    "start_time": "2023-12-11T16:58:34.766Z"
   },
   {
    "duration": 23,
    "start_time": "2023-12-11T17:02:22.914Z"
   },
   {
    "duration": 23,
    "start_time": "2023-12-11T17:02:30.150Z"
   },
   {
    "duration": 34,
    "start_time": "2023-12-11T17:02:48.693Z"
   },
   {
    "duration": 26,
    "start_time": "2023-12-11T17:10:20.118Z"
   },
   {
    "duration": 22,
    "start_time": "2023-12-11T17:10:28.577Z"
   },
   {
    "duration": 25,
    "start_time": "2023-12-11T17:10:31.501Z"
   },
   {
    "duration": 6,
    "start_time": "2023-12-11T17:53:51.022Z"
   },
   {
    "duration": 16,
    "start_time": "2023-12-11T17:54:01.870Z"
   },
   {
    "duration": 27,
    "start_time": "2023-12-11T17:56:50.325Z"
   },
   {
    "duration": 18,
    "start_time": "2023-12-11T18:11:59.755Z"
   },
   {
    "duration": 28,
    "start_time": "2023-12-11T18:15:46.703Z"
   },
   {
    "duration": 1250,
    "start_time": "2023-12-11T18:17:04.535Z"
   },
   {
    "duration": 3,
    "start_time": "2023-12-11T18:17:05.787Z"
   },
   {
    "duration": 111,
    "start_time": "2023-12-11T18:17:05.791Z"
   },
   {
    "duration": 16,
    "start_time": "2023-12-11T18:17:05.904Z"
   },
   {
    "duration": 15,
    "start_time": "2023-12-11T18:17:05.923Z"
   },
   {
    "duration": 12,
    "start_time": "2023-12-11T18:17:05.939Z"
   },
   {
    "duration": 23,
    "start_time": "2023-12-11T18:17:05.953Z"
   },
   {
    "duration": 5,
    "start_time": "2023-12-11T18:17:05.979Z"
   },
   {
    "duration": 11,
    "start_time": "2023-12-11T18:17:05.986Z"
   },
   {
    "duration": 10,
    "start_time": "2023-12-11T18:17:05.998Z"
   },
   {
    "duration": 14,
    "start_time": "2023-12-11T18:17:06.010Z"
   },
   {
    "duration": 9,
    "start_time": "2023-12-11T18:17:06.026Z"
   },
   {
    "duration": 16,
    "start_time": "2023-12-11T18:17:06.036Z"
   },
   {
    "duration": 316,
    "start_time": "2023-12-11T18:17:06.055Z"
   },
   {
    "duration": 6,
    "start_time": "2023-12-11T18:17:06.373Z"
   },
   {
    "duration": 1318,
    "start_time": "2023-12-11T18:17:06.380Z"
   },
   {
    "duration": 942,
    "start_time": "2023-12-11T18:17:07.699Z"
   },
   {
    "duration": 25,
    "start_time": "2023-12-11T18:17:08.643Z"
   },
   {
    "duration": 444,
    "start_time": "2023-12-11T18:17:08.669Z"
   },
   {
    "duration": 0,
    "start_time": "2023-12-11T18:17:09.115Z"
   },
   {
    "duration": 0,
    "start_time": "2023-12-11T18:17:09.116Z"
   },
   {
    "duration": 0,
    "start_time": "2023-12-11T18:17:09.117Z"
   },
   {
    "duration": 18,
    "start_time": "2023-12-11T18:17:31.965Z"
   },
   {
    "duration": 29,
    "start_time": "2023-12-11T18:17:33.410Z"
   },
   {
    "duration": 1359,
    "start_time": "2023-12-12T13:09:40.198Z"
   },
   {
    "duration": 3,
    "start_time": "2023-12-12T13:09:41.559Z"
   },
   {
    "duration": 33,
    "start_time": "2023-12-12T13:09:41.563Z"
   },
   {
    "duration": 296,
    "start_time": "2023-12-12T13:09:41.598Z"
   },
   {
    "duration": 16,
    "start_time": "2023-12-12T13:09:41.895Z"
   },
   {
    "duration": 47,
    "start_time": "2023-12-12T13:09:41.912Z"
   },
   {
    "duration": 30,
    "start_time": "2023-12-12T13:09:41.960Z"
   },
   {
    "duration": 33,
    "start_time": "2023-12-12T13:09:41.992Z"
   },
   {
    "duration": 23,
    "start_time": "2023-12-12T13:09:42.027Z"
   },
   {
    "duration": 40,
    "start_time": "2023-12-12T13:09:42.051Z"
   },
   {
    "duration": 34,
    "start_time": "2023-12-12T13:09:42.092Z"
   },
   {
    "duration": 11,
    "start_time": "2023-12-12T13:09:42.128Z"
   },
   {
    "duration": 4,
    "start_time": "2023-12-12T13:09:42.140Z"
   },
   {
    "duration": 7,
    "start_time": "2023-12-12T13:09:42.147Z"
   },
   {
    "duration": 121,
    "start_time": "2023-12-12T13:09:42.155Z"
   },
   {
    "duration": 299,
    "start_time": "2023-12-12T13:09:42.277Z"
   },
   {
    "duration": 5,
    "start_time": "2023-12-12T13:09:42.578Z"
   },
   {
    "duration": 1171,
    "start_time": "2023-12-12T13:09:42.585Z"
   },
   {
    "duration": 856,
    "start_time": "2023-12-12T13:09:43.758Z"
   },
   {
    "duration": 22,
    "start_time": "2023-12-12T13:09:44.616Z"
   },
   {
    "duration": 16,
    "start_time": "2023-12-12T13:09:44.640Z"
   },
   {
    "duration": 26,
    "start_time": "2023-12-12T13:09:44.658Z"
   },
   {
    "duration": 125,
    "start_time": "2023-12-12T13:09:44.685Z"
   },
   {
    "duration": 0,
    "start_time": "2023-12-12T13:09:44.812Z"
   },
   {
    "duration": 1543,
    "start_time": "2023-12-12T20:18:23.913Z"
   },
   {
    "duration": 2,
    "start_time": "2023-12-12T20:18:25.458Z"
   },
   {
    "duration": 38,
    "start_time": "2023-12-12T20:18:25.462Z"
   },
   {
    "duration": 290,
    "start_time": "2023-12-12T20:18:25.502Z"
   },
   {
    "duration": 17,
    "start_time": "2023-12-12T20:18:25.795Z"
   },
   {
    "duration": 23,
    "start_time": "2023-12-12T20:18:25.813Z"
   },
   {
    "duration": 14,
    "start_time": "2023-12-12T20:18:25.837Z"
   },
   {
    "duration": 22,
    "start_time": "2023-12-12T20:18:25.852Z"
   },
   {
    "duration": 43,
    "start_time": "2023-12-12T20:18:25.875Z"
   },
   {
    "duration": 24,
    "start_time": "2023-12-12T20:18:25.920Z"
   },
   {
    "duration": 40,
    "start_time": "2023-12-12T20:18:25.946Z"
   },
   {
    "duration": 17,
    "start_time": "2023-12-12T20:18:25.988Z"
   },
   {
    "duration": 26,
    "start_time": "2023-12-12T20:18:26.007Z"
   },
   {
    "duration": 20,
    "start_time": "2023-12-12T20:18:26.036Z"
   },
   {
    "duration": 158,
    "start_time": "2023-12-12T20:18:26.058Z"
   },
   {
    "duration": 264,
    "start_time": "2023-12-12T20:18:26.218Z"
   },
   {
    "duration": 5,
    "start_time": "2023-12-12T20:18:26.483Z"
   },
   {
    "duration": 1101,
    "start_time": "2023-12-12T20:18:26.490Z"
   },
   {
    "duration": 844,
    "start_time": "2023-12-12T20:18:27.592Z"
   },
   {
    "duration": 20,
    "start_time": "2023-12-12T20:18:28.438Z"
   },
   {
    "duration": 23,
    "start_time": "2023-12-12T20:18:28.459Z"
   },
   {
    "duration": 35,
    "start_time": "2023-12-12T20:18:28.483Z"
   },
   {
    "duration": 116,
    "start_time": "2023-12-12T20:18:28.520Z"
   },
   {
    "duration": 0,
    "start_time": "2023-12-12T20:18:28.638Z"
   },
   {
    "duration": 33,
    "start_time": "2023-12-12T20:19:43.009Z"
   },
   {
    "duration": 42,
    "start_time": "2023-12-12T20:21:52.738Z"
   },
   {
    "duration": 12,
    "start_time": "2023-12-12T20:21:59.856Z"
   },
   {
    "duration": 11,
    "start_time": "2023-12-12T20:24:59.036Z"
   },
   {
    "duration": 12,
    "start_time": "2023-12-12T20:25:18.988Z"
   },
   {
    "duration": 7,
    "start_time": "2023-12-12T20:26:30.695Z"
   },
   {
    "duration": 87,
    "start_time": "2023-12-12T20:29:07.365Z"
   },
   {
    "duration": 24,
    "start_time": "2023-12-12T20:29:50.190Z"
   },
   {
    "duration": 8,
    "start_time": "2023-12-12T20:30:19.145Z"
   },
   {
    "duration": 7,
    "start_time": "2023-12-12T20:31:44.745Z"
   },
   {
    "duration": 14,
    "start_time": "2023-12-12T20:32:34.116Z"
   },
   {
    "duration": 23,
    "start_time": "2023-12-12T20:32:38.692Z"
   },
   {
    "duration": 7,
    "start_time": "2023-12-12T20:32:49.611Z"
   },
   {
    "duration": 8,
    "start_time": "2023-12-12T20:32:52.299Z"
   },
   {
    "duration": 1364,
    "start_time": "2023-12-12T20:33:03.398Z"
   },
   {
    "duration": 2,
    "start_time": "2023-12-12T20:33:04.764Z"
   },
   {
    "duration": 4,
    "start_time": "2023-12-12T20:33:04.768Z"
   },
   {
    "duration": 94,
    "start_time": "2023-12-12T20:33:04.773Z"
   },
   {
    "duration": 15,
    "start_time": "2023-12-12T20:33:04.869Z"
   },
   {
    "duration": 29,
    "start_time": "2023-12-12T20:33:04.885Z"
   },
   {
    "duration": 7,
    "start_time": "2023-12-12T20:33:04.915Z"
   },
   {
    "duration": 12,
    "start_time": "2023-12-12T20:33:04.923Z"
   },
   {
    "duration": 6,
    "start_time": "2023-12-12T20:33:04.937Z"
   },
   {
    "duration": 39,
    "start_time": "2023-12-12T20:33:04.944Z"
   },
   {
    "duration": 7,
    "start_time": "2023-12-12T20:33:04.984Z"
   },
   {
    "duration": 17,
    "start_time": "2023-12-12T20:33:04.992Z"
   },
   {
    "duration": 15,
    "start_time": "2023-12-12T20:33:05.011Z"
   },
   {
    "duration": 23,
    "start_time": "2023-12-12T20:33:05.028Z"
   },
   {
    "duration": 43,
    "start_time": "2023-12-12T20:33:05.052Z"
   },
   {
    "duration": 15,
    "start_time": "2023-12-12T20:33:05.097Z"
   },
   {
    "duration": 5,
    "start_time": "2023-12-12T20:33:05.113Z"
   },
   {
    "duration": 13,
    "start_time": "2023-12-12T20:33:05.119Z"
   },
   {
    "duration": 16,
    "start_time": "2023-12-12T20:33:05.134Z"
   },
   {
    "duration": 117,
    "start_time": "2023-12-12T20:33:05.151Z"
   },
   {
    "duration": 264,
    "start_time": "2023-12-12T20:33:05.269Z"
   },
   {
    "duration": 5,
    "start_time": "2023-12-12T20:33:05.535Z"
   },
   {
    "duration": 1087,
    "start_time": "2023-12-12T20:33:05.541Z"
   },
   {
    "duration": 791,
    "start_time": "2023-12-12T20:33:06.629Z"
   },
   {
    "duration": 21,
    "start_time": "2023-12-12T20:33:07.422Z"
   },
   {
    "duration": 16,
    "start_time": "2023-12-12T20:33:07.445Z"
   },
   {
    "duration": 29,
    "start_time": "2023-12-12T20:33:07.463Z"
   },
   {
    "duration": 480,
    "start_time": "2023-12-12T20:33:07.494Z"
   },
   {
    "duration": 0,
    "start_time": "2023-12-12T20:33:07.975Z"
   },
   {
    "duration": 8610,
    "start_time": "2023-12-12T20:34:31.749Z"
   },
   {
    "duration": 424,
    "start_time": "2023-12-12T20:35:51.014Z"
   },
   {
    "duration": 5,
    "start_time": "2023-12-12T20:37:02.877Z"
   },
   {
    "duration": 1401,
    "start_time": "2023-12-12T20:38:20.246Z"
   },
   {
    "duration": 2,
    "start_time": "2023-12-12T20:38:21.649Z"
   },
   {
    "duration": 8,
    "start_time": "2023-12-12T20:38:21.652Z"
   },
   {
    "duration": 96,
    "start_time": "2023-12-12T20:38:21.661Z"
   },
   {
    "duration": 18,
    "start_time": "2023-12-12T20:38:21.759Z"
   },
   {
    "duration": 41,
    "start_time": "2023-12-12T20:38:21.779Z"
   },
   {
    "duration": 9,
    "start_time": "2023-12-12T20:38:21.822Z"
   },
   {
    "duration": 12,
    "start_time": "2023-12-12T20:38:21.833Z"
   },
   {
    "duration": 8,
    "start_time": "2023-12-12T20:38:21.846Z"
   },
   {
    "duration": 41,
    "start_time": "2023-12-12T20:38:21.856Z"
   },
   {
    "duration": 8,
    "start_time": "2023-12-12T20:38:21.898Z"
   },
   {
    "duration": 11,
    "start_time": "2023-12-12T20:38:21.908Z"
   },
   {
    "duration": 4,
    "start_time": "2023-12-12T20:38:21.920Z"
   },
   {
    "duration": 6,
    "start_time": "2023-12-12T20:38:21.926Z"
   },
   {
    "duration": 7,
    "start_time": "2023-12-12T20:38:21.933Z"
   },
   {
    "duration": 9,
    "start_time": "2023-12-12T20:38:21.941Z"
   },
   {
    "duration": 6,
    "start_time": "2023-12-12T20:38:21.982Z"
   },
   {
    "duration": 12,
    "start_time": "2023-12-12T20:38:21.990Z"
   },
   {
    "duration": 9,
    "start_time": "2023-12-12T20:38:22.003Z"
   },
   {
    "duration": 128,
    "start_time": "2023-12-12T20:38:22.013Z"
   },
   {
    "duration": 269,
    "start_time": "2023-12-12T20:38:22.142Z"
   },
   {
    "duration": 4,
    "start_time": "2023-12-12T20:38:22.413Z"
   },
   {
    "duration": 1195,
    "start_time": "2023-12-12T20:38:22.419Z"
   },
   {
    "duration": 824,
    "start_time": "2023-12-12T20:38:23.616Z"
   },
   {
    "duration": 20,
    "start_time": "2023-12-12T20:38:24.442Z"
   },
   {
    "duration": 21,
    "start_time": "2023-12-12T20:38:24.464Z"
   },
   {
    "duration": 32,
    "start_time": "2023-12-12T20:38:24.486Z"
   },
   {
    "duration": 3,
    "start_time": "2023-12-12T20:38:24.520Z"
   },
   {
    "duration": 483,
    "start_time": "2023-12-12T20:38:24.524Z"
   },
   {
    "duration": 0,
    "start_time": "2023-12-12T20:38:25.008Z"
   },
   {
    "duration": 11,
    "start_time": "2023-12-12T20:43:13.231Z"
   },
   {
    "duration": 49,
    "start_time": "2023-12-12T20:43:21.461Z"
   },
   {
    "duration": 75,
    "start_time": "2023-12-12T20:44:02.172Z"
   },
   {
    "duration": 391,
    "start_time": "2023-12-12T20:44:38.382Z"
   },
   {
    "duration": 243,
    "start_time": "2023-12-12T20:44:47.240Z"
   },
   {
    "duration": 276,
    "start_time": "2023-12-12T20:45:00.987Z"
   },
   {
    "duration": 234,
    "start_time": "2023-12-12T20:46:51.261Z"
   },
   {
    "duration": 240,
    "start_time": "2023-12-12T20:46:56.504Z"
   },
   {
    "duration": 236,
    "start_time": "2023-12-12T20:47:06.524Z"
   },
   {
    "duration": 81,
    "start_time": "2023-12-12T20:51:32.485Z"
   },
   {
    "duration": 75,
    "start_time": "2023-12-12T20:51:38.933Z"
   },
   {
    "duration": 88,
    "start_time": "2023-12-12T20:51:43.474Z"
   },
   {
    "duration": 233,
    "start_time": "2023-12-12T20:52:33.166Z"
   },
   {
    "duration": 246,
    "start_time": "2023-12-12T20:52:52.022Z"
   },
   {
    "duration": 241,
    "start_time": "2023-12-12T20:53:22.754Z"
   },
   {
    "duration": 260,
    "start_time": "2023-12-12T20:53:29.645Z"
   },
   {
    "duration": 145,
    "start_time": "2023-12-12T20:54:28.054Z"
   },
   {
    "duration": 194,
    "start_time": "2023-12-12T20:55:47.766Z"
   },
   {
    "duration": 92,
    "start_time": "2023-12-12T20:55:56.133Z"
   },
   {
    "duration": 9,
    "start_time": "2023-12-12T20:58:20.784Z"
   },
   {
    "duration": 4,
    "start_time": "2023-12-12T20:58:28.474Z"
   },
   {
    "duration": 147,
    "start_time": "2023-12-12T20:58:47.835Z"
   },
   {
    "duration": 156,
    "start_time": "2023-12-12T20:58:56.430Z"
   },
   {
    "duration": 101,
    "start_time": "2023-12-12T20:59:18.484Z"
   },
   {
    "duration": 78,
    "start_time": "2023-12-12T21:00:54.905Z"
   },
   {
    "duration": 4,
    "start_time": "2023-12-12T21:01:07.042Z"
   },
   {
    "duration": 146,
    "start_time": "2023-12-12T21:01:09.156Z"
   },
   {
    "duration": 6,
    "start_time": "2023-12-12T21:01:17.763Z"
   },
   {
    "duration": 163,
    "start_time": "2023-12-12T21:01:19.342Z"
   },
   {
    "duration": 1345,
    "start_time": "2023-12-12T21:01:25.871Z"
   },
   {
    "duration": 2,
    "start_time": "2023-12-12T21:01:27.218Z"
   },
   {
    "duration": 5,
    "start_time": "2023-12-12T21:01:27.222Z"
   },
   {
    "duration": 88,
    "start_time": "2023-12-12T21:01:27.228Z"
   },
   {
    "duration": 14,
    "start_time": "2023-12-12T21:01:27.318Z"
   },
   {
    "duration": 28,
    "start_time": "2023-12-12T21:01:27.333Z"
   },
   {
    "duration": 6,
    "start_time": "2023-12-12T21:01:27.363Z"
   },
   {
    "duration": 13,
    "start_time": "2023-12-12T21:01:27.370Z"
   },
   {
    "duration": 8,
    "start_time": "2023-12-12T21:01:27.385Z"
   },
   {
    "duration": 21,
    "start_time": "2023-12-12T21:01:27.394Z"
   },
   {
    "duration": 6,
    "start_time": "2023-12-12T21:01:27.416Z"
   },
   {
    "duration": 22,
    "start_time": "2023-12-12T21:01:27.423Z"
   },
   {
    "duration": 3,
    "start_time": "2023-12-12T21:01:27.447Z"
   },
   {
    "duration": 11,
    "start_time": "2023-12-12T21:01:27.453Z"
   },
   {
    "duration": 18,
    "start_time": "2023-12-12T21:01:27.465Z"
   },
   {
    "duration": 26,
    "start_time": "2023-12-12T21:01:27.484Z"
   },
   {
    "duration": 10,
    "start_time": "2023-12-12T21:01:27.511Z"
   },
   {
    "duration": 9,
    "start_time": "2023-12-12T21:01:27.522Z"
   },
   {
    "duration": 11,
    "start_time": "2023-12-12T21:01:27.533Z"
   },
   {
    "duration": 105,
    "start_time": "2023-12-12T21:01:27.546Z"
   },
   {
    "duration": 271,
    "start_time": "2023-12-12T21:01:27.653Z"
   },
   {
    "duration": 245,
    "start_time": "2023-12-12T21:01:27.925Z"
   },
   {
    "duration": 1072,
    "start_time": "2023-12-12T21:01:28.172Z"
   },
   {
    "duration": 101,
    "start_time": "2023-12-12T21:01:29.246Z"
   },
   {
    "duration": 5,
    "start_time": "2023-12-12T21:01:29.348Z"
   },
   {
    "duration": 149,
    "start_time": "2023-12-12T21:01:29.354Z"
   },
   {
    "duration": 1017,
    "start_time": "2023-12-12T21:01:29.504Z"
   },
   {
    "duration": 64,
    "start_time": "2023-12-12T21:01:30.523Z"
   },
   {
    "duration": 21,
    "start_time": "2023-12-12T21:01:30.589Z"
   },
   {
    "duration": 99,
    "start_time": "2023-12-12T21:01:30.611Z"
   },
   {
    "duration": 3,
    "start_time": "2023-12-12T21:01:30.712Z"
   },
   {
    "duration": 1029,
    "start_time": "2023-12-12T21:01:30.717Z"
   },
   {
    "duration": 0,
    "start_time": "2023-12-12T21:01:31.748Z"
   },
   {
    "duration": 169,
    "start_time": "2023-12-12T21:02:02.178Z"
   },
   {
    "duration": 158,
    "start_time": "2023-12-12T21:03:15.086Z"
   },
   {
    "duration": 1397,
    "start_time": "2023-12-12T21:03:28.186Z"
   },
   {
    "duration": 2,
    "start_time": "2023-12-12T21:03:29.585Z"
   },
   {
    "duration": 4,
    "start_time": "2023-12-12T21:03:29.589Z"
   },
   {
    "duration": 89,
    "start_time": "2023-12-12T21:03:29.595Z"
   },
   {
    "duration": 15,
    "start_time": "2023-12-12T21:03:29.685Z"
   },
   {
    "duration": 28,
    "start_time": "2023-12-12T21:03:29.702Z"
   },
   {
    "duration": 7,
    "start_time": "2023-12-12T21:03:29.731Z"
   },
   {
    "duration": 14,
    "start_time": "2023-12-12T21:03:29.739Z"
   },
   {
    "duration": 29,
    "start_time": "2023-12-12T21:03:29.754Z"
   },
   {
    "duration": 10,
    "start_time": "2023-12-12T21:03:29.786Z"
   },
   {
    "duration": 8,
    "start_time": "2023-12-12T21:03:29.798Z"
   },
   {
    "duration": 12,
    "start_time": "2023-12-12T21:03:29.808Z"
   },
   {
    "duration": 4,
    "start_time": "2023-12-12T21:03:29.822Z"
   },
   {
    "duration": 8,
    "start_time": "2023-12-12T21:03:29.828Z"
   },
   {
    "duration": 46,
    "start_time": "2023-12-12T21:03:29.837Z"
   },
   {
    "duration": 6,
    "start_time": "2023-12-12T21:03:29.884Z"
   },
   {
    "duration": 29,
    "start_time": "2023-12-12T21:03:29.891Z"
   },
   {
    "duration": 14,
    "start_time": "2023-12-12T21:03:29.922Z"
   },
   {
    "duration": 19,
    "start_time": "2023-12-12T21:03:29.938Z"
   },
   {
    "duration": 108,
    "start_time": "2023-12-12T21:03:29.959Z"
   },
   {
    "duration": 263,
    "start_time": "2023-12-12T21:03:30.069Z"
   },
   {
    "duration": 254,
    "start_time": "2023-12-12T21:03:30.334Z"
   },
   {
    "duration": 1059,
    "start_time": "2023-12-12T21:03:30.590Z"
   },
   {
    "duration": 127,
    "start_time": "2023-12-12T21:03:31.650Z"
   },
   {
    "duration": 6,
    "start_time": "2023-12-12T21:03:31.781Z"
   },
   {
    "duration": 160,
    "start_time": "2023-12-12T21:03:31.789Z"
   },
   {
    "duration": 177,
    "start_time": "2023-12-12T21:03:31.951Z"
   },
   {
    "duration": 893,
    "start_time": "2023-12-12T21:03:32.131Z"
   },
   {
    "duration": 19,
    "start_time": "2023-12-12T21:03:33.026Z"
   },
   {
    "duration": 25,
    "start_time": "2023-12-12T21:03:33.046Z"
   },
   {
    "duration": 36,
    "start_time": "2023-12-12T21:03:33.072Z"
   },
   {
    "duration": 481,
    "start_time": "2023-12-12T21:03:33.110Z"
   },
   {
    "duration": 0,
    "start_time": "2023-12-12T21:03:33.593Z"
   },
   {
    "duration": 162,
    "start_time": "2023-12-12T21:03:44.317Z"
   },
   {
    "duration": 142,
    "start_time": "2023-12-12T21:03:48.531Z"
   },
   {
    "duration": 157,
    "start_time": "2023-12-12T21:04:22.472Z"
   },
   {
    "duration": 70,
    "start_time": "2023-12-12T21:04:46.358Z"
   },
   {
    "duration": 4,
    "start_time": "2023-12-12T21:04:53.102Z"
   },
   {
    "duration": 744,
    "start_time": "2023-12-12T21:08:34.473Z"
   },
   {
    "duration": 8,
    "start_time": "2023-12-12T21:10:21.614Z"
   },
   {
    "duration": 3,
    "start_time": "2023-12-12T21:10:55.117Z"
   },
   {
    "duration": 3,
    "start_time": "2023-12-12T21:11:06.670Z"
   },
   {
    "duration": 3,
    "start_time": "2023-12-12T21:11:26.403Z"
   },
   {
    "duration": 3,
    "start_time": "2023-12-12T21:11:34.925Z"
   },
   {
    "duration": 4,
    "start_time": "2023-12-12T21:12:13.234Z"
   },
   {
    "duration": 409,
    "start_time": "2023-12-12T21:12:21.392Z"
   },
   {
    "duration": 1313,
    "start_time": "2023-12-13T10:21:57.869Z"
   },
   {
    "duration": 3,
    "start_time": "2023-12-13T10:21:59.184Z"
   },
   {
    "duration": 17,
    "start_time": "2023-12-13T10:21:59.188Z"
   },
   {
    "duration": 264,
    "start_time": "2023-12-13T10:21:59.206Z"
   },
   {
    "duration": 14,
    "start_time": "2023-12-13T10:21:59.472Z"
   },
   {
    "duration": 25,
    "start_time": "2023-12-13T10:21:59.487Z"
   },
   {
    "duration": 5,
    "start_time": "2023-12-13T10:21:59.514Z"
   },
   {
    "duration": 18,
    "start_time": "2023-12-13T10:21:59.521Z"
   },
   {
    "duration": 4,
    "start_time": "2023-12-13T10:21:59.541Z"
   },
   {
    "duration": 10,
    "start_time": "2023-12-13T10:21:59.546Z"
   },
   {
    "duration": 5,
    "start_time": "2023-12-13T10:21:59.557Z"
   },
   {
    "duration": 17,
    "start_time": "2023-12-13T10:21:59.563Z"
   },
   {
    "duration": 12,
    "start_time": "2023-12-13T10:21:59.581Z"
   },
   {
    "duration": 6,
    "start_time": "2023-12-13T10:21:59.596Z"
   },
   {
    "duration": 14,
    "start_time": "2023-12-13T10:21:59.603Z"
   },
   {
    "duration": 7,
    "start_time": "2023-12-13T10:21:59.618Z"
   },
   {
    "duration": 21,
    "start_time": "2023-12-13T10:21:59.626Z"
   },
   {
    "duration": 16,
    "start_time": "2023-12-13T10:21:59.648Z"
   },
   {
    "duration": 12,
    "start_time": "2023-12-13T10:21:59.665Z"
   },
   {
    "duration": 98,
    "start_time": "2023-12-13T10:21:59.678Z"
   },
   {
    "duration": 224,
    "start_time": "2023-12-13T10:21:59.778Z"
   },
   {
    "duration": 223,
    "start_time": "2023-12-13T10:22:00.004Z"
   },
   {
    "duration": 924,
    "start_time": "2023-12-13T10:22:00.229Z"
   },
   {
    "duration": 91,
    "start_time": "2023-12-13T10:22:01.155Z"
   },
   {
    "duration": 4,
    "start_time": "2023-12-13T10:22:01.248Z"
   },
   {
    "duration": 140,
    "start_time": "2023-12-13T10:22:01.253Z"
   },
   {
    "duration": 117,
    "start_time": "2023-12-13T10:22:01.395Z"
   },
   {
    "duration": 776,
    "start_time": "2023-12-13T10:22:01.513Z"
   },
   {
    "duration": 18,
    "start_time": "2023-12-13T10:22:02.291Z"
   },
   {
    "duration": 31,
    "start_time": "2023-12-13T10:22:02.310Z"
   },
   {
    "duration": 36,
    "start_time": "2023-12-13T10:22:02.343Z"
   },
   {
    "duration": 15,
    "start_time": "2023-12-13T10:22:02.381Z"
   },
   {
    "duration": 24,
    "start_time": "2023-12-13T10:22:02.397Z"
   },
   {
    "duration": 23,
    "start_time": "2023-12-13T10:22:02.422Z"
   },
   {
    "duration": 26,
    "start_time": "2023-12-13T10:22:02.446Z"
   },
   {
    "duration": 15,
    "start_time": "2023-12-13T10:22:02.474Z"
   },
   {
    "duration": 37,
    "start_time": "2023-12-13T10:22:02.490Z"
   },
   {
    "duration": 429,
    "start_time": "2023-12-13T10:22:02.528Z"
   },
   {
    "duration": 0,
    "start_time": "2023-12-13T10:22:02.959Z"
   },
   {
    "duration": 1272,
    "start_time": "2023-12-13T11:35:32.998Z"
   },
   {
    "duration": 2,
    "start_time": "2023-12-13T11:35:34.272Z"
   },
   {
    "duration": 10,
    "start_time": "2023-12-13T11:35:34.275Z"
   },
   {
    "duration": 96,
    "start_time": "2023-12-13T11:35:34.287Z"
   },
   {
    "duration": 14,
    "start_time": "2023-12-13T11:35:34.385Z"
   },
   {
    "duration": 28,
    "start_time": "2023-12-13T11:35:34.401Z"
   },
   {
    "duration": 6,
    "start_time": "2023-12-13T11:35:34.431Z"
   },
   {
    "duration": 11,
    "start_time": "2023-12-13T11:35:34.438Z"
   },
   {
    "duration": 7,
    "start_time": "2023-12-13T11:35:34.450Z"
   },
   {
    "duration": 13,
    "start_time": "2023-12-13T11:35:34.459Z"
   },
   {
    "duration": 19,
    "start_time": "2023-12-13T11:35:34.473Z"
   },
   {
    "duration": 12,
    "start_time": "2023-12-13T11:35:34.494Z"
   },
   {
    "duration": 8,
    "start_time": "2023-12-13T11:35:34.507Z"
   },
   {
    "duration": 5,
    "start_time": "2023-12-13T11:35:34.516Z"
   },
   {
    "duration": 6,
    "start_time": "2023-12-13T11:35:34.522Z"
   },
   {
    "duration": 4,
    "start_time": "2023-12-13T11:35:34.529Z"
   },
   {
    "duration": 5,
    "start_time": "2023-12-13T11:35:34.534Z"
   },
   {
    "duration": 6,
    "start_time": "2023-12-13T11:35:34.540Z"
   },
   {
    "duration": 8,
    "start_time": "2023-12-13T11:35:34.547Z"
   },
   {
    "duration": 117,
    "start_time": "2023-12-13T11:35:34.556Z"
   },
   {
    "duration": 232,
    "start_time": "2023-12-13T11:35:34.674Z"
   },
   {
    "duration": 231,
    "start_time": "2023-12-13T11:35:34.907Z"
   },
   {
    "duration": 920,
    "start_time": "2023-12-13T11:35:35.140Z"
   },
   {
    "duration": 85,
    "start_time": "2023-12-13T11:35:36.061Z"
   },
   {
    "duration": 3,
    "start_time": "2023-12-13T11:35:36.148Z"
   },
   {
    "duration": 133,
    "start_time": "2023-12-13T11:35:36.152Z"
   },
   {
    "duration": 129,
    "start_time": "2023-12-13T11:35:36.286Z"
   },
   {
    "duration": 756,
    "start_time": "2023-12-13T11:35:36.418Z"
   },
   {
    "duration": 22,
    "start_time": "2023-12-13T11:35:37.176Z"
   },
   {
    "duration": 17,
    "start_time": "2023-12-13T11:35:37.199Z"
   },
   {
    "duration": 33,
    "start_time": "2023-12-13T11:35:37.217Z"
   },
   {
    "duration": 6,
    "start_time": "2023-12-13T11:35:37.252Z"
   },
   {
    "duration": 7,
    "start_time": "2023-12-13T11:35:37.259Z"
   },
   {
    "duration": 15,
    "start_time": "2023-12-13T11:35:37.267Z"
   },
   {
    "duration": 7,
    "start_time": "2023-12-13T11:35:37.283Z"
   },
   {
    "duration": 9,
    "start_time": "2023-12-13T11:35:37.291Z"
   },
   {
    "duration": 17,
    "start_time": "2023-12-13T11:35:37.302Z"
   },
   {
    "duration": 421,
    "start_time": "2023-12-13T11:35:37.321Z"
   },
   {
    "duration": 0,
    "start_time": "2023-12-13T11:35:37.743Z"
   },
   {
    "duration": 139,
    "start_time": "2023-12-13T11:36:09.974Z"
   },
   {
    "duration": 111,
    "start_time": "2023-12-13T11:37:14.871Z"
   },
   {
    "duration": 47,
    "start_time": "2023-12-13T15:44:35.010Z"
   },
   {
    "duration": 1569,
    "start_time": "2023-12-13T15:44:41.117Z"
   },
   {
    "duration": 3,
    "start_time": "2023-12-13T15:44:42.688Z"
   },
   {
    "duration": 27,
    "start_time": "2023-12-13T15:44:42.693Z"
   },
   {
    "duration": 298,
    "start_time": "2023-12-13T15:44:42.721Z"
   },
   {
    "duration": 16,
    "start_time": "2023-12-13T15:44:43.021Z"
   },
   {
    "duration": 24,
    "start_time": "2023-12-13T15:44:43.039Z"
   },
   {
    "duration": 7,
    "start_time": "2023-12-13T15:44:43.064Z"
   },
   {
    "duration": 19,
    "start_time": "2023-12-13T15:44:43.072Z"
   },
   {
    "duration": 6,
    "start_time": "2023-12-13T15:44:43.093Z"
   },
   {
    "duration": 10,
    "start_time": "2023-12-13T15:44:43.101Z"
   },
   {
    "duration": 8,
    "start_time": "2023-12-13T15:44:43.113Z"
   },
   {
    "duration": 33,
    "start_time": "2023-12-13T15:44:43.123Z"
   },
   {
    "duration": 7,
    "start_time": "2023-12-13T15:44:43.158Z"
   },
   {
    "duration": 10,
    "start_time": "2023-12-13T15:44:43.169Z"
   },
   {
    "duration": 32,
    "start_time": "2023-12-13T15:44:43.181Z"
   },
   {
    "duration": 15,
    "start_time": "2023-12-13T15:44:43.215Z"
   },
   {
    "duration": 16,
    "start_time": "2023-12-13T15:44:43.231Z"
   },
   {
    "duration": 34,
    "start_time": "2023-12-13T15:44:43.248Z"
   },
   {
    "duration": 10,
    "start_time": "2023-12-13T15:44:43.283Z"
   },
   {
    "duration": 98,
    "start_time": "2023-12-13T15:44:43.294Z"
   },
   {
    "duration": 300,
    "start_time": "2023-12-13T15:44:43.394Z"
   },
   {
    "duration": 485,
    "start_time": "2023-12-13T15:44:43.695Z"
   },
   {
    "duration": 1263,
    "start_time": "2023-12-13T15:44:44.181Z"
   },
   {
    "duration": 83,
    "start_time": "2023-12-13T15:44:45.447Z"
   },
   {
    "duration": 4,
    "start_time": "2023-12-13T15:44:45.531Z"
   },
   {
    "duration": 136,
    "start_time": "2023-12-13T15:44:45.536Z"
   },
   {
    "duration": 442,
    "start_time": "2023-12-13T15:44:45.673Z"
   },
   {
    "duration": 0,
    "start_time": "2023-12-13T15:44:46.117Z"
   },
   {
    "duration": 0,
    "start_time": "2023-12-13T15:44:46.118Z"
   },
   {
    "duration": 0,
    "start_time": "2023-12-13T15:44:46.120Z"
   },
   {
    "duration": 0,
    "start_time": "2023-12-13T15:44:46.121Z"
   },
   {
    "duration": 0,
    "start_time": "2023-12-13T15:44:46.123Z"
   },
   {
    "duration": 0,
    "start_time": "2023-12-13T15:44:46.124Z"
   },
   {
    "duration": 0,
    "start_time": "2023-12-13T15:44:46.125Z"
   },
   {
    "duration": 0,
    "start_time": "2023-12-13T15:44:46.126Z"
   },
   {
    "duration": 0,
    "start_time": "2023-12-13T15:44:46.148Z"
   },
   {
    "duration": 0,
    "start_time": "2023-12-13T15:44:46.149Z"
   },
   {
    "duration": 0,
    "start_time": "2023-12-13T15:44:46.150Z"
   },
   {
    "duration": 0,
    "start_time": "2023-12-13T15:44:46.151Z"
   },
   {
    "duration": 0,
    "start_time": "2023-12-13T15:44:46.152Z"
   },
   {
    "duration": 196,
    "start_time": "2023-12-13T15:45:17.128Z"
   },
   {
    "duration": 249,
    "start_time": "2023-12-13T15:45:26.662Z"
   },
   {
    "duration": 174,
    "start_time": "2023-12-13T15:45:54.308Z"
   },
   {
    "duration": 168,
    "start_time": "2023-12-13T15:46:14.937Z"
   },
   {
    "duration": 172,
    "start_time": "2023-12-13T15:46:56.386Z"
   },
   {
    "duration": 167,
    "start_time": "2023-12-13T15:48:04.484Z"
   },
   {
    "duration": 166,
    "start_time": "2023-12-13T15:50:14.496Z"
   },
   {
    "duration": 12017,
    "start_time": "2023-12-13T15:55:40.541Z"
   },
   {
    "duration": 4454,
    "start_time": "2023-12-13T15:56:32.463Z"
   },
   {
    "duration": 13178,
    "start_time": "2023-12-13T15:58:57.483Z"
   },
   {
    "duration": 71,
    "start_time": "2023-12-13T16:02:50.500Z"
   },
   {
    "duration": 1114,
    "start_time": "2023-12-13T16:03:05.681Z"
   },
   {
    "duration": 68,
    "start_time": "2023-12-13T16:03:27.053Z"
   },
   {
    "duration": 936,
    "start_time": "2023-12-13T16:03:36.119Z"
   },
   {
    "duration": 1062,
    "start_time": "2023-12-13T16:03:55.342Z"
   },
   {
    "duration": 1047,
    "start_time": "2023-12-13T16:04:55.224Z"
   },
   {
    "duration": 1065,
    "start_time": "2023-12-13T16:04:59.825Z"
   },
   {
    "duration": 1308,
    "start_time": "2023-12-13T16:05:04.788Z"
   },
   {
    "duration": 1040,
    "start_time": "2023-12-13T16:05:09.339Z"
   },
   {
    "duration": 1040,
    "start_time": "2023-12-13T16:05:25.332Z"
   },
   {
    "duration": 1103,
    "start_time": "2023-12-13T16:05:54.187Z"
   },
   {
    "duration": 1356,
    "start_time": "2023-12-13T16:07:56.094Z"
   },
   {
    "duration": 1634,
    "start_time": "2023-12-13T16:08:21.080Z"
   },
   {
    "duration": 738,
    "start_time": "2023-12-13T16:23:21.232Z"
   },
   {
    "duration": 19,
    "start_time": "2023-12-13T16:23:28.868Z"
   },
   {
    "duration": 15,
    "start_time": "2023-12-13T16:23:29.073Z"
   },
   {
    "duration": 23,
    "start_time": "2023-12-13T16:23:29.242Z"
   },
   {
    "duration": 7,
    "start_time": "2023-12-13T16:24:28.818Z"
   },
   {
    "duration": 10,
    "start_time": "2023-12-13T16:28:41.293Z"
   },
   {
    "duration": 12,
    "start_time": "2023-12-13T16:28:50.890Z"
   },
   {
    "duration": 1284,
    "start_time": "2023-12-13T16:29:03.651Z"
   },
   {
    "duration": 2,
    "start_time": "2023-12-13T16:29:04.937Z"
   },
   {
    "duration": 24,
    "start_time": "2023-12-13T16:29:04.940Z"
   },
   {
    "duration": 105,
    "start_time": "2023-12-13T16:29:04.965Z"
   },
   {
    "duration": 13,
    "start_time": "2023-12-13T16:29:05.072Z"
   },
   {
    "duration": 27,
    "start_time": "2023-12-13T16:29:05.087Z"
   },
   {
    "duration": 6,
    "start_time": "2023-12-13T16:29:05.116Z"
   },
   {
    "duration": 11,
    "start_time": "2023-12-13T16:29:05.124Z"
   },
   {
    "duration": 5,
    "start_time": "2023-12-13T16:29:05.136Z"
   },
   {
    "duration": 9,
    "start_time": "2023-12-13T16:29:05.148Z"
   },
   {
    "duration": 11,
    "start_time": "2023-12-13T16:29:05.159Z"
   },
   {
    "duration": 10,
    "start_time": "2023-12-13T16:29:05.172Z"
   },
   {
    "duration": 6,
    "start_time": "2023-12-13T16:29:05.183Z"
   },
   {
    "duration": 5,
    "start_time": "2023-12-13T16:29:05.193Z"
   },
   {
    "duration": 27,
    "start_time": "2023-12-13T16:29:05.199Z"
   },
   {
    "duration": 5,
    "start_time": "2023-12-13T16:29:05.228Z"
   },
   {
    "duration": 25,
    "start_time": "2023-12-13T16:29:05.234Z"
   },
   {
    "duration": 19,
    "start_time": "2023-12-13T16:29:05.260Z"
   },
   {
    "duration": 29,
    "start_time": "2023-12-13T16:29:05.280Z"
   },
   {
    "duration": 104,
    "start_time": "2023-12-13T16:29:05.310Z"
   },
   {
    "duration": 256,
    "start_time": "2023-12-13T16:29:05.416Z"
   },
   {
    "duration": 229,
    "start_time": "2023-12-13T16:29:05.674Z"
   },
   {
    "duration": 1322,
    "start_time": "2023-12-13T16:29:05.904Z"
   },
   {
    "duration": 94,
    "start_time": "2023-12-13T16:29:07.227Z"
   },
   {
    "duration": 4,
    "start_time": "2023-12-13T16:29:07.323Z"
   },
   {
    "duration": 174,
    "start_time": "2023-12-13T16:29:07.328Z"
   },
   {
    "duration": 179,
    "start_time": "2023-12-13T16:29:07.503Z"
   },
   {
    "duration": 251,
    "start_time": "2023-12-13T16:29:07.684Z"
   },
   {
    "duration": 729,
    "start_time": "2023-12-13T16:29:07.937Z"
   },
   {
    "duration": 111,
    "start_time": "2023-12-13T16:29:08.668Z"
   },
   {
    "duration": 0,
    "start_time": "2023-12-13T16:29:08.781Z"
   },
   {
    "duration": 0,
    "start_time": "2023-12-13T16:29:08.782Z"
   },
   {
    "duration": 0,
    "start_time": "2023-12-13T16:29:08.783Z"
   },
   {
    "duration": 0,
    "start_time": "2023-12-13T16:29:08.784Z"
   },
   {
    "duration": 0,
    "start_time": "2023-12-13T16:29:08.785Z"
   },
   {
    "duration": 0,
    "start_time": "2023-12-13T16:29:08.786Z"
   },
   {
    "duration": 0,
    "start_time": "2023-12-13T16:29:08.787Z"
   },
   {
    "duration": 0,
    "start_time": "2023-12-13T16:29:08.788Z"
   },
   {
    "duration": 0,
    "start_time": "2023-12-13T16:29:08.788Z"
   },
   {
    "duration": 0,
    "start_time": "2023-12-13T16:29:08.789Z"
   },
   {
    "duration": 0,
    "start_time": "2023-12-13T16:29:08.790Z"
   },
   {
    "duration": 0,
    "start_time": "2023-12-13T16:29:08.791Z"
   },
   {
    "duration": 2,
    "start_time": "2023-12-13T16:29:27.206Z"
   },
   {
    "duration": 1164,
    "start_time": "2023-12-13T16:29:28.144Z"
   },
   {
    "duration": 1151,
    "start_time": "2023-12-13T16:29:38.491Z"
   },
   {
    "duration": 1464,
    "start_time": "2023-12-13T16:30:15.024Z"
   },
   {
    "duration": 1242,
    "start_time": "2023-12-13T16:30:51.690Z"
   },
   {
    "duration": 1326,
    "start_time": "2023-12-13T16:31:52.335Z"
   },
   {
    "duration": 2,
    "start_time": "2023-12-13T16:31:53.663Z"
   },
   {
    "duration": 14,
    "start_time": "2023-12-13T16:31:53.667Z"
   },
   {
    "duration": 95,
    "start_time": "2023-12-13T16:31:53.682Z"
   },
   {
    "duration": 13,
    "start_time": "2023-12-13T16:31:53.779Z"
   },
   {
    "duration": 23,
    "start_time": "2023-12-13T16:31:53.794Z"
   },
   {
    "duration": 6,
    "start_time": "2023-12-13T16:31:53.819Z"
   },
   {
    "duration": 17,
    "start_time": "2023-12-13T16:31:53.826Z"
   },
   {
    "duration": 10,
    "start_time": "2023-12-13T16:31:53.845Z"
   },
   {
    "duration": 21,
    "start_time": "2023-12-13T16:31:53.856Z"
   },
   {
    "duration": 15,
    "start_time": "2023-12-13T16:31:53.879Z"
   },
   {
    "duration": 19,
    "start_time": "2023-12-13T16:31:53.895Z"
   },
   {
    "duration": 12,
    "start_time": "2023-12-13T16:31:53.915Z"
   },
   {
    "duration": 50,
    "start_time": "2023-12-13T16:31:53.930Z"
   },
   {
    "duration": 17,
    "start_time": "2023-12-13T16:31:53.981Z"
   },
   {
    "duration": 12,
    "start_time": "2023-12-13T16:31:53.999Z"
   },
   {
    "duration": 16,
    "start_time": "2023-12-13T16:31:54.012Z"
   },
   {
    "duration": 27,
    "start_time": "2023-12-13T16:31:54.029Z"
   },
   {
    "duration": 22,
    "start_time": "2023-12-13T16:31:54.057Z"
   },
   {
    "duration": 100,
    "start_time": "2023-12-13T16:31:54.080Z"
   },
   {
    "duration": 236,
    "start_time": "2023-12-13T16:31:54.181Z"
   },
   {
    "duration": 229,
    "start_time": "2023-12-13T16:31:54.418Z"
   },
   {
    "duration": 1303,
    "start_time": "2023-12-13T16:31:54.649Z"
   },
   {
    "duration": 85,
    "start_time": "2023-12-13T16:31:55.953Z"
   },
   {
    "duration": 11,
    "start_time": "2023-12-13T16:31:56.039Z"
   },
   {
    "duration": 184,
    "start_time": "2023-12-13T16:31:56.052Z"
   },
   {
    "duration": 164,
    "start_time": "2023-12-13T16:31:56.237Z"
   },
   {
    "duration": 243,
    "start_time": "2023-12-13T16:31:56.402Z"
   },
   {
    "duration": 734,
    "start_time": "2023-12-13T16:31:56.648Z"
   },
   {
    "duration": 2,
    "start_time": "2023-12-13T16:31:57.384Z"
   },
   {
    "duration": 1447,
    "start_time": "2023-12-13T16:31:57.388Z"
   },
   {
    "duration": 0,
    "start_time": "2023-12-13T16:31:58.837Z"
   },
   {
    "duration": 0,
    "start_time": "2023-12-13T16:31:58.838Z"
   },
   {
    "duration": 0,
    "start_time": "2023-12-13T16:31:58.839Z"
   },
   {
    "duration": 0,
    "start_time": "2023-12-13T16:31:58.841Z"
   },
   {
    "duration": 0,
    "start_time": "2023-12-13T16:31:58.841Z"
   },
   {
    "duration": 0,
    "start_time": "2023-12-13T16:31:58.842Z"
   },
   {
    "duration": 0,
    "start_time": "2023-12-13T16:31:58.843Z"
   },
   {
    "duration": 0,
    "start_time": "2023-12-13T16:31:58.844Z"
   },
   {
    "duration": 0,
    "start_time": "2023-12-13T16:31:58.845Z"
   },
   {
    "duration": 0,
    "start_time": "2023-12-13T16:31:58.846Z"
   },
   {
    "duration": 0,
    "start_time": "2023-12-13T16:31:58.846Z"
   },
   {
    "duration": 1255,
    "start_time": "2023-12-13T16:32:33.122Z"
   },
   {
    "duration": 11872,
    "start_time": "2023-12-13T16:32:58.370Z"
   },
   {
    "duration": 1394,
    "start_time": "2023-12-13T16:40:28.170Z"
   },
   {
    "duration": 1246,
    "start_time": "2023-12-13T16:41:11.416Z"
   },
   {
    "duration": 23,
    "start_time": "2023-12-13T16:43:21.938Z"
   },
   {
    "duration": 16,
    "start_time": "2023-12-13T16:43:22.852Z"
   },
   {
    "duration": 27,
    "start_time": "2023-12-13T16:43:23.267Z"
   },
   {
    "duration": 15,
    "start_time": "2023-12-13T16:43:24.536Z"
   },
   {
    "duration": 3,
    "start_time": "2023-12-13T16:43:24.940Z"
   },
   {
    "duration": 1417,
    "start_time": "2023-12-13T16:43:47.335Z"
   },
   {
    "duration": 5,
    "start_time": "2023-12-13T16:43:48.754Z"
   },
   {
    "duration": 9,
    "start_time": "2023-12-13T16:43:48.760Z"
   },
   {
    "duration": 126,
    "start_time": "2023-12-13T16:43:48.771Z"
   },
   {
    "duration": 15,
    "start_time": "2023-12-13T16:43:48.898Z"
   },
   {
    "duration": 31,
    "start_time": "2023-12-13T16:43:48.914Z"
   },
   {
    "duration": 11,
    "start_time": "2023-12-13T16:43:48.946Z"
   },
   {
    "duration": 12,
    "start_time": "2023-12-13T16:43:48.958Z"
   },
   {
    "duration": 8,
    "start_time": "2023-12-13T16:43:48.972Z"
   },
   {
    "duration": 23,
    "start_time": "2023-12-13T16:43:48.983Z"
   },
   {
    "duration": 39,
    "start_time": "2023-12-13T16:43:49.007Z"
   },
   {
    "duration": 22,
    "start_time": "2023-12-13T16:43:49.047Z"
   },
   {
    "duration": 22,
    "start_time": "2023-12-13T16:43:49.071Z"
   },
   {
    "duration": 22,
    "start_time": "2023-12-13T16:43:49.095Z"
   },
   {
    "duration": 32,
    "start_time": "2023-12-13T16:43:49.118Z"
   },
   {
    "duration": 27,
    "start_time": "2023-12-13T16:43:49.154Z"
   },
   {
    "duration": 44,
    "start_time": "2023-12-13T16:43:49.183Z"
   },
   {
    "duration": 30,
    "start_time": "2023-12-13T16:43:49.228Z"
   },
   {
    "duration": 46,
    "start_time": "2023-12-13T16:43:49.259Z"
   },
   {
    "duration": 155,
    "start_time": "2023-12-13T16:43:49.307Z"
   },
   {
    "duration": 252,
    "start_time": "2023-12-13T16:43:49.464Z"
   },
   {
    "duration": 254,
    "start_time": "2023-12-13T16:43:49.718Z"
   },
   {
    "duration": 1430,
    "start_time": "2023-12-13T16:43:49.974Z"
   },
   {
    "duration": 100,
    "start_time": "2023-12-13T16:43:51.406Z"
   },
   {
    "duration": 4,
    "start_time": "2023-12-13T16:43:51.508Z"
   },
   {
    "duration": 182,
    "start_time": "2023-12-13T16:43:51.513Z"
   },
   {
    "duration": 164,
    "start_time": "2023-12-13T16:43:51.697Z"
   },
   {
    "duration": 255,
    "start_time": "2023-12-13T16:43:51.865Z"
   },
   {
    "duration": 848,
    "start_time": "2023-12-13T16:43:52.122Z"
   },
   {
    "duration": 3,
    "start_time": "2023-12-13T16:43:52.972Z"
   },
   {
    "duration": 54,
    "start_time": "2023-12-13T16:43:52.977Z"
   },
   {
    "duration": 27,
    "start_time": "2023-12-13T16:43:53.032Z"
   },
   {
    "duration": 17,
    "start_time": "2023-12-13T16:43:53.061Z"
   },
   {
    "duration": 22,
    "start_time": "2023-12-13T16:43:53.079Z"
   },
   {
    "duration": 7,
    "start_time": "2023-12-13T16:43:53.103Z"
   },
   {
    "duration": 4,
    "start_time": "2023-12-13T16:43:53.111Z"
   },
   {
    "duration": 5,
    "start_time": "2023-12-13T16:43:53.116Z"
   },
   {
    "duration": 3,
    "start_time": "2023-12-13T16:43:53.147Z"
   },
   {
    "duration": 12,
    "start_time": "2023-12-13T16:43:53.152Z"
   },
   {
    "duration": 15,
    "start_time": "2023-12-13T16:43:53.166Z"
   },
   {
    "duration": 471,
    "start_time": "2023-12-13T16:43:53.182Z"
   },
   {
    "duration": 0,
    "start_time": "2023-12-13T16:43:53.655Z"
   },
   {
    "duration": 7,
    "start_time": "2023-12-13T17:11:18.767Z"
   },
   {
    "duration": 3,
    "start_time": "2023-12-13T17:11:19.153Z"
   },
   {
    "duration": 4,
    "start_time": "2023-12-13T17:11:19.582Z"
   },
   {
    "duration": 3,
    "start_time": "2023-12-13T17:11:20.145Z"
   },
   {
    "duration": 3,
    "start_time": "2023-12-13T17:11:20.862Z"
   },
   {
    "duration": 5,
    "start_time": "2023-12-13T17:11:21.442Z"
   },
   {
    "duration": 9547,
    "start_time": "2023-12-13T17:11:22.783Z"
   },
   {
    "duration": 8,
    "start_time": "2023-12-13T17:15:33.059Z"
   },
   {
    "duration": 2,
    "start_time": "2023-12-13T17:15:33.449Z"
   },
   {
    "duration": 3,
    "start_time": "2023-12-13T17:15:33.834Z"
   },
   {
    "duration": 3,
    "start_time": "2023-12-13T17:15:34.308Z"
   },
   {
    "duration": 4,
    "start_time": "2023-12-13T17:15:34.707Z"
   },
   {
    "duration": 4,
    "start_time": "2023-12-13T17:15:35.180Z"
   },
   {
    "duration": 338,
    "start_time": "2023-12-13T17:15:35.815Z"
   },
   {
    "duration": 1339,
    "start_time": "2023-12-13T17:18:22.024Z"
   },
   {
    "duration": 3,
    "start_time": "2023-12-13T17:18:23.364Z"
   },
   {
    "duration": 13,
    "start_time": "2023-12-13T17:18:23.368Z"
   },
   {
    "duration": 93,
    "start_time": "2023-12-13T17:18:23.383Z"
   },
   {
    "duration": 13,
    "start_time": "2023-12-13T17:18:23.477Z"
   },
   {
    "duration": 24,
    "start_time": "2023-12-13T17:18:23.492Z"
   },
   {
    "duration": 6,
    "start_time": "2023-12-13T17:18:23.517Z"
   },
   {
    "duration": 18,
    "start_time": "2023-12-13T17:18:23.524Z"
   },
   {
    "duration": 12,
    "start_time": "2023-12-13T17:18:23.543Z"
   },
   {
    "duration": 9,
    "start_time": "2023-12-13T17:18:23.557Z"
   },
   {
    "duration": 10,
    "start_time": "2023-12-13T17:18:23.567Z"
   },
   {
    "duration": 19,
    "start_time": "2023-12-13T17:18:23.578Z"
   },
   {
    "duration": 4,
    "start_time": "2023-12-13T17:18:23.598Z"
   },
   {
    "duration": 8,
    "start_time": "2023-12-13T17:18:23.603Z"
   },
   {
    "duration": 17,
    "start_time": "2023-12-13T17:18:23.612Z"
   },
   {
    "duration": 10,
    "start_time": "2023-12-13T17:18:23.630Z"
   },
   {
    "duration": 28,
    "start_time": "2023-12-13T17:18:23.641Z"
   },
   {
    "duration": 28,
    "start_time": "2023-12-13T17:18:23.670Z"
   },
   {
    "duration": 27,
    "start_time": "2023-12-13T17:18:23.699Z"
   },
   {
    "duration": 104,
    "start_time": "2023-12-13T17:18:23.727Z"
   },
   {
    "duration": 232,
    "start_time": "2023-12-13T17:18:23.833Z"
   },
   {
    "duration": 239,
    "start_time": "2023-12-13T17:18:24.066Z"
   },
   {
    "duration": 1309,
    "start_time": "2023-12-13T17:18:24.306Z"
   },
   {
    "duration": 92,
    "start_time": "2023-12-13T17:18:25.616Z"
   },
   {
    "duration": 3,
    "start_time": "2023-12-13T17:18:25.710Z"
   },
   {
    "duration": 175,
    "start_time": "2023-12-13T17:18:25.714Z"
   },
   {
    "duration": 158,
    "start_time": "2023-12-13T17:18:25.890Z"
   },
   {
    "duration": 239,
    "start_time": "2023-12-13T17:18:26.050Z"
   },
   {
    "duration": 716,
    "start_time": "2023-12-13T17:18:26.290Z"
   },
   {
    "duration": 2,
    "start_time": "2023-12-13T17:18:27.008Z"
   },
   {
    "duration": 20,
    "start_time": "2023-12-13T17:18:27.011Z"
   },
   {
    "duration": 31,
    "start_time": "2023-12-13T17:18:27.032Z"
   },
   {
    "duration": 22,
    "start_time": "2023-12-13T17:18:27.065Z"
   },
   {
    "duration": 26,
    "start_time": "2023-12-13T17:18:27.089Z"
   },
   {
    "duration": 10,
    "start_time": "2023-12-13T17:18:27.117Z"
   },
   {
    "duration": 15,
    "start_time": "2023-12-13T17:18:27.128Z"
   },
   {
    "duration": 24,
    "start_time": "2023-12-13T17:18:27.144Z"
   },
   {
    "duration": 29,
    "start_time": "2023-12-13T17:18:27.169Z"
   },
   {
    "duration": 28,
    "start_time": "2023-12-13T17:18:27.200Z"
   },
   {
    "duration": 13,
    "start_time": "2023-12-13T17:18:27.229Z"
   },
   {
    "duration": 480,
    "start_time": "2023-12-13T17:18:27.244Z"
   },
   {
    "duration": 0,
    "start_time": "2023-12-13T17:18:27.726Z"
   },
   {
    "duration": 1307,
    "start_time": "2023-12-13T17:19:07.631Z"
   },
   {
    "duration": 2,
    "start_time": "2023-12-13T17:19:08.940Z"
   },
   {
    "duration": 18,
    "start_time": "2023-12-13T17:19:08.943Z"
   },
   {
    "duration": 97,
    "start_time": "2023-12-13T17:19:08.963Z"
   },
   {
    "duration": 13,
    "start_time": "2023-12-13T17:19:09.061Z"
   },
   {
    "duration": 40,
    "start_time": "2023-12-13T17:19:09.075Z"
   },
   {
    "duration": 8,
    "start_time": "2023-12-13T17:19:09.116Z"
   },
   {
    "duration": 26,
    "start_time": "2023-12-13T17:19:09.125Z"
   },
   {
    "duration": 34,
    "start_time": "2023-12-13T17:19:09.152Z"
   },
   {
    "duration": 24,
    "start_time": "2023-12-13T17:19:09.188Z"
   },
   {
    "duration": 17,
    "start_time": "2023-12-13T17:19:09.213Z"
   },
   {
    "duration": 21,
    "start_time": "2023-12-13T17:19:09.231Z"
   },
   {
    "duration": 24,
    "start_time": "2023-12-13T17:19:09.253Z"
   },
   {
    "duration": 16,
    "start_time": "2023-12-13T17:19:09.278Z"
   },
   {
    "duration": 34,
    "start_time": "2023-12-13T17:19:09.296Z"
   },
   {
    "duration": 38,
    "start_time": "2023-12-13T17:19:09.331Z"
   },
   {
    "duration": 36,
    "start_time": "2023-12-13T17:19:09.371Z"
   },
   {
    "duration": 28,
    "start_time": "2023-12-13T17:19:09.409Z"
   },
   {
    "duration": 21,
    "start_time": "2023-12-13T17:19:09.438Z"
   },
   {
    "duration": 109,
    "start_time": "2023-12-13T17:19:09.460Z"
   },
   {
    "duration": 232,
    "start_time": "2023-12-13T17:19:09.570Z"
   },
   {
    "duration": 220,
    "start_time": "2023-12-13T17:19:09.803Z"
   },
   {
    "duration": 1316,
    "start_time": "2023-12-13T17:19:10.025Z"
   },
   {
    "duration": 85,
    "start_time": "2023-12-13T17:19:11.343Z"
   },
   {
    "duration": 4,
    "start_time": "2023-12-13T17:19:11.430Z"
   },
   {
    "duration": 174,
    "start_time": "2023-12-13T17:19:11.447Z"
   },
   {
    "duration": 160,
    "start_time": "2023-12-13T17:19:11.623Z"
   },
   {
    "duration": 254,
    "start_time": "2023-12-13T17:19:11.785Z"
   },
   {
    "duration": 762,
    "start_time": "2023-12-13T17:19:12.040Z"
   },
   {
    "duration": 2,
    "start_time": "2023-12-13T17:19:12.804Z"
   },
   {
    "duration": 41,
    "start_time": "2023-12-13T17:19:12.808Z"
   },
   {
    "duration": 66,
    "start_time": "2023-12-13T17:19:12.850Z"
   },
   {
    "duration": 17,
    "start_time": "2023-12-13T17:19:12.918Z"
   },
   {
    "duration": 35,
    "start_time": "2023-12-13T17:19:12.936Z"
   },
   {
    "duration": 42,
    "start_time": "2023-12-13T17:19:12.973Z"
   },
   {
    "duration": 39,
    "start_time": "2023-12-13T17:19:13.017Z"
   },
   {
    "duration": 24,
    "start_time": "2023-12-13T17:19:13.058Z"
   },
   {
    "duration": 25,
    "start_time": "2023-12-13T17:19:13.083Z"
   },
   {
    "duration": 38,
    "start_time": "2023-12-13T17:19:13.109Z"
   },
   {
    "duration": 23,
    "start_time": "2023-12-13T17:19:13.149Z"
   },
   {
    "duration": 836,
    "start_time": "2023-12-13T17:19:13.173Z"
   },
   {
    "duration": 0,
    "start_time": "2023-12-13T17:19:14.011Z"
   },
   {
    "duration": 1343,
    "start_time": "2023-12-13T17:19:59.418Z"
   },
   {
    "duration": 2,
    "start_time": "2023-12-13T17:20:00.763Z"
   },
   {
    "duration": 117,
    "start_time": "2023-12-13T17:20:00.766Z"
   },
   {
    "duration": 206,
    "start_time": "2023-12-13T17:20:00.885Z"
   },
   {
    "duration": 80,
    "start_time": "2023-12-13T17:20:01.092Z"
   },
   {
    "duration": 137,
    "start_time": "2023-12-13T17:20:01.174Z"
   },
   {
    "duration": 119,
    "start_time": "2023-12-13T17:20:01.313Z"
   },
   {
    "duration": 155,
    "start_time": "2023-12-13T17:20:01.434Z"
   },
   {
    "duration": 120,
    "start_time": "2023-12-13T17:20:01.591Z"
   },
   {
    "duration": 84,
    "start_time": "2023-12-13T17:20:01.714Z"
   },
   {
    "duration": 39,
    "start_time": "2023-12-13T17:20:01.799Z"
   },
   {
    "duration": 186,
    "start_time": "2023-12-13T17:20:01.839Z"
   },
   {
    "duration": 191,
    "start_time": "2023-12-13T17:20:02.027Z"
   },
   {
    "duration": 215,
    "start_time": "2023-12-13T17:20:02.219Z"
   },
   {
    "duration": 27,
    "start_time": "2023-12-13T17:20:02.436Z"
   },
   {
    "duration": 23,
    "start_time": "2023-12-13T17:20:02.465Z"
   },
   {
    "duration": 10,
    "start_time": "2023-12-13T17:20:02.489Z"
   },
   {
    "duration": 38,
    "start_time": "2023-12-13T17:20:02.502Z"
   },
   {
    "duration": 39,
    "start_time": "2023-12-13T17:20:02.541Z"
   },
   {
    "duration": 116,
    "start_time": "2023-12-13T17:20:02.581Z"
   },
   {
    "duration": 237,
    "start_time": "2023-12-13T17:20:02.699Z"
   },
   {
    "duration": 237,
    "start_time": "2023-12-13T17:20:02.938Z"
   },
   {
    "duration": 1306,
    "start_time": "2023-12-13T17:20:03.176Z"
   },
   {
    "duration": 87,
    "start_time": "2023-12-13T17:20:04.484Z"
   },
   {
    "duration": 3,
    "start_time": "2023-12-13T17:20:04.573Z"
   },
   {
    "duration": 180,
    "start_time": "2023-12-13T17:20:04.578Z"
   },
   {
    "duration": 152,
    "start_time": "2023-12-13T17:20:04.759Z"
   },
   {
    "duration": 247,
    "start_time": "2023-12-13T17:20:04.913Z"
   },
   {
    "duration": 725,
    "start_time": "2023-12-13T17:20:05.161Z"
   },
   {
    "duration": 2,
    "start_time": "2023-12-13T17:20:05.888Z"
   },
   {
    "duration": 8,
    "start_time": "2023-12-13T17:20:05.892Z"
   },
   {
    "duration": 36,
    "start_time": "2023-12-13T17:20:05.901Z"
   },
   {
    "duration": 18,
    "start_time": "2023-12-13T17:20:05.938Z"
   },
   {
    "duration": 47,
    "start_time": "2023-12-13T17:20:05.957Z"
   },
   {
    "duration": 13,
    "start_time": "2023-12-13T17:20:06.005Z"
   },
   {
    "duration": 7,
    "start_time": "2023-12-13T17:20:06.019Z"
   },
   {
    "duration": 22,
    "start_time": "2023-12-13T17:20:06.028Z"
   },
   {
    "duration": 14,
    "start_time": "2023-12-13T17:20:06.051Z"
   },
   {
    "duration": 44,
    "start_time": "2023-12-13T17:20:06.066Z"
   },
   {
    "duration": 12,
    "start_time": "2023-12-13T17:20:06.111Z"
   },
   {
    "duration": 675,
    "start_time": "2023-12-13T17:20:06.124Z"
   },
   {
    "duration": 0,
    "start_time": "2023-12-13T17:20:06.800Z"
   },
   {
    "duration": 1304,
    "start_time": "2023-12-13T17:21:40.737Z"
   },
   {
    "duration": 2,
    "start_time": "2023-12-13T17:21:42.043Z"
   },
   {
    "duration": 5,
    "start_time": "2023-12-13T17:21:42.046Z"
   },
   {
    "duration": 89,
    "start_time": "2023-12-13T17:21:42.053Z"
   },
   {
    "duration": 14,
    "start_time": "2023-12-13T17:21:42.143Z"
   },
   {
    "duration": 38,
    "start_time": "2023-12-13T17:21:42.158Z"
   },
   {
    "duration": 6,
    "start_time": "2023-12-13T17:21:42.198Z"
   },
   {
    "duration": 15,
    "start_time": "2023-12-13T17:21:42.205Z"
   },
   {
    "duration": 5,
    "start_time": "2023-12-13T17:21:42.222Z"
   },
   {
    "duration": 26,
    "start_time": "2023-12-13T17:21:42.229Z"
   },
   {
    "duration": 6,
    "start_time": "2023-12-13T17:21:42.257Z"
   },
   {
    "duration": 10,
    "start_time": "2023-12-13T17:21:42.264Z"
   },
   {
    "duration": 4,
    "start_time": "2023-12-13T17:21:42.275Z"
   },
   {
    "duration": 5,
    "start_time": "2023-12-13T17:21:42.280Z"
   },
   {
    "duration": 6,
    "start_time": "2023-12-13T17:21:42.286Z"
   },
   {
    "duration": 8,
    "start_time": "2023-12-13T17:21:42.293Z"
   },
   {
    "duration": 12,
    "start_time": "2023-12-13T17:21:42.302Z"
   },
   {
    "duration": 8,
    "start_time": "2023-12-13T17:21:42.315Z"
   },
   {
    "duration": 28,
    "start_time": "2023-12-13T17:21:42.324Z"
   },
   {
    "duration": 111,
    "start_time": "2023-12-13T17:21:42.354Z"
   },
   {
    "duration": 247,
    "start_time": "2023-12-13T17:21:42.467Z"
   },
   {
    "duration": 236,
    "start_time": "2023-12-13T17:21:42.716Z"
   },
   {
    "duration": 1334,
    "start_time": "2023-12-13T17:21:42.954Z"
   },
   {
    "duration": 103,
    "start_time": "2023-12-13T17:21:44.289Z"
   },
   {
    "duration": 4,
    "start_time": "2023-12-13T17:21:44.394Z"
   },
   {
    "duration": 203,
    "start_time": "2023-12-13T17:21:44.399Z"
   },
   {
    "duration": 169,
    "start_time": "2023-12-13T17:21:44.603Z"
   },
   {
    "duration": 246,
    "start_time": "2023-12-13T17:21:44.775Z"
   },
   {
    "duration": 775,
    "start_time": "2023-12-13T17:21:45.023Z"
   },
   {
    "duration": 2,
    "start_time": "2023-12-13T17:21:45.800Z"
   },
   {
    "duration": 24,
    "start_time": "2023-12-13T17:21:45.803Z"
   },
   {
    "duration": 28,
    "start_time": "2023-12-13T17:21:45.829Z"
   },
   {
    "duration": 21,
    "start_time": "2023-12-13T17:21:45.859Z"
   },
   {
    "duration": 51,
    "start_time": "2023-12-13T17:21:45.882Z"
   },
   {
    "duration": 54,
    "start_time": "2023-12-13T17:21:45.934Z"
   },
   {
    "duration": 39,
    "start_time": "2023-12-13T17:21:45.989Z"
   },
   {
    "duration": 14,
    "start_time": "2023-12-13T17:21:46.029Z"
   },
   {
    "duration": 44,
    "start_time": "2023-12-13T17:21:46.045Z"
   },
   {
    "duration": 25,
    "start_time": "2023-12-13T17:21:46.090Z"
   },
   {
    "duration": 33,
    "start_time": "2023-12-13T17:21:46.116Z"
   },
   {
    "duration": 902,
    "start_time": "2023-12-13T17:21:46.151Z"
   },
   {
    "duration": 0,
    "start_time": "2023-12-13T17:21:47.054Z"
   },
   {
    "duration": 1324,
    "start_time": "2023-12-13T17:26:35.231Z"
   },
   {
    "duration": 2,
    "start_time": "2023-12-13T17:26:36.557Z"
   },
   {
    "duration": 21,
    "start_time": "2023-12-13T17:26:36.561Z"
   },
   {
    "duration": 90,
    "start_time": "2023-12-13T17:26:36.583Z"
   },
   {
    "duration": 14,
    "start_time": "2023-12-13T17:26:36.676Z"
   },
   {
    "duration": 53,
    "start_time": "2023-12-13T17:26:36.692Z"
   },
   {
    "duration": 6,
    "start_time": "2023-12-13T17:26:36.746Z"
   },
   {
    "duration": 27,
    "start_time": "2023-12-13T17:26:36.754Z"
   },
   {
    "duration": 28,
    "start_time": "2023-12-13T17:26:36.783Z"
   },
   {
    "duration": 19,
    "start_time": "2023-12-13T17:26:36.812Z"
   },
   {
    "duration": 30,
    "start_time": "2023-12-13T17:26:36.832Z"
   },
   {
    "duration": 81,
    "start_time": "2023-12-13T17:26:36.863Z"
   },
   {
    "duration": 5,
    "start_time": "2023-12-13T17:26:36.945Z"
   },
   {
    "duration": 13,
    "start_time": "2023-12-13T17:26:36.952Z"
   },
   {
    "duration": 10,
    "start_time": "2023-12-13T17:26:36.967Z"
   },
   {
    "duration": 10,
    "start_time": "2023-12-13T17:26:36.979Z"
   },
   {
    "duration": 8,
    "start_time": "2023-12-13T17:26:36.991Z"
   },
   {
    "duration": 8,
    "start_time": "2023-12-13T17:26:37.000Z"
   },
   {
    "duration": 8,
    "start_time": "2023-12-13T17:26:37.010Z"
   },
   {
    "duration": 111,
    "start_time": "2023-12-13T17:26:37.020Z"
   },
   {
    "duration": 243,
    "start_time": "2023-12-13T17:26:37.133Z"
   },
   {
    "duration": 234,
    "start_time": "2023-12-13T17:26:37.378Z"
   },
   {
    "duration": 1337,
    "start_time": "2023-12-13T17:26:37.614Z"
   },
   {
    "duration": 96,
    "start_time": "2023-12-13T17:26:38.953Z"
   },
   {
    "duration": 4,
    "start_time": "2023-12-13T17:26:39.051Z"
   },
   {
    "duration": 173,
    "start_time": "2023-12-13T17:26:39.057Z"
   },
   {
    "duration": 162,
    "start_time": "2023-12-13T17:26:39.231Z"
   },
   {
    "duration": 247,
    "start_time": "2023-12-13T17:26:39.395Z"
   },
   {
    "duration": 4,
    "start_time": "2023-12-13T17:26:39.643Z"
   },
   {
    "duration": 17,
    "start_time": "2023-12-13T17:26:39.649Z"
   },
   {
    "duration": 23,
    "start_time": "2023-12-13T17:26:39.668Z"
   },
   {
    "duration": 13,
    "start_time": "2023-12-13T17:26:39.692Z"
   },
   {
    "duration": 26,
    "start_time": "2023-12-13T17:26:39.707Z"
   },
   {
    "duration": 1244,
    "start_time": "2023-12-13T17:26:39.734Z"
   },
   {
    "duration": 7,
    "start_time": "2023-12-13T17:26:40.980Z"
   },
   {
    "duration": 16,
    "start_time": "2023-12-13T17:26:40.988Z"
   },
   {
    "duration": 7,
    "start_time": "2023-12-13T17:26:41.006Z"
   },
   {
    "duration": 3,
    "start_time": "2023-12-13T17:26:41.014Z"
   },
   {
    "duration": 9,
    "start_time": "2023-12-13T17:26:41.019Z"
   },
   {
    "duration": 6,
    "start_time": "2023-12-13T17:26:41.029Z"
   },
   {
    "duration": 842,
    "start_time": "2023-12-13T17:26:41.038Z"
   },
   {
    "duration": 0,
    "start_time": "2023-12-13T17:26:41.882Z"
   },
   {
    "duration": 1297,
    "start_time": "2023-12-13T17:33:15.773Z"
   },
   {
    "duration": 2,
    "start_time": "2023-12-13T17:33:17.072Z"
   },
   {
    "duration": 7,
    "start_time": "2023-12-13T17:33:17.075Z"
   },
   {
    "duration": 95,
    "start_time": "2023-12-13T17:33:17.083Z"
   },
   {
    "duration": 13,
    "start_time": "2023-12-13T17:33:17.180Z"
   },
   {
    "duration": 25,
    "start_time": "2023-12-13T17:33:17.194Z"
   },
   {
    "duration": 13,
    "start_time": "2023-12-13T17:33:17.220Z"
   },
   {
    "duration": 9,
    "start_time": "2023-12-13T17:33:17.234Z"
   },
   {
    "duration": 7,
    "start_time": "2023-12-13T17:33:17.245Z"
   },
   {
    "duration": 16,
    "start_time": "2023-12-13T17:33:17.253Z"
   },
   {
    "duration": 6,
    "start_time": "2023-12-13T17:33:17.270Z"
   },
   {
    "duration": 11,
    "start_time": "2023-12-13T17:33:17.277Z"
   },
   {
    "duration": 3,
    "start_time": "2023-12-13T17:33:17.289Z"
   },
   {
    "duration": 4,
    "start_time": "2023-12-13T17:33:17.295Z"
   },
   {
    "duration": 18,
    "start_time": "2023-12-13T17:33:17.300Z"
   },
   {
    "duration": 24,
    "start_time": "2023-12-13T17:33:17.319Z"
   },
   {
    "duration": 10,
    "start_time": "2023-12-13T17:33:17.344Z"
   },
   {
    "duration": 13,
    "start_time": "2023-12-13T17:33:17.355Z"
   },
   {
    "duration": 17,
    "start_time": "2023-12-13T17:33:17.369Z"
   },
   {
    "duration": 92,
    "start_time": "2023-12-13T17:33:17.387Z"
   },
   {
    "duration": 246,
    "start_time": "2023-12-13T17:33:17.480Z"
   },
   {
    "duration": 237,
    "start_time": "2023-12-13T17:33:17.727Z"
   },
   {
    "duration": 1298,
    "start_time": "2023-12-13T17:33:17.966Z"
   },
   {
    "duration": 95,
    "start_time": "2023-12-13T17:33:19.266Z"
   },
   {
    "duration": 4,
    "start_time": "2023-12-13T17:33:19.363Z"
   },
   {
    "duration": 167,
    "start_time": "2023-12-13T17:33:19.368Z"
   },
   {
    "duration": 165,
    "start_time": "2023-12-13T17:33:19.537Z"
   },
   {
    "duration": 274,
    "start_time": "2023-12-13T17:33:19.704Z"
   },
   {
    "duration": 2,
    "start_time": "2023-12-13T17:33:19.980Z"
   },
   {
    "duration": 6,
    "start_time": "2023-12-13T17:33:19.984Z"
   },
   {
    "duration": 23,
    "start_time": "2023-12-13T17:33:19.991Z"
   },
   {
    "duration": 33,
    "start_time": "2023-12-13T17:33:20.016Z"
   },
   {
    "duration": 24,
    "start_time": "2023-12-13T17:33:20.051Z"
   },
   {
    "duration": 1242,
    "start_time": "2023-12-13T17:33:20.076Z"
   },
   {
    "duration": 10,
    "start_time": "2023-12-13T17:33:21.320Z"
   },
   {
    "duration": 3,
    "start_time": "2023-12-13T17:33:21.331Z"
   },
   {
    "duration": 9,
    "start_time": "2023-12-13T17:33:21.336Z"
   },
   {
    "duration": 4,
    "start_time": "2023-12-13T17:33:21.346Z"
   },
   {
    "duration": 4,
    "start_time": "2023-12-13T17:33:21.351Z"
   },
   {
    "duration": 5,
    "start_time": "2023-12-13T17:33:21.356Z"
   },
   {
    "duration": 853,
    "start_time": "2023-12-13T17:33:21.365Z"
   },
   {
    "duration": 0,
    "start_time": "2023-12-13T17:33:22.220Z"
   },
   {
    "duration": 14,
    "start_time": "2023-12-13T17:38:59.593Z"
   },
   {
    "duration": 343,
    "start_time": "2023-12-13T17:39:06.089Z"
   },
   {
    "duration": 548,
    "start_time": "2023-12-13T17:39:20.480Z"
   },
   {
    "duration": 7,
    "start_time": "2023-12-13T17:39:43.670Z"
   },
   {
    "duration": 729,
    "start_time": "2023-12-13T17:39:44.197Z"
   },
   {
    "duration": 17,
    "start_time": "2023-12-13T17:47:19.289Z"
   },
   {
    "duration": 1259,
    "start_time": "2023-12-13T17:47:30.588Z"
   },
   {
    "duration": 2,
    "start_time": "2023-12-13T17:47:31.849Z"
   },
   {
    "duration": 97,
    "start_time": "2023-12-13T17:47:31.852Z"
   },
   {
    "duration": 148,
    "start_time": "2023-12-13T17:47:31.950Z"
   },
   {
    "duration": 15,
    "start_time": "2023-12-13T17:47:32.101Z"
   },
   {
    "duration": 34,
    "start_time": "2023-12-13T17:47:32.117Z"
   },
   {
    "duration": 7,
    "start_time": "2023-12-13T17:47:32.152Z"
   },
   {
    "duration": 33,
    "start_time": "2023-12-13T17:47:32.160Z"
   },
   {
    "duration": 18,
    "start_time": "2023-12-13T17:47:32.195Z"
   },
   {
    "duration": 36,
    "start_time": "2023-12-13T17:47:32.214Z"
   },
   {
    "duration": 19,
    "start_time": "2023-12-13T17:47:32.252Z"
   },
   {
    "duration": 36,
    "start_time": "2023-12-13T17:47:32.272Z"
   },
   {
    "duration": 11,
    "start_time": "2023-12-13T17:47:32.310Z"
   },
   {
    "duration": 17,
    "start_time": "2023-12-13T17:47:32.326Z"
   },
   {
    "duration": 5,
    "start_time": "2023-12-13T17:47:32.344Z"
   },
   {
    "duration": 25,
    "start_time": "2023-12-13T17:47:32.351Z"
   },
   {
    "duration": 10,
    "start_time": "2023-12-13T17:47:32.378Z"
   },
   {
    "duration": 12,
    "start_time": "2023-12-13T17:47:32.389Z"
   },
   {
    "duration": 22,
    "start_time": "2023-12-13T17:47:32.402Z"
   },
   {
    "duration": 126,
    "start_time": "2023-12-13T17:47:32.425Z"
   },
   {
    "duration": 0,
    "start_time": "2023-12-13T17:47:32.553Z"
   },
   {
    "duration": 0,
    "start_time": "2023-12-13T17:47:32.554Z"
   },
   {
    "duration": 0,
    "start_time": "2023-12-13T17:47:32.555Z"
   },
   {
    "duration": 0,
    "start_time": "2023-12-13T17:47:32.556Z"
   },
   {
    "duration": 0,
    "start_time": "2023-12-13T17:47:32.557Z"
   },
   {
    "duration": 0,
    "start_time": "2023-12-13T17:47:32.558Z"
   },
   {
    "duration": 0,
    "start_time": "2023-12-13T17:47:32.559Z"
   },
   {
    "duration": 0,
    "start_time": "2023-12-13T17:47:32.559Z"
   },
   {
    "duration": 0,
    "start_time": "2023-12-13T17:47:32.560Z"
   },
   {
    "duration": 0,
    "start_time": "2023-12-13T17:47:32.561Z"
   },
   {
    "duration": 0,
    "start_time": "2023-12-13T17:47:32.562Z"
   },
   {
    "duration": 0,
    "start_time": "2023-12-13T17:47:32.563Z"
   },
   {
    "duration": 0,
    "start_time": "2023-12-13T17:47:32.564Z"
   },
   {
    "duration": 0,
    "start_time": "2023-12-13T17:47:32.565Z"
   },
   {
    "duration": 0,
    "start_time": "2023-12-13T17:47:32.565Z"
   },
   {
    "duration": 0,
    "start_time": "2023-12-13T17:47:32.566Z"
   },
   {
    "duration": 0,
    "start_time": "2023-12-13T17:47:32.567Z"
   },
   {
    "duration": 0,
    "start_time": "2023-12-13T17:47:32.568Z"
   },
   {
    "duration": 0,
    "start_time": "2023-12-13T17:47:32.569Z"
   },
   {
    "duration": 0,
    "start_time": "2023-12-13T17:47:32.570Z"
   },
   {
    "duration": 0,
    "start_time": "2023-12-13T17:47:32.570Z"
   },
   {
    "duration": 0,
    "start_time": "2023-12-13T17:47:32.571Z"
   },
   {
    "duration": 0,
    "start_time": "2023-12-13T17:47:32.572Z"
   },
   {
    "duration": 10,
    "start_time": "2023-12-13T17:47:43.176Z"
   },
   {
    "duration": 48,
    "start_time": "2023-12-13T17:49:32.955Z"
   },
   {
    "duration": 1337,
    "start_time": "2023-12-13T17:50:57.827Z"
   },
   {
    "duration": 2,
    "start_time": "2023-12-13T17:50:59.166Z"
   },
   {
    "duration": 26,
    "start_time": "2023-12-13T17:50:59.170Z"
   },
   {
    "duration": 103,
    "start_time": "2023-12-13T17:50:59.197Z"
   },
   {
    "duration": 14,
    "start_time": "2023-12-13T17:50:59.301Z"
   },
   {
    "duration": 32,
    "start_time": "2023-12-13T17:50:59.316Z"
   },
   {
    "duration": 6,
    "start_time": "2023-12-13T17:50:59.349Z"
   },
   {
    "duration": 17,
    "start_time": "2023-12-13T17:50:59.356Z"
   },
   {
    "duration": 5,
    "start_time": "2023-12-13T17:50:59.375Z"
   },
   {
    "duration": 29,
    "start_time": "2023-12-13T17:50:59.382Z"
   },
   {
    "duration": 32,
    "start_time": "2023-12-13T17:50:59.413Z"
   },
   {
    "duration": 15,
    "start_time": "2023-12-13T17:50:59.447Z"
   },
   {
    "duration": 4,
    "start_time": "2023-12-13T17:50:59.463Z"
   },
   {
    "duration": 7,
    "start_time": "2023-12-13T17:50:59.468Z"
   },
   {
    "duration": 18,
    "start_time": "2023-12-13T17:50:59.476Z"
   },
   {
    "duration": 14,
    "start_time": "2023-12-13T17:50:59.495Z"
   },
   {
    "duration": 31,
    "start_time": "2023-12-13T17:50:59.510Z"
   },
   {
    "duration": 7,
    "start_time": "2023-12-13T17:50:59.542Z"
   },
   {
    "duration": 20,
    "start_time": "2023-12-13T17:50:59.551Z"
   },
   {
    "duration": 45,
    "start_time": "2023-12-13T17:50:59.572Z"
   },
   {
    "duration": 93,
    "start_time": "2023-12-13T17:50:59.619Z"
   },
   {
    "duration": 236,
    "start_time": "2023-12-13T17:50:59.713Z"
   },
   {
    "duration": 289,
    "start_time": "2023-12-13T17:50:59.951Z"
   },
   {
    "duration": 1295,
    "start_time": "2023-12-13T17:51:00.241Z"
   },
   {
    "duration": 91,
    "start_time": "2023-12-13T17:51:01.538Z"
   },
   {
    "duration": 117,
    "start_time": "2023-12-13T17:51:01.630Z"
   },
   {
    "duration": 335,
    "start_time": "2023-12-13T17:51:01.748Z"
   },
   {
    "duration": 272,
    "start_time": "2023-12-13T17:51:02.086Z"
   },
   {
    "duration": 196,
    "start_time": "2023-12-13T17:51:02.360Z"
   },
   {
    "duration": 3,
    "start_time": "2023-12-13T17:51:02.557Z"
   },
   {
    "duration": 91,
    "start_time": "2023-12-13T17:51:02.561Z"
   },
   {
    "duration": 29,
    "start_time": "2023-12-13T17:51:02.654Z"
   },
   {
    "duration": 42,
    "start_time": "2023-12-13T17:51:02.684Z"
   },
   {
    "duration": 41,
    "start_time": "2023-12-13T17:51:02.727Z"
   },
   {
    "duration": 1333,
    "start_time": "2023-12-13T17:51:02.769Z"
   },
   {
    "duration": 8,
    "start_time": "2023-12-13T17:51:04.104Z"
   },
   {
    "duration": 10,
    "start_time": "2023-12-13T17:51:04.113Z"
   },
   {
    "duration": 13,
    "start_time": "2023-12-13T17:51:04.125Z"
   },
   {
    "duration": 11,
    "start_time": "2023-12-13T17:51:04.140Z"
   },
   {
    "duration": 22,
    "start_time": "2023-12-13T17:51:04.152Z"
   },
   {
    "duration": 27,
    "start_time": "2023-12-13T17:51:04.176Z"
   },
   {
    "duration": 668,
    "start_time": "2023-12-13T17:51:04.204Z"
   },
   {
    "duration": 0,
    "start_time": "2023-12-13T17:51:04.874Z"
   },
   {
    "duration": 1290,
    "start_time": "2023-12-13T17:52:56.775Z"
   },
   {
    "duration": 2,
    "start_time": "2023-12-13T17:52:58.067Z"
   },
   {
    "duration": 20,
    "start_time": "2023-12-13T17:52:58.070Z"
   },
   {
    "duration": 116,
    "start_time": "2023-12-13T17:52:58.091Z"
   },
   {
    "duration": 13,
    "start_time": "2023-12-13T17:52:58.209Z"
   },
   {
    "duration": 23,
    "start_time": "2023-12-13T17:52:58.224Z"
   },
   {
    "duration": 6,
    "start_time": "2023-12-13T17:52:58.248Z"
   },
   {
    "duration": 19,
    "start_time": "2023-12-13T17:52:58.255Z"
   },
   {
    "duration": 28,
    "start_time": "2023-12-13T17:52:58.276Z"
   },
   {
    "duration": 24,
    "start_time": "2023-12-13T17:52:58.306Z"
   },
   {
    "duration": 6,
    "start_time": "2023-12-13T17:52:58.331Z"
   },
   {
    "duration": 13,
    "start_time": "2023-12-13T17:52:58.338Z"
   },
   {
    "duration": 8,
    "start_time": "2023-12-13T17:52:58.352Z"
   },
   {
    "duration": 9,
    "start_time": "2023-12-13T17:52:58.363Z"
   },
   {
    "duration": 5,
    "start_time": "2023-12-13T17:52:58.373Z"
   },
   {
    "duration": 24,
    "start_time": "2023-12-13T17:52:58.379Z"
   },
   {
    "duration": 8,
    "start_time": "2023-12-13T17:52:58.404Z"
   },
   {
    "duration": 6,
    "start_time": "2023-12-13T17:52:58.413Z"
   },
   {
    "duration": 47,
    "start_time": "2023-12-13T17:52:58.421Z"
   },
   {
    "duration": 110,
    "start_time": "2023-12-13T17:52:58.469Z"
   },
   {
    "duration": 136,
    "start_time": "2023-12-13T17:52:58.580Z"
   },
   {
    "duration": 243,
    "start_time": "2023-12-13T17:52:58.718Z"
   },
   {
    "duration": 281,
    "start_time": "2023-12-13T17:52:58.962Z"
   },
   {
    "duration": 1265,
    "start_time": "2023-12-13T17:52:59.245Z"
   },
   {
    "duration": 94,
    "start_time": "2023-12-13T17:53:00.512Z"
   },
   {
    "duration": 198,
    "start_time": "2023-12-13T17:53:00.607Z"
   },
   {
    "duration": 607,
    "start_time": "2023-12-13T17:53:00.807Z"
   },
   {
    "duration": 403,
    "start_time": "2023-12-13T17:53:01.416Z"
   },
   {
    "duration": 281,
    "start_time": "2023-12-13T17:53:01.820Z"
   },
   {
    "duration": 3,
    "start_time": "2023-12-13T17:53:02.103Z"
   },
   {
    "duration": 352,
    "start_time": "2023-12-13T17:53:02.107Z"
   },
   {
    "duration": 81,
    "start_time": "2023-12-13T17:53:02.461Z"
   },
   {
    "duration": 80,
    "start_time": "2023-12-13T17:53:02.543Z"
   },
   {
    "duration": 45,
    "start_time": "2023-12-13T17:53:02.624Z"
   },
   {
    "duration": 1367,
    "start_time": "2023-12-13T17:53:02.671Z"
   },
   {
    "duration": 7,
    "start_time": "2023-12-13T17:53:04.040Z"
   },
   {
    "duration": 22,
    "start_time": "2023-12-13T17:53:04.049Z"
   },
   {
    "duration": 31,
    "start_time": "2023-12-13T17:53:04.072Z"
   },
   {
    "duration": 14,
    "start_time": "2023-12-13T17:53:04.104Z"
   },
   {
    "duration": 81,
    "start_time": "2023-12-13T17:53:04.119Z"
   },
   {
    "duration": 37,
    "start_time": "2023-12-13T17:53:04.204Z"
   },
   {
    "duration": 817,
    "start_time": "2023-12-13T17:53:04.243Z"
   },
   {
    "duration": 0,
    "start_time": "2023-12-13T17:53:05.062Z"
   },
   {
    "duration": 20,
    "start_time": "2023-12-13T17:54:22.235Z"
   },
   {
    "duration": 1332,
    "start_time": "2023-12-13T17:54:44.137Z"
   },
   {
    "duration": 2,
    "start_time": "2023-12-13T17:54:45.471Z"
   },
   {
    "duration": 5,
    "start_time": "2023-12-13T17:54:45.474Z"
   },
   {
    "duration": 89,
    "start_time": "2023-12-13T17:54:45.480Z"
   },
   {
    "duration": 14,
    "start_time": "2023-12-13T17:54:45.571Z"
   },
   {
    "duration": 24,
    "start_time": "2023-12-13T17:54:45.587Z"
   },
   {
    "duration": 33,
    "start_time": "2023-12-13T17:54:45.612Z"
   },
   {
    "duration": 14,
    "start_time": "2023-12-13T17:54:45.646Z"
   },
   {
    "duration": 5,
    "start_time": "2023-12-13T17:54:45.661Z"
   },
   {
    "duration": 10,
    "start_time": "2023-12-13T17:54:45.668Z"
   },
   {
    "duration": 14,
    "start_time": "2023-12-13T17:54:45.679Z"
   },
   {
    "duration": 14,
    "start_time": "2023-12-13T17:54:45.694Z"
   },
   {
    "duration": 4,
    "start_time": "2023-12-13T17:54:45.709Z"
   },
   {
    "duration": 8,
    "start_time": "2023-12-13T17:54:45.717Z"
   },
   {
    "duration": 22,
    "start_time": "2023-12-13T17:54:45.726Z"
   },
   {
    "duration": 4,
    "start_time": "2023-12-13T17:54:45.749Z"
   },
   {
    "duration": 9,
    "start_time": "2023-12-13T17:54:45.754Z"
   },
   {
    "duration": 8,
    "start_time": "2023-12-13T17:54:45.764Z"
   },
   {
    "duration": 9,
    "start_time": "2023-12-13T17:54:45.773Z"
   },
   {
    "duration": 43,
    "start_time": "2023-12-13T17:54:45.783Z"
   },
   {
    "duration": 112,
    "start_time": "2023-12-13T17:54:45.828Z"
   },
   {
    "duration": 255,
    "start_time": "2023-12-13T17:54:45.941Z"
   },
   {
    "duration": 291,
    "start_time": "2023-12-13T17:54:46.197Z"
   },
   {
    "duration": 1291,
    "start_time": "2023-12-13T17:54:46.490Z"
   },
   {
    "duration": 95,
    "start_time": "2023-12-13T17:54:47.783Z"
   },
   {
    "duration": 5,
    "start_time": "2023-12-13T17:54:47.880Z"
   },
   {
    "duration": 188,
    "start_time": "2023-12-13T17:54:47.887Z"
   },
   {
    "duration": 249,
    "start_time": "2023-12-13T17:54:48.077Z"
   },
   {
    "duration": 173,
    "start_time": "2023-12-13T17:54:48.328Z"
   },
   {
    "duration": 2,
    "start_time": "2023-12-13T17:54:48.503Z"
   },
   {
    "duration": 7,
    "start_time": "2023-12-13T17:54:48.506Z"
   },
   {
    "duration": 22,
    "start_time": "2023-12-13T17:54:48.514Z"
   },
   {
    "duration": 15,
    "start_time": "2023-12-13T17:54:48.547Z"
   },
   {
    "duration": 22,
    "start_time": "2023-12-13T17:54:48.564Z"
   },
   {
    "duration": 1210,
    "start_time": "2023-12-13T17:54:48.588Z"
   },
   {
    "duration": 9,
    "start_time": "2023-12-13T17:54:49.800Z"
   },
   {
    "duration": 14,
    "start_time": "2023-12-13T17:54:49.810Z"
   },
   {
    "duration": 14,
    "start_time": "2023-12-13T17:54:49.825Z"
   },
   {
    "duration": 14,
    "start_time": "2023-12-13T17:54:49.840Z"
   },
   {
    "duration": 19,
    "start_time": "2023-12-13T17:54:49.855Z"
   },
   {
    "duration": 16,
    "start_time": "2023-12-13T17:54:49.877Z"
   },
   {
    "duration": 814,
    "start_time": "2023-12-13T17:54:49.894Z"
   },
   {
    "duration": 0,
    "start_time": "2023-12-13T17:54:50.709Z"
   },
   {
    "duration": 11,
    "start_time": "2023-12-13T17:55:23.411Z"
   },
   {
    "duration": 1284,
    "start_time": "2023-12-13T17:57:33.245Z"
   },
   {
    "duration": 2,
    "start_time": "2023-12-13T17:57:34.531Z"
   },
   {
    "duration": 3,
    "start_time": "2023-12-13T17:57:34.534Z"
   },
   {
    "duration": 88,
    "start_time": "2023-12-13T17:57:34.538Z"
   },
   {
    "duration": 13,
    "start_time": "2023-12-13T17:57:34.628Z"
   },
   {
    "duration": 27,
    "start_time": "2023-12-13T17:57:34.642Z"
   },
   {
    "duration": 6,
    "start_time": "2023-12-13T17:57:34.670Z"
   },
   {
    "duration": 27,
    "start_time": "2023-12-13T17:57:34.677Z"
   },
   {
    "duration": 5,
    "start_time": "2023-12-13T17:57:34.705Z"
   },
   {
    "duration": 19,
    "start_time": "2023-12-13T17:57:34.712Z"
   },
   {
    "duration": 6,
    "start_time": "2023-12-13T17:57:34.732Z"
   },
   {
    "duration": 30,
    "start_time": "2023-12-13T17:57:34.739Z"
   },
   {
    "duration": 6,
    "start_time": "2023-12-13T17:57:34.770Z"
   },
   {
    "duration": 4,
    "start_time": "2023-12-13T17:57:34.780Z"
   },
   {
    "duration": 19,
    "start_time": "2023-12-13T17:57:34.786Z"
   },
   {
    "duration": 7,
    "start_time": "2023-12-13T17:57:34.806Z"
   },
   {
    "duration": 33,
    "start_time": "2023-12-13T17:57:34.814Z"
   },
   {
    "duration": 18,
    "start_time": "2023-12-13T17:57:34.848Z"
   },
   {
    "duration": 31,
    "start_time": "2023-12-13T17:57:34.867Z"
   },
   {
    "duration": 55,
    "start_time": "2023-12-13T17:57:34.899Z"
   },
   {
    "duration": 115,
    "start_time": "2023-12-13T17:57:34.955Z"
   },
   {
    "duration": 239,
    "start_time": "2023-12-13T17:57:35.072Z"
   },
   {
    "duration": 280,
    "start_time": "2023-12-13T17:57:35.312Z"
   },
   {
    "duration": 1258,
    "start_time": "2023-12-13T17:57:35.594Z"
   },
   {
    "duration": 99,
    "start_time": "2023-12-13T17:57:36.853Z"
   },
   {
    "duration": 4,
    "start_time": "2023-12-13T17:57:36.954Z"
   },
   {
    "duration": 178,
    "start_time": "2023-12-13T17:57:36.960Z"
   },
   {
    "duration": 242,
    "start_time": "2023-12-13T17:57:37.140Z"
   },
   {
    "duration": 170,
    "start_time": "2023-12-13T17:57:37.384Z"
   },
   {
    "duration": 2,
    "start_time": "2023-12-13T17:57:37.556Z"
   },
   {
    "duration": 17,
    "start_time": "2023-12-13T17:57:37.560Z"
   },
   {
    "duration": 42,
    "start_time": "2023-12-13T17:57:37.579Z"
   },
   {
    "duration": 73,
    "start_time": "2023-12-13T17:57:37.623Z"
   },
   {
    "duration": 33,
    "start_time": "2023-12-13T17:57:37.697Z"
   },
   {
    "duration": 11,
    "start_time": "2023-12-13T17:57:37.732Z"
   },
   {
    "duration": 7,
    "start_time": "2023-12-13T17:57:37.744Z"
   },
   {
    "duration": 1235,
    "start_time": "2023-12-13T17:57:37.752Z"
   },
   {
    "duration": 8,
    "start_time": "2023-12-13T17:57:38.988Z"
   },
   {
    "duration": 28,
    "start_time": "2023-12-13T17:57:38.997Z"
   },
   {
    "duration": 15,
    "start_time": "2023-12-13T17:57:39.026Z"
   },
   {
    "duration": 10,
    "start_time": "2023-12-13T17:57:39.045Z"
   },
   {
    "duration": 30,
    "start_time": "2023-12-13T17:57:39.056Z"
   },
   {
    "duration": 18,
    "start_time": "2023-12-13T17:57:39.087Z"
   },
   {
    "duration": 1069,
    "start_time": "2023-12-13T17:57:39.106Z"
   },
   {
    "duration": 14,
    "start_time": "2023-12-13T17:57:40.177Z"
   },
   {
    "duration": 1273,
    "start_time": "2023-12-13T17:58:15.083Z"
   },
   {
    "duration": 2,
    "start_time": "2023-12-13T17:58:16.359Z"
   },
   {
    "duration": 21,
    "start_time": "2023-12-13T17:58:16.363Z"
   },
   {
    "duration": 108,
    "start_time": "2023-12-13T17:58:16.386Z"
   },
   {
    "duration": 14,
    "start_time": "2023-12-13T17:58:16.497Z"
   },
   {
    "duration": 43,
    "start_time": "2023-12-13T17:58:16.512Z"
   },
   {
    "duration": 6,
    "start_time": "2023-12-13T17:58:16.556Z"
   },
   {
    "duration": 33,
    "start_time": "2023-12-13T17:58:16.563Z"
   },
   {
    "duration": 17,
    "start_time": "2023-12-13T17:58:16.598Z"
   },
   {
    "duration": 34,
    "start_time": "2023-12-13T17:58:16.616Z"
   },
   {
    "duration": 15,
    "start_time": "2023-12-13T17:58:16.652Z"
   },
   {
    "duration": 31,
    "start_time": "2023-12-13T17:58:16.669Z"
   },
   {
    "duration": 11,
    "start_time": "2023-12-13T17:58:16.701Z"
   },
   {
    "duration": 30,
    "start_time": "2023-12-13T17:58:16.716Z"
   },
   {
    "duration": 26,
    "start_time": "2023-12-13T17:58:16.747Z"
   },
   {
    "duration": 15,
    "start_time": "2023-12-13T17:58:16.774Z"
   },
   {
    "duration": 27,
    "start_time": "2023-12-13T17:58:16.790Z"
   },
   {
    "duration": 20,
    "start_time": "2023-12-13T17:58:16.818Z"
   },
   {
    "duration": 26,
    "start_time": "2023-12-13T17:58:16.840Z"
   },
   {
    "duration": 74,
    "start_time": "2023-12-13T17:58:16.868Z"
   },
   {
    "duration": 94,
    "start_time": "2023-12-13T17:58:16.944Z"
   },
   {
    "duration": 240,
    "start_time": "2023-12-13T17:58:17.040Z"
   },
   {
    "duration": 286,
    "start_time": "2023-12-13T17:58:17.281Z"
   },
   {
    "duration": 1329,
    "start_time": "2023-12-13T17:58:17.569Z"
   },
   {
    "duration": 96,
    "start_time": "2023-12-13T17:58:18.899Z"
   },
   {
    "duration": 4,
    "start_time": "2023-12-13T17:58:18.996Z"
   },
   {
    "duration": 206,
    "start_time": "2023-12-13T17:58:19.001Z"
   },
   {
    "duration": 239,
    "start_time": "2023-12-13T17:58:19.208Z"
   },
   {
    "duration": 169,
    "start_time": "2023-12-13T17:58:19.449Z"
   },
   {
    "duration": 2,
    "start_time": "2023-12-13T17:58:19.620Z"
   },
   {
    "duration": 20,
    "start_time": "2023-12-13T17:58:19.623Z"
   },
   {
    "duration": 40,
    "start_time": "2023-12-13T17:58:19.644Z"
   },
   {
    "duration": 17,
    "start_time": "2023-12-13T17:58:19.686Z"
   },
   {
    "duration": 20,
    "start_time": "2023-12-13T17:58:19.705Z"
   },
   {
    "duration": 20,
    "start_time": "2023-12-13T17:58:19.727Z"
   },
   {
    "duration": 6,
    "start_time": "2023-12-13T17:58:19.748Z"
   },
   {
    "duration": 1291,
    "start_time": "2023-12-13T17:58:19.755Z"
   },
   {
    "duration": 7,
    "start_time": "2023-12-13T17:58:21.048Z"
   },
   {
    "duration": 39,
    "start_time": "2023-12-13T17:58:21.057Z"
   },
   {
    "duration": 22,
    "start_time": "2023-12-13T17:58:21.097Z"
   },
   {
    "duration": 48,
    "start_time": "2023-12-13T17:58:21.124Z"
   },
   {
    "duration": 75,
    "start_time": "2023-12-13T17:58:21.173Z"
   },
   {
    "duration": 0,
    "start_time": "2023-12-13T17:58:21.249Z"
   },
   {
    "duration": 0,
    "start_time": "2023-12-13T17:58:21.251Z"
   },
   {
    "duration": 6,
    "start_time": "2023-12-13T17:58:31.059Z"
   },
   {
    "duration": 2072,
    "start_time": "2023-12-13T17:58:31.806Z"
   },
   {
    "duration": 13,
    "start_time": "2023-12-13T17:58:39.716Z"
   },
   {
    "duration": 1264,
    "start_time": "2023-12-13T17:59:40.501Z"
   },
   {
    "duration": 2,
    "start_time": "2023-12-13T17:59:41.767Z"
   },
   {
    "duration": 9,
    "start_time": "2023-12-13T17:59:41.770Z"
   },
   {
    "duration": 92,
    "start_time": "2023-12-13T17:59:41.781Z"
   },
   {
    "duration": 14,
    "start_time": "2023-12-13T17:59:41.875Z"
   },
   {
    "duration": 150,
    "start_time": "2023-12-13T17:59:41.890Z"
   },
   {
    "duration": 6,
    "start_time": "2023-12-13T17:59:42.042Z"
   },
   {
    "duration": 11,
    "start_time": "2023-12-13T17:59:42.050Z"
   },
   {
    "duration": 28,
    "start_time": "2023-12-13T17:59:42.063Z"
   },
   {
    "duration": 11,
    "start_time": "2023-12-13T17:59:42.093Z"
   },
   {
    "duration": 5,
    "start_time": "2023-12-13T17:59:42.105Z"
   },
   {
    "duration": 10,
    "start_time": "2023-12-13T17:59:42.112Z"
   },
   {
    "duration": 4,
    "start_time": "2023-12-13T17:59:42.123Z"
   },
   {
    "duration": 22,
    "start_time": "2023-12-13T17:59:42.128Z"
   },
   {
    "duration": 5,
    "start_time": "2023-12-13T17:59:42.151Z"
   },
   {
    "duration": 6,
    "start_time": "2023-12-13T17:59:42.158Z"
   },
   {
    "duration": 9,
    "start_time": "2023-12-13T17:59:42.167Z"
   },
   {
    "duration": 5,
    "start_time": "2023-12-13T17:59:42.178Z"
   },
   {
    "duration": 10,
    "start_time": "2023-12-13T17:59:42.184Z"
   },
   {
    "duration": 64,
    "start_time": "2023-12-13T17:59:42.195Z"
   },
   {
    "duration": 107,
    "start_time": "2023-12-13T17:59:42.261Z"
   },
   {
    "duration": 266,
    "start_time": "2023-12-13T17:59:42.369Z"
   },
   {
    "duration": 309,
    "start_time": "2023-12-13T17:59:42.637Z"
   },
   {
    "duration": 1419,
    "start_time": "2023-12-13T17:59:42.948Z"
   },
   {
    "duration": 112,
    "start_time": "2023-12-13T17:59:44.369Z"
   },
   {
    "duration": 4,
    "start_time": "2023-12-13T17:59:44.482Z"
   },
   {
    "duration": 201,
    "start_time": "2023-12-13T17:59:44.487Z"
   },
   {
    "duration": 248,
    "start_time": "2023-12-13T17:59:44.692Z"
   },
   {
    "duration": 189,
    "start_time": "2023-12-13T17:59:44.942Z"
   },
   {
    "duration": 2,
    "start_time": "2023-12-13T17:59:45.132Z"
   },
   {
    "duration": 18,
    "start_time": "2023-12-13T17:59:45.136Z"
   },
   {
    "duration": 115,
    "start_time": "2023-12-13T17:59:45.156Z"
   },
   {
    "duration": 15,
    "start_time": "2023-12-13T17:59:45.272Z"
   },
   {
    "duration": 31,
    "start_time": "2023-12-13T17:59:45.288Z"
   },
   {
    "duration": 11,
    "start_time": "2023-12-13T17:59:45.320Z"
   },
   {
    "duration": 83,
    "start_time": "2023-12-13T17:59:45.332Z"
   },
   {
    "duration": 1305,
    "start_time": "2023-12-13T17:59:45.417Z"
   },
   {
    "duration": 7,
    "start_time": "2023-12-13T17:59:46.724Z"
   },
   {
    "duration": 5,
    "start_time": "2023-12-13T17:59:46.732Z"
   },
   {
    "duration": 13,
    "start_time": "2023-12-13T17:59:46.738Z"
   },
   {
    "duration": 5,
    "start_time": "2023-12-13T17:59:46.753Z"
   },
   {
    "duration": 72,
    "start_time": "2023-12-13T17:59:46.760Z"
   },
   {
    "duration": 0,
    "start_time": "2023-12-13T17:59:46.833Z"
   },
   {
    "duration": 0,
    "start_time": "2023-12-13T17:59:46.834Z"
   },
   {
    "duration": 119,
    "start_time": "2023-12-13T18:00:14.720Z"
   },
   {
    "duration": 1284,
    "start_time": "2023-12-13T18:00:55.959Z"
   },
   {
    "duration": 3,
    "start_time": "2023-12-13T18:00:57.244Z"
   },
   {
    "duration": 13,
    "start_time": "2023-12-13T18:00:57.248Z"
   },
   {
    "duration": 94,
    "start_time": "2023-12-13T18:00:57.263Z"
   },
   {
    "duration": 15,
    "start_time": "2023-12-13T18:00:57.358Z"
   },
   {
    "duration": 24,
    "start_time": "2023-12-13T18:00:57.374Z"
   },
   {
    "duration": 6,
    "start_time": "2023-12-13T18:00:57.400Z"
   },
   {
    "duration": 22,
    "start_time": "2023-12-13T18:00:57.408Z"
   },
   {
    "duration": 18,
    "start_time": "2023-12-13T18:00:57.431Z"
   },
   {
    "duration": 13,
    "start_time": "2023-12-13T18:00:57.452Z"
   },
   {
    "duration": 7,
    "start_time": "2023-12-13T18:00:57.467Z"
   },
   {
    "duration": 30,
    "start_time": "2023-12-13T18:00:57.476Z"
   },
   {
    "duration": 5,
    "start_time": "2023-12-13T18:00:57.508Z"
   },
   {
    "duration": 23,
    "start_time": "2023-12-13T18:00:57.515Z"
   },
   {
    "duration": 19,
    "start_time": "2023-12-13T18:00:57.539Z"
   },
   {
    "duration": 9,
    "start_time": "2023-12-13T18:00:57.559Z"
   },
   {
    "duration": 10,
    "start_time": "2023-12-13T18:00:57.569Z"
   },
   {
    "duration": 13,
    "start_time": "2023-12-13T18:00:57.581Z"
   },
   {
    "duration": 16,
    "start_time": "2023-12-13T18:00:57.596Z"
   },
   {
    "duration": 68,
    "start_time": "2023-12-13T18:00:57.613Z"
   },
   {
    "duration": 126,
    "start_time": "2023-12-13T18:00:57.683Z"
   },
   {
    "duration": 249,
    "start_time": "2023-12-13T18:00:57.810Z"
   },
   {
    "duration": 309,
    "start_time": "2023-12-13T18:00:58.061Z"
   },
   {
    "duration": 1294,
    "start_time": "2023-12-13T18:00:58.372Z"
   },
   {
    "duration": 97,
    "start_time": "2023-12-13T18:00:59.668Z"
   },
   {
    "duration": 5,
    "start_time": "2023-12-13T18:00:59.767Z"
   },
   {
    "duration": 192,
    "start_time": "2023-12-13T18:00:59.774Z"
   },
   {
    "duration": 256,
    "start_time": "2023-12-13T18:00:59.970Z"
   },
   {
    "duration": 171,
    "start_time": "2023-12-13T18:01:00.228Z"
   },
   {
    "duration": 2,
    "start_time": "2023-12-13T18:01:00.401Z"
   },
   {
    "duration": 124,
    "start_time": "2023-12-13T18:01:00.405Z"
   },
   {
    "duration": 962,
    "start_time": "2023-12-13T18:01:00.531Z"
   },
   {
    "duration": 403,
    "start_time": "2023-12-13T18:01:01.494Z"
   },
   {
    "duration": 165,
    "start_time": "2023-12-13T18:01:01.899Z"
   },
   {
    "duration": 71,
    "start_time": "2023-12-13T18:01:02.066Z"
   },
   {
    "duration": 279,
    "start_time": "2023-12-13T18:01:02.138Z"
   },
   {
    "duration": 1379,
    "start_time": "2023-12-13T18:01:02.419Z"
   },
   {
    "duration": 7,
    "start_time": "2023-12-13T18:01:03.800Z"
   },
   {
    "duration": 124,
    "start_time": "2023-12-13T18:01:03.808Z"
   },
   {
    "duration": 19,
    "start_time": "2023-12-13T18:01:03.934Z"
   },
   {
    "duration": 19,
    "start_time": "2023-12-13T18:01:03.954Z"
   },
   {
    "duration": 20,
    "start_time": "2023-12-13T18:01:03.974Z"
   },
   {
    "duration": 4801,
    "start_time": "2023-12-13T18:01:03.995Z"
   },
   {
    "duration": 11,
    "start_time": "2023-12-13T18:01:08.797Z"
   },
   {
    "duration": 1325,
    "start_time": "2023-12-13T18:01:57.128Z"
   },
   {
    "duration": 3,
    "start_time": "2023-12-13T18:01:58.455Z"
   },
   {
    "duration": 5,
    "start_time": "2023-12-13T18:01:58.459Z"
   },
   {
    "duration": 88,
    "start_time": "2023-12-13T18:01:58.465Z"
   },
   {
    "duration": 15,
    "start_time": "2023-12-13T18:01:58.554Z"
   },
   {
    "duration": 25,
    "start_time": "2023-12-13T18:01:58.570Z"
   },
   {
    "duration": 6,
    "start_time": "2023-12-13T18:01:58.596Z"
   },
   {
    "duration": 10,
    "start_time": "2023-12-13T18:01:58.603Z"
   },
   {
    "duration": 35,
    "start_time": "2023-12-13T18:01:58.615Z"
   },
   {
    "duration": 18,
    "start_time": "2023-12-13T18:01:58.651Z"
   },
   {
    "duration": 7,
    "start_time": "2023-12-13T18:01:58.670Z"
   },
   {
    "duration": 11,
    "start_time": "2023-12-13T18:01:58.678Z"
   },
   {
    "duration": 5,
    "start_time": "2023-12-13T18:01:58.691Z"
   },
   {
    "duration": 12,
    "start_time": "2023-12-13T18:01:58.699Z"
   },
   {
    "duration": 11,
    "start_time": "2023-12-13T18:01:58.712Z"
   },
   {
    "duration": 19,
    "start_time": "2023-12-13T18:01:58.725Z"
   },
   {
    "duration": 6,
    "start_time": "2023-12-13T18:01:58.747Z"
   },
   {
    "duration": 9,
    "start_time": "2023-12-13T18:01:58.754Z"
   },
   {
    "duration": 10,
    "start_time": "2023-12-13T18:01:58.764Z"
   },
   {
    "duration": 42,
    "start_time": "2023-12-13T18:01:58.775Z"
   },
   {
    "duration": 109,
    "start_time": "2023-12-13T18:01:58.818Z"
   },
   {
    "duration": 243,
    "start_time": "2023-12-13T18:01:58.929Z"
   },
   {
    "duration": 287,
    "start_time": "2023-12-13T18:01:59.174Z"
   },
   {
    "duration": 1276,
    "start_time": "2023-12-13T18:01:59.463Z"
   },
   {
    "duration": 92,
    "start_time": "2023-12-13T18:02:00.741Z"
   },
   {
    "duration": 22,
    "start_time": "2023-12-13T18:02:00.835Z"
   },
   {
    "duration": 334,
    "start_time": "2023-12-13T18:02:00.859Z"
   },
   {
    "duration": 261,
    "start_time": "2023-12-13T18:02:01.195Z"
   },
   {
    "duration": 176,
    "start_time": "2023-12-13T18:02:01.457Z"
   },
   {
    "duration": 32,
    "start_time": "2023-12-13T18:02:01.635Z"
   },
   {
    "duration": 78,
    "start_time": "2023-12-13T18:02:01.670Z"
   },
   {
    "duration": 53,
    "start_time": "2023-12-13T18:02:01.750Z"
   },
   {
    "duration": 59,
    "start_time": "2023-12-13T18:02:01.804Z"
   },
   {
    "duration": 47,
    "start_time": "2023-12-13T18:02:01.865Z"
   },
   {
    "duration": 21,
    "start_time": "2023-12-13T18:02:01.914Z"
   },
   {
    "duration": 43,
    "start_time": "2023-12-13T18:02:01.937Z"
   },
   {
    "duration": 1425,
    "start_time": "2023-12-13T18:02:01.982Z"
   },
   {
    "duration": 9,
    "start_time": "2023-12-13T18:02:03.408Z"
   },
   {
    "duration": 75,
    "start_time": "2023-12-13T18:02:03.419Z"
   },
   {
    "duration": 44,
    "start_time": "2023-12-13T18:02:03.495Z"
   },
   {
    "duration": 34,
    "start_time": "2023-12-13T18:02:03.543Z"
   },
   {
    "duration": 56,
    "start_time": "2023-12-13T18:02:03.578Z"
   },
   {
    "duration": 4444,
    "start_time": "2023-12-13T18:02:03.635Z"
   },
   {
    "duration": 13,
    "start_time": "2023-12-13T18:02:08.080Z"
   },
   {
    "duration": 1326,
    "start_time": "2023-12-13T18:02:31.834Z"
   },
   {
    "duration": 2,
    "start_time": "2023-12-13T18:02:33.162Z"
   },
   {
    "duration": 7,
    "start_time": "2023-12-13T18:02:33.165Z"
   },
   {
    "duration": 103,
    "start_time": "2023-12-13T18:02:33.173Z"
   },
   {
    "duration": 14,
    "start_time": "2023-12-13T18:02:33.278Z"
   },
   {
    "duration": 25,
    "start_time": "2023-12-13T18:02:33.294Z"
   },
   {
    "duration": 6,
    "start_time": "2023-12-13T18:02:33.320Z"
   },
   {
    "duration": 13,
    "start_time": "2023-12-13T18:02:33.328Z"
   },
   {
    "duration": 18,
    "start_time": "2023-12-13T18:02:33.342Z"
   },
   {
    "duration": 30,
    "start_time": "2023-12-13T18:02:33.362Z"
   },
   {
    "duration": 6,
    "start_time": "2023-12-13T18:02:33.394Z"
   },
   {
    "duration": 102,
    "start_time": "2023-12-13T18:02:33.402Z"
   },
   {
    "duration": 76,
    "start_time": "2023-12-13T18:02:33.505Z"
   },
   {
    "duration": 25,
    "start_time": "2023-12-13T18:02:33.586Z"
   },
   {
    "duration": 7,
    "start_time": "2023-12-13T18:02:33.612Z"
   },
   {
    "duration": 12,
    "start_time": "2023-12-13T18:02:33.621Z"
   },
   {
    "duration": 4,
    "start_time": "2023-12-13T18:02:33.635Z"
   },
   {
    "duration": 18,
    "start_time": "2023-12-13T18:02:33.640Z"
   },
   {
    "duration": 12,
    "start_time": "2023-12-13T18:02:33.660Z"
   },
   {
    "duration": 53,
    "start_time": "2023-12-13T18:02:33.674Z"
   },
   {
    "duration": 93,
    "start_time": "2023-12-13T18:02:33.728Z"
   },
   {
    "duration": 254,
    "start_time": "2023-12-13T18:02:33.823Z"
   },
   {
    "duration": 291,
    "start_time": "2023-12-13T18:02:34.078Z"
   },
   {
    "duration": 1297,
    "start_time": "2023-12-13T18:02:34.370Z"
   },
   {
    "duration": 89,
    "start_time": "2023-12-13T18:02:35.668Z"
   },
   {
    "duration": 4,
    "start_time": "2023-12-13T18:02:35.759Z"
   },
   {
    "duration": 195,
    "start_time": "2023-12-13T18:02:35.764Z"
   },
   {
    "duration": 244,
    "start_time": "2023-12-13T18:02:35.961Z"
   },
   {
    "duration": 176,
    "start_time": "2023-12-13T18:02:36.206Z"
   },
   {
    "duration": 2,
    "start_time": "2023-12-13T18:02:36.384Z"
   },
   {
    "duration": 20,
    "start_time": "2023-12-13T18:02:36.388Z"
   },
   {
    "duration": 59,
    "start_time": "2023-12-13T18:02:36.409Z"
   },
   {
    "duration": 23,
    "start_time": "2023-12-13T18:02:36.470Z"
   },
   {
    "duration": 114,
    "start_time": "2023-12-13T18:02:36.494Z"
   },
   {
    "duration": 11,
    "start_time": "2023-12-13T18:02:36.609Z"
   },
   {
    "duration": 5,
    "start_time": "2023-12-13T18:02:36.622Z"
   },
   {
    "duration": 1278,
    "start_time": "2023-12-13T18:02:36.628Z"
   },
   {
    "duration": 7,
    "start_time": "2023-12-13T18:02:37.908Z"
   },
   {
    "duration": 12,
    "start_time": "2023-12-13T18:02:37.916Z"
   },
   {
    "duration": 32,
    "start_time": "2023-12-13T18:02:37.929Z"
   },
   {
    "duration": 8,
    "start_time": "2023-12-13T18:02:37.964Z"
   },
   {
    "duration": 17,
    "start_time": "2023-12-13T18:02:37.973Z"
   },
   {
    "duration": 1423,
    "start_time": "2023-12-13T18:02:37.990Z"
   },
   {
    "duration": 11,
    "start_time": "2023-12-13T18:02:39.415Z"
   },
   {
    "duration": 112,
    "start_time": "2023-12-13T18:22:43.536Z"
   },
   {
    "duration": 4367,
    "start_time": "2023-12-13T18:22:51.165Z"
   },
   {
    "duration": 2151,
    "start_time": "2023-12-13T18:22:55.535Z"
   },
   {
    "duration": 3,
    "start_time": "2023-12-13T18:22:57.688Z"
   },
   {
    "duration": 11,
    "start_time": "2023-12-13T18:22:57.693Z"
   },
   {
    "duration": 95,
    "start_time": "2023-12-13T18:22:57.705Z"
   },
   {
    "duration": 14,
    "start_time": "2023-12-13T18:22:57.801Z"
   },
   {
    "duration": 32,
    "start_time": "2023-12-13T18:22:57.816Z"
   },
   {
    "duration": 6,
    "start_time": "2023-12-13T18:22:57.849Z"
   },
   {
    "duration": 33,
    "start_time": "2023-12-13T18:22:57.856Z"
   },
   {
    "duration": 5,
    "start_time": "2023-12-13T18:22:57.892Z"
   },
   {
    "duration": 10,
    "start_time": "2023-12-13T18:22:57.899Z"
   },
   {
    "duration": 5,
    "start_time": "2023-12-13T18:22:57.911Z"
   },
   {
    "duration": 15,
    "start_time": "2023-12-13T18:22:57.918Z"
   },
   {
    "duration": 13,
    "start_time": "2023-12-13T18:22:57.935Z"
   },
   {
    "duration": 5,
    "start_time": "2023-12-13T18:22:57.949Z"
   },
   {
    "duration": 16,
    "start_time": "2023-12-13T18:22:57.956Z"
   },
   {
    "duration": 4,
    "start_time": "2023-12-13T18:22:57.973Z"
   },
   {
    "duration": 17,
    "start_time": "2023-12-13T18:22:57.978Z"
   },
   {
    "duration": 19,
    "start_time": "2023-12-13T18:22:57.996Z"
   },
   {
    "duration": 11,
    "start_time": "2023-12-13T18:22:58.016Z"
   },
   {
    "duration": 44,
    "start_time": "2023-12-13T18:22:58.029Z"
   },
   {
    "duration": 102,
    "start_time": "2023-12-13T18:22:58.074Z"
   },
   {
    "duration": 248,
    "start_time": "2023-12-13T18:22:58.178Z"
   },
   {
    "duration": 229,
    "start_time": "2023-12-13T18:22:58.428Z"
   },
   {
    "duration": 1351,
    "start_time": "2023-12-13T18:22:58.659Z"
   },
   {
    "duration": 95,
    "start_time": "2023-12-13T18:23:00.012Z"
   },
   {
    "duration": 4,
    "start_time": "2023-12-13T18:23:00.109Z"
   },
   {
    "duration": 219,
    "start_time": "2023-12-13T18:23:00.117Z"
   },
   {
    "duration": 168,
    "start_time": "2023-12-13T18:23:00.338Z"
   },
   {
    "duration": 178,
    "start_time": "2023-12-13T18:23:00.508Z"
   },
   {
    "duration": 148,
    "start_time": "2023-12-13T18:23:00.687Z"
   },
   {
    "duration": 263,
    "start_time": "2023-12-13T18:23:00.836Z"
   },
   {
    "duration": 358,
    "start_time": "2023-12-13T18:23:01.101Z"
   },
   {
    "duration": 748,
    "start_time": "2023-12-13T18:23:01.461Z"
   },
   {
    "duration": 23,
    "start_time": "2023-12-13T18:23:02.211Z"
   },
   {
    "duration": 103,
    "start_time": "2023-12-13T18:23:02.236Z"
   },
   {
    "duration": 37,
    "start_time": "2023-12-13T18:23:02.340Z"
   },
   {
    "duration": 1359,
    "start_time": "2023-12-13T18:23:02.379Z"
   },
   {
    "duration": 7,
    "start_time": "2023-12-13T18:23:03.740Z"
   },
   {
    "duration": 13,
    "start_time": "2023-12-13T18:23:03.748Z"
   },
   {
    "duration": 12,
    "start_time": "2023-12-13T18:23:03.762Z"
   },
   {
    "duration": 14,
    "start_time": "2023-12-13T18:23:03.775Z"
   },
   {
    "duration": 17,
    "start_time": "2023-12-13T18:23:03.790Z"
   },
   {
    "duration": 4874,
    "start_time": "2023-12-13T18:23:03.809Z"
   },
   {
    "duration": 13,
    "start_time": "2023-12-13T18:23:08.685Z"
   },
   {
    "duration": 203,
    "start_time": "2023-12-13T18:23:08.699Z"
   },
   {
    "duration": 26,
    "start_time": "2023-12-13T18:31:48.947Z"
   },
   {
    "duration": 8757,
    "start_time": "2023-12-13T18:34:13.012Z"
   },
   {
    "duration": 2369,
    "start_time": "2023-12-13T18:34:21.772Z"
   },
   {
    "duration": 4,
    "start_time": "2023-12-13T18:34:24.144Z"
   },
   {
    "duration": 15,
    "start_time": "2023-12-13T18:34:24.150Z"
   },
   {
    "duration": 92,
    "start_time": "2023-12-13T18:34:24.167Z"
   },
   {
    "duration": 13,
    "start_time": "2023-12-13T18:34:24.261Z"
   },
   {
    "duration": 33,
    "start_time": "2023-12-13T18:34:24.276Z"
   },
   {
    "duration": 6,
    "start_time": "2023-12-13T18:34:24.310Z"
   },
   {
    "duration": 15,
    "start_time": "2023-12-13T18:34:24.317Z"
   },
   {
    "duration": 5,
    "start_time": "2023-12-13T18:34:24.334Z"
   },
   {
    "duration": 11,
    "start_time": "2023-12-13T18:34:24.340Z"
   },
   {
    "duration": 6,
    "start_time": "2023-12-13T18:34:24.352Z"
   },
   {
    "duration": 8,
    "start_time": "2023-12-13T18:34:24.361Z"
   },
   {
    "duration": 3,
    "start_time": "2023-12-13T18:34:24.371Z"
   },
   {
    "duration": 9,
    "start_time": "2023-12-13T18:34:24.375Z"
   },
   {
    "duration": 32,
    "start_time": "2023-12-13T18:34:24.385Z"
   },
   {
    "duration": 26,
    "start_time": "2023-12-13T18:34:24.418Z"
   },
   {
    "duration": 11,
    "start_time": "2023-12-13T18:34:24.445Z"
   },
   {
    "duration": 7,
    "start_time": "2023-12-13T18:34:24.457Z"
   },
   {
    "duration": 16,
    "start_time": "2023-12-13T18:34:24.465Z"
   },
   {
    "duration": 54,
    "start_time": "2023-12-13T18:34:24.482Z"
   },
   {
    "duration": 91,
    "start_time": "2023-12-13T18:34:24.537Z"
   },
   {
    "duration": 260,
    "start_time": "2023-12-13T18:34:24.629Z"
   },
   {
    "duration": 234,
    "start_time": "2023-12-13T18:34:24.890Z"
   },
   {
    "duration": 1355,
    "start_time": "2023-12-13T18:34:25.125Z"
   },
   {
    "duration": 88,
    "start_time": "2023-12-13T18:34:26.482Z"
   },
   {
    "duration": 4,
    "start_time": "2023-12-13T18:34:26.572Z"
   },
   {
    "duration": 185,
    "start_time": "2023-12-13T18:34:26.577Z"
   },
   {
    "duration": 160,
    "start_time": "2023-12-13T18:34:26.763Z"
   },
   {
    "duration": 177,
    "start_time": "2023-12-13T18:34:26.924Z"
   },
   {
    "duration": 3,
    "start_time": "2023-12-13T18:34:27.102Z"
   },
   {
    "duration": 5,
    "start_time": "2023-12-13T18:34:27.106Z"
   },
   {
    "duration": 29,
    "start_time": "2023-12-13T18:34:27.113Z"
   },
   {
    "duration": 14,
    "start_time": "2023-12-13T18:34:27.148Z"
   },
   {
    "duration": 24,
    "start_time": "2023-12-13T18:34:27.163Z"
   },
   {
    "duration": 10,
    "start_time": "2023-12-13T18:34:27.189Z"
   },
   {
    "duration": 6,
    "start_time": "2023-12-13T18:34:27.200Z"
   },
   {
    "duration": 1307,
    "start_time": "2023-12-13T18:34:27.207Z"
   },
   {
    "duration": 8,
    "start_time": "2023-12-13T18:34:28.516Z"
   },
   {
    "duration": 3,
    "start_time": "2023-12-13T18:34:28.527Z"
   },
   {
    "duration": 17,
    "start_time": "2023-12-13T18:34:28.532Z"
   },
   {
    "duration": 21,
    "start_time": "2023-12-13T18:34:28.550Z"
   },
   {
    "duration": 17,
    "start_time": "2023-12-13T18:34:28.573Z"
   },
   {
    "duration": 1296,
    "start_time": "2023-12-13T18:34:28.591Z"
   },
   {
    "duration": 12,
    "start_time": "2023-12-13T18:34:29.889Z"
   },
   {
    "duration": 194,
    "start_time": "2023-12-13T18:34:29.903Z"
   },
   {
    "duration": 27,
    "start_time": "2023-12-13T18:35:01.740Z"
   },
   {
    "duration": 37,
    "start_time": "2023-12-13T18:35:08.688Z"
   },
   {
    "duration": 576,
    "start_time": "2023-12-13T18:36:14.662Z"
   },
   {
    "duration": 34,
    "start_time": "2023-12-13T18:38:12.121Z"
   },
   {
    "duration": 667,
    "start_time": "2023-12-13T18:38:17.623Z"
   },
   {
    "duration": 27,
    "start_time": "2023-12-13T18:38:39.633Z"
   },
   {
    "duration": 526,
    "start_time": "2023-12-13T18:38:45.663Z"
   },
   {
    "duration": 596,
    "start_time": "2023-12-13T18:39:59.993Z"
   },
   {
    "duration": 627,
    "start_time": "2023-12-13T18:40:08.078Z"
   },
   {
    "duration": 895,
    "start_time": "2023-12-13T18:41:11.572Z"
   },
   {
    "duration": 17,
    "start_time": "2023-12-13T18:41:31.170Z"
   },
   {
    "duration": 74,
    "start_time": "2023-12-13T18:41:50.454Z"
   },
   {
    "duration": 12,
    "start_time": "2023-12-13T18:41:54.802Z"
   },
   {
    "duration": 921,
    "start_time": "2023-12-13T18:42:06.542Z"
   },
   {
    "duration": 441,
    "start_time": "2023-12-13T18:43:24.164Z"
   },
   {
    "duration": 11,
    "start_time": "2023-12-13T18:43:42.915Z"
   },
   {
    "duration": 479,
    "start_time": "2023-12-13T18:43:50.740Z"
   },
   {
    "duration": 54,
    "start_time": "2023-12-13T18:44:14.120Z"
   },
   {
    "duration": 161,
    "start_time": "2023-12-13T18:46:56.963Z"
   },
   {
    "duration": 566,
    "start_time": "2023-12-13T18:49:18.520Z"
   },
   {
    "duration": 67,
    "start_time": "2023-12-13T18:55:13.506Z"
   },
   {
    "duration": 4,
    "start_time": "2023-12-13T18:56:13.047Z"
   },
   {
    "duration": 17,
    "start_time": "2023-12-13T18:56:47.486Z"
   },
   {
    "duration": 16,
    "start_time": "2023-12-13T18:57:07.127Z"
   },
   {
    "duration": 91,
    "start_time": "2023-12-13T18:58:28.440Z"
   },
   {
    "duration": 10,
    "start_time": "2023-12-13T18:58:35.993Z"
   },
   {
    "duration": 14,
    "start_time": "2023-12-13T18:58:42.000Z"
   },
   {
    "duration": 18,
    "start_time": "2023-12-13T18:58:49.667Z"
   },
   {
    "duration": 4,
    "start_time": "2023-12-13T18:59:21.081Z"
   },
   {
    "duration": 21,
    "start_time": "2023-12-13T18:59:28.022Z"
   },
   {
    "duration": 21,
    "start_time": "2023-12-13T18:59:47.691Z"
   },
   {
    "duration": 17,
    "start_time": "2023-12-13T19:00:02.685Z"
   },
   {
    "duration": 19,
    "start_time": "2023-12-13T19:00:09.988Z"
   },
   {
    "duration": 18,
    "start_time": "2023-12-13T19:00:25.927Z"
   },
   {
    "duration": 5,
    "start_time": "2023-12-13T19:01:07.014Z"
   },
   {
    "duration": 18,
    "start_time": "2023-12-13T19:02:21.596Z"
   },
   {
    "duration": 17,
    "start_time": "2023-12-13T19:02:33.895Z"
   },
   {
    "duration": 12,
    "start_time": "2023-12-13T19:07:55.153Z"
   },
   {
    "duration": 27,
    "start_time": "2023-12-13T19:09:50.599Z"
   },
   {
    "duration": 33,
    "start_time": "2023-12-13T19:10:02.904Z"
   },
   {
    "duration": 26,
    "start_time": "2023-12-13T19:16:35.620Z"
   },
   {
    "duration": 5893,
    "start_time": "2023-12-13T19:16:46.508Z"
   },
   {
    "duration": 2119,
    "start_time": "2023-12-13T19:16:52.403Z"
   },
   {
    "duration": 3,
    "start_time": "2023-12-13T19:16:54.523Z"
   },
   {
    "duration": 6,
    "start_time": "2023-12-13T19:16:54.527Z"
   },
   {
    "duration": 88,
    "start_time": "2023-12-13T19:16:54.535Z"
   },
   {
    "duration": 14,
    "start_time": "2023-12-13T19:16:54.624Z"
   },
   {
    "duration": 23,
    "start_time": "2023-12-13T19:16:54.640Z"
   },
   {
    "duration": 6,
    "start_time": "2023-12-13T19:16:54.664Z"
   },
   {
    "duration": 13,
    "start_time": "2023-12-13T19:16:54.671Z"
   },
   {
    "duration": 6,
    "start_time": "2023-12-13T19:16:54.685Z"
   },
   {
    "duration": 10,
    "start_time": "2023-12-13T19:16:54.692Z"
   },
   {
    "duration": 5,
    "start_time": "2023-12-13T19:16:54.704Z"
   },
   {
    "duration": 10,
    "start_time": "2023-12-13T19:16:54.710Z"
   },
   {
    "duration": 26,
    "start_time": "2023-12-13T19:16:54.723Z"
   },
   {
    "duration": 9,
    "start_time": "2023-12-13T19:16:54.751Z"
   },
   {
    "duration": 15,
    "start_time": "2023-12-13T19:16:54.761Z"
   },
   {
    "duration": 4,
    "start_time": "2023-12-13T19:16:54.777Z"
   },
   {
    "duration": 4,
    "start_time": "2023-12-13T19:16:54.782Z"
   },
   {
    "duration": 7,
    "start_time": "2023-12-13T19:16:54.787Z"
   },
   {
    "duration": 11,
    "start_time": "2023-12-13T19:16:54.795Z"
   },
   {
    "duration": 60,
    "start_time": "2023-12-13T19:16:54.807Z"
   },
   {
    "duration": 104,
    "start_time": "2023-12-13T19:16:54.868Z"
   },
   {
    "duration": 233,
    "start_time": "2023-12-13T19:16:54.973Z"
   },
   {
    "duration": 232,
    "start_time": "2023-12-13T19:16:55.207Z"
   },
   {
    "duration": 1364,
    "start_time": "2023-12-13T19:16:55.441Z"
   },
   {
    "duration": 92,
    "start_time": "2023-12-13T19:16:56.806Z"
   },
   {
    "duration": 4,
    "start_time": "2023-12-13T19:16:56.899Z"
   },
   {
    "duration": 201,
    "start_time": "2023-12-13T19:16:56.905Z"
   },
   {
    "duration": 160,
    "start_time": "2023-12-13T19:16:57.108Z"
   },
   {
    "duration": 164,
    "start_time": "2023-12-13T19:16:57.270Z"
   },
   {
    "duration": 3,
    "start_time": "2023-12-13T19:16:57.436Z"
   },
   {
    "duration": 7,
    "start_time": "2023-12-13T19:16:57.448Z"
   },
   {
    "duration": 21,
    "start_time": "2023-12-13T19:16:57.456Z"
   },
   {
    "duration": 15,
    "start_time": "2023-12-13T19:16:57.479Z"
   },
   {
    "duration": 23,
    "start_time": "2023-12-13T19:16:57.496Z"
   },
   {
    "duration": 29,
    "start_time": "2023-12-13T19:16:57.520Z"
   },
   {
    "duration": 7,
    "start_time": "2023-12-13T19:16:57.550Z"
   },
   {
    "duration": 1336,
    "start_time": "2023-12-13T19:16:57.558Z"
   },
   {
    "duration": 7,
    "start_time": "2023-12-13T19:16:58.896Z"
   },
   {
    "duration": 15,
    "start_time": "2023-12-13T19:16:58.905Z"
   },
   {
    "duration": 4,
    "start_time": "2023-12-13T19:16:58.924Z"
   },
   {
    "duration": 5,
    "start_time": "2023-12-13T19:16:58.930Z"
   },
   {
    "duration": 4,
    "start_time": "2023-12-13T19:16:58.937Z"
   },
   {
    "duration": 1437,
    "start_time": "2023-12-13T19:16:58.942Z"
   },
   {
    "duration": 14,
    "start_time": "2023-12-13T19:17:00.380Z"
   },
   {
    "duration": 854,
    "start_time": "2023-12-13T19:17:00.396Z"
   },
   {
    "duration": 3,
    "start_time": "2023-12-13T19:17:01.251Z"
   },
   {
    "duration": 877,
    "start_time": "2023-12-13T19:17:01.255Z"
   },
   {
    "duration": 128,
    "start_time": "2023-12-13T19:17:02.134Z"
   },
   {
    "duration": 270,
    "start_time": "2023-12-13T19:17:02.264Z"
   },
   {
    "duration": 192,
    "start_time": "2023-12-13T19:17:51.881Z"
   },
   {
    "duration": 39,
    "start_time": "2023-12-13T19:18:24.017Z"
   },
   {
    "duration": 30,
    "start_time": "2023-12-13T19:19:34.507Z"
   },
   {
    "duration": 162,
    "start_time": "2023-12-13T19:19:38.958Z"
   },
   {
    "duration": 24,
    "start_time": "2023-12-13T19:22:35.168Z"
   },
   {
    "duration": 13,
    "start_time": "2023-12-13T19:22:40.509Z"
   },
   {
    "duration": 5855,
    "start_time": "2023-12-13T19:22:50.678Z"
   },
   {
    "duration": 2217,
    "start_time": "2023-12-13T19:22:56.536Z"
   },
   {
    "duration": 2,
    "start_time": "2023-12-13T19:22:58.755Z"
   },
   {
    "duration": 23,
    "start_time": "2023-12-13T19:22:58.759Z"
   },
   {
    "duration": 101,
    "start_time": "2023-12-13T19:22:58.783Z"
   },
   {
    "duration": 14,
    "start_time": "2023-12-13T19:22:58.886Z"
   },
   {
    "duration": 39,
    "start_time": "2023-12-13T19:22:58.902Z"
   },
   {
    "duration": 6,
    "start_time": "2023-12-13T19:22:58.942Z"
   },
   {
    "duration": 35,
    "start_time": "2023-12-13T19:22:58.949Z"
   },
   {
    "duration": 12,
    "start_time": "2023-12-13T19:22:58.986Z"
   },
   {
    "duration": 20,
    "start_time": "2023-12-13T19:22:58.999Z"
   },
   {
    "duration": 15,
    "start_time": "2023-12-13T19:22:59.020Z"
   },
   {
    "duration": 24,
    "start_time": "2023-12-13T19:22:59.036Z"
   },
   {
    "duration": 16,
    "start_time": "2023-12-13T19:22:59.062Z"
   },
   {
    "duration": 41,
    "start_time": "2023-12-13T19:22:59.080Z"
   },
   {
    "duration": 29,
    "start_time": "2023-12-13T19:22:59.122Z"
   },
   {
    "duration": 22,
    "start_time": "2023-12-13T19:22:59.152Z"
   },
   {
    "duration": 24,
    "start_time": "2023-12-13T19:22:59.175Z"
   },
   {
    "duration": 20,
    "start_time": "2023-12-13T19:22:59.200Z"
   },
   {
    "duration": 23,
    "start_time": "2023-12-13T19:22:59.222Z"
   },
   {
    "duration": 60,
    "start_time": "2023-12-13T19:22:59.247Z"
   },
   {
    "duration": 97,
    "start_time": "2023-12-13T19:22:59.308Z"
   },
   {
    "duration": 236,
    "start_time": "2023-12-13T19:22:59.407Z"
   },
   {
    "duration": 234,
    "start_time": "2023-12-13T19:22:59.644Z"
   },
   {
    "duration": 1412,
    "start_time": "2023-12-13T19:22:59.879Z"
   },
   {
    "duration": 95,
    "start_time": "2023-12-13T19:23:01.292Z"
   },
   {
    "duration": 4,
    "start_time": "2023-12-13T19:23:01.388Z"
   },
   {
    "duration": 248,
    "start_time": "2023-12-13T19:23:01.396Z"
   },
   {
    "duration": 163,
    "start_time": "2023-12-13T19:23:01.645Z"
   },
   {
    "duration": 201,
    "start_time": "2023-12-13T19:23:01.810Z"
   },
   {
    "duration": 3,
    "start_time": "2023-12-13T19:23:02.013Z"
   },
   {
    "duration": 45,
    "start_time": "2023-12-13T19:23:02.018Z"
   },
   {
    "duration": 93,
    "start_time": "2023-12-13T19:23:02.065Z"
   },
   {
    "duration": 31,
    "start_time": "2023-12-13T19:23:02.159Z"
   },
   {
    "duration": 37,
    "start_time": "2023-12-13T19:23:02.192Z"
   },
   {
    "duration": 21,
    "start_time": "2023-12-13T19:23:02.230Z"
   },
   {
    "duration": 12,
    "start_time": "2023-12-13T19:23:02.252Z"
   },
   {
    "duration": 1442,
    "start_time": "2023-12-13T19:23:02.265Z"
   },
   {
    "duration": 9,
    "start_time": "2023-12-13T19:23:03.708Z"
   },
   {
    "duration": 4,
    "start_time": "2023-12-13T19:23:03.718Z"
   },
   {
    "duration": 13,
    "start_time": "2023-12-13T19:23:03.723Z"
   },
   {
    "duration": 7,
    "start_time": "2023-12-13T19:23:03.738Z"
   },
   {
    "duration": 5,
    "start_time": "2023-12-13T19:23:03.747Z"
   },
   {
    "duration": 1358,
    "start_time": "2023-12-13T19:23:03.753Z"
   },
   {
    "duration": 13,
    "start_time": "2023-12-13T19:23:05.113Z"
   },
   {
    "duration": 565,
    "start_time": "2023-12-13T19:23:05.127Z"
   },
   {
    "duration": 2,
    "start_time": "2023-12-13T19:23:05.694Z"
   },
   {
    "duration": 20,
    "start_time": "2023-12-13T19:23:05.697Z"
   },
   {
    "duration": 200,
    "start_time": "2023-12-13T19:23:05.718Z"
   },
   {
    "duration": 0,
    "start_time": "2023-12-13T19:23:05.919Z"
   },
   {
    "duration": 19,
    "start_time": "2023-12-13T19:23:17.072Z"
   },
   {
    "duration": 69,
    "start_time": "2023-12-13T19:23:31.571Z"
   },
   {
    "duration": 241,
    "start_time": "2023-12-13T19:24:17.372Z"
   },
   {
    "duration": 108,
    "start_time": "2023-12-13T19:24:21.792Z"
   },
   {
    "duration": 40,
    "start_time": "2023-12-13T19:33:54.340Z"
   },
   {
    "duration": 20,
    "start_time": "2023-12-13T19:34:13.716Z"
   },
   {
    "duration": 121,
    "start_time": "2023-12-13T19:34:18.251Z"
   },
   {
    "duration": 44,
    "start_time": "2023-12-13T19:34:21.459Z"
   },
   {
    "duration": 5,
    "start_time": "2023-12-13T19:34:26.086Z"
   },
   {
    "duration": 5,
    "start_time": "2023-12-13T19:34:43.117Z"
   },
   {
    "duration": 99,
    "start_time": "2023-12-13T19:36:00.877Z"
   },
   {
    "duration": 93,
    "start_time": "2023-12-13T19:36:09.695Z"
   },
   {
    "duration": 171,
    "start_time": "2023-12-13T19:41:10.579Z"
   },
   {
    "duration": 189,
    "start_time": "2023-12-13T19:41:58.236Z"
   },
   {
    "duration": 209,
    "start_time": "2023-12-13T19:42:13.678Z"
   },
   {
    "duration": 785,
    "start_time": "2023-12-13T19:42:42.423Z"
   },
   {
    "duration": 201,
    "start_time": "2023-12-13T19:43:01.714Z"
   },
   {
    "duration": 201,
    "start_time": "2023-12-13T19:43:46.144Z"
   },
   {
    "duration": 208,
    "start_time": "2023-12-13T19:44:20.070Z"
   },
   {
    "duration": 295,
    "start_time": "2023-12-13T19:44:37.228Z"
   },
   {
    "duration": 191,
    "start_time": "2023-12-13T19:44:47.316Z"
   },
   {
    "duration": 192,
    "start_time": "2023-12-13T19:44:53.315Z"
   },
   {
    "duration": 209,
    "start_time": "2023-12-13T19:44:57.693Z"
   },
   {
    "duration": 5903,
    "start_time": "2023-12-13T19:49:30.922Z"
   },
   {
    "duration": 2169,
    "start_time": "2023-12-13T19:49:36.827Z"
   },
   {
    "duration": 2,
    "start_time": "2023-12-13T19:49:38.998Z"
   },
   {
    "duration": 14,
    "start_time": "2023-12-13T19:49:39.002Z"
   },
   {
    "duration": 86,
    "start_time": "2023-12-13T19:49:39.017Z"
   },
   {
    "duration": 13,
    "start_time": "2023-12-13T19:49:39.105Z"
   },
   {
    "duration": 23,
    "start_time": "2023-12-13T19:49:39.119Z"
   },
   {
    "duration": 6,
    "start_time": "2023-12-13T19:49:39.143Z"
   },
   {
    "duration": 23,
    "start_time": "2023-12-13T19:49:39.150Z"
   },
   {
    "duration": 20,
    "start_time": "2023-12-13T19:49:39.175Z"
   },
   {
    "duration": 11,
    "start_time": "2023-12-13T19:49:39.196Z"
   },
   {
    "duration": 11,
    "start_time": "2023-12-13T19:49:39.208Z"
   },
   {
    "duration": 23,
    "start_time": "2023-12-13T19:49:39.220Z"
   },
   {
    "duration": 3,
    "start_time": "2023-12-13T19:49:39.244Z"
   },
   {
    "duration": 7,
    "start_time": "2023-12-13T19:49:39.248Z"
   },
   {
    "duration": 11,
    "start_time": "2023-12-13T19:49:39.256Z"
   },
   {
    "duration": 4,
    "start_time": "2023-12-13T19:49:39.268Z"
   },
   {
    "duration": 5,
    "start_time": "2023-12-13T19:49:39.273Z"
   },
   {
    "duration": 6,
    "start_time": "2023-12-13T19:49:39.279Z"
   },
   {
    "duration": 11,
    "start_time": "2023-12-13T19:49:39.286Z"
   },
   {
    "duration": 178,
    "start_time": "2023-12-13T19:49:39.298Z"
   },
   {
    "duration": 98,
    "start_time": "2023-12-13T19:49:39.478Z"
   },
   {
    "duration": 248,
    "start_time": "2023-12-13T19:49:39.578Z"
   },
   {
    "duration": 230,
    "start_time": "2023-12-13T19:49:39.828Z"
   },
   {
    "duration": 1348,
    "start_time": "2023-12-13T19:49:40.059Z"
   },
   {
    "duration": 89,
    "start_time": "2023-12-13T19:49:41.408Z"
   },
   {
    "duration": 4,
    "start_time": "2023-12-13T19:49:41.498Z"
   },
   {
    "duration": 174,
    "start_time": "2023-12-13T19:49:41.506Z"
   },
   {
    "duration": 164,
    "start_time": "2023-12-13T19:49:41.681Z"
   },
   {
    "duration": 201,
    "start_time": "2023-12-13T19:49:41.846Z"
   },
   {
    "duration": 2,
    "start_time": "2023-12-13T19:49:42.049Z"
   },
   {
    "duration": 18,
    "start_time": "2023-12-13T19:49:42.053Z"
   },
   {
    "duration": 28,
    "start_time": "2023-12-13T19:49:42.073Z"
   },
   {
    "duration": 14,
    "start_time": "2023-12-13T19:49:42.102Z"
   },
   {
    "duration": 35,
    "start_time": "2023-12-13T19:49:42.118Z"
   },
   {
    "duration": 12,
    "start_time": "2023-12-13T19:49:42.155Z"
   },
   {
    "duration": 6,
    "start_time": "2023-12-13T19:49:42.169Z"
   },
   {
    "duration": 1393,
    "start_time": "2023-12-13T19:49:42.177Z"
   },
   {
    "duration": 9,
    "start_time": "2023-12-13T19:49:43.572Z"
   },
   {
    "duration": 3,
    "start_time": "2023-12-13T19:49:43.583Z"
   },
   {
    "duration": 17,
    "start_time": "2023-12-13T19:49:43.588Z"
   },
   {
    "duration": 10,
    "start_time": "2023-12-13T19:49:43.606Z"
   },
   {
    "duration": 7,
    "start_time": "2023-12-13T19:49:43.618Z"
   },
   {
    "duration": 1372,
    "start_time": "2023-12-13T19:49:43.627Z"
   },
   {
    "duration": 14,
    "start_time": "2023-12-13T19:49:45.001Z"
   },
   {
    "duration": 583,
    "start_time": "2023-12-13T19:49:45.016Z"
   },
   {
    "duration": 2,
    "start_time": "2023-12-13T19:49:45.600Z"
   },
   {
    "duration": 5,
    "start_time": "2023-12-13T19:49:45.604Z"
   },
   {
    "duration": 21,
    "start_time": "2023-12-13T19:49:45.610Z"
   },
   {
    "duration": 266,
    "start_time": "2023-12-13T19:49:45.632Z"
   },
   {
    "duration": 6,
    "start_time": "2023-12-13T19:49:45.900Z"
   },
   {
    "duration": 207,
    "start_time": "2023-12-13T19:49:45.907Z"
   },
   {
    "duration": 6,
    "start_time": "2023-12-13T19:50:14.345Z"
   },
   {
    "duration": 200,
    "start_time": "2023-12-13T19:50:15.774Z"
   },
   {
    "duration": 6,
    "start_time": "2023-12-13T19:50:27.674Z"
   },
   {
    "duration": 206,
    "start_time": "2023-12-13T19:50:29.447Z"
   },
   {
    "duration": 6,
    "start_time": "2023-12-13T19:50:38.672Z"
   },
   {
    "duration": 196,
    "start_time": "2023-12-13T19:50:39.538Z"
   },
   {
    "duration": 208,
    "start_time": "2023-12-13T19:57:52.482Z"
   },
   {
    "duration": 208,
    "start_time": "2023-12-13T19:58:23.658Z"
   },
   {
    "duration": 322,
    "start_time": "2023-12-13T20:01:43.737Z"
   },
   {
    "duration": 181,
    "start_time": "2023-12-13T20:02:04.589Z"
   },
   {
    "duration": 135,
    "start_time": "2023-12-13T20:02:12.242Z"
   },
   {
    "duration": 136,
    "start_time": "2023-12-13T20:19:30.763Z"
   },
   {
    "duration": 135,
    "start_time": "2023-12-13T20:19:33.629Z"
   },
   {
    "duration": 17,
    "start_time": "2023-12-13T20:30:37.581Z"
   },
   {
    "duration": 11978,
    "start_time": "2023-12-13T20:30:43.655Z"
   },
   {
    "duration": 5921,
    "start_time": "2023-12-13T20:39:09.271Z"
   },
   {
    "duration": 2131,
    "start_time": "2023-12-13T20:39:15.194Z"
   },
   {
    "duration": 3,
    "start_time": "2023-12-13T20:39:17.326Z"
   },
   {
    "duration": 34,
    "start_time": "2023-12-13T20:39:17.330Z"
   },
   {
    "duration": 101,
    "start_time": "2023-12-13T20:39:17.365Z"
   },
   {
    "duration": 13,
    "start_time": "2023-12-13T20:39:17.467Z"
   },
   {
    "duration": 37,
    "start_time": "2023-12-13T20:39:17.481Z"
   },
   {
    "duration": 6,
    "start_time": "2023-12-13T20:39:17.520Z"
   },
   {
    "duration": 29,
    "start_time": "2023-12-13T20:39:17.527Z"
   },
   {
    "duration": 9,
    "start_time": "2023-12-13T20:39:17.559Z"
   },
   {
    "duration": 20,
    "start_time": "2023-12-13T20:39:17.570Z"
   },
   {
    "duration": 18,
    "start_time": "2023-12-13T20:39:17.591Z"
   },
   {
    "duration": 28,
    "start_time": "2023-12-13T20:39:17.610Z"
   },
   {
    "duration": 8,
    "start_time": "2023-12-13T20:39:17.640Z"
   },
   {
    "duration": 11,
    "start_time": "2023-12-13T20:39:17.650Z"
   },
   {
    "duration": 26,
    "start_time": "2023-12-13T20:39:17.663Z"
   },
   {
    "duration": 18,
    "start_time": "2023-12-13T20:39:17.690Z"
   },
   {
    "duration": 10,
    "start_time": "2023-12-13T20:39:17.710Z"
   },
   {
    "duration": 10,
    "start_time": "2023-12-13T20:39:17.721Z"
   },
   {
    "duration": 20,
    "start_time": "2023-12-13T20:39:17.733Z"
   },
   {
    "duration": 98,
    "start_time": "2023-12-13T20:39:17.754Z"
   },
   {
    "duration": 91,
    "start_time": "2023-12-13T20:39:17.853Z"
   },
   {
    "duration": 255,
    "start_time": "2023-12-13T20:39:17.948Z"
   },
   {
    "duration": 234,
    "start_time": "2023-12-13T20:39:18.205Z"
   },
   {
    "duration": 1345,
    "start_time": "2023-12-13T20:39:18.440Z"
   },
   {
    "duration": 92,
    "start_time": "2023-12-13T20:39:19.787Z"
   },
   {
    "duration": 4,
    "start_time": "2023-12-13T20:39:19.880Z"
   },
   {
    "duration": 170,
    "start_time": "2023-12-13T20:39:19.887Z"
   },
   {
    "duration": 177,
    "start_time": "2023-12-13T20:39:20.058Z"
   },
   {
    "duration": 183,
    "start_time": "2023-12-13T20:39:20.236Z"
   },
   {
    "duration": 18,
    "start_time": "2023-12-13T20:39:20.420Z"
   },
   {
    "duration": 12,
    "start_time": "2023-12-13T20:39:20.448Z"
   },
   {
    "duration": 22,
    "start_time": "2023-12-13T20:39:20.462Z"
   },
   {
    "duration": 10,
    "start_time": "2023-12-13T20:39:20.486Z"
   },
   {
    "duration": 7,
    "start_time": "2023-12-13T20:39:20.497Z"
   },
   {
    "duration": 1353,
    "start_time": "2023-12-13T20:39:20.506Z"
   },
   {
    "duration": 8,
    "start_time": "2023-12-13T20:39:21.860Z"
   },
   {
    "duration": 4,
    "start_time": "2023-12-13T20:39:21.869Z"
   },
   {
    "duration": 6,
    "start_time": "2023-12-13T20:39:21.874Z"
   },
   {
    "duration": 12,
    "start_time": "2023-12-13T20:39:21.881Z"
   },
   {
    "duration": 20,
    "start_time": "2023-12-13T20:39:21.894Z"
   },
   {
    "duration": 1258,
    "start_time": "2023-12-13T20:39:21.915Z"
   },
   {
    "duration": 16,
    "start_time": "2023-12-13T20:39:23.175Z"
   },
   {
    "duration": 227,
    "start_time": "2023-12-13T20:39:23.193Z"
   },
   {
    "duration": 0,
    "start_time": "2023-12-13T20:39:23.421Z"
   },
   {
    "duration": 0,
    "start_time": "2023-12-13T20:39:23.422Z"
   },
   {
    "duration": 0,
    "start_time": "2023-12-13T20:39:23.423Z"
   },
   {
    "duration": 0,
    "start_time": "2023-12-13T20:39:23.424Z"
   },
   {
    "duration": 0,
    "start_time": "2023-12-13T20:39:23.424Z"
   },
   {
    "duration": 0,
    "start_time": "2023-12-13T20:39:23.425Z"
   },
   {
    "duration": 0,
    "start_time": "2023-12-13T20:39:23.426Z"
   },
   {
    "duration": 5875,
    "start_time": "2023-12-13T20:43:04.625Z"
   },
   {
    "duration": 2147,
    "start_time": "2023-12-13T20:43:10.503Z"
   },
   {
    "duration": 2,
    "start_time": "2023-12-13T20:43:12.652Z"
   },
   {
    "duration": 112,
    "start_time": "2023-12-13T20:43:12.656Z"
   },
   {
    "duration": 90,
    "start_time": "2023-12-13T20:43:12.769Z"
   },
   {
    "duration": 13,
    "start_time": "2023-12-13T20:43:12.860Z"
   },
   {
    "duration": 34,
    "start_time": "2023-12-13T20:43:12.875Z"
   },
   {
    "duration": 7,
    "start_time": "2023-12-13T20:43:12.910Z"
   },
   {
    "duration": 12,
    "start_time": "2023-12-13T20:43:12.918Z"
   },
   {
    "duration": 6,
    "start_time": "2023-12-13T20:43:12.932Z"
   },
   {
    "duration": 13,
    "start_time": "2023-12-13T20:43:12.939Z"
   },
   {
    "duration": 6,
    "start_time": "2023-12-13T20:43:12.953Z"
   },
   {
    "duration": 9,
    "start_time": "2023-12-13T20:43:12.960Z"
   },
   {
    "duration": 3,
    "start_time": "2023-12-13T20:43:12.971Z"
   },
   {
    "duration": 17,
    "start_time": "2023-12-13T20:43:12.975Z"
   },
   {
    "duration": 5,
    "start_time": "2023-12-13T20:43:12.993Z"
   },
   {
    "duration": 11,
    "start_time": "2023-12-13T20:43:13.000Z"
   },
   {
    "duration": 4,
    "start_time": "2023-12-13T20:43:13.012Z"
   },
   {
    "duration": 14,
    "start_time": "2023-12-13T20:43:13.017Z"
   },
   {
    "duration": 18,
    "start_time": "2023-12-13T20:43:13.032Z"
   },
   {
    "duration": 46,
    "start_time": "2023-12-13T20:43:13.051Z"
   },
   {
    "duration": 103,
    "start_time": "2023-12-13T20:43:13.098Z"
   },
   {
    "duration": 250,
    "start_time": "2023-12-13T20:43:13.202Z"
   },
   {
    "duration": 228,
    "start_time": "2023-12-13T20:43:13.454Z"
   },
   {
    "duration": 1353,
    "start_time": "2023-12-13T20:43:13.684Z"
   },
   {
    "duration": 89,
    "start_time": "2023-12-13T20:43:15.038Z"
   },
   {
    "duration": 4,
    "start_time": "2023-12-13T20:43:15.129Z"
   },
   {
    "duration": 179,
    "start_time": "2023-12-13T20:43:15.147Z"
   },
   {
    "duration": 158,
    "start_time": "2023-12-13T20:43:15.328Z"
   },
   {
    "duration": 181,
    "start_time": "2023-12-13T20:43:15.488Z"
   },
   {
    "duration": 19,
    "start_time": "2023-12-13T20:43:15.671Z"
   },
   {
    "duration": 26,
    "start_time": "2023-12-13T20:43:15.692Z"
   },
   {
    "duration": 33,
    "start_time": "2023-12-13T20:43:15.719Z"
   },
   {
    "duration": 12,
    "start_time": "2023-12-13T20:43:15.754Z"
   },
   {
    "duration": 7,
    "start_time": "2023-12-13T20:43:15.768Z"
   },
   {
    "duration": 1421,
    "start_time": "2023-12-13T20:43:15.776Z"
   },
   {
    "duration": 9,
    "start_time": "2023-12-13T20:43:17.199Z"
   },
   {
    "duration": 8,
    "start_time": "2023-12-13T20:43:17.210Z"
   },
   {
    "duration": 4,
    "start_time": "2023-12-13T20:43:17.219Z"
   },
   {
    "duration": 28,
    "start_time": "2023-12-13T20:43:17.225Z"
   },
   {
    "duration": 6,
    "start_time": "2023-12-13T20:43:17.254Z"
   },
   {
    "duration": 1196,
    "start_time": "2023-12-13T20:43:17.261Z"
   },
   {
    "duration": 15,
    "start_time": "2023-12-13T20:43:18.459Z"
   },
   {
    "duration": 214,
    "start_time": "2023-12-13T20:43:18.476Z"
   },
   {
    "duration": 0,
    "start_time": "2023-12-13T20:43:18.692Z"
   },
   {
    "duration": 0,
    "start_time": "2023-12-13T20:43:18.693Z"
   },
   {
    "duration": 0,
    "start_time": "2023-12-13T20:43:18.694Z"
   },
   {
    "duration": 0,
    "start_time": "2023-12-13T20:43:18.696Z"
   },
   {
    "duration": 0,
    "start_time": "2023-12-13T20:43:18.697Z"
   },
   {
    "duration": 0,
    "start_time": "2023-12-13T20:43:18.698Z"
   },
   {
    "duration": 0,
    "start_time": "2023-12-13T20:43:18.698Z"
   },
   {
    "duration": 5827,
    "start_time": "2023-12-13T20:43:53.424Z"
   },
   {
    "duration": 2202,
    "start_time": "2023-12-13T20:43:59.253Z"
   },
   {
    "duration": 3,
    "start_time": "2023-12-13T20:44:01.456Z"
   },
   {
    "duration": 73,
    "start_time": "2023-12-13T20:44:01.460Z"
   },
   {
    "duration": 159,
    "start_time": "2023-12-13T20:44:01.535Z"
   },
   {
    "duration": 170,
    "start_time": "2023-12-13T20:44:01.696Z"
   },
   {
    "duration": 103,
    "start_time": "2023-12-13T20:44:01.867Z"
   },
   {
    "duration": 88,
    "start_time": "2023-12-13T20:44:01.971Z"
   },
   {
    "duration": 70,
    "start_time": "2023-12-13T20:44:02.060Z"
   },
   {
    "duration": 7,
    "start_time": "2023-12-13T20:44:02.132Z"
   },
   {
    "duration": 18,
    "start_time": "2023-12-13T20:44:02.140Z"
   },
   {
    "duration": 6,
    "start_time": "2023-12-13T20:44:02.159Z"
   },
   {
    "duration": 37,
    "start_time": "2023-12-13T20:44:02.166Z"
   },
   {
    "duration": 9,
    "start_time": "2023-12-13T20:44:02.206Z"
   },
   {
    "duration": 22,
    "start_time": "2023-12-13T20:44:02.216Z"
   },
   {
    "duration": 6,
    "start_time": "2023-12-13T20:44:02.239Z"
   },
   {
    "duration": 16,
    "start_time": "2023-12-13T20:44:02.247Z"
   },
   {
    "duration": 20,
    "start_time": "2023-12-13T20:44:02.264Z"
   },
   {
    "duration": 12,
    "start_time": "2023-12-13T20:44:02.285Z"
   },
   {
    "duration": 10,
    "start_time": "2023-12-13T20:44:02.298Z"
   },
   {
    "duration": 47,
    "start_time": "2023-12-13T20:44:02.310Z"
   },
   {
    "duration": 103,
    "start_time": "2023-12-13T20:44:02.359Z"
   },
   {
    "duration": 241,
    "start_time": "2023-12-13T20:44:02.464Z"
   },
   {
    "duration": 225,
    "start_time": "2023-12-13T20:44:02.707Z"
   },
   {
    "duration": 1347,
    "start_time": "2023-12-13T20:44:02.934Z"
   },
   {
    "duration": 88,
    "start_time": "2023-12-13T20:44:04.282Z"
   },
   {
    "duration": 5,
    "start_time": "2023-12-13T20:44:04.371Z"
   },
   {
    "duration": 177,
    "start_time": "2023-12-13T20:44:04.377Z"
   },
   {
    "duration": 160,
    "start_time": "2023-12-13T20:44:04.556Z"
   },
   {
    "duration": 168,
    "start_time": "2023-12-13T20:44:04.718Z"
   },
   {
    "duration": 19,
    "start_time": "2023-12-13T20:44:04.888Z"
   },
   {
    "duration": 86,
    "start_time": "2023-12-13T20:44:04.909Z"
   },
   {
    "duration": 154,
    "start_time": "2023-12-13T20:44:04.997Z"
   },
   {
    "duration": 20,
    "start_time": "2023-12-13T20:44:05.153Z"
   },
   {
    "duration": 9,
    "start_time": "2023-12-13T20:44:05.174Z"
   },
   {
    "duration": 1329,
    "start_time": "2023-12-13T20:44:05.184Z"
   },
   {
    "duration": 9,
    "start_time": "2023-12-13T20:44:06.515Z"
   },
   {
    "duration": 14,
    "start_time": "2023-12-13T20:44:06.526Z"
   },
   {
    "duration": 34,
    "start_time": "2023-12-13T20:44:06.541Z"
   },
   {
    "duration": 37,
    "start_time": "2023-12-13T20:44:06.576Z"
   },
   {
    "duration": 5,
    "start_time": "2023-12-13T20:44:06.617Z"
   },
   {
    "duration": 1409,
    "start_time": "2023-12-13T20:44:06.624Z"
   },
   {
    "duration": 16,
    "start_time": "2023-12-13T20:44:08.035Z"
   },
   {
    "duration": 652,
    "start_time": "2023-12-13T20:44:08.052Z"
   },
   {
    "duration": 2,
    "start_time": "2023-12-13T20:44:08.706Z"
   },
   {
    "duration": 36,
    "start_time": "2023-12-13T20:44:08.710Z"
   },
   {
    "duration": 26,
    "start_time": "2023-12-13T20:44:08.748Z"
   },
   {
    "duration": 109,
    "start_time": "2023-12-13T20:44:08.776Z"
   },
   {
    "duration": 6,
    "start_time": "2023-12-13T20:44:08.887Z"
   },
   {
    "duration": 247,
    "start_time": "2023-12-13T20:44:08.894Z"
   },
   {
    "duration": 135,
    "start_time": "2023-12-13T20:44:09.147Z"
   },
   {
    "duration": 5998,
    "start_time": "2023-12-13T20:45:57.109Z"
   },
   {
    "duration": 2183,
    "start_time": "2023-12-13T20:46:03.109Z"
   },
   {
    "duration": 3,
    "start_time": "2023-12-13T20:46:05.295Z"
   },
   {
    "duration": 6,
    "start_time": "2023-12-13T20:46:05.299Z"
   },
   {
    "duration": 126,
    "start_time": "2023-12-13T20:46:05.306Z"
   },
   {
    "duration": 13,
    "start_time": "2023-12-13T20:46:05.434Z"
   },
   {
    "duration": 32,
    "start_time": "2023-12-13T20:46:05.448Z"
   },
   {
    "duration": 6,
    "start_time": "2023-12-13T20:46:05.481Z"
   },
   {
    "duration": 9,
    "start_time": "2023-12-13T20:46:05.489Z"
   },
   {
    "duration": 5,
    "start_time": "2023-12-13T20:46:05.499Z"
   },
   {
    "duration": 20,
    "start_time": "2023-12-13T20:46:05.505Z"
   },
   {
    "duration": 6,
    "start_time": "2023-12-13T20:46:05.526Z"
   },
   {
    "duration": 22,
    "start_time": "2023-12-13T20:46:05.533Z"
   },
   {
    "duration": 4,
    "start_time": "2023-12-13T20:46:05.556Z"
   },
   {
    "duration": 7,
    "start_time": "2023-12-13T20:46:05.561Z"
   },
   {
    "duration": 9,
    "start_time": "2023-12-13T20:46:05.569Z"
   },
   {
    "duration": 6,
    "start_time": "2023-12-13T20:46:05.579Z"
   },
   {
    "duration": 22,
    "start_time": "2023-12-13T20:46:05.586Z"
   },
   {
    "duration": 8,
    "start_time": "2023-12-13T20:46:05.609Z"
   },
   {
    "duration": 10,
    "start_time": "2023-12-13T20:46:05.618Z"
   },
   {
    "duration": 52,
    "start_time": "2023-12-13T20:46:05.629Z"
   },
   {
    "duration": 95,
    "start_time": "2023-12-13T20:46:05.682Z"
   },
   {
    "duration": 245,
    "start_time": "2023-12-13T20:46:05.779Z"
   },
   {
    "duration": 236,
    "start_time": "2023-12-13T20:46:06.026Z"
   },
   {
    "duration": 1390,
    "start_time": "2023-12-13T20:46:06.264Z"
   },
   {
    "duration": 3,
    "start_time": "2023-12-13T20:46:07.656Z"
   },
   {
    "duration": 102,
    "start_time": "2023-12-13T20:46:07.662Z"
   },
   {
    "duration": 4,
    "start_time": "2023-12-13T20:46:07.765Z"
   },
   {
    "duration": 192,
    "start_time": "2023-12-13T20:46:07.770Z"
   },
   {
    "duration": 165,
    "start_time": "2023-12-13T20:46:07.963Z"
   },
   {
    "duration": 176,
    "start_time": "2023-12-13T20:46:08.129Z"
   },
   {
    "duration": 19,
    "start_time": "2023-12-13T20:46:08.306Z"
   },
   {
    "duration": 23,
    "start_time": "2023-12-13T20:46:08.326Z"
   },
   {
    "duration": 34,
    "start_time": "2023-12-13T20:46:08.350Z"
   },
   {
    "duration": 12,
    "start_time": "2023-12-13T20:46:08.385Z"
   },
   {
    "duration": 32,
    "start_time": "2023-12-13T20:46:08.398Z"
   },
   {
    "duration": 1367,
    "start_time": "2023-12-13T20:46:08.431Z"
   },
   {
    "duration": 7,
    "start_time": "2023-12-13T20:46:09.800Z"
   },
   {
    "duration": 8,
    "start_time": "2023-12-13T20:46:09.809Z"
   },
   {
    "duration": 7,
    "start_time": "2023-12-13T20:46:09.818Z"
   },
   {
    "duration": 5,
    "start_time": "2023-12-13T20:46:09.826Z"
   },
   {
    "duration": 15,
    "start_time": "2023-12-13T20:46:09.832Z"
   },
   {
    "duration": 1357,
    "start_time": "2023-12-13T20:46:09.849Z"
   },
   {
    "duration": 13,
    "start_time": "2023-12-13T20:46:11.207Z"
   },
   {
    "duration": 569,
    "start_time": "2023-12-13T20:46:11.221Z"
   },
   {
    "duration": 3,
    "start_time": "2023-12-13T20:46:11.791Z"
   },
   {
    "duration": 17,
    "start_time": "2023-12-13T20:46:11.796Z"
   },
   {
    "duration": 23,
    "start_time": "2023-12-13T20:46:11.815Z"
   },
   {
    "duration": 270,
    "start_time": "2023-12-13T20:46:11.839Z"
   },
   {
    "duration": 6,
    "start_time": "2023-12-13T20:46:12.111Z"
   },
   {
    "duration": 247,
    "start_time": "2023-12-13T20:46:12.118Z"
   },
   {
    "duration": 145,
    "start_time": "2023-12-13T20:46:12.367Z"
   },
   {
    "duration": 5863,
    "start_time": "2023-12-13T20:47:42.575Z"
   },
   {
    "duration": 2137,
    "start_time": "2023-12-13T20:47:48.440Z"
   },
   {
    "duration": 3,
    "start_time": "2023-12-13T20:47:50.578Z"
   },
   {
    "duration": 9,
    "start_time": "2023-12-13T20:47:50.583Z"
   },
   {
    "duration": 97,
    "start_time": "2023-12-13T20:47:50.594Z"
   },
   {
    "duration": 16,
    "start_time": "2023-12-13T20:47:50.692Z"
   },
   {
    "duration": 47,
    "start_time": "2023-12-13T20:47:50.710Z"
   },
   {
    "duration": 7,
    "start_time": "2023-12-13T20:47:50.758Z"
   },
   {
    "duration": 13,
    "start_time": "2023-12-13T20:47:50.766Z"
   },
   {
    "duration": 5,
    "start_time": "2023-12-13T20:47:50.782Z"
   },
   {
    "duration": 14,
    "start_time": "2023-12-13T20:47:50.788Z"
   },
   {
    "duration": 6,
    "start_time": "2023-12-13T20:47:50.804Z"
   },
   {
    "duration": 27,
    "start_time": "2023-12-13T20:47:50.811Z"
   },
   {
    "duration": 4,
    "start_time": "2023-12-13T20:47:50.848Z"
   },
   {
    "duration": 14,
    "start_time": "2023-12-13T20:47:50.853Z"
   },
   {
    "duration": 8,
    "start_time": "2023-12-13T20:47:50.868Z"
   },
   {
    "duration": 8,
    "start_time": "2023-12-13T20:47:50.877Z"
   },
   {
    "duration": 6,
    "start_time": "2023-12-13T20:47:50.886Z"
   },
   {
    "duration": 9,
    "start_time": "2023-12-13T20:47:50.893Z"
   },
   {
    "duration": 9,
    "start_time": "2023-12-13T20:47:50.904Z"
   },
   {
    "duration": 55,
    "start_time": "2023-12-13T20:47:50.915Z"
   },
   {
    "duration": 100,
    "start_time": "2023-12-13T20:47:50.971Z"
   },
   {
    "duration": 257,
    "start_time": "2023-12-13T20:47:51.072Z"
   },
   {
    "duration": 230,
    "start_time": "2023-12-13T20:47:51.331Z"
   },
   {
    "duration": 1353,
    "start_time": "2023-12-13T20:47:51.563Z"
   },
   {
    "duration": 4,
    "start_time": "2023-12-13T20:47:52.917Z"
   },
   {
    "duration": 95,
    "start_time": "2023-12-13T20:47:52.922Z"
   },
   {
    "duration": 4,
    "start_time": "2023-12-13T20:47:53.021Z"
   },
   {
    "duration": 181,
    "start_time": "2023-12-13T20:47:53.026Z"
   },
   {
    "duration": 162,
    "start_time": "2023-12-13T20:47:53.209Z"
   },
   {
    "duration": 173,
    "start_time": "2023-12-13T20:47:53.372Z"
   },
   {
    "duration": 17,
    "start_time": "2023-12-13T20:47:53.547Z"
   },
   {
    "duration": 13,
    "start_time": "2023-12-13T20:47:53.566Z"
   },
   {
    "duration": 22,
    "start_time": "2023-12-13T20:47:53.580Z"
   },
   {
    "duration": 11,
    "start_time": "2023-12-13T20:47:53.603Z"
   },
   {
    "duration": 27,
    "start_time": "2023-12-13T20:47:53.616Z"
   },
   {
    "duration": 1318,
    "start_time": "2023-12-13T20:47:53.647Z"
   },
   {
    "duration": 3,
    "start_time": "2023-12-13T20:47:54.967Z"
   },
   {
    "duration": 19,
    "start_time": "2023-12-13T20:47:54.971Z"
   },
   {
    "duration": 5,
    "start_time": "2023-12-13T20:47:54.991Z"
   },
   {
    "duration": 40,
    "start_time": "2023-12-13T20:47:54.997Z"
   },
   {
    "duration": 11,
    "start_time": "2023-12-13T20:47:55.038Z"
   },
   {
    "duration": 5,
    "start_time": "2023-12-13T20:47:55.050Z"
   },
   {
    "duration": 1486,
    "start_time": "2023-12-13T20:47:55.056Z"
   },
   {
    "duration": 16,
    "start_time": "2023-12-13T20:47:56.544Z"
   },
   {
    "duration": 543,
    "start_time": "2023-12-13T20:47:56.562Z"
   },
   {
    "duration": 3,
    "start_time": "2023-12-13T20:47:57.106Z"
   },
   {
    "duration": 5,
    "start_time": "2023-12-13T20:47:57.110Z"
   },
   {
    "duration": 32,
    "start_time": "2023-12-13T20:47:57.116Z"
   },
   {
    "duration": 252,
    "start_time": "2023-12-13T20:47:57.149Z"
   },
   {
    "duration": 7,
    "start_time": "2023-12-13T20:47:57.402Z"
   },
   {
    "duration": 226,
    "start_time": "2023-12-13T20:47:57.410Z"
   },
   {
    "duration": 145,
    "start_time": "2023-12-13T20:47:57.637Z"
   },
   {
    "duration": 3,
    "start_time": "2023-12-13T20:55:08.525Z"
   },
   {
    "duration": 5774,
    "start_time": "2023-12-13T20:55:14.683Z"
   },
   {
    "duration": 2177,
    "start_time": "2023-12-13T20:55:20.460Z"
   },
   {
    "duration": 2,
    "start_time": "2023-12-13T20:55:22.639Z"
   },
   {
    "duration": 29,
    "start_time": "2023-12-13T20:55:22.648Z"
   },
   {
    "duration": 105,
    "start_time": "2023-12-13T20:55:22.678Z"
   },
   {
    "duration": 15,
    "start_time": "2023-12-13T20:55:22.784Z"
   },
   {
    "duration": 29,
    "start_time": "2023-12-13T20:55:22.800Z"
   },
   {
    "duration": 6,
    "start_time": "2023-12-13T20:55:22.830Z"
   },
   {
    "duration": 29,
    "start_time": "2023-12-13T20:55:22.837Z"
   },
   {
    "duration": 5,
    "start_time": "2023-12-13T20:55:22.869Z"
   },
   {
    "duration": 16,
    "start_time": "2023-12-13T20:55:22.875Z"
   },
   {
    "duration": 10,
    "start_time": "2023-12-13T20:55:22.892Z"
   },
   {
    "duration": 17,
    "start_time": "2023-12-13T20:55:22.903Z"
   },
   {
    "duration": 13,
    "start_time": "2023-12-13T20:55:22.921Z"
   },
   {
    "duration": 33,
    "start_time": "2023-12-13T20:55:22.935Z"
   },
   {
    "duration": 28,
    "start_time": "2023-12-13T20:55:22.969Z"
   },
   {
    "duration": 15,
    "start_time": "2023-12-13T20:55:22.998Z"
   },
   {
    "duration": 13,
    "start_time": "2023-12-13T20:55:23.015Z"
   },
   {
    "duration": 8,
    "start_time": "2023-12-13T20:55:23.029Z"
   },
   {
    "duration": 19,
    "start_time": "2023-12-13T20:55:23.039Z"
   },
   {
    "duration": 62,
    "start_time": "2023-12-13T20:55:23.059Z"
   },
   {
    "duration": 95,
    "start_time": "2023-12-13T20:55:23.122Z"
   },
   {
    "duration": 255,
    "start_time": "2023-12-13T20:55:23.219Z"
   },
   {
    "duration": 249,
    "start_time": "2023-12-13T20:55:23.476Z"
   },
   {
    "duration": 1348,
    "start_time": "2023-12-13T20:55:23.727Z"
   },
   {
    "duration": 4,
    "start_time": "2023-12-13T20:55:25.076Z"
   },
   {
    "duration": 102,
    "start_time": "2023-12-13T20:55:25.082Z"
   },
   {
    "duration": 4,
    "start_time": "2023-12-13T20:55:25.189Z"
   },
   {
    "duration": 174,
    "start_time": "2023-12-13T20:55:25.194Z"
   },
   {
    "duration": 168,
    "start_time": "2023-12-13T20:55:25.370Z"
   },
   {
    "duration": 182,
    "start_time": "2023-12-13T20:55:25.540Z"
   },
   {
    "duration": 31,
    "start_time": "2023-12-13T20:55:25.724Z"
   },
   {
    "duration": 16,
    "start_time": "2023-12-13T20:55:25.757Z"
   },
   {
    "duration": 26,
    "start_time": "2023-12-13T20:55:25.774Z"
   },
   {
    "duration": 12,
    "start_time": "2023-12-13T20:55:25.802Z"
   },
   {
    "duration": 32,
    "start_time": "2023-12-13T20:55:25.816Z"
   },
   {
    "duration": 1345,
    "start_time": "2023-12-13T20:55:25.849Z"
   },
   {
    "duration": 5,
    "start_time": "2023-12-13T20:55:27.196Z"
   },
   {
    "duration": 10,
    "start_time": "2023-12-13T20:55:27.202Z"
   },
   {
    "duration": 11,
    "start_time": "2023-12-13T20:55:27.214Z"
   },
   {
    "duration": 48,
    "start_time": "2023-12-13T20:55:27.226Z"
   },
   {
    "duration": 5,
    "start_time": "2023-12-13T20:55:27.275Z"
   },
   {
    "duration": 7,
    "start_time": "2023-12-13T20:55:27.282Z"
   },
   {
    "duration": 18,
    "start_time": "2023-12-13T20:55:27.290Z"
   },
   {
    "duration": 1401,
    "start_time": "2023-12-13T20:55:27.310Z"
   },
   {
    "duration": 14,
    "start_time": "2023-12-13T20:55:28.712Z"
   },
   {
    "duration": 564,
    "start_time": "2023-12-13T20:55:28.727Z"
   },
   {
    "duration": 3,
    "start_time": "2023-12-13T20:55:29.293Z"
   },
   {
    "duration": 17,
    "start_time": "2023-12-13T20:55:29.297Z"
   },
   {
    "duration": 26,
    "start_time": "2023-12-13T20:55:29.315Z"
   },
   {
    "duration": 255,
    "start_time": "2023-12-13T20:55:29.342Z"
   },
   {
    "duration": 7,
    "start_time": "2023-12-13T20:55:29.598Z"
   },
   {
    "duration": 229,
    "start_time": "2023-12-13T20:55:29.606Z"
   },
   {
    "duration": 155,
    "start_time": "2023-12-13T20:55:29.837Z"
   },
   {
    "duration": 4,
    "start_time": "2023-12-13T20:57:39.176Z"
   },
   {
    "duration": 164,
    "start_time": "2023-12-13T20:57:44.839Z"
   },
   {
    "duration": 10,
    "start_time": "2023-12-13T20:58:09.934Z"
   },
   {
    "duration": 10,
    "start_time": "2023-12-13T20:58:20.903Z"
   },
   {
    "duration": 5872,
    "start_time": "2023-12-13T20:59:12.451Z"
   },
   {
    "duration": 2209,
    "start_time": "2023-12-13T20:59:18.325Z"
   },
   {
    "duration": 3,
    "start_time": "2023-12-13T20:59:20.535Z"
   },
   {
    "duration": 31,
    "start_time": "2023-12-13T20:59:20.540Z"
   },
   {
    "duration": 91,
    "start_time": "2023-12-13T20:59:20.573Z"
   },
   {
    "duration": 17,
    "start_time": "2023-12-13T20:59:20.665Z"
   },
   {
    "duration": 28,
    "start_time": "2023-12-13T20:59:20.683Z"
   },
   {
    "duration": 7,
    "start_time": "2023-12-13T20:59:20.713Z"
   },
   {
    "duration": 30,
    "start_time": "2023-12-13T20:59:20.722Z"
   },
   {
    "duration": 12,
    "start_time": "2023-12-13T20:59:20.755Z"
   },
   {
    "duration": 22,
    "start_time": "2023-12-13T20:59:20.768Z"
   },
   {
    "duration": 9,
    "start_time": "2023-12-13T20:59:20.792Z"
   },
   {
    "duration": 17,
    "start_time": "2023-12-13T20:59:20.802Z"
   },
   {
    "duration": 9,
    "start_time": "2023-12-13T20:59:20.820Z"
   },
   {
    "duration": 19,
    "start_time": "2023-12-13T20:59:20.831Z"
   },
   {
    "duration": 5,
    "start_time": "2023-12-13T20:59:20.852Z"
   },
   {
    "duration": 12,
    "start_time": "2023-12-13T20:59:20.858Z"
   },
   {
    "duration": 16,
    "start_time": "2023-12-13T20:59:20.871Z"
   },
   {
    "duration": 13,
    "start_time": "2023-12-13T20:59:20.888Z"
   },
   {
    "duration": 11,
    "start_time": "2023-12-13T20:59:20.903Z"
   },
   {
    "duration": 54,
    "start_time": "2023-12-13T20:59:20.915Z"
   },
   {
    "duration": 100,
    "start_time": "2023-12-13T20:59:20.971Z"
   },
   {
    "duration": 235,
    "start_time": "2023-12-13T20:59:21.072Z"
   },
   {
    "duration": 226,
    "start_time": "2023-12-13T20:59:21.308Z"
   },
   {
    "duration": 1397,
    "start_time": "2023-12-13T20:59:21.536Z"
   },
   {
    "duration": 4,
    "start_time": "2023-12-13T20:59:22.935Z"
   },
   {
    "duration": 82,
    "start_time": "2023-12-13T20:59:22.947Z"
   },
   {
    "duration": 4,
    "start_time": "2023-12-13T20:59:23.032Z"
   },
   {
    "duration": 173,
    "start_time": "2023-12-13T20:59:23.047Z"
   },
   {
    "duration": 169,
    "start_time": "2023-12-13T20:59:23.221Z"
   },
   {
    "duration": 175,
    "start_time": "2023-12-13T20:59:23.392Z"
   },
   {
    "duration": 17,
    "start_time": "2023-12-13T20:59:23.568Z"
   },
   {
    "duration": 19,
    "start_time": "2023-12-13T20:59:23.586Z"
   },
   {
    "duration": 22,
    "start_time": "2023-12-13T20:59:23.606Z"
   },
   {
    "duration": 24,
    "start_time": "2023-12-13T20:59:23.629Z"
   },
   {
    "duration": 5,
    "start_time": "2023-12-13T20:59:23.655Z"
   },
   {
    "duration": 1322,
    "start_time": "2023-12-13T20:59:23.661Z"
   },
   {
    "duration": 2,
    "start_time": "2023-12-13T20:59:24.985Z"
   },
   {
    "duration": 58,
    "start_time": "2023-12-13T20:59:24.988Z"
   },
   {
    "duration": 41,
    "start_time": "2023-12-13T20:59:25.047Z"
   },
   {
    "duration": 14,
    "start_time": "2023-12-13T20:59:25.089Z"
   },
   {
    "duration": 4,
    "start_time": "2023-12-13T20:59:25.104Z"
   },
   {
    "duration": 9,
    "start_time": "2023-12-13T20:59:25.109Z"
   },
   {
    "duration": 1284,
    "start_time": "2023-12-13T20:59:25.119Z"
   },
   {
    "duration": 13,
    "start_time": "2023-12-13T20:59:26.405Z"
   },
   {
    "duration": 573,
    "start_time": "2023-12-13T20:59:26.419Z"
   },
   {
    "duration": 3,
    "start_time": "2023-12-13T20:59:26.993Z"
   },
   {
    "duration": 15,
    "start_time": "2023-12-13T20:59:26.997Z"
   },
   {
    "duration": 23,
    "start_time": "2023-12-13T20:59:27.014Z"
   },
   {
    "duration": 252,
    "start_time": "2023-12-13T20:59:27.039Z"
   },
   {
    "duration": 6,
    "start_time": "2023-12-13T20:59:27.293Z"
   },
   {
    "duration": 217,
    "start_time": "2023-12-13T20:59:27.301Z"
   },
   {
    "duration": 146,
    "start_time": "2023-12-13T20:59:27.519Z"
   },
   {
    "duration": 291,
    "start_time": "2023-12-13T21:03:01.368Z"
   },
   {
    "duration": 278,
    "start_time": "2023-12-13T21:03:14.083Z"
   },
   {
    "duration": 275,
    "start_time": "2023-12-13T21:03:20.572Z"
   },
   {
    "duration": 286,
    "start_time": "2023-12-13T21:03:24.935Z"
   },
   {
    "duration": 295,
    "start_time": "2023-12-13T21:05:13.829Z"
   },
   {
    "duration": 5811,
    "start_time": "2023-12-13T21:19:26.310Z"
   },
   {
    "duration": 2158,
    "start_time": "2023-12-13T21:19:32.123Z"
   },
   {
    "duration": 4,
    "start_time": "2023-12-13T21:19:34.282Z"
   },
   {
    "duration": 21,
    "start_time": "2023-12-13T21:19:34.287Z"
   },
   {
    "duration": 110,
    "start_time": "2023-12-13T21:19:34.309Z"
   },
   {
    "duration": 13,
    "start_time": "2023-12-13T21:19:34.421Z"
   },
   {
    "duration": 24,
    "start_time": "2023-12-13T21:19:34.435Z"
   },
   {
    "duration": 6,
    "start_time": "2023-12-13T21:19:34.460Z"
   },
   {
    "duration": 9,
    "start_time": "2023-12-13T21:19:34.467Z"
   },
   {
    "duration": 5,
    "start_time": "2023-12-13T21:19:34.477Z"
   },
   {
    "duration": 11,
    "start_time": "2023-12-13T21:19:34.483Z"
   },
   {
    "duration": 5,
    "start_time": "2023-12-13T21:19:34.496Z"
   },
   {
    "duration": 10,
    "start_time": "2023-12-13T21:19:34.502Z"
   },
   {
    "duration": 2,
    "start_time": "2023-12-13T21:19:34.516Z"
   },
   {
    "duration": 29,
    "start_time": "2023-12-13T21:19:34.520Z"
   },
   {
    "duration": 5,
    "start_time": "2023-12-13T21:19:34.551Z"
   },
   {
    "duration": 7,
    "start_time": "2023-12-13T21:19:34.557Z"
   },
   {
    "duration": 5,
    "start_time": "2023-12-13T21:19:34.565Z"
   },
   {
    "duration": 7,
    "start_time": "2023-12-13T21:19:34.571Z"
   },
   {
    "duration": 13,
    "start_time": "2023-12-13T21:19:34.579Z"
   },
   {
    "duration": 60,
    "start_time": "2023-12-13T21:19:34.593Z"
   },
   {
    "duration": 104,
    "start_time": "2023-12-13T21:19:34.655Z"
   },
   {
    "duration": 234,
    "start_time": "2023-12-13T21:19:34.760Z"
   },
   {
    "duration": 234,
    "start_time": "2023-12-13T21:19:34.995Z"
   },
   {
    "duration": 1349,
    "start_time": "2023-12-13T21:19:35.230Z"
   },
   {
    "duration": 4,
    "start_time": "2023-12-13T21:19:36.581Z"
   },
   {
    "duration": 97,
    "start_time": "2023-12-13T21:19:36.586Z"
   },
   {
    "duration": 4,
    "start_time": "2023-12-13T21:19:36.685Z"
   },
   {
    "duration": 170,
    "start_time": "2023-12-13T21:19:36.690Z"
   },
   {
    "duration": 179,
    "start_time": "2023-12-13T21:19:36.861Z"
   },
   {
    "duration": 196,
    "start_time": "2023-12-13T21:19:37.042Z"
   },
   {
    "duration": 25,
    "start_time": "2023-12-13T21:19:37.240Z"
   },
   {
    "duration": 24,
    "start_time": "2023-12-13T21:19:37.267Z"
   },
   {
    "duration": 29,
    "start_time": "2023-12-13T21:19:37.293Z"
   },
   {
    "duration": 29,
    "start_time": "2023-12-13T21:19:37.324Z"
   },
   {
    "duration": 7,
    "start_time": "2023-12-13T21:19:37.355Z"
   },
   {
    "duration": 1362,
    "start_time": "2023-12-13T21:19:37.363Z"
   },
   {
    "duration": 3,
    "start_time": "2023-12-13T21:19:38.726Z"
   },
   {
    "duration": 27,
    "start_time": "2023-12-13T21:19:38.731Z"
   },
   {
    "duration": 7,
    "start_time": "2023-12-13T21:19:38.759Z"
   },
   {
    "duration": 9,
    "start_time": "2023-12-13T21:19:38.770Z"
   },
   {
    "duration": 16,
    "start_time": "2023-12-13T21:19:38.781Z"
   },
   {
    "duration": 8,
    "start_time": "2023-12-13T21:19:38.798Z"
   },
   {
    "duration": 1336,
    "start_time": "2023-12-13T21:19:38.807Z"
   },
   {
    "duration": 12,
    "start_time": "2023-12-13T21:19:40.147Z"
   },
   {
    "duration": 546,
    "start_time": "2023-12-13T21:19:40.161Z"
   },
   {
    "duration": 3,
    "start_time": "2023-12-13T21:19:40.709Z"
   },
   {
    "duration": 13,
    "start_time": "2023-12-13T21:19:40.713Z"
   },
   {
    "duration": 38,
    "start_time": "2023-12-13T21:19:40.728Z"
   },
   {
    "duration": 259,
    "start_time": "2023-12-13T21:19:40.768Z"
   },
   {
    "duration": 6,
    "start_time": "2023-12-13T21:19:41.029Z"
   },
   {
    "duration": 315,
    "start_time": "2023-12-13T21:19:41.036Z"
   },
   {
    "duration": 137,
    "start_time": "2023-12-13T21:19:41.353Z"
   },
   {
    "duration": 243,
    "start_time": "2023-12-13T21:22:32.569Z"
   },
   {
    "duration": 5872,
    "start_time": "2023-12-13T21:33:20.279Z"
   },
   {
    "duration": 2191,
    "start_time": "2023-12-13T21:33:26.153Z"
   },
   {
    "duration": 2,
    "start_time": "2023-12-13T21:33:28.345Z"
   },
   {
    "duration": 18,
    "start_time": "2023-12-13T21:33:28.349Z"
   },
   {
    "duration": 86,
    "start_time": "2023-12-13T21:33:28.369Z"
   },
   {
    "duration": 13,
    "start_time": "2023-12-13T21:33:28.456Z"
   },
   {
    "duration": 22,
    "start_time": "2023-12-13T21:33:28.471Z"
   },
   {
    "duration": 6,
    "start_time": "2023-12-13T21:33:28.494Z"
   },
   {
    "duration": 15,
    "start_time": "2023-12-13T21:33:28.501Z"
   },
   {
    "duration": 5,
    "start_time": "2023-12-13T21:33:28.517Z"
   },
   {
    "duration": 26,
    "start_time": "2023-12-13T21:33:28.523Z"
   },
   {
    "duration": 10,
    "start_time": "2023-12-13T21:33:28.550Z"
   },
   {
    "duration": 27,
    "start_time": "2023-12-13T21:33:28.562Z"
   },
   {
    "duration": 5,
    "start_time": "2023-12-13T21:33:28.591Z"
   },
   {
    "duration": 19,
    "start_time": "2023-12-13T21:33:28.597Z"
   },
   {
    "duration": 7,
    "start_time": "2023-12-13T21:33:28.617Z"
   },
   {
    "duration": 7,
    "start_time": "2023-12-13T21:33:28.625Z"
   },
   {
    "duration": 6,
    "start_time": "2023-12-13T21:33:28.633Z"
   },
   {
    "duration": 24,
    "start_time": "2023-12-13T21:33:28.640Z"
   },
   {
    "duration": 26,
    "start_time": "2023-12-13T21:33:28.666Z"
   },
   {
    "duration": 45,
    "start_time": "2023-12-13T21:33:28.693Z"
   },
   {
    "duration": 89,
    "start_time": "2023-12-13T21:33:28.740Z"
   },
   {
    "duration": 242,
    "start_time": "2023-12-13T21:33:28.831Z"
   },
   {
    "duration": 231,
    "start_time": "2023-12-13T21:33:29.075Z"
   },
   {
    "duration": 1365,
    "start_time": "2023-12-13T21:33:29.307Z"
   },
   {
    "duration": 4,
    "start_time": "2023-12-13T21:33:30.674Z"
   },
   {
    "duration": 142,
    "start_time": "2023-12-13T21:33:30.679Z"
   },
   {
    "duration": 83,
    "start_time": "2023-12-13T21:33:30.823Z"
   },
   {
    "duration": 358,
    "start_time": "2023-12-13T21:33:30.907Z"
   },
   {
    "duration": 219,
    "start_time": "2023-12-13T21:33:31.267Z"
   },
   {
    "duration": 340,
    "start_time": "2023-12-13T21:33:31.487Z"
   },
   {
    "duration": 25,
    "start_time": "2023-12-13T21:33:31.829Z"
   },
   {
    "duration": 140,
    "start_time": "2023-12-13T21:33:31.856Z"
   },
   {
    "duration": 38,
    "start_time": "2023-12-13T21:33:31.998Z"
   },
   {
    "duration": 91,
    "start_time": "2023-12-13T21:33:32.038Z"
   },
   {
    "duration": 8,
    "start_time": "2023-12-13T21:33:32.130Z"
   },
   {
    "duration": 1362,
    "start_time": "2023-12-13T21:33:32.139Z"
   },
   {
    "duration": 2,
    "start_time": "2023-12-13T21:33:33.502Z"
   },
   {
    "duration": 33,
    "start_time": "2023-12-13T21:33:33.506Z"
   },
   {
    "duration": 22,
    "start_time": "2023-12-13T21:33:33.541Z"
   },
   {
    "duration": 34,
    "start_time": "2023-12-13T21:33:33.566Z"
   },
   {
    "duration": 15,
    "start_time": "2023-12-13T21:33:33.602Z"
   },
   {
    "duration": 7,
    "start_time": "2023-12-13T21:33:33.618Z"
   },
   {
    "duration": 1335,
    "start_time": "2023-12-13T21:33:33.626Z"
   },
   {
    "duration": 15,
    "start_time": "2023-12-13T21:33:34.963Z"
   },
   {
    "duration": 616,
    "start_time": "2023-12-13T21:33:34.979Z"
   },
   {
    "duration": 20,
    "start_time": "2023-12-13T21:33:35.596Z"
   },
   {
    "duration": 265,
    "start_time": "2023-12-13T21:33:35.618Z"
   },
   {
    "duration": 6,
    "start_time": "2023-12-13T21:33:35.885Z"
   },
   {
    "duration": 413,
    "start_time": "2023-12-13T21:33:35.892Z"
   },
   {
    "duration": 147,
    "start_time": "2023-12-13T21:33:36.306Z"
   },
   {
    "duration": 5829,
    "start_time": "2023-12-13T21:48:46.395Z"
   },
   {
    "duration": 2171,
    "start_time": "2023-12-13T21:48:52.226Z"
   },
   {
    "duration": 3,
    "start_time": "2023-12-13T21:48:54.398Z"
   },
   {
    "duration": 4,
    "start_time": "2023-12-13T21:48:54.402Z"
   },
   {
    "duration": 84,
    "start_time": "2023-12-13T21:48:54.408Z"
   },
   {
    "duration": 13,
    "start_time": "2023-12-13T21:48:54.493Z"
   },
   {
    "duration": 22,
    "start_time": "2023-12-13T21:48:54.508Z"
   },
   {
    "duration": 6,
    "start_time": "2023-12-13T21:48:54.532Z"
   },
   {
    "duration": 11,
    "start_time": "2023-12-13T21:48:54.539Z"
   },
   {
    "duration": 4,
    "start_time": "2023-12-13T21:48:54.552Z"
   },
   {
    "duration": 10,
    "start_time": "2023-12-13T21:48:54.557Z"
   },
   {
    "duration": 5,
    "start_time": "2023-12-13T21:48:54.568Z"
   },
   {
    "duration": 14,
    "start_time": "2023-12-13T21:48:54.574Z"
   },
   {
    "duration": 4,
    "start_time": "2023-12-13T21:48:54.590Z"
   },
   {
    "duration": 13,
    "start_time": "2023-12-13T21:48:54.595Z"
   },
   {
    "duration": 5,
    "start_time": "2023-12-13T21:48:54.609Z"
   },
   {
    "duration": 4,
    "start_time": "2023-12-13T21:48:54.615Z"
   },
   {
    "duration": 28,
    "start_time": "2023-12-13T21:48:54.620Z"
   },
   {
    "duration": 6,
    "start_time": "2023-12-13T21:48:54.649Z"
   },
   {
    "duration": 17,
    "start_time": "2023-12-13T21:48:54.656Z"
   },
   {
    "duration": 53,
    "start_time": "2023-12-13T21:48:54.674Z"
   },
   {
    "duration": 99,
    "start_time": "2023-12-13T21:48:54.728Z"
   },
   {
    "duration": 250,
    "start_time": "2023-12-13T21:48:54.829Z"
   },
   {
    "duration": 232,
    "start_time": "2023-12-13T21:48:55.080Z"
   },
   {
    "duration": 1351,
    "start_time": "2023-12-13T21:48:55.313Z"
   },
   {
    "duration": 3,
    "start_time": "2023-12-13T21:48:56.666Z"
   },
   {
    "duration": 95,
    "start_time": "2023-12-13T21:48:56.671Z"
   },
   {
    "duration": 4,
    "start_time": "2023-12-13T21:48:56.767Z"
   },
   {
    "duration": 182,
    "start_time": "2023-12-13T21:48:56.773Z"
   },
   {
    "duration": 169,
    "start_time": "2023-12-13T21:48:56.957Z"
   },
   {
    "duration": 183,
    "start_time": "2023-12-13T21:48:57.127Z"
   },
   {
    "duration": 20,
    "start_time": "2023-12-13T21:48:57.311Z"
   },
   {
    "duration": 27,
    "start_time": "2023-12-13T21:48:57.332Z"
   },
   {
    "duration": 25,
    "start_time": "2023-12-13T21:48:57.360Z"
   },
   {
    "duration": 10,
    "start_time": "2023-12-13T21:48:57.387Z"
   },
   {
    "duration": 26,
    "start_time": "2023-12-13T21:48:57.399Z"
   },
   {
    "duration": 1354,
    "start_time": "2023-12-13T21:48:57.426Z"
   },
   {
    "duration": 8,
    "start_time": "2023-12-13T21:48:58.781Z"
   },
   {
    "duration": 3,
    "start_time": "2023-12-13T21:48:58.790Z"
   },
   {
    "duration": 7,
    "start_time": "2023-12-13T21:48:58.794Z"
   },
   {
    "duration": 3,
    "start_time": "2023-12-13T21:48:58.805Z"
   },
   {
    "duration": 9,
    "start_time": "2023-12-13T21:48:58.809Z"
   },
   {
    "duration": 1365,
    "start_time": "2023-12-13T21:48:58.819Z"
   },
   {
    "duration": 14,
    "start_time": "2023-12-13T21:49:00.186Z"
   },
   {
    "duration": 728,
    "start_time": "2023-12-13T21:49:00.202Z"
   },
   {
    "duration": 29,
    "start_time": "2023-12-13T21:49:00.931Z"
   },
   {
    "duration": 136,
    "start_time": "2023-12-13T21:49:00.961Z"
   },
   {
    "duration": 6,
    "start_time": "2023-12-13T21:49:01.099Z"
   },
   {
    "duration": 384,
    "start_time": "2023-12-13T21:49:01.106Z"
   },
   {
    "duration": 144,
    "start_time": "2023-12-13T21:49:01.492Z"
   },
   {
    "duration": 5736,
    "start_time": "2023-12-13T21:51:08.161Z"
   },
   {
    "duration": 2099,
    "start_time": "2023-12-13T21:51:13.899Z"
   },
   {
    "duration": 2,
    "start_time": "2023-12-13T21:51:16.000Z"
   },
   {
    "duration": 14,
    "start_time": "2023-12-13T21:51:16.003Z"
   },
   {
    "duration": 89,
    "start_time": "2023-12-13T21:51:16.019Z"
   },
   {
    "duration": 14,
    "start_time": "2023-12-13T21:51:16.109Z"
   },
   {
    "duration": 23,
    "start_time": "2023-12-13T21:51:16.124Z"
   },
   {
    "duration": 6,
    "start_time": "2023-12-13T21:51:16.149Z"
   },
   {
    "duration": 9,
    "start_time": "2023-12-13T21:51:16.156Z"
   },
   {
    "duration": 4,
    "start_time": "2023-12-13T21:51:16.167Z"
   },
   {
    "duration": 12,
    "start_time": "2023-12-13T21:51:16.173Z"
   },
   {
    "duration": 7,
    "start_time": "2023-12-13T21:51:16.186Z"
   },
   {
    "duration": 12,
    "start_time": "2023-12-13T21:51:16.194Z"
   },
   {
    "duration": 21,
    "start_time": "2023-12-13T21:51:16.207Z"
   },
   {
    "duration": 40,
    "start_time": "2023-12-13T21:51:16.229Z"
   },
   {
    "duration": 18,
    "start_time": "2023-12-13T21:51:16.270Z"
   },
   {
    "duration": 18,
    "start_time": "2023-12-13T21:51:16.289Z"
   },
   {
    "duration": 18,
    "start_time": "2023-12-13T21:51:16.308Z"
   },
   {
    "duration": 8,
    "start_time": "2023-12-13T21:51:16.327Z"
   },
   {
    "duration": 15,
    "start_time": "2023-12-13T21:51:16.337Z"
   },
   {
    "duration": 57,
    "start_time": "2023-12-13T21:51:16.354Z"
   },
   {
    "duration": 96,
    "start_time": "2023-12-13T21:51:16.412Z"
   },
   {
    "duration": 240,
    "start_time": "2023-12-13T21:51:16.510Z"
   },
   {
    "duration": 234,
    "start_time": "2023-12-13T21:51:16.751Z"
   },
   {
    "duration": 1371,
    "start_time": "2023-12-13T21:51:16.986Z"
   },
   {
    "duration": 5,
    "start_time": "2023-12-13T21:51:18.359Z"
   },
   {
    "duration": 106,
    "start_time": "2023-12-13T21:51:18.366Z"
   },
   {
    "duration": 3,
    "start_time": "2023-12-13T21:51:18.475Z"
   },
   {
    "duration": 170,
    "start_time": "2023-12-13T21:51:18.479Z"
   },
   {
    "duration": 158,
    "start_time": "2023-12-13T21:51:18.650Z"
   },
   {
    "duration": 171,
    "start_time": "2023-12-13T21:51:18.809Z"
   },
   {
    "duration": 18,
    "start_time": "2023-12-13T21:51:18.981Z"
   },
   {
    "duration": 18,
    "start_time": "2023-12-13T21:51:19.000Z"
   },
   {
    "duration": 31,
    "start_time": "2023-12-13T21:51:19.019Z"
   },
   {
    "duration": 11,
    "start_time": "2023-12-13T21:51:19.052Z"
   },
   {
    "duration": 5,
    "start_time": "2023-12-13T21:51:19.064Z"
   },
   {
    "duration": 1338,
    "start_time": "2023-12-13T21:51:19.070Z"
   },
   {
    "duration": 8,
    "start_time": "2023-12-13T21:51:20.409Z"
   },
   {
    "duration": 3,
    "start_time": "2023-12-13T21:51:20.418Z"
   },
   {
    "duration": 12,
    "start_time": "2023-12-13T21:51:20.422Z"
   },
   {
    "duration": 14,
    "start_time": "2023-12-13T21:51:20.435Z"
   },
   {
    "duration": 11,
    "start_time": "2023-12-13T21:51:20.450Z"
   },
   {
    "duration": 1313,
    "start_time": "2023-12-13T21:51:20.462Z"
   },
   {
    "duration": 12,
    "start_time": "2023-12-13T21:51:21.777Z"
   },
   {
    "duration": 606,
    "start_time": "2023-12-13T21:51:21.790Z"
   },
   {
    "duration": 20,
    "start_time": "2023-12-13T21:51:22.397Z"
   },
   {
    "duration": 288,
    "start_time": "2023-12-13T21:51:22.419Z"
   },
   {
    "duration": 6,
    "start_time": "2023-12-13T21:51:22.709Z"
   },
   {
    "duration": 343,
    "start_time": "2023-12-13T21:51:22.716Z"
   },
   {
    "duration": 143,
    "start_time": "2023-12-13T21:51:23.061Z"
   },
   {
    "duration": 92,
    "start_time": "2023-12-13T21:52:27.709Z"
   },
   {
    "duration": 5737,
    "start_time": "2023-12-13T21:52:33.496Z"
   },
   {
    "duration": 2174,
    "start_time": "2023-12-13T21:52:39.235Z"
   },
   {
    "duration": 2,
    "start_time": "2023-12-13T21:52:41.410Z"
   },
   {
    "duration": 22,
    "start_time": "2023-12-13T21:52:41.414Z"
   },
   {
    "duration": 87,
    "start_time": "2023-12-13T21:52:41.437Z"
   },
   {
    "duration": 14,
    "start_time": "2023-12-13T21:52:41.526Z"
   },
   {
    "duration": 30,
    "start_time": "2023-12-13T21:52:41.541Z"
   },
   {
    "duration": 6,
    "start_time": "2023-12-13T21:52:41.572Z"
   },
   {
    "duration": 18,
    "start_time": "2023-12-13T21:52:41.579Z"
   },
   {
    "duration": 12,
    "start_time": "2023-12-13T21:52:41.599Z"
   },
   {
    "duration": 16,
    "start_time": "2023-12-13T21:52:41.612Z"
   },
   {
    "duration": 5,
    "start_time": "2023-12-13T21:52:41.629Z"
   },
   {
    "duration": 13,
    "start_time": "2023-12-13T21:52:41.636Z"
   },
   {
    "duration": 6,
    "start_time": "2023-12-13T21:52:41.651Z"
   },
   {
    "duration": 10,
    "start_time": "2023-12-13T21:52:41.659Z"
   },
   {
    "duration": 26,
    "start_time": "2023-12-13T21:52:41.670Z"
   },
   {
    "duration": 18,
    "start_time": "2023-12-13T21:52:41.697Z"
   },
   {
    "duration": 23,
    "start_time": "2023-12-13T21:52:41.717Z"
   },
   {
    "duration": 33,
    "start_time": "2023-12-13T21:52:41.741Z"
   },
   {
    "duration": 22,
    "start_time": "2023-12-13T21:52:41.775Z"
   },
   {
    "duration": 51,
    "start_time": "2023-12-13T21:52:41.798Z"
   },
   {
    "duration": 99,
    "start_time": "2023-12-13T21:52:41.850Z"
   },
   {
    "duration": 239,
    "start_time": "2023-12-13T21:52:41.950Z"
   },
   {
    "duration": 236,
    "start_time": "2023-12-13T21:52:42.191Z"
   },
   {
    "duration": 1378,
    "start_time": "2023-12-13T21:52:42.429Z"
   },
   {
    "duration": 4,
    "start_time": "2023-12-13T21:52:43.808Z"
   },
   {
    "duration": 93,
    "start_time": "2023-12-13T21:52:43.813Z"
   },
   {
    "duration": 4,
    "start_time": "2023-12-13T21:52:43.909Z"
   },
   {
    "duration": 178,
    "start_time": "2023-12-13T21:52:43.914Z"
   },
   {
    "duration": 159,
    "start_time": "2023-12-13T21:52:44.093Z"
   },
   {
    "duration": 176,
    "start_time": "2023-12-13T21:52:44.253Z"
   },
   {
    "duration": 28,
    "start_time": "2023-12-13T21:52:44.431Z"
   },
   {
    "duration": 14,
    "start_time": "2023-12-13T21:52:44.461Z"
   },
   {
    "duration": 24,
    "start_time": "2023-12-13T21:52:44.476Z"
   },
   {
    "duration": 11,
    "start_time": "2023-12-13T21:52:44.502Z"
   },
   {
    "duration": 33,
    "start_time": "2023-12-13T21:52:44.515Z"
   },
   {
    "duration": 1361,
    "start_time": "2023-12-13T21:52:44.549Z"
   },
   {
    "duration": 7,
    "start_time": "2023-12-13T21:52:45.912Z"
   },
   {
    "duration": 36,
    "start_time": "2023-12-13T21:52:45.920Z"
   },
   {
    "duration": 14,
    "start_time": "2023-12-13T21:52:45.957Z"
   },
   {
    "duration": 8,
    "start_time": "2023-12-13T21:52:45.973Z"
   },
   {
    "duration": 24,
    "start_time": "2023-12-13T21:52:45.982Z"
   },
   {
    "duration": 1372,
    "start_time": "2023-12-13T21:52:46.007Z"
   },
   {
    "duration": 13,
    "start_time": "2023-12-13T21:52:47.381Z"
   },
   {
    "duration": 598,
    "start_time": "2023-12-13T21:52:47.396Z"
   },
   {
    "duration": 20,
    "start_time": "2023-12-13T21:52:47.995Z"
   },
   {
    "duration": 267,
    "start_time": "2023-12-13T21:52:48.016Z"
   },
   {
    "duration": 7,
    "start_time": "2023-12-13T21:52:48.285Z"
   },
   {
    "duration": 301,
    "start_time": "2023-12-13T21:52:48.293Z"
   },
   {
    "duration": 152,
    "start_time": "2023-12-13T21:52:48.596Z"
   }
  ],
  "colab": {
   "provenance": []
  },
  "kernelspec": {
   "display_name": "Python 3 (ipykernel)",
   "language": "python",
   "name": "python3"
  },
  "language_info": {
   "codemirror_mode": {
    "name": "ipython",
    "version": 3
   },
   "file_extension": ".py",
   "mimetype": "text/x-python",
   "name": "python",
   "nbconvert_exporter": "python",
   "pygments_lexer": "ipython3",
   "version": "3.10.9"
  },
  "toc": {
   "base_numbering": 1,
   "nav_menu": {
    "height": "154px",
    "width": "192px"
   },
   "number_sections": true,
   "sideBar": true,
   "skip_h1_title": true,
   "title_cell": "Table of Contents",
   "title_sidebar": "Contents",
   "toc_cell": false,
   "toc_position": {
    "height": "calc(100% - 180px)",
    "left": "10px",
    "top": "150px",
    "width": "275px"
   },
   "toc_section_display": true,
   "toc_window_display": true
  }
 },
 "nbformat": 4,
 "nbformat_minor": 1
}
