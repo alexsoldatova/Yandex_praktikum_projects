{
 "cells": [
  {
   "cell_type": "markdown",
   "metadata": {},
   "source": [
    "# Выбор локации для скважины"
   ]
  },
  {
   "cell_type": "markdown",
   "metadata": {},
   "source": [
    "\n",
    "\n",
    "Предоставлены пробы нефти в трёх регионах: в каждом 10 000 месторождений, где измерили качество нефти и объём её запасов. Постройте модель машинного обучения, которая поможет определить регион, где добыча принесёт наибольшую прибыль. Проанализируйте возможную прибыль и риски техникой *Bootstrap.*\n",
    "\n",
    "Шаги для выбора локации:\n",
    "\n",
    "- В избранном регионе ищут месторождения, для каждого определяют значения признаков;\n",
    "- Строят модель и оценивают объём запасов;\n",
    "- Выбирают месторождения с самым высокими оценками значений. Количество месторождений зависит от бюджета компании и стоимости разработки одной скважины;\n",
    "- Прибыль равна суммарной прибыли отобранных месторождений."
   ]
  },
  {
   "cell_type": "markdown",
   "metadata": {},
   "source": [
    "## Загрузка и подготовка данных"
   ]
  },
  {
   "cell_type": "code",
   "execution_count": 1,
   "metadata": {},
   "outputs": [],
   "source": [
    "import pandas as pd\n",
    "import numpy as np\n",
    "from scipy import stats as st\n",
    "from sklearn.model_selection import train_test_split\n",
    "from sklearn.linear_model import LinearRegression\n",
    "from sklearn.preprocessing import StandardScaler\n",
    "from sklearn.metrics import mean_squared_error\n",
    "from sklearn.metrics import r2_score\n",
    "import matplotlib.pyplot as plt"
   ]
  },
  {
   "cell_type": "markdown",
   "metadata": {},
   "source": [
    "### Подготовка данных по первому региону"
   ]
  },
  {
   "cell_type": "code",
   "execution_count": 2,
   "metadata": {},
   "outputs": [
    {
     "data": {
      "text/html": [
       "<div>\n",
       "<style scoped>\n",
       "    .dataframe tbody tr th:only-of-type {\n",
       "        vertical-align: middle;\n",
       "    }\n",
       "\n",
       "    .dataframe tbody tr th {\n",
       "        vertical-align: top;\n",
       "    }\n",
       "\n",
       "    .dataframe thead th {\n",
       "        text-align: right;\n",
       "    }\n",
       "</style>\n",
       "<table border=\"1\" class=\"dataframe\">\n",
       "  <thead>\n",
       "    <tr style=\"text-align: right;\">\n",
       "      <th></th>\n",
       "      <th>id</th>\n",
       "      <th>f0</th>\n",
       "      <th>f1</th>\n",
       "      <th>f2</th>\n",
       "      <th>product</th>\n",
       "    </tr>\n",
       "  </thead>\n",
       "  <tbody>\n",
       "    <tr>\n",
       "      <th>0</th>\n",
       "      <td>txEyH</td>\n",
       "      <td>0.705745</td>\n",
       "      <td>-0.497823</td>\n",
       "      <td>1.221170</td>\n",
       "      <td>105.280062</td>\n",
       "    </tr>\n",
       "    <tr>\n",
       "      <th>1</th>\n",
       "      <td>2acmU</td>\n",
       "      <td>1.334711</td>\n",
       "      <td>-0.340164</td>\n",
       "      <td>4.365080</td>\n",
       "      <td>73.037750</td>\n",
       "    </tr>\n",
       "    <tr>\n",
       "      <th>2</th>\n",
       "      <td>409Wp</td>\n",
       "      <td>1.022732</td>\n",
       "      <td>0.151990</td>\n",
       "      <td>1.419926</td>\n",
       "      <td>85.265647</td>\n",
       "    </tr>\n",
       "    <tr>\n",
       "      <th>3</th>\n",
       "      <td>iJLyR</td>\n",
       "      <td>-0.032172</td>\n",
       "      <td>0.139033</td>\n",
       "      <td>2.978566</td>\n",
       "      <td>168.620776</td>\n",
       "    </tr>\n",
       "    <tr>\n",
       "      <th>4</th>\n",
       "      <td>Xdl7t</td>\n",
       "      <td>1.988431</td>\n",
       "      <td>0.155413</td>\n",
       "      <td>4.751769</td>\n",
       "      <td>154.036647</td>\n",
       "    </tr>\n",
       "  </tbody>\n",
       "</table>\n",
       "</div>"
      ],
      "text/plain": [
       "      id        f0        f1        f2     product\n",
       "0  txEyH  0.705745 -0.497823  1.221170  105.280062\n",
       "1  2acmU  1.334711 -0.340164  4.365080   73.037750\n",
       "2  409Wp  1.022732  0.151990  1.419926   85.265647\n",
       "3  iJLyR -0.032172  0.139033  2.978566  168.620776\n",
       "4  Xdl7t  1.988431  0.155413  4.751769  154.036647"
      ]
     },
     "execution_count": 2,
     "metadata": {},
     "output_type": "execute_result"
    }
   ],
   "source": [
    "df_0 = pd.read_csv('/datasets/geo_data_0.csv')\n",
    "df_0.head()"
   ]
  },
  {
   "cell_type": "code",
   "execution_count": 3,
   "metadata": {},
   "outputs": [
    {
     "name": "stdout",
     "output_type": "stream",
     "text": [
      "<class 'pandas.core.frame.DataFrame'>\n",
      "RangeIndex: 100000 entries, 0 to 99999\n",
      "Data columns (total 5 columns):\n",
      " #   Column   Non-Null Count   Dtype  \n",
      "---  ------   --------------   -----  \n",
      " 0   id       100000 non-null  object \n",
      " 1   f0       100000 non-null  float64\n",
      " 2   f1       100000 non-null  float64\n",
      " 3   f2       100000 non-null  float64\n",
      " 4   product  100000 non-null  float64\n",
      "dtypes: float64(4), object(1)\n",
      "memory usage: 3.8+ MB\n"
     ]
    }
   ],
   "source": [
    "df_0.info()"
   ]
  },
  {
   "cell_type": "code",
   "execution_count": 4,
   "metadata": {},
   "outputs": [
    {
     "data": {
      "text/plain": [
       "id         0\n",
       "f0         0\n",
       "f1         0\n",
       "f2         0\n",
       "product    0\n",
       "dtype: int64"
      ]
     },
     "execution_count": 4,
     "metadata": {},
     "output_type": "execute_result"
    }
   ],
   "source": [
    "df_0.isna().sum()"
   ]
  },
  {
   "cell_type": "markdown",
   "metadata": {},
   "source": [
    "В данных по первому региону отсутсвуют пропуски, типы данных определены верно"
   ]
  },
  {
   "cell_type": "code",
   "execution_count": 5,
   "metadata": {},
   "outputs": [
    {
     "data": {
      "text/plain": [
       "0"
      ]
     },
     "execution_count": 5,
     "metadata": {},
     "output_type": "execute_result"
    }
   ],
   "source": [
    "df_0.duplicated().sum()"
   ]
  },
  {
   "cell_type": "markdown",
   "metadata": {},
   "source": [
    "В данных отсутсвуют явные дубликаты, но необходимо проверить чтобы номера скважин в столбце id были также уникальными."
   ]
  },
  {
   "cell_type": "code",
   "execution_count": 6,
   "metadata": {},
   "outputs": [
    {
     "data": {
      "text/plain": [
       "10"
      ]
     },
     "execution_count": 6,
     "metadata": {},
     "output_type": "execute_result"
    }
   ],
   "source": [
    "df_0.duplicated('id').sum()"
   ]
  },
  {
   "cell_type": "code",
   "execution_count": 7,
   "metadata": {},
   "outputs": [],
   "source": [
    "df_0 = df_0.drop_duplicates(subset=['id'], keep='first')"
   ]
  },
  {
   "cell_type": "code",
   "execution_count": 8,
   "metadata": {
    "scrolled": true
   },
   "outputs": [
    {
     "data": {
      "text/html": [
       "<div>\n",
       "<style scoped>\n",
       "    .dataframe tbody tr th:only-of-type {\n",
       "        vertical-align: middle;\n",
       "    }\n",
       "\n",
       "    .dataframe tbody tr th {\n",
       "        vertical-align: top;\n",
       "    }\n",
       "\n",
       "    .dataframe thead th {\n",
       "        text-align: right;\n",
       "    }\n",
       "</style>\n",
       "<table border=\"1\" class=\"dataframe\">\n",
       "  <thead>\n",
       "    <tr style=\"text-align: right;\">\n",
       "      <th></th>\n",
       "      <th>f0</th>\n",
       "      <th>f1</th>\n",
       "      <th>f2</th>\n",
       "      <th>product</th>\n",
       "    </tr>\n",
       "  </thead>\n",
       "  <tbody>\n",
       "    <tr>\n",
       "      <th>count</th>\n",
       "      <td>99990.000000</td>\n",
       "      <td>99990.000000</td>\n",
       "      <td>99990.000000</td>\n",
       "      <td>99990.000000</td>\n",
       "    </tr>\n",
       "    <tr>\n",
       "      <th>mean</th>\n",
       "      <td>0.500454</td>\n",
       "      <td>0.250141</td>\n",
       "      <td>2.502629</td>\n",
       "      <td>92.499684</td>\n",
       "    </tr>\n",
       "    <tr>\n",
       "      <th>std</th>\n",
       "      <td>0.871844</td>\n",
       "      <td>0.504430</td>\n",
       "      <td>3.248149</td>\n",
       "      <td>44.288304</td>\n",
       "    </tr>\n",
       "    <tr>\n",
       "      <th>min</th>\n",
       "      <td>-1.408605</td>\n",
       "      <td>-0.848218</td>\n",
       "      <td>-12.088328</td>\n",
       "      <td>0.000000</td>\n",
       "    </tr>\n",
       "    <tr>\n",
       "      <th>25%</th>\n",
       "      <td>-0.072572</td>\n",
       "      <td>-0.200877</td>\n",
       "      <td>0.287784</td>\n",
       "      <td>56.497069</td>\n",
       "    </tr>\n",
       "    <tr>\n",
       "      <th>50%</th>\n",
       "      <td>0.502405</td>\n",
       "      <td>0.250252</td>\n",
       "      <td>2.515969</td>\n",
       "      <td>91.847928</td>\n",
       "    </tr>\n",
       "    <tr>\n",
       "      <th>75%</th>\n",
       "      <td>1.073626</td>\n",
       "      <td>0.700640</td>\n",
       "      <td>4.715035</td>\n",
       "      <td>128.563699</td>\n",
       "    </tr>\n",
       "    <tr>\n",
       "      <th>max</th>\n",
       "      <td>2.362331</td>\n",
       "      <td>1.343769</td>\n",
       "      <td>16.003790</td>\n",
       "      <td>185.364347</td>\n",
       "    </tr>\n",
       "  </tbody>\n",
       "</table>\n",
       "</div>"
      ],
      "text/plain": [
       "                 f0            f1            f2       product\n",
       "count  99990.000000  99990.000000  99990.000000  99990.000000\n",
       "mean       0.500454      0.250141      2.502629     92.499684\n",
       "std        0.871844      0.504430      3.248149     44.288304\n",
       "min       -1.408605     -0.848218    -12.088328      0.000000\n",
       "25%       -0.072572     -0.200877      0.287784     56.497069\n",
       "50%        0.502405      0.250252      2.515969     91.847928\n",
       "75%        1.073626      0.700640      4.715035    128.563699\n",
       "max        2.362331      1.343769     16.003790    185.364347"
      ]
     },
     "execution_count": 8,
     "metadata": {},
     "output_type": "execute_result"
    }
   ],
   "source": [
    "df_0.describe()"
   ]
  },
  {
   "cell_type": "code",
   "execution_count": 9,
   "metadata": {},
   "outputs": [
    {
     "data": {
      "text/plain": [
       "Text(0, 0.5, 'Количество')"
      ]
     },
     "execution_count": 9,
     "metadata": {},
     "output_type": "execute_result"
    },
    {
     "data": {
      "image/png": "[encoded data removed]",
      "text/plain": [
       "<Figure size 432x288 with 1 Axes>"
      ]
     },
     "metadata": {
      "needs_background": "light"
     },
     "output_type": "display_data"
    }
   ],
   "source": [
    "plt.hist(df_0['product'], bins=10, edgecolor = 'black')\n",
    "plt.title('Объем запасов в скважине в первом регионе')\n",
    "plt.xlabel('Объем запасов')\n",
    "plt.ylabel('Количество');"
   ]
  },
  {
   "cell_type": "markdown",
   "metadata": {},
   "source": [
    "Для первого региона характерно нормальное распределение объема запасов по скважинам"
   ]
  },
  {
   "cell_type": "code",
   "execution_count": 10,
   "metadata": {},
   "outputs": [],
   "source": [
    "df_0 = df_0.set_index('id')"
   ]
  },
  {
   "cell_type": "code",
   "execution_count": 11,
   "metadata": {},
   "outputs": [],
   "source": [
    "def split(df):\n",
    "    target = df['product']\n",
    "    features = df.drop('product', axis=1)\n",
    "    features_train, features_valid, target_train, target_valid = train_test_split(\n",
    "    features, target, test_size=0.25, random_state=12345)\n",
    "    print('Размер тренировочной выборки:', features_train.shape)\n",
    "    print('Размер тестовой выборки:',features_valid.shape)\n",
    "    return features_train, features_valid, target_train, target_valid"
   ]
  },
  {
   "cell_type": "code",
   "execution_count": 13,
   "metadata": {},
   "outputs": [
    {
     "name": "stdout",
     "output_type": "stream",
     "text": [
      "Размер тренировочной выборки: (74992, 3)\n",
      "Размер тестовой выборки: (24998, 3)\n"
     ]
    }
   ],
   "source": [
    "features0_train, features0_valid, target0_train, target0_valid = split(df_0)"
   ]
  },
  {
   "cell_type": "markdown",
   "metadata": {},
   "source": [
    "### Подготовка данных по второму региону"
   ]
  },
  {
   "cell_type": "code",
   "execution_count": 14,
   "metadata": {},
   "outputs": [
    {
     "data": {
      "text/html": [
       "<div>\n",
       "<style scoped>\n",
       "    .dataframe tbody tr th:only-of-type {\n",
       "        vertical-align: middle;\n",
       "    }\n",
       "\n",
       "    .dataframe tbody tr th {\n",
       "        vertical-align: top;\n",
       "    }\n",
       "\n",
       "    .dataframe thead th {\n",
       "        text-align: right;\n",
       "    }\n",
       "</style>\n",
       "<table border=\"1\" class=\"dataframe\">\n",
       "  <thead>\n",
       "    <tr style=\"text-align: right;\">\n",
       "      <th></th>\n",
       "      <th>id</th>\n",
       "      <th>f0</th>\n",
       "      <th>f1</th>\n",
       "      <th>f2</th>\n",
       "      <th>product</th>\n",
       "    </tr>\n",
       "  </thead>\n",
       "  <tbody>\n",
       "    <tr>\n",
       "      <th>0</th>\n",
       "      <td>kBEdx</td>\n",
       "      <td>-15.001348</td>\n",
       "      <td>-8.276000</td>\n",
       "      <td>-0.005876</td>\n",
       "      <td>3.179103</td>\n",
       "    </tr>\n",
       "    <tr>\n",
       "      <th>1</th>\n",
       "      <td>62mP7</td>\n",
       "      <td>14.272088</td>\n",
       "      <td>-3.475083</td>\n",
       "      <td>0.999183</td>\n",
       "      <td>26.953261</td>\n",
       "    </tr>\n",
       "    <tr>\n",
       "      <th>2</th>\n",
       "      <td>vyE1P</td>\n",
       "      <td>6.263187</td>\n",
       "      <td>-5.948386</td>\n",
       "      <td>5.001160</td>\n",
       "      <td>134.766305</td>\n",
       "    </tr>\n",
       "    <tr>\n",
       "      <th>3</th>\n",
       "      <td>KcrkZ</td>\n",
       "      <td>-13.081196</td>\n",
       "      <td>-11.506057</td>\n",
       "      <td>4.999415</td>\n",
       "      <td>137.945408</td>\n",
       "    </tr>\n",
       "    <tr>\n",
       "      <th>4</th>\n",
       "      <td>AHL4O</td>\n",
       "      <td>12.702195</td>\n",
       "      <td>-8.147433</td>\n",
       "      <td>5.004363</td>\n",
       "      <td>134.766305</td>\n",
       "    </tr>\n",
       "  </tbody>\n",
       "</table>\n",
       "</div>"
      ],
      "text/plain": [
       "      id         f0         f1        f2     product\n",
       "0  kBEdx -15.001348  -8.276000 -0.005876    3.179103\n",
       "1  62mP7  14.272088  -3.475083  0.999183   26.953261\n",
       "2  vyE1P   6.263187  -5.948386  5.001160  134.766305\n",
       "3  KcrkZ -13.081196 -11.506057  4.999415  137.945408\n",
       "4  AHL4O  12.702195  -8.147433  5.004363  134.766305"
      ]
     },
     "execution_count": 14,
     "metadata": {},
     "output_type": "execute_result"
    }
   ],
   "source": [
    "df_1 = pd.read_csv('/datasets/geo_data_1.csv')\n",
    "df_1.head()"
   ]
  },
  {
   "cell_type": "code",
   "execution_count": 15,
   "metadata": {},
   "outputs": [
    {
     "name": "stdout",
     "output_type": "stream",
     "text": [
      "<class 'pandas.core.frame.DataFrame'>\n",
      "RangeIndex: 100000 entries, 0 to 99999\n",
      "Data columns (total 5 columns):\n",
      " #   Column   Non-Null Count   Dtype  \n",
      "---  ------   --------------   -----  \n",
      " 0   id       100000 non-null  object \n",
      " 1   f0       100000 non-null  float64\n",
      " 2   f1       100000 non-null  float64\n",
      " 3   f2       100000 non-null  float64\n",
      " 4   product  100000 non-null  float64\n",
      "dtypes: float64(4), object(1)\n",
      "memory usage: 3.8+ MB\n"
     ]
    }
   ],
   "source": [
    "df_1.info()"
   ]
  },
  {
   "cell_type": "code",
   "execution_count": 16,
   "metadata": {},
   "outputs": [
    {
     "data": {
      "text/plain": [
       "id         0\n",
       "f0         0\n",
       "f1         0\n",
       "f2         0\n",
       "product    0\n",
       "dtype: int64"
      ]
     },
     "execution_count": 16,
     "metadata": {},
     "output_type": "execute_result"
    }
   ],
   "source": [
    "df_1.isna().sum()"
   ]
  },
  {
   "cell_type": "markdown",
   "metadata": {},
   "source": [
    "В данных по второму региону отсутсвуют пропуски, типы данных определены верно"
   ]
  },
  {
   "cell_type": "code",
   "execution_count": 17,
   "metadata": {},
   "outputs": [
    {
     "data": {
      "text/plain": [
       "0"
      ]
     },
     "execution_count": 17,
     "metadata": {},
     "output_type": "execute_result"
    }
   ],
   "source": [
    "df_1.duplicated().sum()"
   ]
  },
  {
   "cell_type": "markdown",
   "metadata": {},
   "source": [
    "В данных отсутствуют явные дубликаты"
   ]
  },
  {
   "cell_type": "code",
   "execution_count": 18,
   "metadata": {},
   "outputs": [
    {
     "data": {
      "text/plain": [
       "4"
      ]
     },
     "execution_count": 18,
     "metadata": {},
     "output_type": "execute_result"
    }
   ],
   "source": [
    "df_1.duplicated('id').sum()"
   ]
  },
  {
   "cell_type": "code",
   "execution_count": 19,
   "metadata": {},
   "outputs": [],
   "source": [
    "df_1 = df_1.drop_duplicates(subset=['id'], keep='first')"
   ]
  },
  {
   "cell_type": "code",
   "execution_count": 20,
   "metadata": {
    "scrolled": true
   },
   "outputs": [
    {
     "data": {
      "text/html": [
       "<div>\n",
       "<style scoped>\n",
       "    .dataframe tbody tr th:only-of-type {\n",
       "        vertical-align: middle;\n",
       "    }\n",
       "\n",
       "    .dataframe tbody tr th {\n",
       "        vertical-align: top;\n",
       "    }\n",
       "\n",
       "    .dataframe thead th {\n",
       "        text-align: right;\n",
       "    }\n",
       "</style>\n",
       "<table border=\"1\" class=\"dataframe\">\n",
       "  <thead>\n",
       "    <tr style=\"text-align: right;\">\n",
       "      <th></th>\n",
       "      <th>f0</th>\n",
       "      <th>f1</th>\n",
       "      <th>f2</th>\n",
       "      <th>product</th>\n",
       "    </tr>\n",
       "  </thead>\n",
       "  <tbody>\n",
       "    <tr>\n",
       "      <th>count</th>\n",
       "      <td>99996.000000</td>\n",
       "      <td>99996.000000</td>\n",
       "      <td>99996.000000</td>\n",
       "      <td>99996.000000</td>\n",
       "    </tr>\n",
       "    <tr>\n",
       "      <th>mean</th>\n",
       "      <td>1.141209</td>\n",
       "      <td>-4.796608</td>\n",
       "      <td>2.494501</td>\n",
       "      <td>68.823916</td>\n",
       "    </tr>\n",
       "    <tr>\n",
       "      <th>std</th>\n",
       "      <td>8.965815</td>\n",
       "      <td>5.119906</td>\n",
       "      <td>1.703579</td>\n",
       "      <td>45.944663</td>\n",
       "    </tr>\n",
       "    <tr>\n",
       "      <th>min</th>\n",
       "      <td>-31.609576</td>\n",
       "      <td>-26.358598</td>\n",
       "      <td>-0.018144</td>\n",
       "      <td>0.000000</td>\n",
       "    </tr>\n",
       "    <tr>\n",
       "      <th>25%</th>\n",
       "      <td>-6.298551</td>\n",
       "      <td>-8.267985</td>\n",
       "      <td>1.000021</td>\n",
       "      <td>26.953261</td>\n",
       "    </tr>\n",
       "    <tr>\n",
       "      <th>50%</th>\n",
       "      <td>1.153055</td>\n",
       "      <td>-4.813172</td>\n",
       "      <td>2.011475</td>\n",
       "      <td>57.085625</td>\n",
       "    </tr>\n",
       "    <tr>\n",
       "      <th>75%</th>\n",
       "      <td>8.620964</td>\n",
       "      <td>-1.332816</td>\n",
       "      <td>3.999904</td>\n",
       "      <td>107.813044</td>\n",
       "    </tr>\n",
       "    <tr>\n",
       "      <th>max</th>\n",
       "      <td>29.421755</td>\n",
       "      <td>18.734063</td>\n",
       "      <td>5.019721</td>\n",
       "      <td>137.945408</td>\n",
       "    </tr>\n",
       "  </tbody>\n",
       "</table>\n",
       "</div>"
      ],
      "text/plain": [
       "                 f0            f1            f2       product\n",
       "count  99996.000000  99996.000000  99996.000000  99996.000000\n",
       "mean       1.141209     -4.796608      2.494501     68.823916\n",
       "std        8.965815      5.119906      1.703579     45.944663\n",
       "min      -31.609576    -26.358598     -0.018144      0.000000\n",
       "25%       -6.298551     -8.267985      1.000021     26.953261\n",
       "50%        1.153055     -4.813172      2.011475     57.085625\n",
       "75%        8.620964     -1.332816      3.999904    107.813044\n",
       "max       29.421755     18.734063      5.019721    137.945408"
      ]
     },
     "execution_count": 20,
     "metadata": {},
     "output_type": "execute_result"
    }
   ],
   "source": [
    "df_1.describe()"
   ]
  },
  {
   "cell_type": "code",
   "execution_count": 21,
   "metadata": {},
   "outputs": [
    {
     "data": {
      "text/plain": [
       "Text(0, 0.5, 'Количество')"
      ]
     },
     "execution_count": 21,
     "metadata": {},
     "output_type": "execute_result"
    },
    {
     "data": {
      "image/png": "[encoded data removed]",
      "text/plain": [
       "<Figure size 432x288 with 1 Axes>"
      ]
     },
     "metadata": {
      "needs_background": "light"
     },
     "output_type": "display_data"
    }
   ],
   "source": [
    "plt.hist(df_1['product'], bins=10, edgecolor = 'black')\n",
    "plt.title('Объем запасов в скважине во втором регионе')\n",
    "plt.xlabel('Объем запасов')\n",
    "plt.ylabel('Количество');"
   ]
  },
  {
   "cell_type": "markdown",
   "metadata": {},
   "source": [
    "Во втором регионе наблюдается достаточно интересное распределение значений объема запасов по скважинам:\n",
    "- Запасы распределены достаточно равномерно\n",
    "- Пики на графиках характерны для скважин с минимальным и максимальным значениями объема запасов."
   ]
  },
  {
   "cell_type": "code",
   "execution_count": 22,
   "metadata": {},
   "outputs": [],
   "source": [
    "df_1 = df_1.set_index('id')"
   ]
  },
  {
   "cell_type": "code",
   "execution_count": 24,
   "metadata": {},
   "outputs": [
    {
     "name": "stdout",
     "output_type": "stream",
     "text": [
      "Размер тренировочной выборки: (74997, 3)\n",
      "Размер тестовой выборки: (24999, 3)\n"
     ]
    }
   ],
   "source": [
    "features1_train, features1_valid, target1_train, target1_valid = split(df_1)"
   ]
  },
  {
   "cell_type": "markdown",
   "metadata": {},
   "source": [
    "### Подготовка данных по третьему региону"
   ]
  },
  {
   "cell_type": "code",
   "execution_count": 25,
   "metadata": {
    "scrolled": true
   },
   "outputs": [
    {
     "data": {
      "text/html": [
       "<div>\n",
       "<style scoped>\n",
       "    .dataframe tbody tr th:only-of-type {\n",
       "        vertical-align: middle;\n",
       "    }\n",
       "\n",
       "    .dataframe tbody tr th {\n",
       "        vertical-align: top;\n",
       "    }\n",
       "\n",
       "    .dataframe thead th {\n",
       "        text-align: right;\n",
       "    }\n",
       "</style>\n",
       "<table border=\"1\" class=\"dataframe\">\n",
       "  <thead>\n",
       "    <tr style=\"text-align: right;\">\n",
       "      <th></th>\n",
       "      <th>id</th>\n",
       "      <th>f0</th>\n",
       "      <th>f1</th>\n",
       "      <th>f2</th>\n",
       "      <th>product</th>\n",
       "    </tr>\n",
       "  </thead>\n",
       "  <tbody>\n",
       "    <tr>\n",
       "      <th>0</th>\n",
       "      <td>fwXo0</td>\n",
       "      <td>-1.146987</td>\n",
       "      <td>0.963328</td>\n",
       "      <td>-0.828965</td>\n",
       "      <td>27.758673</td>\n",
       "    </tr>\n",
       "    <tr>\n",
       "      <th>1</th>\n",
       "      <td>WJtFt</td>\n",
       "      <td>0.262778</td>\n",
       "      <td>0.269839</td>\n",
       "      <td>-2.530187</td>\n",
       "      <td>56.069697</td>\n",
       "    </tr>\n",
       "    <tr>\n",
       "      <th>2</th>\n",
       "      <td>ovLUW</td>\n",
       "      <td>0.194587</td>\n",
       "      <td>0.289035</td>\n",
       "      <td>-5.586433</td>\n",
       "      <td>62.871910</td>\n",
       "    </tr>\n",
       "    <tr>\n",
       "      <th>3</th>\n",
       "      <td>q6cA6</td>\n",
       "      <td>2.236060</td>\n",
       "      <td>-0.553760</td>\n",
       "      <td>0.930038</td>\n",
       "      <td>114.572842</td>\n",
       "    </tr>\n",
       "    <tr>\n",
       "      <th>4</th>\n",
       "      <td>WPMUX</td>\n",
       "      <td>-0.515993</td>\n",
       "      <td>1.716266</td>\n",
       "      <td>5.899011</td>\n",
       "      <td>149.600746</td>\n",
       "    </tr>\n",
       "  </tbody>\n",
       "</table>\n",
       "</div>"
      ],
      "text/plain": [
       "      id        f0        f1        f2     product\n",
       "0  fwXo0 -1.146987  0.963328 -0.828965   27.758673\n",
       "1  WJtFt  0.262778  0.269839 -2.530187   56.069697\n",
       "2  ovLUW  0.194587  0.289035 -5.586433   62.871910\n",
       "3  q6cA6  2.236060 -0.553760  0.930038  114.572842\n",
       "4  WPMUX -0.515993  1.716266  5.899011  149.600746"
      ]
     },
     "execution_count": 25,
     "metadata": {},
     "output_type": "execute_result"
    }
   ],
   "source": [
    "df_2 = pd.read_csv('/datasets/geo_data_2.csv')\n",
    "df_2.head()"
   ]
  },
  {
   "cell_type": "code",
   "execution_count": 26,
   "metadata": {},
   "outputs": [
    {
     "name": "stdout",
     "output_type": "stream",
     "text": [
      "<class 'pandas.core.frame.DataFrame'>\n",
      "RangeIndex: 100000 entries, 0 to 99999\n",
      "Data columns (total 5 columns):\n",
      " #   Column   Non-Null Count   Dtype  \n",
      "---  ------   --------------   -----  \n",
      " 0   id       100000 non-null  object \n",
      " 1   f0       100000 non-null  float64\n",
      " 2   f1       100000 non-null  float64\n",
      " 3   f2       100000 non-null  float64\n",
      " 4   product  100000 non-null  float64\n",
      "dtypes: float64(4), object(1)\n",
      "memory usage: 3.8+ MB\n"
     ]
    }
   ],
   "source": [
    "df_2.info()"
   ]
  },
  {
   "cell_type": "code",
   "execution_count": 27,
   "metadata": {},
   "outputs": [
    {
     "data": {
      "text/plain": [
       "id         0\n",
       "f0         0\n",
       "f1         0\n",
       "f2         0\n",
       "product    0\n",
       "dtype: int64"
      ]
     },
     "execution_count": 27,
     "metadata": {},
     "output_type": "execute_result"
    }
   ],
   "source": [
    "df_2.isna().sum()"
   ]
  },
  {
   "cell_type": "markdown",
   "metadata": {},
   "source": [
    "В данных по третьему региону отсутсвуют пропуски, типы данных определены верно"
   ]
  },
  {
   "cell_type": "code",
   "execution_count": 28,
   "metadata": {},
   "outputs": [
    {
     "data": {
      "text/plain": [
       "0"
      ]
     },
     "execution_count": 28,
     "metadata": {},
     "output_type": "execute_result"
    }
   ],
   "source": [
    "df_2.duplicated().sum()"
   ]
  },
  {
   "cell_type": "markdown",
   "metadata": {},
   "source": [
    "В данных отсутсвуют явные дубликаты"
   ]
  },
  {
   "cell_type": "code",
   "execution_count": 29,
   "metadata": {},
   "outputs": [
    {
     "data": {
      "text/plain": [
       "4"
      ]
     },
     "execution_count": 29,
     "metadata": {},
     "output_type": "execute_result"
    }
   ],
   "source": [
    "df_2.duplicated('id').sum()"
   ]
  },
  {
   "cell_type": "code",
   "execution_count": 30,
   "metadata": {},
   "outputs": [],
   "source": [
    "df_2 = df_2.drop_duplicates(subset=['id'], keep='first')"
   ]
  },
  {
   "cell_type": "code",
   "execution_count": 31,
   "metadata": {},
   "outputs": [
    {
     "data": {
      "text/html": [
       "<div>\n",
       "<style scoped>\n",
       "    .dataframe tbody tr th:only-of-type {\n",
       "        vertical-align: middle;\n",
       "    }\n",
       "\n",
       "    .dataframe tbody tr th {\n",
       "        vertical-align: top;\n",
       "    }\n",
       "\n",
       "    .dataframe thead th {\n",
       "        text-align: right;\n",
       "    }\n",
       "</style>\n",
       "<table border=\"1\" class=\"dataframe\">\n",
       "  <thead>\n",
       "    <tr style=\"text-align: right;\">\n",
       "      <th></th>\n",
       "      <th>f0</th>\n",
       "      <th>f1</th>\n",
       "      <th>f2</th>\n",
       "      <th>product</th>\n",
       "    </tr>\n",
       "  </thead>\n",
       "  <tbody>\n",
       "    <tr>\n",
       "      <th>count</th>\n",
       "      <td>99996.000000</td>\n",
       "      <td>99996.000000</td>\n",
       "      <td>99996.000000</td>\n",
       "      <td>99996.000000</td>\n",
       "    </tr>\n",
       "    <tr>\n",
       "      <th>mean</th>\n",
       "      <td>0.002002</td>\n",
       "      <td>-0.002159</td>\n",
       "      <td>2.495084</td>\n",
       "      <td>94.998342</td>\n",
       "    </tr>\n",
       "    <tr>\n",
       "      <th>std</th>\n",
       "      <td>1.732052</td>\n",
       "      <td>1.730397</td>\n",
       "      <td>3.473482</td>\n",
       "      <td>44.749573</td>\n",
       "    </tr>\n",
       "    <tr>\n",
       "      <th>min</th>\n",
       "      <td>-8.760004</td>\n",
       "      <td>-7.084020</td>\n",
       "      <td>-11.970335</td>\n",
       "      <td>0.000000</td>\n",
       "    </tr>\n",
       "    <tr>\n",
       "      <th>25%</th>\n",
       "      <td>-1.162328</td>\n",
       "      <td>-1.174841</td>\n",
       "      <td>0.130269</td>\n",
       "      <td>59.450028</td>\n",
       "    </tr>\n",
       "    <tr>\n",
       "      <th>50%</th>\n",
       "      <td>0.009424</td>\n",
       "      <td>-0.009661</td>\n",
       "      <td>2.484236</td>\n",
       "      <td>94.925026</td>\n",
       "    </tr>\n",
       "    <tr>\n",
       "      <th>75%</th>\n",
       "      <td>1.158477</td>\n",
       "      <td>1.163523</td>\n",
       "      <td>4.858720</td>\n",
       "      <td>130.586815</td>\n",
       "    </tr>\n",
       "    <tr>\n",
       "      <th>max</th>\n",
       "      <td>7.238262</td>\n",
       "      <td>7.844801</td>\n",
       "      <td>16.739402</td>\n",
       "      <td>190.029838</td>\n",
       "    </tr>\n",
       "  </tbody>\n",
       "</table>\n",
       "</div>"
      ],
      "text/plain": [
       "                 f0            f1            f2       product\n",
       "count  99996.000000  99996.000000  99996.000000  99996.000000\n",
       "mean       0.002002     -0.002159      2.495084     94.998342\n",
       "std        1.732052      1.730397      3.473482     44.749573\n",
       "min       -8.760004     -7.084020    -11.970335      0.000000\n",
       "25%       -1.162328     -1.174841      0.130269     59.450028\n",
       "50%        0.009424     -0.009661      2.484236     94.925026\n",
       "75%        1.158477      1.163523      4.858720    130.586815\n",
       "max        7.238262      7.844801     16.739402    190.029838"
      ]
     },
     "execution_count": 31,
     "metadata": {},
     "output_type": "execute_result"
    }
   ],
   "source": [
    "df_2.describe()"
   ]
  },
  {
   "cell_type": "code",
   "execution_count": 32,
   "metadata": {},
   "outputs": [
    {
     "data": {
      "text/plain": [
       "Text(0, 0.5, 'Количество')"
      ]
     },
     "execution_count": 32,
     "metadata": {},
     "output_type": "execute_result"
    },
    {
     "data": {
      "image/png": "[encoded data removed]",
      "text/plain": [
       "<Figure size 432x288 with 1 Axes>"
      ]
     },
     "metadata": {
      "needs_background": "light"
     },
     "output_type": "display_data"
    }
   ],
   "source": [
    "plt.hist(df_2['product'], bins=10, edgecolor = 'black')\n",
    "plt.title('Объем запасов в скважине в третьем регионе')\n",
    "plt.xlabel('Объем запасов')\n",
    "plt.ylabel('Количество');"
   ]
  },
  {
   "cell_type": "markdown",
   "metadata": {},
   "source": [
    "Для третьего региона характерно нормальное распределение объема запасов по скважинам"
   ]
  },
  {
   "cell_type": "code",
   "execution_count": 33,
   "metadata": {},
   "outputs": [],
   "source": [
    "df_2 = df_2.set_index('id')"
   ]
  },
  {
   "cell_type": "code",
   "execution_count": 35,
   "metadata": {},
   "outputs": [
    {
     "name": "stdout",
     "output_type": "stream",
     "text": [
      "Размер тренировочной выборки: (74997, 3)\n",
      "Размер тестовой выборки: (24999, 3)\n"
     ]
    }
   ],
   "source": [
    "features2_train, features2_valid, target2_train, target2_valid = split(df_2)"
   ]
  },
  {
   "cell_type": "code",
   "execution_count": 36,
   "metadata": {},
   "outputs": [
    {
     "data": {
      "text/html": [
       "<div>\n",
       "<style scoped>\n",
       "    .dataframe tbody tr th:only-of-type {\n",
       "        vertical-align: middle;\n",
       "    }\n",
       "\n",
       "    .dataframe tbody tr th {\n",
       "        vertical-align: top;\n",
       "    }\n",
       "\n",
       "    .dataframe thead th {\n",
       "        text-align: right;\n",
       "    }\n",
       "</style>\n",
       "<table border=\"1\" class=\"dataframe\">\n",
       "  <thead>\n",
       "    <tr style=\"text-align: right;\">\n",
       "      <th></th>\n",
       "      <th>f0</th>\n",
       "      <th>f1</th>\n",
       "      <th>f2</th>\n",
       "      <th>product</th>\n",
       "    </tr>\n",
       "  </thead>\n",
       "  <tbody>\n",
       "    <tr>\n",
       "      <th>f0</th>\n",
       "      <td>1.000000</td>\n",
       "      <td>-0.440717</td>\n",
       "      <td>-0.003211</td>\n",
       "      <td>0.143504</td>\n",
       "    </tr>\n",
       "    <tr>\n",
       "      <th>f1</th>\n",
       "      <td>-0.440717</td>\n",
       "      <td>1.000000</td>\n",
       "      <td>0.001764</td>\n",
       "      <td>-0.192351</td>\n",
       "    </tr>\n",
       "    <tr>\n",
       "      <th>f2</th>\n",
       "      <td>-0.003211</td>\n",
       "      <td>0.001764</td>\n",
       "      <td>1.000000</td>\n",
       "      <td>0.483631</td>\n",
       "    </tr>\n",
       "    <tr>\n",
       "      <th>product</th>\n",
       "      <td>0.143504</td>\n",
       "      <td>-0.192351</td>\n",
       "      <td>0.483631</td>\n",
       "      <td>1.000000</td>\n",
       "    </tr>\n",
       "  </tbody>\n",
       "</table>\n",
       "</div>"
      ],
      "text/plain": [
       "               f0        f1        f2   product\n",
       "f0       1.000000 -0.440717 -0.003211  0.143504\n",
       "f1      -0.440717  1.000000  0.001764 -0.192351\n",
       "f2      -0.003211  0.001764  1.000000  0.483631\n",
       "product  0.143504 -0.192351  0.483631  1.000000"
      ]
     },
     "execution_count": 36,
     "metadata": {},
     "output_type": "execute_result"
    }
   ],
   "source": [
    "df_0.corr()"
   ]
  },
  {
   "cell_type": "code",
   "execution_count": 37,
   "metadata": {},
   "outputs": [
    {
     "data": {
      "text/html": [
       "<div>\n",
       "<style scoped>\n",
       "    .dataframe tbody tr th:only-of-type {\n",
       "        vertical-align: middle;\n",
       "    }\n",
       "\n",
       "    .dataframe tbody tr th {\n",
       "        vertical-align: top;\n",
       "    }\n",
       "\n",
       "    .dataframe thead th {\n",
       "        text-align: right;\n",
       "    }\n",
       "</style>\n",
       "<table border=\"1\" class=\"dataframe\">\n",
       "  <thead>\n",
       "    <tr style=\"text-align: right;\">\n",
       "      <th></th>\n",
       "      <th>f0</th>\n",
       "      <th>f1</th>\n",
       "      <th>f2</th>\n",
       "      <th>product</th>\n",
       "    </tr>\n",
       "  </thead>\n",
       "  <tbody>\n",
       "    <tr>\n",
       "      <th>f0</th>\n",
       "      <td>1.000000</td>\n",
       "      <td>0.182279</td>\n",
       "      <td>-0.001810</td>\n",
       "      <td>-0.030523</td>\n",
       "    </tr>\n",
       "    <tr>\n",
       "      <th>f1</th>\n",
       "      <td>0.182279</td>\n",
       "      <td>1.000000</td>\n",
       "      <td>-0.002594</td>\n",
       "      <td>-0.010154</td>\n",
       "    </tr>\n",
       "    <tr>\n",
       "      <th>f2</th>\n",
       "      <td>-0.001810</td>\n",
       "      <td>-0.002594</td>\n",
       "      <td>1.000000</td>\n",
       "      <td>0.999397</td>\n",
       "    </tr>\n",
       "    <tr>\n",
       "      <th>product</th>\n",
       "      <td>-0.030523</td>\n",
       "      <td>-0.010154</td>\n",
       "      <td>0.999397</td>\n",
       "      <td>1.000000</td>\n",
       "    </tr>\n",
       "  </tbody>\n",
       "</table>\n",
       "</div>"
      ],
      "text/plain": [
       "               f0        f1        f2   product\n",
       "f0       1.000000  0.182279 -0.001810 -0.030523\n",
       "f1       0.182279  1.000000 -0.002594 -0.010154\n",
       "f2      -0.001810 -0.002594  1.000000  0.999397\n",
       "product -0.030523 -0.010154  0.999397  1.000000"
      ]
     },
     "execution_count": 37,
     "metadata": {},
     "output_type": "execute_result"
    }
   ],
   "source": [
    "df_1.corr()"
   ]
  },
  {
   "cell_type": "code",
   "execution_count": 38,
   "metadata": {},
   "outputs": [
    {
     "data": {
      "text/html": [
       "<div>\n",
       "<style scoped>\n",
       "    .dataframe tbody tr th:only-of-type {\n",
       "        vertical-align: middle;\n",
       "    }\n",
       "\n",
       "    .dataframe tbody tr th {\n",
       "        vertical-align: top;\n",
       "    }\n",
       "\n",
       "    .dataframe thead th {\n",
       "        text-align: right;\n",
       "    }\n",
       "</style>\n",
       "<table border=\"1\" class=\"dataframe\">\n",
       "  <thead>\n",
       "    <tr style=\"text-align: right;\">\n",
       "      <th></th>\n",
       "      <th>f0</th>\n",
       "      <th>f1</th>\n",
       "      <th>f2</th>\n",
       "      <th>product</th>\n",
       "    </tr>\n",
       "  </thead>\n",
       "  <tbody>\n",
       "    <tr>\n",
       "      <th>f0</th>\n",
       "      <td>1.000000</td>\n",
       "      <td>0.000506</td>\n",
       "      <td>-0.000452</td>\n",
       "      <td>-0.001978</td>\n",
       "    </tr>\n",
       "    <tr>\n",
       "      <th>f1</th>\n",
       "      <td>0.000506</td>\n",
       "      <td>1.000000</td>\n",
       "      <td>0.000753</td>\n",
       "      <td>-0.001055</td>\n",
       "    </tr>\n",
       "    <tr>\n",
       "      <th>f2</th>\n",
       "      <td>-0.000452</td>\n",
       "      <td>0.000753</td>\n",
       "      <td>1.000000</td>\n",
       "      <td>0.445867</td>\n",
       "    </tr>\n",
       "    <tr>\n",
       "      <th>product</th>\n",
       "      <td>-0.001978</td>\n",
       "      <td>-0.001055</td>\n",
       "      <td>0.445867</td>\n",
       "      <td>1.000000</td>\n",
       "    </tr>\n",
       "  </tbody>\n",
       "</table>\n",
       "</div>"
      ],
      "text/plain": [
       "               f0        f1        f2   product\n",
       "f0       1.000000  0.000506 -0.000452 -0.001978\n",
       "f1       0.000506  1.000000  0.000753 -0.001055\n",
       "f2      -0.000452  0.000753  1.000000  0.445867\n",
       "product -0.001978 -0.001055  0.445867  1.000000"
      ]
     },
     "execution_count": 38,
     "metadata": {},
     "output_type": "execute_result"
    }
   ],
   "source": [
    "df_2.corr()"
   ]
  },
  {
   "cell_type": "markdown",
   "metadata": {},
   "source": [
    "Во всех наборах данных наиболее сильную корреляцию с целевым признаком имеет признак f2, особенно во втором регионе, где коэффициент корреляции между f2 и product практически равна 1."
   ]
  },
  {
   "cell_type": "code",
   "execution_count": 42,
   "metadata": {},
   "outputs": [],
   "source": [
    "def scalers(features_train, features_valid):\n",
    "    scaler = StandardScaler()\n",
    "    scaler.fit(features_train)\n",
    "    return scaler.transform(features_train), scaler.transform(features_valid)"
   ]
  },
  {
   "cell_type": "code",
   "execution_count": 43,
   "metadata": {},
   "outputs": [],
   "source": [
    "features0_train, features0_valid = scalers(features0_train, features0_valid)\n",
    "features1_train, features1_valid = scalers(features1_train, features1_valid)\n",
    "features2_train, features2_valid = scalers(features2_train, features2_valid)"
   ]
  },
  {
   "cell_type": "markdown",
   "metadata": {},
   "source": [
    "### Вывод"
   ]
  },
  {
   "cell_type": "markdown",
   "metadata": {},
   "source": [
    "В данных представлены следующие параметры:\n",
    "- id — уникальный идентификатор скважины;\n",
    "- f0, f1, f2 — три признака точек;\n",
    "- product — объём запасов в скважине (тыс. баррелей).\n",
    "\n",
    "Для каждого из регионов в данных отсутсвуют пропуски и явные дубликаты, пстроки с повторяющимися номерами скважин удалены.\n",
    "\n",
    "Во всех наборах данных наиболее сильную корреляцию с целевым признаком имеет признак f2, особенно во втором регионе, где коэффициент корреляции между f2 и product практически равна 1.\n",
    "\n",
    "Целевым признаком является значение объема запасов в скважине. \n",
    "Для первого и третьего регионов характерно нормальное распределение значений объема запасов.\n",
    "Для второго региона чаще всего в скважинах получают либо очень большие, либо слишком низке объемы запасов\n",
    "\n",
    "Для ответа на поставленные бизнесом вопросы необходимо решить задачу регрессии."
   ]
  },
  {
   "cell_type": "markdown",
   "metadata": {},
   "source": [
    "## Обучение и проверка модели"
   ]
  },
  {
   "cell_type": "markdown",
   "metadata": {},
   "source": [
    "По условию задачи для обучения модели подходит только линейная регрессия (остальные — недостаточно предсказуемые)."
   ]
  },
  {
   "cell_type": "code",
   "execution_count": 44,
   "metadata": {},
   "outputs": [],
   "source": [
    "def modeling (features_train, target_train, features_valid, target_valid):\n",
    "    model = LinearRegression()\n",
    "    model.fit(features_train, target_train)\n",
    "    predictions = model.predict(features_valid)\n",
    "    print('RMSE =',round((mean_squared_error(target_valid, predictions)) ** 0.5, 2))\n",
    "    print('Cредний запас предсказанного сырья =', round(predictions.mean(), 2))\n",
    "    return predictions"
   ]
  },
  {
   "cell_type": "markdown",
   "metadata": {},
   "source": [
    "### Обучение модели для первого региона"
   ]
  },
  {
   "cell_type": "code",
   "execution_count": 45,
   "metadata": {},
   "outputs": [
    {
     "name": "stdout",
     "output_type": "stream",
     "text": [
      "RMSE = 37.85\n",
      "Cредний запас предсказанного сырья = 92.79\n"
     ]
    }
   ],
   "source": [
    "predicted0_valid = modeling(features0_train, target0_train, features0_valid, target0_valid)"
   ]
  },
  {
   "cell_type": "markdown",
   "metadata": {},
   "source": [
    "### Обучение модели для второго региона"
   ]
  },
  {
   "cell_type": "code",
   "execution_count": 48,
   "metadata": {},
   "outputs": [
    {
     "name": "stdout",
     "output_type": "stream",
     "text": [
      "RMSE = 0.89\n",
      "Cредний запас предсказанного сырья = 69.18\n"
     ]
    }
   ],
   "source": [
    "predicted1_valid = modeling(features1_train, target1_train, features1_valid, target1_valid)"
   ]
  },
  {
   "cell_type": "markdown",
   "metadata": {},
   "source": [
    "### Обучение модели для третьего региона"
   ]
  },
  {
   "cell_type": "code",
   "execution_count": 50,
   "metadata": {},
   "outputs": [
    {
     "name": "stdout",
     "output_type": "stream",
     "text": [
      "RMSE = 40.08\n",
      "Cредний запас предсказанного сырья = 94.87\n"
     ]
    }
   ],
   "source": [
    "predicted2_valid = modeling(features2_train, target2_train, features2_valid, target2_valid)"
   ]
  },
  {
   "cell_type": "markdown",
   "metadata": {},
   "source": [
    "### Вывод\n",
    "\n",
    "По результатам обучения модели посчитаны метрика RMSE и среднее значение по скважинам.\n",
    "\n",
    "Для первого региона:\n",
    "+ RMSE = 37.85\n",
    "+ Cредний запас предсказанного сырья = 92.79\n",
    "\n",
    "Получено достаточно высокое значение корня средней квадратичной ошибки\n",
    "\n",
    "Для второго региона: \n",
    "+ RMSE = 0.89\n",
    "+ Cредний запас предсказанного сырья = 69.18\n",
    "\n",
    "В данном регионе среднее значение запасов довольно низкое, зато предсказания самые точные\n",
    "\n",
    "Для третьего региона:\n",
    "+ RMSE = 40.08\n",
    "+ Cредний запас предсказанного сырья = 94.87\n",
    "\n",
    "Для третьего региона получено самое высокое среднее значение запасов, но предсказания с большим значением ошибки"
   ]
  },
  {
   "cell_type": "markdown",
   "metadata": {},
   "source": [
    "## Подготовка к расчёту прибыли"
   ]
  },
  {
   "cell_type": "markdown",
   "metadata": {},
   "source": [
    "Согласно условию задачи:\n",
    "- Бюджет на разработку скважин в регионе — 10 млрд рублей.\n",
    "- При нынешних ценах один баррель сырья приносит 450 рублей дохода. Доход с каждой единицы продукта составляет 450 тыс. рублей, поскольку объём указан в тысячах баррелей.\n",
    "- После оценки рисков нужно оставить лишь те регионы, в которых вероятность убытков меньше 2.5%. Среди них выбирают регион с наибольшей средней прибылью.\n",
    "- При разведке региона исследуют 500 точек, из которых с помощью машинного обучения выбирают 200 лучших для разработки."
   ]
  },
  {
   "cell_type": "code",
   "execution_count": 51,
   "metadata": {},
   "outputs": [],
   "source": [
    "budget = 10000000000\n",
    "income = 450000\n",
    "top_points = 200\n",
    "points = 500"
   ]
  },
  {
   "cell_type": "code",
   "execution_count": 52,
   "metadata": {},
   "outputs": [
    {
     "name": "stdout",
     "output_type": "stream",
     "text": [
      "Достаточный объём сырья для безубыточной разработки новой скважины 111.11111111111111\n"
     ]
    }
   ],
   "source": [
    "sufficient_volume = budget/(income*top_points)\n",
    "print('Достаточный объём сырья для безубыточной разработки новой скважины', sufficient_volume)"
   ]
  },
  {
   "cell_type": "markdown",
   "metadata": {},
   "source": [
    "На этапе подготовки к расчету прибыли был оценен минимальный объем запасов для безубыточной разработки новой скважины - 111 тысяч баррелей.Данное значение выше, чем средние по каждому из регионов. \n",
    "\n",
    "Однако, среднее значение по каждому региону рассчитано на основе 25000 скважин, в то время как разрабатываться будут только 200 наиболее перпективных скважин. На следующем шаге необходимо проанализировать возможную прибыль и риски для случайно отобранных скважин в каждом регионе для этого применяется техника Bootstrap."
   ]
  },
  {
   "cell_type": "markdown",
   "metadata": {},
   "source": [
    "## Расчёт прибыли и рисков "
   ]
  },
  {
   "cell_type": "code",
   "execution_count": 53,
   "metadata": {},
   "outputs": [],
   "source": [
    "def income_product(target, probabilities, count):\n",
    "    product_sorted = probabilities.sort_values(ascending=False)\n",
    "    selected = target[product_sorted.index][:count]\n",
    "    return (income * selected.sum() - budget)/1000000"
   ]
  },
  {
   "cell_type": "code",
   "execution_count": 54,
   "metadata": {},
   "outputs": [],
   "source": [
    "state = np.random.RandomState(12345)"
   ]
  },
  {
   "cell_type": "code",
   "execution_count": 55,
   "metadata": {},
   "outputs": [],
   "source": [
    "def region_analysis(target_valid, predicted_valid):\n",
    "    loss=0\n",
    "    values = []\n",
    "    for i in range(1000):\n",
    "        predicted_valid = pd.Series(predicted_valid, index=target_valid.index)\n",
    "        target_subsample = target_valid.sample(n=points, replace=True, random_state=state)\n",
    "        probs_subsample = predicted_valid[target_subsample.index]\n",
    "        res = income_product(target_subsample, probs_subsample, top_points)\n",
    "        values.append(res)\n",
    "        if res<0:\n",
    "            loss +=1\n",
    "\n",
    "    values = pd.Series(values)\n",
    "    confidence_interval = st.t.interval(0.95, len(values)-1, values.mean(), values.sem())\n",
    "    print('Средняя прибыль в регионе равна', round(values.mean(), 2), 'млн. руб')\n",
    "    print('Вероятность убытков', round(loss/1000*100, 1), '%')\n",
    "    print('Доверительный интервал:', confidence_interval, 'млн. руб')"
   ]
  },
  {
   "cell_type": "markdown",
   "metadata": {},
   "source": [
    "### Первый регион"
   ]
  },
  {
   "cell_type": "code",
   "execution_count": 57,
   "metadata": {},
   "outputs": [
    {
     "name": "stdout",
     "output_type": "stream",
     "text": [
      "Средняя прибыль в регионе равна 409.43 млн. руб\n",
      "Вероятность убытков 7.1 %\n",
      "Доверительный интервал: (392.4363122689626, 426.41976497390937) млн. руб\n"
     ]
    }
   ],
   "source": [
    "region_analysis(target0_valid, predicted0_valid)"
   ]
  },
  {
   "cell_type": "markdown",
   "metadata": {},
   "source": [
    "### Второй регион"
   ]
  },
  {
   "cell_type": "code",
   "execution_count": 59,
   "metadata": {},
   "outputs": [
    {
     "name": "stdout",
     "output_type": "stream",
     "text": [
      "Средняя прибыль в регионе равна 536.4 млн. руб\n",
      "Вероятность убытков 0.3 %\n",
      "Доверительный интервал: (522.8781010596214, 549.9222978105848) млн. руб\n"
     ]
    }
   ],
   "source": [
    "region_analysis(target1_valid, predicted1_valid)"
   ]
  },
  {
   "cell_type": "markdown",
   "metadata": {},
   "source": [
    "### Третий регион"
   ]
  },
  {
   "cell_type": "code",
   "execution_count": 61,
   "metadata": {},
   "outputs": [
    {
     "name": "stdout",
     "output_type": "stream",
     "text": [
      "Средняя прибыль в регионе равна 339.48 млн. руб\n",
      "Вероятность убытков 11.8 %\n",
      "Доверительный интервал: (322.0794420623008, 356.87662633329853) млн. руб\n"
     ]
    }
   ],
   "source": [
    "region_analysis(target2_valid, predicted2_valid)"
   ]
  },
  {
   "cell_type": "markdown",
   "metadata": {},
   "source": [
    "### Вывод"
   ]
  },
  {
   "cell_type": "markdown",
   "metadata": {},
   "source": [
    "Для первого региона:\n",
    "+ Средняя прибыль в регионе равна 409.43 млн. руб\n",
    "+ Вероятность убытков 7.1 %\n",
    "+ Доверительный интервал: (392.4363122689626, 426.41976497390937) млн. руб\n",
    "\n",
    "Для второго региона:\n",
    "+ Средняя прибыль в регионе равна 536.4 млн. руб\n",
    "+ Вероятность убытков 0.3 %\n",
    "+ Доверительный интервал: (522.8781010596214, 549.9222978105848) млн. руб\n",
    "\n",
    "Для третьего региона:\n",
    "+ Средняя прибыль в регионе равна 339.48 млн. руб\n",
    "+ Вероятность убытков 11.8 %\n",
    "+ Доверительный интервал: (322.0794420623008, 356.87662633329853) млн. руб\n",
    "\n",
    "Наибольшее среднее значение прибыли отмечается во втром регионе, для которого вероятность убытков также минимальна. В первом и третьем регионах вероятность убытков выше граничных 2,5 процентов."
   ]
  },
  {
   "cell_type": "markdown",
   "metadata": {},
   "source": [
    "## Итоговый вывод\n",
    "\n",
    "Добывающей компании «ГлавРосГосНефть» необходимо решить, где бурить новую скважину.\n",
    "\n",
    "Для работы предоставлены пробы нефти в трёх регионах: в каждом 10 000 месторождений, где измерили качество нефти и объём её запасов. \n",
    "Цнль: построить модель машинного обучения, которая поможет определить регион, где добыча принесёт наибольшую прибыль. Проанализировать возможную прибыль и риски техникой *Bootstrap.*\n",
    "\n",
    "Шаги для выбора локации:\n",
    "\n",
    "- В избранном регионе ищут месторождения, для каждого определяют значения признаков;\n",
    "- Строят модель и оценивают объём запасов;\n",
    "- Выбирают месторождения с самым высокими оценками значений. Количество месторождений зависит от бюджета компании и стоимости разработки одной скважины;\n",
    "- Прибыль равна суммарной прибыли отобранных месторождений.\n",
    "\n",
    "В данных представлены следующие параметры:\n",
    "- id — уникальный идентификатор скважины;\n",
    "- f0, f1, f2 — три признака точек;\n",
    "- product — объём запасов в скважине (тыс. баррелей).\n",
    "\n",
    "Для каждого из регионов в данных отсутсвуют пропуски и явные дубликаты, пстроки с повторяющимися номерами скважин удалены.\n",
    "\n",
    "Во всех наборах данных наиболее сильную корреляцию с целевым признаком имеет признак f2, особенно во втором регионе, где коэффициент корреляции между f2 и product практически равна 1.\n",
    "\n",
    "Целевым признаком является значение объема запасов в скважине. \n",
    "Для первого и третьего регионов характерно нормальное распределение значений объема запасов, то есть скважин с большими запасами меньше, чем со средними.\n",
    "\n",
    "Для второго региона чаще всего в скважинах получают либо очень большие, либо слишком низке объемы запасов\n",
    "\n",
    "Для ответа на поставленные бизнесом вопросы необходимо решить задачу регрессии. По условию задачи для обучения модели подходит только линейная регрессия (остальные — недостаточно предсказуемые).\n",
    "\n",
    "По результатам обучения модели посчитаны метрика RMSE и среднее значение по скважинам.\n",
    "\n",
    "Для первого региона:\n",
    "+ RMSE = 37.85\n",
    "+ Cредний запас предсказанного сырья = 92.79\n",
    "\n",
    "Получено достаточно высокое значение корня средней квадратичной ошибки\n",
    "\n",
    "Для второго региона: \n",
    "+ RMSE = 0.89\n",
    "+ Cредний запас предсказанного сырья = 69.18\n",
    "\n",
    "В данном регионе среднее значение запасов довольно низкое, зато предсказания самые точные\n",
    "\n",
    "Для третьего региона:\n",
    "+ RMSE = 40.08\n",
    "+ Cредний запас предсказанного сырья = 94.87\n",
    "\n",
    "Для третьего региона получено самое высокое среднее значение запасов, но предсказания с большим значением ошибки\n",
    "\n",
    "На этапе подготовки к расчету прибыли был оценен минимальный объем запасов для безубыточной разработки новой скважины - 111 тысяч баррелей.Данное значение выше, чем средние по каждому из регионов. \n",
    "\n",
    "Однако, среднее значение по каждому региону рассчитано на основе 25000 скважин, в то время как разрабатываться будут только 200 наиболее перпективных скважин. На следующем шаге необходимо проанализировать возможную прибыль и риски для случайно отобранных скважин в каждом регионе для этого применяется техника Bootstrap.\n",
    "\n",
    "Для первого региона:\n",
    "+ Средняя прибыль в регионе равна 409.43 млн. руб\n",
    "+ Вероятность убытков 7.1 %\n",
    "+ Доверительный интервал: (392.4363122689626, 426.41976497390937) млн. руб\n",
    "\n",
    "Для второго региона:\n",
    "+ Средняя прибыль в регионе равна 536.4 млн. руб\n",
    "+ Вероятность убытков 0.3 %\n",
    "+ Доверительный интервал: (522.8781010596214, 549.9222978105848) млн. руб\n",
    "\n",
    "Для третьего региона:\n",
    "+ Средняя прибыль в регионе равна 339.48 млн. руб\n",
    "+ Вероятность убытков 11.8 %\n",
    "+ Доверительный интервал: (322.0794420623008, 356.87662633329853) млн. руб\n",
    "\n",
    "Наибольшее среднее значение прибыли отмечается во втром регионе, для которого вероятность убытков также минимальна. В первом и третьем регионах вероятность убытков выше граничных 2,5 процентов.\n",
    "\n",
    "Таким образом, рекомендуется бурить новые скважины во втором регионе, так как на основе предоставленных данных мы имеем наиболее предсказуемые объемы запасов в скважинах и максимальное значение средней получаемой прибыли."
   ]
  }
 ],
 "metadata": {
  "ExecuteTimeLog": [
   {
    "duration": 1902,
    "start_time": "2023-10-04T19:42:51.211Z"
   },
   {
    "duration": 416,
    "start_time": "2023-10-04T19:42:53.120Z"
   },
   {
    "duration": 5,
    "start_time": "2023-10-04T19:43:41.756Z"
   },
   {
    "duration": 175,
    "start_time": "2023-10-04T19:43:41.790Z"
   },
   {
    "duration": 256,
    "start_time": "2023-10-04T19:43:41.967Z"
   },
   {
    "duration": 271,
    "start_time": "2023-10-04T19:43:42.226Z"
   },
   {
    "duration": 69,
    "start_time": "2023-10-05T17:46:53.752Z"
   },
   {
    "duration": 1890,
    "start_time": "2023-10-05T17:46:56.491Z"
   },
   {
    "duration": 599,
    "start_time": "2023-10-05T17:46:58.384Z"
   },
   {
    "duration": 26,
    "start_time": "2023-10-05T17:46:58.985Z"
   },
   {
    "duration": 594,
    "start_time": "2023-10-05T17:46:59.014Z"
   },
   {
    "duration": 555,
    "start_time": "2023-10-05T17:46:59.611Z"
   },
   {
    "duration": 16,
    "start_time": "2023-10-05T17:47:12.692Z"
   },
   {
    "duration": 25,
    "start_time": "2023-10-05T17:47:22.278Z"
   },
   {
    "duration": 6,
    "start_time": "2023-10-05T17:47:29.871Z"
   },
   {
    "duration": 181,
    "start_time": "2023-10-05T17:47:29.880Z"
   },
   {
    "duration": 25,
    "start_time": "2023-10-05T17:47:30.063Z"
   },
   {
    "duration": 198,
    "start_time": "2023-10-05T17:47:30.090Z"
   },
   {
    "duration": 16,
    "start_time": "2023-10-05T17:47:30.290Z"
   },
   {
    "duration": 194,
    "start_time": "2023-10-05T17:47:30.309Z"
   },
   {
    "duration": 16,
    "start_time": "2023-10-05T17:47:30.505Z"
   },
   {
    "duration": 1928,
    "start_time": "2023-10-07T12:17:07.724Z"
   },
   {
    "duration": 613,
    "start_time": "2023-10-07T12:17:09.655Z"
   },
   {
    "duration": 20,
    "start_time": "2023-10-07T12:17:10.270Z"
   },
   {
    "duration": 289,
    "start_time": "2023-10-07T12:17:10.292Z"
   },
   {
    "duration": 0,
    "start_time": "2023-10-07T12:17:10.583Z"
   },
   {
    "duration": 0,
    "start_time": "2023-10-07T12:17:10.585Z"
   },
   {
    "duration": 0,
    "start_time": "2023-10-07T12:17:10.587Z"
   },
   {
    "duration": 0,
    "start_time": "2023-10-07T12:17:10.604Z"
   },
   {
    "duration": 59,
    "start_time": "2023-10-07T12:17:20.531Z"
   },
   {
    "duration": 5,
    "start_time": "2023-10-07T12:17:59.171Z"
   },
   {
    "duration": 203,
    "start_time": "2023-10-07T12:17:59.179Z"
   },
   {
    "duration": 28,
    "start_time": "2023-10-07T12:17:59.384Z"
   },
   {
    "duration": 54,
    "start_time": "2023-10-07T12:17:59.414Z"
   },
   {
    "duration": 62,
    "start_time": "2023-10-07T12:17:59.472Z"
   },
   {
    "duration": 255,
    "start_time": "2023-10-07T12:17:59.537Z"
   },
   {
    "duration": 19,
    "start_time": "2023-10-07T12:17:59.794Z"
   },
   {
    "duration": 72,
    "start_time": "2023-10-07T12:17:59.815Z"
   },
   {
    "duration": 283,
    "start_time": "2023-10-07T12:17:59.888Z"
   },
   {
    "duration": 16,
    "start_time": "2023-10-07T12:18:00.175Z"
   },
   {
    "duration": 198,
    "start_time": "2023-10-07T12:18:00.193Z"
   },
   {
    "duration": 1374,
    "start_time": "2023-10-07T19:32:01.790Z"
   },
   {
    "duration": 341,
    "start_time": "2023-10-07T19:32:03.165Z"
   },
   {
    "duration": 11,
    "start_time": "2023-10-07T19:32:03.507Z"
   },
   {
    "duration": 42,
    "start_time": "2023-10-07T19:32:03.520Z"
   },
   {
    "duration": 30,
    "start_time": "2023-10-07T19:32:03.563Z"
   },
   {
    "duration": 177,
    "start_time": "2023-10-07T19:32:03.594Z"
   },
   {
    "duration": 10,
    "start_time": "2023-10-07T19:32:03.773Z"
   },
   {
    "duration": 56,
    "start_time": "2023-10-07T19:32:03.784Z"
   },
   {
    "duration": 102,
    "start_time": "2023-10-07T19:32:03.841Z"
   },
   {
    "duration": 183,
    "start_time": "2023-10-07T19:32:03.945Z"
   },
   {
    "duration": 10,
    "start_time": "2023-10-07T19:32:04.129Z"
   },
   {
    "duration": 97,
    "start_time": "2023-10-07T19:32:04.140Z"
   },
   {
    "duration": 37,
    "start_time": "2023-10-07T19:32:04.239Z"
   },
   {
    "duration": 4,
    "start_time": "2023-10-07T19:32:04.277Z"
   },
   {
    "duration": 223,
    "start_time": "2023-10-07T19:32:04.282Z"
   },
   {
    "duration": 0,
    "start_time": "2023-10-07T19:32:04.506Z"
   },
   {
    "duration": 18,
    "start_time": "2023-10-07T19:32:19.246Z"
   },
   {
    "duration": 3,
    "start_time": "2023-10-07T19:32:19.932Z"
   },
   {
    "duration": 3,
    "start_time": "2023-10-07T19:32:40.237Z"
   },
   {
    "duration": 162,
    "start_time": "2023-10-07T19:32:40.242Z"
   },
   {
    "duration": 10,
    "start_time": "2023-10-07T19:32:40.405Z"
   },
   {
    "duration": 46,
    "start_time": "2023-10-07T19:32:40.417Z"
   },
   {
    "duration": 28,
    "start_time": "2023-10-07T19:32:40.465Z"
   },
   {
    "duration": 97,
    "start_time": "2023-10-07T19:32:40.494Z"
   },
   {
    "duration": 11,
    "start_time": "2023-10-07T19:32:40.592Z"
   },
   {
    "duration": 49,
    "start_time": "2023-10-07T19:32:40.604Z"
   },
   {
    "duration": 30,
    "start_time": "2023-10-07T19:32:40.655Z"
   },
   {
    "duration": 115,
    "start_time": "2023-10-07T19:32:40.686Z"
   },
   {
    "duration": 12,
    "start_time": "2023-10-07T19:32:40.802Z"
   },
   {
    "duration": 48,
    "start_time": "2023-10-07T19:32:40.815Z"
   },
   {
    "duration": 30,
    "start_time": "2023-10-07T19:32:40.864Z"
   },
   {
    "duration": 15,
    "start_time": "2023-10-07T19:32:40.897Z"
   },
   {
    "duration": 1718,
    "start_time": "2023-10-08T11:08:36.614Z"
   },
   {
    "duration": 577,
    "start_time": "2023-10-08T11:08:38.335Z"
   },
   {
    "duration": 18,
    "start_time": "2023-10-08T11:08:38.913Z"
   },
   {
    "duration": 60,
    "start_time": "2023-10-08T11:08:38.933Z"
   },
   {
    "duration": 43,
    "start_time": "2023-10-08T11:08:38.994Z"
   },
   {
    "duration": 41,
    "start_time": "2023-10-08T11:08:39.038Z"
   },
   {
    "duration": 620,
    "start_time": "2023-10-08T11:08:39.080Z"
   },
   {
    "duration": 17,
    "start_time": "2023-10-08T11:08:39.702Z"
   },
   {
    "duration": 57,
    "start_time": "2023-10-08T11:08:39.722Z"
   },
   {
    "duration": 41,
    "start_time": "2023-10-08T11:08:39.782Z"
   },
   {
    "duration": 590,
    "start_time": "2023-10-08T11:08:39.825Z"
   },
   {
    "duration": 23,
    "start_time": "2023-10-08T11:08:40.417Z"
   },
   {
    "duration": 80,
    "start_time": "2023-10-08T11:08:40.442Z"
   },
   {
    "duration": 38,
    "start_time": "2023-10-08T11:08:40.524Z"
   },
   {
    "duration": 25,
    "start_time": "2023-10-08T11:10:39.333Z"
   },
   {
    "duration": 5,
    "start_time": "2023-10-08T11:10:44.106Z"
   },
   {
    "duration": 180,
    "start_time": "2023-10-08T11:10:44.113Z"
   },
   {
    "duration": 17,
    "start_time": "2023-10-08T11:10:44.294Z"
   },
   {
    "duration": 74,
    "start_time": "2023-10-08T11:10:44.312Z"
   },
   {
    "duration": 40,
    "start_time": "2023-10-08T11:10:44.389Z"
   },
   {
    "duration": 44,
    "start_time": "2023-10-08T11:10:44.431Z"
   },
   {
    "duration": 159,
    "start_time": "2023-10-08T11:10:44.477Z"
   },
   {
    "duration": 23,
    "start_time": "2023-10-08T11:10:44.638Z"
   },
   {
    "duration": 50,
    "start_time": "2023-10-08T11:10:44.663Z"
   },
   {
    "duration": 57,
    "start_time": "2023-10-08T11:10:44.715Z"
   },
   {
    "duration": 25,
    "start_time": "2023-10-08T11:10:44.774Z"
   },
   {
    "duration": 171,
    "start_time": "2023-10-08T11:10:44.801Z"
   },
   {
    "duration": 17,
    "start_time": "2023-10-08T11:10:44.974Z"
   },
   {
    "duration": 89,
    "start_time": "2023-10-08T11:10:44.994Z"
   },
   {
    "duration": 40,
    "start_time": "2023-10-08T11:10:45.085Z"
   },
   {
    "duration": 24,
    "start_time": "2023-10-08T11:12:48.954Z"
   },
   {
    "duration": 141,
    "start_time": "2023-10-08T11:14:58.985Z"
   },
   {
    "duration": 5,
    "start_time": "2023-10-08T11:17:02.465Z"
   },
   {
    "duration": 192,
    "start_time": "2023-10-08T11:17:02.473Z"
   },
   {
    "duration": 18,
    "start_time": "2023-10-08T11:17:02.668Z"
   },
   {
    "duration": 92,
    "start_time": "2023-10-08T11:17:02.688Z"
   },
   {
    "duration": 45,
    "start_time": "2023-10-08T11:17:02.784Z"
   },
   {
    "duration": 46,
    "start_time": "2023-10-08T11:17:02.831Z"
   },
   {
    "duration": 153,
    "start_time": "2023-10-08T11:17:02.879Z"
   },
   {
    "duration": 27,
    "start_time": "2023-10-08T11:17:03.034Z"
   },
   {
    "duration": 127,
    "start_time": "2023-10-08T11:17:03.063Z"
   },
   {
    "duration": 176,
    "start_time": "2023-10-08T11:17:03.192Z"
   },
   {
    "duration": 33,
    "start_time": "2023-10-08T11:17:03.370Z"
   },
   {
    "duration": 71,
    "start_time": "2023-10-08T11:17:03.405Z"
   },
   {
    "duration": 188,
    "start_time": "2023-10-08T11:17:03.478Z"
   },
   {
    "duration": 16,
    "start_time": "2023-10-08T11:17:03.669Z"
   },
   {
    "duration": 71,
    "start_time": "2023-10-08T11:17:03.687Z"
   },
   {
    "duration": 41,
    "start_time": "2023-10-08T11:17:03.760Z"
   },
   {
    "duration": 24,
    "start_time": "2023-10-08T11:17:03.803Z"
   },
   {
    "duration": 76,
    "start_time": "2023-10-08T11:17:03.829Z"
   },
   {
    "duration": 8,
    "start_time": "2023-10-08T11:17:25.703Z"
   },
   {
    "duration": 25,
    "start_time": "2023-10-08T11:17:26.498Z"
   },
   {
    "duration": 5,
    "start_time": "2023-10-08T11:17:35.280Z"
   },
   {
    "duration": 195,
    "start_time": "2023-10-08T11:17:35.287Z"
   },
   {
    "duration": 18,
    "start_time": "2023-10-08T11:17:35.484Z"
   },
   {
    "duration": 80,
    "start_time": "2023-10-08T11:17:35.505Z"
   },
   {
    "duration": 39,
    "start_time": "2023-10-08T11:17:35.588Z"
   },
   {
    "duration": 46,
    "start_time": "2023-10-08T11:17:35.629Z"
   },
   {
    "duration": 154,
    "start_time": "2023-10-08T11:17:35.677Z"
   },
   {
    "duration": 26,
    "start_time": "2023-10-08T11:17:35.833Z"
   },
   {
    "duration": 51,
    "start_time": "2023-10-08T11:17:35.862Z"
   },
   {
    "duration": 70,
    "start_time": "2023-10-08T11:17:35.915Z"
   },
   {
    "duration": 8,
    "start_time": "2023-10-08T11:17:35.987Z"
   },
   {
    "duration": 50,
    "start_time": "2023-10-08T11:17:35.997Z"
   },
   {
    "duration": 159,
    "start_time": "2023-10-08T11:17:36.049Z"
   },
   {
    "duration": 17,
    "start_time": "2023-10-08T11:17:36.211Z"
   },
   {
    "duration": 72,
    "start_time": "2023-10-08T11:17:36.230Z"
   },
   {
    "duration": 58,
    "start_time": "2023-10-08T11:17:36.304Z"
   },
   {
    "duration": 25,
    "start_time": "2023-10-08T11:17:36.365Z"
   },
   {
    "duration": 46,
    "start_time": "2023-10-08T11:17:36.392Z"
   },
   {
    "duration": 6,
    "start_time": "2023-10-08T11:18:05.404Z"
   },
   {
    "duration": 208,
    "start_time": "2023-10-08T11:18:05.412Z"
   },
   {
    "duration": 17,
    "start_time": "2023-10-08T11:18:05.622Z"
   },
   {
    "duration": 73,
    "start_time": "2023-10-08T11:18:05.641Z"
   },
   {
    "duration": 63,
    "start_time": "2023-10-08T11:18:05.716Z"
   },
   {
    "duration": 31,
    "start_time": "2023-10-08T11:18:05.781Z"
   },
   {
    "duration": 170,
    "start_time": "2023-10-08T11:18:05.815Z"
   },
   {
    "duration": 17,
    "start_time": "2023-10-08T11:18:05.987Z"
   },
   {
    "duration": 79,
    "start_time": "2023-10-08T11:18:06.006Z"
   },
   {
    "duration": 62,
    "start_time": "2023-10-08T11:18:06.087Z"
   },
   {
    "duration": 8,
    "start_time": "2023-10-08T11:18:06.151Z"
   },
   {
    "duration": 124,
    "start_time": "2023-10-08T11:18:06.160Z"
   },
   {
    "duration": 165,
    "start_time": "2023-10-08T11:18:06.286Z"
   },
   {
    "duration": 16,
    "start_time": "2023-10-08T11:18:06.456Z"
   },
   {
    "duration": 100,
    "start_time": "2023-10-08T11:18:06.474Z"
   },
   {
    "duration": 96,
    "start_time": "2023-10-08T11:18:06.576Z"
   },
   {
    "duration": 25,
    "start_time": "2023-10-08T11:18:06.674Z"
   },
   {
    "duration": 36,
    "start_time": "2023-10-08T11:18:06.757Z"
   },
   {
    "duration": 5,
    "start_time": "2023-10-08T11:18:34.530Z"
   },
   {
    "duration": 189,
    "start_time": "2023-10-08T11:18:34.537Z"
   },
   {
    "duration": 15,
    "start_time": "2023-10-08T11:18:34.728Z"
   },
   {
    "duration": 56,
    "start_time": "2023-10-08T11:18:34.757Z"
   },
   {
    "duration": 62,
    "start_time": "2023-10-08T11:18:34.815Z"
   },
   {
    "duration": 7,
    "start_time": "2023-10-08T11:18:34.879Z"
   },
   {
    "duration": 88,
    "start_time": "2023-10-08T11:18:34.888Z"
   },
   {
    "duration": 154,
    "start_time": "2023-10-08T11:18:34.978Z"
   },
   {
    "duration": 24,
    "start_time": "2023-10-08T11:18:35.134Z"
   },
   {
    "duration": 114,
    "start_time": "2023-10-08T11:18:35.160Z"
   },
   {
    "duration": 169,
    "start_time": "2023-10-08T11:18:35.276Z"
   },
   {
    "duration": 7,
    "start_time": "2023-10-08T11:18:35.446Z"
   },
   {
    "duration": 108,
    "start_time": "2023-10-08T11:18:35.455Z"
   },
   {
    "duration": 167,
    "start_time": "2023-10-08T11:18:35.565Z"
   },
   {
    "duration": 25,
    "start_time": "2023-10-08T11:18:35.734Z"
   },
   {
    "duration": 53,
    "start_time": "2023-10-08T11:18:35.761Z"
   },
   {
    "duration": 62,
    "start_time": "2023-10-08T11:18:35.816Z"
   },
   {
    "duration": 7,
    "start_time": "2023-10-08T11:18:35.880Z"
   },
   {
    "duration": 67,
    "start_time": "2023-10-08T11:18:35.889Z"
   },
   {
    "duration": 19,
    "start_time": "2023-10-08T11:18:35.958Z"
   },
   {
    "duration": 15,
    "start_time": "2023-10-08T11:19:04.892Z"
   },
   {
    "duration": 10,
    "start_time": "2023-10-08T11:19:14.894Z"
   },
   {
    "duration": 23,
    "start_time": "2023-10-08T11:20:26.222Z"
   },
   {
    "duration": 14,
    "start_time": "2023-10-08T11:21:55.261Z"
   },
   {
    "duration": 15,
    "start_time": "2023-10-08T11:21:59.537Z"
   },
   {
    "duration": 20,
    "start_time": "2023-10-08T11:22:17.619Z"
   },
   {
    "duration": 12,
    "start_time": "2023-10-08T11:42:11.599Z"
   },
   {
    "duration": 5,
    "start_time": "2023-10-08T11:42:14.427Z"
   },
   {
    "duration": 204,
    "start_time": "2023-10-08T11:42:14.435Z"
   },
   {
    "duration": 24,
    "start_time": "2023-10-08T11:42:14.641Z"
   },
   {
    "duration": 53,
    "start_time": "2023-10-08T11:42:14.667Z"
   },
   {
    "duration": 66,
    "start_time": "2023-10-08T11:42:14.723Z"
   },
   {
    "duration": 7,
    "start_time": "2023-10-08T11:42:14.791Z"
   },
   {
    "duration": 70,
    "start_time": "2023-10-08T11:42:14.800Z"
   },
   {
    "duration": 153,
    "start_time": "2023-10-08T11:42:14.872Z"
   },
   {
    "duration": 16,
    "start_time": "2023-10-08T11:42:15.027Z"
   },
   {
    "duration": 125,
    "start_time": "2023-10-08T11:42:15.046Z"
   },
   {
    "duration": 42,
    "start_time": "2023-10-08T11:42:15.173Z"
   },
   {
    "duration": 7,
    "start_time": "2023-10-08T11:42:15.217Z"
   },
   {
    "duration": 80,
    "start_time": "2023-10-08T11:42:15.226Z"
   },
   {
    "duration": 158,
    "start_time": "2023-10-08T11:42:15.308Z"
   },
   {
    "duration": 17,
    "start_time": "2023-10-08T11:42:15.467Z"
   },
   {
    "duration": 133,
    "start_time": "2023-10-08T11:42:15.485Z"
   },
   {
    "duration": 43,
    "start_time": "2023-10-08T11:42:15.619Z"
   },
   {
    "duration": 7,
    "start_time": "2023-10-08T11:42:15.664Z"
   },
   {
    "duration": 78,
    "start_time": "2023-10-08T11:42:15.673Z"
   },
   {
    "duration": 28,
    "start_time": "2023-10-08T11:42:15.753Z"
   },
   {
    "duration": 178,
    "start_time": "2023-10-08T11:42:15.783Z"
   },
   {
    "duration": 16,
    "start_time": "2023-10-08T11:42:23.803Z"
   },
   {
    "duration": 15,
    "start_time": "2023-10-08T11:43:13.553Z"
   },
   {
    "duration": 21,
    "start_time": "2023-10-08T11:44:27.046Z"
   },
   {
    "duration": 27,
    "start_time": "2023-10-08T12:08:59.832Z"
   },
   {
    "duration": 5,
    "start_time": "2023-10-08T12:09:05.349Z"
   },
   {
    "duration": 177,
    "start_time": "2023-10-08T12:09:05.356Z"
   },
   {
    "duration": 26,
    "start_time": "2023-10-08T12:09:05.535Z"
   },
   {
    "duration": 56,
    "start_time": "2023-10-08T12:09:05.563Z"
   },
   {
    "duration": 63,
    "start_time": "2023-10-08T12:09:05.621Z"
   },
   {
    "duration": 7,
    "start_time": "2023-10-08T12:09:05.686Z"
   },
   {
    "duration": 73,
    "start_time": "2023-10-08T12:09:05.695Z"
   },
   {
    "duration": 154,
    "start_time": "2023-10-08T12:09:05.770Z"
   },
   {
    "duration": 16,
    "start_time": "2023-10-08T12:09:05.926Z"
   },
   {
    "duration": 52,
    "start_time": "2023-10-08T12:09:05.956Z"
   },
   {
    "duration": 65,
    "start_time": "2023-10-08T12:09:06.009Z"
   },
   {
    "duration": 7,
    "start_time": "2023-10-08T12:09:06.076Z"
   },
   {
    "duration": 72,
    "start_time": "2023-10-08T12:09:06.085Z"
   },
   {
    "duration": 166,
    "start_time": "2023-10-08T12:09:06.160Z"
   },
   {
    "duration": 19,
    "start_time": "2023-10-08T12:09:06.328Z"
   },
   {
    "duration": 55,
    "start_time": "2023-10-08T12:09:06.358Z"
   },
   {
    "duration": 63,
    "start_time": "2023-10-08T12:09:06.416Z"
   },
   {
    "duration": 7,
    "start_time": "2023-10-08T12:09:06.481Z"
   },
   {
    "duration": 78,
    "start_time": "2023-10-08T12:09:06.490Z"
   },
   {
    "duration": 65,
    "start_time": "2023-10-08T12:09:06.570Z"
   },
   {
    "duration": 124,
    "start_time": "2023-10-08T12:09:06.637Z"
   },
   {
    "duration": 0,
    "start_time": "2023-10-08T12:09:06.764Z"
   },
   {
    "duration": 18,
    "start_time": "2023-10-08T12:09:21.204Z"
   },
   {
    "duration": 117,
    "start_time": "2023-10-08T12:09:21.446Z"
   },
   {
    "duration": 16,
    "start_time": "2023-10-08T12:10:38.803Z"
   },
   {
    "duration": 15,
    "start_time": "2023-10-08T12:13:19.902Z"
   },
   {
    "duration": 15,
    "start_time": "2023-10-08T12:13:38.613Z"
   },
   {
    "duration": 18,
    "start_time": "2023-10-08T12:13:52.846Z"
   },
   {
    "duration": 17,
    "start_time": "2023-10-08T12:14:12.729Z"
   },
   {
    "duration": 84,
    "start_time": "2023-10-08T12:14:36.475Z"
   },
   {
    "duration": 5,
    "start_time": "2023-10-08T12:15:04.403Z"
   },
   {
    "duration": 189,
    "start_time": "2023-10-08T12:15:04.410Z"
   },
   {
    "duration": 17,
    "start_time": "2023-10-08T12:15:04.601Z"
   },
   {
    "duration": 79,
    "start_time": "2023-10-08T12:15:04.620Z"
   },
   {
    "duration": 42,
    "start_time": "2023-10-08T12:15:04.701Z"
   },
   {
    "duration": 16,
    "start_time": "2023-10-08T12:15:04.756Z"
   },
   {
    "duration": 55,
    "start_time": "2023-10-08T12:15:04.774Z"
   },
   {
    "duration": 182,
    "start_time": "2023-10-08T12:15:04.830Z"
   },
   {
    "duration": 20,
    "start_time": "2023-10-08T12:15:05.014Z"
   },
   {
    "duration": 73,
    "start_time": "2023-10-08T12:15:05.035Z"
   },
   {
    "duration": 49,
    "start_time": "2023-10-08T12:15:05.110Z"
   },
   {
    "duration": 13,
    "start_time": "2023-10-08T12:15:05.162Z"
   },
   {
    "duration": 61,
    "start_time": "2023-10-08T12:15:05.176Z"
   },
   {
    "duration": 190,
    "start_time": "2023-10-08T12:15:05.240Z"
   },
   {
    "duration": 21,
    "start_time": "2023-10-08T12:15:05.432Z"
   },
   {
    "duration": 84,
    "start_time": "2023-10-08T12:15:05.465Z"
   },
   {
    "duration": 52,
    "start_time": "2023-10-08T12:15:05.551Z"
   },
   {
    "duration": 8,
    "start_time": "2023-10-08T12:15:05.606Z"
   },
   {
    "duration": 81,
    "start_time": "2023-10-08T12:15:05.616Z"
   },
   {
    "duration": 28,
    "start_time": "2023-10-08T12:15:05.699Z"
   },
   {
    "duration": 132,
    "start_time": "2023-10-08T12:15:05.729Z"
   },
   {
    "duration": 113,
    "start_time": "2023-10-08T12:15:05.863Z"
   },
   {
    "duration": 110,
    "start_time": "2023-10-08T12:15:06.056Z"
   },
   {
    "duration": 82,
    "start_time": "2023-10-08T12:15:13.091Z"
   },
   {
    "duration": 5,
    "start_time": "2023-10-08T13:48:09.365Z"
   },
   {
    "duration": 177,
    "start_time": "2023-10-08T13:48:09.372Z"
   },
   {
    "duration": 16,
    "start_time": "2023-10-08T13:48:09.551Z"
   },
   {
    "duration": 56,
    "start_time": "2023-10-08T13:48:09.569Z"
   },
   {
    "duration": 54,
    "start_time": "2023-10-08T13:48:09.628Z"
   },
   {
    "duration": 8,
    "start_time": "2023-10-08T13:48:09.684Z"
   },
   {
    "duration": 76,
    "start_time": "2023-10-08T13:48:09.694Z"
   },
   {
    "duration": 153,
    "start_time": "2023-10-08T13:48:09.772Z"
   },
   {
    "duration": 31,
    "start_time": "2023-10-08T13:48:09.927Z"
   },
   {
    "duration": 51,
    "start_time": "2023-10-08T13:48:09.960Z"
   },
   {
    "duration": 59,
    "start_time": "2023-10-08T13:48:10.013Z"
   },
   {
    "duration": 8,
    "start_time": "2023-10-08T13:48:10.075Z"
   },
   {
    "duration": 75,
    "start_time": "2023-10-08T13:48:10.085Z"
   },
   {
    "duration": 161,
    "start_time": "2023-10-08T13:48:10.164Z"
   },
   {
    "duration": 32,
    "start_time": "2023-10-08T13:48:10.328Z"
   },
   {
    "duration": 78,
    "start_time": "2023-10-08T13:48:10.362Z"
   },
   {
    "duration": 42,
    "start_time": "2023-10-08T13:48:10.442Z"
   },
   {
    "duration": 8,
    "start_time": "2023-10-08T13:48:10.486Z"
   },
   {
    "duration": 75,
    "start_time": "2023-10-08T13:48:10.496Z"
   },
   {
    "duration": 26,
    "start_time": "2023-10-08T13:48:10.573Z"
   },
   {
    "duration": 61,
    "start_time": "2023-10-08T13:48:10.601Z"
   },
   {
    "duration": 193,
    "start_time": "2023-10-08T13:48:10.665Z"
   },
   {
    "duration": 201,
    "start_time": "2023-10-08T13:48:10.861Z"
   },
   {
    "duration": 91,
    "start_time": "2023-10-08T13:48:11.067Z"
   },
   {
    "duration": 26,
    "start_time": "2023-10-08T13:48:11.159Z"
   },
   {
    "duration": 7,
    "start_time": "2023-10-08T13:48:11.187Z"
   },
   {
    "duration": 20,
    "start_time": "2023-10-08T13:51:37.209Z"
   },
   {
    "duration": 12,
    "start_time": "2023-10-08T13:52:24.107Z"
   },
   {
    "duration": 5,
    "start_time": "2023-10-08T13:54:13.480Z"
   },
   {
    "duration": 185,
    "start_time": "2023-10-08T13:54:13.487Z"
   },
   {
    "duration": 18,
    "start_time": "2023-10-08T13:54:13.674Z"
   },
   {
    "duration": 75,
    "start_time": "2023-10-08T13:54:13.694Z"
   },
   {
    "duration": 42,
    "start_time": "2023-10-08T13:54:13.771Z"
   },
   {
    "duration": 7,
    "start_time": "2023-10-08T13:54:13.815Z"
   },
   {
    "duration": 85,
    "start_time": "2023-10-08T13:54:13.824Z"
   },
   {
    "duration": 150,
    "start_time": "2023-10-08T13:54:13.911Z"
   },
   {
    "duration": 18,
    "start_time": "2023-10-08T13:54:14.063Z"
   },
   {
    "duration": 50,
    "start_time": "2023-10-08T13:54:14.083Z"
   },
   {
    "duration": 66,
    "start_time": "2023-10-08T13:54:14.135Z"
   },
   {
    "duration": 6,
    "start_time": "2023-10-08T13:54:14.203Z"
   },
   {
    "duration": 48,
    "start_time": "2023-10-08T13:54:14.211Z"
   },
   {
    "duration": 159,
    "start_time": "2023-10-08T13:54:14.263Z"
   },
   {
    "duration": 32,
    "start_time": "2023-10-08T13:54:14.425Z"
   },
   {
    "duration": 52,
    "start_time": "2023-10-08T13:54:14.459Z"
   },
   {
    "duration": 59,
    "start_time": "2023-10-08T13:54:14.513Z"
   },
   {
    "duration": 7,
    "start_time": "2023-10-08T13:54:14.573Z"
   },
   {
    "duration": 75,
    "start_time": "2023-10-08T13:54:14.582Z"
   },
   {
    "duration": 36,
    "start_time": "2023-10-08T13:54:14.659Z"
   },
   {
    "duration": 69,
    "start_time": "2023-10-08T13:54:14.698Z"
   },
   {
    "duration": 102,
    "start_time": "2023-10-08T13:54:14.769Z"
   },
   {
    "duration": 185,
    "start_time": "2023-10-08T13:54:14.875Z"
   },
   {
    "duration": 94,
    "start_time": "2023-10-08T13:54:15.063Z"
   },
   {
    "duration": 25,
    "start_time": "2023-10-08T13:54:15.160Z"
   },
   {
    "duration": 25,
    "start_time": "2023-10-08T13:54:15.187Z"
   },
   {
    "duration": 38,
    "start_time": "2023-10-08T13:54:15.214Z"
   },
   {
    "duration": 13,
    "start_time": "2023-10-08T13:55:11.422Z"
   },
   {
    "duration": 6,
    "start_time": "2023-10-08T14:01:00.914Z"
   },
   {
    "duration": 269,
    "start_time": "2023-10-08T14:01:00.922Z"
   },
   {
    "duration": 17,
    "start_time": "2023-10-08T14:01:01.192Z"
   },
   {
    "duration": 218,
    "start_time": "2023-10-08T14:01:01.211Z"
   },
   {
    "duration": 42,
    "start_time": "2023-10-08T14:01:01.432Z"
   },
   {
    "duration": 28,
    "start_time": "2023-10-08T14:01:01.476Z"
   },
   {
    "duration": 132,
    "start_time": "2023-10-08T14:01:01.506Z"
   },
   {
    "duration": 172,
    "start_time": "2023-10-08T14:01:01.641Z"
   },
   {
    "duration": 17,
    "start_time": "2023-10-08T14:01:01.815Z"
   },
   {
    "duration": 218,
    "start_time": "2023-10-08T14:01:01.834Z"
   },
   {
    "duration": 43,
    "start_time": "2023-10-08T14:01:02.053Z"
   },
   {
    "duration": 11,
    "start_time": "2023-10-08T14:01:02.098Z"
   },
   {
    "duration": 56,
    "start_time": "2023-10-08T14:01:02.111Z"
   },
   {
    "duration": 202,
    "start_time": "2023-10-08T14:01:02.170Z"
   },
   {
    "duration": 20,
    "start_time": "2023-10-08T14:01:02.374Z"
   },
   {
    "duration": 90,
    "start_time": "2023-10-08T14:01:02.396Z"
   },
   {
    "duration": 41,
    "start_time": "2023-10-08T14:01:02.488Z"
   },
   {
    "duration": 25,
    "start_time": "2023-10-08T14:01:02.531Z"
   },
   {
    "duration": 79,
    "start_time": "2023-10-08T14:01:02.558Z"
   },
   {
    "duration": 26,
    "start_time": "2023-10-08T14:01:02.639Z"
   },
   {
    "duration": 92,
    "start_time": "2023-10-08T14:01:02.667Z"
   },
   {
    "duration": 108,
    "start_time": "2023-10-08T14:01:02.761Z"
   },
   {
    "duration": 286,
    "start_time": "2023-10-08T14:01:02.871Z"
   },
   {
    "duration": 166,
    "start_time": "2023-10-08T14:01:03.160Z"
   },
   {
    "duration": 106,
    "start_time": "2023-10-08T14:01:03.328Z"
   },
   {
    "duration": 24,
    "start_time": "2023-10-08T14:01:03.436Z"
   },
   {
    "duration": 38,
    "start_time": "2023-10-08T14:01:03.462Z"
   },
   {
    "duration": 5,
    "start_time": "2023-10-08T14:01:58.125Z"
   },
   {
    "duration": 239,
    "start_time": "2023-10-08T14:01:58.132Z"
   },
   {
    "duration": 16,
    "start_time": "2023-10-08T14:01:58.373Z"
   },
   {
    "duration": 72,
    "start_time": "2023-10-08T14:01:58.391Z"
   },
   {
    "duration": 41,
    "start_time": "2023-10-08T14:01:58.466Z"
   },
   {
    "duration": 32,
    "start_time": "2023-10-08T14:01:58.509Z"
   },
   {
    "duration": 31,
    "start_time": "2023-10-08T14:01:58.543Z"
   },
   {
    "duration": 182,
    "start_time": "2023-10-08T14:01:58.576Z"
   },
   {
    "duration": 16,
    "start_time": "2023-10-08T14:01:58.760Z"
   },
   {
    "duration": 80,
    "start_time": "2023-10-08T14:01:58.778Z"
   },
   {
    "duration": 51,
    "start_time": "2023-10-08T14:01:58.860Z"
   },
   {
    "duration": 7,
    "start_time": "2023-10-08T14:01:58.914Z"
   },
   {
    "duration": 47,
    "start_time": "2023-10-08T14:01:58.923Z"
   },
   {
    "duration": 175,
    "start_time": "2023-10-08T14:01:58.974Z"
   },
   {
    "duration": 19,
    "start_time": "2023-10-08T14:01:59.151Z"
   },
   {
    "duration": 83,
    "start_time": "2023-10-08T14:01:59.172Z"
   },
   {
    "duration": 41,
    "start_time": "2023-10-08T14:01:59.257Z"
   },
   {
    "duration": 14,
    "start_time": "2023-10-08T14:01:59.301Z"
   },
   {
    "duration": 85,
    "start_time": "2023-10-08T14:01:59.317Z"
   },
   {
    "duration": 47,
    "start_time": "2023-10-08T14:01:59.404Z"
   },
   {
    "duration": 54,
    "start_time": "2023-10-08T14:01:59.453Z"
   },
   {
    "duration": 111,
    "start_time": "2023-10-08T14:01:59.555Z"
   },
   {
    "duration": 293,
    "start_time": "2023-10-08T14:01:59.669Z"
   },
   {
    "duration": 93,
    "start_time": "2023-10-08T14:01:59.965Z"
   },
   {
    "duration": 73,
    "start_time": "2023-10-08T14:02:00.060Z"
   },
   {
    "duration": 41,
    "start_time": "2023-10-08T14:02:00.135Z"
   },
   {
    "duration": 56,
    "start_time": "2023-10-08T14:02:00.178Z"
   },
   {
    "duration": 5,
    "start_time": "2023-10-08T14:02:14.189Z"
   },
   {
    "duration": 199,
    "start_time": "2023-10-08T14:02:14.196Z"
   },
   {
    "duration": 16,
    "start_time": "2023-10-08T14:02:14.396Z"
   },
   {
    "duration": 66,
    "start_time": "2023-10-08T14:02:14.414Z"
   },
   {
    "duration": 37,
    "start_time": "2023-10-08T14:02:14.483Z"
   },
   {
    "duration": 20,
    "start_time": "2023-10-08T14:02:14.522Z"
   },
   {
    "duration": 67,
    "start_time": "2023-10-08T14:02:14.544Z"
   },
   {
    "duration": 161,
    "start_time": "2023-10-08T14:02:14.613Z"
   },
   {
    "duration": 16,
    "start_time": "2023-10-08T14:02:14.776Z"
   },
   {
    "duration": 74,
    "start_time": "2023-10-08T14:02:14.794Z"
   },
   {
    "duration": 47,
    "start_time": "2023-10-08T14:02:14.870Z"
   },
   {
    "duration": 5,
    "start_time": "2023-10-08T14:02:14.920Z"
   },
   {
    "duration": 37,
    "start_time": "2023-10-08T14:02:14.927Z"
   },
   {
    "duration": 191,
    "start_time": "2023-10-08T14:02:14.967Z"
   },
   {
    "duration": 17,
    "start_time": "2023-10-08T14:02:15.160Z"
   },
   {
    "duration": 58,
    "start_time": "2023-10-08T14:02:15.179Z"
   },
   {
    "duration": 58,
    "start_time": "2023-10-08T14:02:15.238Z"
   },
   {
    "duration": 8,
    "start_time": "2023-10-08T14:02:15.298Z"
   },
   {
    "duration": 80,
    "start_time": "2023-10-08T14:02:15.307Z"
   },
   {
    "duration": 24,
    "start_time": "2023-10-08T14:02:15.389Z"
   },
   {
    "duration": 46,
    "start_time": "2023-10-08T14:02:15.415Z"
   },
   {
    "duration": 105,
    "start_time": "2023-10-08T14:02:15.464Z"
   },
   {
    "duration": 287,
    "start_time": "2023-10-08T14:02:15.571Z"
   },
   {
    "duration": 96,
    "start_time": "2023-10-08T14:02:15.861Z"
   },
   {
    "duration": 3,
    "start_time": "2023-10-08T14:02:15.959Z"
   },
   {
    "duration": 22,
    "start_time": "2023-10-08T14:02:15.964Z"
   },
   {
    "duration": 26,
    "start_time": "2023-10-08T14:02:15.988Z"
   },
   {
    "duration": 3,
    "start_time": "2023-10-08T14:02:55.090Z"
   },
   {
    "duration": 14,
    "start_time": "2023-10-08T14:02:55.661Z"
   },
   {
    "duration": 1452,
    "start_time": "2023-10-08T14:03:05.453Z"
   },
   {
    "duration": 1499,
    "start_time": "2023-10-08T14:07:36.550Z"
   },
   {
    "duration": 1439,
    "start_time": "2023-10-08T14:09:42.942Z"
   },
   {
    "duration": 1426,
    "start_time": "2023-10-08T14:11:34.213Z"
   },
   {
    "duration": 5,
    "start_time": "2023-10-08T14:12:10.370Z"
   },
   {
    "duration": 176,
    "start_time": "2023-10-08T14:12:10.377Z"
   },
   {
    "duration": 15,
    "start_time": "2023-10-08T14:12:10.555Z"
   },
   {
    "duration": 61,
    "start_time": "2023-10-08T14:12:10.572Z"
   },
   {
    "duration": 57,
    "start_time": "2023-10-08T14:12:10.635Z"
   },
   {
    "duration": 6,
    "start_time": "2023-10-08T14:12:10.693Z"
   },
   {
    "duration": 37,
    "start_time": "2023-10-08T14:12:10.701Z"
   },
   {
    "duration": 160,
    "start_time": "2023-10-08T14:12:10.740Z"
   },
   {
    "duration": 17,
    "start_time": "2023-10-08T14:12:10.902Z"
   },
   {
    "duration": 70,
    "start_time": "2023-10-08T14:12:10.922Z"
   },
   {
    "duration": 43,
    "start_time": "2023-10-08T14:12:10.995Z"
   },
   {
    "duration": 6,
    "start_time": "2023-10-08T14:12:11.056Z"
   },
   {
    "duration": 30,
    "start_time": "2023-10-08T14:12:11.064Z"
   },
   {
    "duration": 158,
    "start_time": "2023-10-08T14:12:11.098Z"
   },
   {
    "duration": 18,
    "start_time": "2023-10-08T14:12:11.259Z"
   },
   {
    "duration": 79,
    "start_time": "2023-10-08T14:12:11.280Z"
   },
   {
    "duration": 44,
    "start_time": "2023-10-08T14:12:11.361Z"
   },
   {
    "duration": 7,
    "start_time": "2023-10-08T14:12:11.407Z"
   },
   {
    "duration": 84,
    "start_time": "2023-10-08T14:12:11.416Z"
   },
   {
    "duration": 23,
    "start_time": "2023-10-08T14:12:11.502Z"
   },
   {
    "duration": 128,
    "start_time": "2023-10-08T14:12:11.528Z"
   },
   {
    "duration": 106,
    "start_time": "2023-10-08T14:12:11.659Z"
   },
   {
    "duration": 291,
    "start_time": "2023-10-08T14:12:11.768Z"
   },
   {
    "duration": 5,
    "start_time": "2023-10-08T14:12:12.061Z"
   },
   {
    "duration": 88,
    "start_time": "2023-10-08T14:12:12.069Z"
   },
   {
    "duration": 21,
    "start_time": "2023-10-08T14:12:12.159Z"
   },
   {
    "duration": 1475,
    "start_time": "2023-10-08T14:12:12.182Z"
   },
   {
    "duration": 14,
    "start_time": "2023-10-08T14:13:07.365Z"
   },
   {
    "duration": 5,
    "start_time": "2023-10-08T14:13:37.520Z"
   },
   {
    "duration": 194,
    "start_time": "2023-10-08T14:13:37.527Z"
   },
   {
    "duration": 16,
    "start_time": "2023-10-08T14:13:37.723Z"
   },
   {
    "duration": 51,
    "start_time": "2023-10-08T14:13:37.757Z"
   },
   {
    "duration": 58,
    "start_time": "2023-10-08T14:13:37.810Z"
   },
   {
    "duration": 5,
    "start_time": "2023-10-08T14:13:37.871Z"
   },
   {
    "duration": 23,
    "start_time": "2023-10-08T14:13:37.878Z"
   },
   {
    "duration": 170,
    "start_time": "2023-10-08T14:13:37.902Z"
   },
   {
    "duration": 19,
    "start_time": "2023-10-08T14:13:38.075Z"
   },
   {
    "duration": 67,
    "start_time": "2023-10-08T14:13:38.096Z"
   },
   {
    "duration": 44,
    "start_time": "2023-10-08T14:13:38.166Z"
   },
   {
    "duration": 5,
    "start_time": "2023-10-08T14:13:38.212Z"
   },
   {
    "duration": 44,
    "start_time": "2023-10-08T14:13:38.219Z"
   },
   {
    "duration": 158,
    "start_time": "2023-10-08T14:13:38.266Z"
   },
   {
    "duration": 31,
    "start_time": "2023-10-08T14:13:38.426Z"
   },
   {
    "duration": 65,
    "start_time": "2023-10-08T14:13:38.459Z"
   },
   {
    "duration": 46,
    "start_time": "2023-10-08T14:13:38.526Z"
   },
   {
    "duration": 7,
    "start_time": "2023-10-08T14:13:38.574Z"
   },
   {
    "duration": 57,
    "start_time": "2023-10-08T14:13:38.582Z"
   },
   {
    "duration": 26,
    "start_time": "2023-10-08T14:13:38.659Z"
   },
   {
    "duration": 73,
    "start_time": "2023-10-08T14:13:38.687Z"
   },
   {
    "duration": 107,
    "start_time": "2023-10-08T14:13:38.762Z"
   },
   {
    "duration": 188,
    "start_time": "2023-10-08T14:13:38.872Z"
   },
   {
    "duration": 3,
    "start_time": "2023-10-08T14:13:39.063Z"
   },
   {
    "duration": 9,
    "start_time": "2023-10-08T14:13:39.158Z"
   },
   {
    "duration": 15,
    "start_time": "2023-10-08T14:13:39.169Z"
   },
   {
    "duration": 1440,
    "start_time": "2023-10-08T14:13:39.186Z"
   },
   {
    "duration": 1481,
    "start_time": "2023-10-08T14:13:40.628Z"
   },
   {
    "duration": 6,
    "start_time": "2023-10-08T14:14:35.016Z"
   },
   {
    "duration": 195,
    "start_time": "2023-10-08T14:14:35.024Z"
   },
   {
    "duration": 15,
    "start_time": "2023-10-08T14:14:35.221Z"
   },
   {
    "duration": 67,
    "start_time": "2023-10-08T14:14:35.238Z"
   },
   {
    "duration": 48,
    "start_time": "2023-10-08T14:14:35.308Z"
   },
   {
    "duration": 5,
    "start_time": "2023-10-08T14:14:35.358Z"
   },
   {
    "duration": 35,
    "start_time": "2023-10-08T14:14:35.364Z"
   },
   {
    "duration": 178,
    "start_time": "2023-10-08T14:14:35.401Z"
   },
   {
    "duration": 17,
    "start_time": "2023-10-08T14:14:35.581Z"
   },
   {
    "duration": 70,
    "start_time": "2023-10-08T14:14:35.600Z"
   },
   {
    "duration": 40,
    "start_time": "2023-10-08T14:14:35.672Z"
   },
   {
    "duration": 5,
    "start_time": "2023-10-08T14:14:35.714Z"
   },
   {
    "duration": 42,
    "start_time": "2023-10-08T14:14:35.721Z"
   },
   {
    "duration": 163,
    "start_time": "2023-10-08T14:14:35.766Z"
   },
   {
    "duration": 16,
    "start_time": "2023-10-08T14:14:35.931Z"
   },
   {
    "duration": 54,
    "start_time": "2023-10-08T14:14:35.956Z"
   },
   {
    "duration": 54,
    "start_time": "2023-10-08T14:14:36.011Z"
   },
   {
    "duration": 7,
    "start_time": "2023-10-08T14:14:36.067Z"
   },
   {
    "duration": 80,
    "start_time": "2023-10-08T14:14:36.076Z"
   },
   {
    "duration": 24,
    "start_time": "2023-10-08T14:14:36.158Z"
   },
   {
    "duration": 18,
    "start_time": "2023-10-08T14:14:36.184Z"
   },
   {
    "duration": 103,
    "start_time": "2023-10-08T14:14:36.260Z"
   },
   {
    "duration": 292,
    "start_time": "2023-10-08T14:14:36.368Z"
   },
   {
    "duration": 4,
    "start_time": "2023-10-08T14:14:36.662Z"
   },
   {
    "duration": 8,
    "start_time": "2023-10-08T14:14:36.668Z"
   },
   {
    "duration": 80,
    "start_time": "2023-10-08T14:14:36.678Z"
   },
   {
    "duration": 1489,
    "start_time": "2023-10-08T14:14:36.760Z"
   },
   {
    "duration": 1472,
    "start_time": "2023-10-08T14:14:38.256Z"
   },
   {
    "duration": 85,
    "start_time": "2023-10-08T14:16:21.677Z"
   },
   {
    "duration": 6,
    "start_time": "2023-10-08T14:16:42.125Z"
   },
   {
    "duration": 174,
    "start_time": "2023-10-08T14:16:42.133Z"
   },
   {
    "duration": 17,
    "start_time": "2023-10-08T14:16:42.309Z"
   },
   {
    "duration": 70,
    "start_time": "2023-10-08T14:16:42.329Z"
   },
   {
    "duration": 57,
    "start_time": "2023-10-08T14:16:42.401Z"
   },
   {
    "duration": 5,
    "start_time": "2023-10-08T14:16:42.460Z"
   },
   {
    "duration": 21,
    "start_time": "2023-10-08T14:16:42.467Z"
   },
   {
    "duration": 177,
    "start_time": "2023-10-08T14:16:42.489Z"
   },
   {
    "duration": 16,
    "start_time": "2023-10-08T14:16:42.668Z"
   },
   {
    "duration": 72,
    "start_time": "2023-10-08T14:16:42.687Z"
   },
   {
    "duration": 43,
    "start_time": "2023-10-08T14:16:42.761Z"
   },
   {
    "duration": 5,
    "start_time": "2023-10-08T14:16:42.805Z"
   },
   {
    "duration": 43,
    "start_time": "2023-10-08T14:16:42.813Z"
   },
   {
    "duration": 155,
    "start_time": "2023-10-08T14:16:42.859Z"
   },
   {
    "duration": 16,
    "start_time": "2023-10-08T14:16:43.016Z"
   },
   {
    "duration": 258,
    "start_time": "2023-10-08T14:16:43.034Z"
   },
   {
    "duration": 126,
    "start_time": "2023-10-08T14:16:43.294Z"
   },
   {
    "duration": 7,
    "start_time": "2023-10-08T14:16:43.422Z"
   },
   {
    "duration": 73,
    "start_time": "2023-10-08T14:16:43.431Z"
   },
   {
    "duration": 24,
    "start_time": "2023-10-08T14:16:43.506Z"
   },
   {
    "duration": 36,
    "start_time": "2023-10-08T14:16:43.532Z"
   },
   {
    "duration": 104,
    "start_time": "2023-10-08T14:16:43.658Z"
   },
   {
    "duration": 293,
    "start_time": "2023-10-08T14:16:43.764Z"
   },
   {
    "duration": 3,
    "start_time": "2023-10-08T14:16:44.059Z"
   },
   {
    "duration": 9,
    "start_time": "2023-10-08T14:16:44.064Z"
   },
   {
    "duration": 19,
    "start_time": "2023-10-08T14:16:44.075Z"
   },
   {
    "duration": 1423,
    "start_time": "2023-10-08T14:16:44.096Z"
   },
   {
    "duration": 1475,
    "start_time": "2023-10-08T14:16:45.522Z"
   },
   {
    "duration": 5,
    "start_time": "2023-10-08T14:17:26.091Z"
   },
   {
    "duration": 182,
    "start_time": "2023-10-08T14:17:26.099Z"
   },
   {
    "duration": 18,
    "start_time": "2023-10-08T14:17:26.284Z"
   },
   {
    "duration": 69,
    "start_time": "2023-10-08T14:17:26.305Z"
   },
   {
    "duration": 41,
    "start_time": "2023-10-08T14:17:26.378Z"
   },
   {
    "duration": 5,
    "start_time": "2023-10-08T14:17:26.422Z"
   },
   {
    "duration": 46,
    "start_time": "2023-10-08T14:17:26.429Z"
   },
   {
    "duration": 180,
    "start_time": "2023-10-08T14:17:26.477Z"
   },
   {
    "duration": 17,
    "start_time": "2023-10-08T14:17:26.660Z"
   },
   {
    "duration": 59,
    "start_time": "2023-10-08T14:17:26.679Z"
   },
   {
    "duration": 53,
    "start_time": "2023-10-08T14:17:26.740Z"
   },
   {
    "duration": 5,
    "start_time": "2023-10-08T14:17:26.794Z"
   },
   {
    "duration": 51,
    "start_time": "2023-10-08T14:17:26.801Z"
   },
   {
    "duration": 216,
    "start_time": "2023-10-08T14:17:26.855Z"
   },
   {
    "duration": 23,
    "start_time": "2023-10-08T14:17:27.073Z"
   },
   {
    "duration": 86,
    "start_time": "2023-10-08T14:17:27.099Z"
   },
   {
    "duration": 43,
    "start_time": "2023-10-08T14:17:27.188Z"
   },
   {
    "duration": 24,
    "start_time": "2023-10-08T14:17:27.233Z"
   },
   {
    "duration": 70,
    "start_time": "2023-10-08T14:17:27.259Z"
   },
   {
    "duration": 41,
    "start_time": "2023-10-08T14:17:27.331Z"
   },
   {
    "duration": 17,
    "start_time": "2023-10-08T14:17:27.374Z"
   },
   {
    "duration": 191,
    "start_time": "2023-10-08T14:17:27.393Z"
   },
   {
    "duration": 270,
    "start_time": "2023-10-08T14:17:27.589Z"
   },
   {
    "duration": 3,
    "start_time": "2023-10-08T14:17:27.861Z"
   },
   {
    "duration": 29,
    "start_time": "2023-10-08T14:17:27.866Z"
   },
   {
    "duration": 26,
    "start_time": "2023-10-08T14:17:27.897Z"
   },
   {
    "duration": 1615,
    "start_time": "2023-10-08T14:17:27.925Z"
   },
   {
    "duration": 1553,
    "start_time": "2023-10-08T14:17:29.542Z"
   },
   {
    "duration": 2054,
    "start_time": "2023-10-08T14:18:43.219Z"
   },
   {
    "duration": 1514,
    "start_time": "2023-10-08T14:19:48.076Z"
   },
   {
    "duration": 6,
    "start_time": "2023-10-08T14:20:08.909Z"
   },
   {
    "duration": 174,
    "start_time": "2023-10-08T14:20:08.917Z"
   },
   {
    "duration": 16,
    "start_time": "2023-10-08T14:20:09.092Z"
   },
   {
    "duration": 70,
    "start_time": "2023-10-08T14:20:09.110Z"
   },
   {
    "duration": 44,
    "start_time": "2023-10-08T14:20:09.182Z"
   },
   {
    "duration": 11,
    "start_time": "2023-10-08T14:20:09.228Z"
   },
   {
    "duration": 51,
    "start_time": "2023-10-08T14:20:09.241Z"
   },
   {
    "duration": 171,
    "start_time": "2023-10-08T14:20:09.294Z"
   },
   {
    "duration": 18,
    "start_time": "2023-10-08T14:20:09.468Z"
   },
   {
    "duration": 72,
    "start_time": "2023-10-08T14:20:09.488Z"
   },
   {
    "duration": 43,
    "start_time": "2023-10-08T14:20:09.563Z"
   },
   {
    "duration": 4,
    "start_time": "2023-10-08T14:20:09.608Z"
   },
   {
    "duration": 39,
    "start_time": "2023-10-08T14:20:09.614Z"
   },
   {
    "duration": 159,
    "start_time": "2023-10-08T14:20:09.657Z"
   },
   {
    "duration": 17,
    "start_time": "2023-10-08T14:20:09.818Z"
   },
   {
    "duration": 68,
    "start_time": "2023-10-08T14:20:09.837Z"
   },
   {
    "duration": 57,
    "start_time": "2023-10-08T14:20:09.907Z"
   },
   {
    "duration": 7,
    "start_time": "2023-10-08T14:20:09.966Z"
   },
   {
    "duration": 62,
    "start_time": "2023-10-08T14:20:09.975Z"
   },
   {
    "duration": 36,
    "start_time": "2023-10-08T14:20:10.039Z"
   },
   {
    "duration": 79,
    "start_time": "2023-10-08T14:20:10.077Z"
   },
   {
    "duration": 132,
    "start_time": "2023-10-08T14:20:10.159Z"
   },
   {
    "duration": 264,
    "start_time": "2023-10-08T14:20:10.294Z"
   },
   {
    "duration": 3,
    "start_time": "2023-10-08T14:20:10.560Z"
   },
   {
    "duration": 27,
    "start_time": "2023-10-08T14:20:10.565Z"
   },
   {
    "duration": 12,
    "start_time": "2023-10-08T14:20:10.594Z"
   },
   {
    "duration": 1484,
    "start_time": "2023-10-08T14:20:10.607Z"
   },
   {
    "duration": 1466,
    "start_time": "2023-10-08T14:20:12.092Z"
   },
   {
    "duration": 2113,
    "start_time": "2023-10-08T14:20:13.560Z"
   },
   {
    "duration": 1461,
    "start_time": "2023-10-08T14:20:45.064Z"
   },
   {
    "duration": 5,
    "start_time": "2023-10-08T15:02:28.167Z"
   },
   {
    "duration": 189,
    "start_time": "2023-10-08T15:02:28.183Z"
   },
   {
    "duration": 17,
    "start_time": "2023-10-08T15:02:28.374Z"
   },
   {
    "duration": 67,
    "start_time": "2023-10-08T15:02:28.393Z"
   },
   {
    "duration": 42,
    "start_time": "2023-10-08T15:02:28.462Z"
   },
   {
    "duration": 12,
    "start_time": "2023-10-08T15:02:28.506Z"
   },
   {
    "duration": 34,
    "start_time": "2023-10-08T15:02:28.520Z"
   },
   {
    "duration": 209,
    "start_time": "2023-10-08T15:02:28.556Z"
   },
   {
    "duration": 17,
    "start_time": "2023-10-08T15:02:28.767Z"
   },
   {
    "duration": 132,
    "start_time": "2023-10-08T15:02:28.786Z"
   },
   {
    "duration": 58,
    "start_time": "2023-10-08T15:02:28.921Z"
   },
   {
    "duration": 5,
    "start_time": "2023-10-08T15:02:28.981Z"
   },
   {
    "duration": 90,
    "start_time": "2023-10-08T15:02:28.988Z"
   },
   {
    "duration": 247,
    "start_time": "2023-10-08T15:02:29.080Z"
   },
   {
    "duration": 26,
    "start_time": "2023-10-08T15:02:29.330Z"
   },
   {
    "duration": 90,
    "start_time": "2023-10-08T15:02:29.359Z"
   },
   {
    "duration": 46,
    "start_time": "2023-10-08T15:02:29.451Z"
   },
   {
    "duration": 7,
    "start_time": "2023-10-08T15:02:29.499Z"
   },
   {
    "duration": 81,
    "start_time": "2023-10-08T15:02:29.508Z"
   },
   {
    "duration": 24,
    "start_time": "2023-10-08T15:02:29.592Z"
   },
   {
    "duration": 52,
    "start_time": "2023-10-08T15:02:29.618Z"
   },
   {
    "duration": 29,
    "start_time": "2023-10-08T15:02:29.757Z"
   },
   {
    "duration": 366,
    "start_time": "2023-10-08T15:02:29.789Z"
   },
   {
    "duration": 3,
    "start_time": "2023-10-08T15:02:30.158Z"
   },
   {
    "duration": 47,
    "start_time": "2023-10-08T15:02:30.163Z"
   },
   {
    "duration": 52,
    "start_time": "2023-10-08T15:02:30.212Z"
   },
   {
    "duration": 2416,
    "start_time": "2023-10-08T15:02:30.266Z"
   },
   {
    "duration": 1489,
    "start_time": "2023-10-08T15:02:32.684Z"
   },
   {
    "duration": 2111,
    "start_time": "2023-10-08T15:02:34.175Z"
   },
   {
    "duration": 1521,
    "start_time": "2023-10-08T15:02:58.748Z"
   },
   {
    "duration": 7,
    "start_time": "2023-10-08T15:06:38.050Z"
   },
   {
    "duration": 200,
    "start_time": "2023-10-08T15:06:38.060Z"
   },
   {
    "duration": 22,
    "start_time": "2023-10-08T15:06:38.263Z"
   },
   {
    "duration": 98,
    "start_time": "2023-10-08T15:06:38.288Z"
   },
   {
    "duration": 43,
    "start_time": "2023-10-08T15:06:38.389Z"
   },
   {
    "duration": 26,
    "start_time": "2023-10-08T15:06:38.434Z"
   },
   {
    "duration": 39,
    "start_time": "2023-10-08T15:06:38.462Z"
   },
   {
    "duration": 199,
    "start_time": "2023-10-08T15:06:38.503Z"
   },
   {
    "duration": 19,
    "start_time": "2023-10-08T15:06:38.703Z"
   },
   {
    "duration": 106,
    "start_time": "2023-10-08T15:06:38.727Z"
   },
   {
    "duration": 63,
    "start_time": "2023-10-08T15:06:38.835Z"
   },
   {
    "duration": 6,
    "start_time": "2023-10-08T15:06:38.901Z"
   },
   {
    "duration": 33,
    "start_time": "2023-10-08T15:06:38.910Z"
   },
   {
    "duration": 229,
    "start_time": "2023-10-08T15:06:38.946Z"
   },
   {
    "duration": 19,
    "start_time": "2023-10-08T15:06:39.177Z"
   },
   {
    "duration": 72,
    "start_time": "2023-10-08T15:06:39.198Z"
   },
   {
    "duration": 41,
    "start_time": "2023-10-08T15:06:39.272Z"
   },
   {
    "duration": 7,
    "start_time": "2023-10-08T15:06:39.315Z"
   },
   {
    "duration": 78,
    "start_time": "2023-10-08T15:06:39.323Z"
   },
   {
    "duration": 22,
    "start_time": "2023-10-08T15:06:39.403Z"
   },
   {
    "duration": 33,
    "start_time": "2023-10-08T15:06:39.427Z"
   },
   {
    "duration": 98,
    "start_time": "2023-10-08T15:06:39.462Z"
   },
   {
    "duration": 110,
    "start_time": "2023-10-08T15:06:39.562Z"
   },
   {
    "duration": 3,
    "start_time": "2023-10-08T15:06:39.759Z"
   },
   {
    "duration": 5,
    "start_time": "2023-10-08T15:06:39.765Z"
   },
   {
    "duration": 90,
    "start_time": "2023-10-08T15:06:39.772Z"
   },
   {
    "duration": 1519,
    "start_time": "2023-10-08T15:06:39.865Z"
   },
   {
    "duration": 1508,
    "start_time": "2023-10-08T15:06:41.388Z"
   },
   {
    "duration": 0,
    "start_time": "2023-10-08T15:06:42.898Z"
   },
   {
    "duration": 1512,
    "start_time": "2023-10-08T15:06:50.498Z"
   },
   {
    "duration": 6,
    "start_time": "2023-10-08T15:08:27.559Z"
   },
   {
    "duration": 200,
    "start_time": "2023-10-08T15:08:27.567Z"
   },
   {
    "duration": 16,
    "start_time": "2023-10-08T15:08:27.769Z"
   },
   {
    "duration": 71,
    "start_time": "2023-10-08T15:08:27.787Z"
   },
   {
    "duration": 49,
    "start_time": "2023-10-08T15:08:27.861Z"
   },
   {
    "duration": 6,
    "start_time": "2023-10-08T15:08:27.911Z"
   },
   {
    "duration": 39,
    "start_time": "2023-10-08T15:08:27.919Z"
   },
   {
    "duration": 192,
    "start_time": "2023-10-08T15:08:27.960Z"
   },
   {
    "duration": 17,
    "start_time": "2023-10-08T15:08:28.154Z"
   },
   {
    "duration": 60,
    "start_time": "2023-10-08T15:08:28.173Z"
   },
   {
    "duration": 63,
    "start_time": "2023-10-08T15:08:28.235Z"
   },
   {
    "duration": 5,
    "start_time": "2023-10-08T15:08:28.300Z"
   },
   {
    "duration": 29,
    "start_time": "2023-10-08T15:08:28.307Z"
   },
   {
    "duration": 164,
    "start_time": "2023-10-08T15:08:28.357Z"
   },
   {
    "duration": 16,
    "start_time": "2023-10-08T15:08:28.524Z"
   },
   {
    "duration": 91,
    "start_time": "2023-10-08T15:08:28.542Z"
   },
   {
    "duration": 52,
    "start_time": "2023-10-08T15:08:28.635Z"
   },
   {
    "duration": 8,
    "start_time": "2023-10-08T15:08:28.689Z"
   },
   {
    "duration": 107,
    "start_time": "2023-10-08T15:08:28.699Z"
   },
   {
    "duration": 49,
    "start_time": "2023-10-08T15:08:28.808Z"
   },
   {
    "duration": 24,
    "start_time": "2023-10-08T15:08:28.860Z"
   },
   {
    "duration": 176,
    "start_time": "2023-10-08T15:08:28.886Z"
   },
   {
    "duration": 192,
    "start_time": "2023-10-08T15:08:29.067Z"
   },
   {
    "duration": 4,
    "start_time": "2023-10-08T15:08:29.262Z"
   },
   {
    "duration": 94,
    "start_time": "2023-10-08T15:08:29.268Z"
   },
   {
    "duration": 42,
    "start_time": "2023-10-08T15:08:29.365Z"
   },
   {
    "duration": 1547,
    "start_time": "2023-10-08T15:08:29.409Z"
   },
   {
    "duration": 1562,
    "start_time": "2023-10-08T15:08:30.958Z"
   },
   {
    "duration": 2427,
    "start_time": "2023-10-08T15:08:32.522Z"
   },
   {
    "duration": 5,
    "start_time": "2023-10-08T15:10:14.088Z"
   },
   {
    "duration": 224,
    "start_time": "2023-10-08T15:10:14.097Z"
   },
   {
    "duration": 18,
    "start_time": "2023-10-08T15:10:14.323Z"
   },
   {
    "duration": 59,
    "start_time": "2023-10-08T15:10:14.356Z"
   },
   {
    "duration": 78,
    "start_time": "2023-10-08T15:10:14.420Z"
   },
   {
    "duration": 5,
    "start_time": "2023-10-08T15:10:14.500Z"
   },
   {
    "duration": 26,
    "start_time": "2023-10-08T15:10:14.507Z"
   },
   {
    "duration": 174,
    "start_time": "2023-10-08T15:10:14.556Z"
   },
   {
    "duration": 31,
    "start_time": "2023-10-08T15:10:14.732Z"
   },
   {
    "duration": 73,
    "start_time": "2023-10-08T15:10:14.765Z"
   },
   {
    "duration": 52,
    "start_time": "2023-10-08T15:10:14.841Z"
   },
   {
    "duration": 5,
    "start_time": "2023-10-08T15:10:14.895Z"
   },
   {
    "duration": 25,
    "start_time": "2023-10-08T15:10:14.902Z"
   },
   {
    "duration": 167,
    "start_time": "2023-10-08T15:10:14.930Z"
   },
   {
    "duration": 19,
    "start_time": "2023-10-08T15:10:15.099Z"
   },
   {
    "duration": 79,
    "start_time": "2023-10-08T15:10:15.120Z"
   },
   {
    "duration": 59,
    "start_time": "2023-10-08T15:10:15.201Z"
   },
   {
    "duration": 8,
    "start_time": "2023-10-08T15:10:15.262Z"
   },
   {
    "duration": 92,
    "start_time": "2023-10-08T15:10:15.272Z"
   },
   {
    "duration": 24,
    "start_time": "2023-10-08T15:10:15.366Z"
   },
   {
    "duration": 69,
    "start_time": "2023-10-08T15:10:15.393Z"
   },
   {
    "duration": 132,
    "start_time": "2023-10-08T15:10:15.465Z"
   },
   {
    "duration": 258,
    "start_time": "2023-10-08T15:10:15.600Z"
   },
   {
    "duration": 6,
    "start_time": "2023-10-08T15:10:15.867Z"
   },
   {
    "duration": 15,
    "start_time": "2023-10-08T15:10:15.958Z"
   },
   {
    "duration": 31,
    "start_time": "2023-10-08T15:10:15.975Z"
   },
   {
    "duration": 1592,
    "start_time": "2023-10-08T15:10:16.008Z"
   },
   {
    "duration": 1748,
    "start_time": "2023-10-08T15:10:17.602Z"
   },
   {
    "duration": 2264,
    "start_time": "2023-10-08T15:10:19.356Z"
   },
   {
    "duration": 6,
    "start_time": "2023-10-08T15:16:52.585Z"
   },
   {
    "duration": 195,
    "start_time": "2023-10-08T15:16:52.594Z"
   },
   {
    "duration": 25,
    "start_time": "2023-10-08T15:16:52.791Z"
   },
   {
    "duration": 82,
    "start_time": "2023-10-08T15:16:52.819Z"
   },
   {
    "duration": 40,
    "start_time": "2023-10-08T15:16:52.903Z"
   },
   {
    "duration": 5,
    "start_time": "2023-10-08T15:16:52.956Z"
   },
   {
    "duration": 46,
    "start_time": "2023-10-08T15:16:52.963Z"
   },
   {
    "duration": 214,
    "start_time": "2023-10-08T15:16:53.011Z"
   },
   {
    "duration": 30,
    "start_time": "2023-10-08T15:16:53.227Z"
   },
   {
    "duration": 51,
    "start_time": "2023-10-08T15:16:53.261Z"
   },
   {
    "duration": 65,
    "start_time": "2023-10-08T15:16:53.314Z"
   },
   {
    "duration": 6,
    "start_time": "2023-10-08T15:16:53.381Z"
   },
   {
    "duration": 24,
    "start_time": "2023-10-08T15:16:53.389Z"
   },
   {
    "duration": 167,
    "start_time": "2023-10-08T15:16:53.416Z"
   },
   {
    "duration": 19,
    "start_time": "2023-10-08T15:16:53.585Z"
   },
   {
    "duration": 81,
    "start_time": "2023-10-08T15:16:53.606Z"
   },
   {
    "duration": 44,
    "start_time": "2023-10-08T15:16:53.689Z"
   },
   {
    "duration": 24,
    "start_time": "2023-10-08T15:16:53.735Z"
   },
   {
    "duration": 63,
    "start_time": "2023-10-08T15:16:53.761Z"
   },
   {
    "duration": 45,
    "start_time": "2023-10-08T15:16:53.826Z"
   },
   {
    "duration": 91,
    "start_time": "2023-10-08T15:16:53.873Z"
   },
   {
    "duration": 105,
    "start_time": "2023-10-08T15:16:53.967Z"
   },
   {
    "duration": 280,
    "start_time": "2023-10-08T15:16:54.077Z"
   },
   {
    "duration": 5,
    "start_time": "2023-10-08T15:16:54.361Z"
   },
   {
    "duration": 9,
    "start_time": "2023-10-08T15:16:54.368Z"
   },
   {
    "duration": 16,
    "start_time": "2023-10-08T15:16:54.380Z"
   },
   {
    "duration": 1525,
    "start_time": "2023-10-08T15:16:54.398Z"
   },
   {
    "duration": 1511,
    "start_time": "2023-10-08T15:16:55.927Z"
   },
   {
    "duration": 2286,
    "start_time": "2023-10-08T15:16:57.441Z"
   },
   {
    "duration": 5,
    "start_time": "2023-10-08T15:21:13.627Z"
   },
   {
    "duration": 5,
    "start_time": "2023-10-08T15:39:44.236Z"
   },
   {
    "duration": 179,
    "start_time": "2023-10-08T15:39:44.243Z"
   },
   {
    "duration": 16,
    "start_time": "2023-10-08T15:39:44.424Z"
   },
   {
    "duration": 68,
    "start_time": "2023-10-08T15:39:44.443Z"
   },
   {
    "duration": 57,
    "start_time": "2023-10-08T15:39:44.513Z"
   },
   {
    "duration": 5,
    "start_time": "2023-10-08T15:39:44.571Z"
   },
   {
    "duration": 16,
    "start_time": "2023-10-08T15:39:44.577Z"
   },
   {
    "duration": 157,
    "start_time": "2023-10-08T15:39:44.594Z"
   },
   {
    "duration": 16,
    "start_time": "2023-10-08T15:39:44.755Z"
   },
   {
    "duration": 49,
    "start_time": "2023-10-08T15:39:44.773Z"
   },
   {
    "duration": 66,
    "start_time": "2023-10-08T15:39:44.825Z"
   },
   {
    "duration": 5,
    "start_time": "2023-10-08T15:39:44.893Z"
   },
   {
    "duration": 18,
    "start_time": "2023-10-08T15:39:44.900Z"
   },
   {
    "duration": 167,
    "start_time": "2023-10-08T15:39:44.920Z"
   },
   {
    "duration": 16,
    "start_time": "2023-10-08T15:39:45.089Z"
   },
   {
    "duration": 73,
    "start_time": "2023-10-08T15:39:45.106Z"
   },
   {
    "duration": 39,
    "start_time": "2023-10-08T15:39:45.181Z"
   },
   {
    "duration": 7,
    "start_time": "2023-10-08T15:39:45.221Z"
   },
   {
    "duration": 75,
    "start_time": "2023-10-08T15:39:45.230Z"
   },
   {
    "duration": 23,
    "start_time": "2023-10-08T15:39:45.307Z"
   },
   {
    "duration": 33,
    "start_time": "2023-10-08T15:39:45.332Z"
   },
   {
    "duration": 200,
    "start_time": "2023-10-08T15:39:45.367Z"
   },
   {
    "duration": 288,
    "start_time": "2023-10-08T15:39:45.569Z"
   },
   {
    "duration": 8,
    "start_time": "2023-10-08T15:39:45.860Z"
   },
   {
    "duration": 23,
    "start_time": "2023-10-08T15:39:45.870Z"
   },
   {
    "duration": 19,
    "start_time": "2023-10-08T15:39:45.894Z"
   },
   {
    "duration": 1490,
    "start_time": "2023-10-08T15:39:45.914Z"
   },
   {
    "duration": 1528,
    "start_time": "2023-10-08T15:39:47.407Z"
   },
   {
    "duration": 2122,
    "start_time": "2023-10-08T15:39:48.938Z"
   },
   {
    "duration": 5,
    "start_time": "2023-10-08T15:42:13.833Z"
   },
   {
    "duration": 173,
    "start_time": "2023-10-08T15:42:13.840Z"
   },
   {
    "duration": 16,
    "start_time": "2023-10-08T15:42:14.015Z"
   },
   {
    "duration": 74,
    "start_time": "2023-10-08T15:42:14.033Z"
   },
   {
    "duration": 48,
    "start_time": "2023-10-08T15:42:14.110Z"
   },
   {
    "duration": 10,
    "start_time": "2023-10-08T15:42:14.159Z"
   },
   {
    "duration": 58,
    "start_time": "2023-10-08T15:42:14.171Z"
   },
   {
    "duration": 180,
    "start_time": "2023-10-08T15:42:14.231Z"
   },
   {
    "duration": 16,
    "start_time": "2023-10-08T15:42:14.413Z"
   },
   {
    "duration": 73,
    "start_time": "2023-10-08T15:42:14.431Z"
   },
   {
    "duration": 53,
    "start_time": "2023-10-08T15:42:14.506Z"
   },
   {
    "duration": 12,
    "start_time": "2023-10-08T15:42:14.563Z"
   },
   {
    "duration": 74,
    "start_time": "2023-10-08T15:42:14.576Z"
   },
   {
    "duration": 182,
    "start_time": "2023-10-08T15:42:14.655Z"
   },
   {
    "duration": 33,
    "start_time": "2023-10-08T15:42:14.839Z"
   },
   {
    "duration": 54,
    "start_time": "2023-10-08T15:42:14.874Z"
   },
   {
    "duration": 67,
    "start_time": "2023-10-08T15:42:14.930Z"
   },
   {
    "duration": 8,
    "start_time": "2023-10-08T15:42:14.999Z"
   },
   {
    "duration": 131,
    "start_time": "2023-10-08T15:42:15.009Z"
   },
   {
    "duration": 35,
    "start_time": "2023-10-08T15:42:15.142Z"
   },
   {
    "duration": 79,
    "start_time": "2023-10-08T15:42:15.179Z"
   },
   {
    "duration": 123,
    "start_time": "2023-10-08T15:42:15.260Z"
   },
   {
    "duration": 106,
    "start_time": "2023-10-08T15:42:15.458Z"
   },
   {
    "duration": 13,
    "start_time": "2023-10-08T15:42:15.657Z"
   },
   {
    "duration": 3,
    "start_time": "2023-10-08T15:42:15.673Z"
   },
   {
    "duration": 10,
    "start_time": "2023-10-08T15:42:15.678Z"
   },
   {
    "duration": 5254,
    "start_time": "2023-10-08T15:42:15.691Z"
   },
   {
    "duration": 2263,
    "start_time": "2023-10-08T15:42:20.947Z"
   },
   {
    "duration": 2275,
    "start_time": "2023-10-08T15:42:23.212Z"
   },
   {
    "duration": 221,
    "start_time": "2023-10-08T15:45:03.035Z"
   },
   {
    "duration": 308,
    "start_time": "2023-10-08T15:45:15.946Z"
   },
   {
    "duration": 188,
    "start_time": "2023-10-08T15:45:53.290Z"
   },
   {
    "duration": 197,
    "start_time": "2023-10-08T15:46:43.184Z"
   },
   {
    "duration": 7,
    "start_time": "2023-10-08T15:48:26.170Z"
   },
   {
    "duration": 233,
    "start_time": "2023-10-08T15:48:26.180Z"
   },
   {
    "duration": 19,
    "start_time": "2023-10-08T15:48:26.416Z"
   },
   {
    "duration": 82,
    "start_time": "2023-10-08T15:48:26.438Z"
   },
   {
    "duration": 59,
    "start_time": "2023-10-08T15:48:26.522Z"
   },
   {
    "duration": 201,
    "start_time": "2023-10-08T15:48:26.583Z"
   },
   {
    "duration": 9,
    "start_time": "2023-10-08T15:48:26.785Z"
   },
   {
    "duration": 240,
    "start_time": "2023-10-08T15:48:26.795Z"
   },
   {
    "duration": 212,
    "start_time": "2023-10-08T15:48:27.040Z"
   },
   {
    "duration": 25,
    "start_time": "2023-10-08T15:48:27.256Z"
   },
   {
    "duration": 53,
    "start_time": "2023-10-08T15:48:27.283Z"
   },
   {
    "duration": 48,
    "start_time": "2023-10-08T15:48:27.357Z"
   },
   {
    "duration": 234,
    "start_time": "2023-10-08T15:48:27.407Z"
   },
   {
    "duration": 19,
    "start_time": "2023-10-08T15:48:27.644Z"
   },
   {
    "duration": 92,
    "start_time": "2023-10-08T15:48:27.667Z"
   },
   {
    "duration": 217,
    "start_time": "2023-10-08T15:48:27.762Z"
   },
   {
    "duration": 20,
    "start_time": "2023-10-08T15:48:27.981Z"
   },
   {
    "duration": 119,
    "start_time": "2023-10-08T15:48:28.065Z"
   },
   {
    "duration": 102,
    "start_time": "2023-10-08T15:48:28.185Z"
   },
   {
    "duration": 482,
    "start_time": "2023-10-08T15:48:28.290Z"
   },
   {
    "duration": 10,
    "start_time": "2023-10-08T15:48:28.775Z"
   },
   {
    "duration": 216,
    "start_time": "2023-10-08T15:48:28.788Z"
   },
   {
    "duration": 38,
    "start_time": "2023-10-08T15:48:29.060Z"
   },
   {
    "duration": 156,
    "start_time": "2023-10-08T15:48:29.101Z"
   },
   {
    "duration": 118,
    "start_time": "2023-10-08T15:48:29.259Z"
   },
   {
    "duration": 101,
    "start_time": "2023-10-08T15:48:29.457Z"
   },
   {
    "duration": 7,
    "start_time": "2023-10-08T15:48:29.561Z"
   },
   {
    "duration": 92,
    "start_time": "2023-10-08T15:48:29.571Z"
   },
   {
    "duration": 11,
    "start_time": "2023-10-08T15:48:29.666Z"
   },
   {
    "duration": 6334,
    "start_time": "2023-10-08T15:48:29.680Z"
   },
   {
    "duration": 2393,
    "start_time": "2023-10-08T15:48:36.016Z"
   },
   {
    "duration": 2373,
    "start_time": "2023-10-08T15:48:38.411Z"
   },
   {
    "duration": 177,
    "start_time": "2023-10-08T15:51:10.745Z"
   },
   {
    "duration": 6,
    "start_time": "2023-10-08T15:51:34.836Z"
   },
   {
    "duration": 202,
    "start_time": "2023-10-08T15:51:34.845Z"
   },
   {
    "duration": 23,
    "start_time": "2023-10-08T15:51:35.049Z"
   },
   {
    "duration": 53,
    "start_time": "2023-10-08T15:51:35.074Z"
   },
   {
    "duration": 72,
    "start_time": "2023-10-08T15:51:35.131Z"
   },
   {
    "duration": 186,
    "start_time": "2023-10-08T15:51:35.205Z"
   },
   {
    "duration": 9,
    "start_time": "2023-10-08T15:51:35.393Z"
   },
   {
    "duration": 89,
    "start_time": "2023-10-08T15:51:35.405Z"
   },
   {
    "duration": 160,
    "start_time": "2023-10-08T15:51:35.496Z"
   },
   {
    "duration": 24,
    "start_time": "2023-10-08T15:51:35.659Z"
   },
   {
    "duration": 62,
    "start_time": "2023-10-08T15:51:35.685Z"
   },
   {
    "duration": 54,
    "start_time": "2023-10-08T15:51:35.749Z"
   },
   {
    "duration": 215,
    "start_time": "2023-10-08T15:51:35.805Z"
   },
   {
    "duration": 8,
    "start_time": "2023-10-08T15:51:36.023Z"
   },
   {
    "duration": 79,
    "start_time": "2023-10-08T15:51:36.032Z"
   },
   {
    "duration": 180,
    "start_time": "2023-10-08T15:51:36.113Z"
   },
   {
    "duration": 17,
    "start_time": "2023-10-08T15:51:36.295Z"
   },
   {
    "duration": 74,
    "start_time": "2023-10-08T15:51:36.313Z"
   },
   {
    "duration": 43,
    "start_time": "2023-10-08T15:51:36.389Z"
   },
   {
    "duration": 199,
    "start_time": "2023-10-08T15:51:36.434Z"
   },
   {
    "duration": 7,
    "start_time": "2023-10-08T15:51:36.635Z"
   },
   {
    "duration": 73,
    "start_time": "2023-10-08T15:51:36.656Z"
   },
   {
    "duration": 38,
    "start_time": "2023-10-08T15:51:36.738Z"
   },
   {
    "duration": 81,
    "start_time": "2023-10-08T15:51:36.779Z"
   },
   {
    "duration": 194,
    "start_time": "2023-10-08T15:51:36.862Z"
   },
   {
    "duration": 198,
    "start_time": "2023-10-08T15:51:37.065Z"
   },
   {
    "duration": 9,
    "start_time": "2023-10-08T15:51:37.266Z"
   },
   {
    "duration": 7,
    "start_time": "2023-10-08T15:51:37.358Z"
   },
   {
    "duration": 34,
    "start_time": "2023-10-08T15:51:37.369Z"
   },
   {
    "duration": 4953,
    "start_time": "2023-10-08T15:51:37.405Z"
   },
   {
    "duration": 2253,
    "start_time": "2023-10-08T15:51:42.360Z"
   },
   {
    "duration": 2137,
    "start_time": "2023-10-08T15:51:44.615Z"
   },
   {
    "duration": 83,
    "start_time": "2023-10-08T15:57:01.770Z"
   },
   {
    "duration": 89,
    "start_time": "2023-10-08T15:57:21.486Z"
   },
   {
    "duration": 83,
    "start_time": "2023-10-08T15:57:34.339Z"
   },
   {
    "duration": 97,
    "start_time": "2023-10-08T15:57:38.907Z"
   },
   {
    "duration": 88,
    "start_time": "2023-10-08T15:57:42.935Z"
   },
   {
    "duration": 87,
    "start_time": "2023-10-08T15:58:01.589Z"
   },
   {
    "duration": 472,
    "start_time": "2023-10-08T15:58:32.792Z"
   },
   {
    "duration": 5,
    "start_time": "2023-10-08T17:43:41.206Z"
   },
   {
    "duration": 183,
    "start_time": "2023-10-08T17:43:41.213Z"
   },
   {
    "duration": 17,
    "start_time": "2023-10-08T17:43:41.398Z"
   },
   {
    "duration": 68,
    "start_time": "2023-10-08T17:43:41.417Z"
   },
   {
    "duration": 172,
    "start_time": "2023-10-08T17:43:41.487Z"
   },
   {
    "duration": 187,
    "start_time": "2023-10-08T17:43:41.661Z"
   },
   {
    "duration": 12,
    "start_time": "2023-10-08T17:43:41.850Z"
   },
   {
    "duration": 61,
    "start_time": "2023-10-08T17:43:41.864Z"
   },
   {
    "duration": 157,
    "start_time": "2023-10-08T17:43:41.927Z"
   },
   {
    "duration": 17,
    "start_time": "2023-10-08T17:43:42.087Z"
   },
   {
    "duration": 64,
    "start_time": "2023-10-08T17:43:42.106Z"
   },
   {
    "duration": 41,
    "start_time": "2023-10-08T17:43:42.172Z"
   },
   {
    "duration": 201,
    "start_time": "2023-10-08T17:43:42.215Z"
   },
   {
    "duration": 7,
    "start_time": "2023-10-08T17:43:42.418Z"
   },
   {
    "duration": 67,
    "start_time": "2023-10-08T17:43:42.427Z"
   },
   {
    "duration": 162,
    "start_time": "2023-10-08T17:43:42.496Z"
   },
   {
    "duration": 19,
    "start_time": "2023-10-08T17:43:42.660Z"
   },
   {
    "duration": 77,
    "start_time": "2023-10-08T17:43:42.682Z"
   },
   {
    "duration": 46,
    "start_time": "2023-10-08T17:43:42.761Z"
   },
   {
    "duration": 199,
    "start_time": "2023-10-08T17:43:42.809Z"
   },
   {
    "duration": 8,
    "start_time": "2023-10-08T17:43:43.010Z"
   },
   {
    "duration": 83,
    "start_time": "2023-10-08T17:43:43.020Z"
   },
   {
    "duration": 30,
    "start_time": "2023-10-08T17:43:43.106Z"
   },
   {
    "duration": 120,
    "start_time": "2023-10-08T17:43:43.138Z"
   },
   {
    "duration": 198,
    "start_time": "2023-10-08T17:43:43.260Z"
   },
   {
    "duration": 197,
    "start_time": "2023-10-08T17:43:43.461Z"
   },
   {
    "duration": 88,
    "start_time": "2023-10-08T17:43:43.670Z"
   },
   {
    "duration": 23,
    "start_time": "2023-10-08T17:43:43.762Z"
   },
   {
    "duration": 14,
    "start_time": "2023-10-08T17:43:43.787Z"
   },
   {
    "duration": 4436,
    "start_time": "2023-10-08T17:43:43.804Z"
   },
   {
    "duration": 2241,
    "start_time": "2023-10-08T17:43:48.242Z"
   },
   {
    "duration": 2101,
    "start_time": "2023-10-08T17:43:50.485Z"
   },
   {
    "duration": 6,
    "start_time": "2023-10-08T17:46:43.928Z"
   },
   {
    "duration": 190,
    "start_time": "2023-10-08T17:46:43.937Z"
   },
   {
    "duration": 16,
    "start_time": "2023-10-08T17:46:44.129Z"
   },
   {
    "duration": 69,
    "start_time": "2023-10-08T17:46:44.146Z"
   },
   {
    "duration": 59,
    "start_time": "2023-10-08T17:46:44.218Z"
   },
   {
    "duration": 201,
    "start_time": "2023-10-08T17:46:44.280Z"
   },
   {
    "duration": 7,
    "start_time": "2023-10-08T17:46:44.484Z"
   },
   {
    "duration": 78,
    "start_time": "2023-10-08T17:46:44.493Z"
   },
   {
    "duration": 155,
    "start_time": "2023-10-08T17:46:44.573Z"
   },
   {
    "duration": 31,
    "start_time": "2023-10-08T17:46:44.730Z"
   },
   {
    "duration": 63,
    "start_time": "2023-10-08T17:46:44.763Z"
   },
   {
    "duration": 73,
    "start_time": "2023-10-08T17:46:44.829Z"
   },
   {
    "duration": 198,
    "start_time": "2023-10-08T17:46:44.905Z"
   },
   {
    "duration": 8,
    "start_time": "2023-10-08T17:46:45.105Z"
   },
   {
    "duration": 85,
    "start_time": "2023-10-08T17:46:45.115Z"
   },
   {
    "duration": 182,
    "start_time": "2023-10-08T17:46:45.202Z"
   },
   {
    "duration": 19,
    "start_time": "2023-10-08T17:46:45.386Z"
   },
   {
    "duration": 79,
    "start_time": "2023-10-08T17:46:45.408Z"
   },
   {
    "duration": 39,
    "start_time": "2023-10-08T17:46:45.489Z"
   },
   {
    "duration": 209,
    "start_time": "2023-10-08T17:46:45.530Z"
   },
   {
    "duration": 19,
    "start_time": "2023-10-08T17:46:45.742Z"
   },
   {
    "duration": 58,
    "start_time": "2023-10-08T17:46:45.769Z"
   },
   {
    "duration": 54,
    "start_time": "2023-10-08T17:46:45.829Z"
   },
   {
    "duration": 79,
    "start_time": "2023-10-08T17:46:45.885Z"
   },
   {
    "duration": 197,
    "start_time": "2023-10-08T17:46:45.965Z"
   },
   {
    "duration": 111,
    "start_time": "2023-10-08T17:46:46.175Z"
   },
   {
    "duration": 11,
    "start_time": "2023-10-08T17:46:46.360Z"
   },
   {
    "duration": 5,
    "start_time": "2023-10-08T17:46:46.379Z"
   },
   {
    "duration": 11,
    "start_time": "2023-10-08T17:46:46.386Z"
   },
   {
    "duration": 5133,
    "start_time": "2023-10-08T17:46:46.399Z"
   },
   {
    "duration": 2237,
    "start_time": "2023-10-08T17:46:51.534Z"
   },
   {
    "duration": 2351,
    "start_time": "2023-10-08T17:46:53.773Z"
   },
   {
    "duration": 7,
    "start_time": "2023-10-08T17:52:02.375Z"
   },
   {
    "duration": 224,
    "start_time": "2023-10-08T17:52:02.385Z"
   },
   {
    "duration": 17,
    "start_time": "2023-10-08T17:52:02.611Z"
   },
   {
    "duration": 66,
    "start_time": "2023-10-08T17:52:02.630Z"
   },
   {
    "duration": 41,
    "start_time": "2023-10-08T17:52:02.698Z"
   },
   {
    "duration": 248,
    "start_time": "2023-10-08T17:52:02.741Z"
   },
   {
    "duration": 9,
    "start_time": "2023-10-08T17:52:02.991Z"
   },
   {
    "duration": 86,
    "start_time": "2023-10-08T17:52:03.002Z"
   },
   {
    "duration": 160,
    "start_time": "2023-10-08T17:52:03.091Z"
   },
   {
    "duration": 21,
    "start_time": "2023-10-08T17:52:03.252Z"
   },
   {
    "duration": 99,
    "start_time": "2023-10-08T17:52:03.275Z"
   },
   {
    "duration": 46,
    "start_time": "2023-10-08T17:52:03.376Z"
   },
   {
    "duration": 217,
    "start_time": "2023-10-08T17:52:03.425Z"
   },
   {
    "duration": 14,
    "start_time": "2023-10-08T17:52:03.646Z"
   },
   {
    "duration": 96,
    "start_time": "2023-10-08T17:52:03.668Z"
   },
   {
    "duration": 179,
    "start_time": "2023-10-08T17:52:03.768Z"
   },
   {
    "duration": 34,
    "start_time": "2023-10-08T17:52:03.949Z"
   },
   {
    "duration": 56,
    "start_time": "2023-10-08T17:52:03.985Z"
   },
   {
    "duration": 49,
    "start_time": "2023-10-08T17:52:04.043Z"
   },
   {
    "duration": 195,
    "start_time": "2023-10-08T17:52:04.094Z"
   },
   {
    "duration": 8,
    "start_time": "2023-10-08T17:52:04.291Z"
   },
   {
    "duration": 87,
    "start_time": "2023-10-08T17:52:04.301Z"
   },
   {
    "duration": 25,
    "start_time": "2023-10-08T17:52:04.390Z"
   },
   {
    "duration": 46,
    "start_time": "2023-10-08T17:52:04.417Z"
   },
   {
    "duration": 195,
    "start_time": "2023-10-08T17:52:04.465Z"
   },
   {
    "duration": 199,
    "start_time": "2023-10-08T17:52:04.664Z"
   },
   {
    "duration": 6,
    "start_time": "2023-10-08T17:52:04.866Z"
   },
   {
    "duration": 86,
    "start_time": "2023-10-08T17:52:04.876Z"
   },
   {
    "duration": 46,
    "start_time": "2023-10-08T17:52:04.964Z"
   },
   {
    "duration": 4784,
    "start_time": "2023-10-08T17:52:05.012Z"
   },
   {
    "duration": 2200,
    "start_time": "2023-10-08T17:52:09.799Z"
   },
   {
    "duration": 2209,
    "start_time": "2023-10-08T17:52:12.002Z"
   },
   {
    "duration": 15,
    "start_time": "2023-10-08T17:58:52.892Z"
   },
   {
    "duration": 242,
    "start_time": "2023-10-08T17:58:52.910Z"
   },
   {
    "duration": 38,
    "start_time": "2023-10-08T17:58:53.156Z"
   },
   {
    "duration": 70,
    "start_time": "2023-10-08T17:58:53.197Z"
   },
   {
    "duration": 52,
    "start_time": "2023-10-08T17:58:53.271Z"
   },
   {
    "duration": 225,
    "start_time": "2023-10-08T17:58:53.325Z"
   },
   {
    "duration": 22,
    "start_time": "2023-10-08T17:58:53.556Z"
   },
   {
    "duration": 103,
    "start_time": "2023-10-08T17:58:53.580Z"
   },
   {
    "duration": 169,
    "start_time": "2023-10-08T17:58:53.685Z"
   },
   {
    "duration": 27,
    "start_time": "2023-10-08T17:58:53.856Z"
   },
   {
    "duration": 57,
    "start_time": "2023-10-08T17:58:53.887Z"
   },
   {
    "duration": 63,
    "start_time": "2023-10-08T17:58:53.959Z"
   },
   {
    "duration": 264,
    "start_time": "2023-10-08T17:58:54.025Z"
   },
   {
    "duration": 8,
    "start_time": "2023-10-08T17:58:54.293Z"
   },
   {
    "duration": 99,
    "start_time": "2023-10-08T17:58:54.304Z"
   },
   {
    "duration": 188,
    "start_time": "2023-10-08T17:58:54.405Z"
   },
   {
    "duration": 28,
    "start_time": "2023-10-08T17:58:54.595Z"
   },
   {
    "duration": 99,
    "start_time": "2023-10-08T17:58:54.625Z"
   },
   {
    "duration": 51,
    "start_time": "2023-10-08T17:58:54.726Z"
   },
   {
    "duration": 242,
    "start_time": "2023-10-08T17:58:54.780Z"
   },
   {
    "duration": 10,
    "start_time": "2023-10-08T17:58:55.025Z"
   },
   {
    "duration": 91,
    "start_time": "2023-10-08T17:58:55.038Z"
   },
   {
    "duration": 63,
    "start_time": "2023-10-08T17:58:55.131Z"
   },
   {
    "duration": 174,
    "start_time": "2023-10-08T17:58:55.197Z"
   },
   {
    "duration": 94,
    "start_time": "2023-10-08T17:58:55.374Z"
   },
   {
    "duration": 206,
    "start_time": "2023-10-08T17:58:55.470Z"
   },
   {
    "duration": 5,
    "start_time": "2023-10-08T17:58:55.684Z"
   },
   {
    "duration": 8,
    "start_time": "2023-10-08T17:58:55.691Z"
   },
   {
    "duration": 11,
    "start_time": "2023-10-08T17:58:55.701Z"
   },
   {
    "duration": 5997,
    "start_time": "2023-10-08T17:58:55.713Z"
   },
   {
    "duration": 2422,
    "start_time": "2023-10-08T17:59:01.712Z"
   },
   {
    "duration": 2542,
    "start_time": "2023-10-08T17:59:04.136Z"
   },
   {
    "duration": 7,
    "start_time": "2023-10-08T18:05:30.791Z"
   },
   {
    "duration": 269,
    "start_time": "2023-10-08T18:05:30.801Z"
   },
   {
    "duration": 25,
    "start_time": "2023-10-08T18:05:31.073Z"
   },
   {
    "duration": 106,
    "start_time": "2023-10-08T18:05:31.101Z"
   },
   {
    "duration": 56,
    "start_time": "2023-10-08T18:05:31.210Z"
   },
   {
    "duration": 218,
    "start_time": "2023-10-08T18:05:31.269Z"
   },
   {
    "duration": 7,
    "start_time": "2023-10-08T18:05:31.490Z"
   },
   {
    "duration": 113,
    "start_time": "2023-10-08T18:05:31.499Z"
   },
   {
    "duration": 305,
    "start_time": "2023-10-08T18:05:31.614Z"
   },
   {
    "duration": 16,
    "start_time": "2023-10-08T18:05:31.921Z"
   },
   {
    "duration": 144,
    "start_time": "2023-10-08T18:05:31.939Z"
   },
   {
    "duration": 181,
    "start_time": "2023-10-08T18:05:32.085Z"
   },
   {
    "duration": 295,
    "start_time": "2023-10-08T18:05:32.267Z"
   },
   {
    "duration": 15,
    "start_time": "2023-10-08T18:05:32.572Z"
   },
   {
    "duration": 59,
    "start_time": "2023-10-08T18:05:32.590Z"
   },
   {
    "duration": 191,
    "start_time": "2023-10-08T18:05:32.660Z"
   },
   {
    "duration": 40,
    "start_time": "2023-10-08T18:05:32.854Z"
   },
   {
    "duration": 89,
    "start_time": "2023-10-08T18:05:32.896Z"
   },
   {
    "duration": 44,
    "start_time": "2023-10-08T18:05:32.989Z"
   },
   {
    "duration": 247,
    "start_time": "2023-10-08T18:05:33.035Z"
   },
   {
    "duration": 8,
    "start_time": "2023-10-08T18:05:33.284Z"
   },
   {
    "duration": 135,
    "start_time": "2023-10-08T18:05:33.294Z"
   },
   {
    "duration": 32,
    "start_time": "2023-10-08T18:05:33.431Z"
   },
   {
    "duration": 91,
    "start_time": "2023-10-08T18:05:33.471Z"
   },
   {
    "duration": 117,
    "start_time": "2023-10-08T18:05:33.565Z"
   },
   {
    "duration": 106,
    "start_time": "2023-10-08T18:05:33.761Z"
   },
   {
    "duration": 79,
    "start_time": "2023-10-08T18:05:33.879Z"
   },
   {
    "duration": 26,
    "start_time": "2023-10-08T18:05:33.963Z"
   },
   {
    "duration": 16,
    "start_time": "2023-10-08T18:05:33.991Z"
   },
   {
    "duration": 5763,
    "start_time": "2023-10-08T18:05:34.009Z"
   },
   {
    "duration": 2426,
    "start_time": "2023-10-08T18:05:39.780Z"
   },
   {
    "duration": 2350,
    "start_time": "2023-10-08T18:05:42.208Z"
   },
   {
    "duration": 4,
    "start_time": "2023-10-08T18:09:38.310Z"
   },
   {
    "duration": 187,
    "start_time": "2023-10-08T18:09:38.317Z"
   },
   {
    "duration": 16,
    "start_time": "2023-10-08T18:09:38.506Z"
   },
   {
    "duration": 78,
    "start_time": "2023-10-08T18:09:38.524Z"
   },
   {
    "duration": 43,
    "start_time": "2023-10-08T18:09:38.604Z"
   },
   {
    "duration": 225,
    "start_time": "2023-10-08T18:09:38.664Z"
   },
   {
    "duration": 10,
    "start_time": "2023-10-08T18:09:38.892Z"
   },
   {
    "duration": 102,
    "start_time": "2023-10-08T18:09:38.904Z"
   },
   {
    "duration": 196,
    "start_time": "2023-10-08T18:09:39.009Z"
   },
   {
    "duration": 21,
    "start_time": "2023-10-08T18:09:39.208Z"
   },
   {
    "duration": 82,
    "start_time": "2023-10-08T18:09:39.231Z"
   },
   {
    "duration": 72,
    "start_time": "2023-10-08T18:09:39.315Z"
   },
   {
    "duration": 217,
    "start_time": "2023-10-08T18:09:39.390Z"
   },
   {
    "duration": 7,
    "start_time": "2023-10-08T18:09:39.609Z"
   },
   {
    "duration": 92,
    "start_time": "2023-10-08T18:09:39.618Z"
   },
   {
    "duration": 188,
    "start_time": "2023-10-08T18:09:39.712Z"
   },
   {
    "duration": 17,
    "start_time": "2023-10-08T18:09:39.902Z"
   },
   {
    "duration": 83,
    "start_time": "2023-10-08T18:09:39.921Z"
   },
   {
    "duration": 77,
    "start_time": "2023-10-08T18:09:40.006Z"
   },
   {
    "duration": 198,
    "start_time": "2023-10-08T18:09:40.086Z"
   },
   {
    "duration": 8,
    "start_time": "2023-10-08T18:09:40.287Z"
   },
   {
    "duration": 77,
    "start_time": "2023-10-08T18:09:40.297Z"
   },
   {
    "duration": 37,
    "start_time": "2023-10-08T18:09:40.378Z"
   },
   {
    "duration": 56,
    "start_time": "2023-10-08T18:09:40.419Z"
   },
   {
    "duration": 170,
    "start_time": "2023-10-08T18:09:40.489Z"
   },
   {
    "duration": 109,
    "start_time": "2023-10-08T18:09:40.662Z"
   },
   {
    "duration": 85,
    "start_time": "2023-10-08T18:09:40.780Z"
   },
   {
    "duration": 17,
    "start_time": "2023-10-08T18:09:40.869Z"
   },
   {
    "duration": 19,
    "start_time": "2023-10-08T18:09:40.888Z"
   },
   {
    "duration": 5703,
    "start_time": "2023-10-08T18:09:40.909Z"
   },
   {
    "duration": 2545,
    "start_time": "2023-10-08T18:09:46.614Z"
   },
   {
    "duration": 2480,
    "start_time": "2023-10-08T18:09:49.165Z"
   },
   {
    "duration": 1717,
    "start_time": "2023-10-08T18:21:33.315Z"
   },
   {
    "duration": 208,
    "start_time": "2023-10-08T18:21:35.034Z"
   },
   {
    "duration": 25,
    "start_time": "2023-10-08T18:21:35.245Z"
   },
   {
    "duration": 71,
    "start_time": "2023-10-08T18:21:35.272Z"
   },
   {
    "duration": 54,
    "start_time": "2023-10-08T18:21:35.346Z"
   },
   {
    "duration": 205,
    "start_time": "2023-10-08T18:21:35.402Z"
   },
   {
    "duration": 9,
    "start_time": "2023-10-08T18:21:35.608Z"
   },
   {
    "duration": 80,
    "start_time": "2023-10-08T18:21:35.618Z"
   },
   {
    "duration": 188,
    "start_time": "2023-10-08T18:21:35.700Z"
   },
   {
    "duration": 17,
    "start_time": "2023-10-08T18:21:35.889Z"
   },
   {
    "duration": 77,
    "start_time": "2023-10-08T18:21:35.908Z"
   },
   {
    "duration": 46,
    "start_time": "2023-10-08T18:21:35.987Z"
   },
   {
    "duration": 225,
    "start_time": "2023-10-08T18:21:36.036Z"
   },
   {
    "duration": 14,
    "start_time": "2023-10-08T18:21:36.264Z"
   },
   {
    "duration": 95,
    "start_time": "2023-10-08T18:21:36.281Z"
   },
   {
    "duration": 198,
    "start_time": "2023-10-08T18:21:36.379Z"
   },
   {
    "duration": 17,
    "start_time": "2023-10-08T18:21:36.580Z"
   },
   {
    "duration": 87,
    "start_time": "2023-10-08T18:21:36.599Z"
   },
   {
    "duration": 42,
    "start_time": "2023-10-08T18:21:36.688Z"
   },
   {
    "duration": 250,
    "start_time": "2023-10-08T18:21:36.732Z"
   },
   {
    "duration": 7,
    "start_time": "2023-10-08T18:21:36.984Z"
   },
   {
    "duration": 94,
    "start_time": "2023-10-08T18:21:36.993Z"
   },
   {
    "duration": 29,
    "start_time": "2023-10-08T18:21:37.089Z"
   },
   {
    "duration": 45,
    "start_time": "2023-10-08T18:21:37.120Z"
   },
   {
    "duration": 199,
    "start_time": "2023-10-08T18:21:37.169Z"
   },
   {
    "duration": 199,
    "start_time": "2023-10-08T18:21:37.371Z"
   },
   {
    "duration": 86,
    "start_time": "2023-10-08T18:21:37.573Z"
   },
   {
    "duration": 6,
    "start_time": "2023-10-08T18:21:37.662Z"
   },
   {
    "duration": 8,
    "start_time": "2023-10-08T18:21:37.671Z"
   },
   {
    "duration": 5078,
    "start_time": "2023-10-08T18:21:37.680Z"
   },
   {
    "duration": 2249,
    "start_time": "2023-10-08T18:21:42.760Z"
   },
   {
    "duration": 2107,
    "start_time": "2023-10-08T18:21:45.012Z"
   },
   {
    "duration": 1637,
    "start_time": "2023-10-08T18:23:06.880Z"
   },
   {
    "duration": 206,
    "start_time": "2023-10-08T18:23:08.519Z"
   },
   {
    "duration": 34,
    "start_time": "2023-10-08T18:23:08.726Z"
   },
   {
    "duration": 76,
    "start_time": "2023-10-08T18:23:08.762Z"
   },
   {
    "duration": 77,
    "start_time": "2023-10-08T18:23:08.841Z"
   },
   {
    "duration": 342,
    "start_time": "2023-10-08T18:23:08.920Z"
   },
   {
    "duration": 42,
    "start_time": "2023-10-08T18:23:09.264Z"
   },
   {
    "duration": 70,
    "start_time": "2023-10-08T18:23:09.308Z"
   },
   {
    "duration": 202,
    "start_time": "2023-10-08T18:23:09.381Z"
   },
   {
    "duration": 18,
    "start_time": "2023-10-08T18:23:09.585Z"
   },
   {
    "duration": 72,
    "start_time": "2023-10-08T18:23:09.605Z"
   },
   {
    "duration": 42,
    "start_time": "2023-10-08T18:23:09.679Z"
   },
   {
    "duration": 198,
    "start_time": "2023-10-08T18:23:09.723Z"
   },
   {
    "duration": 7,
    "start_time": "2023-10-08T18:23:09.924Z"
   },
   {
    "duration": 91,
    "start_time": "2023-10-08T18:23:09.933Z"
   },
   {
    "duration": 203,
    "start_time": "2023-10-08T18:23:10.026Z"
   },
   {
    "duration": 32,
    "start_time": "2023-10-08T18:23:10.231Z"
   },
   {
    "duration": 69,
    "start_time": "2023-10-08T18:23:10.266Z"
   },
   {
    "duration": 63,
    "start_time": "2023-10-08T18:23:10.337Z"
   },
   {
    "duration": 198,
    "start_time": "2023-10-08T18:23:10.403Z"
   },
   {
    "duration": 10,
    "start_time": "2023-10-08T18:23:10.603Z"
   },
   {
    "duration": 94,
    "start_time": "2023-10-08T18:23:10.615Z"
   },
   {
    "duration": 27,
    "start_time": "2023-10-08T18:23:10.711Z"
   },
   {
    "duration": 129,
    "start_time": "2023-10-08T18:23:10.740Z"
   },
   {
    "duration": 186,
    "start_time": "2023-10-08T18:23:10.877Z"
   },
   {
    "duration": 209,
    "start_time": "2023-10-08T18:23:11.066Z"
   },
   {
    "duration": 10,
    "start_time": "2023-10-08T18:23:11.278Z"
   },
   {
    "duration": 37,
    "start_time": "2023-10-08T18:23:11.290Z"
   },
   {
    "duration": 12,
    "start_time": "2023-10-08T18:23:11.329Z"
   },
   {
    "duration": 5714,
    "start_time": "2023-10-08T18:23:11.343Z"
   },
   {
    "duration": 2453,
    "start_time": "2023-10-08T18:23:17.060Z"
   },
   {
    "duration": 2345,
    "start_time": "2023-10-08T18:23:19.515Z"
   },
   {
    "duration": 1706,
    "start_time": "2023-10-09T16:54:38.742Z"
   },
   {
    "duration": 436,
    "start_time": "2023-10-09T16:54:40.450Z"
   },
   {
    "duration": 29,
    "start_time": "2023-10-09T16:54:40.888Z"
   },
   {
    "duration": 50,
    "start_time": "2023-10-09T16:54:40.919Z"
   },
   {
    "duration": 47,
    "start_time": "2023-10-09T16:54:40.971Z"
   },
   {
    "duration": 203,
    "start_time": "2023-10-09T16:54:41.020Z"
   },
   {
    "duration": 9,
    "start_time": "2023-10-09T16:54:41.225Z"
   },
   {
    "duration": 75,
    "start_time": "2023-10-09T16:54:41.236Z"
   },
   {
    "duration": 258,
    "start_time": "2023-10-09T16:54:41.313Z"
   },
   {
    "duration": 15,
    "start_time": "2023-10-09T16:54:41.573Z"
   },
   {
    "duration": 74,
    "start_time": "2023-10-09T16:54:41.589Z"
   },
   {
    "duration": 43,
    "start_time": "2023-10-09T16:54:41.665Z"
   },
   {
    "duration": 175,
    "start_time": "2023-10-09T16:54:41.716Z"
   },
   {
    "duration": 19,
    "start_time": "2023-10-09T16:54:41.894Z"
   },
   {
    "duration": 52,
    "start_time": "2023-10-09T16:54:41.918Z"
   },
   {
    "duration": 293,
    "start_time": "2023-10-09T16:54:41.972Z"
   },
   {
    "duration": 18,
    "start_time": "2023-10-09T16:54:42.267Z"
   },
   {
    "duration": 18,
    "start_time": "2023-10-09T16:54:42.287Z"
   },
   {
    "duration": 80,
    "start_time": "2023-10-09T16:54:42.311Z"
   },
   {
    "duration": 43,
    "start_time": "2023-10-09T16:54:42.393Z"
   },
   {
    "duration": 199,
    "start_time": "2023-10-09T16:54:42.438Z"
   },
   {
    "duration": 7,
    "start_time": "2023-10-09T16:54:42.639Z"
   },
   {
    "duration": 77,
    "start_time": "2023-10-09T16:54:42.647Z"
   },
   {
    "duration": 3,
    "start_time": "2023-10-09T16:54:42.726Z"
   },
   {
    "duration": 22,
    "start_time": "2023-10-09T16:54:42.730Z"
   },
   {
    "duration": 38,
    "start_time": "2023-10-09T16:54:42.753Z"
   },
   {
    "duration": 133,
    "start_time": "2023-10-09T16:54:42.792Z"
   },
   {
    "duration": 107,
    "start_time": "2023-10-09T16:54:43.009Z"
   },
   {
    "duration": 280,
    "start_time": "2023-10-09T16:54:43.124Z"
   },
   {
    "duration": 5,
    "start_time": "2023-10-09T16:54:43.410Z"
   },
   {
    "duration": 21,
    "start_time": "2023-10-09T16:54:43.417Z"
   },
   {
    "duration": 27,
    "start_time": "2023-10-09T16:54:43.440Z"
   },
   {
    "duration": 28,
    "start_time": "2023-10-09T16:54:43.469Z"
   },
   {
    "duration": 4381,
    "start_time": "2023-10-09T16:54:43.499Z"
   },
   {
    "duration": 2111,
    "start_time": "2023-10-09T16:54:47.882Z"
   },
   {
    "duration": 2187,
    "start_time": "2023-10-09T16:54:49.996Z"
   },
   {
    "duration": 193,
    "start_time": "2023-10-09T16:56:19.383Z"
   },
   {
    "duration": 18,
    "start_time": "2023-10-09T17:00:08.081Z"
   },
   {
    "duration": 4,
    "start_time": "2023-10-09T17:00:27.990Z"
   },
   {
    "duration": 186,
    "start_time": "2023-10-09T17:00:27.996Z"
   },
   {
    "duration": 27,
    "start_time": "2023-10-09T17:00:28.184Z"
   },
   {
    "duration": 32,
    "start_time": "2023-10-09T17:00:28.220Z"
   },
   {
    "duration": 63,
    "start_time": "2023-10-09T17:00:28.254Z"
   },
   {
    "duration": 38,
    "start_time": "2023-10-09T17:00:28.319Z"
   },
   {
    "duration": 204,
    "start_time": "2023-10-09T17:00:28.359Z"
   },
   {
    "duration": 10,
    "start_time": "2023-10-09T17:00:28.565Z"
   },
   {
    "duration": 110,
    "start_time": "2023-10-09T17:00:28.577Z"
   },
   {
    "duration": 160,
    "start_time": "2023-10-09T17:00:28.690Z"
   },
   {
    "duration": 17,
    "start_time": "2023-10-09T17:00:28.852Z"
   },
   {
    "duration": 36,
    "start_time": "2023-10-09T17:00:28.871Z"
   },
   {
    "duration": 56,
    "start_time": "2023-10-09T17:00:28.915Z"
   },
   {
    "duration": 47,
    "start_time": "2023-10-09T17:00:28.973Z"
   },
   {
    "duration": 205,
    "start_time": "2023-10-09T17:00:29.023Z"
   },
   {
    "duration": 7,
    "start_time": "2023-10-09T17:00:29.230Z"
   },
   {
    "duration": 67,
    "start_time": "2023-10-09T17:00:29.239Z"
   },
   {
    "duration": 167,
    "start_time": "2023-10-09T17:00:29.307Z"
   },
   {
    "duration": 16,
    "start_time": "2023-10-09T17:00:29.475Z"
   },
   {
    "duration": 23,
    "start_time": "2023-10-09T17:00:29.514Z"
   },
   {
    "duration": 77,
    "start_time": "2023-10-09T17:00:29.539Z"
   },
   {
    "duration": 38,
    "start_time": "2023-10-09T17:00:29.618Z"
   },
   {
    "duration": 274,
    "start_time": "2023-10-09T17:00:29.658Z"
   },
   {
    "duration": 7,
    "start_time": "2023-10-09T17:00:29.934Z"
   },
   {
    "duration": 75,
    "start_time": "2023-10-09T17:00:29.942Z"
   },
   {
    "duration": 62,
    "start_time": "2023-10-09T17:00:30.018Z"
   },
   {
    "duration": 172,
    "start_time": "2023-10-09T17:00:30.082Z"
   },
   {
    "duration": 56,
    "start_time": "2023-10-09T17:00:30.257Z"
   },
   {
    "duration": 34,
    "start_time": "2023-10-09T17:00:30.315Z"
   },
   {
    "duration": 71,
    "start_time": "2023-10-09T17:00:30.351Z"
   },
   {
    "duration": 72,
    "start_time": "2023-10-09T17:00:30.423Z"
   },
   {
    "duration": 107,
    "start_time": "2023-10-09T17:00:30.497Z"
   },
   {
    "duration": 198,
    "start_time": "2023-10-09T17:00:30.607Z"
   },
   {
    "duration": 185,
    "start_time": "2023-10-09T17:00:30.817Z"
   },
   {
    "duration": 99,
    "start_time": "2023-10-09T17:00:31.004Z"
   },
   {
    "duration": 359,
    "start_time": "2023-10-09T17:00:31.105Z"
   },
   {
    "duration": 141,
    "start_time": "2023-10-09T17:00:31.466Z"
   },
   {
    "duration": 300,
    "start_time": "2023-10-09T17:00:31.611Z"
   },
   {
    "duration": 5324,
    "start_time": "2023-10-09T17:00:31.913Z"
   },
   {
    "duration": 2367,
    "start_time": "2023-10-09T17:00:37.239Z"
   },
   {
    "duration": 2126,
    "start_time": "2023-10-09T17:00:39.609Z"
   },
   {
    "duration": 4,
    "start_time": "2023-10-09T17:06:46.045Z"
   },
   {
    "duration": 182,
    "start_time": "2023-10-09T17:06:46.073Z"
   },
   {
    "duration": 15,
    "start_time": "2023-10-09T17:06:46.258Z"
   },
   {
    "duration": 42,
    "start_time": "2023-10-09T17:06:46.276Z"
   },
   {
    "duration": 50,
    "start_time": "2023-10-09T17:06:46.320Z"
   },
   {
    "duration": 56,
    "start_time": "2023-10-09T17:06:46.372Z"
   },
   {
    "duration": 195,
    "start_time": "2023-10-09T17:06:46.430Z"
   },
   {
    "duration": 9,
    "start_time": "2023-10-09T17:06:46.627Z"
   },
   {
    "duration": 212,
    "start_time": "2023-10-09T17:06:46.638Z"
   },
   {
    "duration": 341,
    "start_time": "2023-10-09T17:06:46.852Z"
   },
   {
    "duration": 27,
    "start_time": "2023-10-09T17:06:47.194Z"
   },
   {
    "duration": 11,
    "start_time": "2023-10-09T17:06:47.223Z"
   },
   {
    "duration": 64,
    "start_time": "2023-10-09T17:06:47.236Z"
   },
   {
    "duration": 36,
    "start_time": "2023-10-09T17:06:47.316Z"
   },
   {
    "duration": 213,
    "start_time": "2023-10-09T17:06:47.355Z"
   },
   {
    "duration": 8,
    "start_time": "2023-10-09T17:06:47.570Z"
   },
   {
    "duration": 89,
    "start_time": "2023-10-09T17:06:47.580Z"
   },
   {
    "duration": 181,
    "start_time": "2023-10-09T17:06:47.670Z"
   },
   {
    "duration": 20,
    "start_time": "2023-10-09T17:06:47.853Z"
   },
   {
    "duration": 43,
    "start_time": "2023-10-09T17:06:47.875Z"
   },
   {
    "duration": 50,
    "start_time": "2023-10-09T17:06:47.920Z"
   },
   {
    "duration": 43,
    "start_time": "2023-10-09T17:06:47.972Z"
   },
   {
    "duration": 202,
    "start_time": "2023-10-09T17:06:48.018Z"
   },
   {
    "duration": 6,
    "start_time": "2023-10-09T17:06:48.222Z"
   },
   {
    "duration": 187,
    "start_time": "2023-10-09T17:06:48.230Z"
   },
   {
    "duration": 18,
    "start_time": "2023-10-09T17:06:48.419Z"
   },
   {
    "duration": 16,
    "start_time": "2023-10-09T17:06:48.439Z"
   },
   {
    "duration": 32,
    "start_time": "2023-10-09T17:06:48.458Z"
   },
   {
    "duration": 3,
    "start_time": "2023-10-09T17:06:48.506Z"
   },
   {
    "duration": 62,
    "start_time": "2023-10-09T17:06:48.511Z"
   },
   {
    "duration": 144,
    "start_time": "2023-10-09T17:06:48.576Z"
   },
   {
    "duration": 0,
    "start_time": "2023-10-09T17:06:48.722Z"
   },
   {
    "duration": 0,
    "start_time": "2023-10-09T17:06:48.725Z"
   },
   {
    "duration": 0,
    "start_time": "2023-10-09T17:06:48.726Z"
   },
   {
    "duration": 1,
    "start_time": "2023-10-09T17:06:48.727Z"
   },
   {
    "duration": 0,
    "start_time": "2023-10-09T17:06:48.729Z"
   },
   {
    "duration": 1,
    "start_time": "2023-10-09T17:06:48.730Z"
   },
   {
    "duration": 0,
    "start_time": "2023-10-09T17:06:48.732Z"
   },
   {
    "duration": 0,
    "start_time": "2023-10-09T17:06:48.735Z"
   },
   {
    "duration": 0,
    "start_time": "2023-10-09T17:06:48.736Z"
   },
   {
    "duration": 0,
    "start_time": "2023-10-09T17:06:48.738Z"
   },
   {
    "duration": 0,
    "start_time": "2023-10-09T17:06:48.739Z"
   },
   {
    "duration": 4,
    "start_time": "2023-10-09T17:29:11.022Z"
   },
   {
    "duration": 193,
    "start_time": "2023-10-09T17:29:11.029Z"
   },
   {
    "duration": 14,
    "start_time": "2023-10-09T17:29:11.224Z"
   },
   {
    "duration": 16,
    "start_time": "2023-10-09T17:29:11.240Z"
   },
   {
    "duration": 72,
    "start_time": "2023-10-09T17:29:11.259Z"
   },
   {
    "duration": 34,
    "start_time": "2023-10-09T17:29:11.333Z"
   },
   {
    "duration": 55,
    "start_time": "2023-10-09T17:29:11.369Z"
   },
   {
    "duration": 191,
    "start_time": "2023-10-09T17:29:11.425Z"
   },
   {
    "duration": 7,
    "start_time": "2023-10-09T17:29:11.618Z"
   },
   {
    "duration": 50,
    "start_time": "2023-10-09T17:29:11.626Z"
   },
   {
    "duration": 158,
    "start_time": "2023-10-09T17:29:11.678Z"
   },
   {
    "duration": 15,
    "start_time": "2023-10-09T17:29:11.838Z"
   },
   {
    "duration": 103,
    "start_time": "2023-10-09T17:29:11.855Z"
   },
   {
    "duration": 78,
    "start_time": "2023-10-09T17:29:11.962Z"
   },
   {
    "duration": 45,
    "start_time": "2023-10-09T17:29:12.042Z"
   },
   {
    "duration": 208,
    "start_time": "2023-10-09T17:29:12.089Z"
   },
   {
    "duration": 13,
    "start_time": "2023-10-09T17:29:12.299Z"
   },
   {
    "duration": 57,
    "start_time": "2023-10-09T17:29:12.313Z"
   },
   {
    "duration": 176,
    "start_time": "2023-10-09T17:29:12.372Z"
   },
   {
    "duration": 18,
    "start_time": "2023-10-09T17:29:12.551Z"
   },
   {
    "duration": 39,
    "start_time": "2023-10-09T17:29:12.572Z"
   },
   {
    "duration": 72,
    "start_time": "2023-10-09T17:29:12.617Z"
   },
   {
    "duration": 47,
    "start_time": "2023-10-09T17:29:12.691Z"
   },
   {
    "duration": 187,
    "start_time": "2023-10-09T17:29:12.739Z"
   },
   {
    "duration": 7,
    "start_time": "2023-10-09T17:29:12.927Z"
   },
   {
    "duration": 112,
    "start_time": "2023-10-09T17:29:12.936Z"
   },
   {
    "duration": 33,
    "start_time": "2023-10-09T17:29:13.103Z"
   },
   {
    "duration": 94,
    "start_time": "2023-10-09T17:29:13.138Z"
   },
   {
    "duration": 92,
    "start_time": "2023-10-09T17:29:13.234Z"
   },
   {
    "duration": 22,
    "start_time": "2023-10-09T17:29:13.328Z"
   },
   {
    "duration": 93,
    "start_time": "2023-10-09T17:29:13.352Z"
   },
   {
    "duration": 78,
    "start_time": "2023-10-09T17:29:13.447Z"
   },
   {
    "duration": 202,
    "start_time": "2023-10-09T17:29:13.527Z"
   },
   {
    "duration": 93,
    "start_time": "2023-10-09T17:29:13.730Z"
   },
   {
    "duration": 285,
    "start_time": "2023-10-09T17:29:13.825Z"
   },
   {
    "duration": 115,
    "start_time": "2023-10-09T17:29:14.112Z"
   },
   {
    "duration": 75,
    "start_time": "2023-10-09T17:29:14.229Z"
   },
   {
    "duration": 71,
    "start_time": "2023-10-09T17:29:14.310Z"
   },
   {
    "duration": 48,
    "start_time": "2023-10-09T17:29:14.383Z"
   },
   {
    "duration": 4649,
    "start_time": "2023-10-09T17:29:14.433Z"
   },
   {
    "duration": 2080,
    "start_time": "2023-10-09T17:29:19.087Z"
   },
   {
    "duration": 2142,
    "start_time": "2023-10-09T17:29:21.169Z"
   },
   {
    "duration": 35,
    "start_time": "2023-10-09T17:29:27.714Z"
   },
   {
    "duration": 4952,
    "start_time": "2023-10-09T17:30:54.711Z"
   },
   {
    "duration": 4,
    "start_time": "2023-10-09T17:31:01.356Z"
   },
   {
    "duration": 192,
    "start_time": "2023-10-09T17:31:01.362Z"
   },
   {
    "duration": 16,
    "start_time": "2023-10-09T17:31:01.555Z"
   },
   {
    "duration": 123,
    "start_time": "2023-10-09T17:31:01.574Z"
   },
   {
    "duration": 88,
    "start_time": "2023-10-09T17:31:01.699Z"
   },
   {
    "duration": 60,
    "start_time": "2023-10-09T17:31:01.789Z"
   },
   {
    "duration": 100,
    "start_time": "2023-10-09T17:31:01.852Z"
   },
   {
    "duration": 83,
    "start_time": "2023-10-09T17:31:01.953Z"
   },
   {
    "duration": 511,
    "start_time": "2023-10-09T17:31:02.038Z"
   },
   {
    "duration": 8,
    "start_time": "2023-10-09T17:31:02.554Z"
   },
   {
    "duration": 115,
    "start_time": "2023-10-09T17:31:02.565Z"
   },
   {
    "duration": 188,
    "start_time": "2023-10-09T17:31:02.683Z"
   },
   {
    "duration": 17,
    "start_time": "2023-10-09T17:31:02.873Z"
   },
   {
    "duration": 27,
    "start_time": "2023-10-09T17:31:02.892Z"
   },
   {
    "duration": 209,
    "start_time": "2023-10-09T17:31:02.921Z"
   },
   {
    "duration": 38,
    "start_time": "2023-10-09T17:31:03.132Z"
   },
   {
    "duration": 190,
    "start_time": "2023-10-09T17:31:03.172Z"
   },
   {
    "duration": 7,
    "start_time": "2023-10-09T17:31:03.364Z"
   },
   {
    "duration": 223,
    "start_time": "2023-10-09T17:31:03.373Z"
   },
   {
    "duration": 167,
    "start_time": "2023-10-09T17:31:03.598Z"
   },
   {
    "duration": 19,
    "start_time": "2023-10-09T17:31:03.767Z"
   },
   {
    "duration": 40,
    "start_time": "2023-10-09T17:31:03.788Z"
   },
   {
    "duration": 62,
    "start_time": "2023-10-09T17:31:03.829Z"
   },
   {
    "duration": 42,
    "start_time": "2023-10-09T17:31:03.894Z"
   },
   {
    "duration": 199,
    "start_time": "2023-10-09T17:31:03.937Z"
   },
   {
    "duration": 7,
    "start_time": "2023-10-09T17:31:04.138Z"
   },
   {
    "duration": 97,
    "start_time": "2023-10-09T17:31:04.147Z"
   },
   {
    "duration": 16,
    "start_time": "2023-10-09T17:31:04.247Z"
   },
   {
    "duration": 49,
    "start_time": "2023-10-09T17:31:04.265Z"
   },
   {
    "duration": 21,
    "start_time": "2023-10-09T17:31:04.317Z"
   },
   {
    "duration": 25,
    "start_time": "2023-10-09T17:31:04.339Z"
   },
   {
    "duration": 57,
    "start_time": "2023-10-09T17:31:04.366Z"
   },
   {
    "duration": 44,
    "start_time": "2023-10-09T17:31:04.425Z"
   },
   {
    "duration": 52,
    "start_time": "2023-10-09T17:31:04.471Z"
   },
   {
    "duration": 204,
    "start_time": "2023-10-09T17:31:04.528Z"
   },
   {
    "duration": 199,
    "start_time": "2023-10-09T17:31:04.803Z"
   },
   {
    "duration": 10,
    "start_time": "2023-10-09T17:31:05.004Z"
   },
   {
    "duration": 98,
    "start_time": "2023-10-09T17:31:05.015Z"
   },
   {
    "duration": 19,
    "start_time": "2023-10-09T17:31:05.115Z"
   },
   {
    "duration": 22,
    "start_time": "2023-10-09T17:31:05.136Z"
   },
   {
    "duration": 5361,
    "start_time": "2023-10-09T17:31:05.159Z"
   },
   {
    "duration": 4572,
    "start_time": "2023-10-09T17:31:10.523Z"
   },
   {
    "duration": 2090,
    "start_time": "2023-10-09T17:31:15.101Z"
   },
   {
    "duration": 4,
    "start_time": "2023-10-09T17:31:49.054Z"
   },
   {
    "duration": 220,
    "start_time": "2023-10-09T17:31:49.061Z"
   },
   {
    "duration": 38,
    "start_time": "2023-10-09T17:31:49.283Z"
   },
   {
    "duration": 12,
    "start_time": "2023-10-09T17:31:49.324Z"
   },
   {
    "duration": 55,
    "start_time": "2023-10-09T17:31:49.337Z"
   },
   {
    "duration": 50,
    "start_time": "2023-10-09T17:31:49.393Z"
   },
   {
    "duration": 65,
    "start_time": "2023-10-09T17:31:49.445Z"
   },
   {
    "duration": 41,
    "start_time": "2023-10-09T17:31:49.515Z"
   },
   {
    "duration": 207,
    "start_time": "2023-10-09T17:31:49.558Z"
   },
   {
    "duration": 7,
    "start_time": "2023-10-09T17:31:49.768Z"
   },
   {
    "duration": 72,
    "start_time": "2023-10-09T17:31:49.777Z"
   },
   {
    "duration": 171,
    "start_time": "2023-10-09T17:31:49.851Z"
   },
   {
    "duration": 18,
    "start_time": "2023-10-09T17:31:50.023Z"
   },
   {
    "duration": 69,
    "start_time": "2023-10-09T17:31:50.043Z"
   },
   {
    "duration": 122,
    "start_time": "2023-10-09T17:31:50.117Z"
   },
   {
    "duration": 42,
    "start_time": "2023-10-09T17:31:50.241Z"
   },
   {
    "duration": 357,
    "start_time": "2023-10-09T17:31:50.285Z"
   },
   {
    "duration": 68,
    "start_time": "2023-10-09T17:31:50.644Z"
   },
   {
    "duration": 102,
    "start_time": "2023-10-09T17:31:50.720Z"
   },
   {
    "duration": 318,
    "start_time": "2023-10-09T17:31:50.824Z"
   },
   {
    "duration": 76,
    "start_time": "2023-10-09T17:31:51.144Z"
   },
   {
    "duration": 93,
    "start_time": "2023-10-09T17:31:51.221Z"
   },
   {
    "duration": 145,
    "start_time": "2023-10-09T17:31:51.316Z"
   },
   {
    "duration": 0,
    "start_time": "2023-10-09T17:31:51.464Z"
   },
   {
    "duration": 0,
    "start_time": "2023-10-09T17:31:51.465Z"
   },
   {
    "duration": 0,
    "start_time": "2023-10-09T17:31:51.467Z"
   },
   {
    "duration": 0,
    "start_time": "2023-10-09T17:31:51.468Z"
   },
   {
    "duration": 0,
    "start_time": "2023-10-09T17:31:51.469Z"
   },
   {
    "duration": 0,
    "start_time": "2023-10-09T17:31:51.470Z"
   },
   {
    "duration": 0,
    "start_time": "2023-10-09T17:31:51.472Z"
   },
   {
    "duration": 0,
    "start_time": "2023-10-09T17:31:51.473Z"
   },
   {
    "duration": 0,
    "start_time": "2023-10-09T17:31:51.474Z"
   },
   {
    "duration": 0,
    "start_time": "2023-10-09T17:31:51.504Z"
   },
   {
    "duration": 0,
    "start_time": "2023-10-09T17:31:51.505Z"
   },
   {
    "duration": 0,
    "start_time": "2023-10-09T17:31:51.507Z"
   },
   {
    "duration": 0,
    "start_time": "2023-10-09T17:31:51.508Z"
   },
   {
    "duration": 0,
    "start_time": "2023-10-09T17:31:51.509Z"
   },
   {
    "duration": 0,
    "start_time": "2023-10-09T17:31:51.510Z"
   },
   {
    "duration": 0,
    "start_time": "2023-10-09T17:31:51.512Z"
   },
   {
    "duration": 0,
    "start_time": "2023-10-09T17:31:51.513Z"
   },
   {
    "duration": 0,
    "start_time": "2023-10-09T17:31:51.514Z"
   },
   {
    "duration": 0,
    "start_time": "2023-10-09T17:31:51.515Z"
   },
   {
    "duration": 0,
    "start_time": "2023-10-09T17:31:51.516Z"
   },
   {
    "duration": 119,
    "start_time": "2023-10-09T17:32:04.554Z"
   },
   {
    "duration": 0,
    "start_time": "2023-10-09T17:35:31.698Z"
   },
   {
    "duration": 0,
    "start_time": "2023-10-09T17:35:31.700Z"
   },
   {
    "duration": 0,
    "start_time": "2023-10-09T17:35:31.701Z"
   },
   {
    "duration": 0,
    "start_time": "2023-10-09T17:35:31.703Z"
   },
   {
    "duration": 0,
    "start_time": "2023-10-09T17:35:31.704Z"
   },
   {
    "duration": 0,
    "start_time": "2023-10-09T17:35:31.707Z"
   },
   {
    "duration": 0,
    "start_time": "2023-10-09T17:35:31.708Z"
   },
   {
    "duration": 0,
    "start_time": "2023-10-09T17:35:31.709Z"
   },
   {
    "duration": 0,
    "start_time": "2023-10-09T17:35:31.711Z"
   },
   {
    "duration": 0,
    "start_time": "2023-10-09T17:35:31.716Z"
   },
   {
    "duration": 0,
    "start_time": "2023-10-09T17:35:31.717Z"
   },
   {
    "duration": 0,
    "start_time": "2023-10-09T17:35:31.719Z"
   },
   {
    "duration": 0,
    "start_time": "2023-10-09T17:35:31.721Z"
   },
   {
    "duration": 0,
    "start_time": "2023-10-09T17:35:31.723Z"
   },
   {
    "duration": 0,
    "start_time": "2023-10-09T17:35:31.724Z"
   },
   {
    "duration": 0,
    "start_time": "2023-10-09T17:35:31.726Z"
   },
   {
    "duration": 0,
    "start_time": "2023-10-09T17:35:31.728Z"
   },
   {
    "duration": 0,
    "start_time": "2023-10-09T17:35:31.729Z"
   },
   {
    "duration": 0,
    "start_time": "2023-10-09T17:35:31.731Z"
   },
   {
    "duration": 0,
    "start_time": "2023-10-09T17:35:31.732Z"
   },
   {
    "duration": 0,
    "start_time": "2023-10-09T17:35:31.734Z"
   },
   {
    "duration": 0,
    "start_time": "2023-10-09T17:35:31.735Z"
   },
   {
    "duration": 0,
    "start_time": "2023-10-09T17:35:31.737Z"
   },
   {
    "duration": 0,
    "start_time": "2023-10-09T17:35:31.738Z"
   },
   {
    "duration": 0,
    "start_time": "2023-10-09T17:35:31.740Z"
   },
   {
    "duration": 0,
    "start_time": "2023-10-09T17:35:31.741Z"
   },
   {
    "duration": 1,
    "start_time": "2023-10-09T17:35:31.742Z"
   },
   {
    "duration": 0,
    "start_time": "2023-10-09T17:35:31.744Z"
   },
   {
    "duration": 0,
    "start_time": "2023-10-09T17:35:31.745Z"
   },
   {
    "duration": 0,
    "start_time": "2023-10-09T17:35:31.804Z"
   },
   {
    "duration": 0,
    "start_time": "2023-10-09T17:35:31.805Z"
   },
   {
    "duration": 0,
    "start_time": "2023-10-09T17:35:31.807Z"
   },
   {
    "duration": 0,
    "start_time": "2023-10-09T17:35:31.808Z"
   },
   {
    "duration": 0,
    "start_time": "2023-10-09T17:35:31.816Z"
   },
   {
    "duration": 0,
    "start_time": "2023-10-09T17:35:31.817Z"
   },
   {
    "duration": 0,
    "start_time": "2023-10-09T17:35:31.819Z"
   },
   {
    "duration": 0,
    "start_time": "2023-10-09T17:35:31.820Z"
   },
   {
    "duration": 0,
    "start_time": "2023-10-09T17:35:31.821Z"
   },
   {
    "duration": 0,
    "start_time": "2023-10-09T17:35:31.824Z"
   },
   {
    "duration": 0,
    "start_time": "2023-10-09T17:35:31.825Z"
   },
   {
    "duration": 0,
    "start_time": "2023-10-09T17:35:31.826Z"
   },
   {
    "duration": 0,
    "start_time": "2023-10-09T17:35:31.827Z"
   },
   {
    "duration": 0,
    "start_time": "2023-10-09T17:35:31.829Z"
   },
   {
    "duration": 0,
    "start_time": "2023-10-09T17:35:31.831Z"
   },
   {
    "duration": 5,
    "start_time": "2023-10-09T17:35:42.095Z"
   },
   {
    "duration": 196,
    "start_time": "2023-10-09T17:35:42.106Z"
   },
   {
    "duration": 21,
    "start_time": "2023-10-09T17:35:42.306Z"
   },
   {
    "duration": 40,
    "start_time": "2023-10-09T17:35:42.329Z"
   },
   {
    "duration": 64,
    "start_time": "2023-10-09T17:35:42.371Z"
   },
   {
    "duration": 36,
    "start_time": "2023-10-09T17:35:42.436Z"
   },
   {
    "duration": 50,
    "start_time": "2023-10-09T17:35:42.474Z"
   },
   {
    "duration": 0,
    "start_time": "2023-10-09T17:35:42.527Z"
   },
   {
    "duration": 0,
    "start_time": "2023-10-09T17:35:42.528Z"
   },
   {
    "duration": 0,
    "start_time": "2023-10-09T17:35:42.529Z"
   },
   {
    "duration": 0,
    "start_time": "2023-10-09T17:35:42.530Z"
   },
   {
    "duration": 0,
    "start_time": "2023-10-09T17:35:42.532Z"
   },
   {
    "duration": 0,
    "start_time": "2023-10-09T17:35:42.533Z"
   },
   {
    "duration": 0,
    "start_time": "2023-10-09T17:35:42.534Z"
   },
   {
    "duration": 0,
    "start_time": "2023-10-09T17:35:42.535Z"
   },
   {
    "duration": 0,
    "start_time": "2023-10-09T17:35:42.536Z"
   },
   {
    "duration": 0,
    "start_time": "2023-10-09T17:35:42.538Z"
   },
   {
    "duration": 0,
    "start_time": "2023-10-09T17:35:42.539Z"
   },
   {
    "duration": 0,
    "start_time": "2023-10-09T17:35:42.541Z"
   },
   {
    "duration": 0,
    "start_time": "2023-10-09T17:35:42.542Z"
   },
   {
    "duration": 0,
    "start_time": "2023-10-09T17:35:42.544Z"
   },
   {
    "duration": 0,
    "start_time": "2023-10-09T17:35:42.546Z"
   },
   {
    "duration": 0,
    "start_time": "2023-10-09T17:35:42.547Z"
   },
   {
    "duration": 0,
    "start_time": "2023-10-09T17:35:42.548Z"
   },
   {
    "duration": 0,
    "start_time": "2023-10-09T17:35:42.550Z"
   },
   {
    "duration": 0,
    "start_time": "2023-10-09T17:35:42.551Z"
   },
   {
    "duration": 0,
    "start_time": "2023-10-09T17:35:42.553Z"
   },
   {
    "duration": 0,
    "start_time": "2023-10-09T17:35:42.554Z"
   },
   {
    "duration": 0,
    "start_time": "2023-10-09T17:35:42.555Z"
   },
   {
    "duration": 0,
    "start_time": "2023-10-09T17:35:42.602Z"
   },
   {
    "duration": 0,
    "start_time": "2023-10-09T17:35:42.604Z"
   },
   {
    "duration": 0,
    "start_time": "2023-10-09T17:35:42.605Z"
   },
   {
    "duration": 0,
    "start_time": "2023-10-09T17:35:42.606Z"
   },
   {
    "duration": 0,
    "start_time": "2023-10-09T17:35:42.607Z"
   },
   {
    "duration": 0,
    "start_time": "2023-10-09T17:35:42.609Z"
   },
   {
    "duration": 0,
    "start_time": "2023-10-09T17:35:42.610Z"
   },
   {
    "duration": 0,
    "start_time": "2023-10-09T17:35:42.612Z"
   },
   {
    "duration": 0,
    "start_time": "2023-10-09T17:35:42.614Z"
   },
   {
    "duration": 0,
    "start_time": "2023-10-09T17:35:42.615Z"
   },
   {
    "duration": 0,
    "start_time": "2023-10-09T17:35:42.616Z"
   },
   {
    "duration": 0,
    "start_time": "2023-10-09T17:35:42.618Z"
   },
   {
    "duration": 0,
    "start_time": "2023-10-09T17:35:42.620Z"
   },
   {
    "duration": 0,
    "start_time": "2023-10-09T17:35:42.622Z"
   },
   {
    "duration": 0,
    "start_time": "2023-10-09T17:35:42.623Z"
   },
   {
    "duration": 25,
    "start_time": "2023-10-09T17:35:54.167Z"
   },
   {
    "duration": 1043,
    "start_time": "2023-10-09T17:36:27.133Z"
   },
   {
    "duration": 24,
    "start_time": "2023-10-09T17:36:37.861Z"
   },
   {
    "duration": 26,
    "start_time": "2023-10-09T17:39:24.855Z"
   },
   {
    "duration": 25,
    "start_time": "2023-10-09T17:39:34.354Z"
   },
   {
    "duration": 4,
    "start_time": "2023-10-09T17:39:57.885Z"
   },
   {
    "duration": 172,
    "start_time": "2023-10-09T17:39:57.892Z"
   },
   {
    "duration": 17,
    "start_time": "2023-10-09T17:39:58.066Z"
   },
   {
    "duration": 35,
    "start_time": "2023-10-09T17:39:58.085Z"
   },
   {
    "duration": 56,
    "start_time": "2023-10-09T17:39:58.122Z"
   },
   {
    "duration": 3,
    "start_time": "2023-10-09T17:39:58.180Z"
   },
   {
    "duration": 34,
    "start_time": "2023-10-09T17:39:58.185Z"
   },
   {
    "duration": 45,
    "start_time": "2023-10-09T17:39:58.221Z"
   },
   {
    "duration": 65,
    "start_time": "2023-10-09T17:39:58.270Z"
   },
   {
    "duration": 185,
    "start_time": "2023-10-09T17:39:58.337Z"
   },
   {
    "duration": 8,
    "start_time": "2023-10-09T17:39:58.525Z"
   },
   {
    "duration": 68,
    "start_time": "2023-10-09T17:39:58.535Z"
   },
   {
    "duration": 160,
    "start_time": "2023-10-09T17:39:58.605Z"
   },
   {
    "duration": 16,
    "start_time": "2023-10-09T17:39:58.767Z"
   },
   {
    "duration": 39,
    "start_time": "2023-10-09T17:39:58.785Z"
   },
   {
    "duration": 97,
    "start_time": "2023-10-09T17:39:58.826Z"
   },
   {
    "duration": 38,
    "start_time": "2023-10-09T17:39:58.925Z"
   },
   {
    "duration": 206,
    "start_time": "2023-10-09T17:39:58.964Z"
   },
   {
    "duration": 7,
    "start_time": "2023-10-09T17:39:59.171Z"
   },
   {
    "duration": 102,
    "start_time": "2023-10-09T17:39:59.180Z"
   },
   {
    "duration": 169,
    "start_time": "2023-10-09T17:39:59.283Z"
   },
   {
    "duration": 19,
    "start_time": "2023-10-09T17:39:59.453Z"
   },
   {
    "duration": 32,
    "start_time": "2023-10-09T17:39:59.475Z"
   },
   {
    "duration": 86,
    "start_time": "2023-10-09T17:39:59.512Z"
   },
   {
    "duration": 48,
    "start_time": "2023-10-09T17:39:59.599Z"
   },
   {
    "duration": 195,
    "start_time": "2023-10-09T17:39:59.649Z"
   },
   {
    "duration": 7,
    "start_time": "2023-10-09T17:39:59.846Z"
   },
   {
    "duration": 67,
    "start_time": "2023-10-09T17:39:59.855Z"
   },
   {
    "duration": 15,
    "start_time": "2023-10-09T17:39:59.924Z"
   },
   {
    "duration": 33,
    "start_time": "2023-10-09T17:39:59.941Z"
   },
   {
    "duration": 19,
    "start_time": "2023-10-09T17:39:59.976Z"
   },
   {
    "duration": 13,
    "start_time": "2023-10-09T17:40:00.013Z"
   },
   {
    "duration": 88,
    "start_time": "2023-10-09T17:40:00.029Z"
   },
   {
    "duration": 59,
    "start_time": "2023-10-09T17:40:00.119Z"
   },
   {
    "duration": 135,
    "start_time": "2023-10-09T17:40:00.180Z"
   },
   {
    "duration": 113,
    "start_time": "2023-10-09T17:40:00.317Z"
   },
   {
    "duration": 198,
    "start_time": "2023-10-09T17:40:00.503Z"
   },
   {
    "duration": 5,
    "start_time": "2023-10-09T17:40:00.706Z"
   },
   {
    "duration": 93,
    "start_time": "2023-10-09T17:40:00.713Z"
   },
   {
    "duration": 59,
    "start_time": "2023-10-09T17:40:00.808Z"
   },
   {
    "duration": 43,
    "start_time": "2023-10-09T17:40:00.869Z"
   },
   {
    "duration": 4366,
    "start_time": "2023-10-09T17:40:00.915Z"
   },
   {
    "duration": 4031,
    "start_time": "2023-10-09T17:40:05.282Z"
   },
   {
    "duration": 5890,
    "start_time": "2023-10-09T17:40:09.317Z"
   },
   {
    "duration": 5,
    "start_time": "2023-10-09T17:48:45.711Z"
   },
   {
    "duration": 198,
    "start_time": "2023-10-09T17:48:45.718Z"
   },
   {
    "duration": 16,
    "start_time": "2023-10-09T17:48:45.918Z"
   },
   {
    "duration": 27,
    "start_time": "2023-10-09T17:48:45.935Z"
   },
   {
    "duration": 65,
    "start_time": "2023-10-09T17:48:45.965Z"
   },
   {
    "duration": 55,
    "start_time": "2023-10-09T17:48:46.032Z"
   },
   {
    "duration": 29,
    "start_time": "2023-10-09T17:48:46.089Z"
   },
   {
    "duration": 0,
    "start_time": "2023-10-09T17:48:46.122Z"
   },
   {
    "duration": 0,
    "start_time": "2023-10-09T17:48:46.123Z"
   },
   {
    "duration": 0,
    "start_time": "2023-10-09T17:48:46.125Z"
   },
   {
    "duration": 0,
    "start_time": "2023-10-09T17:48:46.126Z"
   },
   {
    "duration": 0,
    "start_time": "2023-10-09T17:48:46.127Z"
   },
   {
    "duration": 0,
    "start_time": "2023-10-09T17:48:46.128Z"
   },
   {
    "duration": 0,
    "start_time": "2023-10-09T17:48:46.129Z"
   },
   {
    "duration": 0,
    "start_time": "2023-10-09T17:48:46.131Z"
   },
   {
    "duration": 0,
    "start_time": "2023-10-09T17:48:46.132Z"
   },
   {
    "duration": 0,
    "start_time": "2023-10-09T17:48:46.133Z"
   },
   {
    "duration": 0,
    "start_time": "2023-10-09T17:48:46.134Z"
   },
   {
    "duration": 0,
    "start_time": "2023-10-09T17:48:46.135Z"
   },
   {
    "duration": 0,
    "start_time": "2023-10-09T17:48:46.136Z"
   },
   {
    "duration": 0,
    "start_time": "2023-10-09T17:48:46.137Z"
   },
   {
    "duration": 0,
    "start_time": "2023-10-09T17:48:46.137Z"
   },
   {
    "duration": 0,
    "start_time": "2023-10-09T17:48:46.138Z"
   },
   {
    "duration": 0,
    "start_time": "2023-10-09T17:48:46.140Z"
   },
   {
    "duration": 0,
    "start_time": "2023-10-09T17:48:46.141Z"
   },
   {
    "duration": 0,
    "start_time": "2023-10-09T17:48:46.142Z"
   },
   {
    "duration": 0,
    "start_time": "2023-10-09T17:48:46.143Z"
   },
   {
    "duration": 0,
    "start_time": "2023-10-09T17:48:46.144Z"
   },
   {
    "duration": 0,
    "start_time": "2023-10-09T17:48:46.145Z"
   },
   {
    "duration": 0,
    "start_time": "2023-10-09T17:48:46.146Z"
   },
   {
    "duration": 0,
    "start_time": "2023-10-09T17:48:46.147Z"
   },
   {
    "duration": 0,
    "start_time": "2023-10-09T17:48:46.148Z"
   },
   {
    "duration": 0,
    "start_time": "2023-10-09T17:48:46.150Z"
   },
   {
    "duration": 0,
    "start_time": "2023-10-09T17:48:46.151Z"
   },
   {
    "duration": 0,
    "start_time": "2023-10-09T17:48:46.152Z"
   },
   {
    "duration": 0,
    "start_time": "2023-10-09T17:48:46.205Z"
   },
   {
    "duration": 0,
    "start_time": "2023-10-09T17:48:46.206Z"
   },
   {
    "duration": 0,
    "start_time": "2023-10-09T17:48:46.207Z"
   },
   {
    "duration": 0,
    "start_time": "2023-10-09T17:48:46.208Z"
   },
   {
    "duration": 0,
    "start_time": "2023-10-09T17:48:46.209Z"
   },
   {
    "duration": 0,
    "start_time": "2023-10-09T17:48:46.209Z"
   },
   {
    "duration": 0,
    "start_time": "2023-10-09T17:48:46.210Z"
   },
   {
    "duration": 0,
    "start_time": "2023-10-09T17:48:46.211Z"
   },
   {
    "duration": 38,
    "start_time": "2023-10-09T17:48:56.480Z"
   },
   {
    "duration": 31,
    "start_time": "2023-10-09T17:49:04.752Z"
   },
   {
    "duration": 4,
    "start_time": "2023-10-09T17:50:08.670Z"
   },
   {
    "duration": 220,
    "start_time": "2023-10-09T17:50:08.677Z"
   },
   {
    "duration": 27,
    "start_time": "2023-10-09T17:50:08.903Z"
   },
   {
    "duration": 35,
    "start_time": "2023-10-09T17:50:08.932Z"
   },
   {
    "duration": 81,
    "start_time": "2023-10-09T17:50:08.969Z"
   },
   {
    "duration": 64,
    "start_time": "2023-10-09T17:50:09.052Z"
   },
   {
    "duration": 26,
    "start_time": "2023-10-09T17:50:09.118Z"
   },
   {
    "duration": 50,
    "start_time": "2023-10-09T17:50:09.146Z"
   },
   {
    "duration": 190,
    "start_time": "2023-10-09T17:50:09.203Z"
   },
   {
    "duration": 11,
    "start_time": "2023-10-09T17:50:09.401Z"
   },
   {
    "duration": 64,
    "start_time": "2023-10-09T17:50:09.413Z"
   },
   {
    "duration": 180,
    "start_time": "2023-10-09T17:50:09.479Z"
   },
   {
    "duration": 24,
    "start_time": "2023-10-09T17:50:09.662Z"
   },
   {
    "duration": 27,
    "start_time": "2023-10-09T17:50:09.702Z"
   },
   {
    "duration": 81,
    "start_time": "2023-10-09T17:50:09.731Z"
   },
   {
    "duration": 77,
    "start_time": "2023-10-09T17:50:09.814Z"
   },
   {
    "duration": 47,
    "start_time": "2023-10-09T17:50:09.892Z"
   },
   {
    "duration": 209,
    "start_time": "2023-10-09T17:50:09.941Z"
   },
   {
    "duration": 9,
    "start_time": "2023-10-09T17:50:10.153Z"
   },
   {
    "duration": 77,
    "start_time": "2023-10-09T17:50:10.165Z"
   },
   {
    "duration": 234,
    "start_time": "2023-10-09T17:50:10.244Z"
   },
   {
    "duration": 29,
    "start_time": "2023-10-09T17:50:10.479Z"
   },
   {
    "duration": 38,
    "start_time": "2023-10-09T17:50:10.512Z"
   },
   {
    "duration": 95,
    "start_time": "2023-10-09T17:50:10.552Z"
   },
   {
    "duration": 38,
    "start_time": "2023-10-09T17:50:10.649Z"
   },
   {
    "duration": 235,
    "start_time": "2023-10-09T17:50:10.689Z"
   },
   {
    "duration": 7,
    "start_time": "2023-10-09T17:50:10.926Z"
   },
   {
    "duration": 174,
    "start_time": "2023-10-09T17:50:10.936Z"
   },
   {
    "duration": 22,
    "start_time": "2023-10-09T17:50:11.125Z"
   },
   {
    "duration": 181,
    "start_time": "2023-10-09T17:50:11.149Z"
   },
   {
    "duration": 16,
    "start_time": "2023-10-09T17:50:11.332Z"
   },
   {
    "duration": 58,
    "start_time": "2023-10-09T17:50:11.350Z"
   },
   {
    "duration": 199,
    "start_time": "2023-10-09T17:50:11.410Z"
   },
   {
    "duration": 24,
    "start_time": "2023-10-09T17:50:11.616Z"
   },
   {
    "duration": 278,
    "start_time": "2023-10-09T17:50:11.643Z"
   },
   {
    "duration": 89,
    "start_time": "2023-10-09T17:50:11.924Z"
   },
   {
    "duration": 189,
    "start_time": "2023-10-09T17:50:12.020Z"
   },
   {
    "duration": 14,
    "start_time": "2023-10-09T17:50:12.211Z"
   },
   {
    "duration": 6,
    "start_time": "2023-10-09T17:50:12.306Z"
   },
   {
    "duration": 93,
    "start_time": "2023-10-09T17:50:12.314Z"
   },
   {
    "duration": 11,
    "start_time": "2023-10-09T17:50:12.409Z"
   },
   {
    "duration": 3043,
    "start_time": "2023-10-09T17:50:12.423Z"
   },
   {
    "duration": 4686,
    "start_time": "2023-10-09T17:50:15.468Z"
   },
   {
    "duration": 6566,
    "start_time": "2023-10-09T17:50:20.156Z"
   },
   {
    "duration": 13,
    "start_time": "2023-10-09T17:50:47.824Z"
   },
   {
    "duration": 3,
    "start_time": "2023-10-09T17:50:53.582Z"
   },
   {
    "duration": 251,
    "start_time": "2023-10-09T17:50:53.587Z"
   },
   {
    "duration": 16,
    "start_time": "2023-10-09T17:50:53.840Z"
   },
   {
    "duration": 59,
    "start_time": "2023-10-09T17:50:53.858Z"
   },
   {
    "duration": 72,
    "start_time": "2023-10-09T17:50:53.920Z"
   },
   {
    "duration": 79,
    "start_time": "2023-10-09T17:50:53.993Z"
   },
   {
    "duration": 48,
    "start_time": "2023-10-09T17:50:54.074Z"
   },
   {
    "duration": 43,
    "start_time": "2023-10-09T17:50:54.124Z"
   },
   {
    "duration": 212,
    "start_time": "2023-10-09T17:50:54.169Z"
   },
   {
    "duration": 7,
    "start_time": "2023-10-09T17:50:54.384Z"
   },
   {
    "duration": 69,
    "start_time": "2023-10-09T17:50:54.403Z"
   },
   {
    "duration": 211,
    "start_time": "2023-10-09T17:50:54.474Z"
   },
   {
    "duration": 29,
    "start_time": "2023-10-09T17:50:54.688Z"
   },
   {
    "duration": 81,
    "start_time": "2023-10-09T17:50:54.719Z"
   },
   {
    "duration": 95,
    "start_time": "2023-10-09T17:50:54.805Z"
   },
   {
    "duration": 65,
    "start_time": "2023-10-09T17:50:54.911Z"
   },
   {
    "duration": 37,
    "start_time": "2023-10-09T17:50:54.977Z"
   },
   {
    "duration": 103,
    "start_time": "2023-10-09T17:50:55.015Z"
   },
   {
    "duration": 181,
    "start_time": "2023-10-09T17:50:55.120Z"
   },
   {
    "duration": 10,
    "start_time": "2023-10-09T17:50:55.303Z"
   },
   {
    "duration": 82,
    "start_time": "2023-10-09T17:50:55.315Z"
   },
   {
    "duration": 166,
    "start_time": "2023-10-09T17:50:55.398Z"
   },
   {
    "duration": 14,
    "start_time": "2023-10-09T17:50:55.566Z"
   },
   {
    "duration": 24,
    "start_time": "2023-10-09T17:50:55.582Z"
   },
   {
    "duration": 125,
    "start_time": "2023-10-09T17:50:55.612Z"
   },
   {
    "duration": 40,
    "start_time": "2023-10-09T17:50:55.739Z"
   },
   {
    "duration": 239,
    "start_time": "2023-10-09T17:50:55.781Z"
   },
   {
    "duration": 8,
    "start_time": "2023-10-09T17:50:56.024Z"
   },
   {
    "duration": 58,
    "start_time": "2023-10-09T17:50:56.034Z"
   },
   {
    "duration": 19,
    "start_time": "2023-10-09T17:50:56.103Z"
   },
   {
    "duration": 19,
    "start_time": "2023-10-09T17:50:56.124Z"
   },
   {
    "duration": 39,
    "start_time": "2023-10-09T17:50:56.145Z"
   },
   {
    "duration": 27,
    "start_time": "2023-10-09T17:50:56.187Z"
   },
   {
    "duration": 22,
    "start_time": "2023-10-09T17:50:56.216Z"
   },
   {
    "duration": 21,
    "start_time": "2023-10-09T17:50:56.240Z"
   },
   {
    "duration": 58,
    "start_time": "2023-10-09T17:50:56.262Z"
   },
   {
    "duration": 108,
    "start_time": "2023-10-09T17:50:56.323Z"
   },
   {
    "duration": 169,
    "start_time": "2023-10-09T17:50:56.434Z"
   },
   {
    "duration": 8,
    "start_time": "2023-10-09T17:50:56.605Z"
   },
   {
    "duration": 93,
    "start_time": "2023-10-09T17:50:56.615Z"
   },
   {
    "duration": 22,
    "start_time": "2023-10-09T17:50:56.710Z"
   },
   {
    "duration": 19,
    "start_time": "2023-10-09T17:50:56.734Z"
   },
   {
    "duration": 2324,
    "start_time": "2023-10-09T17:50:56.755Z"
   },
   {
    "duration": 2160,
    "start_time": "2023-10-09T17:50:59.081Z"
   },
   {
    "duration": 4579,
    "start_time": "2023-10-09T17:51:01.242Z"
   },
   {
    "duration": 4,
    "start_time": "2023-10-09T17:51:46.679Z"
   },
   {
    "duration": 201,
    "start_time": "2023-10-09T17:51:46.685Z"
   },
   {
    "duration": 29,
    "start_time": "2023-10-09T17:51:46.888Z"
   },
   {
    "duration": 31,
    "start_time": "2023-10-09T17:51:46.922Z"
   },
   {
    "duration": 54,
    "start_time": "2023-10-09T17:51:46.957Z"
   },
   {
    "duration": 67,
    "start_time": "2023-10-09T17:51:47.016Z"
   },
   {
    "duration": 43,
    "start_time": "2023-10-09T17:51:47.085Z"
   },
   {
    "duration": 44,
    "start_time": "2023-10-09T17:51:47.131Z"
   },
   {
    "duration": 201,
    "start_time": "2023-10-09T17:51:47.177Z"
   },
   {
    "duration": 8,
    "start_time": "2023-10-09T17:51:47.379Z"
   },
   {
    "duration": 81,
    "start_time": "2023-10-09T17:51:47.389Z"
   },
   {
    "duration": 269,
    "start_time": "2023-10-09T17:51:47.472Z"
   },
   {
    "duration": 23,
    "start_time": "2023-10-09T17:51:47.742Z"
   },
   {
    "duration": 36,
    "start_time": "2023-10-09T17:51:47.769Z"
   },
   {
    "duration": 47,
    "start_time": "2023-10-09T17:51:47.810Z"
   },
   {
    "duration": 75,
    "start_time": "2023-10-09T17:51:47.859Z"
   },
   {
    "duration": 26,
    "start_time": "2023-10-09T17:51:47.936Z"
   },
   {
    "duration": 63,
    "start_time": "2023-10-09T17:51:47.964Z"
   },
   {
    "duration": 202,
    "start_time": "2023-10-09T17:51:48.029Z"
   },
   {
    "duration": 8,
    "start_time": "2023-10-09T17:51:48.233Z"
   },
   {
    "duration": 96,
    "start_time": "2023-10-09T17:51:48.243Z"
   },
   {
    "duration": 182,
    "start_time": "2023-10-09T17:51:48.341Z"
   },
   {
    "duration": 17,
    "start_time": "2023-10-09T17:51:48.525Z"
   },
   {
    "duration": 30,
    "start_time": "2023-10-09T17:51:48.544Z"
   },
   {
    "duration": 112,
    "start_time": "2023-10-09T17:51:48.576Z"
   },
   {
    "duration": 57,
    "start_time": "2023-10-09T17:51:48.690Z"
   },
   {
    "duration": 194,
    "start_time": "2023-10-09T17:51:48.749Z"
   },
   {
    "duration": 7,
    "start_time": "2023-10-09T17:51:48.945Z"
   },
   {
    "duration": 70,
    "start_time": "2023-10-09T17:51:48.953Z"
   },
   {
    "duration": 15,
    "start_time": "2023-10-09T17:51:49.025Z"
   },
   {
    "duration": 14,
    "start_time": "2023-10-09T17:51:49.042Z"
   },
   {
    "duration": 16,
    "start_time": "2023-10-09T17:51:49.058Z"
   },
   {
    "duration": 3,
    "start_time": "2023-10-09T17:51:49.102Z"
   },
   {
    "duration": 32,
    "start_time": "2023-10-09T17:51:49.106Z"
   },
   {
    "duration": 21,
    "start_time": "2023-10-09T17:51:49.139Z"
   },
   {
    "duration": 62,
    "start_time": "2023-10-09T17:51:49.162Z"
   },
   {
    "duration": 103,
    "start_time": "2023-10-09T17:51:49.302Z"
   },
   {
    "duration": 194,
    "start_time": "2023-10-09T17:51:49.410Z"
   },
   {
    "duration": 9,
    "start_time": "2023-10-09T17:51:49.611Z"
   },
   {
    "duration": 7,
    "start_time": "2023-10-09T17:51:49.624Z"
   },
   {
    "duration": 73,
    "start_time": "2023-10-09T17:51:49.636Z"
   },
   {
    "duration": 10,
    "start_time": "2023-10-09T17:51:49.714Z"
   },
   {
    "duration": 2163,
    "start_time": "2023-10-09T17:51:49.726Z"
   },
   {
    "duration": 2135,
    "start_time": "2023-10-09T17:51:51.891Z"
   },
   {
    "duration": 4500,
    "start_time": "2023-10-09T17:51:54.027Z"
   },
   {
    "duration": 4,
    "start_time": "2023-10-09T17:54:03.539Z"
   },
   {
    "duration": 230,
    "start_time": "2023-10-09T17:54:03.545Z"
   },
   {
    "duration": 16,
    "start_time": "2023-10-09T17:54:03.776Z"
   },
   {
    "duration": 29,
    "start_time": "2023-10-09T17:54:03.794Z"
   },
   {
    "duration": 45,
    "start_time": "2023-10-09T17:54:03.829Z"
   },
   {
    "duration": 38,
    "start_time": "2023-10-09T17:54:03.876Z"
   },
   {
    "duration": 142,
    "start_time": "2023-10-09T17:54:03.916Z"
   },
   {
    "duration": 172,
    "start_time": "2023-10-09T17:54:04.060Z"
   },
   {
    "duration": 199,
    "start_time": "2023-10-09T17:54:04.236Z"
   },
   {
    "duration": 8,
    "start_time": "2023-10-09T17:54:04.439Z"
   },
   {
    "duration": 64,
    "start_time": "2023-10-09T17:54:04.449Z"
   },
   {
    "duration": 180,
    "start_time": "2023-10-09T17:54:04.515Z"
   },
   {
    "duration": 36,
    "start_time": "2023-10-09T17:54:04.698Z"
   },
   {
    "duration": 38,
    "start_time": "2023-10-09T17:54:04.738Z"
   },
   {
    "duration": 101,
    "start_time": "2023-10-09T17:54:04.778Z"
   },
   {
    "duration": 31,
    "start_time": "2023-10-09T17:54:04.881Z"
   },
   {
    "duration": 33,
    "start_time": "2023-10-09T17:54:04.917Z"
   },
   {
    "duration": 47,
    "start_time": "2023-10-09T17:54:04.952Z"
   },
   {
    "duration": 203,
    "start_time": "2023-10-09T17:54:05.001Z"
   },
   {
    "duration": 13,
    "start_time": "2023-10-09T17:54:05.213Z"
   },
   {
    "duration": 51,
    "start_time": "2023-10-09T17:54:05.232Z"
   },
   {
    "duration": 192,
    "start_time": "2023-10-09T17:54:05.285Z"
   },
   {
    "duration": 29,
    "start_time": "2023-10-09T17:54:05.478Z"
   },
   {
    "duration": 33,
    "start_time": "2023-10-09T17:54:05.510Z"
   },
   {
    "duration": 78,
    "start_time": "2023-10-09T17:54:05.545Z"
   },
   {
    "duration": 37,
    "start_time": "2023-10-09T17:54:05.625Z"
   },
   {
    "duration": 30,
    "start_time": "2023-10-09T17:54:05.664Z"
   },
   {
    "duration": 58,
    "start_time": "2023-10-09T17:54:05.702Z"
   },
   {
    "duration": 184,
    "start_time": "2023-10-09T17:54:05.762Z"
   },
   {
    "duration": 7,
    "start_time": "2023-10-09T17:54:05.948Z"
   },
   {
    "duration": 79,
    "start_time": "2023-10-09T17:54:05.957Z"
   },
   {
    "duration": 16,
    "start_time": "2023-10-09T17:54:06.039Z"
   },
   {
    "duration": 44,
    "start_time": "2023-10-09T17:54:06.056Z"
   },
   {
    "duration": 29,
    "start_time": "2023-10-09T17:54:06.103Z"
   },
   {
    "duration": 4,
    "start_time": "2023-10-09T17:54:06.134Z"
   },
   {
    "duration": 46,
    "start_time": "2023-10-09T17:54:06.140Z"
   },
   {
    "duration": 52,
    "start_time": "2023-10-09T17:54:06.188Z"
   },
   {
    "duration": 68,
    "start_time": "2023-10-09T17:54:06.242Z"
   },
   {
    "duration": 203,
    "start_time": "2023-10-09T17:54:06.312Z"
   },
   {
    "duration": 95,
    "start_time": "2023-10-09T17:54:06.521Z"
   },
   {
    "duration": 4,
    "start_time": "2023-10-09T17:54:06.626Z"
   },
   {
    "duration": 28,
    "start_time": "2023-10-09T17:54:06.704Z"
   },
   {
    "duration": 17,
    "start_time": "2023-10-09T17:54:06.736Z"
   },
   {
    "duration": 10,
    "start_time": "2023-10-09T17:54:06.756Z"
   },
   {
    "duration": 2267,
    "start_time": "2023-10-09T17:54:06.769Z"
   },
   {
    "duration": 2232,
    "start_time": "2023-10-09T17:54:09.038Z"
   },
   {
    "duration": 2234,
    "start_time": "2023-10-09T17:54:11.273Z"
   },
   {
    "duration": 12,
    "start_time": "2023-10-09T17:59:56.016Z"
   },
   {
    "duration": 4,
    "start_time": "2023-10-09T17:59:59.069Z"
   },
   {
    "duration": 203,
    "start_time": "2023-10-09T17:59:59.075Z"
   },
   {
    "duration": 25,
    "start_time": "2023-10-09T17:59:59.280Z"
   },
   {
    "duration": 12,
    "start_time": "2023-10-09T17:59:59.308Z"
   },
   {
    "duration": 61,
    "start_time": "2023-10-09T17:59:59.321Z"
   },
   {
    "duration": 44,
    "start_time": "2023-10-09T17:59:59.383Z"
   },
   {
    "duration": 27,
    "start_time": "2023-10-09T17:59:59.429Z"
   },
   {
    "duration": 62,
    "start_time": "2023-10-09T17:59:59.458Z"
   },
   {
    "duration": 187,
    "start_time": "2023-10-09T17:59:59.523Z"
   },
   {
    "duration": 7,
    "start_time": "2023-10-09T17:59:59.712Z"
   },
   {
    "duration": 93,
    "start_time": "2023-10-09T17:59:59.722Z"
   },
   {
    "duration": 163,
    "start_time": "2023-10-09T17:59:59.817Z"
   },
   {
    "duration": 25,
    "start_time": "2023-10-09T17:59:59.982Z"
   },
   {
    "duration": 186,
    "start_time": "2023-10-09T18:00:00.009Z"
   },
   {
    "duration": 120,
    "start_time": "2023-10-09T18:00:00.197Z"
   },
   {
    "duration": 71,
    "start_time": "2023-10-09T18:00:00.319Z"
   },
   {
    "duration": 71,
    "start_time": "2023-10-09T18:00:00.392Z"
   },
   {
    "duration": 74,
    "start_time": "2023-10-09T18:00:00.465Z"
   },
   {
    "duration": 220,
    "start_time": "2023-10-09T18:00:00.542Z"
   },
   {
    "duration": 9,
    "start_time": "2023-10-09T18:00:00.763Z"
   },
   {
    "duration": 169,
    "start_time": "2023-10-09T18:00:00.774Z"
   },
   {
    "duration": 206,
    "start_time": "2023-10-09T18:00:00.946Z"
   },
   {
    "duration": 17,
    "start_time": "2023-10-09T18:00:01.154Z"
   },
   {
    "duration": 162,
    "start_time": "2023-10-09T18:00:01.175Z"
   },
   {
    "duration": 78,
    "start_time": "2023-10-09T18:00:01.339Z"
   },
   {
    "duration": 26,
    "start_time": "2023-10-09T18:00:01.419Z"
   },
   {
    "duration": 69,
    "start_time": "2023-10-09T18:00:01.447Z"
   },
   {
    "duration": 60,
    "start_time": "2023-10-09T18:00:01.519Z"
   },
   {
    "duration": 206,
    "start_time": "2023-10-09T18:00:01.582Z"
   },
   {
    "duration": 13,
    "start_time": "2023-10-09T18:00:01.790Z"
   },
   {
    "duration": 353,
    "start_time": "2023-10-09T18:00:01.806Z"
   },
   {
    "duration": 83,
    "start_time": "2023-10-09T18:00:02.161Z"
   },
   {
    "duration": 79,
    "start_time": "2023-10-09T18:00:02.249Z"
   },
   {
    "duration": 30,
    "start_time": "2023-10-09T18:00:02.331Z"
   },
   {
    "duration": 148,
    "start_time": "2023-10-09T18:00:02.364Z"
   },
   {
    "duration": 107,
    "start_time": "2023-10-09T18:00:02.514Z"
   },
   {
    "duration": 27,
    "start_time": "2023-10-09T18:00:02.623Z"
   },
   {
    "duration": 4,
    "start_time": "2023-10-09T18:00:02.652Z"
   },
   {
    "duration": 145,
    "start_time": "2023-10-09T18:00:02.658Z"
   },
   {
    "duration": 0,
    "start_time": "2023-10-09T18:00:02.805Z"
   },
   {
    "duration": 0,
    "start_time": "2023-10-09T18:00:02.807Z"
   },
   {
    "duration": 0,
    "start_time": "2023-10-09T18:00:02.809Z"
   },
   {
    "duration": 0,
    "start_time": "2023-10-09T18:00:02.811Z"
   },
   {
    "duration": 0,
    "start_time": "2023-10-09T18:00:02.813Z"
   },
   {
    "duration": 0,
    "start_time": "2023-10-09T18:00:02.815Z"
   },
   {
    "duration": 0,
    "start_time": "2023-10-09T18:00:02.817Z"
   },
   {
    "duration": 0,
    "start_time": "2023-10-09T18:00:02.819Z"
   },
   {
    "duration": 0,
    "start_time": "2023-10-09T18:00:02.821Z"
   },
   {
    "duration": 0,
    "start_time": "2023-10-09T18:00:02.822Z"
   },
   {
    "duration": 6,
    "start_time": "2023-10-09T18:00:21.715Z"
   },
   {
    "duration": 309,
    "start_time": "2023-10-09T18:00:21.723Z"
   },
   {
    "duration": 25,
    "start_time": "2023-10-09T18:00:22.034Z"
   },
   {
    "duration": 20,
    "start_time": "2023-10-09T18:00:22.061Z"
   },
   {
    "duration": 100,
    "start_time": "2023-10-09T18:00:22.083Z"
   },
   {
    "duration": 40,
    "start_time": "2023-10-09T18:00:22.185Z"
   },
   {
    "duration": 35,
    "start_time": "2023-10-09T18:00:22.227Z"
   },
   {
    "duration": 69,
    "start_time": "2023-10-09T18:00:22.264Z"
   },
   {
    "duration": 240,
    "start_time": "2023-10-09T18:00:22.335Z"
   },
   {
    "duration": 9,
    "start_time": "2023-10-09T18:00:22.577Z"
   },
   {
    "duration": 103,
    "start_time": "2023-10-09T18:00:22.588Z"
   },
   {
    "duration": 177,
    "start_time": "2023-10-09T18:00:22.693Z"
   },
   {
    "duration": 16,
    "start_time": "2023-10-09T18:00:22.872Z"
   },
   {
    "duration": 20,
    "start_time": "2023-10-09T18:00:22.903Z"
   },
   {
    "duration": 59,
    "start_time": "2023-10-09T18:00:22.926Z"
   },
   {
    "duration": 46,
    "start_time": "2023-10-09T18:00:22.987Z"
   },
   {
    "duration": 29,
    "start_time": "2023-10-09T18:00:23.038Z"
   },
   {
    "duration": 65,
    "start_time": "2023-10-09T18:00:23.069Z"
   },
   {
    "duration": 567,
    "start_time": "2023-10-09T18:00:23.136Z"
   },
   {
    "duration": 10,
    "start_time": "2023-10-09T18:00:23.706Z"
   },
   {
    "duration": 133,
    "start_time": "2023-10-09T18:00:23.718Z"
   },
   {
    "duration": 344,
    "start_time": "2023-10-09T18:00:23.901Z"
   },
   {
    "duration": 76,
    "start_time": "2023-10-09T18:00:24.247Z"
   },
   {
    "duration": 17,
    "start_time": "2023-10-09T18:00:24.326Z"
   },
   {
    "duration": 178,
    "start_time": "2023-10-09T18:00:24.346Z"
   },
   {
    "duration": 91,
    "start_time": "2023-10-09T18:00:24.527Z"
   },
   {
    "duration": 87,
    "start_time": "2023-10-09T18:00:24.620Z"
   },
   {
    "duration": 114,
    "start_time": "2023-10-09T18:00:24.710Z"
   },
   {
    "duration": 519,
    "start_time": "2023-10-09T18:00:24.826Z"
   },
   {
    "duration": 58,
    "start_time": "2023-10-09T18:00:25.350Z"
   },
   {
    "duration": 137,
    "start_time": "2023-10-09T18:00:25.411Z"
   },
   {
    "duration": 23,
    "start_time": "2023-10-09T18:00:25.601Z"
   },
   {
    "duration": 21,
    "start_time": "2023-10-09T18:00:25.626Z"
   },
   {
    "duration": 26,
    "start_time": "2023-10-09T18:00:25.649Z"
   },
   {
    "duration": 27,
    "start_time": "2023-10-09T18:00:25.678Z"
   },
   {
    "duration": 25,
    "start_time": "2023-10-09T18:00:25.708Z"
   },
   {
    "duration": 31,
    "start_time": "2023-10-09T18:00:25.735Z"
   },
   {
    "duration": 4,
    "start_time": "2023-10-09T18:00:25.768Z"
   },
   {
    "duration": 134,
    "start_time": "2023-10-09T18:00:25.774Z"
   },
   {
    "duration": 199,
    "start_time": "2023-10-09T18:00:25.910Z"
   },
   {
    "duration": 112,
    "start_time": "2023-10-09T18:00:26.115Z"
   },
   {
    "duration": 186,
    "start_time": "2023-10-09T18:00:26.233Z"
   },
   {
    "duration": 82,
    "start_time": "2023-10-09T18:00:26.422Z"
   },
   {
    "duration": 46,
    "start_time": "2023-10-09T18:00:26.506Z"
   },
   {
    "duration": 12,
    "start_time": "2023-10-09T18:00:26.554Z"
   },
   {
    "duration": 67,
    "start_time": "2023-10-09T18:00:26.568Z"
   },
   {
    "duration": 2257,
    "start_time": "2023-10-09T18:00:26.638Z"
   },
   {
    "duration": 2203,
    "start_time": "2023-10-09T18:00:28.906Z"
   },
   {
    "duration": 2287,
    "start_time": "2023-10-09T18:00:31.111Z"
   },
   {
    "duration": 3,
    "start_time": "2023-10-09T18:03:17.871Z"
   },
   {
    "duration": 204,
    "start_time": "2023-10-09T18:03:17.876Z"
   },
   {
    "duration": 28,
    "start_time": "2023-10-09T18:03:18.082Z"
   },
   {
    "duration": 41,
    "start_time": "2023-10-09T18:03:18.114Z"
   },
   {
    "duration": 57,
    "start_time": "2023-10-09T18:03:18.157Z"
   },
   {
    "duration": 35,
    "start_time": "2023-10-09T18:03:18.219Z"
   },
   {
    "duration": 24,
    "start_time": "2023-10-09T18:03:18.257Z"
   },
   {
    "duration": 68,
    "start_time": "2023-10-09T18:03:18.283Z"
   },
   {
    "duration": 272,
    "start_time": "2023-10-09T18:03:18.353Z"
   },
   {
    "duration": 12,
    "start_time": "2023-10-09T18:03:18.632Z"
   },
   {
    "duration": 131,
    "start_time": "2023-10-09T18:03:18.648Z"
   },
   {
    "duration": 182,
    "start_time": "2023-10-09T18:03:18.781Z"
   },
   {
    "duration": 17,
    "start_time": "2023-10-09T18:03:18.964Z"
   },
   {
    "duration": 32,
    "start_time": "2023-10-09T18:03:18.982Z"
   },
   {
    "duration": 65,
    "start_time": "2023-10-09T18:03:19.016Z"
   },
   {
    "duration": 29,
    "start_time": "2023-10-09T18:03:19.082Z"
   },
   {
    "duration": 174,
    "start_time": "2023-10-09T18:03:19.113Z"
   },
   {
    "duration": 68,
    "start_time": "2023-10-09T18:03:19.290Z"
   },
   {
    "duration": 232,
    "start_time": "2023-10-09T18:03:19.361Z"
   },
   {
    "duration": 10,
    "start_time": "2023-10-09T18:03:19.601Z"
   },
   {
    "duration": 68,
    "start_time": "2023-10-09T18:03:19.613Z"
   },
   {
    "duration": 204,
    "start_time": "2023-10-09T18:03:19.683Z"
   },
   {
    "duration": 24,
    "start_time": "2023-10-09T18:03:19.888Z"
   },
   {
    "duration": 35,
    "start_time": "2023-10-09T18:03:19.914Z"
   },
   {
    "duration": 72,
    "start_time": "2023-10-09T18:03:19.951Z"
   },
   {
    "duration": 28,
    "start_time": "2023-10-09T18:03:20.024Z"
   },
   {
    "duration": 130,
    "start_time": "2023-10-09T18:03:20.054Z"
   },
   {
    "duration": 85,
    "start_time": "2023-10-09T18:03:20.188Z"
   },
   {
    "duration": 226,
    "start_time": "2023-10-09T18:03:20.276Z"
   },
   {
    "duration": 9,
    "start_time": "2023-10-09T18:03:20.505Z"
   },
   {
    "duration": 86,
    "start_time": "2023-10-09T18:03:20.517Z"
   },
   {
    "duration": 59,
    "start_time": "2023-10-09T18:03:20.605Z"
   },
   {
    "duration": 113,
    "start_time": "2023-10-09T18:03:20.665Z"
   },
   {
    "duration": 62,
    "start_time": "2023-10-09T18:03:20.781Z"
   },
   {
    "duration": 24,
    "start_time": "2023-10-09T18:03:20.845Z"
   },
   {
    "duration": 63,
    "start_time": "2023-10-09T18:03:20.871Z"
   },
   {
    "duration": 95,
    "start_time": "2023-10-09T18:03:20.936Z"
   },
   {
    "duration": 50,
    "start_time": "2023-10-09T18:03:21.033Z"
   },
   {
    "duration": 117,
    "start_time": "2023-10-09T18:03:21.085Z"
   },
   {
    "duration": 197,
    "start_time": "2023-10-09T18:03:21.205Z"
   },
   {
    "duration": 109,
    "start_time": "2023-10-09T18:03:21.415Z"
   },
   {
    "duration": 271,
    "start_time": "2023-10-09T18:03:21.531Z"
   },
   {
    "duration": 25,
    "start_time": "2023-10-09T18:03:21.805Z"
   },
   {
    "duration": 282,
    "start_time": "2023-10-09T18:03:21.832Z"
   },
   {
    "duration": 8,
    "start_time": "2023-10-09T18:03:22.117Z"
   },
   {
    "duration": 25,
    "start_time": "2023-10-09T18:03:22.202Z"
   },
   {
    "duration": 33,
    "start_time": "2023-10-09T18:03:22.229Z"
   },
   {
    "duration": 37,
    "start_time": "2023-10-09T18:03:22.263Z"
   },
   {
    "duration": 2552,
    "start_time": "2023-10-09T18:03:22.303Z"
   },
   {
    "duration": 2312,
    "start_time": "2023-10-09T18:03:24.858Z"
   },
   {
    "duration": 2149,
    "start_time": "2023-10-09T18:03:27.172Z"
   },
   {
    "duration": 5,
    "start_time": "2023-10-09T18:04:08.690Z"
   },
   {
    "duration": 197,
    "start_time": "2023-10-09T18:04:08.697Z"
   },
   {
    "duration": 20,
    "start_time": "2023-10-09T18:04:08.897Z"
   },
   {
    "duration": 17,
    "start_time": "2023-10-09T18:04:08.919Z"
   },
   {
    "duration": 61,
    "start_time": "2023-10-09T18:04:08.938Z"
   },
   {
    "duration": 33,
    "start_time": "2023-10-09T18:04:09.001Z"
   },
   {
    "duration": 320,
    "start_time": "2023-10-09T18:04:09.036Z"
   },
   {
    "duration": 40,
    "start_time": "2023-10-09T18:04:09.358Z"
   },
   {
    "duration": 184,
    "start_time": "2023-10-09T18:04:09.400Z"
   },
   {
    "duration": 16,
    "start_time": "2023-10-09T18:04:09.586Z"
   },
   {
    "duration": 63,
    "start_time": "2023-10-09T18:04:09.605Z"
   },
   {
    "duration": 192,
    "start_time": "2023-10-09T18:04:09.670Z"
   },
   {
    "duration": 15,
    "start_time": "2023-10-09T18:04:09.864Z"
   },
   {
    "duration": 36,
    "start_time": "2023-10-09T18:04:09.882Z"
   },
   {
    "duration": 93,
    "start_time": "2023-10-09T18:04:09.920Z"
   },
   {
    "duration": 88,
    "start_time": "2023-10-09T18:04:10.015Z"
   },
   {
    "duration": 37,
    "start_time": "2023-10-09T18:04:10.105Z"
   },
   {
    "duration": 101,
    "start_time": "2023-10-09T18:04:10.145Z"
   },
   {
    "duration": 511,
    "start_time": "2023-10-09T18:04:10.301Z"
   },
   {
    "duration": 12,
    "start_time": "2023-10-09T18:04:10.814Z"
   },
   {
    "duration": 196,
    "start_time": "2023-10-09T18:04:10.828Z"
   },
   {
    "duration": 397,
    "start_time": "2023-10-09T18:04:11.026Z"
   },
   {
    "duration": 77,
    "start_time": "2023-10-09T18:04:11.425Z"
   },
   {
    "duration": 59,
    "start_time": "2023-10-09T18:04:11.504Z"
   },
   {
    "duration": 162,
    "start_time": "2023-10-09T18:04:11.565Z"
   },
   {
    "duration": 91,
    "start_time": "2023-10-09T18:04:11.729Z"
   },
   {
    "duration": 82,
    "start_time": "2023-10-09T18:04:11.823Z"
   },
   {
    "duration": 95,
    "start_time": "2023-10-09T18:04:11.907Z"
   },
   {
    "duration": 200,
    "start_time": "2023-10-09T18:04:12.004Z"
   },
   {
    "duration": 8,
    "start_time": "2023-10-09T18:04:12.206Z"
   },
   {
    "duration": 69,
    "start_time": "2023-10-09T18:04:12.216Z"
   },
   {
    "duration": 27,
    "start_time": "2023-10-09T18:04:12.287Z"
   },
   {
    "duration": 22,
    "start_time": "2023-10-09T18:04:12.317Z"
   },
   {
    "duration": 18,
    "start_time": "2023-10-09T18:04:12.341Z"
   },
   {
    "duration": 3,
    "start_time": "2023-10-09T18:04:12.361Z"
   },
   {
    "duration": 57,
    "start_time": "2023-10-09T18:04:12.365Z"
   },
   {
    "duration": 31,
    "start_time": "2023-10-09T18:04:12.424Z"
   },
   {
    "duration": 8,
    "start_time": "2023-10-09T18:04:12.458Z"
   },
   {
    "duration": 138,
    "start_time": "2023-10-09T18:04:12.468Z"
   },
   {
    "duration": 111,
    "start_time": "2023-10-09T18:04:12.609Z"
   },
   {
    "duration": 96,
    "start_time": "2023-10-09T18:04:12.806Z"
   },
   {
    "duration": 206,
    "start_time": "2023-10-09T18:04:12.905Z"
   },
   {
    "duration": 188,
    "start_time": "2023-10-09T18:04:13.113Z"
   },
   {
    "duration": 116,
    "start_time": "2023-10-09T18:04:13.304Z"
   },
   {
    "duration": 3,
    "start_time": "2023-10-09T18:04:13.500Z"
   },
   {
    "duration": 26,
    "start_time": "2023-10-09T18:04:13.505Z"
   },
   {
    "duration": 6,
    "start_time": "2023-10-09T18:04:13.533Z"
   },
   {
    "duration": 22,
    "start_time": "2023-10-09T18:04:13.541Z"
   },
   {
    "duration": 2401,
    "start_time": "2023-10-09T18:04:13.565Z"
   },
   {
    "duration": 2307,
    "start_time": "2023-10-09T18:04:15.967Z"
   },
   {
    "duration": 2273,
    "start_time": "2023-10-09T18:04:18.277Z"
   },
   {
    "duration": 4,
    "start_time": "2023-10-09T18:04:52.854Z"
   },
   {
    "duration": 191,
    "start_time": "2023-10-09T18:04:52.860Z"
   },
   {
    "duration": 16,
    "start_time": "2023-10-09T18:04:53.054Z"
   },
   {
    "duration": 30,
    "start_time": "2023-10-09T18:04:53.073Z"
   },
   {
    "duration": 67,
    "start_time": "2023-10-09T18:04:53.105Z"
   },
   {
    "duration": 41,
    "start_time": "2023-10-09T18:04:53.174Z"
   },
   {
    "duration": 24,
    "start_time": "2023-10-09T18:04:53.217Z"
   },
   {
    "duration": 313,
    "start_time": "2023-10-09T18:04:53.242Z"
   },
   {
    "duration": 214,
    "start_time": "2023-10-09T18:04:53.557Z"
   },
   {
    "duration": 8,
    "start_time": "2023-10-09T18:04:53.775Z"
   },
   {
    "duration": 82,
    "start_time": "2023-10-09T18:04:53.784Z"
   },
   {
    "duration": 206,
    "start_time": "2023-10-09T18:04:53.869Z"
   },
   {
    "duration": 29,
    "start_time": "2023-10-09T18:04:54.077Z"
   },
   {
    "duration": 67,
    "start_time": "2023-10-09T18:04:54.109Z"
   },
   {
    "duration": 77,
    "start_time": "2023-10-09T18:04:54.179Z"
   },
   {
    "duration": 27,
    "start_time": "2023-10-09T18:04:54.258Z"
   },
   {
    "duration": 57,
    "start_time": "2023-10-09T18:04:54.288Z"
   },
   {
    "duration": 52,
    "start_time": "2023-10-09T18:04:54.347Z"
   },
   {
    "duration": 201,
    "start_time": "2023-10-09T18:04:54.401Z"
   },
   {
    "duration": 11,
    "start_time": "2023-10-09T18:04:54.605Z"
   },
   {
    "duration": 141,
    "start_time": "2023-10-09T18:04:54.620Z"
   },
   {
    "duration": 161,
    "start_time": "2023-10-09T18:04:54.764Z"
   },
   {
    "duration": 15,
    "start_time": "2023-10-09T18:04:54.926Z"
   },
   {
    "duration": 45,
    "start_time": "2023-10-09T18:04:54.943Z"
   },
   {
    "duration": 61,
    "start_time": "2023-10-09T18:04:54.990Z"
   },
   {
    "duration": 26,
    "start_time": "2023-10-09T18:04:55.054Z"
   },
   {
    "duration": 69,
    "start_time": "2023-10-09T18:04:55.082Z"
   },
   {
    "duration": 62,
    "start_time": "2023-10-09T18:04:55.155Z"
   },
   {
    "duration": 187,
    "start_time": "2023-10-09T18:04:55.219Z"
   },
   {
    "duration": 7,
    "start_time": "2023-10-09T18:04:55.408Z"
   },
   {
    "duration": 74,
    "start_time": "2023-10-09T18:04:55.417Z"
   },
   {
    "duration": 27,
    "start_time": "2023-10-09T18:04:55.493Z"
   },
   {
    "duration": 32,
    "start_time": "2023-10-09T18:04:55.522Z"
   },
   {
    "duration": 41,
    "start_time": "2023-10-09T18:04:55.556Z"
   },
   {
    "duration": 36,
    "start_time": "2023-10-09T18:04:55.598Z"
   },
   {
    "duration": 65,
    "start_time": "2023-10-09T18:04:55.636Z"
   },
   {
    "duration": 21,
    "start_time": "2023-10-09T18:04:55.703Z"
   },
   {
    "duration": 55,
    "start_time": "2023-10-09T18:04:55.726Z"
   },
   {
    "duration": 225,
    "start_time": "2023-10-09T18:04:55.783Z"
   },
   {
    "duration": 15,
    "start_time": "2023-10-09T18:04:56.010Z"
   },
   {
    "duration": 49,
    "start_time": "2023-10-09T18:04:56.027Z"
   },
   {
    "duration": 225,
    "start_time": "2023-10-09T18:04:56.078Z"
   },
   {
    "duration": 2,
    "start_time": "2023-10-09T18:04:56.305Z"
   },
   {
    "duration": 191,
    "start_time": "2023-10-09T18:04:56.309Z"
   },
   {
    "duration": 3,
    "start_time": "2023-10-09T18:04:56.503Z"
   },
   {
    "duration": 23,
    "start_time": "2023-10-09T18:04:56.508Z"
   },
   {
    "duration": 22,
    "start_time": "2023-10-09T18:04:56.533Z"
   },
   {
    "duration": 39,
    "start_time": "2023-10-09T18:04:56.558Z"
   },
   {
    "duration": 2011,
    "start_time": "2023-10-09T18:04:56.599Z"
   },
   {
    "duration": 2038,
    "start_time": "2023-10-09T18:04:58.612Z"
   },
   {
    "duration": 2039,
    "start_time": "2023-10-09T18:05:00.651Z"
   },
   {
    "duration": 5,
    "start_time": "2023-10-09T18:06:02.031Z"
   },
   {
    "duration": 208,
    "start_time": "2023-10-09T18:06:02.038Z"
   },
   {
    "duration": 16,
    "start_time": "2023-10-09T18:06:02.247Z"
   },
   {
    "duration": 38,
    "start_time": "2023-10-09T18:06:02.265Z"
   },
   {
    "duration": 63,
    "start_time": "2023-10-09T18:06:02.305Z"
   },
   {
    "duration": 43,
    "start_time": "2023-10-09T18:06:02.369Z"
   },
   {
    "duration": 29,
    "start_time": "2023-10-09T18:06:02.414Z"
   },
   {
    "duration": 64,
    "start_time": "2023-10-09T18:06:02.445Z"
   },
   {
    "duration": 190,
    "start_time": "2023-10-09T18:06:02.511Z"
   },
   {
    "duration": 7,
    "start_time": "2023-10-09T18:06:02.705Z"
   },
   {
    "duration": 49,
    "start_time": "2023-10-09T18:06:02.714Z"
   },
   {
    "duration": 159,
    "start_time": "2023-10-09T18:06:02.766Z"
   },
   {
    "duration": 19,
    "start_time": "2023-10-09T18:06:02.927Z"
   },
   {
    "duration": 12,
    "start_time": "2023-10-09T18:06:02.949Z"
   },
   {
    "duration": 78,
    "start_time": "2023-10-09T18:06:02.964Z"
   },
   {
    "duration": 25,
    "start_time": "2023-10-09T18:06:03.044Z"
   },
   {
    "duration": 47,
    "start_time": "2023-10-09T18:06:03.072Z"
   },
   {
    "duration": 40,
    "start_time": "2023-10-09T18:06:03.121Z"
   },
   {
    "duration": 204,
    "start_time": "2023-10-09T18:06:03.163Z"
   },
   {
    "duration": 8,
    "start_time": "2023-10-09T18:06:03.369Z"
   },
   {
    "duration": 122,
    "start_time": "2023-10-09T18:06:03.379Z"
   },
   {
    "duration": 324,
    "start_time": "2023-10-09T18:06:03.503Z"
   },
   {
    "duration": 16,
    "start_time": "2023-10-09T18:06:03.829Z"
   },
   {
    "duration": 65,
    "start_time": "2023-10-09T18:06:03.847Z"
   },
   {
    "duration": 107,
    "start_time": "2023-10-09T18:06:03.913Z"
   },
   {
    "duration": 23,
    "start_time": "2023-10-09T18:06:04.022Z"
   },
   {
    "duration": 82,
    "start_time": "2023-10-09T18:06:04.046Z"
   },
   {
    "duration": 95,
    "start_time": "2023-10-09T18:06:04.131Z"
   },
   {
    "duration": 385,
    "start_time": "2023-10-09T18:06:04.228Z"
   },
   {
    "duration": 10,
    "start_time": "2023-10-09T18:06:04.616Z"
   },
   {
    "duration": 189,
    "start_time": "2023-10-09T18:06:04.628Z"
   },
   {
    "duration": 17,
    "start_time": "2023-10-09T18:06:04.819Z"
   },
   {
    "duration": 77,
    "start_time": "2023-10-09T18:06:04.838Z"
   },
   {
    "duration": 16,
    "start_time": "2023-10-09T18:06:04.917Z"
   },
   {
    "duration": 66,
    "start_time": "2023-10-09T18:06:04.935Z"
   },
   {
    "duration": 27,
    "start_time": "2023-10-09T18:06:05.004Z"
   },
   {
    "duration": 74,
    "start_time": "2023-10-09T18:06:05.033Z"
   },
   {
    "duration": 4,
    "start_time": "2023-10-09T18:06:05.109Z"
   },
   {
    "duration": 192,
    "start_time": "2023-10-09T18:06:05.114Z"
   },
   {
    "duration": 3,
    "start_time": "2023-10-09T18:06:05.308Z"
   },
   {
    "duration": 13,
    "start_time": "2023-10-09T18:06:05.313Z"
   },
   {
    "duration": 275,
    "start_time": "2023-10-09T18:06:05.328Z"
   },
   {
    "duration": 3,
    "start_time": "2023-10-09T18:06:05.605Z"
   },
   {
    "duration": 209,
    "start_time": "2023-10-09T18:06:05.610Z"
   },
   {
    "duration": 3,
    "start_time": "2023-10-09T18:06:05.821Z"
   },
   {
    "duration": 78,
    "start_time": "2023-10-09T18:06:05.825Z"
   },
   {
    "duration": 85,
    "start_time": "2023-10-09T18:06:05.905Z"
   },
   {
    "duration": 109,
    "start_time": "2023-10-09T18:06:06.002Z"
   },
   {
    "duration": 0,
    "start_time": "2023-10-09T18:06:06.113Z"
   },
   {
    "duration": 0,
    "start_time": "2023-10-09T18:06:06.114Z"
   },
   {
    "duration": 0,
    "start_time": "2023-10-09T18:06:06.115Z"
   },
   {
    "duration": 4,
    "start_time": "2023-10-09T18:08:52.686Z"
   },
   {
    "duration": 226,
    "start_time": "2023-10-09T18:08:52.692Z"
   },
   {
    "duration": 18,
    "start_time": "2023-10-09T18:08:52.920Z"
   },
   {
    "duration": 57,
    "start_time": "2023-10-09T18:08:52.941Z"
   },
   {
    "duration": 69,
    "start_time": "2023-10-09T18:08:53.000Z"
   },
   {
    "duration": 23,
    "start_time": "2023-10-09T18:08:53.070Z"
   },
   {
    "duration": 24,
    "start_time": "2023-10-09T18:08:53.095Z"
   },
   {
    "duration": 45,
    "start_time": "2023-10-09T18:08:53.121Z"
   },
   {
    "duration": 188,
    "start_time": "2023-10-09T18:08:53.169Z"
   },
   {
    "duration": 8,
    "start_time": "2023-10-09T18:08:53.359Z"
   },
   {
    "duration": 124,
    "start_time": "2023-10-09T18:08:53.369Z"
   },
   {
    "duration": 181,
    "start_time": "2023-10-09T18:08:53.495Z"
   },
   {
    "duration": 16,
    "start_time": "2023-10-09T18:08:53.678Z"
   },
   {
    "duration": 151,
    "start_time": "2023-10-09T18:08:53.700Z"
   },
   {
    "duration": 115,
    "start_time": "2023-10-09T18:08:53.853Z"
   },
   {
    "duration": 74,
    "start_time": "2023-10-09T18:08:53.970Z"
   },
   {
    "duration": 35,
    "start_time": "2023-10-09T18:08:54.046Z"
   },
   {
    "duration": 59,
    "start_time": "2023-10-09T18:08:54.083Z"
   },
   {
    "duration": 217,
    "start_time": "2023-10-09T18:08:54.145Z"
   },
   {
    "duration": 7,
    "start_time": "2023-10-09T18:08:54.365Z"
   },
   {
    "duration": 72,
    "start_time": "2023-10-09T18:08:54.374Z"
   },
   {
    "duration": 201,
    "start_time": "2023-10-09T18:08:54.448Z"
   },
   {
    "duration": 30,
    "start_time": "2023-10-09T18:08:54.655Z"
   },
   {
    "duration": 36,
    "start_time": "2023-10-09T18:08:54.690Z"
   },
   {
    "duration": 97,
    "start_time": "2023-10-09T18:08:54.729Z"
   },
   {
    "duration": 34,
    "start_time": "2023-10-09T18:08:54.829Z"
   },
   {
    "duration": 56,
    "start_time": "2023-10-09T18:08:54.865Z"
   },
   {
    "duration": 91,
    "start_time": "2023-10-09T18:08:54.923Z"
   },
   {
    "duration": 416,
    "start_time": "2023-10-09T18:08:55.016Z"
   },
   {
    "duration": 10,
    "start_time": "2023-10-09T18:08:55.435Z"
   },
   {
    "duration": 194,
    "start_time": "2023-10-09T18:08:55.448Z"
   },
   {
    "duration": 70,
    "start_time": "2023-10-09T18:08:55.644Z"
   },
   {
    "duration": 20,
    "start_time": "2023-10-09T18:08:55.716Z"
   },
   {
    "duration": 77,
    "start_time": "2023-10-09T18:08:55.738Z"
   },
   {
    "duration": 96,
    "start_time": "2023-10-09T18:08:55.818Z"
   },
   {
    "duration": 133,
    "start_time": "2023-10-09T18:08:55.916Z"
   },
   {
    "duration": 178,
    "start_time": "2023-10-09T18:08:56.052Z"
   },
   {
    "duration": 7,
    "start_time": "2023-10-09T18:08:56.233Z"
   },
   {
    "duration": 80,
    "start_time": "2023-10-09T18:08:56.242Z"
   },
   {
    "duration": 180,
    "start_time": "2023-10-09T18:08:56.323Z"
   },
   {
    "duration": 42,
    "start_time": "2023-10-09T18:08:56.505Z"
   },
   {
    "duration": 153,
    "start_time": "2023-10-09T18:08:56.550Z"
   },
   {
    "duration": 100,
    "start_time": "2023-10-09T18:08:56.705Z"
   },
   {
    "duration": 100,
    "start_time": "2023-10-09T18:08:56.807Z"
   },
   {
    "duration": 94,
    "start_time": "2023-10-09T18:08:56.909Z"
   },
   {
    "duration": 77,
    "start_time": "2023-10-09T18:08:57.005Z"
   },
   {
    "duration": 506,
    "start_time": "2023-10-09T18:08:57.101Z"
   },
   {
    "duration": 18,
    "start_time": "2023-10-09T18:08:57.609Z"
   },
   {
    "duration": 2176,
    "start_time": "2023-10-09T18:08:57.629Z"
   },
   {
    "duration": 2379,
    "start_time": "2023-10-09T18:08:59.807Z"
   },
   {
    "duration": 2104,
    "start_time": "2023-10-09T18:09:02.187Z"
   },
   {
    "duration": 4,
    "start_time": "2023-10-09T18:11:21.167Z"
   },
   {
    "duration": 185,
    "start_time": "2023-10-09T18:11:21.174Z"
   },
   {
    "duration": 17,
    "start_time": "2023-10-09T18:11:21.362Z"
   },
   {
    "duration": 55,
    "start_time": "2023-10-09T18:11:21.382Z"
   },
   {
    "duration": 64,
    "start_time": "2023-10-09T18:11:21.441Z"
   },
   {
    "duration": 24,
    "start_time": "2023-10-09T18:11:21.507Z"
   },
   {
    "duration": 40,
    "start_time": "2023-10-09T18:11:21.533Z"
   },
   {
    "duration": 45,
    "start_time": "2023-10-09T18:11:21.575Z"
   },
   {
    "duration": 187,
    "start_time": "2023-10-09T18:11:21.621Z"
   },
   {
    "duration": 7,
    "start_time": "2023-10-09T18:11:21.809Z"
   },
   {
    "duration": 95,
    "start_time": "2023-10-09T18:11:21.818Z"
   },
   {
    "duration": 145,
    "start_time": "2023-10-09T18:11:21.914Z"
   },
   {
    "duration": 16,
    "start_time": "2023-10-09T18:11:22.060Z"
   },
   {
    "duration": 27,
    "start_time": "2023-10-09T18:11:22.079Z"
   },
   {
    "duration": 45,
    "start_time": "2023-10-09T18:11:22.108Z"
   },
   {
    "duration": 21,
    "start_time": "2023-10-09T18:11:22.155Z"
   },
   {
    "duration": 22,
    "start_time": "2023-10-09T18:11:22.202Z"
   },
   {
    "duration": 36,
    "start_time": "2023-10-09T18:11:22.226Z"
   },
   {
    "duration": 194,
    "start_time": "2023-10-09T18:11:22.263Z"
   },
   {
    "duration": 7,
    "start_time": "2023-10-09T18:11:22.459Z"
   },
   {
    "duration": 63,
    "start_time": "2023-10-09T18:11:22.468Z"
   },
   {
    "duration": 153,
    "start_time": "2023-10-09T18:11:22.533Z"
   },
   {
    "duration": 20,
    "start_time": "2023-10-09T18:11:22.688Z"
   },
   {
    "duration": 65,
    "start_time": "2023-10-09T18:11:22.710Z"
   },
   {
    "duration": 95,
    "start_time": "2023-10-09T18:11:22.777Z"
   },
   {
    "duration": 42,
    "start_time": "2023-10-09T18:11:22.874Z"
   },
   {
    "duration": 45,
    "start_time": "2023-10-09T18:11:22.918Z"
   },
   {
    "duration": 47,
    "start_time": "2023-10-09T18:11:22.965Z"
   },
   {
    "duration": 598,
    "start_time": "2023-10-09T18:11:23.014Z"
   },
   {
    "duration": 7,
    "start_time": "2023-10-09T18:11:23.614Z"
   },
   {
    "duration": 179,
    "start_time": "2023-10-09T18:11:23.623Z"
   },
   {
    "duration": 15,
    "start_time": "2023-10-09T18:11:23.804Z"
   },
   {
    "duration": 16,
    "start_time": "2023-10-09T18:11:23.821Z"
   },
   {
    "duration": 75,
    "start_time": "2023-10-09T18:11:23.838Z"
   },
   {
    "duration": 3,
    "start_time": "2023-10-09T18:11:23.915Z"
   },
   {
    "duration": 183,
    "start_time": "2023-10-09T18:11:23.919Z"
   },
   {
    "duration": 21,
    "start_time": "2023-10-09T18:11:24.104Z"
   },
   {
    "duration": 143,
    "start_time": "2023-10-09T18:11:24.127Z"
   },
   {
    "duration": 0,
    "start_time": "2023-10-09T18:11:24.272Z"
   },
   {
    "duration": 0,
    "start_time": "2023-10-09T18:11:24.273Z"
   },
   {
    "duration": 0,
    "start_time": "2023-10-09T18:11:24.275Z"
   },
   {
    "duration": 0,
    "start_time": "2023-10-09T18:11:24.276Z"
   },
   {
    "duration": 0,
    "start_time": "2023-10-09T18:11:24.278Z"
   },
   {
    "duration": 0,
    "start_time": "2023-10-09T18:11:24.280Z"
   },
   {
    "duration": 0,
    "start_time": "2023-10-09T18:11:24.281Z"
   },
   {
    "duration": 0,
    "start_time": "2023-10-09T18:11:24.302Z"
   },
   {
    "duration": 0,
    "start_time": "2023-10-09T18:11:24.303Z"
   },
   {
    "duration": 0,
    "start_time": "2023-10-09T18:11:24.305Z"
   },
   {
    "duration": 0,
    "start_time": "2023-10-09T18:11:24.306Z"
   },
   {
    "duration": 0,
    "start_time": "2023-10-09T18:11:24.307Z"
   },
   {
    "duration": 0,
    "start_time": "2023-10-09T18:11:24.310Z"
   },
   {
    "duration": 5,
    "start_time": "2023-10-09T18:11:37.539Z"
   },
   {
    "duration": 203,
    "start_time": "2023-10-09T18:11:38.698Z"
   },
   {
    "duration": 4,
    "start_time": "2023-10-09T18:11:53.103Z"
   },
   {
    "duration": 236,
    "start_time": "2023-10-09T18:11:53.110Z"
   },
   {
    "duration": 17,
    "start_time": "2023-10-09T18:11:53.347Z"
   },
   {
    "duration": 80,
    "start_time": "2023-10-09T18:11:53.366Z"
   },
   {
    "duration": 128,
    "start_time": "2023-10-09T18:11:53.448Z"
   },
   {
    "duration": 58,
    "start_time": "2023-10-09T18:11:53.577Z"
   },
   {
    "duration": 31,
    "start_time": "2023-10-09T18:11:53.637Z"
   },
   {
    "duration": 138,
    "start_time": "2023-10-09T18:11:53.669Z"
   },
   {
    "duration": 178,
    "start_time": "2023-10-09T18:11:53.808Z"
   },
   {
    "duration": 17,
    "start_time": "2023-10-09T18:11:53.988Z"
   },
   {
    "duration": 92,
    "start_time": "2023-10-09T18:11:54.007Z"
   },
   {
    "duration": 149,
    "start_time": "2023-10-09T18:11:54.102Z"
   },
   {
    "duration": 16,
    "start_time": "2023-10-09T18:11:54.253Z"
   },
   {
    "duration": 28,
    "start_time": "2023-10-09T18:11:54.272Z"
   },
   {
    "duration": 51,
    "start_time": "2023-10-09T18:11:54.302Z"
   },
   {
    "duration": 27,
    "start_time": "2023-10-09T18:11:54.354Z"
   },
   {
    "duration": 32,
    "start_time": "2023-10-09T18:11:54.402Z"
   },
   {
    "duration": 122,
    "start_time": "2023-10-09T18:11:54.435Z"
   },
   {
    "duration": 273,
    "start_time": "2023-10-09T18:11:54.560Z"
   },
   {
    "duration": 9,
    "start_time": "2023-10-09T18:11:54.835Z"
   },
   {
    "duration": 63,
    "start_time": "2023-10-09T18:11:54.846Z"
   },
   {
    "duration": 163,
    "start_time": "2023-10-09T18:11:54.912Z"
   },
   {
    "duration": 18,
    "start_time": "2023-10-09T18:11:55.076Z"
   },
   {
    "duration": 15,
    "start_time": "2023-10-09T18:11:55.096Z"
   },
   {
    "duration": 49,
    "start_time": "2023-10-09T18:11:55.113Z"
   },
   {
    "duration": 48,
    "start_time": "2023-10-09T18:11:55.164Z"
   },
   {
    "duration": 25,
    "start_time": "2023-10-09T18:11:55.214Z"
   },
   {
    "duration": 62,
    "start_time": "2023-10-09T18:11:55.241Z"
   },
   {
    "duration": 177,
    "start_time": "2023-10-09T18:11:55.305Z"
   },
   {
    "duration": 17,
    "start_time": "2023-10-09T18:11:55.484Z"
   },
   {
    "duration": 52,
    "start_time": "2023-10-09T18:11:55.503Z"
   },
   {
    "duration": 17,
    "start_time": "2023-10-09T18:11:55.557Z"
   },
   {
    "duration": 41,
    "start_time": "2023-10-09T18:11:55.575Z"
   },
   {
    "duration": 16,
    "start_time": "2023-10-09T18:11:55.618Z"
   },
   {
    "duration": 3,
    "start_time": "2023-10-09T18:11:55.636Z"
   },
   {
    "duration": 39,
    "start_time": "2023-10-09T18:11:55.641Z"
   },
   {
    "duration": 34,
    "start_time": "2023-10-09T18:11:55.681Z"
   },
   {
    "duration": 3,
    "start_time": "2023-10-09T18:11:55.717Z"
   },
   {
    "duration": 92,
    "start_time": "2023-10-09T18:11:55.722Z"
   },
   {
    "duration": 88,
    "start_time": "2023-10-09T18:11:55.816Z"
   },
   {
    "duration": 16,
    "start_time": "2023-10-09T18:11:55.910Z"
   },
   {
    "duration": 83,
    "start_time": "2023-10-09T18:11:55.928Z"
   },
   {
    "duration": 4,
    "start_time": "2023-10-09T18:11:56.102Z"
   },
   {
    "duration": 96,
    "start_time": "2023-10-09T18:11:56.108Z"
   },
   {
    "duration": 3,
    "start_time": "2023-10-09T18:11:56.207Z"
   },
   {
    "duration": 93,
    "start_time": "2023-10-09T18:11:56.212Z"
   },
   {
    "duration": 10,
    "start_time": "2023-10-09T18:11:56.307Z"
   },
   {
    "duration": 8,
    "start_time": "2023-10-09T18:11:56.319Z"
   },
   {
    "duration": 3388,
    "start_time": "2023-10-09T18:11:56.329Z"
   },
   {
    "duration": 2091,
    "start_time": "2023-10-09T18:11:59.719Z"
   },
   {
    "duration": 2105,
    "start_time": "2023-10-09T18:12:01.812Z"
   },
   {
    "duration": 3,
    "start_time": "2023-10-09T18:12:28.490Z"
   },
   {
    "duration": 182,
    "start_time": "2023-10-09T18:12:28.496Z"
   },
   {
    "duration": 32,
    "start_time": "2023-10-09T18:12:28.679Z"
   },
   {
    "duration": 11,
    "start_time": "2023-10-09T18:12:28.713Z"
   },
   {
    "duration": 63,
    "start_time": "2023-10-09T18:12:28.726Z"
   },
   {
    "duration": 26,
    "start_time": "2023-10-09T18:12:28.790Z"
   },
   {
    "duration": 24,
    "start_time": "2023-10-09T18:12:28.818Z"
   },
   {
    "duration": 44,
    "start_time": "2023-10-09T18:12:28.844Z"
   },
   {
    "duration": 184,
    "start_time": "2023-10-09T18:12:28.902Z"
   },
   {
    "duration": 18,
    "start_time": "2023-10-09T18:12:29.089Z"
   },
   {
    "duration": 74,
    "start_time": "2023-10-09T18:12:29.109Z"
   },
   {
    "duration": 150,
    "start_time": "2023-10-09T18:12:29.186Z"
   },
   {
    "duration": 16,
    "start_time": "2023-10-09T18:12:29.338Z"
   },
   {
    "duration": 15,
    "start_time": "2023-10-09T18:12:29.356Z"
   },
   {
    "duration": 65,
    "start_time": "2023-10-09T18:12:29.372Z"
   },
   {
    "duration": 59,
    "start_time": "2023-10-09T18:12:29.438Z"
   },
   {
    "duration": 34,
    "start_time": "2023-10-09T18:12:29.498Z"
   },
   {
    "duration": 73,
    "start_time": "2023-10-09T18:12:29.535Z"
   },
   {
    "duration": 183,
    "start_time": "2023-10-09T18:12:29.610Z"
   },
   {
    "duration": 12,
    "start_time": "2023-10-09T18:12:29.795Z"
   },
   {
    "duration": 68,
    "start_time": "2023-10-09T18:12:29.808Z"
   },
   {
    "duration": 156,
    "start_time": "2023-10-09T18:12:29.878Z"
   },
   {
    "duration": 17,
    "start_time": "2023-10-09T18:12:30.035Z"
   },
   {
    "duration": 144,
    "start_time": "2023-10-09T18:12:30.054Z"
   },
   {
    "duration": 158,
    "start_time": "2023-10-09T18:12:30.200Z"
   },
   {
    "duration": 86,
    "start_time": "2023-10-09T18:12:30.360Z"
   },
   {
    "duration": 258,
    "start_time": "2023-10-09T18:12:30.447Z"
   },
   {
    "duration": 220,
    "start_time": "2023-10-09T18:12:30.709Z"
   },
   {
    "duration": 211,
    "start_time": "2023-10-09T18:12:30.930Z"
   },
   {
    "duration": 7,
    "start_time": "2023-10-09T18:12:31.142Z"
   },
   {
    "duration": 107,
    "start_time": "2023-10-09T18:12:31.151Z"
   },
   {
    "duration": 55,
    "start_time": "2023-10-09T18:12:31.261Z"
   },
   {
    "duration": 54,
    "start_time": "2023-10-09T18:12:31.318Z"
   },
   {
    "duration": 39,
    "start_time": "2023-10-09T18:12:31.374Z"
   },
   {
    "duration": 51,
    "start_time": "2023-10-09T18:12:31.415Z"
   },
   {
    "duration": 334,
    "start_time": "2023-10-09T18:12:31.467Z"
   },
   {
    "duration": 40,
    "start_time": "2023-10-09T18:12:31.804Z"
   },
   {
    "duration": 61,
    "start_time": "2023-10-09T18:12:31.846Z"
   },
   {
    "duration": 107,
    "start_time": "2023-10-09T18:12:31.908Z"
   },
   {
    "duration": 100,
    "start_time": "2023-10-09T18:12:32.108Z"
   },
   {
    "duration": 26,
    "start_time": "2023-10-09T18:12:32.210Z"
   },
   {
    "duration": 75,
    "start_time": "2023-10-09T18:12:32.238Z"
   },
   {
    "duration": 88,
    "start_time": "2023-10-09T18:12:32.315Z"
   },
   {
    "duration": 202,
    "start_time": "2023-10-09T18:12:32.405Z"
   },
   {
    "duration": 2,
    "start_time": "2023-10-09T18:12:32.609Z"
   },
   {
    "duration": 90,
    "start_time": "2023-10-09T18:12:32.613Z"
   },
   {
    "duration": 29,
    "start_time": "2023-10-09T18:12:32.705Z"
   },
   {
    "duration": 14,
    "start_time": "2023-10-09T18:12:32.736Z"
   },
   {
    "duration": 2427,
    "start_time": "2023-10-09T18:12:32.752Z"
   },
   {
    "duration": 2148,
    "start_time": "2023-10-09T18:12:35.181Z"
   },
   {
    "duration": 2296,
    "start_time": "2023-10-09T18:12:37.331Z"
   },
   {
    "duration": 3,
    "start_time": "2023-10-09T19:00:41.765Z"
   },
   {
    "duration": 438,
    "start_time": "2023-10-09T19:00:41.780Z"
   },
   {
    "duration": 16,
    "start_time": "2023-10-09T19:00:42.220Z"
   },
   {
    "duration": 24,
    "start_time": "2023-10-09T19:00:42.238Z"
   },
   {
    "duration": 59,
    "start_time": "2023-10-09T19:00:42.263Z"
   },
   {
    "duration": 34,
    "start_time": "2023-10-09T19:00:42.325Z"
   },
   {
    "duration": 49,
    "start_time": "2023-10-09T19:00:42.361Z"
   },
   {
    "duration": 39,
    "start_time": "2023-10-09T19:00:42.412Z"
   },
   {
    "duration": 194,
    "start_time": "2023-10-09T19:00:42.453Z"
   },
   {
    "duration": 8,
    "start_time": "2023-10-09T19:00:42.648Z"
   },
   {
    "duration": 64,
    "start_time": "2023-10-09T19:00:42.658Z"
   },
   {
    "duration": 190,
    "start_time": "2023-10-09T19:00:42.724Z"
   },
   {
    "duration": 19,
    "start_time": "2023-10-09T19:00:42.916Z"
   },
   {
    "duration": 43,
    "start_time": "2023-10-09T19:00:42.937Z"
   },
   {
    "duration": 52,
    "start_time": "2023-10-09T19:00:42.983Z"
   },
   {
    "duration": 23,
    "start_time": "2023-10-09T19:00:43.037Z"
   },
   {
    "duration": 85,
    "start_time": "2023-10-09T19:00:43.062Z"
   },
   {
    "duration": 85,
    "start_time": "2023-10-09T19:00:43.149Z"
   },
   {
    "duration": 186,
    "start_time": "2023-10-09T19:00:43.237Z"
   },
   {
    "duration": 8,
    "start_time": "2023-10-09T19:00:43.425Z"
   },
   {
    "duration": 78,
    "start_time": "2023-10-09T19:00:43.435Z"
   },
   {
    "duration": 171,
    "start_time": "2023-10-09T19:00:43.515Z"
   },
   {
    "duration": 28,
    "start_time": "2023-10-09T19:00:43.688Z"
   },
   {
    "duration": 11,
    "start_time": "2023-10-09T19:00:43.718Z"
   },
   {
    "duration": 105,
    "start_time": "2023-10-09T19:00:43.731Z"
   },
   {
    "duration": 226,
    "start_time": "2023-10-09T19:00:43.838Z"
   },
   {
    "duration": 23,
    "start_time": "2023-10-09T19:00:44.066Z"
   },
   {
    "duration": 43,
    "start_time": "2023-10-09T19:00:44.091Z"
   },
   {
    "duration": 198,
    "start_time": "2023-10-09T19:00:44.136Z"
   },
   {
    "duration": 8,
    "start_time": "2023-10-09T19:00:44.335Z"
   },
   {
    "duration": 69,
    "start_time": "2023-10-09T19:00:44.345Z"
   },
   {
    "duration": 16,
    "start_time": "2023-10-09T19:00:44.416Z"
   },
   {
    "duration": 16,
    "start_time": "2023-10-09T19:00:44.433Z"
   },
   {
    "duration": 42,
    "start_time": "2023-10-09T19:00:44.451Z"
   },
   {
    "duration": 5,
    "start_time": "2023-10-09T19:00:44.502Z"
   },
   {
    "duration": 51,
    "start_time": "2023-10-09T19:00:44.509Z"
   },
   {
    "duration": 38,
    "start_time": "2023-10-09T19:00:44.563Z"
   },
   {
    "duration": 6,
    "start_time": "2023-10-09T19:00:44.604Z"
   },
   {
    "duration": 104,
    "start_time": "2023-10-09T19:00:44.612Z"
   },
   {
    "duration": 3,
    "start_time": "2023-10-09T19:00:44.803Z"
   },
   {
    "duration": 11,
    "start_time": "2023-10-09T19:00:44.809Z"
   },
   {
    "duration": 89,
    "start_time": "2023-10-09T19:00:44.826Z"
   },
   {
    "duration": 4,
    "start_time": "2023-10-09T19:00:45.002Z"
   },
   {
    "duration": 196,
    "start_time": "2023-10-09T19:00:45.008Z"
   },
   {
    "duration": 92,
    "start_time": "2023-10-09T19:00:45.210Z"
   },
   {
    "duration": 206,
    "start_time": "2023-10-09T19:00:45.305Z"
   },
   {
    "duration": 26,
    "start_time": "2023-10-09T19:00:45.513Z"
   },
   {
    "duration": 32,
    "start_time": "2023-10-09T19:00:45.541Z"
   },
   {
    "duration": 2317,
    "start_time": "2023-10-09T19:00:45.575Z"
   },
   {
    "duration": 2088,
    "start_time": "2023-10-09T19:00:47.902Z"
   },
   {
    "duration": 2040,
    "start_time": "2023-10-09T19:00:49.991Z"
   },
   {
    "duration": 12,
    "start_time": "2023-10-09T19:16:26.739Z"
   },
   {
    "duration": 4,
    "start_time": "2023-10-09T19:16:31.746Z"
   },
   {
    "duration": 393,
    "start_time": "2023-10-09T19:16:31.770Z"
   },
   {
    "duration": 81,
    "start_time": "2023-10-09T19:16:32.165Z"
   },
   {
    "duration": 20,
    "start_time": "2023-10-09T19:16:32.248Z"
   },
   {
    "duration": 61,
    "start_time": "2023-10-09T19:16:32.271Z"
   },
   {
    "duration": 28,
    "start_time": "2023-10-09T19:16:32.334Z"
   },
   {
    "duration": 45,
    "start_time": "2023-10-09T19:16:32.364Z"
   },
   {
    "duration": 42,
    "start_time": "2023-10-09T19:16:32.412Z"
   },
   {
    "duration": 195,
    "start_time": "2023-10-09T19:16:32.456Z"
   },
   {
    "duration": 9,
    "start_time": "2023-10-09T19:16:32.653Z"
   },
   {
    "duration": 64,
    "start_time": "2023-10-09T19:16:32.666Z"
   },
   {
    "duration": 146,
    "start_time": "2023-10-09T19:16:32.731Z"
   },
   {
    "duration": 22,
    "start_time": "2023-10-09T19:16:32.879Z"
   },
   {
    "duration": 32,
    "start_time": "2023-10-09T19:16:32.903Z"
   },
   {
    "duration": 42,
    "start_time": "2023-10-09T19:16:32.937Z"
   },
   {
    "duration": 26,
    "start_time": "2023-10-09T19:16:32.982Z"
   },
   {
    "duration": 24,
    "start_time": "2023-10-09T19:16:33.010Z"
   },
   {
    "duration": 39,
    "start_time": "2023-10-09T19:16:33.037Z"
   },
   {
    "duration": 212,
    "start_time": "2023-10-09T19:16:33.078Z"
   },
   {
    "duration": 19,
    "start_time": "2023-10-09T19:16:33.292Z"
   },
   {
    "duration": 83,
    "start_time": "2023-10-09T19:16:33.313Z"
   },
   {
    "duration": 159,
    "start_time": "2023-10-09T19:16:33.398Z"
   },
   {
    "duration": 16,
    "start_time": "2023-10-09T19:16:33.559Z"
   },
   {
    "duration": 102,
    "start_time": "2023-10-09T19:16:33.577Z"
   },
   {
    "duration": 48,
    "start_time": "2023-10-09T19:16:33.681Z"
   },
   {
    "duration": 22,
    "start_time": "2023-10-09T19:16:33.730Z"
   },
   {
    "duration": 28,
    "start_time": "2023-10-09T19:16:33.754Z"
   },
   {
    "duration": 43,
    "start_time": "2023-10-09T19:16:33.801Z"
   },
   {
    "duration": 182,
    "start_time": "2023-10-09T19:16:33.849Z"
   },
   {
    "duration": 7,
    "start_time": "2023-10-09T19:16:34.033Z"
   },
   {
    "duration": 67,
    "start_time": "2023-10-09T19:16:34.042Z"
   },
   {
    "duration": 15,
    "start_time": "2023-10-09T19:16:34.111Z"
   },
   {
    "duration": 24,
    "start_time": "2023-10-09T19:16:34.127Z"
   },
   {
    "duration": 25,
    "start_time": "2023-10-09T19:16:34.153Z"
   },
   {
    "duration": 8,
    "start_time": "2023-10-09T19:16:34.180Z"
   },
   {
    "duration": 37,
    "start_time": "2023-10-09T19:16:34.202Z"
   },
   {
    "duration": 22,
    "start_time": "2023-10-09T19:16:34.241Z"
   },
   {
    "duration": 26,
    "start_time": "2023-10-09T19:16:34.266Z"
   },
   {
    "duration": 210,
    "start_time": "2023-10-09T19:16:34.294Z"
   },
   {
    "duration": 3,
    "start_time": "2023-10-09T19:16:34.507Z"
   },
   {
    "duration": 91,
    "start_time": "2023-10-09T19:16:34.513Z"
   },
   {
    "duration": 96,
    "start_time": "2023-10-09T19:16:34.607Z"
   },
   {
    "duration": 4,
    "start_time": "2023-10-09T19:16:34.706Z"
   },
   {
    "duration": 197,
    "start_time": "2023-10-09T19:16:34.712Z"
   },
   {
    "duration": 91,
    "start_time": "2023-10-09T19:16:34.911Z"
   },
   {
    "duration": 187,
    "start_time": "2023-10-09T19:16:35.005Z"
   },
   {
    "duration": 39,
    "start_time": "2023-10-09T19:16:35.202Z"
   },
   {
    "duration": 58,
    "start_time": "2023-10-09T19:16:35.243Z"
   },
   {
    "duration": 25,
    "start_time": "2023-10-09T19:16:35.304Z"
   },
   {
    "duration": 2700,
    "start_time": "2023-10-09T19:16:35.331Z"
   },
   {
    "duration": 2091,
    "start_time": "2023-10-09T19:16:38.033Z"
   },
   {
    "duration": 2105,
    "start_time": "2023-10-09T19:16:40.126Z"
   },
   {
    "duration": 1996,
    "start_time": "2023-10-09T19:16:42.232Z"
   },
   {
    "duration": 2056,
    "start_time": "2023-10-09T19:17:42.617Z"
   },
   {
    "duration": 4,
    "start_time": "2023-10-09T19:18:44.273Z"
   },
   {
    "duration": 174,
    "start_time": "2023-10-09T19:18:44.280Z"
   },
   {
    "duration": 16,
    "start_time": "2023-10-09T19:18:44.456Z"
   },
   {
    "duration": 28,
    "start_time": "2023-10-09T19:18:44.474Z"
   },
   {
    "duration": 58,
    "start_time": "2023-10-09T19:18:44.504Z"
   },
   {
    "duration": 39,
    "start_time": "2023-10-09T19:18:44.564Z"
   },
   {
    "duration": 30,
    "start_time": "2023-10-09T19:18:44.605Z"
   },
   {
    "duration": 63,
    "start_time": "2023-10-09T19:18:44.638Z"
   },
   {
    "duration": 200,
    "start_time": "2023-10-09T19:18:44.704Z"
   },
   {
    "duration": 7,
    "start_time": "2023-10-09T19:18:44.906Z"
   },
   {
    "duration": 55,
    "start_time": "2023-10-09T19:18:44.915Z"
   },
   {
    "duration": 142,
    "start_time": "2023-10-09T19:18:44.972Z"
   },
   {
    "duration": 15,
    "start_time": "2023-10-09T19:18:45.116Z"
   },
   {
    "duration": 37,
    "start_time": "2023-10-09T19:18:45.134Z"
   },
   {
    "duration": 46,
    "start_time": "2023-10-09T19:18:45.173Z"
   },
   {
    "duration": 26,
    "start_time": "2023-10-09T19:18:45.221Z"
   },
   {
    "duration": 25,
    "start_time": "2023-10-09T19:18:45.249Z"
   },
   {
    "duration": 67,
    "start_time": "2023-10-09T19:18:45.275Z"
   },
   {
    "duration": 177,
    "start_time": "2023-10-09T19:18:45.344Z"
   },
   {
    "duration": 8,
    "start_time": "2023-10-09T19:18:45.522Z"
   },
   {
    "duration": 178,
    "start_time": "2023-10-09T19:18:45.531Z"
   },
   {
    "duration": 170,
    "start_time": "2023-10-09T19:18:45.711Z"
   },
   {
    "duration": 20,
    "start_time": "2023-10-09T19:18:45.882Z"
   },
   {
    "duration": 16,
    "start_time": "2023-10-09T19:18:45.903Z"
   },
   {
    "duration": 48,
    "start_time": "2023-10-09T19:18:45.921Z"
   },
   {
    "duration": 35,
    "start_time": "2023-10-09T19:18:45.970Z"
   },
   {
    "duration": 63,
    "start_time": "2023-10-09T19:18:46.007Z"
   },
   {
    "duration": 39,
    "start_time": "2023-10-09T19:18:46.072Z"
   },
   {
    "duration": 165,
    "start_time": "2023-10-09T19:18:46.113Z"
   },
   {
    "duration": 8,
    "start_time": "2023-10-09T19:18:46.280Z"
   },
   {
    "duration": 47,
    "start_time": "2023-10-09T19:18:46.302Z"
   },
   {
    "duration": 14,
    "start_time": "2023-10-09T19:18:46.350Z"
   },
   {
    "duration": 37,
    "start_time": "2023-10-09T19:18:46.366Z"
   },
   {
    "duration": 16,
    "start_time": "2023-10-09T19:18:46.405Z"
   },
   {
    "duration": 3,
    "start_time": "2023-10-09T19:18:46.423Z"
   },
   {
    "duration": 48,
    "start_time": "2023-10-09T19:18:46.428Z"
   },
   {
    "duration": 25,
    "start_time": "2023-10-09T19:18:46.479Z"
   },
   {
    "duration": 5,
    "start_time": "2023-10-09T19:18:46.506Z"
   },
   {
    "duration": 87,
    "start_time": "2023-10-09T19:18:46.513Z"
   },
   {
    "duration": 99,
    "start_time": "2023-10-09T19:18:46.603Z"
   },
   {
    "duration": 36,
    "start_time": "2023-10-09T19:18:46.708Z"
   },
   {
    "duration": 58,
    "start_time": "2023-10-09T19:18:46.746Z"
   },
   {
    "duration": 4,
    "start_time": "2023-10-09T19:18:46.806Z"
   },
   {
    "duration": 188,
    "start_time": "2023-10-09T19:18:46.813Z"
   },
   {
    "duration": 9,
    "start_time": "2023-10-09T19:18:47.004Z"
   },
   {
    "duration": 169,
    "start_time": "2023-10-09T19:18:47.015Z"
   },
   {
    "duration": 32,
    "start_time": "2023-10-09T19:18:47.185Z"
   },
   {
    "duration": 24,
    "start_time": "2023-10-09T19:18:47.218Z"
   },
   {
    "duration": 18,
    "start_time": "2023-10-09T19:18:47.243Z"
   },
   {
    "duration": 35,
    "start_time": "2023-10-09T19:18:47.263Z"
   },
   {
    "duration": 0,
    "start_time": "2023-10-09T19:18:47.300Z"
   },
   {
    "duration": 0,
    "start_time": "2023-10-09T19:18:47.301Z"
   },
   {
    "duration": 0,
    "start_time": "2023-10-09T19:18:47.302Z"
   },
   {
    "duration": 0,
    "start_time": "2023-10-09T19:18:47.303Z"
   },
   {
    "duration": 3,
    "start_time": "2023-10-09T19:19:07.154Z"
   },
   {
    "duration": 2027,
    "start_time": "2023-10-09T19:19:08.491Z"
   },
   {
    "duration": 4,
    "start_time": "2023-10-09T19:20:45.596Z"
   },
   {
    "duration": 192,
    "start_time": "2023-10-09T19:20:45.602Z"
   },
   {
    "duration": 19,
    "start_time": "2023-10-09T19:20:45.795Z"
   },
   {
    "duration": 60,
    "start_time": "2023-10-09T19:20:45.816Z"
   },
   {
    "duration": 77,
    "start_time": "2023-10-09T19:20:45.878Z"
   },
   {
    "duration": 29,
    "start_time": "2023-10-09T19:20:45.957Z"
   },
   {
    "duration": 58,
    "start_time": "2023-10-09T19:20:45.988Z"
   },
   {
    "duration": 51,
    "start_time": "2023-10-09T19:20:46.048Z"
   },
   {
    "duration": 206,
    "start_time": "2023-10-09T19:20:46.102Z"
   },
   {
    "duration": 7,
    "start_time": "2023-10-09T19:20:46.310Z"
   },
   {
    "duration": 48,
    "start_time": "2023-10-09T19:20:46.319Z"
   },
   {
    "duration": 153,
    "start_time": "2023-10-09T19:20:46.369Z"
   },
   {
    "duration": 15,
    "start_time": "2023-10-09T19:20:46.523Z"
   },
   {
    "duration": 238,
    "start_time": "2023-10-09T19:20:46.542Z"
   },
   {
    "duration": 52,
    "start_time": "2023-10-09T19:20:46.782Z"
   },
   {
    "duration": 24,
    "start_time": "2023-10-09T19:20:46.835Z"
   },
   {
    "duration": 41,
    "start_time": "2023-10-09T19:20:46.861Z"
   },
   {
    "duration": 37,
    "start_time": "2023-10-09T19:20:46.904Z"
   },
   {
    "duration": 183,
    "start_time": "2023-10-09T19:20:46.942Z"
   },
   {
    "duration": 8,
    "start_time": "2023-10-09T19:20:47.126Z"
   },
   {
    "duration": 53,
    "start_time": "2023-10-09T19:20:47.135Z"
   },
   {
    "duration": 165,
    "start_time": "2023-10-09T19:20:47.189Z"
   },
   {
    "duration": 16,
    "start_time": "2023-10-09T19:20:47.356Z"
   },
   {
    "duration": 11,
    "start_time": "2023-10-09T19:20:47.373Z"
   },
   {
    "duration": 44,
    "start_time": "2023-10-09T19:20:47.401Z"
   },
   {
    "duration": 37,
    "start_time": "2023-10-09T19:20:47.447Z"
   },
   {
    "duration": 30,
    "start_time": "2023-10-09T19:20:47.486Z"
   },
   {
    "duration": 36,
    "start_time": "2023-10-09T19:20:47.518Z"
   },
   {
    "duration": 181,
    "start_time": "2023-10-09T19:20:47.556Z"
   },
   {
    "duration": 8,
    "start_time": "2023-10-09T19:20:47.738Z"
   },
   {
    "duration": 69,
    "start_time": "2023-10-09T19:20:47.747Z"
   },
   {
    "duration": 30,
    "start_time": "2023-10-09T19:20:47.818Z"
   },
   {
    "duration": 36,
    "start_time": "2023-10-09T19:20:47.850Z"
   },
   {
    "duration": 29,
    "start_time": "2023-10-09T19:20:47.888Z"
   },
   {
    "duration": 2,
    "start_time": "2023-10-09T19:20:47.919Z"
   },
   {
    "duration": 31,
    "start_time": "2023-10-09T19:20:47.923Z"
   },
   {
    "duration": 42,
    "start_time": "2023-10-09T19:20:47.956Z"
   },
   {
    "duration": 14,
    "start_time": "2023-10-09T19:20:48.000Z"
   },
   {
    "duration": 85,
    "start_time": "2023-10-09T19:20:48.016Z"
   },
   {
    "duration": 99,
    "start_time": "2023-10-09T19:20:48.103Z"
   },
   {
    "duration": 3,
    "start_time": "2023-10-09T19:20:48.206Z"
   },
   {
    "duration": 94,
    "start_time": "2023-10-09T19:20:48.211Z"
   },
   {
    "duration": 94,
    "start_time": "2023-10-09T19:20:48.309Z"
   },
   {
    "duration": 97,
    "start_time": "2023-10-09T19:20:48.405Z"
   },
   {
    "duration": 118,
    "start_time": "2023-10-09T19:20:48.505Z"
   },
   {
    "duration": 114,
    "start_time": "2023-10-09T19:20:48.625Z"
   },
   {
    "duration": 191,
    "start_time": "2023-10-09T19:20:48.741Z"
   },
   {
    "duration": 85,
    "start_time": "2023-10-09T19:20:48.933Z"
   },
   {
    "duration": 267,
    "start_time": "2023-10-09T19:20:49.020Z"
   },
   {
    "duration": 228,
    "start_time": "2023-10-09T19:20:49.289Z"
   },
   {
    "duration": 2200,
    "start_time": "2023-10-09T19:20:49.519Z"
   },
   {
    "duration": 3,
    "start_time": "2023-10-09T19:20:51.721Z"
   },
   {
    "duration": 2220,
    "start_time": "2023-10-09T19:20:51.726Z"
   },
   {
    "duration": 2,
    "start_time": "2023-10-09T19:20:53.948Z"
   },
   {
    "duration": 2113,
    "start_time": "2023-10-09T19:20:53.952Z"
   },
   {
    "duration": 6,
    "start_time": "2023-10-09T19:21:31.836Z"
   },
   {
    "duration": 3,
    "start_time": "2023-10-09T19:21:33.533Z"
   },
   {
    "duration": 2141,
    "start_time": "2023-10-09T19:21:34.436Z"
   },
   {
    "duration": 8,
    "start_time": "2023-10-09T19:21:59.619Z"
   },
   {
    "duration": 3,
    "start_time": "2023-10-09T19:22:00.837Z"
   },
   {
    "duration": 1999,
    "start_time": "2023-10-09T19:22:02.192Z"
   },
   {
    "duration": 83,
    "start_time": "2023-10-09T19:22:18.018Z"
   },
   {
    "duration": 6,
    "start_time": "2023-10-09T19:22:28.355Z"
   },
   {
    "duration": 3,
    "start_time": "2023-10-09T19:22:29.517Z"
   },
   {
    "duration": 2031,
    "start_time": "2023-10-09T19:22:30.703Z"
   },
   {
    "duration": 5,
    "start_time": "2023-10-09T19:22:49.176Z"
   },
   {
    "duration": 259,
    "start_time": "2023-10-09T19:22:49.183Z"
   },
   {
    "duration": 15,
    "start_time": "2023-10-09T19:22:49.444Z"
   },
   {
    "duration": 17,
    "start_time": "2023-10-09T19:22:49.462Z"
   },
   {
    "duration": 62,
    "start_time": "2023-10-09T19:22:49.481Z"
   },
   {
    "duration": 23,
    "start_time": "2023-10-09T19:22:49.545Z"
   },
   {
    "duration": 47,
    "start_time": "2023-10-09T19:22:49.570Z"
   },
   {
    "duration": 38,
    "start_time": "2023-10-09T19:22:49.619Z"
   },
   {
    "duration": 192,
    "start_time": "2023-10-09T19:22:49.659Z"
   },
   {
    "duration": 9,
    "start_time": "2023-10-09T19:22:49.855Z"
   },
   {
    "duration": 64,
    "start_time": "2023-10-09T19:22:49.866Z"
   },
   {
    "duration": 153,
    "start_time": "2023-10-09T19:22:49.933Z"
   },
   {
    "duration": 24,
    "start_time": "2023-10-09T19:22:50.088Z"
   },
   {
    "duration": 15,
    "start_time": "2023-10-09T19:22:50.114Z"
   },
   {
    "duration": 50,
    "start_time": "2023-10-09T19:22:50.131Z"
   },
   {
    "duration": 39,
    "start_time": "2023-10-09T19:22:50.183Z"
   },
   {
    "duration": 27,
    "start_time": "2023-10-09T19:22:50.224Z"
   },
   {
    "duration": 63,
    "start_time": "2023-10-09T19:22:50.253Z"
   },
   {
    "duration": 183,
    "start_time": "2023-10-09T19:22:50.318Z"
   },
   {
    "duration": 9,
    "start_time": "2023-10-09T19:22:50.503Z"
   },
   {
    "duration": 66,
    "start_time": "2023-10-09T19:22:50.514Z"
   },
   {
    "duration": 156,
    "start_time": "2023-10-09T19:22:50.582Z"
   },
   {
    "duration": 16,
    "start_time": "2023-10-09T19:22:50.740Z"
   },
   {
    "duration": 38,
    "start_time": "2023-10-09T19:22:50.758Z"
   },
   {
    "duration": 54,
    "start_time": "2023-10-09T19:22:50.798Z"
   },
   {
    "duration": 21,
    "start_time": "2023-10-09T19:22:50.854Z"
   },
   {
    "duration": 44,
    "start_time": "2023-10-09T19:22:50.877Z"
   },
   {
    "duration": 40,
    "start_time": "2023-10-09T19:22:50.925Z"
   },
   {
    "duration": 178,
    "start_time": "2023-10-09T19:22:50.967Z"
   },
   {
    "duration": 7,
    "start_time": "2023-10-09T19:22:51.147Z"
   },
   {
    "duration": 76,
    "start_time": "2023-10-09T19:22:51.155Z"
   },
   {
    "duration": 15,
    "start_time": "2023-10-09T19:22:51.233Z"
   },
   {
    "duration": 118,
    "start_time": "2023-10-09T19:22:51.250Z"
   },
   {
    "duration": 37,
    "start_time": "2023-10-09T19:22:51.370Z"
   },
   {
    "duration": 26,
    "start_time": "2023-10-09T19:22:51.409Z"
   },
   {
    "duration": 27,
    "start_time": "2023-10-09T19:22:51.437Z"
   },
   {
    "duration": 19,
    "start_time": "2023-10-09T19:22:51.466Z"
   },
   {
    "duration": 19,
    "start_time": "2023-10-09T19:22:51.487Z"
   },
   {
    "duration": 34,
    "start_time": "2023-10-09T19:22:51.508Z"
   },
   {
    "duration": 9,
    "start_time": "2023-10-09T19:22:51.602Z"
   },
   {
    "duration": 90,
    "start_time": "2023-10-09T19:22:51.613Z"
   },
   {
    "duration": 98,
    "start_time": "2023-10-09T19:22:51.705Z"
   },
   {
    "duration": 4,
    "start_time": "2023-10-09T19:22:51.805Z"
   },
   {
    "duration": 191,
    "start_time": "2023-10-09T19:22:51.812Z"
   },
   {
    "duration": 96,
    "start_time": "2023-10-09T19:22:52.006Z"
   },
   {
    "duration": 255,
    "start_time": "2023-10-09T19:22:52.104Z"
   },
   {
    "duration": 155,
    "start_time": "2023-10-09T19:22:52.361Z"
   },
   {
    "duration": 51,
    "start_time": "2023-10-09T19:22:52.518Z"
   },
   {
    "duration": 98,
    "start_time": "2023-10-09T19:22:52.571Z"
   },
   {
    "duration": 31,
    "start_time": "2023-10-09T19:22:52.671Z"
   },
   {
    "duration": 2222,
    "start_time": "2023-10-09T19:22:52.705Z"
   },
   {
    "duration": 3,
    "start_time": "2023-10-09T19:22:54.929Z"
   },
   {
    "duration": 2069,
    "start_time": "2023-10-09T19:22:54.933Z"
   },
   {
    "duration": 3,
    "start_time": "2023-10-09T19:22:57.004Z"
   },
   {
    "duration": 2035,
    "start_time": "2023-10-09T19:22:57.009Z"
   },
   {
    "duration": 4,
    "start_time": "2023-10-09T19:23:33.915Z"
   },
   {
    "duration": 188,
    "start_time": "2023-10-09T19:23:33.921Z"
   },
   {
    "duration": 15,
    "start_time": "2023-10-09T19:23:34.110Z"
   },
   {
    "duration": 13,
    "start_time": "2023-10-09T19:23:34.128Z"
   },
   {
    "duration": 67,
    "start_time": "2023-10-09T19:23:34.144Z"
   },
   {
    "duration": 26,
    "start_time": "2023-10-09T19:23:34.213Z"
   },
   {
    "duration": 36,
    "start_time": "2023-10-09T19:23:34.241Z"
   },
   {
    "duration": 61,
    "start_time": "2023-10-09T19:23:34.279Z"
   },
   {
    "duration": 200,
    "start_time": "2023-10-09T19:23:34.342Z"
   },
   {
    "duration": 8,
    "start_time": "2023-10-09T19:23:34.543Z"
   },
   {
    "duration": 78,
    "start_time": "2023-10-09T19:23:34.553Z"
   },
   {
    "duration": 283,
    "start_time": "2023-10-09T19:23:34.633Z"
   },
   {
    "duration": 23,
    "start_time": "2023-10-09T19:23:34.921Z"
   },
   {
    "duration": 114,
    "start_time": "2023-10-09T19:23:34.950Z"
   },
   {
    "duration": 74,
    "start_time": "2023-10-09T19:23:35.066Z"
   },
   {
    "duration": 24,
    "start_time": "2023-10-09T19:23:35.142Z"
   },
   {
    "duration": 40,
    "start_time": "2023-10-09T19:23:35.168Z"
   },
   {
    "duration": 43,
    "start_time": "2023-10-09T19:23:35.210Z"
   },
   {
    "duration": 204,
    "start_time": "2023-10-09T19:23:35.255Z"
   },
   {
    "duration": 10,
    "start_time": "2023-10-09T19:23:35.461Z"
   },
   {
    "duration": 182,
    "start_time": "2023-10-09T19:23:35.473Z"
   },
   {
    "duration": 218,
    "start_time": "2023-10-09T19:23:35.657Z"
   },
   {
    "duration": 30,
    "start_time": "2023-10-09T19:23:35.877Z"
   },
   {
    "duration": 12,
    "start_time": "2023-10-09T19:23:35.909Z"
   },
   {
    "duration": 59,
    "start_time": "2023-10-09T19:23:35.923Z"
   },
   {
    "duration": 40,
    "start_time": "2023-10-09T19:23:35.984Z"
   },
   {
    "duration": 33,
    "start_time": "2023-10-09T19:23:36.026Z"
   },
   {
    "duration": 52,
    "start_time": "2023-10-09T19:23:36.061Z"
   },
   {
    "duration": 193,
    "start_time": "2023-10-09T19:23:36.115Z"
   },
   {
    "duration": 9,
    "start_time": "2023-10-09T19:23:36.310Z"
   },
   {
    "duration": 94,
    "start_time": "2023-10-09T19:23:36.320Z"
   },
   {
    "duration": 19,
    "start_time": "2023-10-09T19:23:36.416Z"
   },
   {
    "duration": 28,
    "start_time": "2023-10-09T19:23:36.437Z"
   },
   {
    "duration": 17,
    "start_time": "2023-10-09T19:23:36.467Z"
   },
   {
    "duration": 3,
    "start_time": "2023-10-09T19:23:36.500Z"
   },
   {
    "duration": 35,
    "start_time": "2023-10-09T19:23:36.506Z"
   },
   {
    "duration": 30,
    "start_time": "2023-10-09T19:23:36.543Z"
   },
   {
    "duration": 5,
    "start_time": "2023-10-09T19:23:36.576Z"
   },
   {
    "duration": 119,
    "start_time": "2023-10-09T19:23:36.583Z"
   },
   {
    "duration": 3,
    "start_time": "2023-10-09T19:23:36.705Z"
   },
   {
    "duration": 4,
    "start_time": "2023-10-09T19:23:36.801Z"
   },
   {
    "duration": 99,
    "start_time": "2023-10-09T19:23:36.808Z"
   },
   {
    "duration": 4,
    "start_time": "2023-10-09T19:23:36.909Z"
   },
   {
    "duration": 105,
    "start_time": "2023-10-09T19:23:36.915Z"
   },
   {
    "duration": 80,
    "start_time": "2023-10-09T19:23:37.024Z"
   },
   {
    "duration": 98,
    "start_time": "2023-10-09T19:23:37.106Z"
   },
   {
    "duration": 70,
    "start_time": "2023-10-09T19:23:37.206Z"
   },
   {
    "duration": 9,
    "start_time": "2023-10-09T19:23:37.278Z"
   },
   {
    "duration": 15,
    "start_time": "2023-10-09T19:23:37.289Z"
   },
   {
    "duration": 14,
    "start_time": "2023-10-09T19:23:37.307Z"
   },
   {
    "duration": 2175,
    "start_time": "2023-10-09T19:23:37.323Z"
   },
   {
    "duration": 3,
    "start_time": "2023-10-09T19:23:39.501Z"
   },
   {
    "duration": 2098,
    "start_time": "2023-10-09T19:23:39.506Z"
   },
   {
    "duration": 3,
    "start_time": "2023-10-09T19:23:41.606Z"
   },
   {
    "duration": 2235,
    "start_time": "2023-10-09T19:23:41.611Z"
   },
   {
    "duration": 6,
    "start_time": "2023-10-09T19:24:33.453Z"
   },
   {
    "duration": 4,
    "start_time": "2023-10-09T19:24:34.401Z"
   },
   {
    "duration": 2013,
    "start_time": "2023-10-09T19:24:34.884Z"
   },
   {
    "duration": 3,
    "start_time": "2023-10-09T19:24:37.979Z"
   },
   {
    "duration": 2271,
    "start_time": "2023-10-09T19:24:38.187Z"
   },
   {
    "duration": 3,
    "start_time": "2023-10-09T19:24:40.459Z"
   },
   {
    "duration": 2015,
    "start_time": "2023-10-09T19:24:40.463Z"
   },
   {
    "duration": 4,
    "start_time": "2023-10-09T19:24:45.841Z"
   },
   {
    "duration": 193,
    "start_time": "2023-10-09T19:24:45.847Z"
   },
   {
    "duration": 22,
    "start_time": "2023-10-09T19:24:46.043Z"
   },
   {
    "duration": 34,
    "start_time": "2023-10-09T19:24:46.068Z"
   },
   {
    "duration": 54,
    "start_time": "2023-10-09T19:24:46.104Z"
   },
   {
    "duration": 21,
    "start_time": "2023-10-09T19:24:46.159Z"
   },
   {
    "duration": 36,
    "start_time": "2023-10-09T19:24:46.182Z"
   },
   {
    "duration": 55,
    "start_time": "2023-10-09T19:24:46.220Z"
   },
   {
    "duration": 184,
    "start_time": "2023-10-09T19:24:46.276Z"
   },
   {
    "duration": 7,
    "start_time": "2023-10-09T19:24:46.464Z"
   },
   {
    "duration": 67,
    "start_time": "2023-10-09T19:24:46.473Z"
   },
   {
    "duration": 177,
    "start_time": "2023-10-09T19:24:46.543Z"
   },
   {
    "duration": 15,
    "start_time": "2023-10-09T19:24:46.722Z"
   },
   {
    "duration": 11,
    "start_time": "2023-10-09T19:24:46.738Z"
   },
   {
    "duration": 72,
    "start_time": "2023-10-09T19:24:46.751Z"
   },
   {
    "duration": 24,
    "start_time": "2023-10-09T19:24:46.825Z"
   },
   {
    "duration": 27,
    "start_time": "2023-10-09T19:24:46.851Z"
   },
   {
    "duration": 50,
    "start_time": "2023-10-09T19:24:46.901Z"
   },
   {
    "duration": 195,
    "start_time": "2023-10-09T19:24:46.953Z"
   },
   {
    "duration": 8,
    "start_time": "2023-10-09T19:24:47.150Z"
   },
   {
    "duration": 64,
    "start_time": "2023-10-09T19:24:47.160Z"
   },
   {
    "duration": 159,
    "start_time": "2023-10-09T19:24:47.226Z"
   },
   {
    "duration": 19,
    "start_time": "2023-10-09T19:24:47.387Z"
   },
   {
    "duration": 11,
    "start_time": "2023-10-09T19:24:47.407Z"
   },
   {
    "duration": 46,
    "start_time": "2023-10-09T19:24:47.419Z"
   },
   {
    "duration": 47,
    "start_time": "2023-10-09T19:24:47.467Z"
   },
   {
    "duration": 24,
    "start_time": "2023-10-09T19:24:47.515Z"
   },
   {
    "duration": 39,
    "start_time": "2023-10-09T19:24:47.542Z"
   },
   {
    "duration": 167,
    "start_time": "2023-10-09T19:24:47.602Z"
   },
   {
    "duration": 9,
    "start_time": "2023-10-09T19:24:47.771Z"
   },
   {
    "duration": 57,
    "start_time": "2023-10-09T19:24:47.782Z"
   },
   {
    "duration": 14,
    "start_time": "2023-10-09T19:24:47.842Z"
   },
   {
    "duration": 74,
    "start_time": "2023-10-09T19:24:47.858Z"
   },
   {
    "duration": 14,
    "start_time": "2023-10-09T19:24:47.933Z"
   },
   {
    "duration": 7,
    "start_time": "2023-10-09T19:24:47.949Z"
   },
   {
    "duration": 28,
    "start_time": "2023-10-09T19:24:47.958Z"
   },
   {
    "duration": 20,
    "start_time": "2023-10-09T19:24:47.987Z"
   },
   {
    "duration": 43,
    "start_time": "2023-10-09T19:24:48.009Z"
   },
   {
    "duration": 51,
    "start_time": "2023-10-09T19:24:48.053Z"
   },
   {
    "duration": 94,
    "start_time": "2023-10-09T19:24:48.107Z"
   },
   {
    "duration": 11,
    "start_time": "2023-10-09T19:24:48.206Z"
   },
   {
    "duration": 99,
    "start_time": "2023-10-09T19:24:48.302Z"
   },
   {
    "duration": 4,
    "start_time": "2023-10-09T19:24:48.403Z"
   },
   {
    "duration": 115,
    "start_time": "2023-10-09T19:24:48.409Z"
   },
   {
    "duration": 4,
    "start_time": "2023-10-09T19:24:48.603Z"
   },
   {
    "duration": 113,
    "start_time": "2023-10-09T19:24:48.609Z"
   },
   {
    "duration": 19,
    "start_time": "2023-10-09T19:24:48.724Z"
   },
   {
    "duration": 17,
    "start_time": "2023-10-09T19:24:48.745Z"
   },
   {
    "duration": 7,
    "start_time": "2023-10-09T19:24:48.765Z"
   },
   {
    "duration": 36,
    "start_time": "2023-10-09T19:24:48.774Z"
   },
   {
    "duration": 1998,
    "start_time": "2023-10-09T19:24:48.813Z"
   },
   {
    "duration": 3,
    "start_time": "2023-10-09T19:24:50.813Z"
   },
   {
    "duration": 2020,
    "start_time": "2023-10-09T19:24:50.818Z"
   },
   {
    "duration": 3,
    "start_time": "2023-10-09T19:24:52.840Z"
   },
   {
    "duration": 2148,
    "start_time": "2023-10-09T19:24:52.845Z"
   },
   {
    "duration": 4,
    "start_time": "2023-10-09T19:33:28.991Z"
   },
   {
    "duration": 164,
    "start_time": "2023-10-09T19:33:28.997Z"
   },
   {
    "duration": 15,
    "start_time": "2023-10-09T19:33:29.163Z"
   },
   {
    "duration": 26,
    "start_time": "2023-10-09T19:33:29.180Z"
   },
   {
    "duration": 61,
    "start_time": "2023-10-09T19:33:29.209Z"
   },
   {
    "duration": 45,
    "start_time": "2023-10-09T19:33:29.272Z"
   },
   {
    "duration": 30,
    "start_time": "2023-10-09T19:33:29.319Z"
   },
   {
    "duration": 60,
    "start_time": "2023-10-09T19:33:29.351Z"
   },
   {
    "duration": 172,
    "start_time": "2023-10-09T19:33:29.413Z"
   },
   {
    "duration": 20,
    "start_time": "2023-10-09T19:33:29.587Z"
   },
   {
    "duration": 81,
    "start_time": "2023-10-09T19:33:29.609Z"
   },
   {
    "duration": 146,
    "start_time": "2023-10-09T19:33:29.692Z"
   },
   {
    "duration": 18,
    "start_time": "2023-10-09T19:33:29.840Z"
   },
   {
    "duration": 11,
    "start_time": "2023-10-09T19:33:29.861Z"
   },
   {
    "duration": 71,
    "start_time": "2023-10-09T19:33:29.874Z"
   },
   {
    "duration": 24,
    "start_time": "2023-10-09T19:33:29.947Z"
   },
   {
    "duration": 48,
    "start_time": "2023-10-09T19:33:29.973Z"
   },
   {
    "duration": 49,
    "start_time": "2023-10-09T19:33:30.023Z"
   },
   {
    "duration": 275,
    "start_time": "2023-10-09T19:33:30.074Z"
   },
   {
    "duration": 7,
    "start_time": "2023-10-09T19:33:30.351Z"
   },
   {
    "duration": 248,
    "start_time": "2023-10-09T19:33:30.360Z"
   },
   {
    "duration": 329,
    "start_time": "2023-10-09T19:33:30.610Z"
   },
   {
    "duration": 15,
    "start_time": "2023-10-09T19:33:30.941Z"
   },
   {
    "duration": 68,
    "start_time": "2023-10-09T19:33:30.958Z"
   },
   {
    "duration": 129,
    "start_time": "2023-10-09T19:33:31.028Z"
   },
   {
    "duration": 99,
    "start_time": "2023-10-09T19:33:31.159Z"
   },
   {
    "duration": 53,
    "start_time": "2023-10-09T19:33:31.260Z"
   },
   {
    "duration": 72,
    "start_time": "2023-10-09T19:33:31.314Z"
   },
   {
    "duration": 389,
    "start_time": "2023-10-09T19:33:31.388Z"
   },
   {
    "duration": 51,
    "start_time": "2023-10-09T19:33:31.778Z"
   },
   {
    "duration": 78,
    "start_time": "2023-10-09T19:33:31.831Z"
   },
   {
    "duration": 18,
    "start_time": "2023-10-09T19:33:31.911Z"
   },
   {
    "duration": 45,
    "start_time": "2023-10-09T19:33:31.931Z"
   },
   {
    "duration": 28,
    "start_time": "2023-10-09T19:33:31.977Z"
   },
   {
    "duration": 15,
    "start_time": "2023-10-09T19:33:32.006Z"
   },
   {
    "duration": 46,
    "start_time": "2023-10-09T19:33:32.023Z"
   },
   {
    "duration": 25,
    "start_time": "2023-10-09T19:33:32.071Z"
   },
   {
    "duration": 36,
    "start_time": "2023-10-09T19:33:32.098Z"
   },
   {
    "duration": 55,
    "start_time": "2023-10-09T19:33:32.135Z"
   },
   {
    "duration": 15,
    "start_time": "2023-10-09T19:33:32.192Z"
   },
   {
    "duration": 90,
    "start_time": "2023-10-09T19:33:32.212Z"
   },
   {
    "duration": 96,
    "start_time": "2023-10-09T19:33:32.305Z"
   },
   {
    "duration": 17,
    "start_time": "2023-10-09T19:33:32.404Z"
   },
   {
    "duration": 89,
    "start_time": "2023-10-09T19:33:32.423Z"
   },
   {
    "duration": 3,
    "start_time": "2023-10-09T19:33:32.602Z"
   },
   {
    "duration": 197,
    "start_time": "2023-10-09T19:33:32.606Z"
   },
   {
    "duration": 4,
    "start_time": "2023-10-09T19:33:32.805Z"
   },
   {
    "duration": 106,
    "start_time": "2023-10-09T19:33:32.811Z"
   },
   {
    "duration": 21,
    "start_time": "2023-10-09T19:33:32.919Z"
   },
   {
    "duration": 15,
    "start_time": "2023-10-09T19:33:32.942Z"
   },
   {
    "duration": 43,
    "start_time": "2023-10-09T19:33:32.959Z"
   },
   {
    "duration": 9,
    "start_time": "2023-10-09T19:33:33.003Z"
   },
   {
    "duration": 2865,
    "start_time": "2023-10-09T19:33:33.014Z"
   },
   {
    "duration": 3,
    "start_time": "2023-10-09T19:33:35.881Z"
   },
   {
    "duration": 2301,
    "start_time": "2023-10-09T19:33:35.886Z"
   },
   {
    "duration": 3,
    "start_time": "2023-10-09T19:33:38.189Z"
   },
   {
    "duration": 2405,
    "start_time": "2023-10-09T19:33:38.202Z"
   },
   {
    "duration": 4,
    "start_time": "2023-10-09T19:39:11.342Z"
   },
   {
    "duration": 184,
    "start_time": "2023-10-09T19:39:11.348Z"
   },
   {
    "duration": 14,
    "start_time": "2023-10-09T19:39:11.534Z"
   },
   {
    "duration": 38,
    "start_time": "2023-10-09T19:39:11.551Z"
   },
   {
    "duration": 54,
    "start_time": "2023-10-09T19:39:11.591Z"
   },
   {
    "duration": 21,
    "start_time": "2023-10-09T19:39:11.647Z"
   },
   {
    "duration": 59,
    "start_time": "2023-10-09T19:39:11.670Z"
   },
   {
    "duration": 39,
    "start_time": "2023-10-09T19:39:11.731Z"
   },
   {
    "duration": 174,
    "start_time": "2023-10-09T19:39:11.772Z"
   },
   {
    "duration": 7,
    "start_time": "2023-10-09T19:39:11.948Z"
   },
   {
    "duration": 10,
    "start_time": "2023-10-09T19:39:11.957Z"
   },
   {
    "duration": 67,
    "start_time": "2023-10-09T19:39:11.969Z"
   },
   {
    "duration": 32,
    "start_time": "2023-10-09T19:39:12.039Z"
   },
   {
    "duration": 148,
    "start_time": "2023-10-09T19:39:12.073Z"
   },
   {
    "duration": 16,
    "start_time": "2023-10-09T19:39:12.223Z"
   },
   {
    "duration": 12,
    "start_time": "2023-10-09T19:39:12.240Z"
   },
   {
    "duration": 73,
    "start_time": "2023-10-09T19:39:12.253Z"
   },
   {
    "duration": 24,
    "start_time": "2023-10-09T19:39:12.327Z"
   },
   {
    "duration": 48,
    "start_time": "2023-10-09T19:39:12.353Z"
   },
   {
    "duration": 36,
    "start_time": "2023-10-09T19:39:12.403Z"
   },
   {
    "duration": 187,
    "start_time": "2023-10-09T19:39:12.441Z"
   },
   {
    "duration": 8,
    "start_time": "2023-10-09T19:39:12.630Z"
   },
   {
    "duration": 83,
    "start_time": "2023-10-09T19:39:12.639Z"
   },
   {
    "duration": 153,
    "start_time": "2023-10-09T19:39:12.726Z"
   },
   {
    "duration": 25,
    "start_time": "2023-10-09T19:39:12.881Z"
   },
   {
    "duration": 11,
    "start_time": "2023-10-09T19:39:12.908Z"
   },
   {
    "duration": 84,
    "start_time": "2023-10-09T19:39:12.921Z"
   },
   {
    "duration": 32,
    "start_time": "2023-10-09T19:39:13.007Z"
   },
   {
    "duration": 86,
    "start_time": "2023-10-09T19:39:13.041Z"
   },
   {
    "duration": 90,
    "start_time": "2023-10-09T19:39:13.129Z"
   },
   {
    "duration": 327,
    "start_time": "2023-10-09T19:39:13.221Z"
   },
   {
    "duration": 56,
    "start_time": "2023-10-09T19:39:13.550Z"
   },
   {
    "duration": 197,
    "start_time": "2023-10-09T19:39:13.608Z"
   },
   {
    "duration": 15,
    "start_time": "2023-10-09T19:39:13.807Z"
   },
   {
    "duration": 79,
    "start_time": "2023-10-09T19:39:13.823Z"
   },
   {
    "duration": 16,
    "start_time": "2023-10-09T19:39:13.903Z"
   },
   {
    "duration": 5,
    "start_time": "2023-10-09T19:39:13.921Z"
   },
   {
    "duration": 75,
    "start_time": "2023-10-09T19:39:13.927Z"
   },
   {
    "duration": 66,
    "start_time": "2023-10-09T19:39:14.004Z"
   },
   {
    "duration": 29,
    "start_time": "2023-10-09T19:39:14.072Z"
   },
   {
    "duration": 109,
    "start_time": "2023-10-09T19:39:14.104Z"
   },
   {
    "duration": 5,
    "start_time": "2023-10-09T19:39:14.215Z"
   },
   {
    "duration": 86,
    "start_time": "2023-10-09T19:39:14.222Z"
   },
   {
    "duration": 100,
    "start_time": "2023-10-09T19:39:14.312Z"
   },
   {
    "duration": 39,
    "start_time": "2023-10-09T19:39:14.413Z"
   },
   {
    "duration": 149,
    "start_time": "2023-10-09T19:39:14.453Z"
   },
   {
    "duration": 3,
    "start_time": "2023-10-09T19:39:14.604Z"
   },
   {
    "duration": 99,
    "start_time": "2023-10-09T19:39:14.609Z"
   },
   {
    "duration": 120,
    "start_time": "2023-10-09T19:39:14.711Z"
   },
   {
    "duration": 136,
    "start_time": "2023-10-09T19:39:14.833Z"
   },
   {
    "duration": 94,
    "start_time": "2023-10-09T19:39:14.972Z"
   },
   {
    "duration": 52,
    "start_time": "2023-10-09T19:39:15.068Z"
   },
   {
    "duration": 24,
    "start_time": "2023-10-09T19:39:15.122Z"
   },
   {
    "duration": 17,
    "start_time": "2023-10-09T19:39:15.148Z"
   },
   {
    "duration": 2001,
    "start_time": "2023-10-09T19:39:15.166Z"
   },
   {
    "duration": 3,
    "start_time": "2023-10-09T19:39:17.169Z"
   },
   {
    "duration": 2084,
    "start_time": "2023-10-09T19:39:17.173Z"
   },
   {
    "duration": 2,
    "start_time": "2023-10-09T19:39:19.259Z"
   },
   {
    "duration": 2063,
    "start_time": "2023-10-09T19:39:19.263Z"
   },
   {
    "duration": 4,
    "start_time": "2023-10-09T19:40:20.709Z"
   },
   {
    "duration": 206,
    "start_time": "2023-10-09T19:40:20.715Z"
   },
   {
    "duration": 14,
    "start_time": "2023-10-09T19:40:20.923Z"
   },
   {
    "duration": 13,
    "start_time": "2023-10-09T19:40:20.939Z"
   },
   {
    "duration": 68,
    "start_time": "2023-10-09T19:40:20.954Z"
   },
   {
    "duration": 24,
    "start_time": "2023-10-09T19:40:21.024Z"
   },
   {
    "duration": 26,
    "start_time": "2023-10-09T19:40:21.050Z"
   },
   {
    "duration": 38,
    "start_time": "2023-10-09T19:40:21.101Z"
   },
   {
    "duration": 174,
    "start_time": "2023-10-09T19:40:21.141Z"
   },
   {
    "duration": 8,
    "start_time": "2023-10-09T19:40:21.318Z"
   },
   {
    "duration": 39,
    "start_time": "2023-10-09T19:40:21.328Z"
   },
   {
    "duration": 176,
    "start_time": "2023-10-09T19:40:21.369Z"
   },
   {
    "duration": 162,
    "start_time": "2023-10-09T19:40:21.547Z"
   },
   {
    "duration": 151,
    "start_time": "2023-10-09T19:40:21.711Z"
   },
   {
    "duration": 14,
    "start_time": "2023-10-09T19:40:21.864Z"
   },
   {
    "duration": 28,
    "start_time": "2023-10-09T19:40:21.880Z"
   },
   {
    "duration": 41,
    "start_time": "2023-10-09T19:40:21.909Z"
   },
   {
    "duration": 23,
    "start_time": "2023-10-09T19:40:21.952Z"
   },
   {
    "duration": 46,
    "start_time": "2023-10-09T19:40:21.977Z"
   },
   {
    "duration": 39,
    "start_time": "2023-10-09T19:40:22.025Z"
   },
   {
    "duration": 185,
    "start_time": "2023-10-09T19:40:22.066Z"
   },
   {
    "duration": 7,
    "start_time": "2023-10-09T19:40:22.253Z"
   },
   {
    "duration": 9,
    "start_time": "2023-10-09T19:40:22.262Z"
   },
   {
    "duration": 64,
    "start_time": "2023-10-09T19:40:22.272Z"
   },
   {
    "duration": 160,
    "start_time": "2023-10-09T19:40:22.338Z"
   },
   {
    "duration": 15,
    "start_time": "2023-10-09T19:40:22.501Z"
   },
   {
    "duration": 10,
    "start_time": "2023-10-09T19:40:22.517Z"
   },
   {
    "duration": 72,
    "start_time": "2023-10-09T19:40:22.532Z"
   },
   {
    "duration": 22,
    "start_time": "2023-10-09T19:40:22.605Z"
   },
   {
    "duration": 26,
    "start_time": "2023-10-09T19:40:22.629Z"
   },
   {
    "duration": 67,
    "start_time": "2023-10-09T19:40:22.657Z"
   },
   {
    "duration": 175,
    "start_time": "2023-10-09T19:40:22.726Z"
   },
   {
    "duration": 7,
    "start_time": "2023-10-09T19:40:22.903Z"
   },
   {
    "duration": 23,
    "start_time": "2023-10-09T19:40:22.912Z"
   },
   {
    "duration": 54,
    "start_time": "2023-10-09T19:40:22.937Z"
   },
   {
    "duration": 15,
    "start_time": "2023-10-09T19:40:22.993Z"
   },
   {
    "duration": 25,
    "start_time": "2023-10-09T19:40:23.013Z"
   },
   {
    "duration": 16,
    "start_time": "2023-10-09T19:40:23.040Z"
   },
   {
    "duration": 3,
    "start_time": "2023-10-09T19:40:23.058Z"
   },
   {
    "duration": 8,
    "start_time": "2023-10-09T19:40:23.062Z"
   },
   {
    "duration": 31,
    "start_time": "2023-10-09T19:40:23.071Z"
   },
   {
    "duration": 10,
    "start_time": "2023-10-09T19:40:23.104Z"
   },
   {
    "duration": 39,
    "start_time": "2023-10-09T19:40:23.115Z"
   },
   {
    "duration": 4,
    "start_time": "2023-10-09T19:40:23.156Z"
   },
   {
    "duration": 46,
    "start_time": "2023-10-09T19:40:23.162Z"
   },
   {
    "duration": 3,
    "start_time": "2023-10-09T19:40:23.301Z"
   },
   {
    "duration": 11,
    "start_time": "2023-10-09T19:40:23.306Z"
   },
   {
    "duration": 89,
    "start_time": "2023-10-09T19:40:23.319Z"
   },
   {
    "duration": 90,
    "start_time": "2023-10-09T19:40:23.410Z"
   },
   {
    "duration": 101,
    "start_time": "2023-10-09T19:40:23.503Z"
   },
   {
    "duration": 4,
    "start_time": "2023-10-09T19:40:23.610Z"
   },
   {
    "duration": 18,
    "start_time": "2023-10-09T19:40:23.702Z"
   },
   {
    "duration": 6,
    "start_time": "2023-10-09T19:40:23.722Z"
   },
   {
    "duration": 7,
    "start_time": "2023-10-09T19:40:23.730Z"
   },
   {
    "duration": 6,
    "start_time": "2023-10-09T19:40:23.739Z"
   },
   {
    "duration": 4,
    "start_time": "2023-10-09T19:40:23.747Z"
   },
   {
    "duration": 2188,
    "start_time": "2023-10-09T19:40:23.753Z"
   },
   {
    "duration": 3,
    "start_time": "2023-10-09T19:40:25.943Z"
   },
   {
    "duration": 2013,
    "start_time": "2023-10-09T19:40:25.948Z"
   },
   {
    "duration": 2,
    "start_time": "2023-10-09T19:40:27.963Z"
   },
   {
    "duration": 2010,
    "start_time": "2023-10-09T19:40:27.967Z"
   },
   {
    "duration": 1396,
    "start_time": "2023-10-09T19:41:25.084Z"
   },
   {
    "duration": 180,
    "start_time": "2023-10-09T19:41:26.482Z"
   },
   {
    "duration": 17,
    "start_time": "2023-10-09T19:41:26.664Z"
   },
   {
    "duration": 24,
    "start_time": "2023-10-09T19:41:26.683Z"
   },
   {
    "duration": 58,
    "start_time": "2023-10-09T19:41:26.709Z"
   },
   {
    "duration": 33,
    "start_time": "2023-10-09T19:41:26.769Z"
   },
   {
    "duration": 24,
    "start_time": "2023-10-09T19:41:26.804Z"
   },
   {
    "duration": 40,
    "start_time": "2023-10-09T19:41:26.830Z"
   },
   {
    "duration": 189,
    "start_time": "2023-10-09T19:41:26.871Z"
   },
   {
    "duration": 9,
    "start_time": "2023-10-09T19:41:27.061Z"
   },
   {
    "duration": 8,
    "start_time": "2023-10-09T19:41:27.072Z"
   },
   {
    "duration": 12,
    "start_time": "2023-10-09T19:41:27.082Z"
   },
   {
    "duration": 65,
    "start_time": "2023-10-09T19:41:27.100Z"
   },
   {
    "duration": 147,
    "start_time": "2023-10-09T19:41:27.168Z"
   },
   {
    "duration": 17,
    "start_time": "2023-10-09T19:41:27.316Z"
   },
   {
    "duration": 11,
    "start_time": "2023-10-09T19:41:27.334Z"
   },
   {
    "duration": 76,
    "start_time": "2023-10-09T19:41:27.347Z"
   },
   {
    "duration": 25,
    "start_time": "2023-10-09T19:41:27.425Z"
   },
   {
    "duration": 35,
    "start_time": "2023-10-09T19:41:27.451Z"
   },
   {
    "duration": 57,
    "start_time": "2023-10-09T19:41:27.488Z"
   },
   {
    "duration": 189,
    "start_time": "2023-10-09T19:41:27.546Z"
   },
   {
    "duration": 7,
    "start_time": "2023-10-09T19:41:27.737Z"
   },
   {
    "duration": 4,
    "start_time": "2023-10-09T19:41:27.745Z"
   },
   {
    "duration": 67,
    "start_time": "2023-10-09T19:41:27.751Z"
   },
   {
    "duration": 156,
    "start_time": "2023-10-09T19:41:27.820Z"
   },
   {
    "duration": 16,
    "start_time": "2023-10-09T19:41:27.978Z"
   },
   {
    "duration": 15,
    "start_time": "2023-10-09T19:41:27.995Z"
   },
   {
    "duration": 47,
    "start_time": "2023-10-09T19:41:28.011Z"
   },
   {
    "duration": 46,
    "start_time": "2023-10-09T19:41:28.060Z"
   },
   {
    "duration": 24,
    "start_time": "2023-10-09T19:41:28.107Z"
   },
   {
    "duration": 44,
    "start_time": "2023-10-09T19:41:28.133Z"
   },
   {
    "duration": 196,
    "start_time": "2023-10-09T19:41:28.179Z"
   },
   {
    "duration": 7,
    "start_time": "2023-10-09T19:41:28.377Z"
   },
   {
    "duration": 5,
    "start_time": "2023-10-09T19:41:28.386Z"
   },
   {
    "duration": 51,
    "start_time": "2023-10-09T19:41:28.402Z"
   },
   {
    "duration": 17,
    "start_time": "2023-10-09T19:41:28.455Z"
   },
   {
    "duration": 38,
    "start_time": "2023-10-09T19:41:28.474Z"
   },
   {
    "duration": 14,
    "start_time": "2023-10-09T19:41:28.514Z"
   },
   {
    "duration": 3,
    "start_time": "2023-10-09T19:41:28.530Z"
   },
   {
    "duration": 23,
    "start_time": "2023-10-09T19:41:28.535Z"
   },
   {
    "duration": 7,
    "start_time": "2023-10-09T19:41:28.564Z"
   },
   {
    "duration": 5,
    "start_time": "2023-10-09T19:41:28.573Z"
   },
   {
    "duration": 54,
    "start_time": "2023-10-09T19:41:28.579Z"
   },
   {
    "duration": 5,
    "start_time": "2023-10-09T19:41:28.636Z"
   },
   {
    "duration": 159,
    "start_time": "2023-10-09T19:41:28.643Z"
   },
   {
    "duration": 3,
    "start_time": "2023-10-09T19:41:28.804Z"
   },
   {
    "duration": 13,
    "start_time": "2023-10-09T19:41:28.809Z"
   },
   {
    "duration": 81,
    "start_time": "2023-10-09T19:41:28.824Z"
   },
   {
    "duration": 4,
    "start_time": "2023-10-09T19:41:28.908Z"
   },
   {
    "duration": 24,
    "start_time": "2023-10-09T19:41:29.000Z"
   },
   {
    "duration": 3,
    "start_time": "2023-10-09T19:41:29.103Z"
   },
   {
    "duration": 95,
    "start_time": "2023-10-09T19:41:29.108Z"
   },
   {
    "duration": 183,
    "start_time": "2023-10-09T19:41:29.204Z"
   },
   {
    "duration": 8,
    "start_time": "2023-10-09T19:41:29.389Z"
   },
   {
    "duration": 6,
    "start_time": "2023-10-09T19:41:29.398Z"
   },
   {
    "duration": 5,
    "start_time": "2023-10-09T19:41:29.406Z"
   },
   {
    "duration": 2055,
    "start_time": "2023-10-09T19:41:29.413Z"
   },
   {
    "duration": 2,
    "start_time": "2023-10-09T19:41:31.470Z"
   },
   {
    "duration": 2154,
    "start_time": "2023-10-09T19:41:31.474Z"
   },
   {
    "duration": 3,
    "start_time": "2023-10-09T19:41:33.631Z"
   },
   {
    "duration": 2209,
    "start_time": "2023-10-09T19:41:33.636Z"
   }
  ],
  "kernelspec": {
   "display_name": "Python 3 (ipykernel)",
   "language": "python",
   "name": "python3"
  },
  "language_info": {
   "codemirror_mode": {
    "name": "ipython",
    "version": 3
   },
   "file_extension": ".py",
   "mimetype": "text/x-python",
   "name": "python",
   "nbconvert_exporter": "python",
   "pygments_lexer": "ipython3",
   "version": "3.10.9"
  },
  "toc": {
   "base_numbering": 1,
   "nav_menu": {},
   "number_sections": true,
   "sideBar": true,
   "skip_h1_title": true,
   "title_cell": "Table of Contents",
   "title_sidebar": "Contents",
   "toc_cell": false,
   "toc_position": {
    "height": "calc(100% - 180px)",
    "left": "10px",
    "top": "150px",
    "width": "275px"
   },
   "toc_section_display": true,
   "toc_window_display": true
  }
 },
 "nbformat": 4,
 "nbformat_minor": 2
}
