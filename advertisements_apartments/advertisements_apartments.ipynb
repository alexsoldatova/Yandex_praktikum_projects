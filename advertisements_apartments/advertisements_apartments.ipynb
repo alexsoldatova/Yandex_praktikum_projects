{
 "cells": [
  {
   "cell_type": "markdown",
   "metadata": {},
   "source": [
    "# Исследование объявлений о продаже квартир\n",
    "\n",
    "В вашем распоряжении данные сервиса Яндекс.Недвижимость — архив объявлений о продаже квартир в Санкт-Петербурге и соседних населённых пунктов за несколько лет. Нужно научиться определять рыночную стоимость объектов недвижимости. Ваша задача — установить параметры. Это позволит построить автоматизированную систему: она отследит аномалии и мошенническую деятельность. \n",
    "\n",
    "По каждой квартире на продажу доступны два вида данных. Первые вписаны пользователем, вторые — получены автоматически на основе картографических данных. Например, расстояние до центра, аэропорта, ближайшего парка и водоёма. "
   ]
  },
  {
   "cell_type": "markdown",
   "metadata": {},
   "source": [
    "\n",
    "\n",
    "В работе будет произведено исследование данных сервиса Яндекс Недвижимость — архив объявлений за несколько лет о продаже квартир в Санкт-Петербурге и соседних населённых пунктах.\n",
    " \n",
    "Основная задача: выполнить предобработку данных и изучить их, чтобы найти интересные особенности и зависимости, которые существуют на рынке недвижимости.\n",
    "   \n",
    "О каждой квартире в базе содержится два типа данных: добавленные пользователем и картографические. Например, к первому типу относятся площадь квартиры, её этаж и количество балконов, ко второму — расстояния до центра города, аэропорта и ближайшего парка. \n",
    "Ход работы:\n",
    "\n",
    "Данные о продаже недвижимость содержатс в файле: /datasets/real_estate_data.csv. О качестве данных информации нет, поэтому первым шагом в исследовании будет обзор данных.\n",
    "    \n",
    "Необходимо выполнить проверку данных на пропуски, ошибки, аномалии и затем выполнить их предобработку.\n",
    "    \n",
    "Далее будет выполнен расчет дополнительных параметров и добавлених их в таблицу.\n",
    "Затем можно приступать к исследованию.\n",
    "\n",
    "Таким образом, иследование будет проведено в пять этапов:\n",
    "1. Обзор данных\n",
    "2. Предобработка данных\n",
    "3. Выполнение дополнительных расчетов и добавление их в таблицу\n",
    "4. Исследовательский анализ\n",
    "5. Общий вывод\n",
    "\n"
   ]
  },
  {
   "cell_type": "markdown",
   "metadata": {},
   "source": [
    "### Откройте файл с данными и изучите общую информацию. "
   ]
  },
  {
   "cell_type": "markdown",
   "metadata": {},
   "source": [
    "Импортируем необходимые библиотеки"
   ]
  },
  {
   "cell_type": "code",
   "execution_count": 1,
   "metadata": {},
   "outputs": [],
   "source": [
    "import pandas as pd\n",
    "import matplotlib.pyplot as plt\n",
    "import warnings"
   ]
  },
  {
   "cell_type": "markdown",
   "metadata": {},
   "source": [
    "Изучим таблицу, отобразив первые 10 строк"
   ]
  },
  {
   "cell_type": "code",
   "execution_count": 2,
   "metadata": {
    "scrolled": true
   },
   "outputs": [
    {
     "data": {
      "text/html": [
       "<div>\n",
       "<style scoped>\n",
       "    .dataframe tbody tr th:only-of-type {\n",
       "        vertical-align: middle;\n",
       "    }\n",
       "\n",
       "    .dataframe tbody tr th {\n",
       "        vertical-align: top;\n",
       "    }\n",
       "\n",
       "    .dataframe thead th {\n",
       "        text-align: right;\n",
       "    }\n",
       "</style>\n",
       "<table border=\"1\" class=\"dataframe\">\n",
       "  <thead>\n",
       "    <tr style=\"text-align: right;\">\n",
       "      <th></th>\n",
       "      <th>total_images</th>\n",
       "      <th>last_price</th>\n",
       "      <th>total_area</th>\n",
       "      <th>first_day_exposition</th>\n",
       "      <th>rooms</th>\n",
       "      <th>ceiling_height</th>\n",
       "      <th>floors_total</th>\n",
       "      <th>living_area</th>\n",
       "      <th>floor</th>\n",
       "      <th>is_apartment</th>\n",
       "      <th>...</th>\n",
       "      <th>kitchen_area</th>\n",
       "      <th>balcony</th>\n",
       "      <th>locality_name</th>\n",
       "      <th>airports_nearest</th>\n",
       "      <th>cityCenters_nearest</th>\n",
       "      <th>parks_around3000</th>\n",
       "      <th>parks_nearest</th>\n",
       "      <th>ponds_around3000</th>\n",
       "      <th>ponds_nearest</th>\n",
       "      <th>days_exposition</th>\n",
       "    </tr>\n",
       "  </thead>\n",
       "  <tbody>\n",
       "    <tr>\n",
       "      <th>0</th>\n",
       "      <td>20</td>\n",
       "      <td>13000000.0</td>\n",
       "      <td>108.00</td>\n",
       "      <td>2019-03-07T00:00:00</td>\n",
       "      <td>3</td>\n",
       "      <td>2.70</td>\n",
       "      <td>16.0</td>\n",
       "      <td>51.00</td>\n",
       "      <td>8</td>\n",
       "      <td>NaN</td>\n",
       "      <td>...</td>\n",
       "      <td>25.00</td>\n",
       "      <td>NaN</td>\n",
       "      <td>Санкт-Петербург</td>\n",
       "      <td>18863.0</td>\n",
       "      <td>16028.0</td>\n",
       "      <td>1.0</td>\n",
       "      <td>482.0</td>\n",
       "      <td>2.0</td>\n",
       "      <td>755.0</td>\n",
       "      <td>NaN</td>\n",
       "    </tr>\n",
       "    <tr>\n",
       "      <th>1</th>\n",
       "      <td>7</td>\n",
       "      <td>3350000.0</td>\n",
       "      <td>40.40</td>\n",
       "      <td>2018-12-04T00:00:00</td>\n",
       "      <td>1</td>\n",
       "      <td>NaN</td>\n",
       "      <td>11.0</td>\n",
       "      <td>18.60</td>\n",
       "      <td>1</td>\n",
       "      <td>NaN</td>\n",
       "      <td>...</td>\n",
       "      <td>11.00</td>\n",
       "      <td>2.0</td>\n",
       "      <td>посёлок Шушары</td>\n",
       "      <td>12817.0</td>\n",
       "      <td>18603.0</td>\n",
       "      <td>0.0</td>\n",
       "      <td>NaN</td>\n",
       "      <td>0.0</td>\n",
       "      <td>NaN</td>\n",
       "      <td>81.0</td>\n",
       "    </tr>\n",
       "    <tr>\n",
       "      <th>2</th>\n",
       "      <td>10</td>\n",
       "      <td>5196000.0</td>\n",
       "      <td>56.00</td>\n",
       "      <td>2015-08-20T00:00:00</td>\n",
       "      <td>2</td>\n",
       "      <td>NaN</td>\n",
       "      <td>5.0</td>\n",
       "      <td>34.30</td>\n",
       "      <td>4</td>\n",
       "      <td>NaN</td>\n",
       "      <td>...</td>\n",
       "      <td>8.30</td>\n",
       "      <td>0.0</td>\n",
       "      <td>Санкт-Петербург</td>\n",
       "      <td>21741.0</td>\n",
       "      <td>13933.0</td>\n",
       "      <td>1.0</td>\n",
       "      <td>90.0</td>\n",
       "      <td>2.0</td>\n",
       "      <td>574.0</td>\n",
       "      <td>558.0</td>\n",
       "    </tr>\n",
       "    <tr>\n",
       "      <th>3</th>\n",
       "      <td>0</td>\n",
       "      <td>64900000.0</td>\n",
       "      <td>159.00</td>\n",
       "      <td>2015-07-24T00:00:00</td>\n",
       "      <td>3</td>\n",
       "      <td>NaN</td>\n",
       "      <td>14.0</td>\n",
       "      <td>NaN</td>\n",
       "      <td>9</td>\n",
       "      <td>NaN</td>\n",
       "      <td>...</td>\n",
       "      <td>NaN</td>\n",
       "      <td>0.0</td>\n",
       "      <td>Санкт-Петербург</td>\n",
       "      <td>28098.0</td>\n",
       "      <td>6800.0</td>\n",
       "      <td>2.0</td>\n",
       "      <td>84.0</td>\n",
       "      <td>3.0</td>\n",
       "      <td>234.0</td>\n",
       "      <td>424.0</td>\n",
       "    </tr>\n",
       "    <tr>\n",
       "      <th>4</th>\n",
       "      <td>2</td>\n",
       "      <td>10000000.0</td>\n",
       "      <td>100.00</td>\n",
       "      <td>2018-06-19T00:00:00</td>\n",
       "      <td>2</td>\n",
       "      <td>3.03</td>\n",
       "      <td>14.0</td>\n",
       "      <td>32.00</td>\n",
       "      <td>13</td>\n",
       "      <td>NaN</td>\n",
       "      <td>...</td>\n",
       "      <td>41.00</td>\n",
       "      <td>NaN</td>\n",
       "      <td>Санкт-Петербург</td>\n",
       "      <td>31856.0</td>\n",
       "      <td>8098.0</td>\n",
       "      <td>2.0</td>\n",
       "      <td>112.0</td>\n",
       "      <td>1.0</td>\n",
       "      <td>48.0</td>\n",
       "      <td>121.0</td>\n",
       "    </tr>\n",
       "    <tr>\n",
       "      <th>5</th>\n",
       "      <td>10</td>\n",
       "      <td>2890000.0</td>\n",
       "      <td>30.40</td>\n",
       "      <td>2018-09-10T00:00:00</td>\n",
       "      <td>1</td>\n",
       "      <td>NaN</td>\n",
       "      <td>12.0</td>\n",
       "      <td>14.40</td>\n",
       "      <td>5</td>\n",
       "      <td>NaN</td>\n",
       "      <td>...</td>\n",
       "      <td>9.10</td>\n",
       "      <td>NaN</td>\n",
       "      <td>городской посёлок Янино-1</td>\n",
       "      <td>NaN</td>\n",
       "      <td>NaN</td>\n",
       "      <td>NaN</td>\n",
       "      <td>NaN</td>\n",
       "      <td>NaN</td>\n",
       "      <td>NaN</td>\n",
       "      <td>55.0</td>\n",
       "    </tr>\n",
       "    <tr>\n",
       "      <th>6</th>\n",
       "      <td>6</td>\n",
       "      <td>3700000.0</td>\n",
       "      <td>37.30</td>\n",
       "      <td>2017-11-02T00:00:00</td>\n",
       "      <td>1</td>\n",
       "      <td>NaN</td>\n",
       "      <td>26.0</td>\n",
       "      <td>10.60</td>\n",
       "      <td>6</td>\n",
       "      <td>NaN</td>\n",
       "      <td>...</td>\n",
       "      <td>14.40</td>\n",
       "      <td>1.0</td>\n",
       "      <td>посёлок Парголово</td>\n",
       "      <td>52996.0</td>\n",
       "      <td>19143.0</td>\n",
       "      <td>0.0</td>\n",
       "      <td>NaN</td>\n",
       "      <td>0.0</td>\n",
       "      <td>NaN</td>\n",
       "      <td>155.0</td>\n",
       "    </tr>\n",
       "    <tr>\n",
       "      <th>7</th>\n",
       "      <td>5</td>\n",
       "      <td>7915000.0</td>\n",
       "      <td>71.60</td>\n",
       "      <td>2019-04-18T00:00:00</td>\n",
       "      <td>2</td>\n",
       "      <td>NaN</td>\n",
       "      <td>24.0</td>\n",
       "      <td>NaN</td>\n",
       "      <td>22</td>\n",
       "      <td>NaN</td>\n",
       "      <td>...</td>\n",
       "      <td>18.90</td>\n",
       "      <td>2.0</td>\n",
       "      <td>Санкт-Петербург</td>\n",
       "      <td>23982.0</td>\n",
       "      <td>11634.0</td>\n",
       "      <td>0.0</td>\n",
       "      <td>NaN</td>\n",
       "      <td>0.0</td>\n",
       "      <td>NaN</td>\n",
       "      <td>NaN</td>\n",
       "    </tr>\n",
       "    <tr>\n",
       "      <th>8</th>\n",
       "      <td>20</td>\n",
       "      <td>2900000.0</td>\n",
       "      <td>33.16</td>\n",
       "      <td>2018-05-23T00:00:00</td>\n",
       "      <td>1</td>\n",
       "      <td>NaN</td>\n",
       "      <td>27.0</td>\n",
       "      <td>15.43</td>\n",
       "      <td>26</td>\n",
       "      <td>NaN</td>\n",
       "      <td>...</td>\n",
       "      <td>8.81</td>\n",
       "      <td>NaN</td>\n",
       "      <td>посёлок Мурино</td>\n",
       "      <td>NaN</td>\n",
       "      <td>NaN</td>\n",
       "      <td>NaN</td>\n",
       "      <td>NaN</td>\n",
       "      <td>NaN</td>\n",
       "      <td>NaN</td>\n",
       "      <td>189.0</td>\n",
       "    </tr>\n",
       "    <tr>\n",
       "      <th>9</th>\n",
       "      <td>18</td>\n",
       "      <td>5400000.0</td>\n",
       "      <td>61.00</td>\n",
       "      <td>2017-02-26T00:00:00</td>\n",
       "      <td>3</td>\n",
       "      <td>2.50</td>\n",
       "      <td>9.0</td>\n",
       "      <td>43.60</td>\n",
       "      <td>7</td>\n",
       "      <td>NaN</td>\n",
       "      <td>...</td>\n",
       "      <td>6.50</td>\n",
       "      <td>2.0</td>\n",
       "      <td>Санкт-Петербург</td>\n",
       "      <td>50898.0</td>\n",
       "      <td>15008.0</td>\n",
       "      <td>0.0</td>\n",
       "      <td>NaN</td>\n",
       "      <td>0.0</td>\n",
       "      <td>NaN</td>\n",
       "      <td>289.0</td>\n",
       "    </tr>\n",
       "  </tbody>\n",
       "</table>\n",
       "<p>10 rows × 22 columns</p>\n",
       "</div>"
      ],
      "text/plain": [
       "   total_images  last_price  total_area first_day_exposition  rooms  \\\n",
       "0            20  13000000.0      108.00  2019-03-07T00:00:00      3   \n",
       "1             7   3350000.0       40.40  2018-12-04T00:00:00      1   \n",
       "2            10   5196000.0       56.00  2015-08-20T00:00:00      2   \n",
       "3             0  64900000.0      159.00  2015-07-24T00:00:00      3   \n",
       "4             2  10000000.0      100.00  2018-06-19T00:00:00      2   \n",
       "5            10   2890000.0       30.40  2018-09-10T00:00:00      1   \n",
       "6             6   3700000.0       37.30  2017-11-02T00:00:00      1   \n",
       "7             5   7915000.0       71.60  2019-04-18T00:00:00      2   \n",
       "8            20   2900000.0       33.16  2018-05-23T00:00:00      1   \n",
       "9            18   5400000.0       61.00  2017-02-26T00:00:00      3   \n",
       "\n",
       "   ceiling_height  floors_total  living_area  floor is_apartment  ...  \\\n",
       "0            2.70          16.0        51.00      8          NaN  ...   \n",
       "1             NaN          11.0        18.60      1          NaN  ...   \n",
       "2             NaN           5.0        34.30      4          NaN  ...   \n",
       "3             NaN          14.0          NaN      9          NaN  ...   \n",
       "4            3.03          14.0        32.00     13          NaN  ...   \n",
       "5             NaN          12.0        14.40      5          NaN  ...   \n",
       "6             NaN          26.0        10.60      6          NaN  ...   \n",
       "7             NaN          24.0          NaN     22          NaN  ...   \n",
       "8             NaN          27.0        15.43     26          NaN  ...   \n",
       "9            2.50           9.0        43.60      7          NaN  ...   \n",
       "\n",
       "   kitchen_area  balcony              locality_name  airports_nearest  \\\n",
       "0         25.00      NaN            Санкт-Петербург           18863.0   \n",
       "1         11.00      2.0             посёлок Шушары           12817.0   \n",
       "2          8.30      0.0            Санкт-Петербург           21741.0   \n",
       "3           NaN      0.0            Санкт-Петербург           28098.0   \n",
       "4         41.00      NaN            Санкт-Петербург           31856.0   \n",
       "5          9.10      NaN  городской посёлок Янино-1               NaN   \n",
       "6         14.40      1.0          посёлок Парголово           52996.0   \n",
       "7         18.90      2.0            Санкт-Петербург           23982.0   \n",
       "8          8.81      NaN             посёлок Мурино               NaN   \n",
       "9          6.50      2.0            Санкт-Петербург           50898.0   \n",
       "\n",
       "  cityCenters_nearest  parks_around3000  parks_nearest  ponds_around3000  \\\n",
       "0             16028.0               1.0          482.0               2.0   \n",
       "1             18603.0               0.0            NaN               0.0   \n",
       "2             13933.0               1.0           90.0               2.0   \n",
       "3              6800.0               2.0           84.0               3.0   \n",
       "4              8098.0               2.0          112.0               1.0   \n",
       "5                 NaN               NaN            NaN               NaN   \n",
       "6             19143.0               0.0            NaN               0.0   \n",
       "7             11634.0               0.0            NaN               0.0   \n",
       "8                 NaN               NaN            NaN               NaN   \n",
       "9             15008.0               0.0            NaN               0.0   \n",
       "\n",
       "   ponds_nearest  days_exposition  \n",
       "0          755.0              NaN  \n",
       "1            NaN             81.0  \n",
       "2          574.0            558.0  \n",
       "3          234.0            424.0  \n",
       "4           48.0            121.0  \n",
       "5            NaN             55.0  \n",
       "6            NaN            155.0  \n",
       "7            NaN              NaN  \n",
       "8            NaN            189.0  \n",
       "9            NaN            289.0  \n",
       "\n",
       "[10 rows x 22 columns]"
      ]
     },
     "execution_count": 2,
     "metadata": {},
     "output_type": "execute_result"
    }
   ],
   "source": [
    "data = pd.read_csv('/datasets/real_estate_data.csv', sep='\\t')\n",
    "data.head(10)"
   ]
  },
  {
   "cell_type": "code",
   "execution_count": 3,
   "metadata": {},
   "outputs": [
    {
     "name": "stdout",
     "output_type": "stream",
     "text": [
      "<class 'pandas.core.frame.DataFrame'>\n",
      "RangeIndex: 23699 entries, 0 to 23698\n",
      "Data columns (total 22 columns):\n",
      " #   Column                Non-Null Count  Dtype  \n",
      "---  ------                --------------  -----  \n",
      " 0   total_images          23699 non-null  int64  \n",
      " 1   last_price            23699 non-null  float64\n",
      " 2   total_area            23699 non-null  float64\n",
      " 3   first_day_exposition  23699 non-null  object \n",
      " 4   rooms                 23699 non-null  int64  \n",
      " 5   ceiling_height        14504 non-null  float64\n",
      " 6   floors_total          23613 non-null  float64\n",
      " 7   living_area           21796 non-null  float64\n",
      " 8   floor                 23699 non-null  int64  \n",
      " 9   is_apartment          2775 non-null   object \n",
      " 10  studio                23699 non-null  bool   \n",
      " 11  open_plan             23699 non-null  bool   \n",
      " 12  kitchen_area          21421 non-null  float64\n",
      " 13  balcony               12180 non-null  float64\n",
      " 14  locality_name         23650 non-null  object \n",
      " 15  airports_nearest      18157 non-null  float64\n",
      " 16  cityCenters_nearest   18180 non-null  float64\n",
      " 17  parks_around3000      18181 non-null  float64\n",
      " 18  parks_nearest         8079 non-null   float64\n",
      " 19  ponds_around3000      18181 non-null  float64\n",
      " 20  ponds_nearest         9110 non-null   float64\n",
      " 21  days_exposition       20518 non-null  float64\n",
      "dtypes: bool(2), float64(14), int64(3), object(3)\n",
      "memory usage: 3.7+ MB\n"
     ]
    }
   ],
   "source": [
    "data.info()"
   ]
  },
  {
   "cell_type": "markdown",
   "metadata": {},
   "source": [
    "#### \n",
    "\n",
    "1. first_day_exposition — дата публикации. Столбец необходимо перевести в формат date\n",
    "2. is_apartment — апартаменты. Необходимо перевести в булевый тип\n",
    "3. balcony — число балконов. Необходимо изменить на целочисленный тип, так как указано число балконов, а не их площадь\n",
    "4. parks_around3000 — число парков в радиусе 3 км. Необходимо изменить на целочисленный тип\n",
    "5. ponds_around3000 — число водоёмов в радиусе 3 км. Необходимо изменить на целочисленный тип\n",
    "6. days_exposition — сколько дней было размещено объявление (от публикации до снятия). Необходимо изменить на целочисленный тип"
   ]
  },
  {
   "cell_type": "code",
   "execution_count": 4,
   "metadata": {},
   "outputs": [
    {
     "data": {
      "image/png": "[encoded data removed]",
      "text/plain": [
       "<Figure size 1080x1440 with 20 Axes>"
      ]
     },
     "metadata": {
      "needs_background": "light"
     },
     "output_type": "display_data"
    }
   ],
   "source": [
    "data.hist(figsize=(15, 20))\n",
    "plt.show();"
   ]
  },
  {
   "cell_type": "markdown",
   "metadata": {},
   "source": []
  },
  {
   "cell_type": "markdown",
   "metadata": {},
   "source": [
    "### Предобработка данных"
   ]
  },
  {
   "cell_type": "code",
   "execution_count": 5,
   "metadata": {
    "scrolled": false
   },
   "outputs": [
    {
     "data": {
      "text/html": [
       "<style  type=\"text/css\" >\n",
       "#T_5b976_row0_col0,#T_5b976_row1_col0,#T_5b976_row2_col0,#T_5b976_row3_col0,#T_5b976_row4_col0,#T_5b976_row8_col0,#T_5b976_row10_col0,#T_5b976_row11_col0,#T_5b976_row14_col0{\n",
       "            background-color:  #3b4cc0;\n",
       "            color:  #f1f1f1;\n",
       "        }#T_5b976_row5_col0{\n",
       "            background-color:  #ccd9ed;\n",
       "            color:  #000000;\n",
       "        }#T_5b976_row6_col0{\n",
       "            background-color:  #3c4ec2;\n",
       "            color:  #f1f1f1;\n",
       "        }#T_5b976_row7_col0{\n",
       "            background-color:  #5673e0;\n",
       "            color:  #000000;\n",
       "        }#T_5b976_row9_col0{\n",
       "            background-color:  #b40426;\n",
       "            color:  #f1f1f1;\n",
       "        }#T_5b976_row12_col0{\n",
       "            background-color:  #5b7ae5;\n",
       "            color:  #000000;\n",
       "        }#T_5b976_row13_col0{\n",
       "            background-color:  #e9d5cb;\n",
       "            color:  #000000;\n",
       "        }#T_5b976_row15_col0,#T_5b976_row16_col0,#T_5b976_row17_col0,#T_5b976_row19_col0{\n",
       "            background-color:  #92b4fe;\n",
       "            color:  #000000;\n",
       "        }#T_5b976_row18_col0{\n",
       "            background-color:  #f49a7b;\n",
       "            color:  #000000;\n",
       "        }#T_5b976_row20_col0{\n",
       "            background-color:  #f7ad90;\n",
       "            color:  #000000;\n",
       "        }#T_5b976_row21_col0{\n",
       "            background-color:  #6a8bef;\n",
       "            color:  #000000;\n",
       "        }</style><table id=\"T_5b976_\" ><thead>    <tr>        <th class=\"blank level0\" ></th>        <th class=\"col_heading level0 col0\" >0</th>    </tr></thead><tbody>\n",
       "                <tr>\n",
       "                        <th id=\"T_5b976_level0_row0\" class=\"row_heading level0 row0\" >total_images</th>\n",
       "                        <td id=\"T_5b976_row0_col0\" class=\"data row0 col0\" >0.000000</td>\n",
       "            </tr>\n",
       "            <tr>\n",
       "                        <th id=\"T_5b976_level0_row1\" class=\"row_heading level0 row1\" >last_price</th>\n",
       "                        <td id=\"T_5b976_row1_col0\" class=\"data row1 col0\" >0.000000</td>\n",
       "            </tr>\n",
       "            <tr>\n",
       "                        <th id=\"T_5b976_level0_row2\" class=\"row_heading level0 row2\" >total_area</th>\n",
       "                        <td id=\"T_5b976_row2_col0\" class=\"data row2 col0\" >0.000000</td>\n",
       "            </tr>\n",
       "            <tr>\n",
       "                        <th id=\"T_5b976_level0_row3\" class=\"row_heading level0 row3\" >first_day_exposition</th>\n",
       "                        <td id=\"T_5b976_row3_col0\" class=\"data row3 col0\" >0.000000</td>\n",
       "            </tr>\n",
       "            <tr>\n",
       "                        <th id=\"T_5b976_level0_row4\" class=\"row_heading level0 row4\" >rooms</th>\n",
       "                        <td id=\"T_5b976_row4_col0\" class=\"data row4 col0\" >0.000000</td>\n",
       "            </tr>\n",
       "            <tr>\n",
       "                        <th id=\"T_5b976_level0_row5\" class=\"row_heading level0 row5\" >ceiling_height</th>\n",
       "                        <td id=\"T_5b976_row5_col0\" class=\"data row5 col0\" >38.799105</td>\n",
       "            </tr>\n",
       "            <tr>\n",
       "                        <th id=\"T_5b976_level0_row6\" class=\"row_heading level0 row6\" >floors_total</th>\n",
       "                        <td id=\"T_5b976_row6_col0\" class=\"data row6 col0\" >0.362885</td>\n",
       "            </tr>\n",
       "            <tr>\n",
       "                        <th id=\"T_5b976_level0_row7\" class=\"row_heading level0 row7\" >living_area</th>\n",
       "                        <td id=\"T_5b976_row7_col0\" class=\"data row7 col0\" >8.029875</td>\n",
       "            </tr>\n",
       "            <tr>\n",
       "                        <th id=\"T_5b976_level0_row8\" class=\"row_heading level0 row8\" >floor</th>\n",
       "                        <td id=\"T_5b976_row8_col0\" class=\"data row8 col0\" >0.000000</td>\n",
       "            </tr>\n",
       "            <tr>\n",
       "                        <th id=\"T_5b976_level0_row9\" class=\"row_heading level0 row9\" >is_apartment</th>\n",
       "                        <td id=\"T_5b976_row9_col0\" class=\"data row9 col0\" >88.290645</td>\n",
       "            </tr>\n",
       "            <tr>\n",
       "                        <th id=\"T_5b976_level0_row10\" class=\"row_heading level0 row10\" >studio</th>\n",
       "                        <td id=\"T_5b976_row10_col0\" class=\"data row10 col0\" >0.000000</td>\n",
       "            </tr>\n",
       "            <tr>\n",
       "                        <th id=\"T_5b976_level0_row11\" class=\"row_heading level0 row11\" >open_plan</th>\n",
       "                        <td id=\"T_5b976_row11_col0\" class=\"data row11 col0\" >0.000000</td>\n",
       "            </tr>\n",
       "            <tr>\n",
       "                        <th id=\"T_5b976_level0_row12\" class=\"row_heading level0 row12\" >kitchen_area</th>\n",
       "                        <td id=\"T_5b976_row12_col0\" class=\"data row12 col0\" >9.612220</td>\n",
       "            </tr>\n",
       "            <tr>\n",
       "                        <th id=\"T_5b976_level0_row13\" class=\"row_heading level0 row13\" >balcony</th>\n",
       "                        <td id=\"T_5b976_row13_col0\" class=\"data row13 col0\" >48.605426</td>\n",
       "            </tr>\n",
       "            <tr>\n",
       "                        <th id=\"T_5b976_level0_row14\" class=\"row_heading level0 row14\" >locality_name</th>\n",
       "                        <td id=\"T_5b976_row14_col0\" class=\"data row14 col0\" >0.206760</td>\n",
       "            </tr>\n",
       "            <tr>\n",
       "                        <th id=\"T_5b976_level0_row15\" class=\"row_heading level0 row15\" >airports_nearest</th>\n",
       "                        <td id=\"T_5b976_row15_col0\" class=\"data row15 col0\" >23.384953</td>\n",
       "            </tr>\n",
       "            <tr>\n",
       "                        <th id=\"T_5b976_level0_row16\" class=\"row_heading level0 row16\" >cityCenters_nearest</th>\n",
       "                        <td id=\"T_5b976_row16_col0\" class=\"data row16 col0\" >23.287902</td>\n",
       "            </tr>\n",
       "            <tr>\n",
       "                        <th id=\"T_5b976_level0_row17\" class=\"row_heading level0 row17\" >parks_around3000</th>\n",
       "                        <td id=\"T_5b976_row17_col0\" class=\"data row17 col0\" >23.283683</td>\n",
       "            </tr>\n",
       "            <tr>\n",
       "                        <th id=\"T_5b976_level0_row18\" class=\"row_heading level0 row18\" >parks_nearest</th>\n",
       "                        <td id=\"T_5b976_row18_col0\" class=\"data row18 col0\" >65.909954</td>\n",
       "            </tr>\n",
       "            <tr>\n",
       "                        <th id=\"T_5b976_level0_row19\" class=\"row_heading level0 row19\" >ponds_around3000</th>\n",
       "                        <td id=\"T_5b976_row19_col0\" class=\"data row19 col0\" >23.283683</td>\n",
       "            </tr>\n",
       "            <tr>\n",
       "                        <th id=\"T_5b976_level0_row20\" class=\"row_heading level0 row20\" >ponds_nearest</th>\n",
       "                        <td id=\"T_5b976_row20_col0\" class=\"data row20 col0\" >61.559559</td>\n",
       "            </tr>\n",
       "            <tr>\n",
       "                        <th id=\"T_5b976_level0_row21\" class=\"row_heading level0 row21\" >days_exposition</th>\n",
       "                        <td id=\"T_5b976_row21_col0\" class=\"data row21 col0\" >13.422507</td>\n",
       "            </tr>\n",
       "    </tbody></table>"
      ],
      "text/plain": [
       "<pandas.io.formats.style.Styler at 0x7f2f14643250>"
      ]
     },
     "execution_count": 5,
     "metadata": {},
     "output_type": "execute_result"
    }
   ],
   "source": [
    "pd.DataFrame(data.isna().mean()*100).style.background_gradient('coolwarm')"
   ]
  },
  {
   "cell_type": "markdown",
   "metadata": {},
   "source": [
    "Пропущенные значения встречены в столбцах:\n",
    "+ Высота потолков (м) - можно заменить на медианное значение для населенного пункта и кол-ва этажей в доме\n",
    "+ Кол-во этажей в доме - отсутсвует 86 значений, удаление строк не приведет к серьезному искажению данных\n",
    "+ Жилая площадь в квадратных метрах (м²) - вычесть из общей площади площадь кухни\n",
    "+ Апартаменты - если продавец не указал, что продает апартаменты, скорее всего это обычная квартира\n",
    "+ Площадь кухни в квадратных метрах (м²) - вычесть из общей площади жилую площадь\n",
    "+ Число балконов - если продавец не указал количество балконов, скорее всего их нет в квартире\n",
    "+ Название населённого пункта - отсутсвует 49 значений, удаление строк не приведет к серьезному искажению данных\n",
    "+ Расстояние до ближайшего аэропорта в метрах (м) - можно заменить на среднее значение для населенного пункта\n",
    "+ Расстояние до центра города (м) - можно заменить на среднее значение для населенного пункта\n",
    "+ Число парков в радиусе 3 км\n",
    "+ Расстояние до ближайшего парка (м) - можно заменить на среднее значение для населенного пункта\n",
    "+ Число водоёмов в радиусе 3 км\n",
    "+ Расстояние до ближайшего водоёма (м) - можно заменить на среднее значение для населенного пункта"
   ]
  },
  {
   "cell_type": "markdown",
   "metadata": {},
   "source": [
    "Поиск неявных дубликатов в столбце с названиями населенных пунктов:"
   ]
  },
  {
   "cell_type": "code",
   "execution_count": 6,
   "metadata": {},
   "outputs": [
    {
     "data": {
      "text/plain": [
       "array(['Санкт-Петербург', 'посёлок Шушары', 'городской посёлок Янино-1',\n",
       "       'посёлок Парголово', 'посёлок Мурино', 'Ломоносов', 'Сертолово',\n",
       "       'Петергоф', 'Пушкин', 'деревня Кудрово', 'Коммунар', 'Колпино',\n",
       "       'поселок городского типа Красный Бор', 'Гатчина', 'поселок Мурино',\n",
       "       'деревня Фёдоровское', 'Выборг', 'Кронштадт', 'Кировск',\n",
       "       'деревня Новое Девяткино', 'посёлок Металлострой',\n",
       "       'посёлок городского типа Лебяжье',\n",
       "       'посёлок городского типа Сиверский', 'поселок Молодцово',\n",
       "       'поселок городского типа Кузьмоловский',\n",
       "       'садовое товарищество Новая Ропша', 'Павловск',\n",
       "       'деревня Пикколово', 'Всеволожск', 'Волхов', 'Кингисепп',\n",
       "       'Приозерск', 'Сестрорецк', 'деревня Куттузи', 'посёлок Аннино',\n",
       "       'поселок городского типа Ефимовский', 'посёлок Плодовое',\n",
       "       'деревня Заклинье', 'поселок Торковичи', 'поселок Первомайское',\n",
       "       'Красное Село', 'посёлок Понтонный', 'Сясьстрой', 'деревня Старая',\n",
       "       'деревня Лесколово', 'посёлок Новый Свет', 'Сланцы',\n",
       "       'село Путилово', 'Ивангород', 'Мурино', 'Шлиссельбург',\n",
       "       'Никольское', 'Зеленогорск', 'Сосновый Бор', 'поселок Новый Свет',\n",
       "       'деревня Оржицы', 'деревня Кальтино', 'Кудрово',\n",
       "       'поселок Романовка', 'посёлок Бугры', 'поселок Бугры',\n",
       "       'поселок городского типа Рощино', 'Кириши', 'Луга', 'Волосово',\n",
       "       'Отрадное', 'село Павлово', 'поселок Оредеж', 'село Копорье',\n",
       "       'посёлок городского типа Красный Бор', 'посёлок Молодёжное',\n",
       "       'Тихвин', 'посёлок Победа', 'деревня Нурма',\n",
       "       'поселок городского типа Синявино', 'Тосно',\n",
       "       'посёлок городского типа Кузьмоловский', 'посёлок Стрельна',\n",
       "       'Бокситогорск', 'посёлок Александровская', 'деревня Лопухинка',\n",
       "       'Пикалёво', 'поселок Терволово',\n",
       "       'поселок городского типа Советский', 'Подпорожье',\n",
       "       'посёлок Петровское', 'посёлок городского типа Токсово',\n",
       "       'поселок Сельцо', 'посёлок городского типа Вырица',\n",
       "       'деревня Кипень', 'деревня Келози', 'деревня Вартемяги',\n",
       "       'посёлок Тельмана', 'поселок Севастьяново',\n",
       "       'городской поселок Большая Ижора', nan,\n",
       "       'городской посёлок Павлово', 'деревня Агалатово',\n",
       "       'посёлок Новогорелово', 'городской посёлок Лесогорский',\n",
       "       'деревня Лаголово', 'поселок Цвелодубово',\n",
       "       'поселок городского типа Рахья', 'поселок городского типа Вырица',\n",
       "       'деревня Белогорка', 'поселок Заводской',\n",
       "       'городской посёлок Новоселье', 'деревня Большие Колпаны',\n",
       "       'деревня Горбунки', 'деревня Батово', 'деревня Заневка',\n",
       "       'деревня Иссад', 'Приморск', 'городской посёлок Фёдоровское',\n",
       "       'деревня Мистолово', 'Новая Ладога', 'поселок Зимитицы',\n",
       "       'поселок Барышево', 'деревня Разметелево',\n",
       "       'поселок городского типа имени Свердлова', 'деревня Пеники',\n",
       "       'поселок Рябово', 'деревня Пудомяги', 'поселок станции Корнево',\n",
       "       'деревня Низино', 'деревня Бегуницы', 'посёлок Поляны',\n",
       "       'городской посёлок Мга', 'поселок Елизаветино',\n",
       "       'посёлок городского типа Кузнечное', 'деревня Колтуши',\n",
       "       'поселок Запорожское', 'посёлок городского типа Рощино',\n",
       "       'деревня Гостилицы', 'деревня Малое Карлино',\n",
       "       'посёлок Мичуринское', 'посёлок городского типа имени Морозова',\n",
       "       'посёлок Песочный', 'посёлок Сосново', 'деревня Аро',\n",
       "       'поселок Ильичёво', 'посёлок городского типа Тайцы',\n",
       "       'деревня Малое Верево', 'деревня Извара', 'поселок станции Вещево',\n",
       "       'село Паша', 'деревня Калитино',\n",
       "       'посёлок городского типа Ульяновка', 'деревня Чудской Бор',\n",
       "       'поселок городского типа Дубровка', 'деревня Мины',\n",
       "       'поселок Войсковицы', 'посёлок городского типа имени Свердлова',\n",
       "       'деревня Коркино', 'посёлок Ропша',\n",
       "       'поселок городского типа Приладожский', 'посёлок Щеглово',\n",
       "       'посёлок Гаврилово', 'Лодейное Поле', 'деревня Рабитицы',\n",
       "       'поселок городского типа Никольский', 'деревня Кузьмолово',\n",
       "       'деревня Малые Колпаны', 'поселок Тельмана',\n",
       "       'посёлок Петро-Славянка', 'городской посёлок Назия',\n",
       "       'посёлок Репино', 'посёлок Ильичёво', 'поселок Углово',\n",
       "       'поселок Старая Малукса', 'садовое товарищество Рахья',\n",
       "       'поселок Аннино', 'поселок Победа', 'деревня Меньково',\n",
       "       'деревня Старые Бегуницы', 'посёлок Сапёрный', 'поселок Семрино',\n",
       "       'поселок Гаврилово', 'поселок Глажево', 'поселок Кобринское',\n",
       "       'деревня Гарболово', 'деревня Юкки',\n",
       "       'поселок станции Приветнинское', 'деревня Мануйлово',\n",
       "       'деревня Пчева', 'поселок Поляны', 'поселок Цвылёво',\n",
       "       'поселок Мельниково', 'посёлок Пудость', 'посёлок Усть-Луга',\n",
       "       'Светогорск', 'Любань', 'поселок Селезнёво',\n",
       "       'поселок городского типа Рябово', 'Каменногорск', 'деревня Кривко',\n",
       "       'поселок Глебычево', 'деревня Парицы', 'поселок Жилпосёлок',\n",
       "       'посёлок городского типа Мга', 'городской поселок Янино-1',\n",
       "       'посёлок Войскорово', 'село Никольское', 'посёлок Терволово',\n",
       "       'поселок Стеклянный', 'посёлок городского типа Важины',\n",
       "       'посёлок Мыза-Ивановка', 'село Русско-Высоцкое',\n",
       "       'поселок городского типа Лебяжье',\n",
       "       'поселок городского типа Форносово', 'село Старая Ладога',\n",
       "       'поселок Житково', 'городской посёлок Виллози', 'деревня Лампово',\n",
       "       'деревня Шпаньково', 'деревня Лаврики', 'посёлок Сумино',\n",
       "       'посёлок Возрождение', 'деревня Старосиверская',\n",
       "       'посёлок Кикерино', 'поселок Возрождение',\n",
       "       'деревня Старое Хинколово', 'посёлок Пригородный',\n",
       "       'посёлок Торфяное', 'городской посёлок Будогощь',\n",
       "       'поселок Суходолье', 'поселок Красная Долина', 'деревня Хапо-Ое',\n",
       "       'поселок городского типа Дружная Горка', 'поселок Лисий Нос',\n",
       "       'деревня Яльгелево', 'посёлок Стеклянный', 'село Рождествено',\n",
       "       'деревня Старополье', 'посёлок Левашово', 'деревня Сяськелево',\n",
       "       'деревня Камышовка',\n",
       "       'садоводческое некоммерческое товарищество Лесная Поляна',\n",
       "       'деревня Хязельки', 'поселок Жилгородок',\n",
       "       'посёлок городского типа Павлово', 'деревня Ялгино',\n",
       "       'поселок Новый Учхоз', 'городской посёлок Рощино',\n",
       "       'поселок Гончарово', 'поселок Почап', 'посёлок Сапёрное',\n",
       "       'посёлок Платформа 69-й километр', 'поселок Каложицы',\n",
       "       'деревня Фалилеево', 'деревня Пельгора',\n",
       "       'поселок городского типа Лесогорский', 'деревня Торошковичи',\n",
       "       'посёлок Белоостров', 'посёлок Алексеевка', 'поселок Серебрянский',\n",
       "       'поселок Лукаши', 'поселок Петровское', 'деревня Щеглово',\n",
       "       'поселок Мичуринское', 'деревня Тарасово', 'поселок Кингисеппский',\n",
       "       'посёлок при железнодорожной станции Вещево', 'поселок Ушаки',\n",
       "       'деревня Котлы', 'деревня Сижно', 'деревня Торосово',\n",
       "       'посёлок Форт Красная Горка', 'поселок городского типа Токсово',\n",
       "       'деревня Новолисино', 'посёлок станции Громово', 'деревня Глинка',\n",
       "       'посёлок Мельниково', 'поселок городского типа Назия',\n",
       "       'деревня Старая Пустошь', 'поселок Коммунары', 'поселок Починок',\n",
       "       'посёлок городского типа Вознесенье', 'деревня Разбегаево',\n",
       "       'посёлок городского типа Рябово', 'поселок Гладкое',\n",
       "       'посёлок при железнодорожной станции Приветнинское',\n",
       "       'поселок Тёсово-4', 'посёлок Жилгородок', 'деревня Бор',\n",
       "       'посёлок Коробицыно', 'деревня Большая Вруда', 'деревня Курковицы',\n",
       "       'посёлок Лисий Нос', 'городской посёлок Советский',\n",
       "       'посёлок Кобралово', 'деревня Суоранда', 'поселок Кобралово',\n",
       "       'поселок городского типа Кондратьево',\n",
       "       'коттеджный поселок Счастье', 'поселок Любань', 'деревня Реброво',\n",
       "       'деревня Зимитицы', 'деревня Тойворово', 'поселок Семиозерье',\n",
       "       'поселок Лесное', 'поселок Совхозный', 'поселок Усть-Луга',\n",
       "       'посёлок Ленинское', 'посёлок Суйда',\n",
       "       'посёлок городского типа Форносово', 'деревня Нижние Осельки',\n",
       "       'посёлок станции Свирь', 'поселок Перово', 'Высоцк',\n",
       "       'поселок Гарболово', 'село Шум', 'поселок Котельский',\n",
       "       'поселок станции Лужайка', 'деревня Большая Пустомержа',\n",
       "       'поселок Красносельское', 'деревня Вахнова Кара', 'деревня Пижма',\n",
       "       'коттеджный поселок Кивеннапа Север', 'поселок Коробицыно',\n",
       "       'поселок Ромашки', 'посёлок Перово', 'деревня Каськово',\n",
       "       'деревня Куровицы', 'посёлок Плоское', 'поселок Сумино',\n",
       "       'поселок городского типа Большая Ижора', 'поселок Кирпичное',\n",
       "       'деревня Ям-Тесово', 'деревня Раздолье', 'деревня Терпилицы',\n",
       "       'посёлок Шугозеро', 'деревня Ваганово', 'поселок Пушное',\n",
       "       'садовое товарищество Садко', 'посёлок Усть-Ижора',\n",
       "       'деревня Выскатка', 'городской посёлок Свирьстрой',\n",
       "       'поселок Громово', 'деревня Кисельня', 'посёлок Старая Малукса',\n",
       "       'деревня Трубников Бор', 'поселок Калитино',\n",
       "       'посёлок Высокоключевой', 'садовое товарищество Приладожский',\n",
       "       'посёлок Пансионат Зелёный Бор', 'деревня Ненимяки',\n",
       "       'поселок Пансионат Зелёный Бор', 'деревня Снегирёвка',\n",
       "       'деревня Рапполово', 'деревня Пустынка', 'поселок Рабитицы',\n",
       "       'деревня Большой Сабск', 'деревня Русско', 'деревня Лупполово',\n",
       "       'деревня Большое Рейзино', 'деревня Малая Романовка',\n",
       "       'поселок Дружноселье', 'поселок Пчевжа', 'поселок Володарское',\n",
       "       'деревня Нижняя', 'коттеджный посёлок Лесное', 'деревня Тихковицы',\n",
       "       'деревня Борисова Грива', 'посёлок Дзержинского'], dtype=object)"
      ]
     },
     "execution_count": 6,
     "metadata": {},
     "output_type": "execute_result"
    }
   ],
   "source": [
    "data['locality_name'].unique()"
   ]
  },
  {
   "cell_type": "markdown",
   "metadata": {},
   "source": [
    "Отсутсвие названия населенного пункта критично и неозможно восстановить, однако, отсутсвует всего 49 значений, удаление строк не приведет к серьезному искажению данных.\n",
    "Аналогично для количества этажей в доме.\n",
    "В списке населенных пунктов встречаются одинаковые названия, отличающиеся буквами е и ё, \n"
   ]
  },
  {
   "cell_type": "code",
   "execution_count": 7,
   "metadata": {
    "scrolled": false
   },
   "outputs": [],
   "source": [
    "data = data.dropna(subset=['floors_total']).reset_index(drop=True)\n",
    "data = data.dropna(subset=['locality_name']).reset_index(drop=True)\n",
    "data = data.dropna(subset=['days_exposition']).reset_index(drop=True)\n",
    "#data['locality_name'] = data['locality_name'].str.replace('ё', 'е')\n",
    "data = data.apply(lambda x: x.replace({'поселок':'посёлок',\n",
    "                                       'городской посёлок': 'посёлок',\n",
    "                                       'посёлок городского типа': 'посёлок',\n",
    "                                       'коттеджный посёлок': 'посёлок',\n",
    "                                       'посёлок при железнодорожной станции': 'посёлок станции'\n",
    "                                      }, regex=True))"
   ]
  },
  {
   "cell_type": "markdown",
   "metadata": {},
   "source": []
  },
  {
   "cell_type": "markdown",
   "metadata": {},
   "source": [
    "Отсутвующие данных о высоте потолков можно заменить на медианное значение для населенного пункта и многоэтажности дома. Так как скорее всего дома в каждом определенном населенном пункте однотипные."
   ]
  },
  {
   "cell_type": "code",
   "execution_count": 8,
   "metadata": {},
   "outputs": [
    {
     "name": "stderr",
     "output_type": "stream",
     "text": [
      "/opt/conda/lib/python3.9/site-packages/numpy/lib/nanfunctions.py:1117: RuntimeWarning: Mean of empty slice\n",
      "  return np.nanmean(a, axis, out=out, keepdims=keepdims)\n",
      "/opt/conda/lib/python3.9/site-packages/numpy/lib/nanfunctions.py:1117: RuntimeWarning: Mean of empty slice\n",
      "  return np.nanmean(a, axis, out=out, keepdims=keepdims)\n",
      "/opt/conda/lib/python3.9/site-packages/numpy/lib/nanfunctions.py:1117: RuntimeWarning: Mean of empty slice\n",
      "  return np.nanmean(a, axis, out=out, keepdims=keepdims)\n",
      "/opt/conda/lib/python3.9/site-packages/numpy/lib/nanfunctions.py:1117: RuntimeWarning: Mean of empty slice\n",
      "  return np.nanmean(a, axis, out=out, keepdims=keepdims)\n",
      "/opt/conda/lib/python3.9/site-packages/numpy/lib/nanfunctions.py:1117: RuntimeWarning: Mean of empty slice\n",
      "  return np.nanmean(a, axis, out=out, keepdims=keepdims)\n",
      "/opt/conda/lib/python3.9/site-packages/numpy/lib/nanfunctions.py:1117: RuntimeWarning: Mean of empty slice\n",
      "  return np.nanmean(a, axis, out=out, keepdims=keepdims)\n",
      "/opt/conda/lib/python3.9/site-packages/numpy/lib/nanfunctions.py:1117: RuntimeWarning: Mean of empty slice\n",
      "  return np.nanmean(a, axis, out=out, keepdims=keepdims)\n",
      "/opt/conda/lib/python3.9/site-packages/numpy/lib/nanfunctions.py:1117: RuntimeWarning: Mean of empty slice\n",
      "  return np.nanmean(a, axis, out=out, keepdims=keepdims)\n",
      "/opt/conda/lib/python3.9/site-packages/numpy/lib/nanfunctions.py:1117: RuntimeWarning: Mean of empty slice\n",
      "  return np.nanmean(a, axis, out=out, keepdims=keepdims)\n",
      "/opt/conda/lib/python3.9/site-packages/numpy/lib/nanfunctions.py:1117: RuntimeWarning: Mean of empty slice\n",
      "  return np.nanmean(a, axis, out=out, keepdims=keepdims)\n",
      "/opt/conda/lib/python3.9/site-packages/numpy/lib/nanfunctions.py:1117: RuntimeWarning: Mean of empty slice\n",
      "  return np.nanmean(a, axis, out=out, keepdims=keepdims)\n",
      "/opt/conda/lib/python3.9/site-packages/numpy/lib/nanfunctions.py:1117: RuntimeWarning: Mean of empty slice\n",
      "  return np.nanmean(a, axis, out=out, keepdims=keepdims)\n",
      "/opt/conda/lib/python3.9/site-packages/numpy/lib/nanfunctions.py:1117: RuntimeWarning: Mean of empty slice\n",
      "  return np.nanmean(a, axis, out=out, keepdims=keepdims)\n",
      "/opt/conda/lib/python3.9/site-packages/numpy/lib/nanfunctions.py:1117: RuntimeWarning: Mean of empty slice\n",
      "  return np.nanmean(a, axis, out=out, keepdims=keepdims)\n",
      "/opt/conda/lib/python3.9/site-packages/numpy/lib/nanfunctions.py:1117: RuntimeWarning: Mean of empty slice\n",
      "  return np.nanmean(a, axis, out=out, keepdims=keepdims)\n",
      "/opt/conda/lib/python3.9/site-packages/numpy/lib/nanfunctions.py:1117: RuntimeWarning: Mean of empty slice\n",
      "  return np.nanmean(a, axis, out=out, keepdims=keepdims)\n",
      "/opt/conda/lib/python3.9/site-packages/numpy/lib/nanfunctions.py:1117: RuntimeWarning: Mean of empty slice\n",
      "  return np.nanmean(a, axis, out=out, keepdims=keepdims)\n",
      "/opt/conda/lib/python3.9/site-packages/numpy/lib/nanfunctions.py:1117: RuntimeWarning: Mean of empty slice\n",
      "  return np.nanmean(a, axis, out=out, keepdims=keepdims)\n",
      "/opt/conda/lib/python3.9/site-packages/numpy/lib/nanfunctions.py:1117: RuntimeWarning: Mean of empty slice\n",
      "  return np.nanmean(a, axis, out=out, keepdims=keepdims)\n",
      "/opt/conda/lib/python3.9/site-packages/numpy/lib/nanfunctions.py:1117: RuntimeWarning: Mean of empty slice\n",
      "  return np.nanmean(a, axis, out=out, keepdims=keepdims)\n",
      "/opt/conda/lib/python3.9/site-packages/numpy/lib/nanfunctions.py:1117: RuntimeWarning: Mean of empty slice\n",
      "  return np.nanmean(a, axis, out=out, keepdims=keepdims)\n",
      "/opt/conda/lib/python3.9/site-packages/numpy/lib/nanfunctions.py:1117: RuntimeWarning: Mean of empty slice\n",
      "  return np.nanmean(a, axis, out=out, keepdims=keepdims)\n",
      "/opt/conda/lib/python3.9/site-packages/numpy/lib/nanfunctions.py:1117: RuntimeWarning: Mean of empty slice\n",
      "  return np.nanmean(a, axis, out=out, keepdims=keepdims)\n",
      "/opt/conda/lib/python3.9/site-packages/numpy/lib/nanfunctions.py:1117: RuntimeWarning: Mean of empty slice\n",
      "  return np.nanmean(a, axis, out=out, keepdims=keepdims)\n",
      "/opt/conda/lib/python3.9/site-packages/numpy/lib/nanfunctions.py:1117: RuntimeWarning: Mean of empty slice\n",
      "  return np.nanmean(a, axis, out=out, keepdims=keepdims)\n",
      "/opt/conda/lib/python3.9/site-packages/numpy/lib/nanfunctions.py:1117: RuntimeWarning: Mean of empty slice\n",
      "  return np.nanmean(a, axis, out=out, keepdims=keepdims)\n",
      "/opt/conda/lib/python3.9/site-packages/numpy/lib/nanfunctions.py:1117: RuntimeWarning: Mean of empty slice\n",
      "  return np.nanmean(a, axis, out=out, keepdims=keepdims)\n",
      "/opt/conda/lib/python3.9/site-packages/numpy/lib/nanfunctions.py:1117: RuntimeWarning: Mean of empty slice\n",
      "  return np.nanmean(a, axis, out=out, keepdims=keepdims)\n",
      "/opt/conda/lib/python3.9/site-packages/numpy/lib/nanfunctions.py:1117: RuntimeWarning: Mean of empty slice\n",
      "  return np.nanmean(a, axis, out=out, keepdims=keepdims)\n",
      "/opt/conda/lib/python3.9/site-packages/numpy/lib/nanfunctions.py:1117: RuntimeWarning: Mean of empty slice\n",
      "  return np.nanmean(a, axis, out=out, keepdims=keepdims)\n",
      "/opt/conda/lib/python3.9/site-packages/numpy/lib/nanfunctions.py:1117: RuntimeWarning: Mean of empty slice\n",
      "  return np.nanmean(a, axis, out=out, keepdims=keepdims)\n",
      "/opt/conda/lib/python3.9/site-packages/numpy/lib/nanfunctions.py:1117: RuntimeWarning: Mean of empty slice\n",
      "  return np.nanmean(a, axis, out=out, keepdims=keepdims)\n",
      "/opt/conda/lib/python3.9/site-packages/numpy/lib/nanfunctions.py:1117: RuntimeWarning: Mean of empty slice\n",
      "  return np.nanmean(a, axis, out=out, keepdims=keepdims)\n",
      "/opt/conda/lib/python3.9/site-packages/numpy/lib/nanfunctions.py:1117: RuntimeWarning: Mean of empty slice\n",
      "  return np.nanmean(a, axis, out=out, keepdims=keepdims)\n",
      "/opt/conda/lib/python3.9/site-packages/numpy/lib/nanfunctions.py:1117: RuntimeWarning: Mean of empty slice\n",
      "  return np.nanmean(a, axis, out=out, keepdims=keepdims)\n",
      "/opt/conda/lib/python3.9/site-packages/numpy/lib/nanfunctions.py:1117: RuntimeWarning: Mean of empty slice\n",
      "  return np.nanmean(a, axis, out=out, keepdims=keepdims)\n",
      "/opt/conda/lib/python3.9/site-packages/numpy/lib/nanfunctions.py:1117: RuntimeWarning: Mean of empty slice\n",
      "  return np.nanmean(a, axis, out=out, keepdims=keepdims)\n",
      "/opt/conda/lib/python3.9/site-packages/numpy/lib/nanfunctions.py:1117: RuntimeWarning: Mean of empty slice\n",
      "  return np.nanmean(a, axis, out=out, keepdims=keepdims)\n",
      "/opt/conda/lib/python3.9/site-packages/numpy/lib/nanfunctions.py:1117: RuntimeWarning: Mean of empty slice\n",
      "  return np.nanmean(a, axis, out=out, keepdims=keepdims)\n",
      "/opt/conda/lib/python3.9/site-packages/numpy/lib/nanfunctions.py:1117: RuntimeWarning: Mean of empty slice\n",
      "  return np.nanmean(a, axis, out=out, keepdims=keepdims)\n",
      "/opt/conda/lib/python3.9/site-packages/numpy/lib/nanfunctions.py:1117: RuntimeWarning: Mean of empty slice\n",
      "  return np.nanmean(a, axis, out=out, keepdims=keepdims)\n",
      "/opt/conda/lib/python3.9/site-packages/numpy/lib/nanfunctions.py:1117: RuntimeWarning: Mean of empty slice\n",
      "  return np.nanmean(a, axis, out=out, keepdims=keepdims)\n",
      "/opt/conda/lib/python3.9/site-packages/numpy/lib/nanfunctions.py:1117: RuntimeWarning: Mean of empty slice\n",
      "  return np.nanmean(a, axis, out=out, keepdims=keepdims)\n",
      "/opt/conda/lib/python3.9/site-packages/numpy/lib/nanfunctions.py:1117: RuntimeWarning: Mean of empty slice\n",
      "  return np.nanmean(a, axis, out=out, keepdims=keepdims)\n",
      "/opt/conda/lib/python3.9/site-packages/numpy/lib/nanfunctions.py:1117: RuntimeWarning: Mean of empty slice\n",
      "  return np.nanmean(a, axis, out=out, keepdims=keepdims)\n",
      "/opt/conda/lib/python3.9/site-packages/numpy/lib/nanfunctions.py:1117: RuntimeWarning: Mean of empty slice\n",
      "  return np.nanmean(a, axis, out=out, keepdims=keepdims)\n",
      "/opt/conda/lib/python3.9/site-packages/numpy/lib/nanfunctions.py:1117: RuntimeWarning: Mean of empty slice\n",
      "  return np.nanmean(a, axis, out=out, keepdims=keepdims)\n",
      "/opt/conda/lib/python3.9/site-packages/numpy/lib/nanfunctions.py:1117: RuntimeWarning: Mean of empty slice\n",
      "  return np.nanmean(a, axis, out=out, keepdims=keepdims)\n",
      "/opt/conda/lib/python3.9/site-packages/numpy/lib/nanfunctions.py:1117: RuntimeWarning: Mean of empty slice\n",
      "  return np.nanmean(a, axis, out=out, keepdims=keepdims)\n",
      "/opt/conda/lib/python3.9/site-packages/numpy/lib/nanfunctions.py:1117: RuntimeWarning: Mean of empty slice\n",
      "  return np.nanmean(a, axis, out=out, keepdims=keepdims)\n",
      "/opt/conda/lib/python3.9/site-packages/numpy/lib/nanfunctions.py:1117: RuntimeWarning: Mean of empty slice\n",
      "  return np.nanmean(a, axis, out=out, keepdims=keepdims)\n",
      "/opt/conda/lib/python3.9/site-packages/numpy/lib/nanfunctions.py:1117: RuntimeWarning: Mean of empty slice\n",
      "  return np.nanmean(a, axis, out=out, keepdims=keepdims)\n",
      "/opt/conda/lib/python3.9/site-packages/numpy/lib/nanfunctions.py:1117: RuntimeWarning: Mean of empty slice\n",
      "  return np.nanmean(a, axis, out=out, keepdims=keepdims)\n",
      "/opt/conda/lib/python3.9/site-packages/numpy/lib/nanfunctions.py:1117: RuntimeWarning: Mean of empty slice\n",
      "  return np.nanmean(a, axis, out=out, keepdims=keepdims)\n",
      "/opt/conda/lib/python3.9/site-packages/numpy/lib/nanfunctions.py:1117: RuntimeWarning: Mean of empty slice\n",
      "  return np.nanmean(a, axis, out=out, keepdims=keepdims)\n",
      "/opt/conda/lib/python3.9/site-packages/numpy/lib/nanfunctions.py:1117: RuntimeWarning: Mean of empty slice\n",
      "  return np.nanmean(a, axis, out=out, keepdims=keepdims)\n",
      "/opt/conda/lib/python3.9/site-packages/numpy/lib/nanfunctions.py:1117: RuntimeWarning: Mean of empty slice\n",
      "  return np.nanmean(a, axis, out=out, keepdims=keepdims)\n",
      "/opt/conda/lib/python3.9/site-packages/numpy/lib/nanfunctions.py:1117: RuntimeWarning: Mean of empty slice\n",
      "  return np.nanmean(a, axis, out=out, keepdims=keepdims)\n",
      "/opt/conda/lib/python3.9/site-packages/numpy/lib/nanfunctions.py:1117: RuntimeWarning: Mean of empty slice\n",
      "  return np.nanmean(a, axis, out=out, keepdims=keepdims)\n",
      "/opt/conda/lib/python3.9/site-packages/numpy/lib/nanfunctions.py:1117: RuntimeWarning: Mean of empty slice\n",
      "  return np.nanmean(a, axis, out=out, keepdims=keepdims)\n",
      "/opt/conda/lib/python3.9/site-packages/numpy/lib/nanfunctions.py:1117: RuntimeWarning: Mean of empty slice\n",
      "  return np.nanmean(a, axis, out=out, keepdims=keepdims)\n",
      "/opt/conda/lib/python3.9/site-packages/numpy/lib/nanfunctions.py:1117: RuntimeWarning: Mean of empty slice\n",
      "  return np.nanmean(a, axis, out=out, keepdims=keepdims)\n",
      "/opt/conda/lib/python3.9/site-packages/numpy/lib/nanfunctions.py:1117: RuntimeWarning: Mean of empty slice\n",
      "  return np.nanmean(a, axis, out=out, keepdims=keepdims)\n",
      "/opt/conda/lib/python3.9/site-packages/numpy/lib/nanfunctions.py:1117: RuntimeWarning: Mean of empty slice\n",
      "  return np.nanmean(a, axis, out=out, keepdims=keepdims)\n",
      "/opt/conda/lib/python3.9/site-packages/numpy/lib/nanfunctions.py:1117: RuntimeWarning: Mean of empty slice\n",
      "  return np.nanmean(a, axis, out=out, keepdims=keepdims)\n",
      "/opt/conda/lib/python3.9/site-packages/numpy/lib/nanfunctions.py:1117: RuntimeWarning: Mean of empty slice\n",
      "  return np.nanmean(a, axis, out=out, keepdims=keepdims)\n",
      "/opt/conda/lib/python3.9/site-packages/numpy/lib/nanfunctions.py:1117: RuntimeWarning: Mean of empty slice\n",
      "  return np.nanmean(a, axis, out=out, keepdims=keepdims)\n",
      "/opt/conda/lib/python3.9/site-packages/numpy/lib/nanfunctions.py:1117: RuntimeWarning: Mean of empty slice\n",
      "  return np.nanmean(a, axis, out=out, keepdims=keepdims)\n",
      "/opt/conda/lib/python3.9/site-packages/numpy/lib/nanfunctions.py:1117: RuntimeWarning: Mean of empty slice\n",
      "  return np.nanmean(a, axis, out=out, keepdims=keepdims)\n",
      "/opt/conda/lib/python3.9/site-packages/numpy/lib/nanfunctions.py:1117: RuntimeWarning: Mean of empty slice\n",
      "  return np.nanmean(a, axis, out=out, keepdims=keepdims)\n",
      "/opt/conda/lib/python3.9/site-packages/numpy/lib/nanfunctions.py:1117: RuntimeWarning: Mean of empty slice\n",
      "  return np.nanmean(a, axis, out=out, keepdims=keepdims)\n",
      "/opt/conda/lib/python3.9/site-packages/numpy/lib/nanfunctions.py:1117: RuntimeWarning: Mean of empty slice\n",
      "  return np.nanmean(a, axis, out=out, keepdims=keepdims)\n",
      "/opt/conda/lib/python3.9/site-packages/numpy/lib/nanfunctions.py:1117: RuntimeWarning: Mean of empty slice\n",
      "  return np.nanmean(a, axis, out=out, keepdims=keepdims)\n",
      "/opt/conda/lib/python3.9/site-packages/numpy/lib/nanfunctions.py:1117: RuntimeWarning: Mean of empty slice\n",
      "  return np.nanmean(a, axis, out=out, keepdims=keepdims)\n",
      "/opt/conda/lib/python3.9/site-packages/numpy/lib/nanfunctions.py:1117: RuntimeWarning: Mean of empty slice\n",
      "  return np.nanmean(a, axis, out=out, keepdims=keepdims)\n",
      "/opt/conda/lib/python3.9/site-packages/numpy/lib/nanfunctions.py:1117: RuntimeWarning: Mean of empty slice\n",
      "  return np.nanmean(a, axis, out=out, keepdims=keepdims)\n",
      "/opt/conda/lib/python3.9/site-packages/numpy/lib/nanfunctions.py:1117: RuntimeWarning: Mean of empty slice\n",
      "  return np.nanmean(a, axis, out=out, keepdims=keepdims)\n",
      "/opt/conda/lib/python3.9/site-packages/numpy/lib/nanfunctions.py:1117: RuntimeWarning: Mean of empty slice\n",
      "  return np.nanmean(a, axis, out=out, keepdims=keepdims)\n",
      "/opt/conda/lib/python3.9/site-packages/numpy/lib/nanfunctions.py:1117: RuntimeWarning: Mean of empty slice\n",
      "  return np.nanmean(a, axis, out=out, keepdims=keepdims)\n",
      "/opt/conda/lib/python3.9/site-packages/numpy/lib/nanfunctions.py:1117: RuntimeWarning: Mean of empty slice\n",
      "  return np.nanmean(a, axis, out=out, keepdims=keepdims)\n",
      "/opt/conda/lib/python3.9/site-packages/numpy/lib/nanfunctions.py:1117: RuntimeWarning: Mean of empty slice\n",
      "  return np.nanmean(a, axis, out=out, keepdims=keepdims)\n",
      "/opt/conda/lib/python3.9/site-packages/numpy/lib/nanfunctions.py:1117: RuntimeWarning: Mean of empty slice\n",
      "  return np.nanmean(a, axis, out=out, keepdims=keepdims)\n",
      "/opt/conda/lib/python3.9/site-packages/numpy/lib/nanfunctions.py:1117: RuntimeWarning: Mean of empty slice\n",
      "  return np.nanmean(a, axis, out=out, keepdims=keepdims)\n",
      "/opt/conda/lib/python3.9/site-packages/numpy/lib/nanfunctions.py:1117: RuntimeWarning: Mean of empty slice\n",
      "  return np.nanmean(a, axis, out=out, keepdims=keepdims)\n",
      "/opt/conda/lib/python3.9/site-packages/numpy/lib/nanfunctions.py:1117: RuntimeWarning: Mean of empty slice\n",
      "  return np.nanmean(a, axis, out=out, keepdims=keepdims)\n",
      "/opt/conda/lib/python3.9/site-packages/numpy/lib/nanfunctions.py:1117: RuntimeWarning: Mean of empty slice\n",
      "  return np.nanmean(a, axis, out=out, keepdims=keepdims)\n",
      "/opt/conda/lib/python3.9/site-packages/numpy/lib/nanfunctions.py:1117: RuntimeWarning: Mean of empty slice\n",
      "  return np.nanmean(a, axis, out=out, keepdims=keepdims)\n",
      "/opt/conda/lib/python3.9/site-packages/numpy/lib/nanfunctions.py:1117: RuntimeWarning: Mean of empty slice\n",
      "  return np.nanmean(a, axis, out=out, keepdims=keepdims)\n",
      "/opt/conda/lib/python3.9/site-packages/numpy/lib/nanfunctions.py:1117: RuntimeWarning: Mean of empty slice\n",
      "  return np.nanmean(a, axis, out=out, keepdims=keepdims)\n",
      "/opt/conda/lib/python3.9/site-packages/numpy/lib/nanfunctions.py:1117: RuntimeWarning: Mean of empty slice\n",
      "  return np.nanmean(a, axis, out=out, keepdims=keepdims)\n",
      "/opt/conda/lib/python3.9/site-packages/numpy/lib/nanfunctions.py:1117: RuntimeWarning: Mean of empty slice\n",
      "  return np.nanmean(a, axis, out=out, keepdims=keepdims)\n",
      "/opt/conda/lib/python3.9/site-packages/numpy/lib/nanfunctions.py:1117: RuntimeWarning: Mean of empty slice\n",
      "  return np.nanmean(a, axis, out=out, keepdims=keepdims)\n",
      "/opt/conda/lib/python3.9/site-packages/numpy/lib/nanfunctions.py:1117: RuntimeWarning: Mean of empty slice\n",
      "  return np.nanmean(a, axis, out=out, keepdims=keepdims)\n",
      "/opt/conda/lib/python3.9/site-packages/numpy/lib/nanfunctions.py:1117: RuntimeWarning: Mean of empty slice\n",
      "  return np.nanmean(a, axis, out=out, keepdims=keepdims)\n",
      "/opt/conda/lib/python3.9/site-packages/numpy/lib/nanfunctions.py:1117: RuntimeWarning: Mean of empty slice\n",
      "  return np.nanmean(a, axis, out=out, keepdims=keepdims)\n",
      "/opt/conda/lib/python3.9/site-packages/numpy/lib/nanfunctions.py:1117: RuntimeWarning: Mean of empty slice\n",
      "  return np.nanmean(a, axis, out=out, keepdims=keepdims)\n",
      "/opt/conda/lib/python3.9/site-packages/numpy/lib/nanfunctions.py:1117: RuntimeWarning: Mean of empty slice\n",
      "  return np.nanmean(a, axis, out=out, keepdims=keepdims)\n",
      "/opt/conda/lib/python3.9/site-packages/numpy/lib/nanfunctions.py:1117: RuntimeWarning: Mean of empty slice\n",
      "  return np.nanmean(a, axis, out=out, keepdims=keepdims)\n",
      "/opt/conda/lib/python3.9/site-packages/numpy/lib/nanfunctions.py:1117: RuntimeWarning: Mean of empty slice\n",
      "  return np.nanmean(a, axis, out=out, keepdims=keepdims)\n",
      "/opt/conda/lib/python3.9/site-packages/numpy/lib/nanfunctions.py:1117: RuntimeWarning: Mean of empty slice\n",
      "  return np.nanmean(a, axis, out=out, keepdims=keepdims)\n",
      "/opt/conda/lib/python3.9/site-packages/numpy/lib/nanfunctions.py:1117: RuntimeWarning: Mean of empty slice\n",
      "  return np.nanmean(a, axis, out=out, keepdims=keepdims)\n",
      "/opt/conda/lib/python3.9/site-packages/numpy/lib/nanfunctions.py:1117: RuntimeWarning: Mean of empty slice\n",
      "  return np.nanmean(a, axis, out=out, keepdims=keepdims)\n",
      "/opt/conda/lib/python3.9/site-packages/numpy/lib/nanfunctions.py:1117: RuntimeWarning: Mean of empty slice\n",
      "  return np.nanmean(a, axis, out=out, keepdims=keepdims)\n",
      "/opt/conda/lib/python3.9/site-packages/numpy/lib/nanfunctions.py:1117: RuntimeWarning: Mean of empty slice\n",
      "  return np.nanmean(a, axis, out=out, keepdims=keepdims)\n",
      "/opt/conda/lib/python3.9/site-packages/numpy/lib/nanfunctions.py:1117: RuntimeWarning: Mean of empty slice\n",
      "  return np.nanmean(a, axis, out=out, keepdims=keepdims)\n",
      "/opt/conda/lib/python3.9/site-packages/numpy/lib/nanfunctions.py:1117: RuntimeWarning: Mean of empty slice\n",
      "  return np.nanmean(a, axis, out=out, keepdims=keepdims)\n",
      "/opt/conda/lib/python3.9/site-packages/numpy/lib/nanfunctions.py:1117: RuntimeWarning: Mean of empty slice\n",
      "  return np.nanmean(a, axis, out=out, keepdims=keepdims)\n",
      "/opt/conda/lib/python3.9/site-packages/numpy/lib/nanfunctions.py:1117: RuntimeWarning: Mean of empty slice\n",
      "  return np.nanmean(a, axis, out=out, keepdims=keepdims)\n",
      "/opt/conda/lib/python3.9/site-packages/numpy/lib/nanfunctions.py:1117: RuntimeWarning: Mean of empty slice\n",
      "  return np.nanmean(a, axis, out=out, keepdims=keepdims)\n",
      "/opt/conda/lib/python3.9/site-packages/numpy/lib/nanfunctions.py:1117: RuntimeWarning: Mean of empty slice\n",
      "  return np.nanmean(a, axis, out=out, keepdims=keepdims)\n",
      "/opt/conda/lib/python3.9/site-packages/numpy/lib/nanfunctions.py:1117: RuntimeWarning: Mean of empty slice\n",
      "  return np.nanmean(a, axis, out=out, keepdims=keepdims)\n",
      "/opt/conda/lib/python3.9/site-packages/numpy/lib/nanfunctions.py:1117: RuntimeWarning: Mean of empty slice\n",
      "  return np.nanmean(a, axis, out=out, keepdims=keepdims)\n",
      "/opt/conda/lib/python3.9/site-packages/numpy/lib/nanfunctions.py:1117: RuntimeWarning: Mean of empty slice\n",
      "  return np.nanmean(a, axis, out=out, keepdims=keepdims)\n",
      "/opt/conda/lib/python3.9/site-packages/numpy/lib/nanfunctions.py:1117: RuntimeWarning: Mean of empty slice\n",
      "  return np.nanmean(a, axis, out=out, keepdims=keepdims)\n",
      "/opt/conda/lib/python3.9/site-packages/numpy/lib/nanfunctions.py:1117: RuntimeWarning: Mean of empty slice\n",
      "  return np.nanmean(a, axis, out=out, keepdims=keepdims)\n",
      "/opt/conda/lib/python3.9/site-packages/numpy/lib/nanfunctions.py:1117: RuntimeWarning: Mean of empty slice\n",
      "  return np.nanmean(a, axis, out=out, keepdims=keepdims)\n",
      "/opt/conda/lib/python3.9/site-packages/numpy/lib/nanfunctions.py:1117: RuntimeWarning: Mean of empty slice\n",
      "  return np.nanmean(a, axis, out=out, keepdims=keepdims)\n",
      "/opt/conda/lib/python3.9/site-packages/numpy/lib/nanfunctions.py:1117: RuntimeWarning: Mean of empty slice\n",
      "  return np.nanmean(a, axis, out=out, keepdims=keepdims)\n",
      "/opt/conda/lib/python3.9/site-packages/numpy/lib/nanfunctions.py:1117: RuntimeWarning: Mean of empty slice\n",
      "  return np.nanmean(a, axis, out=out, keepdims=keepdims)\n",
      "/opt/conda/lib/python3.9/site-packages/numpy/lib/nanfunctions.py:1117: RuntimeWarning: Mean of empty slice\n",
      "  return np.nanmean(a, axis, out=out, keepdims=keepdims)\n",
      "/opt/conda/lib/python3.9/site-packages/numpy/lib/nanfunctions.py:1117: RuntimeWarning: Mean of empty slice\n",
      "  return np.nanmean(a, axis, out=out, keepdims=keepdims)\n",
      "/opt/conda/lib/python3.9/site-packages/numpy/lib/nanfunctions.py:1117: RuntimeWarning: Mean of empty slice\n",
      "  return np.nanmean(a, axis, out=out, keepdims=keepdims)\n",
      "/opt/conda/lib/python3.9/site-packages/numpy/lib/nanfunctions.py:1117: RuntimeWarning: Mean of empty slice\n",
      "  return np.nanmean(a, axis, out=out, keepdims=keepdims)\n",
      "/opt/conda/lib/python3.9/site-packages/numpy/lib/nanfunctions.py:1117: RuntimeWarning: Mean of empty slice\n",
      "  return np.nanmean(a, axis, out=out, keepdims=keepdims)\n",
      "/opt/conda/lib/python3.9/site-packages/numpy/lib/nanfunctions.py:1117: RuntimeWarning: Mean of empty slice\n",
      "  return np.nanmean(a, axis, out=out, keepdims=keepdims)\n",
      "/opt/conda/lib/python3.9/site-packages/numpy/lib/nanfunctions.py:1117: RuntimeWarning: Mean of empty slice\n",
      "  return np.nanmean(a, axis, out=out, keepdims=keepdims)\n",
      "/opt/conda/lib/python3.9/site-packages/numpy/lib/nanfunctions.py:1117: RuntimeWarning: Mean of empty slice\n",
      "  return np.nanmean(a, axis, out=out, keepdims=keepdims)\n",
      "/opt/conda/lib/python3.9/site-packages/numpy/lib/nanfunctions.py:1117: RuntimeWarning: Mean of empty slice\n",
      "  return np.nanmean(a, axis, out=out, keepdims=keepdims)\n",
      "/opt/conda/lib/python3.9/site-packages/numpy/lib/nanfunctions.py:1117: RuntimeWarning: Mean of empty slice\n",
      "  return np.nanmean(a, axis, out=out, keepdims=keepdims)\n",
      "/opt/conda/lib/python3.9/site-packages/numpy/lib/nanfunctions.py:1117: RuntimeWarning: Mean of empty slice\n",
      "  return np.nanmean(a, axis, out=out, keepdims=keepdims)\n",
      "/opt/conda/lib/python3.9/site-packages/numpy/lib/nanfunctions.py:1117: RuntimeWarning: Mean of empty slice\n",
      "  return np.nanmean(a, axis, out=out, keepdims=keepdims)\n",
      "/opt/conda/lib/python3.9/site-packages/numpy/lib/nanfunctions.py:1117: RuntimeWarning: Mean of empty slice\n",
      "  return np.nanmean(a, axis, out=out, keepdims=keepdims)\n",
      "/opt/conda/lib/python3.9/site-packages/numpy/lib/nanfunctions.py:1117: RuntimeWarning: Mean of empty slice\n",
      "  return np.nanmean(a, axis, out=out, keepdims=keepdims)\n",
      "/opt/conda/lib/python3.9/site-packages/numpy/lib/nanfunctions.py:1117: RuntimeWarning: Mean of empty slice\n",
      "  return np.nanmean(a, axis, out=out, keepdims=keepdims)\n",
      "/opt/conda/lib/python3.9/site-packages/numpy/lib/nanfunctions.py:1117: RuntimeWarning: Mean of empty slice\n",
      "  return np.nanmean(a, axis, out=out, keepdims=keepdims)\n",
      "/opt/conda/lib/python3.9/site-packages/numpy/lib/nanfunctions.py:1117: RuntimeWarning: Mean of empty slice\n",
      "  return np.nanmean(a, axis, out=out, keepdims=keepdims)\n",
      "/opt/conda/lib/python3.9/site-packages/numpy/lib/nanfunctions.py:1117: RuntimeWarning: Mean of empty slice\n",
      "  return np.nanmean(a, axis, out=out, keepdims=keepdims)\n",
      "/opt/conda/lib/python3.9/site-packages/numpy/lib/nanfunctions.py:1117: RuntimeWarning: Mean of empty slice\n",
      "  return np.nanmean(a, axis, out=out, keepdims=keepdims)\n",
      "/opt/conda/lib/python3.9/site-packages/numpy/lib/nanfunctions.py:1117: RuntimeWarning: Mean of empty slice\n",
      "  return np.nanmean(a, axis, out=out, keepdims=keepdims)\n",
      "/opt/conda/lib/python3.9/site-packages/numpy/lib/nanfunctions.py:1117: RuntimeWarning: Mean of empty slice\n",
      "  return np.nanmean(a, axis, out=out, keepdims=keepdims)\n",
      "/opt/conda/lib/python3.9/site-packages/numpy/lib/nanfunctions.py:1117: RuntimeWarning: Mean of empty slice\n",
      "  return np.nanmean(a, axis, out=out, keepdims=keepdims)\n",
      "/opt/conda/lib/python3.9/site-packages/numpy/lib/nanfunctions.py:1117: RuntimeWarning: Mean of empty slice\n",
      "  return np.nanmean(a, axis, out=out, keepdims=keepdims)\n",
      "/opt/conda/lib/python3.9/site-packages/numpy/lib/nanfunctions.py:1117: RuntimeWarning: Mean of empty slice\n",
      "  return np.nanmean(a, axis, out=out, keepdims=keepdims)\n",
      "/opt/conda/lib/python3.9/site-packages/numpy/lib/nanfunctions.py:1117: RuntimeWarning: Mean of empty slice\n",
      "  return np.nanmean(a, axis, out=out, keepdims=keepdims)\n",
      "/opt/conda/lib/python3.9/site-packages/numpy/lib/nanfunctions.py:1117: RuntimeWarning: Mean of empty slice\n",
      "  return np.nanmean(a, axis, out=out, keepdims=keepdims)\n",
      "/opt/conda/lib/python3.9/site-packages/numpy/lib/nanfunctions.py:1117: RuntimeWarning: Mean of empty slice\n",
      "  return np.nanmean(a, axis, out=out, keepdims=keepdims)\n",
      "/opt/conda/lib/python3.9/site-packages/numpy/lib/nanfunctions.py:1117: RuntimeWarning: Mean of empty slice\n",
      "  return np.nanmean(a, axis, out=out, keepdims=keepdims)\n",
      "/opt/conda/lib/python3.9/site-packages/numpy/lib/nanfunctions.py:1117: RuntimeWarning: Mean of empty slice\n",
      "  return np.nanmean(a, axis, out=out, keepdims=keepdims)\n",
      "/opt/conda/lib/python3.9/site-packages/numpy/lib/nanfunctions.py:1117: RuntimeWarning: Mean of empty slice\n",
      "  return np.nanmean(a, axis, out=out, keepdims=keepdims)\n",
      "/opt/conda/lib/python3.9/site-packages/numpy/lib/nanfunctions.py:1117: RuntimeWarning: Mean of empty slice\n",
      "  return np.nanmean(a, axis, out=out, keepdims=keepdims)\n",
      "/opt/conda/lib/python3.9/site-packages/numpy/lib/nanfunctions.py:1117: RuntimeWarning: Mean of empty slice\n",
      "  return np.nanmean(a, axis, out=out, keepdims=keepdims)\n",
      "/opt/conda/lib/python3.9/site-packages/numpy/lib/nanfunctions.py:1117: RuntimeWarning: Mean of empty slice\n",
      "  return np.nanmean(a, axis, out=out, keepdims=keepdims)\n",
      "/opt/conda/lib/python3.9/site-packages/numpy/lib/nanfunctions.py:1117: RuntimeWarning: Mean of empty slice\n",
      "  return np.nanmean(a, axis, out=out, keepdims=keepdims)\n",
      "/opt/conda/lib/python3.9/site-packages/numpy/lib/nanfunctions.py:1117: RuntimeWarning: Mean of empty slice\n",
      "  return np.nanmean(a, axis, out=out, keepdims=keepdims)\n",
      "/opt/conda/lib/python3.9/site-packages/numpy/lib/nanfunctions.py:1117: RuntimeWarning: Mean of empty slice\n",
      "  return np.nanmean(a, axis, out=out, keepdims=keepdims)\n",
      "/opt/conda/lib/python3.9/site-packages/numpy/lib/nanfunctions.py:1117: RuntimeWarning: Mean of empty slice\n",
      "  return np.nanmean(a, axis, out=out, keepdims=keepdims)\n",
      "/opt/conda/lib/python3.9/site-packages/numpy/lib/nanfunctions.py:1117: RuntimeWarning: Mean of empty slice\n",
      "  return np.nanmean(a, axis, out=out, keepdims=keepdims)\n",
      "/opt/conda/lib/python3.9/site-packages/numpy/lib/nanfunctions.py:1117: RuntimeWarning: Mean of empty slice\n",
      "  return np.nanmean(a, axis, out=out, keepdims=keepdims)\n",
      "/opt/conda/lib/python3.9/site-packages/numpy/lib/nanfunctions.py:1117: RuntimeWarning: Mean of empty slice\n",
      "  return np.nanmean(a, axis, out=out, keepdims=keepdims)\n",
      "/opt/conda/lib/python3.9/site-packages/numpy/lib/nanfunctions.py:1117: RuntimeWarning: Mean of empty slice\n",
      "  return np.nanmean(a, axis, out=out, keepdims=keepdims)\n",
      "/opt/conda/lib/python3.9/site-packages/numpy/lib/nanfunctions.py:1117: RuntimeWarning: Mean of empty slice\n",
      "  return np.nanmean(a, axis, out=out, keepdims=keepdims)\n",
      "/opt/conda/lib/python3.9/site-packages/numpy/lib/nanfunctions.py:1117: RuntimeWarning: Mean of empty slice\n",
      "  return np.nanmean(a, axis, out=out, keepdims=keepdims)\n",
      "/opt/conda/lib/python3.9/site-packages/numpy/lib/nanfunctions.py:1117: RuntimeWarning: Mean of empty slice\n",
      "  return np.nanmean(a, axis, out=out, keepdims=keepdims)\n",
      "/opt/conda/lib/python3.9/site-packages/numpy/lib/nanfunctions.py:1117: RuntimeWarning: Mean of empty slice\n",
      "  return np.nanmean(a, axis, out=out, keepdims=keepdims)\n",
      "/opt/conda/lib/python3.9/site-packages/numpy/lib/nanfunctions.py:1117: RuntimeWarning: Mean of empty slice\n",
      "  return np.nanmean(a, axis, out=out, keepdims=keepdims)\n",
      "/opt/conda/lib/python3.9/site-packages/numpy/lib/nanfunctions.py:1117: RuntimeWarning: Mean of empty slice\n",
      "  return np.nanmean(a, axis, out=out, keepdims=keepdims)\n",
      "/opt/conda/lib/python3.9/site-packages/numpy/lib/nanfunctions.py:1117: RuntimeWarning: Mean of empty slice\n",
      "  return np.nanmean(a, axis, out=out, keepdims=keepdims)\n",
      "/opt/conda/lib/python3.9/site-packages/numpy/lib/nanfunctions.py:1117: RuntimeWarning: Mean of empty slice\n",
      "  return np.nanmean(a, axis, out=out, keepdims=keepdims)\n",
      "/opt/conda/lib/python3.9/site-packages/numpy/lib/nanfunctions.py:1117: RuntimeWarning: Mean of empty slice\n",
      "  return np.nanmean(a, axis, out=out, keepdims=keepdims)\n",
      "/opt/conda/lib/python3.9/site-packages/numpy/lib/nanfunctions.py:1117: RuntimeWarning: Mean of empty slice\n",
      "  return np.nanmean(a, axis, out=out, keepdims=keepdims)\n",
      "/opt/conda/lib/python3.9/site-packages/numpy/lib/nanfunctions.py:1117: RuntimeWarning: Mean of empty slice\n",
      "  return np.nanmean(a, axis, out=out, keepdims=keepdims)\n",
      "/opt/conda/lib/python3.9/site-packages/numpy/lib/nanfunctions.py:1117: RuntimeWarning: Mean of empty slice\n",
      "  return np.nanmean(a, axis, out=out, keepdims=keepdims)\n",
      "/opt/conda/lib/python3.9/site-packages/numpy/lib/nanfunctions.py:1117: RuntimeWarning: Mean of empty slice\n",
      "  return np.nanmean(a, axis, out=out, keepdims=keepdims)\n",
      "/opt/conda/lib/python3.9/site-packages/numpy/lib/nanfunctions.py:1117: RuntimeWarning: Mean of empty slice\n",
      "  return np.nanmean(a, axis, out=out, keepdims=keepdims)\n",
      "/opt/conda/lib/python3.9/site-packages/numpy/lib/nanfunctions.py:1117: RuntimeWarning: Mean of empty slice\n",
      "  return np.nanmean(a, axis, out=out, keepdims=keepdims)\n",
      "/opt/conda/lib/python3.9/site-packages/numpy/lib/nanfunctions.py:1117: RuntimeWarning: Mean of empty slice\n",
      "  return np.nanmean(a, axis, out=out, keepdims=keepdims)\n",
      "/opt/conda/lib/python3.9/site-packages/numpy/lib/nanfunctions.py:1117: RuntimeWarning: Mean of empty slice\n",
      "  return np.nanmean(a, axis, out=out, keepdims=keepdims)\n",
      "/opt/conda/lib/python3.9/site-packages/numpy/lib/nanfunctions.py:1117: RuntimeWarning: Mean of empty slice\n",
      "  return np.nanmean(a, axis, out=out, keepdims=keepdims)\n",
      "/opt/conda/lib/python3.9/site-packages/numpy/lib/nanfunctions.py:1117: RuntimeWarning: Mean of empty slice\n",
      "  return np.nanmean(a, axis, out=out, keepdims=keepdims)\n",
      "/opt/conda/lib/python3.9/site-packages/numpy/lib/nanfunctions.py:1117: RuntimeWarning: Mean of empty slice\n",
      "  return np.nanmean(a, axis, out=out, keepdims=keepdims)\n",
      "/opt/conda/lib/python3.9/site-packages/numpy/lib/nanfunctions.py:1117: RuntimeWarning: Mean of empty slice\n",
      "  return np.nanmean(a, axis, out=out, keepdims=keepdims)\n",
      "/opt/conda/lib/python3.9/site-packages/numpy/lib/nanfunctions.py:1117: RuntimeWarning: Mean of empty slice\n",
      "  return np.nanmean(a, axis, out=out, keepdims=keepdims)\n",
      "/opt/conda/lib/python3.9/site-packages/numpy/lib/nanfunctions.py:1117: RuntimeWarning: Mean of empty slice\n",
      "  return np.nanmean(a, axis, out=out, keepdims=keepdims)\n",
      "/opt/conda/lib/python3.9/site-packages/numpy/lib/nanfunctions.py:1117: RuntimeWarning: Mean of empty slice\n",
      "  return np.nanmean(a, axis, out=out, keepdims=keepdims)\n",
      "/opt/conda/lib/python3.9/site-packages/numpy/lib/nanfunctions.py:1117: RuntimeWarning: Mean of empty slice\n",
      "  return np.nanmean(a, axis, out=out, keepdims=keepdims)\n",
      "/opt/conda/lib/python3.9/site-packages/numpy/lib/nanfunctions.py:1117: RuntimeWarning: Mean of empty slice\n",
      "  return np.nanmean(a, axis, out=out, keepdims=keepdims)\n",
      "/opt/conda/lib/python3.9/site-packages/numpy/lib/nanfunctions.py:1117: RuntimeWarning: Mean of empty slice\n",
      "  return np.nanmean(a, axis, out=out, keepdims=keepdims)\n",
      "/opt/conda/lib/python3.9/site-packages/numpy/lib/nanfunctions.py:1117: RuntimeWarning: Mean of empty slice\n",
      "  return np.nanmean(a, axis, out=out, keepdims=keepdims)\n",
      "/opt/conda/lib/python3.9/site-packages/numpy/lib/nanfunctions.py:1117: RuntimeWarning: Mean of empty slice\n",
      "  return np.nanmean(a, axis, out=out, keepdims=keepdims)\n",
      "/opt/conda/lib/python3.9/site-packages/numpy/lib/nanfunctions.py:1117: RuntimeWarning: Mean of empty slice\n",
      "  return np.nanmean(a, axis, out=out, keepdims=keepdims)\n",
      "/opt/conda/lib/python3.9/site-packages/numpy/lib/nanfunctions.py:1117: RuntimeWarning: Mean of empty slice\n",
      "  return np.nanmean(a, axis, out=out, keepdims=keepdims)\n",
      "/opt/conda/lib/python3.9/site-packages/numpy/lib/nanfunctions.py:1117: RuntimeWarning: Mean of empty slice\n",
      "  return np.nanmean(a, axis, out=out, keepdims=keepdims)\n",
      "/opt/conda/lib/python3.9/site-packages/numpy/lib/nanfunctions.py:1117: RuntimeWarning: Mean of empty slice\n",
      "  return np.nanmean(a, axis, out=out, keepdims=keepdims)\n",
      "/opt/conda/lib/python3.9/site-packages/numpy/lib/nanfunctions.py:1117: RuntimeWarning: Mean of empty slice\n",
      "  return np.nanmean(a, axis, out=out, keepdims=keepdims)\n",
      "/opt/conda/lib/python3.9/site-packages/numpy/lib/nanfunctions.py:1117: RuntimeWarning: Mean of empty slice\n",
      "  return np.nanmean(a, axis, out=out, keepdims=keepdims)\n",
      "/opt/conda/lib/python3.9/site-packages/numpy/lib/nanfunctions.py:1117: RuntimeWarning: Mean of empty slice\n",
      "  return np.nanmean(a, axis, out=out, keepdims=keepdims)\n",
      "/opt/conda/lib/python3.9/site-packages/numpy/lib/nanfunctions.py:1117: RuntimeWarning: Mean of empty slice\n",
      "  return np.nanmean(a, axis, out=out, keepdims=keepdims)\n",
      "/opt/conda/lib/python3.9/site-packages/numpy/lib/nanfunctions.py:1117: RuntimeWarning: Mean of empty slice\n",
      "  return np.nanmean(a, axis, out=out, keepdims=keepdims)\n",
      "/opt/conda/lib/python3.9/site-packages/numpy/lib/nanfunctions.py:1117: RuntimeWarning: Mean of empty slice\n",
      "  return np.nanmean(a, axis, out=out, keepdims=keepdims)\n",
      "/opt/conda/lib/python3.9/site-packages/numpy/lib/nanfunctions.py:1117: RuntimeWarning: Mean of empty slice\n",
      "  return np.nanmean(a, axis, out=out, keepdims=keepdims)\n",
      "/opt/conda/lib/python3.9/site-packages/numpy/lib/nanfunctions.py:1117: RuntimeWarning: Mean of empty slice\n",
      "  return np.nanmean(a, axis, out=out, keepdims=keepdims)\n",
      "/opt/conda/lib/python3.9/site-packages/numpy/lib/nanfunctions.py:1117: RuntimeWarning: Mean of empty slice\n",
      "  return np.nanmean(a, axis, out=out, keepdims=keepdims)\n",
      "/opt/conda/lib/python3.9/site-packages/numpy/lib/nanfunctions.py:1117: RuntimeWarning: Mean of empty slice\n",
      "  return np.nanmean(a, axis, out=out, keepdims=keepdims)\n",
      "/opt/conda/lib/python3.9/site-packages/numpy/lib/nanfunctions.py:1117: RuntimeWarning: Mean of empty slice\n",
      "  return np.nanmean(a, axis, out=out, keepdims=keepdims)\n",
      "/opt/conda/lib/python3.9/site-packages/numpy/lib/nanfunctions.py:1117: RuntimeWarning: Mean of empty slice\n",
      "  return np.nanmean(a, axis, out=out, keepdims=keepdims)\n",
      "/opt/conda/lib/python3.9/site-packages/numpy/lib/nanfunctions.py:1117: RuntimeWarning: Mean of empty slice\n",
      "  return np.nanmean(a, axis, out=out, keepdims=keepdims)\n",
      "/opt/conda/lib/python3.9/site-packages/numpy/lib/nanfunctions.py:1117: RuntimeWarning: Mean of empty slice\n",
      "  return np.nanmean(a, axis, out=out, keepdims=keepdims)\n",
      "/opt/conda/lib/python3.9/site-packages/numpy/lib/nanfunctions.py:1117: RuntimeWarning: Mean of empty slice\n",
      "  return np.nanmean(a, axis, out=out, keepdims=keepdims)\n",
      "/opt/conda/lib/python3.9/site-packages/numpy/lib/nanfunctions.py:1117: RuntimeWarning: Mean of empty slice\n",
      "  return np.nanmean(a, axis, out=out, keepdims=keepdims)\n",
      "/opt/conda/lib/python3.9/site-packages/numpy/lib/nanfunctions.py:1117: RuntimeWarning: Mean of empty slice\n",
      "  return np.nanmean(a, axis, out=out, keepdims=keepdims)\n",
      "/opt/conda/lib/python3.9/site-packages/numpy/lib/nanfunctions.py:1117: RuntimeWarning: Mean of empty slice\n",
      "  return np.nanmean(a, axis, out=out, keepdims=keepdims)\n",
      "/opt/conda/lib/python3.9/site-packages/numpy/lib/nanfunctions.py:1117: RuntimeWarning: Mean of empty slice\n",
      "  return np.nanmean(a, axis, out=out, keepdims=keepdims)\n",
      "/opt/conda/lib/python3.9/site-packages/numpy/lib/nanfunctions.py:1117: RuntimeWarning: Mean of empty slice\n",
      "  return np.nanmean(a, axis, out=out, keepdims=keepdims)\n",
      "/opt/conda/lib/python3.9/site-packages/numpy/lib/nanfunctions.py:1117: RuntimeWarning: Mean of empty slice\n",
      "  return np.nanmean(a, axis, out=out, keepdims=keepdims)\n",
      "/opt/conda/lib/python3.9/site-packages/numpy/lib/nanfunctions.py:1117: RuntimeWarning: Mean of empty slice\n",
      "  return np.nanmean(a, axis, out=out, keepdims=keepdims)\n",
      "/opt/conda/lib/python3.9/site-packages/numpy/lib/nanfunctions.py:1117: RuntimeWarning: Mean of empty slice\n",
      "  return np.nanmean(a, axis, out=out, keepdims=keepdims)\n",
      "/opt/conda/lib/python3.9/site-packages/numpy/lib/nanfunctions.py:1117: RuntimeWarning: Mean of empty slice\n",
      "  return np.nanmean(a, axis, out=out, keepdims=keepdims)\n",
      "/opt/conda/lib/python3.9/site-packages/numpy/lib/nanfunctions.py:1117: RuntimeWarning: Mean of empty slice\n",
      "  return np.nanmean(a, axis, out=out, keepdims=keepdims)\n",
      "/opt/conda/lib/python3.9/site-packages/numpy/lib/nanfunctions.py:1117: RuntimeWarning: Mean of empty slice\n",
      "  return np.nanmean(a, axis, out=out, keepdims=keepdims)\n",
      "/opt/conda/lib/python3.9/site-packages/numpy/lib/nanfunctions.py:1117: RuntimeWarning: Mean of empty slice\n",
      "  return np.nanmean(a, axis, out=out, keepdims=keepdims)\n",
      "/opt/conda/lib/python3.9/site-packages/numpy/lib/nanfunctions.py:1117: RuntimeWarning: Mean of empty slice\n",
      "  return np.nanmean(a, axis, out=out, keepdims=keepdims)\n",
      "/opt/conda/lib/python3.9/site-packages/numpy/lib/nanfunctions.py:1117: RuntimeWarning: Mean of empty slice\n",
      "  return np.nanmean(a, axis, out=out, keepdims=keepdims)\n",
      "/opt/conda/lib/python3.9/site-packages/numpy/lib/nanfunctions.py:1117: RuntimeWarning: Mean of empty slice\n",
      "  return np.nanmean(a, axis, out=out, keepdims=keepdims)\n",
      "/opt/conda/lib/python3.9/site-packages/numpy/lib/nanfunctions.py:1117: RuntimeWarning: Mean of empty slice\n",
      "  return np.nanmean(a, axis, out=out, keepdims=keepdims)\n",
      "/opt/conda/lib/python3.9/site-packages/numpy/lib/nanfunctions.py:1117: RuntimeWarning: Mean of empty slice\n",
      "  return np.nanmean(a, axis, out=out, keepdims=keepdims)\n",
      "/opt/conda/lib/python3.9/site-packages/numpy/lib/nanfunctions.py:1117: RuntimeWarning: Mean of empty slice\n",
      "  return np.nanmean(a, axis, out=out, keepdims=keepdims)\n"
     ]
    }
   ],
   "source": [
    "data['ceiling_height'] = (data.groupby(['locality_name', 'floors_total'])['ceiling_height']\n",
    "                          .apply(lambda x: x.fillna(x.median())))\n",
    "data['ceiling_height'].fillna(data['ceiling_height'].median(), inplace=True)\n",
    "warnings.filterwarnings('ignore')"
   ]
  },
  {
   "cell_type": "markdown",
   "metadata": {},
   "source": [
    "Если продавец не указал число балконов, то, скорее всего, в его квартире их нет."
   ]
  },
  {
   "cell_type": "code",
   "execution_count": 9,
   "metadata": {},
   "outputs": [],
   "source": [
    "data['balcony'] = data['balcony'].fillna(0)"
   ]
  },
  {
   "cell_type": "markdown",
   "metadata": {},
   "source": [
    "Отсутствующие значения в столбцах с картографическими данными заменим на среднее значение по населенному пункту. В данном случае, мне кажется, среднее значение будет лучше медианного, так как при неравномерном распределении квартир по площади населенного пункта, среднее значение будет ближе к реальному, особенно, если рассматриваемая квартира находится вдалеке от большинства других."
   ]
  },
  {
   "cell_type": "code",
   "execution_count": 10,
   "metadata": {},
   "outputs": [],
   "source": [
    "for t in data['locality_name'].unique():\n",
    "    data.loc[(data['locality_name'] == t) & (data['airports_nearest'].isna()), 'airports_nearest'] = \\\n",
    "    data.loc[(data['locality_name'] == t), 'airports_nearest'].mean()"
   ]
  },
  {
   "cell_type": "code",
   "execution_count": 11,
   "metadata": {},
   "outputs": [],
   "source": [
    "for t in data['locality_name'].unique():\n",
    "    data.loc[(data['locality_name'] == t) & (data['cityCenters_nearest'].isna()), 'cityCenters_nearest'] = \\\n",
    "    data.loc[(data['locality_name'] == t), 'cityCenters_nearest'].mean()"
   ]
  },
  {
   "cell_type": "code",
   "execution_count": 12,
   "metadata": {},
   "outputs": [],
   "source": [
    "for t in data['locality_name'].unique():\n",
    "    data.loc[(data['locality_name'] == t) & (data['parks_nearest'].isna()), 'parks_nearest'] = \\\n",
    "    data.loc[(data['locality_name'] == t), 'parks_nearest'].mean()"
   ]
  },
  {
   "cell_type": "code",
   "execution_count": 13,
   "metadata": {},
   "outputs": [],
   "source": [
    "for t in data['locality_name'].unique():\n",
    "    data.loc[(data['locality_name'] == t) & (data['ponds_nearest'].isna()), 'ponds_nearest'] = \\\n",
    "    data.loc[(data['locality_name'] == t), 'ponds_nearest'].mean()"
   ]
  },
  {
   "cell_type": "code",
   "execution_count": 14,
   "metadata": {},
   "outputs": [],
   "source": [
    "\n",
    "data['living_area'] = data['living_area'].fillna(data['total_area']-data['kitchen_area'])\n",
    "data['kitchen_area'] = data['kitchen_area'].fillna(data['total_area']-data['living_area'])"
   ]
  },
  {
   "cell_type": "markdown",
   "metadata": {},
   "source": [
    "Поиск аномальных значений."
   ]
  },
  {
   "cell_type": "code",
   "execution_count": 15,
   "metadata": {
    "scrolled": false
   },
   "outputs": [
    {
     "data": {
      "text/html": [
       "<div>\n",
       "<style scoped>\n",
       "    .dataframe tbody tr th:only-of-type {\n",
       "        vertical-align: middle;\n",
       "    }\n",
       "\n",
       "    .dataframe tbody tr th {\n",
       "        vertical-align: top;\n",
       "    }\n",
       "\n",
       "    .dataframe thead th {\n",
       "        text-align: right;\n",
       "    }\n",
       "</style>\n",
       "<table border=\"1\" class=\"dataframe\">\n",
       "  <thead>\n",
       "    <tr style=\"text-align: right;\">\n",
       "      <th></th>\n",
       "      <th>total_images</th>\n",
       "      <th>last_price</th>\n",
       "      <th>total_area</th>\n",
       "      <th>rooms</th>\n",
       "      <th>ceiling_height</th>\n",
       "      <th>floors_total</th>\n",
       "      <th>living_area</th>\n",
       "      <th>floor</th>\n",
       "      <th>kitchen_area</th>\n",
       "      <th>balcony</th>\n",
       "      <th>airports_nearest</th>\n",
       "      <th>cityCenters_nearest</th>\n",
       "      <th>parks_around3000</th>\n",
       "      <th>parks_nearest</th>\n",
       "      <th>ponds_around3000</th>\n",
       "      <th>ponds_nearest</th>\n",
       "      <th>days_exposition</th>\n",
       "    </tr>\n",
       "  </thead>\n",
       "  <tbody>\n",
       "    <tr>\n",
       "      <th>count</th>\n",
       "      <td>20394.000000</td>\n",
       "      <td>2.039400e+04</td>\n",
       "      <td>20394.000000</td>\n",
       "      <td>20394.000000</td>\n",
       "      <td>20394.00000</td>\n",
       "      <td>20394.000000</td>\n",
       "      <td>19075.000000</td>\n",
       "      <td>20394.000000</td>\n",
       "      <td>19075.000000</td>\n",
       "      <td>20394.000000</td>\n",
       "      <td>15789.000000</td>\n",
       "      <td>15789.000000</td>\n",
       "      <td>15757.000000</td>\n",
       "      <td>15279.000000</td>\n",
       "      <td>15757.000000</td>\n",
       "      <td>15712.000000</td>\n",
       "      <td>20394.000000</td>\n",
       "    </tr>\n",
       "    <tr>\n",
       "      <th>mean</th>\n",
       "      <td>9.631362</td>\n",
       "      <td>6.263722e+06</td>\n",
       "      <td>58.834265</td>\n",
       "      <td>2.024370</td>\n",
       "      <td>2.72852</td>\n",
       "      <td>10.863293</td>\n",
       "      <td>33.903861</td>\n",
       "      <td>5.973767</td>\n",
       "      <td>10.693782</td>\n",
       "      <td>0.594440</td>\n",
       "      <td>28841.010724</td>\n",
       "      <td>14298.019324</td>\n",
       "      <td>0.600558</td>\n",
       "      <td>492.525313</td>\n",
       "      <td>0.759853</td>\n",
       "      <td>523.223012</td>\n",
       "      <td>180.741395</td>\n",
       "    </tr>\n",
       "    <tr>\n",
       "      <th>std</th>\n",
       "      <td>5.658712</td>\n",
       "      <td>1.088858e+07</td>\n",
       "      <td>34.066200</td>\n",
       "      <td>1.055162</td>\n",
       "      <td>0.99195</td>\n",
       "      <td>6.649703</td>\n",
       "      <td>21.924351</td>\n",
       "      <td>4.931607</td>\n",
       "      <td>6.569166</td>\n",
       "      <td>0.950411</td>\n",
       "      <td>12693.718469</td>\n",
       "      <td>8567.928124</td>\n",
       "      <td>0.797699</td>\n",
       "      <td>232.042925</td>\n",
       "      <td>0.932315</td>\n",
       "      <td>196.398706</td>\n",
       "      <td>219.732782</td>\n",
       "    </tr>\n",
       "    <tr>\n",
       "      <th>min</th>\n",
       "      <td>0.000000</td>\n",
       "      <td>1.219000e+04</td>\n",
       "      <td>12.000000</td>\n",
       "      <td>0.000000</td>\n",
       "      <td>1.00000</td>\n",
       "      <td>1.000000</td>\n",
       "      <td>2.000000</td>\n",
       "      <td>1.000000</td>\n",
       "      <td>0.000000</td>\n",
       "      <td>0.000000</td>\n",
       "      <td>0.000000</td>\n",
       "      <td>208.000000</td>\n",
       "      <td>0.000000</td>\n",
       "      <td>1.000000</td>\n",
       "      <td>0.000000</td>\n",
       "      <td>13.000000</td>\n",
       "      <td>1.000000</td>\n",
       "    </tr>\n",
       "    <tr>\n",
       "      <th>25%</th>\n",
       "      <td>6.000000</td>\n",
       "      <td>3.400000e+06</td>\n",
       "      <td>39.500000</td>\n",
       "      <td>1.000000</td>\n",
       "      <td>2.55000</td>\n",
       "      <td>5.000000</td>\n",
       "      <td>18.400000</td>\n",
       "      <td>2.000000</td>\n",
       "      <td>7.000000</td>\n",
       "      <td>0.000000</td>\n",
       "      <td>18498.000000</td>\n",
       "      <td>9488.000000</td>\n",
       "      <td>0.000000</td>\n",
       "      <td>451.000000</td>\n",
       "      <td>0.000000</td>\n",
       "      <td>485.000000</td>\n",
       "      <td>45.000000</td>\n",
       "    </tr>\n",
       "    <tr>\n",
       "      <th>50%</th>\n",
       "      <td>9.000000</td>\n",
       "      <td>4.500000e+06</td>\n",
       "      <td>50.800000</td>\n",
       "      <td>2.000000</td>\n",
       "      <td>2.65000</td>\n",
       "      <td>9.000000</td>\n",
       "      <td>30.000000</td>\n",
       "      <td>4.000000</td>\n",
       "      <td>9.200000</td>\n",
       "      <td>0.000000</td>\n",
       "      <td>26856.000000</td>\n",
       "      <td>13151.000000</td>\n",
       "      <td>0.000000</td>\n",
       "      <td>499.064751</td>\n",
       "      <td>0.000000</td>\n",
       "      <td>523.191110</td>\n",
       "      <td>95.000000</td>\n",
       "    </tr>\n",
       "    <tr>\n",
       "      <th>75%</th>\n",
       "      <td>14.000000</td>\n",
       "      <td>6.500000e+06</td>\n",
       "      <td>67.800000</td>\n",
       "      <td>3.000000</td>\n",
       "      <td>2.75000</td>\n",
       "      <td>16.000000</td>\n",
       "      <td>42.000000</td>\n",
       "      <td>8.000000</td>\n",
       "      <td>12.000000</td>\n",
       "      <td>1.000000</td>\n",
       "      <td>37407.000000</td>\n",
       "      <td>16364.000000</td>\n",
       "      <td>1.000000</td>\n",
       "      <td>499.064751</td>\n",
       "      <td>1.000000</td>\n",
       "      <td>564.000000</td>\n",
       "      <td>231.000000</td>\n",
       "    </tr>\n",
       "    <tr>\n",
       "      <th>max</th>\n",
       "      <td>50.000000</td>\n",
       "      <td>7.630000e+08</td>\n",
       "      <td>900.000000</td>\n",
       "      <td>19.000000</td>\n",
       "      <td>100.00000</td>\n",
       "      <td>60.000000</td>\n",
       "      <td>460.000000</td>\n",
       "      <td>33.000000</td>\n",
       "      <td>230.000000</td>\n",
       "      <td>5.000000</td>\n",
       "      <td>84869.000000</td>\n",
       "      <td>65968.000000</td>\n",
       "      <td>3.000000</td>\n",
       "      <td>3190.000000</td>\n",
       "      <td>3.000000</td>\n",
       "      <td>1344.000000</td>\n",
       "      <td>1580.000000</td>\n",
       "    </tr>\n",
       "  </tbody>\n",
       "</table>\n",
       "</div>"
      ],
      "text/plain": [
       "       total_images    last_price    total_area         rooms  ceiling_height  \\\n",
       "count  20394.000000  2.039400e+04  20394.000000  20394.000000     20394.00000   \n",
       "mean       9.631362  6.263722e+06     58.834265      2.024370         2.72852   \n",
       "std        5.658712  1.088858e+07     34.066200      1.055162         0.99195   \n",
       "min        0.000000  1.219000e+04     12.000000      0.000000         1.00000   \n",
       "25%        6.000000  3.400000e+06     39.500000      1.000000         2.55000   \n",
       "50%        9.000000  4.500000e+06     50.800000      2.000000         2.65000   \n",
       "75%       14.000000  6.500000e+06     67.800000      3.000000         2.75000   \n",
       "max       50.000000  7.630000e+08    900.000000     19.000000       100.00000   \n",
       "\n",
       "       floors_total   living_area         floor  kitchen_area       balcony  \\\n",
       "count  20394.000000  19075.000000  20394.000000  19075.000000  20394.000000   \n",
       "mean      10.863293     33.903861      5.973767     10.693782      0.594440   \n",
       "std        6.649703     21.924351      4.931607      6.569166      0.950411   \n",
       "min        1.000000      2.000000      1.000000      0.000000      0.000000   \n",
       "25%        5.000000     18.400000      2.000000      7.000000      0.000000   \n",
       "50%        9.000000     30.000000      4.000000      9.200000      0.000000   \n",
       "75%       16.000000     42.000000      8.000000     12.000000      1.000000   \n",
       "max       60.000000    460.000000     33.000000    230.000000      5.000000   \n",
       "\n",
       "       airports_nearest  cityCenters_nearest  parks_around3000  parks_nearest  \\\n",
       "count      15789.000000         15789.000000      15757.000000   15279.000000   \n",
       "mean       28841.010724         14298.019324          0.600558     492.525313   \n",
       "std        12693.718469          8567.928124          0.797699     232.042925   \n",
       "min            0.000000           208.000000          0.000000       1.000000   \n",
       "25%        18498.000000          9488.000000          0.000000     451.000000   \n",
       "50%        26856.000000         13151.000000          0.000000     499.064751   \n",
       "75%        37407.000000         16364.000000          1.000000     499.064751   \n",
       "max        84869.000000         65968.000000          3.000000    3190.000000   \n",
       "\n",
       "       ponds_around3000  ponds_nearest  days_exposition  \n",
       "count      15757.000000   15712.000000     20394.000000  \n",
       "mean           0.759853     523.223012       180.741395  \n",
       "std            0.932315     196.398706       219.732782  \n",
       "min            0.000000      13.000000         1.000000  \n",
       "25%            0.000000     485.000000        45.000000  \n",
       "50%            0.000000     523.191110        95.000000  \n",
       "75%            1.000000     564.000000       231.000000  \n",
       "max            3.000000    1344.000000      1580.000000  "
      ]
     },
     "execution_count": 15,
     "metadata": {},
     "output_type": "execute_result"
    }
   ],
   "source": [
    "data.describe()"
   ]
  },
  {
   "cell_type": "markdown",
   "metadata": {},
   "source": [
    "Максимальная высота потолков 100 метров, а минимальная 1 метр - что-то здесь не чисто, надо изучить поподробнее. В России минимальная высота потолков 2.4 метра.\n",
    "Минимальное количество комнат 0 - такого не может быть (ну хоть одна)\n",
    "Минимальная жилая площадь 2 кв.метра - тоже что-то напутали\n",
    "Минимальное расстояние до аэропорта 0 - хорошо конечно, но все же"
   ]
  },
  {
   "cell_type": "code",
   "execution_count": 16,
   "metadata": {
    "scrolled": false
   },
   "outputs": [
    {
     "data": {
      "text/plain": [
       "<AxesSubplot:>"
      ]
     },
     "execution_count": 16,
     "metadata": {},
     "output_type": "execute_result"
    },
    {
     "data": {
      "image/png": "[encoded data removed]",
      "text/plain": [
       "<Figure size 432x288 with 1 Axes>"
      ]
     },
     "metadata": {
      "needs_background": "light"
     },
     "output_type": "display_data"
    }
   ],
   "source": [
    "data.query('rooms == 0').boxplot(column='living_area')"
   ]
  },
  {
   "cell_type": "markdown",
   "metadata": {},
   "source": [
    "Кол-во комнат равное 0 встречается в основном в квартирах с маленький жилой площадью, поэтому скорее всего в таких квартирах всего одна комната."
   ]
  },
  {
   "cell_type": "code",
   "execution_count": 17,
   "metadata": {},
   "outputs": [
    {
     "data": {
      "text/plain": [
       "0"
      ]
     },
     "execution_count": 17,
     "metadata": {},
     "output_type": "execute_result"
    }
   ],
   "source": [
    "data['rooms'] = data['rooms'].replace(0,1)\n",
    "data.loc[data['rooms'] == 0]['rooms'].count()"
   ]
  },
  {
   "cell_type": "code",
   "execution_count": 18,
   "metadata": {},
   "outputs": [
    {
     "data": {
      "image/png": "[encoded data removed]",
      "text/plain": [
       "<Figure size 432x288 with 1 Axes>"
      ]
     },
     "metadata": {
      "needs_background": "light"
     },
     "output_type": "display_data"
    }
   ],
   "source": [
    "data.hist(column='airports_nearest', bins=50, range =(0,10000))\n",
    "plt.show();"
   ]
  },
  {
   "cell_type": "markdown",
   "metadata": {},
   "source": [
    "Маленькое расстояние до аэропорта - ошибка. Значения до 6000 в целом осутствуют."
   ]
  },
  {
   "cell_type": "markdown",
   "metadata": {},
   "source": [
    "На всякий случай изучим строку с общей площадью квартиры 900 кв. метров. Строка выглядит правдоподобно. Кому-то очень повезло."
   ]
  },
  {
   "cell_type": "code",
   "execution_count": 19,
   "metadata": {},
   "outputs": [
    {
     "data": {
      "text/html": [
       "<div>\n",
       "<style scoped>\n",
       "    .dataframe tbody tr th:only-of-type {\n",
       "        vertical-align: middle;\n",
       "    }\n",
       "\n",
       "    .dataframe tbody tr th {\n",
       "        vertical-align: top;\n",
       "    }\n",
       "\n",
       "    .dataframe thead th {\n",
       "        text-align: right;\n",
       "    }\n",
       "</style>\n",
       "<table border=\"1\" class=\"dataframe\">\n",
       "  <thead>\n",
       "    <tr style=\"text-align: right;\">\n",
       "      <th></th>\n",
       "      <th>total_images</th>\n",
       "      <th>last_price</th>\n",
       "      <th>total_area</th>\n",
       "      <th>first_day_exposition</th>\n",
       "      <th>rooms</th>\n",
       "      <th>ceiling_height</th>\n",
       "      <th>floors_total</th>\n",
       "      <th>living_area</th>\n",
       "      <th>floor</th>\n",
       "      <th>is_apartment</th>\n",
       "      <th>...</th>\n",
       "      <th>kitchen_area</th>\n",
       "      <th>balcony</th>\n",
       "      <th>locality_name</th>\n",
       "      <th>airports_nearest</th>\n",
       "      <th>cityCenters_nearest</th>\n",
       "      <th>parks_around3000</th>\n",
       "      <th>parks_nearest</th>\n",
       "      <th>ponds_around3000</th>\n",
       "      <th>ponds_nearest</th>\n",
       "      <th>days_exposition</th>\n",
       "    </tr>\n",
       "  </thead>\n",
       "  <tbody>\n",
       "    <tr>\n",
       "      <th>16839</th>\n",
       "      <td>8</td>\n",
       "      <td>420000000.0</td>\n",
       "      <td>900.0</td>\n",
       "      <td>2017-12-06T00:00:00</td>\n",
       "      <td>12</td>\n",
       "      <td>2.8</td>\n",
       "      <td>25.0</td>\n",
       "      <td>409.7</td>\n",
       "      <td>25</td>\n",
       "      <td>NaN</td>\n",
       "      <td>...</td>\n",
       "      <td>112.0</td>\n",
       "      <td>0.0</td>\n",
       "      <td>Санкт-Петербург</td>\n",
       "      <td>30706.0</td>\n",
       "      <td>7877.0</td>\n",
       "      <td>0.0</td>\n",
       "      <td>499.064751</td>\n",
       "      <td>2.0</td>\n",
       "      <td>318.0</td>\n",
       "      <td>106.0</td>\n",
       "    </tr>\n",
       "  </tbody>\n",
       "</table>\n",
       "<p>1 rows × 22 columns</p>\n",
       "</div>"
      ],
      "text/plain": [
       "       total_images   last_price  total_area first_day_exposition  rooms  \\\n",
       "16839             8  420000000.0       900.0  2017-12-06T00:00:00     12   \n",
       "\n",
       "       ceiling_height  floors_total  living_area  floor is_apartment  ...  \\\n",
       "16839             2.8          25.0        409.7     25          NaN  ...   \n",
       "\n",
       "       kitchen_area  balcony    locality_name  airports_nearest  \\\n",
       "16839         112.0      0.0  Санкт-Петербург           30706.0   \n",
       "\n",
       "      cityCenters_nearest  parks_around3000  parks_nearest  ponds_around3000  \\\n",
       "16839              7877.0               0.0     499.064751               2.0   \n",
       "\n",
       "       ponds_nearest  days_exposition  \n",
       "16839          318.0            106.0  \n",
       "\n",
       "[1 rows x 22 columns]"
      ]
     },
     "execution_count": 19,
     "metadata": {},
     "output_type": "execute_result"
    }
   ],
   "source": [
    "data.query('total_area == 900')"
   ]
  },
  {
   "cell_type": "markdown",
   "metadata": {},
   "source": [
    "Избавляемся от неправдоподобно больших значений высоты потолков. Разделим на 10, так как скорее всего проддавец ошибся при введении данных."
   ]
  },
  {
   "cell_type": "code",
   "execution_count": 20,
   "metadata": {},
   "outputs": [
    {
     "data": {
      "text/plain": [
       "array([  2.65 ,   2.6  ,   3.03 ,   2.625,   2.5  ,   2.67 ,   2.545,\n",
       "         2.55 ,   2.56 ,   2.7  ,   3.05 ,   2.75 ,   3.   ,   2.9  ,\n",
       "         2.8  ,   3.2  ,   2.52 ,   3.19 ,   3.25 ,   3.45 ,   2.77 ,\n",
       "         2.85 ,   2.64 ,   2.57 ,   4.15 ,   3.5  ,   3.3  ,   2.47 ,\n",
       "         2.73 ,   2.84 ,   3.1  ,   2.34 ,   2.755,   3.4  ,   2.725,\n",
       "         3.06 ,   2.72 ,   2.54 ,   2.51 ,   2.78 ,   2.65 ,   2.76 ,\n",
       "        25.   ,   2.58 ,   3.7  ,  27.   ,   2.59 ,   5.2  ,   2.575,\n",
       "         2.745,   2.87 ,   2.66 ,   2.   ,   2.775,   2.525,   2.92 ,\n",
       "         3.11 ,   3.13 ,   2.735,   2.675,   3.8  ,   3.15 ,   3.6  ,\n",
       "         3.55 ,   3.16 ,   3.12 ,   2.53 ,   2.74 ,   2.96 ,   2.46 ,\n",
       "         2.595,   5.   ,   2.45 ,   2.79 ,   4.   ,   2.95 ,   4.06 ,\n",
       "         3.82 ,   3.53 ,   2.83 ,   4.7  ,   3.38 ,   5.6  ,   3.65 ,\n",
       "         3.9  ,   2.71 ,   3.35 ,   2.3  ,   3.01 ,   2.48 ,   2.62 ,\n",
       "         3.57 ,   2.82 ,   3.98 ,   2.63 ,   3.83 ,   3.95 ,   2.4  ,\n",
       "         2.88 ,   3.87 ,   3.66 ,   3.85 ,   3.86 ,   4.19 ,   3.24 ,\n",
       "         4.8  ,   4.2  ,   3.75 ,   4.5  ,   3.08 ,   2.825,   3.68 ,\n",
       "         8.   ,   3.325,   2.94 ,   3.26 ,   3.34 ,   2.775,   2.81 ,\n",
       "         3.07 ,   2.555,   3.44 ,   2.97 ,   4.37 ,   2.68 ,   2.6  ,\n",
       "         3.22 ,   3.27 ,   3.52 ,   4.1  ,   2.93 ,   3.46 ,  24.   ,\n",
       "         2.785,   3.47 ,   3.33 ,   3.63 ,   3.32 ,  26.   ,   1.2  ,\n",
       "         3.18 ,   8.3  ,   2.98 ,   2.86 ,   3.17 ,   4.4  ,   3.67 ,\n",
       "         3.04 ,   4.45 ,   3.84 ,   3.09 ,   3.28 ,   3.02 ,   3.36 ,\n",
       "         3.21 ,   3.43 ,   3.23 ,   3.54 ,   2.61 ,   2.875,   3.39 ,\n",
       "         2.69 ,   4.65 ,   5.3  ,   3.56 ,   2.2  ,   2.615,   3.51 ,\n",
       "         3.93 ,   3.42 ,   2.99 ,   3.49 ,  14.   ,   4.14 ,   3.14 ,\n",
       "         3.78 ,   3.31 ,   3.88 ,   1.75 ,   4.25 ,   3.29 ,   2.25 ,\n",
       "         3.37 ,   3.76 ,   6.   ,  22.6  ,   2.89 ,   2.9  ,   5.8  ,\n",
       "        27.5  ,   2.49 ,   4.9  ,   3.48 ,  10.3  ,   1.   , 100.   ,\n",
       "         3.59 ,   2.91 ])"
      ]
     },
     "execution_count": 20,
     "metadata": {},
     "output_type": "execute_result"
    }
   ],
   "source": [
    "data['ceiling_height'].unique()"
   ]
  },
  {
   "cell_type": "code",
   "execution_count": 21,
   "metadata": {},
   "outputs": [],
   "source": [
    "data['ceiling_height'] = data['ceiling_height'].apply(lambda x: x/10 if x>20 else x)"
   ]
  },
  {
   "cell_type": "markdown",
   "metadata": {},
   "source": [
    "Очистка даннных от аномальных значений"
   ]
  },
  {
   "cell_type": "code",
   "execution_count": 22,
   "metadata": {},
   "outputs": [],
   "source": [
    "data = data.query('living_area>8 and ceiling_height > 2.4 and ~(airports_nearest==0)')"
   ]
  },
  {
   "cell_type": "markdown",
   "metadata": {},
   "source": [
    "Приведение значений столбца \"Апартаменты\" к булевому типу"
   ]
  },
  {
   "cell_type": "code",
   "execution_count": 23,
   "metadata": {},
   "outputs": [],
   "source": [
    "try:\n",
    "    data['is_apartment'] = data['is_apartment'].astype(bool)\n",
    "except:\n",
    "    pass"
   ]
  },
  {
   "cell_type": "markdown",
   "metadata": {},
   "source": [
    "Проверяем если в данных явные дубликаты:"
   ]
  },
  {
   "cell_type": "code",
   "execution_count": 24,
   "metadata": {
    "scrolled": true
   },
   "outputs": [
    {
     "data": {
      "text/plain": [
       "0"
      ]
     },
     "execution_count": 24,
     "metadata": {},
     "output_type": "execute_result"
    }
   ],
   "source": [
    "data.duplicated().sum()"
   ]
  },
  {
   "cell_type": "markdown",
   "metadata": {},
   "source": [
    "Смотрим на результат очистки даннных от пропущенных значений:"
   ]
  },
  {
   "cell_type": "code",
   "execution_count": 25,
   "metadata": {},
   "outputs": [
    {
     "data": {
      "text/html": [
       "<style  type=\"text/css\" >\n",
       "#T_53865_row0_col0,#T_53865_row1_col0,#T_53865_row2_col0,#T_53865_row3_col0,#T_53865_row4_col0,#T_53865_row5_col0,#T_53865_row6_col0,#T_53865_row7_col0,#T_53865_row8_col0,#T_53865_row9_col0,#T_53865_row10_col0,#T_53865_row11_col0,#T_53865_row12_col0,#T_53865_row13_col0,#T_53865_row14_col0,#T_53865_row21_col0{\n",
       "            background-color:  #3b4cc0;\n",
       "            color:  #f1f1f1;\n",
       "        }#T_53865_row15_col0,#T_53865_row16_col0{\n",
       "            background-color:  #d75445;\n",
       "            color:  #000000;\n",
       "        }#T_53865_row17_col0,#T_53865_row19_col0{\n",
       "            background-color:  #d55042;\n",
       "            color:  #000000;\n",
       "        }#T_53865_row18_col0{\n",
       "            background-color:  #b40426;\n",
       "            color:  #f1f1f1;\n",
       "        }#T_53865_row20_col0{\n",
       "            background-color:  #d24b40;\n",
       "            color:  #f1f1f1;\n",
       "        }</style><table id=\"T_53865_\" ><thead>    <tr>        <th class=\"blank level0\" ></th>        <th class=\"col_heading level0 col0\" >0</th>    </tr></thead><tbody>\n",
       "                <tr>\n",
       "                        <th id=\"T_53865_level0_row0\" class=\"row_heading level0 row0\" >total_images</th>\n",
       "                        <td id=\"T_53865_row0_col0\" class=\"data row0 col0\" >0.000000</td>\n",
       "            </tr>\n",
       "            <tr>\n",
       "                        <th id=\"T_53865_level0_row1\" class=\"row_heading level0 row1\" >last_price</th>\n",
       "                        <td id=\"T_53865_row1_col0\" class=\"data row1 col0\" >0.000000</td>\n",
       "            </tr>\n",
       "            <tr>\n",
       "                        <th id=\"T_53865_level0_row2\" class=\"row_heading level0 row2\" >total_area</th>\n",
       "                        <td id=\"T_53865_row2_col0\" class=\"data row2 col0\" >0.000000</td>\n",
       "            </tr>\n",
       "            <tr>\n",
       "                        <th id=\"T_53865_level0_row3\" class=\"row_heading level0 row3\" >first_day_exposition</th>\n",
       "                        <td id=\"T_53865_row3_col0\" class=\"data row3 col0\" >0.000000</td>\n",
       "            </tr>\n",
       "            <tr>\n",
       "                        <th id=\"T_53865_level0_row4\" class=\"row_heading level0 row4\" >rooms</th>\n",
       "                        <td id=\"T_53865_row4_col0\" class=\"data row4 col0\" >0.000000</td>\n",
       "            </tr>\n",
       "            <tr>\n",
       "                        <th id=\"T_53865_level0_row5\" class=\"row_heading level0 row5\" >ceiling_height</th>\n",
       "                        <td id=\"T_53865_row5_col0\" class=\"data row5 col0\" >0.000000</td>\n",
       "            </tr>\n",
       "            <tr>\n",
       "                        <th id=\"T_53865_level0_row6\" class=\"row_heading level0 row6\" >floors_total</th>\n",
       "                        <td id=\"T_53865_row6_col0\" class=\"data row6 col0\" >0.000000</td>\n",
       "            </tr>\n",
       "            <tr>\n",
       "                        <th id=\"T_53865_level0_row7\" class=\"row_heading level0 row7\" >living_area</th>\n",
       "                        <td id=\"T_53865_row7_col0\" class=\"data row7 col0\" >0.000000</td>\n",
       "            </tr>\n",
       "            <tr>\n",
       "                        <th id=\"T_53865_level0_row8\" class=\"row_heading level0 row8\" >floor</th>\n",
       "                        <td id=\"T_53865_row8_col0\" class=\"data row8 col0\" >0.000000</td>\n",
       "            </tr>\n",
       "            <tr>\n",
       "                        <th id=\"T_53865_level0_row9\" class=\"row_heading level0 row9\" >is_apartment</th>\n",
       "                        <td id=\"T_53865_row9_col0\" class=\"data row9 col0\" >0.000000</td>\n",
       "            </tr>\n",
       "            <tr>\n",
       "                        <th id=\"T_53865_level0_row10\" class=\"row_heading level0 row10\" >studio</th>\n",
       "                        <td id=\"T_53865_row10_col0\" class=\"data row10 col0\" >0.000000</td>\n",
       "            </tr>\n",
       "            <tr>\n",
       "                        <th id=\"T_53865_level0_row11\" class=\"row_heading level0 row11\" >open_plan</th>\n",
       "                        <td id=\"T_53865_row11_col0\" class=\"data row11 col0\" >0.000000</td>\n",
       "            </tr>\n",
       "            <tr>\n",
       "                        <th id=\"T_53865_level0_row12\" class=\"row_heading level0 row12\" >kitchen_area</th>\n",
       "                        <td id=\"T_53865_row12_col0\" class=\"data row12 col0\" >0.000000</td>\n",
       "            </tr>\n",
       "            <tr>\n",
       "                        <th id=\"T_53865_level0_row13\" class=\"row_heading level0 row13\" >balcony</th>\n",
       "                        <td id=\"T_53865_row13_col0\" class=\"data row13 col0\" >0.000000</td>\n",
       "            </tr>\n",
       "            <tr>\n",
       "                        <th id=\"T_53865_level0_row14\" class=\"row_heading level0 row14\" >locality_name</th>\n",
       "                        <td id=\"T_53865_row14_col0\" class=\"data row14 col0\" >0.000000</td>\n",
       "            </tr>\n",
       "            <tr>\n",
       "                        <th id=\"T_53865_level0_row15\" class=\"row_heading level0 row15\" >airports_nearest</th>\n",
       "                        <td id=\"T_53865_row15_col0\" class=\"data row15 col0\" >21.856114</td>\n",
       "            </tr>\n",
       "            <tr>\n",
       "                        <th id=\"T_53865_level0_row16\" class=\"row_heading level0 row16\" >cityCenters_nearest</th>\n",
       "                        <td id=\"T_53865_row16_col0\" class=\"data row16 col0\" >21.856114</td>\n",
       "            </tr>\n",
       "            <tr>\n",
       "                        <th id=\"T_53865_level0_row17\" class=\"row_heading level0 row17\" >parks_around3000</th>\n",
       "                        <td id=\"T_53865_row17_col0\" class=\"data row17 col0\" >22.003258</td>\n",
       "            </tr>\n",
       "            <tr>\n",
       "                        <th id=\"T_53865_level0_row18\" class=\"row_heading level0 row18\" >parks_nearest</th>\n",
       "                        <td id=\"T_53865_row18_col0\" class=\"data row18 col0\" >24.331284</td>\n",
       "            </tr>\n",
       "            <tr>\n",
       "                        <th id=\"T_53865_level0_row19\" class=\"row_heading level0 row19\" >ponds_around3000</th>\n",
       "                        <td id=\"T_53865_row19_col0\" class=\"data row19 col0\" >22.003258</td>\n",
       "            </tr>\n",
       "            <tr>\n",
       "                        <th id=\"T_53865_level0_row20\" class=\"row_heading level0 row20\" >ponds_nearest</th>\n",
       "                        <td id=\"T_53865_row20_col0\" class=\"data row20 col0\" >22.229229</td>\n",
       "            </tr>\n",
       "            <tr>\n",
       "                        <th id=\"T_53865_level0_row21\" class=\"row_heading level0 row21\" >days_exposition</th>\n",
       "                        <td id=\"T_53865_row21_col0\" class=\"data row21 col0\" >0.000000</td>\n",
       "            </tr>\n",
       "    </tbody></table>"
      ],
      "text/plain": [
       "<pandas.io.formats.style.Styler at 0x7f2ea13c4220>"
      ]
     },
     "execution_count": 25,
     "metadata": {},
     "output_type": "execute_result"
    }
   ],
   "source": [
    "pd.DataFrame(data.isna().mean()*100).style.background_gradient('coolwarm')"
   ]
  },
  {
   "cell_type": "markdown",
   "metadata": {},
   "source": [
    "Пустые значения остались в столбцах с картографическими данными. Их количество уменьшилось, но заполнить все пропуски не представляется возможным, так как не хватает такого типа данных по населенным пунктам."
   ]
  },
  {
   "cell_type": "markdown",
   "metadata": {},
   "source": [
    "Изменение типа данных в столбцах в соответствии с пунктом 1.1"
   ]
  },
  {
   "cell_type": "code",
   "execution_count": 26,
   "metadata": {
    "scrolled": false
   },
   "outputs": [
    {
     "data": {
      "text/plain": [
       "total_images                     int64\n",
       "last_price                     float64\n",
       "total_area                     float64\n",
       "first_day_exposition    datetime64[ns]\n",
       "rooms                            int64\n",
       "ceiling_height                 float64\n",
       "floors_total                     int64\n",
       "living_area                    float64\n",
       "floor                            int64\n",
       "is_apartment                      bool\n",
       "studio                            bool\n",
       "open_plan                         bool\n",
       "kitchen_area                   float64\n",
       "balcony                          int64\n",
       "locality_name                   object\n",
       "airports_nearest               float64\n",
       "cityCenters_nearest            float64\n",
       "parks_around3000               float64\n",
       "parks_nearest                  float64\n",
       "ponds_around3000               float64\n",
       "ponds_nearest                  float64\n",
       "days_exposition                  int64\n",
       "dtype: object"
      ]
     },
     "execution_count": 26,
     "metadata": {},
     "output_type": "execute_result"
    }
   ],
   "source": [
    "\n",
    "try:\n",
    "    data['floors_total'] = data['floors_total'].astype(int)\n",
    "except:\n",
    "    pass\n",
    "try:\n",
    "    data['ponds_around3000'] = data['ponds_around3000'].astype(int)\n",
    "except:\n",
    "    pass\n",
    "try:\n",
    "    data['days_exposition'] = data['days_exposition'].astype(int)\n",
    "except:\n",
    "    pass\n",
    "\n",
    "try:\n",
    "    data['parks_around3000'] = data['parks_around3000'].astype(int)\n",
    "except:\n",
    "    pass\n",
    "\n",
    "try:\n",
    "    data['balcony'] = data['balcony'].astype(int)\n",
    "except:\n",
    "    pass\n",
    "\n",
    "data['first_day_exposition'] = pd.to_datetime(data['first_day_exposition'], format='%Y-%m-%dT%H:%M:%S')\n",
    "data.dtypes"
   ]
  },
  {
   "cell_type": "markdown",
   "metadata": {},
   "source": [
    "#### Вывод\n",
    "\n",
    "На первом и втором этапах было проанализировано качество исходных данных. Данные представляют собой архив объявлений за несколько лет о продаже квартир в Санкт-Петербурге и соседних населённых пунктах. \n",
    "Процесс предобработки данных включал удаление пропусков, поиск неявных дубликатов, приобразование типов столбцов.\n",
    "+ Пропуски были удалены в столбцах ceiling_height, floors_total, living_area, kitchen_area, balcony, locality_name, days_exposition.\n",
    "+ Пропуски в столбцах с картографическими данными (airports_nearest, cityCenters_nearest, parks_around3000, parks_nearest, ponds_around3000, ponds_nearest) заполнены насколько это возможно. Заполнить все пропуски не представляется возможным, так как не хватает такого типа данных по населенным пунктам.\n",
    "+ В столбце с данными о населенных пунктах был проведен поиск неявных дубликов и затем они были ликвидированы\n",
    "+ Столбцы floors_total, parks_around3000, balcony, ponds_around3000, days_exposition  были приведены к целочисленным\n",
    "+ Столбец first_day_exposition переведен в формат времени\n",
    "+ Значения столбца переведны в значения булевого типа\n",
    "\n",
    "Возможные причины появления пропусков можно разделить на зависящие от человеческого или технического факторов. Пропуски в пользовательских данных скорее всего относятся к человечкому фактору: продавец невнимально или неполностью заполнил объявление. Технический фактор появления пропусков скорее всего имеет место быть для картографических данных - могли произойти ошибки при выгрузке данных."
   ]
  },
  {
   "cell_type": "markdown",
   "metadata": {},
   "source": [
    "### Посчитайте и добавьте в таблицу новые столбцы"
   ]
  },
  {
   "cell_type": "code",
   "execution_count": 27,
   "metadata": {},
   "outputs": [],
   "source": [
    "data['price_square_meter'] = data['last_price']/data['total_area']\n",
    "data['cityCenter_km']=round(data['cityCenters_nearest']/1000)\n",
    "data['weekday'] = data['first_day_exposition'].dt.weekday\n",
    "data['month'] = data['first_day_exposition'].dt.month\n",
    "data['year'] = data['first_day_exposition'].dt.year"
   ]
  },
  {
   "cell_type": "markdown",
   "metadata": {},
   "source": []
  },
  {
   "cell_type": "code",
   "execution_count": 28,
   "metadata": {},
   "outputs": [],
   "source": [
    "def categorize_floor(row):\n",
    "    if row['floor'] == 1:\n",
    "        return 'первый'\n",
    "    elif row['floor'] == row['floors_total']:\n",
    "        return 'последний'\n",
    "    else:\n",
    "        return 'другой'\n",
    "\n",
    "data['floor_type'] = data.apply(categorize_floor, axis=1)"
   ]
  },
  {
   "cell_type": "markdown",
   "metadata": {},
   "source": [
    "#### Вывод\n",
    "\n",
    "На третьем этапе в таблицу были добавлены новые данные, включающие цену за квадратный метр(price_square_meter), расстояние от центра населенного пункта до квартиры в км (cityCenter_km), день публикации объявления (weekday), месяц публикации объявления (month), год публикации объявления (year), тип этажа квартиры (floor_type)."
   ]
  },
  {
   "cell_type": "markdown",
   "metadata": {},
   "source": []
  },
  {
   "cell_type": "markdown",
   "metadata": {},
   "source": [
    "### Проведите исследовательский анализ данных"
   ]
  },
  {
   "cell_type": "markdown",
   "metadata": {},
   "source": [
    "Распределение значений для основных параметров:"
   ]
  },
  {
   "cell_type": "code",
   "execution_count": 29,
   "metadata": {
    "scrolled": false
   },
   "outputs": [
    {
     "data": {
      "image/png": "[encoded data removed]",
      "text/plain": [
       "<Figure size 864x360 with 2 Axes>"
      ]
     },
     "metadata": {
      "needs_background": "light"
     },
     "output_type": "display_data"
    }
   ],
   "source": [
    "data.hist(column=['total_area', 'living_area'], bins=25, range=(0, 200), figsize=(12,5))\n",
    "plt.show();"
   ]
  },
  {
   "cell_type": "markdown",
   "metadata": {},
   "source": []
  },
  {
   "cell_type": "code",
   "execution_count": 30,
   "metadata": {},
   "outputs": [
    {
     "data": {
      "image/png": "[encoded data removed]",
      "text/plain": [
       "<Figure size 432x288 with 1 Axes>"
      ]
     },
     "metadata": {
      "needs_background": "light"
     },
     "output_type": "display_data"
    }
   ],
   "source": [
    "data['kitchen_area'].hist(bins=25, range=(0, 50))\n",
    "plt.show();"
   ]
  },
  {
   "cell_type": "code",
   "execution_count": 31,
   "metadata": {},
   "outputs": [
    {
     "data": {
      "image/png": "[encoded data removed]",
      "text/plain": [
       "<Figure size 432x288 with 1 Axes>"
      ]
     },
     "metadata": {
      "needs_background": "light"
     },
     "output_type": "display_data"
    }
   ],
   "source": [
    "data['rooms'].hist(bins=10, range=(0,10))\n",
    "plt.show();"
   ]
  },
  {
   "cell_type": "markdown",
   "metadata": {},
   "source": [
    "Общая площадь квартир, жилая площадь и площадь кухни, количество комнат имеют схожую картину распределения значений. В таблице большинство объявлений о продаже квартир с небольшой площадью."
   ]
  },
  {
   "cell_type": "code",
   "execution_count": 32,
   "metadata": {},
   "outputs": [
    {
     "data": {
      "image/png": "[encoded data removed]",
      "text/plain": [
       "<Figure size 432x288 with 1 Axes>"
      ]
     },
     "metadata": {
      "needs_background": "light"
     },
     "output_type": "display_data"
    }
   ],
   "source": [
    "data['last_price'].hist(bins=25, range=(0,30000000))\n",
    "plt.show();"
   ]
  },
  {
   "cell_type": "markdown",
   "metadata": {},
   "source": [
    "Расределение цен на квартиры очень похоже на распределение их общей площади. Можно предположить, что между ними есть высокая степень корреляции - чем больше площадь квартиры, тем выше ее цена. Это предположение будет проверено ниже."
   ]
  },
  {
   "cell_type": "code",
   "execution_count": 33,
   "metadata": {
    "scrolled": true
   },
   "outputs": [
    {
     "data": {
      "image/png": "[encoded data removed]",
      "text/plain": [
       "<Figure size 432x288 with 1 Axes>"
      ]
     },
     "metadata": {
      "needs_background": "light"
     },
     "output_type": "display_data"
    }
   ],
   "source": [
    "data['ceiling_height'].hist(bins=20, range=(2,5))\n",
    "plt.show();"
   ]
  },
  {
   "cell_type": "markdown",
   "metadata": {},
   "source": [
    "В большинстве объявлений квартиры с классической высотой потолков."
   ]
  },
  {
   "cell_type": "code",
   "execution_count": 34,
   "metadata": {},
   "outputs": [
    {
     "data": {
      "image/png": "[encoded data removed]",
      "text/plain": [
       "<Figure size 864x360 with 2 Axes>"
      ]
     },
     "metadata": {
      "needs_background": "light"
     },
     "output_type": "display_data"
    }
   ],
   "source": [
    "data.hist(column=['floor', 'floors_total'], bins=10, range=(0, 40), figsize=(12,5))\n",
    "plt.show();"
   ]
  },
  {
   "cell_type": "markdown",
   "metadata": {},
   "source": [
    "Большинство объявлений о продаже квартир на нижних этажах."
   ]
  },
  {
   "cell_type": "code",
   "execution_count": 35,
   "metadata": {},
   "outputs": [
    {
     "data": {
      "image/png": "[encoded data removed]",
      "text/plain": [
       "<Figure size 432x288 with 1 Axes>"
      ]
     },
     "metadata": {
      "needs_background": "light"
     },
     "output_type": "display_data"
    }
   ],
   "source": [
    "data['floor_type'].value_counts().plot(kind='bar')\n",
    "plt.show();"
   ]
  },
  {
   "cell_type": "markdown",
   "metadata": {},
   "source": [
    "Кол-во объявлений о продаже на первом и последнем этажах примерно одинаковое. Большинство квартир продается не на первых и не на последних этажах."
   ]
  },
  {
   "cell_type": "markdown",
   "metadata": {},
   "source": []
  },
  {
   "cell_type": "code",
   "execution_count": 36,
   "metadata": {
    "scrolled": false
   },
   "outputs": [
    {
     "data": {
      "image/png": "[encoded data removed]",
      "text/plain": [
       "<Figure size 864x360 with 1 Axes>"
      ]
     },
     "metadata": {
      "needs_background": "light"
     },
     "output_type": "display_data"
    }
   ],
   "source": [
    "data.hist(column='parks_nearest', bins=15, range=(0, 1500), figsize=(12,5))\n",
    "plt.show();"
   ]
  },
  {
   "cell_type": "markdown",
   "metadata": {},
   "source": [
    "Большая часть квартир находится в 500 метрах от парковых зон."
   ]
  },
  {
   "cell_type": "code",
   "execution_count": 37,
   "metadata": {},
   "outputs": [
    {
     "data": {
      "image/png": "[encoded data removed]",
      "text/plain": [
       "<Figure size 864x360 with 1 Axes>"
      ]
     },
     "metadata": {
      "needs_background": "light"
     },
     "output_type": "display_data"
    }
   ],
   "source": [
    "data.hist(column='airports_nearest', bins=20, range=(5000, 70000), figsize=(12,5))\n",
    "plt.show();"
   ]
  },
  {
   "cell_type": "code",
   "execution_count": 38,
   "metadata": {},
   "outputs": [
    {
     "data": {
      "image/png": "[encoded data removed]",
      "text/plain": [
       "<Figure size 864x360 with 1 Axes>"
      ]
     },
     "metadata": {
      "needs_background": "light"
     },
     "output_type": "display_data"
    }
   ],
   "source": [
    "data.hist(column='weekday', bins=20, figsize=(12,5))\n",
    "plt.show();"
   ]
  },
  {
   "cell_type": "markdown",
   "metadata": {},
   "source": [
    "Больше всего объявлений были опубликованы в будние дни."
   ]
  },
  {
   "cell_type": "code",
   "execution_count": 39,
   "metadata": {
    "scrolled": false
   },
   "outputs": [
    {
     "data": {
      "image/png": "[encoded data removed]",
      "text/plain": [
       "<Figure size 864x360 with 1 Axes>"
      ]
     },
     "metadata": {
      "needs_background": "light"
     },
     "output_type": "display_data"
    }
   ],
   "source": [
    "data.hist(column='month', bins=24, figsize=(12,5))\n",
    "plt.show();"
   ]
  },
  {
   "cell_type": "markdown",
   "metadata": {},
   "source": [
    "Больше всего объявлений было опубликованы в конце феврале и в ноябре. Летом наблюдается спад объявлений о продаже квартир."
   ]
  },
  {
   "cell_type": "markdown",
   "metadata": {},
   "source": [
    "Пользовательские характеристики описываются явным Пуассоновским распределением - наибольшее количество квартир имеет небольшую площадь, расположено на невысоких этажах, имеет стандартную минимальную высоту потолков и так далее.\n",
    "Картографические характеристики описываются нормальным распределением."
   ]
  },
  {
   "cell_type": "code",
   "execution_count": 40,
   "metadata": {},
   "outputs": [
    {
     "name": "stdout",
     "output_type": "stream",
     "text": [
      "Среднее кол-во дней жизни объявления до продажи: 184.85401229702035\n",
      "Медианное кол-во дней жизни объявления до продажи: 101.0\n"
     ]
    },
    {
     "data": {
      "image/png": "[encoded data removed]",
      "text/plain": [
       "<Figure size 432x288 with 1 Axes>"
      ]
     },
     "metadata": {
      "needs_background": "light"
     },
     "output_type": "display_data"
    }
   ],
   "source": [
    "data['days_exposition'].hist(bins=20)\n",
    "print('Среднее кол-во дней жизни объявления до продажи:', data['days_exposition'].mean())\n",
    "print('Медианное кол-во дней жизни объявления до продажи:', data['days_exposition'].median())"
   ]
  },
  {
   "cell_type": "code",
   "execution_count": 41,
   "metadata": {},
   "outputs": [
    {
     "data": {
      "text/plain": [
       "count    19029.000000\n",
       "mean       184.854012\n",
       "std        221.976949\n",
       "min          1.000000\n",
       "25%         44.000000\n",
       "50%        101.000000\n",
       "75%        238.000000\n",
       "max       1580.000000\n",
       "Name: days_exposition, dtype: float64"
      ]
     },
     "execution_count": 41,
     "metadata": {},
     "output_type": "execute_result"
    },
    {
     "data": {
      "image/png": "[encoded data removed]",
      "text/plain": [
       "<Figure size 432x288 with 1 Axes>"
      ]
     },
     "metadata": {
      "needs_background": "light"
     },
     "output_type": "display_data"
    }
   ],
   "source": [
    "data.boxplot(column='days_exposition')\n",
    "data['days_exposition'].describe()"
   ]
  },
  {
   "cell_type": "markdown",
   "metadata": {},
   "source": [
    "Большинство значений лежит в диапазоне до 238 дней. Продажи более 600 дней попадают в зону выбросов на графике. Долгими можно считать продажи больше 238 дней. Очень быстрыми можно считать продажи до 1-го квартиля, квартиры раскупались буквально за месяц"
   ]
  },
  {
   "cell_type": "code",
   "execution_count": 42,
   "metadata": {},
   "outputs": [],
   "source": [
    "# (\n",
    "#     data.query('days_exposition > 365')\n",
    "#     .pivot_table(index='locality_name', values='days_exposition', aggfunc='count')\n",
    "#     .sort_values(by='days_exposition', ascending=False)\n",
    "# )"
   ]
  },
  {
   "cell_type": "markdown",
   "metadata": {},
   "source": [
    "Долгими продажами можно считать продажи длящиееся больше года, больше всего таких объявлений в Санкт-Петербурге."
   ]
  },
  {
   "cell_type": "markdown",
   "metadata": {},
   "source": [
    "#### Какие факторы больше всего влияют на общую (полную) стоимость объекта"
   ]
  },
  {
   "cell_type": "markdown",
   "metadata": {},
   "source": [
    "Средняя цена одного квадратного метра в 10 населённых пунктах с наибольшим числом объявлений:"
   ]
  },
  {
   "cell_type": "code",
   "execution_count": 43,
   "metadata": {
    "scrolled": true
   },
   "outputs": [
    {
     "data": {
      "text/html": [
       "<div>\n",
       "<style scoped>\n",
       "    .dataframe tbody tr th:only-of-type {\n",
       "        vertical-align: middle;\n",
       "    }\n",
       "\n",
       "    .dataframe tbody tr th {\n",
       "        vertical-align: top;\n",
       "    }\n",
       "\n",
       "    .dataframe thead th {\n",
       "        text-align: right;\n",
       "    }\n",
       "</style>\n",
       "<table border=\"1\" class=\"dataframe\">\n",
       "  <thead>\n",
       "    <tr style=\"text-align: right;\">\n",
       "      <th></th>\n",
       "      <th>median_price</th>\n",
       "      <th>count</th>\n",
       "    </tr>\n",
       "    <tr>\n",
       "      <th>locality_name</th>\n",
       "      <th></th>\n",
       "      <th></th>\n",
       "    </tr>\n",
       "  </thead>\n",
       "  <tbody>\n",
       "    <tr>\n",
       "      <th>Санкт-Петербург</th>\n",
       "      <td>103000.000000</td>\n",
       "      <td>12786</td>\n",
       "    </tr>\n",
       "    <tr>\n",
       "      <th>посёлок Мурино</th>\n",
       "      <td>86365.044446</td>\n",
       "      <td>506</td>\n",
       "    </tr>\n",
       "    <tr>\n",
       "      <th>посёлок Шушары</th>\n",
       "      <td>76625.586854</td>\n",
       "      <td>378</td>\n",
       "    </tr>\n",
       "    <tr>\n",
       "      <th>Всеволожск</th>\n",
       "      <td>65789.473684</td>\n",
       "      <td>314</td>\n",
       "    </tr>\n",
       "    <tr>\n",
       "      <th>Колпино</th>\n",
       "      <td>73913.043478</td>\n",
       "      <td>297</td>\n",
       "    </tr>\n",
       "    <tr>\n",
       "      <th>Пушкин</th>\n",
       "      <td>98039.215686</td>\n",
       "      <td>285</td>\n",
       "    </tr>\n",
       "    <tr>\n",
       "      <th>посёлок Парголово</th>\n",
       "      <td>91387.362637</td>\n",
       "      <td>278</td>\n",
       "    </tr>\n",
       "    <tr>\n",
       "      <th>деревня Кудрово</th>\n",
       "      <td>92297.899427</td>\n",
       "      <td>267</td>\n",
       "    </tr>\n",
       "    <tr>\n",
       "      <th>Гатчина</th>\n",
       "      <td>67187.500000</td>\n",
       "      <td>257</td>\n",
       "    </tr>\n",
       "    <tr>\n",
       "      <th>Выборг</th>\n",
       "      <td>57377.049180</td>\n",
       "      <td>173</td>\n",
       "    </tr>\n",
       "  </tbody>\n",
       "</table>\n",
       "</div>"
      ],
      "text/plain": [
       "                    median_price  count\n",
       "locality_name                          \n",
       "Санкт-Петербург    103000.000000  12786\n",
       "посёлок Мурино      86365.044446    506\n",
       "посёлок Шушары      76625.586854    378\n",
       "Всеволожск          65789.473684    314\n",
       "Колпино             73913.043478    297\n",
       "Пушкин              98039.215686    285\n",
       "посёлок Парголово   91387.362637    278\n",
       "деревня Кудрово     92297.899427    267\n",
       "Гатчина             67187.500000    257\n",
       "Выборг              57377.049180    173"
      ]
     },
     "execution_count": 43,
     "metadata": {},
     "output_type": "execute_result"
    }
   ],
   "source": [
    "median_price_locality = data.pivot_table(index='locality_name',\n",
    "                                         values='price_square_meter',\n",
    "                                         aggfunc=['median', 'count'])\n",
    "median_price_locality.columns = ['median_price', 'count']\n",
    "median_price_locality.sort_values(by='count', ascending=False).head(10)"
   ]
  },
  {
   "cell_type": "code",
   "execution_count": 44,
   "metadata": {},
   "outputs": [
    {
     "name": "stdout",
     "output_type": "stream",
     "text": [
      "Самая низкая стоимость квадратного метра в деревня Старополье : 10368.663594470047\n",
      "Самая высокая стоимость квадратного метра в деревня Бор : 105539.26157046281\n"
     ]
    }
   ],
   "source": [
    "print('Самая низкая стоимость квадратного метра в', median_price_locality['median_price'].idxmin(), ':', median_price_locality['median_price'].min())\n",
    "print('Самая высокая стоимость квадратного метра в', median_price_locality['median_price'].idxmax(), ':', median_price_locality['median_price'].max())"
   ]
  },
  {
   "cell_type": "code",
   "execution_count": 45,
   "metadata": {},
   "outputs": [
    {
     "data": {
      "text/html": [
       "<div>\n",
       "<style scoped>\n",
       "    .dataframe tbody tr th:only-of-type {\n",
       "        vertical-align: middle;\n",
       "    }\n",
       "\n",
       "    .dataframe tbody tr th {\n",
       "        vertical-align: top;\n",
       "    }\n",
       "\n",
       "    .dataframe thead th {\n",
       "        text-align: right;\n",
       "    }\n",
       "</style>\n",
       "<table border=\"1\" class=\"dataframe\">\n",
       "  <thead>\n",
       "    <tr style=\"text-align: right;\">\n",
       "      <th></th>\n",
       "      <th>total_images</th>\n",
       "      <th>last_price</th>\n",
       "      <th>total_area</th>\n",
       "      <th>first_day_exposition</th>\n",
       "      <th>rooms</th>\n",
       "      <th>ceiling_height</th>\n",
       "      <th>floors_total</th>\n",
       "      <th>living_area</th>\n",
       "      <th>floor</th>\n",
       "      <th>is_apartment</th>\n",
       "      <th>...</th>\n",
       "      <th>parks_nearest</th>\n",
       "      <th>ponds_around3000</th>\n",
       "      <th>ponds_nearest</th>\n",
       "      <th>days_exposition</th>\n",
       "      <th>price_square_meter</th>\n",
       "      <th>cityCenter_km</th>\n",
       "      <th>weekday</th>\n",
       "      <th>month</th>\n",
       "      <th>year</th>\n",
       "      <th>floor_type</th>\n",
       "    </tr>\n",
       "  </thead>\n",
       "  <tbody>\n",
       "    <tr>\n",
       "      <th>10154</th>\n",
       "      <td>1</td>\n",
       "      <td>20295200.0</td>\n",
       "      <td>192.3</td>\n",
       "      <td>2018-02-13</td>\n",
       "      <td>6</td>\n",
       "      <td>2.95</td>\n",
       "      <td>2</td>\n",
       "      <td>147.2</td>\n",
       "      <td>1</td>\n",
       "      <td>False</td>\n",
       "      <td>...</td>\n",
       "      <td>NaN</td>\n",
       "      <td>NaN</td>\n",
       "      <td>NaN</td>\n",
       "      <td>162</td>\n",
       "      <td>105539.26157</td>\n",
       "      <td>NaN</td>\n",
       "      <td>1</td>\n",
       "      <td>2</td>\n",
       "      <td>2018</td>\n",
       "      <td>первый</td>\n",
       "    </tr>\n",
       "  </tbody>\n",
       "</table>\n",
       "<p>1 rows × 28 columns</p>\n",
       "</div>"
      ],
      "text/plain": [
       "       total_images  last_price  total_area first_day_exposition  rooms  \\\n",
       "10154             1  20295200.0       192.3           2018-02-13      6   \n",
       "\n",
       "       ceiling_height  floors_total  living_area  floor  is_apartment  ...  \\\n",
       "10154            2.95             2        147.2      1         False  ...   \n",
       "\n",
       "       parks_nearest  ponds_around3000  ponds_nearest  days_exposition  \\\n",
       "10154            NaN               NaN            NaN              162   \n",
       "\n",
       "      price_square_meter  cityCenter_km  weekday  month  year  floor_type  \n",
       "10154       105539.26157            NaN        1      2  2018      первый  \n",
       "\n",
       "[1 rows x 28 columns]"
      ]
     },
     "execution_count": 45,
     "metadata": {},
     "output_type": "execute_result"
    }
   ],
   "source": [
    "data.query('locality_name == \"деревня Бор\"')"
   ]
  },
  {
   "cell_type": "code",
   "execution_count": 46,
   "metadata": {
    "scrolled": false
   },
   "outputs": [
    {
     "name": "stdout",
     "output_type": "stream",
     "text": [
      "Коэффициент корреляции общей площади квартиры и полной стоимости: 0.636562467977921\n",
      "Коэффициент корреляции жилой площади квартиры и полной стоимости: 0.5638716366487019\n",
      "Коэффициент корреляции площади кухни и полной стоимости: 0.4863144802563863\n",
      "Коэффициент корреляции количества комнат в квартире и полной стоимости: 0.35659314032732997\n"
     ]
    },
    {
     "data": {
      "image/png": "[encoded data removed]",
      "text/plain": [
       "<Figure size 432x288 with 1 Axes>"
      ]
     },
     "metadata": {
      "needs_background": "light"
     },
     "output_type": "display_data"
    },
    {
     "data": {
      "image/png": "[encoded data removed]",
      "text/plain": [
       "<Figure size 432x288 with 1 Axes>"
      ]
     },
     "metadata": {
      "needs_background": "light"
     },
     "output_type": "display_data"
    },
    {
     "data": {
      "image/png": "[encoded data removed]",
      "text/plain": [
       "<Figure size 432x288 with 1 Axes>"
      ]
     },
     "metadata": {
      "needs_background": "light"
     },
     "output_type": "display_data"
    },
    {
     "data": {
      "image/png": "[encoded data removed]",
      "text/plain": [
       "<Figure size 432x288 with 1 Axes>"
      ]
     },
     "metadata": {
      "needs_background": "light"
     },
     "output_type": "display_data"
    },
    {
     "data": {
      "image/png": "[encoded data removed]",
      "text/plain": [
       "<Figure size 432x288 with 1 Axes>"
      ]
     },
     "metadata": {
      "needs_background": "light"
     },
     "output_type": "display_data"
    },
    {
     "data": {
      "image/png": "[encoded data removed]",
      "text/plain": [
       "<Figure size 432x288 with 1 Axes>"
      ]
     },
     "metadata": {
      "needs_background": "light"
     },
     "output_type": "display_data"
    },
    {
     "data": {
      "image/png": "[encoded data removed]",
      "text/plain": [
       "<Figure size 432x288 with 1 Axes>"
      ]
     },
     "metadata": {
      "needs_background": "light"
     },
     "output_type": "display_data"
    },
    {
     "data": {
      "image/png": "[encoded data removed]",
      "text/plain": [
       "<Figure size 432x288 with 1 Axes>"
      ]
     },
     "metadata": {
      "needs_background": "light"
     },
     "output_type": "display_data"
    }
   ],
   "source": [
    "(\n",
    "    data\n",
    "    .pivot_table(index='total_area', values='last_price')\n",
    "    .plot(style='o', title='total_area', grid = True)\n",
    ")\n",
    "print('Коэффициент корреляции общей площади квартиры и полной стоимости:', data['total_area'].corr(data['last_price']))\n",
    "(\n",
    "    data.pivot_table(index='living_area', values='last_price')\n",
    "    .plot(style='o', title='living_area', grid = True)\n",
    ")\n",
    "print('Коэффициент корреляции жилой площади квартиры и полной стоимости:', data['living_area'].corr(data['last_price']))\n",
    "(\n",
    "    data.pivot_table(index='kitchen_area', values='last_price')\n",
    "    .plot(style='o', title='kitchen_area', grid = True)\n",
    ")\n",
    "print('Коэффициент корреляции площади кухни и полной стоимости:', data['kitchen_area'].corr(data['last_price']))\n",
    "(\n",
    "    data.pivot_table(index='rooms', values='last_price')\n",
    "    .plot(style='o', title='rooms', grid = True)\n",
    ")\n",
    "print('Коэффициент корреляции количества комнат в квартире и полной стоимости:', data['rooms'].corr(data['last_price']))\n",
    "(\n",
    "    data.pivot_table(index='floor_type', values='last_price')\n",
    "    .sort_values(by='last_price')\n",
    "    .plot(style='-o', title='floor_type', grid = True)\n",
    ")\n",
    "(\n",
    "    data.pivot_table(index='weekday', values='last_price')\n",
    "    .plot(style='-o', title='weekday', grid = True)\n",
    ")\n",
    "(\n",
    "    data.pivot_table(index='month', values='last_price')\n",
    "    .plot(style='-o', title='month', grid = True)\n",
    ")\n",
    "(\n",
    "    data.pivot_table(index='year', values='last_price')\n",
    "    .plot(style='-o', title='year', grid = True)\n",
    ")\n",
    "plt.show();"
   ]
  },
  {
   "cell_type": "markdown",
   "metadata": {},
   "source": [
    "Построены зависимости стоимости квартир на момент снятия с публикации от различных параметров. Коэффициен корреляции посчитан для количественных данных.\n",
    "Сделаны следующие наблюдения:\n",
    "1. Наблюдается рост цены за квартиру прямо пропорционально размеру ее площади - коэффициент корреляции 0.64. Однако, на рост цены влияет множество других фактов, которые снижают значимость размера квартиры. Аналогичная картина для зависимости цены от кол-ва комнат, так как количество комнат непосредственно связано с размером квартиры.\n",
    "2. Квартиры на верхних этажах дороже, чем на первом. Чем выше этаж, тем дороже можно продать квартиру.\n",
    "3. Выгоднее всего продавать квартиры по субботам, в апреле, сентябре или декабре\n",
    "4. С каждым годом недвижимость дешевела, и с 2014 по 2019 год цены на недвижимость упали почти в 2 раза, что связано с падением площади квартир (проверено ниже)"
   ]
  },
  {
   "cell_type": "code",
   "execution_count": 47,
   "metadata": {},
   "outputs": [
    {
     "data": {
      "image/png": "[encoded data removed]",
      "text/plain": [
       "<Figure size 432x288 with 1 Axes>"
      ]
     },
     "metadata": {
      "needs_background": "light"
     },
     "output_type": "display_data"
    }
   ],
   "source": [
    "(\n",
    "    data.pivot_table(index='floor_type', values='last_price', aggfunc=['median', 'mean'])\n",
    "    .plot(style='-o', title='floor_type', grid = True)\n",
    ")\n",
    "plt.show();"
   ]
  },
  {
   "cell_type": "code",
   "execution_count": 48,
   "metadata": {
    "scrolled": true
   },
   "outputs": [
    {
     "data": {
      "image/png": "[encoded data removed]",
      "text/plain": [
       "<Figure size 432x288 with 1 Axes>"
      ]
     },
     "metadata": {
      "needs_background": "light"
     },
     "output_type": "display_data"
    }
   ],
   "source": [
    "(\n",
    "    data.pivot_table(index='year', values='total_area')\n",
    "    .plot(style='-o', title='year', grid = True)\n",
    ")\n",
    "plt.show();"
   ]
  },
  {
   "cell_type": "markdown",
   "metadata": {},
   "source": [
    "График зависимости цены за квадратный метр при удалении от центра для Санкт-Петербурга:"
   ]
  },
  {
   "cell_type": "code",
   "execution_count": 49,
   "metadata": {},
   "outputs": [
    {
     "data": {
      "image/png": "[encoded data removed]",
      "text/plain": [
       "<Figure size 432x288 with 1 Axes>"
      ]
     },
     "metadata": {
      "needs_background": "light"
     },
     "output_type": "display_data"
    }
   ],
   "source": [
    "(\n",
    "    data.query('locality_name == \"Санкт-Петербург\"')\n",
    "    .pivot_table(index='cityCenter_km', values='last_price')\n",
    "    .plot(title = 'Заголовок', grid = True)\n",
    ");"
   ]
  },
  {
   "cell_type": "markdown",
   "metadata": {},
   "source": [
    "Построен график средней цены на каждый километр удаления от центра. \n",
    "По мере удаления от центра населенного пункта цена на квартиры уменьшается. Особенно резкое падание наблюдается первые 5 км, потом наклон графика падения цены намного меньше. "
   ]
  },
  {
   "cell_type": "markdown",
   "metadata": {},
   "source": [
    "#### Вывод\n",
    "\n",
    "На последне этапе были проанализированы существующие зависимости между данными. \n",
    "- Построены гистограмы для всех основных парметров из объявлений о продаже квартир.Пользовательские характеристики описываются явным Пуассоновским распределением - наибольшее количество квартир имеет небольшую площадь, расположено на невысоких этажах, имеет стандартную минимальную высоту потолков и так далее.Картографические характеристики описываются нормальным распределением.\n",
    "- Построены корреляции между ценой на квартиры и основными параметрами. Рассчитаны коэффициенты корреляции между количественными характеристиками. Цена зависит от площади квартиры, ее этажности, а также день и месяц играют важную роль в успешной продаже квартиры"
   ]
  },
  {
   "cell_type": "markdown",
   "metadata": {},
   "source": [
    "### Общий вывод"
   ]
  },
  {
   "cell_type": "markdown",
   "metadata": {},
   "source": [
    "В работе будет произведено исследование данных сервиса Яндекс Недвижимость — архив объявлений за несколько лет о продаже квартир в Санкт-Петербурге и соседних населённых пунктах.\n",
    "\n",
    "Этап 1 и 2.\n",
    "\n",
    "На первом и втором этапах было проанализировано качество исходных данных. Данные представляют собой архив объявлений за несколько лет о продаже квартир в Санкт-Петербурге и соседних населённых пунктах. \n",
    "Пропущенные значения были встречены в столбцах:\n",
    "+ Высота потолков (м) - заменено на медианное значение для населенного пункта и кол-ва этажей в доме\n",
    "+ Кол-во этажей в доме - отсутсвует 86 значений, удаление строк не приведет к серьезному искажению данных\n",
    "+ Жилая площадь в квадратных метрах (м²) - вычесть из общей площади площадь кухни\n",
    "+ Апартаменты - если продавец не указал, что продает апартаменты, скорее всего это обычная квартира\n",
    "+ Площадь кухни в квадратных метрах (м²) - вычесть из общей площади жилую площадь\n",
    "+ Число балконов - если продавец не указал количество балконов, скорее всего их нет в квартире\n",
    "+ Название населённого пункта - отсутсвует 49 значений, удаление строк не приведет к серьезному искажению данных\n",
    "+ Расстояние до ближайшего аэропорта в метрах (м) - заменено на среднее значение для населенного пункта\n",
    "+ Расстояние до центра города (м) - заменено на среднее значение для населенного пункта\n",
    "+ Число парков в радиусе 3 км - заменено на среднее значение для населенного пункта\n",
    "+ Расстояние до ближайшего парка (м) - заменено на среднее значение для населенного пункта\n",
    "+ Число водоёмов в радиусе 3 км - заменено на среднее значение для населенного пункта\n",
    "+ Расстояние до ближайшего водоёма (м) - заменено на среднее значение для населенного пункта\n",
    "\n",
    "Процесс предобработки данных включал удаление пропусков, поиск явных и неявных дубликатов, приобразование типов столбцов.\n",
    "+ Пропуски были удалены в столбцах ceiling_height, floors_total, living_area, kitchen_area, balcony, locality_name, days_exposition.\n",
    "+ Пропуски в столбцах с картографическими данными (airports_nearest, cityCenters_nearest, parks_around3000, parks_nearest, ponds_around3000, ponds_nearest) заполнены насколько это возможно. Заполнить все пропуски не представляется возможным, так как не хватает такого типа данных по населенным пунктам.\n",
    "+ В столбце с данными о населенных пунктах был проведен поиск неявных дубликов и затем они были ликвидированы\n",
    "+ Столбцы floors_total, parks_around3000, balcony, ponds_around3000, days_exposition  были приведены к целочисленным\n",
    "+ Столбец first_day_exposition переведен в формат времени\n",
    "+ Значения столбца переведны в значения булевого типа\n",
    "\n",
    "Возможные причины появления пропусков можно разделить на зависящие от человеческого или технического факторов. Пропуски в пользовательских данных скорее всего относятся к человечкому фактору: продавец невнимально или неполностью заполнил объявление. Технический фактор появления пропусков скорее всего имеет место быть для картографических данных - могли произойти ошибки при выгрузке данных.\n",
    "\n",
    "Этап 3.\n",
    "\n",
    "На третьем этапе в таблицу были добавлены новые данные, включающие цену за квадратный метр(price_square_meter), расстояние от центра населенного пункта до квартиры в км (cityCenter_km), день публикации объявления (weekday), месяц публикации объявления (month), год публикации объявления (year), тип этажа квартиры (floor_type).\n",
    "\n",
    "Этап 4.\n",
    "\n",
    "На последнем этапе были проанализированы существующие зависимости между данными. Построены гистограмыы для всех основных парметров из объявлений о продаже квартир. Рассчитаны коэффициенты корреляции между количественными характеристиками.\n",
    "\n",
    "Построены гистограмы для всех основных парметров из объявлений о продаже квартир. Пользовательские характеристики описываются явным Пуассоновским распределением - наибольшее количество квартир имеет небольшую площадь, расположено на невысоких этажах, имеет стандартную минимальную высоту потолков и так далее.Картографические характеристики описываются нормальным распределением.\n",
    "\n",
    "Кол-во объявлений о продаже на первом и последнем этажах примерно одинаковое. Большинство квартир продается не на первых и не на последних этажах. Однако, квартиры на верхних этажах дороже, чем на первом. Чем выше этаж, тем дороже можно продать квартиру.\n",
    "\n",
    "Большинство продаж квартир совершалось в диапазоне до 238 дней. Долгими можно считать продажи больше 238 дней. Очень быстрыми можно считать, когда квартиры раскупались буквально за месяц.\n",
    "\n",
    "По мере удаления от центра Санкт-Петербурга цена на квартиры уменьшается. Особенно резкое падание наблюдается первые 5 км, потом наклон графика падения цены намного меньше. Самые дорогие квартиры в центре.\n",
    "\n",
    "- Самая низкая стоимость квадратного метра в деревне Старополье\n",
    "- Самая высокая стоимость квадратного метра в деревне Бор\n",
    "\n",
    "Построены зависимости стоимости квартир на момент снятия с публикации от различных параметров. Коэффициент корреляции посчитан для количественных данных.\n",
    "\n",
    "- Наблюдается рост цены за квартиру прямо пропорционально размеру ее площади. Однако, на рост цены влияет множество других фактов, которые снижают значимость размера квартиры. Аналогичная картина а зависимости цены от кол-ва комнат, так как количество комнат непосредственно связано с размером квартиры.\n",
    "\n",
    "- Больше всего объявлений были опубликованы в будние дни. При этом больше всего продаж совешается в субботу.\n",
    "\n",
    "- Больше всего объявлений было опубликованы в конце феврале и в ноябре. Летом наблюдается спад объявлений о продаже квартир. Онако больше всего продаж совершается в апреле, сентябре или декабре.\n",
    " \n",
    "- С каждым годом недвижимость дешевела, и с 2014 по 2019 год цены на недвижимость упали почти в 2 раза, что связано с падением средней площади продаваемой квартииры.\n",
    "\n",
    "- Цена зависит от площади квартиры, ее этажности, а также день и месяц играют важную роль в успешной продаже квартиры\n",
    "\n"
   ]
  },
  {
   "cell_type": "markdown",
   "metadata": {},
   "source": []
  }
 ],
 "metadata": {
  "ExecuteTimeLog": [
   {
    "duration": 422,
    "start_time": "2023-05-19T08:27:36.776Z"
   },
   {
    "duration": 173,
    "start_time": "2023-05-19T08:27:37.200Z"
   },
   {
    "duration": 128,
    "start_time": "2023-05-19T08:29:47.538Z"
   },
   {
    "duration": 14,
    "start_time": "2023-05-19T08:30:59.891Z"
   },
   {
    "duration": 14,
    "start_time": "2023-05-19T09:04:54.999Z"
   },
   {
    "duration": 2373,
    "start_time": "2023-05-19T09:09:38.414Z"
   },
   {
    "duration": 26,
    "start_time": "2023-05-19T09:16:14.164Z"
   },
   {
    "duration": 74,
    "start_time": "2023-05-19T09:29:40.201Z"
   },
   {
    "duration": 36,
    "start_time": "2023-05-19T09:34:22.922Z"
   },
   {
    "duration": 6,
    "start_time": "2023-05-19T09:34:50.850Z"
   },
   {
    "duration": 45,
    "start_time": "2023-05-19T13:55:21.607Z"
   },
   {
    "duration": 368,
    "start_time": "2023-05-19T13:55:32.113Z"
   },
   {
    "duration": 250,
    "start_time": "2023-05-19T13:55:32.486Z"
   },
   {
    "duration": 14,
    "start_time": "2023-05-19T13:55:33.672Z"
   },
   {
    "duration": 2089,
    "start_time": "2023-05-19T13:55:35.744Z"
   },
   {
    "duration": 9,
    "start_time": "2023-05-19T13:55:43.111Z"
   },
   {
    "duration": 51,
    "start_time": "2023-05-19T13:55:45.591Z"
   },
   {
    "duration": 7,
    "start_time": "2023-05-19T13:56:23.936Z"
   },
   {
    "duration": 3,
    "start_time": "2023-05-19T14:08:14.626Z"
   },
   {
    "duration": 24,
    "start_time": "2023-05-19T14:08:24.000Z"
   },
   {
    "duration": 27,
    "start_time": "2023-05-19T14:08:37.034Z"
   },
   {
    "duration": 11,
    "start_time": "2023-05-19T14:12:48.130Z"
   },
   {
    "duration": 44,
    "start_time": "2023-05-19T14:13:01.030Z"
   },
   {
    "duration": 60,
    "start_time": "2023-05-19T14:17:54.976Z"
   },
   {
    "duration": 273,
    "start_time": "2023-05-19T14:18:06.170Z"
   },
   {
    "duration": 306,
    "start_time": "2023-05-19T14:18:14.919Z"
   },
   {
    "duration": 19,
    "start_time": "2023-05-19T14:18:29.671Z"
   },
   {
    "duration": 14,
    "start_time": "2023-05-19T14:22:37.876Z"
   },
   {
    "duration": 15,
    "start_time": "2023-05-19T14:23:04.969Z"
   },
   {
    "duration": 16,
    "start_time": "2023-05-19T14:24:20.250Z"
   },
   {
    "duration": 14,
    "start_time": "2023-05-19T14:24:53.707Z"
   },
   {
    "duration": 556,
    "start_time": "2023-05-19T14:25:07.640Z"
   },
   {
    "duration": 9,
    "start_time": "2023-05-19T14:26:24.771Z"
   },
   {
    "duration": 14,
    "start_time": "2023-05-19T14:26:42.406Z"
   },
   {
    "duration": 553,
    "start_time": "2023-05-19T14:26:55.170Z"
   },
   {
    "duration": 565,
    "start_time": "2023-05-19T14:27:23.649Z"
   },
   {
    "duration": 532,
    "start_time": "2023-05-19T14:27:40.658Z"
   },
   {
    "duration": 3,
    "start_time": "2023-05-19T14:28:22.209Z"
   },
   {
    "duration": 95,
    "start_time": "2023-05-19T14:28:22.214Z"
   },
   {
    "duration": 12,
    "start_time": "2023-05-19T14:28:22.311Z"
   },
   {
    "duration": 1984,
    "start_time": "2023-05-19T14:28:22.324Z"
   },
   {
    "duration": 12,
    "start_time": "2023-05-19T14:28:24.310Z"
   },
   {
    "duration": 14,
    "start_time": "2023-05-19T14:28:24.324Z"
   },
   {
    "duration": 9,
    "start_time": "2023-05-19T14:28:24.340Z"
   },
   {
    "duration": 23,
    "start_time": "2023-05-19T14:28:24.350Z"
   },
   {
    "duration": 38,
    "start_time": "2023-05-19T14:28:24.375Z"
   },
   {
    "duration": 27,
    "start_time": "2023-05-19T14:28:24.415Z"
   },
   {
    "duration": 54,
    "start_time": "2023-05-19T17:21:47.465Z"
   },
   {
    "duration": 398,
    "start_time": "2023-05-19T17:21:50.427Z"
   },
   {
    "duration": 386,
    "start_time": "2023-05-19T17:21:50.828Z"
   },
   {
    "duration": 25,
    "start_time": "2023-05-19T17:21:51.217Z"
   },
   {
    "duration": 2676,
    "start_time": "2023-05-19T17:21:51.246Z"
   },
   {
    "duration": 11,
    "start_time": "2023-05-19T17:21:53.924Z"
   },
   {
    "duration": 16,
    "start_time": "2023-05-19T17:21:53.937Z"
   },
   {
    "duration": 23,
    "start_time": "2023-05-19T17:21:53.954Z"
   },
   {
    "duration": 41,
    "start_time": "2023-05-19T17:21:53.978Z"
   },
   {
    "duration": 34,
    "start_time": "2023-05-19T17:21:54.021Z"
   },
   {
    "duration": 142,
    "start_time": "2023-05-19T17:23:41.497Z"
   },
   {
    "duration": 87,
    "start_time": "2023-05-19T17:32:34.593Z"
   },
   {
    "duration": 77,
    "start_time": "2023-05-19T17:33:13.460Z"
   },
   {
    "duration": 82,
    "start_time": "2023-05-19T17:33:57.822Z"
   },
   {
    "duration": 5,
    "start_time": "2023-05-19T17:34:11.408Z"
   },
   {
    "duration": 79,
    "start_time": "2023-05-19T17:34:22.368Z"
   },
   {
    "duration": 113,
    "start_time": "2023-05-19T17:34:35.994Z"
   },
   {
    "duration": 106,
    "start_time": "2023-05-19T17:35:28.283Z"
   },
   {
    "duration": 4,
    "start_time": "2023-05-19T17:35:30.307Z"
   },
   {
    "duration": 200,
    "start_time": "2023-05-19T17:35:30.313Z"
   },
   {
    "duration": 25,
    "start_time": "2023-05-19T17:35:30.515Z"
   },
   {
    "duration": 2500,
    "start_time": "2023-05-19T17:35:30.542Z"
   },
   {
    "duration": 11,
    "start_time": "2023-05-19T17:35:33.045Z"
   },
   {
    "duration": 25,
    "start_time": "2023-05-19T17:35:33.073Z"
   },
   {
    "duration": 54,
    "start_time": "2023-05-19T17:35:33.101Z"
   },
   {
    "duration": 106,
    "start_time": "2023-05-19T17:35:33.157Z"
   },
   {
    "duration": 0,
    "start_time": "2023-05-19T17:35:33.265Z"
   },
   {
    "duration": 0,
    "start_time": "2023-05-19T17:35:33.267Z"
   },
   {
    "duration": 1379,
    "start_time": "2023-05-19T17:35:59.745Z"
   },
   {
    "duration": 13,
    "start_time": "2023-05-19T17:36:18.025Z"
   },
   {
    "duration": 1370,
    "start_time": "2023-05-19T17:36:29.582Z"
   },
   {
    "duration": 25,
    "start_time": "2023-05-19T17:36:32.829Z"
   },
   {
    "duration": 33,
    "start_time": "2023-05-19T17:36:33.505Z"
   },
   {
    "duration": 9,
    "start_time": "2023-05-19T17:36:34.603Z"
   },
   {
    "duration": 4,
    "start_time": "2023-05-19T17:37:29.994Z"
   },
   {
    "duration": 192,
    "start_time": "2023-05-19T17:37:30.000Z"
   },
   {
    "duration": 18,
    "start_time": "2023-05-19T17:37:30.194Z"
   },
   {
    "duration": 2509,
    "start_time": "2023-05-19T17:37:30.214Z"
   },
   {
    "duration": 11,
    "start_time": "2023-05-19T17:37:32.725Z"
   },
   {
    "duration": 23,
    "start_time": "2023-05-19T17:37:32.737Z"
   },
   {
    "duration": 50,
    "start_time": "2023-05-19T17:37:32.762Z"
   },
   {
    "duration": 1429,
    "start_time": "2023-05-19T17:37:32.814Z"
   },
   {
    "duration": 50,
    "start_time": "2023-05-19T17:37:34.245Z"
   },
   {
    "duration": 34,
    "start_time": "2023-05-19T17:37:34.298Z"
   },
   {
    "duration": 27,
    "start_time": "2023-05-19T17:37:34.335Z"
   },
   {
    "duration": 72,
    "start_time": "2023-05-19T17:39:36.368Z"
   },
   {
    "duration": 25,
    "start_time": "2023-05-19T17:44:21.636Z"
   },
   {
    "duration": 28,
    "start_time": "2023-05-19T17:44:38.378Z"
   },
   {
    "duration": 32,
    "start_time": "2023-05-19T17:45:21.358Z"
   },
   {
    "duration": 29,
    "start_time": "2023-05-19T17:45:25.376Z"
   },
   {
    "duration": 1297,
    "start_time": "2023-05-19T17:45:30.302Z"
   },
   {
    "duration": 24,
    "start_time": "2023-05-19T17:45:31.601Z"
   },
   {
    "duration": 38,
    "start_time": "2023-05-19T17:45:33.320Z"
   },
   {
    "duration": 14,
    "start_time": "2023-05-19T17:45:34.566Z"
   },
   {
    "duration": 1286,
    "start_time": "2023-05-19T17:45:57.943Z"
   },
   {
    "duration": 9,
    "start_time": "2023-05-19T17:45:59.231Z"
   },
   {
    "duration": 1516,
    "start_time": "2023-05-19T17:47:06.517Z"
   },
   {
    "duration": 11,
    "start_time": "2023-05-19T17:47:08.035Z"
   },
   {
    "duration": 1521,
    "start_time": "2023-05-19T17:47:15.813Z"
   },
   {
    "duration": 1259,
    "start_time": "2023-05-19T17:54:03.936Z"
   },
   {
    "duration": 1390,
    "start_time": "2023-05-19T17:54:05.197Z"
   },
   {
    "duration": 85,
    "start_time": "2023-05-19T17:58:36.299Z"
   },
   {
    "duration": 1191,
    "start_time": "2023-05-19T18:02:26.930Z"
   },
   {
    "duration": 8,
    "start_time": "2023-05-19T18:02:28.124Z"
   },
   {
    "duration": 1190,
    "start_time": "2023-05-19T18:03:47.991Z"
   },
   {
    "duration": 25,
    "start_time": "2023-05-19T18:04:31.377Z"
   },
   {
    "duration": 21,
    "start_time": "2023-05-19T18:04:48.444Z"
   },
   {
    "duration": 2,
    "start_time": "2023-05-19T18:04:51.940Z"
   },
   {
    "duration": 13,
    "start_time": "2023-05-19T18:08:10.093Z"
   },
   {
    "duration": 16,
    "start_time": "2023-05-19T18:09:00.069Z"
   },
   {
    "duration": 10,
    "start_time": "2023-05-19T18:09:10.313Z"
   },
   {
    "duration": 23,
    "start_time": "2023-05-19T18:15:35.310Z"
   },
   {
    "duration": 16,
    "start_time": "2023-05-19T18:16:19.410Z"
   },
   {
    "duration": 38,
    "start_time": "2023-05-19T18:16:35.100Z"
   },
   {
    "duration": 43,
    "start_time": "2023-05-19T18:18:46.735Z"
   },
   {
    "duration": 3,
    "start_time": "2023-05-19T18:24:07.429Z"
   },
   {
    "duration": 219,
    "start_time": "2023-05-19T18:24:07.434Z"
   },
   {
    "duration": 26,
    "start_time": "2023-05-19T18:24:07.656Z"
   },
   {
    "duration": 2349,
    "start_time": "2023-05-19T18:24:07.685Z"
   },
   {
    "duration": 10,
    "start_time": "2023-05-19T18:24:10.036Z"
   },
   {
    "duration": 25,
    "start_time": "2023-05-19T18:24:10.048Z"
   },
   {
    "duration": 17,
    "start_time": "2023-05-19T18:24:10.075Z"
   },
   {
    "duration": 0,
    "start_time": "2023-05-19T18:24:10.094Z"
   },
   {
    "duration": 0,
    "start_time": "2023-05-19T18:24:10.096Z"
   },
   {
    "duration": 0,
    "start_time": "2023-05-19T18:24:10.097Z"
   },
   {
    "duration": 0,
    "start_time": "2023-05-19T18:24:10.098Z"
   },
   {
    "duration": 0,
    "start_time": "2023-05-19T18:24:10.099Z"
   },
   {
    "duration": 0,
    "start_time": "2023-05-19T18:24:10.100Z"
   },
   {
    "duration": 0,
    "start_time": "2023-05-19T18:24:10.102Z"
   },
   {
    "duration": 0,
    "start_time": "2023-05-19T18:24:10.102Z"
   },
   {
    "duration": 0,
    "start_time": "2023-05-19T18:24:10.104Z"
   },
   {
    "duration": 9,
    "start_time": "2023-05-19T18:24:32.799Z"
   },
   {
    "duration": 100,
    "start_time": "2023-05-19T18:25:28.984Z"
   },
   {
    "duration": 9,
    "start_time": "2023-05-19T18:25:52.664Z"
   },
   {
    "duration": 14,
    "start_time": "2023-05-19T18:26:12.138Z"
   },
   {
    "duration": 3,
    "start_time": "2023-05-19T18:26:12.857Z"
   },
   {
    "duration": 3,
    "start_time": "2023-05-19T18:26:16.184Z"
   },
   {
    "duration": 166,
    "start_time": "2023-05-19T18:26:16.189Z"
   },
   {
    "duration": 25,
    "start_time": "2023-05-19T18:26:16.357Z"
   },
   {
    "duration": 2410,
    "start_time": "2023-05-19T18:26:16.384Z"
   },
   {
    "duration": 11,
    "start_time": "2023-05-19T18:26:18.797Z"
   },
   {
    "duration": 29,
    "start_time": "2023-05-19T18:26:18.810Z"
   },
   {
    "duration": 24,
    "start_time": "2023-05-19T18:26:18.841Z"
   },
   {
    "duration": 5,
    "start_time": "2023-05-19T18:26:18.867Z"
   },
   {
    "duration": 1364,
    "start_time": "2023-05-19T18:26:18.874Z"
   },
   {
    "duration": 1281,
    "start_time": "2023-05-19T18:26:20.241Z"
   },
   {
    "duration": 1366,
    "start_time": "2023-05-19T18:26:21.524Z"
   },
   {
    "duration": 1226,
    "start_time": "2023-05-19T18:26:22.892Z"
   },
   {
    "duration": 10,
    "start_time": "2023-05-19T18:26:24.120Z"
   },
   {
    "duration": 43,
    "start_time": "2023-05-19T18:26:24.133Z"
   },
   {
    "duration": 93,
    "start_time": "2023-05-19T18:26:24.179Z"
   },
   {
    "duration": 0,
    "start_time": "2023-05-19T18:26:24.275Z"
   },
   {
    "duration": 26,
    "start_time": "2023-05-19T18:26:46.653Z"
   },
   {
    "duration": 12,
    "start_time": "2023-05-19T18:26:56.020Z"
   },
   {
    "duration": 89,
    "start_time": "2023-05-19T18:37:59.380Z"
   },
   {
    "duration": 5,
    "start_time": "2023-05-19T18:42:08.052Z"
   },
   {
    "duration": 9,
    "start_time": "2023-05-19T18:43:29.306Z"
   },
   {
    "duration": 6,
    "start_time": "2023-05-19T18:43:39.712Z"
   },
   {
    "duration": 2,
    "start_time": "2023-05-19T18:55:08.739Z"
   },
   {
    "duration": 141,
    "start_time": "2023-05-19T18:55:08.743Z"
   },
   {
    "duration": 18,
    "start_time": "2023-05-19T18:55:08.886Z"
   },
   {
    "duration": 2049,
    "start_time": "2023-05-19T18:55:08.906Z"
   },
   {
    "duration": 21,
    "start_time": "2023-05-19T18:55:10.958Z"
   },
   {
    "duration": 7,
    "start_time": "2023-05-19T18:55:10.981Z"
   },
   {
    "duration": 26,
    "start_time": "2023-05-19T18:55:10.990Z"
   },
   {
    "duration": 2,
    "start_time": "2023-05-19T18:55:11.018Z"
   },
   {
    "duration": 1201,
    "start_time": "2023-05-19T18:55:11.022Z"
   },
   {
    "duration": 1172,
    "start_time": "2023-05-19T18:55:12.225Z"
   },
   {
    "duration": 1134,
    "start_time": "2023-05-19T18:55:13.399Z"
   },
   {
    "duration": 1167,
    "start_time": "2023-05-19T18:55:14.535Z"
   },
   {
    "duration": 10,
    "start_time": "2023-05-19T18:55:15.704Z"
   },
   {
    "duration": 47,
    "start_time": "2023-05-19T18:55:15.717Z"
   },
   {
    "duration": 68,
    "start_time": "2023-05-19T18:55:15.766Z"
   },
   {
    "duration": 0,
    "start_time": "2023-05-19T18:55:15.836Z"
   },
   {
    "duration": 0,
    "start_time": "2023-05-19T18:55:15.837Z"
   },
   {
    "duration": 82,
    "start_time": "2023-05-19T19:02:32.082Z"
   },
   {
    "duration": 34,
    "start_time": "2023-05-19T19:04:09.257Z"
   },
   {
    "duration": 11,
    "start_time": "2023-05-19T19:17:59.558Z"
   },
   {
    "duration": 94,
    "start_time": "2023-05-19T19:20:22.092Z"
   },
   {
    "duration": 79,
    "start_time": "2023-05-19T19:20:41.670Z"
   },
   {
    "duration": 9,
    "start_time": "2023-05-19T19:25:59.852Z"
   },
   {
    "duration": 24,
    "start_time": "2023-05-19T19:26:06.070Z"
   },
   {
    "duration": 6,
    "start_time": "2023-05-19T19:26:38.412Z"
   },
   {
    "duration": 6,
    "start_time": "2023-05-19T19:26:57.908Z"
   },
   {
    "duration": 38,
    "start_time": "2023-05-19T19:26:58.496Z"
   },
   {
    "duration": 29,
    "start_time": "2023-05-19T19:27:26.438Z"
   },
   {
    "duration": 5,
    "start_time": "2023-05-19T19:27:30.794Z"
   },
   {
    "duration": 26,
    "start_time": "2023-05-19T19:27:31.221Z"
   },
   {
    "duration": 31,
    "start_time": "2023-05-19T19:27:43.878Z"
   },
   {
    "duration": 6,
    "start_time": "2023-05-19T19:29:28.928Z"
   },
   {
    "duration": 251,
    "start_time": "2023-05-19T19:29:29.436Z"
   },
   {
    "duration": 31,
    "start_time": "2023-05-19T19:29:56.381Z"
   },
   {
    "duration": 6,
    "start_time": "2023-05-19T19:30:08.787Z"
   },
   {
    "duration": 27,
    "start_time": "2023-05-19T19:30:09.009Z"
   },
   {
    "duration": 4,
    "start_time": "2023-05-19T19:30:24.146Z"
   },
   {
    "duration": 398,
    "start_time": "2023-05-19T19:30:24.153Z"
   },
   {
    "duration": 16,
    "start_time": "2023-05-19T19:30:24.553Z"
   },
   {
    "duration": 2320,
    "start_time": "2023-05-19T19:30:24.571Z"
   },
   {
    "duration": 10,
    "start_time": "2023-05-19T19:30:26.893Z"
   },
   {
    "duration": 6,
    "start_time": "2023-05-19T19:30:26.906Z"
   },
   {
    "duration": 27,
    "start_time": "2023-05-19T19:30:26.914Z"
   },
   {
    "duration": 2,
    "start_time": "2023-05-19T19:30:26.943Z"
   },
   {
    "duration": 1306,
    "start_time": "2023-05-19T19:30:26.947Z"
   },
   {
    "duration": 1245,
    "start_time": "2023-05-19T19:30:28.256Z"
   },
   {
    "duration": 1231,
    "start_time": "2023-05-19T19:30:29.503Z"
   },
   {
    "duration": 1352,
    "start_time": "2023-05-19T19:30:30.736Z"
   },
   {
    "duration": 10,
    "start_time": "2023-05-19T19:30:32.090Z"
   },
   {
    "duration": 48,
    "start_time": "2023-05-19T19:30:32.102Z"
   },
   {
    "duration": 12,
    "start_time": "2023-05-19T19:30:32.153Z"
   },
   {
    "duration": 44,
    "start_time": "2023-05-19T19:30:32.167Z"
   },
   {
    "duration": 26,
    "start_time": "2023-05-19T19:30:32.213Z"
   },
   {
    "duration": 84,
    "start_time": "2023-05-19T19:30:32.241Z"
   },
   {
    "duration": 69,
    "start_time": "2023-05-19T19:31:08.793Z"
   },
   {
    "duration": 11,
    "start_time": "2023-05-19T19:33:14.869Z"
   },
   {
    "duration": 23,
    "start_time": "2023-05-19T19:46:12.996Z"
   },
   {
    "duration": 29,
    "start_time": "2023-05-19T19:46:33.103Z"
   },
   {
    "duration": 14,
    "start_time": "2023-05-19T19:48:13.837Z"
   },
   {
    "duration": 37,
    "start_time": "2023-05-19T20:07:55.968Z"
   },
   {
    "duration": 3,
    "start_time": "2023-05-19T20:08:30.113Z"
   },
   {
    "duration": 272,
    "start_time": "2023-05-19T20:08:30.118Z"
   },
   {
    "duration": 23,
    "start_time": "2023-05-19T20:08:30.399Z"
   },
   {
    "duration": 2707,
    "start_time": "2023-05-19T20:08:30.429Z"
   },
   {
    "duration": 11,
    "start_time": "2023-05-19T20:08:33.140Z"
   },
   {
    "duration": 35,
    "start_time": "2023-05-19T20:08:33.153Z"
   },
   {
    "duration": 50,
    "start_time": "2023-05-19T20:08:33.194Z"
   },
   {
    "duration": 4,
    "start_time": "2023-05-19T20:08:33.246Z"
   },
   {
    "duration": 18,
    "start_time": "2023-05-19T20:08:33.252Z"
   },
   {
    "duration": 0,
    "start_time": "2023-05-19T20:08:33.272Z"
   },
   {
    "duration": 0,
    "start_time": "2023-05-19T20:08:33.273Z"
   },
   {
    "duration": 0,
    "start_time": "2023-05-19T20:08:33.278Z"
   },
   {
    "duration": 0,
    "start_time": "2023-05-19T20:08:33.280Z"
   },
   {
    "duration": 0,
    "start_time": "2023-05-19T20:08:33.283Z"
   },
   {
    "duration": 0,
    "start_time": "2023-05-19T20:08:33.292Z"
   },
   {
    "duration": 0,
    "start_time": "2023-05-19T20:08:33.293Z"
   },
   {
    "duration": 0,
    "start_time": "2023-05-19T20:08:33.297Z"
   },
   {
    "duration": 0,
    "start_time": "2023-05-19T20:08:33.298Z"
   },
   {
    "duration": 0,
    "start_time": "2023-05-19T20:08:33.299Z"
   },
   {
    "duration": 16,
    "start_time": "2023-05-19T20:09:11.859Z"
   },
   {
    "duration": 521,
    "start_time": "2023-05-19T20:09:30.999Z"
   },
   {
    "duration": 6,
    "start_time": "2023-05-19T20:09:35.492Z"
   },
   {
    "duration": 180,
    "start_time": "2023-05-19T20:09:35.502Z"
   },
   {
    "duration": 19,
    "start_time": "2023-05-19T20:09:35.695Z"
   },
   {
    "duration": 2370,
    "start_time": "2023-05-19T20:09:35.716Z"
   },
   {
    "duration": 19,
    "start_time": "2023-05-19T20:09:38.089Z"
   },
   {
    "duration": 9,
    "start_time": "2023-05-19T20:09:38.110Z"
   },
   {
    "duration": 26,
    "start_time": "2023-05-19T20:09:38.122Z"
   },
   {
    "duration": 3,
    "start_time": "2023-05-19T20:09:38.150Z"
   },
   {
    "duration": 876,
    "start_time": "2023-05-19T20:09:38.171Z"
   },
   {
    "duration": 1328,
    "start_time": "2023-05-19T20:09:39.048Z"
   },
   {
    "duration": 1353,
    "start_time": "2023-05-19T20:09:40.380Z"
   },
   {
    "duration": 1309,
    "start_time": "2023-05-19T20:09:41.735Z"
   },
   {
    "duration": 1372,
    "start_time": "2023-05-19T20:09:43.045Z"
   },
   {
    "duration": 12,
    "start_time": "2023-05-19T20:09:44.420Z"
   },
   {
    "duration": 58,
    "start_time": "2023-05-19T20:09:44.434Z"
   },
   {
    "duration": 133,
    "start_time": "2023-05-19T20:09:44.496Z"
   },
   {
    "duration": 0,
    "start_time": "2023-05-19T20:09:44.631Z"
   },
   {
    "duration": 0,
    "start_time": "2023-05-19T20:09:44.633Z"
   },
   {
    "duration": 0,
    "start_time": "2023-05-19T20:09:44.634Z"
   },
   {
    "duration": 100,
    "start_time": "2023-05-19T20:11:15.763Z"
   },
   {
    "duration": 105,
    "start_time": "2023-05-19T20:11:27.377Z"
   },
   {
    "duration": 86,
    "start_time": "2023-05-20T09:18:59.068Z"
   },
   {
    "duration": 421,
    "start_time": "2023-05-20T09:19:04.823Z"
   },
   {
    "duration": 437,
    "start_time": "2023-05-20T09:19:05.246Z"
   },
   {
    "duration": 18,
    "start_time": "2023-05-20T09:19:05.686Z"
   },
   {
    "duration": 3089,
    "start_time": "2023-05-20T09:19:05.708Z"
   },
   {
    "duration": 11,
    "start_time": "2023-05-20T09:19:08.799Z"
   },
   {
    "duration": 26,
    "start_time": "2023-05-20T09:19:08.812Z"
   },
   {
    "duration": 58,
    "start_time": "2023-05-20T09:19:08.841Z"
   },
   {
    "duration": 88,
    "start_time": "2023-05-20T09:19:08.901Z"
   },
   {
    "duration": 0,
    "start_time": "2023-05-20T09:19:08.991Z"
   },
   {
    "duration": 0,
    "start_time": "2023-05-20T09:19:08.992Z"
   },
   {
    "duration": 0,
    "start_time": "2023-05-20T09:19:08.993Z"
   },
   {
    "duration": 0,
    "start_time": "2023-05-20T09:19:08.995Z"
   },
   {
    "duration": 0,
    "start_time": "2023-05-20T09:19:08.996Z"
   },
   {
    "duration": 0,
    "start_time": "2023-05-20T09:19:08.997Z"
   },
   {
    "duration": 0,
    "start_time": "2023-05-20T09:19:08.999Z"
   },
   {
    "duration": 0,
    "start_time": "2023-05-20T09:19:09.000Z"
   },
   {
    "duration": 0,
    "start_time": "2023-05-20T09:19:09.002Z"
   },
   {
    "duration": 0,
    "start_time": "2023-05-20T09:19:09.003Z"
   },
   {
    "duration": 0,
    "start_time": "2023-05-20T09:19:09.005Z"
   },
   {
    "duration": 0,
    "start_time": "2023-05-20T09:19:09.006Z"
   },
   {
    "duration": 3,
    "start_time": "2023-05-20T09:19:50.919Z"
   },
   {
    "duration": 175,
    "start_time": "2023-05-20T09:19:50.924Z"
   },
   {
    "duration": 18,
    "start_time": "2023-05-20T09:19:51.101Z"
   },
   {
    "duration": 2496,
    "start_time": "2023-05-20T09:19:51.121Z"
   },
   {
    "duration": 11,
    "start_time": "2023-05-20T09:19:53.621Z"
   },
   {
    "duration": 64,
    "start_time": "2023-05-20T09:19:53.634Z"
   },
   {
    "duration": 119,
    "start_time": "2023-05-20T09:19:53.700Z"
   },
   {
    "duration": 2,
    "start_time": "2023-05-20T09:19:53.821Z"
   },
   {
    "duration": 563,
    "start_time": "2023-05-20T09:19:53.825Z"
   },
   {
    "duration": 1414,
    "start_time": "2023-05-20T09:19:54.390Z"
   },
   {
    "duration": 1499,
    "start_time": "2023-05-20T09:19:55.806Z"
   },
   {
    "duration": 1358,
    "start_time": "2023-05-20T09:19:57.307Z"
   },
   {
    "duration": 1350,
    "start_time": "2023-05-20T09:19:58.667Z"
   },
   {
    "duration": 97,
    "start_time": "2023-05-20T09:20:00.021Z"
   },
   {
    "duration": 0,
    "start_time": "2023-05-20T09:20:00.121Z"
   },
   {
    "duration": 0,
    "start_time": "2023-05-20T09:20:00.122Z"
   },
   {
    "duration": 1,
    "start_time": "2023-05-20T09:20:00.124Z"
   },
   {
    "duration": 0,
    "start_time": "2023-05-20T09:20:00.126Z"
   },
   {
    "duration": 0,
    "start_time": "2023-05-20T09:20:00.128Z"
   },
   {
    "duration": 0,
    "start_time": "2023-05-20T09:20:00.130Z"
   },
   {
    "duration": 77,
    "start_time": "2023-05-20T09:20:43.384Z"
   },
   {
    "duration": 122,
    "start_time": "2023-05-20T09:26:21.353Z"
   },
   {
    "duration": 103,
    "start_time": "2023-05-20T09:32:13.102Z"
   },
   {
    "duration": 77,
    "start_time": "2023-05-20T09:33:11.689Z"
   },
   {
    "duration": 78,
    "start_time": "2023-05-20T09:33:17.622Z"
   },
   {
    "duration": 255,
    "start_time": "2023-05-20T09:35:01.970Z"
   },
   {
    "duration": 4,
    "start_time": "2023-05-20T09:35:12.311Z"
   },
   {
    "duration": 8,
    "start_time": "2023-05-20T09:35:47.423Z"
   },
   {
    "duration": 3,
    "start_time": "2023-05-20T09:35:49.705Z"
   },
   {
    "duration": 199,
    "start_time": "2023-05-20T09:35:49.712Z"
   },
   {
    "duration": 19,
    "start_time": "2023-05-20T09:35:49.913Z"
   },
   {
    "duration": 2712,
    "start_time": "2023-05-20T09:35:49.934Z"
   },
   {
    "duration": 11,
    "start_time": "2023-05-20T09:35:52.648Z"
   },
   {
    "duration": 49,
    "start_time": "2023-05-20T09:35:52.661Z"
   },
   {
    "duration": 77,
    "start_time": "2023-05-20T09:35:52.713Z"
   },
   {
    "duration": 5,
    "start_time": "2023-05-20T09:35:52.799Z"
   },
   {
    "duration": 566,
    "start_time": "2023-05-20T09:35:52.806Z"
   },
   {
    "duration": 1527,
    "start_time": "2023-05-20T09:35:53.379Z"
   },
   {
    "duration": 1659,
    "start_time": "2023-05-20T09:35:54.908Z"
   },
   {
    "duration": 1537,
    "start_time": "2023-05-20T09:35:56.571Z"
   },
   {
    "duration": 1606,
    "start_time": "2023-05-20T09:35:58.110Z"
   },
   {
    "duration": 6,
    "start_time": "2023-05-20T09:35:59.721Z"
   },
   {
    "duration": 23,
    "start_time": "2023-05-20T09:35:59.729Z"
   },
   {
    "duration": 78,
    "start_time": "2023-05-20T09:35:59.754Z"
   },
   {
    "duration": 121,
    "start_time": "2023-05-20T09:35:59.835Z"
   },
   {
    "duration": 0,
    "start_time": "2023-05-20T09:35:59.958Z"
   },
   {
    "duration": 0,
    "start_time": "2023-05-20T09:35:59.960Z"
   },
   {
    "duration": 0,
    "start_time": "2023-05-20T09:35:59.962Z"
   },
   {
    "duration": 6,
    "start_time": "2023-05-20T09:36:28.125Z"
   },
   {
    "duration": 29,
    "start_time": "2023-05-20T09:36:32.290Z"
   },
   {
    "duration": 6,
    "start_time": "2023-05-20T09:37:33.402Z"
   },
   {
    "duration": 14,
    "start_time": "2023-05-20T09:37:54.897Z"
   },
   {
    "duration": 17,
    "start_time": "2023-05-20T09:38:20.762Z"
   },
   {
    "duration": 13,
    "start_time": "2023-05-20T09:38:55.001Z"
   },
   {
    "duration": 89,
    "start_time": "2023-05-20T09:40:16.977Z"
   },
   {
    "duration": 10,
    "start_time": "2023-05-20T09:40:45.715Z"
   },
   {
    "duration": 90,
    "start_time": "2023-05-20T09:42:33.440Z"
   },
   {
    "duration": 70,
    "start_time": "2023-05-20T09:42:45.831Z"
   },
   {
    "duration": 190,
    "start_time": "2023-05-20T09:45:49.632Z"
   },
   {
    "duration": 184,
    "start_time": "2023-05-20T09:46:49.312Z"
   },
   {
    "duration": 176,
    "start_time": "2023-05-20T09:46:55.151Z"
   },
   {
    "duration": 234,
    "start_time": "2023-05-20T09:47:31.230Z"
   },
   {
    "duration": 354,
    "start_time": "2023-05-20T09:47:56.665Z"
   },
   {
    "duration": 233,
    "start_time": "2023-05-20T09:48:15.809Z"
   },
   {
    "duration": 197,
    "start_time": "2023-05-20T09:48:51.298Z"
   },
   {
    "duration": 227,
    "start_time": "2023-05-20T09:49:52.187Z"
   },
   {
    "duration": 176,
    "start_time": "2023-05-20T09:50:06.673Z"
   },
   {
    "duration": 91,
    "start_time": "2023-05-20T09:50:26.905Z"
   },
   {
    "duration": 234,
    "start_time": "2023-05-20T09:50:33.957Z"
   },
   {
    "duration": 100,
    "start_time": "2023-05-20T09:50:35.298Z"
   },
   {
    "duration": 184,
    "start_time": "2023-05-20T09:51:31.308Z"
   },
   {
    "duration": 127,
    "start_time": "2023-05-20T09:51:34.797Z"
   },
   {
    "duration": 184,
    "start_time": "2023-05-20T09:52:08.505Z"
   },
   {
    "duration": 108,
    "start_time": "2023-05-20T09:52:10.456Z"
   },
   {
    "duration": 177,
    "start_time": "2023-05-20T09:52:40.006Z"
   },
   {
    "duration": 190,
    "start_time": "2023-05-20T09:52:53.150Z"
   },
   {
    "duration": 173,
    "start_time": "2023-05-20T09:53:23.188Z"
   },
   {
    "duration": 214,
    "start_time": "2023-05-20T09:53:35.915Z"
   },
   {
    "duration": 5,
    "start_time": "2023-05-20T09:53:40.935Z"
   },
   {
    "duration": 239,
    "start_time": "2023-05-20T09:53:40.943Z"
   },
   {
    "duration": 25,
    "start_time": "2023-05-20T09:53:41.184Z"
   },
   {
    "duration": 2668,
    "start_time": "2023-05-20T09:53:41.214Z"
   },
   {
    "duration": 15,
    "start_time": "2023-05-20T09:53:43.885Z"
   },
   {
    "duration": 21,
    "start_time": "2023-05-20T09:53:43.903Z"
   },
   {
    "duration": 38,
    "start_time": "2023-05-20T09:53:43.927Z"
   },
   {
    "duration": 48,
    "start_time": "2023-05-20T09:53:43.967Z"
   },
   {
    "duration": 571,
    "start_time": "2023-05-20T09:53:44.017Z"
   },
   {
    "duration": 1681,
    "start_time": "2023-05-20T09:53:44.590Z"
   },
   {
    "duration": 1717,
    "start_time": "2023-05-20T09:53:46.274Z"
   },
   {
    "duration": 1620,
    "start_time": "2023-05-20T09:53:47.994Z"
   },
   {
    "duration": 1492,
    "start_time": "2023-05-20T09:53:49.616Z"
   },
   {
    "duration": 12,
    "start_time": "2023-05-20T09:53:51.112Z"
   },
   {
    "duration": 28,
    "start_time": "2023-05-20T09:53:51.127Z"
   },
   {
    "duration": 164,
    "start_time": "2023-05-20T09:53:51.157Z"
   },
   {
    "duration": 193,
    "start_time": "2023-05-20T09:53:51.324Z"
   },
   {
    "duration": 26,
    "start_time": "2023-05-20T09:53:51.519Z"
   },
   {
    "duration": 33,
    "start_time": "2023-05-20T09:53:51.547Z"
   },
   {
    "duration": 136,
    "start_time": "2023-05-20T09:53:51.583Z"
   },
   {
    "duration": 0,
    "start_time": "2023-05-20T09:53:51.721Z"
   },
   {
    "duration": 0,
    "start_time": "2023-05-20T09:53:51.723Z"
   },
   {
    "duration": 0,
    "start_time": "2023-05-20T09:53:51.724Z"
   },
   {
    "duration": 11,
    "start_time": "2023-05-20T09:57:24.902Z"
   },
   {
    "duration": 30,
    "start_time": "2023-05-20T09:57:30.202Z"
   },
   {
    "duration": 11,
    "start_time": "2023-05-20T09:57:30.350Z"
   },
   {
    "duration": 9,
    "start_time": "2023-05-20T09:59:26.502Z"
   },
   {
    "duration": 26,
    "start_time": "2023-05-20T09:59:29.186Z"
   },
   {
    "duration": 10,
    "start_time": "2023-05-20T09:59:29.302Z"
   },
   {
    "duration": 23,
    "start_time": "2023-05-20T10:18:36.543Z"
   },
   {
    "duration": 6,
    "start_time": "2023-05-20T10:20:06.752Z"
   },
   {
    "duration": 26,
    "start_time": "2023-05-20T10:20:10.400Z"
   },
   {
    "duration": 11,
    "start_time": "2023-05-20T10:20:22.102Z"
   },
   {
    "duration": 3,
    "start_time": "2023-05-20T10:42:28.209Z"
   },
   {
    "duration": 385,
    "start_time": "2023-05-20T10:42:28.215Z"
   },
   {
    "duration": 19,
    "start_time": "2023-05-20T10:42:28.602Z"
   },
   {
    "duration": 2526,
    "start_time": "2023-05-20T10:42:28.625Z"
   },
   {
    "duration": 37,
    "start_time": "2023-05-20T10:42:31.153Z"
   },
   {
    "duration": 50,
    "start_time": "2023-05-20T10:42:31.192Z"
   },
   {
    "duration": 63,
    "start_time": "2023-05-20T10:42:31.244Z"
   },
   {
    "duration": 44,
    "start_time": "2023-05-20T10:42:31.310Z"
   },
   {
    "duration": 728,
    "start_time": "2023-05-20T10:42:31.360Z"
   },
   {
    "duration": 444,
    "start_time": "2023-05-20T10:42:32.090Z"
   },
   {
    "duration": 1373,
    "start_time": "2023-05-20T10:42:32.536Z"
   },
   {
    "duration": 1382,
    "start_time": "2023-05-20T10:42:33.911Z"
   },
   {
    "duration": 1554,
    "start_time": "2023-05-20T10:42:35.296Z"
   },
   {
    "duration": 1480,
    "start_time": "2023-05-20T10:42:36.852Z"
   },
   {
    "duration": 7,
    "start_time": "2023-05-20T10:42:38.334Z"
   },
   {
    "duration": 122,
    "start_time": "2023-05-20T10:42:38.343Z"
   },
   {
    "duration": 196,
    "start_time": "2023-05-20T10:42:38.467Z"
   },
   {
    "duration": 17,
    "start_time": "2023-05-20T10:42:38.665Z"
   },
   {
    "duration": 10,
    "start_time": "2023-05-20T10:42:38.685Z"
   },
   {
    "duration": 33,
    "start_time": "2023-05-20T10:42:38.697Z"
   },
   {
    "duration": 12,
    "start_time": "2023-05-20T10:42:38.732Z"
   },
   {
    "duration": 3,
    "start_time": "2023-05-20T10:42:38.771Z"
   },
   {
    "duration": 38,
    "start_time": "2023-05-20T10:42:38.777Z"
   },
   {
    "duration": 18,
    "start_time": "2023-05-20T10:42:38.819Z"
   },
   {
    "duration": 4,
    "start_time": "2023-05-20T10:42:38.839Z"
   },
   {
    "duration": 433,
    "start_time": "2023-05-20T10:43:10.801Z"
   },
   {
    "duration": 372,
    "start_time": "2023-05-20T10:43:19.672Z"
   },
   {
    "duration": 606,
    "start_time": "2023-05-20T10:43:30.590Z"
   },
   {
    "duration": 11,
    "start_time": "2023-05-20T10:43:51.671Z"
   },
   {
    "duration": 372,
    "start_time": "2023-05-20T10:43:54.903Z"
   },
   {
    "duration": 3,
    "start_time": "2023-05-20T10:43:58.019Z"
   },
   {
    "duration": 164,
    "start_time": "2023-05-20T10:43:58.024Z"
   },
   {
    "duration": 19,
    "start_time": "2023-05-20T10:43:58.191Z"
   },
   {
    "duration": 2294,
    "start_time": "2023-05-20T10:43:58.213Z"
   },
   {
    "duration": 10,
    "start_time": "2023-05-20T10:44:00.509Z"
   },
   {
    "duration": 104,
    "start_time": "2023-05-20T10:44:00.521Z"
   },
   {
    "duration": 221,
    "start_time": "2023-05-20T10:44:00.627Z"
   },
   {
    "duration": 29,
    "start_time": "2023-05-20T10:44:00.850Z"
   },
   {
    "duration": 617,
    "start_time": "2023-05-20T10:44:00.883Z"
   },
   {
    "duration": 670,
    "start_time": "2023-05-20T10:44:01.503Z"
   },
   {
    "duration": 1312,
    "start_time": "2023-05-20T10:44:02.176Z"
   },
   {
    "duration": 1325,
    "start_time": "2023-05-20T10:44:03.490Z"
   },
   {
    "duration": 1421,
    "start_time": "2023-05-20T10:44:04.817Z"
   },
   {
    "duration": 1314,
    "start_time": "2023-05-20T10:44:06.240Z"
   },
   {
    "duration": 6,
    "start_time": "2023-05-20T10:44:07.556Z"
   },
   {
    "duration": 128,
    "start_time": "2023-05-20T10:44:07.572Z"
   },
   {
    "duration": 430,
    "start_time": "2023-05-20T10:44:07.702Z"
   },
   {
    "duration": 8,
    "start_time": "2023-05-20T10:44:08.134Z"
   },
   {
    "duration": 56,
    "start_time": "2023-05-20T10:44:08.144Z"
   },
   {
    "duration": 18,
    "start_time": "2023-05-20T10:44:08.202Z"
   },
   {
    "duration": 41,
    "start_time": "2023-05-20T10:44:08.222Z"
   },
   {
    "duration": 21,
    "start_time": "2023-05-20T10:44:08.265Z"
   },
   {
    "duration": 25,
    "start_time": "2023-05-20T10:44:08.288Z"
   },
   {
    "duration": 36,
    "start_time": "2023-05-20T10:44:08.317Z"
   },
   {
    "duration": 30,
    "start_time": "2023-05-20T10:44:08.355Z"
   },
   {
    "duration": 4,
    "start_time": "2023-05-20T10:44:08.388Z"
   },
   {
    "duration": 370,
    "start_time": "2023-05-20T10:44:27.525Z"
   },
   {
    "duration": 387,
    "start_time": "2023-05-20T10:44:52.434Z"
   },
   {
    "duration": 360,
    "start_time": "2023-05-20T10:44:58.833Z"
   },
   {
    "duration": 395,
    "start_time": "2023-05-20T10:47:18.764Z"
   },
   {
    "duration": 373,
    "start_time": "2023-05-20T10:47:40.494Z"
   },
   {
    "duration": 397,
    "start_time": "2023-05-20T10:47:47.939Z"
   },
   {
    "duration": 401,
    "start_time": "2023-05-20T10:48:09.961Z"
   },
   {
    "duration": 167,
    "start_time": "2023-05-20T10:48:33.752Z"
   },
   {
    "duration": 238,
    "start_time": "2023-05-20T10:48:35.104Z"
   },
   {
    "duration": 165,
    "start_time": "2023-05-20T10:48:43.316Z"
   },
   {
    "duration": 3,
    "start_time": "2023-05-20T10:48:59.301Z"
   },
   {
    "duration": 172,
    "start_time": "2023-05-20T10:48:59.529Z"
   },
   {
    "duration": 183,
    "start_time": "2023-05-20T10:49:04.649Z"
   },
   {
    "duration": 121,
    "start_time": "2023-05-20T10:49:16.461Z"
   },
   {
    "duration": 9,
    "start_time": "2023-05-20T10:50:03.541Z"
   },
   {
    "duration": 3,
    "start_time": "2023-05-20T10:50:05.841Z"
   },
   {
    "duration": 244,
    "start_time": "2023-05-20T10:50:05.847Z"
   },
   {
    "duration": 24,
    "start_time": "2023-05-20T10:50:06.098Z"
   },
   {
    "duration": 2801,
    "start_time": "2023-05-20T10:50:06.125Z"
   },
   {
    "duration": 11,
    "start_time": "2023-05-20T10:50:08.928Z"
   },
   {
    "duration": 9,
    "start_time": "2023-05-20T10:50:08.941Z"
   },
   {
    "duration": 37,
    "start_time": "2023-05-20T10:50:08.970Z"
   },
   {
    "duration": 16,
    "start_time": "2023-05-20T10:50:09.010Z"
   },
   {
    "duration": 573,
    "start_time": "2023-05-20T10:50:09.028Z"
   },
   {
    "duration": 421,
    "start_time": "2023-05-20T10:50:09.603Z"
   },
   {
    "duration": 1624,
    "start_time": "2023-05-20T10:50:10.026Z"
   },
   {
    "duration": 1662,
    "start_time": "2023-05-20T10:50:11.652Z"
   },
   {
    "duration": 1446,
    "start_time": "2023-05-20T10:50:13.317Z"
   },
   {
    "duration": 1564,
    "start_time": "2023-05-20T10:50:14.767Z"
   },
   {
    "duration": 6,
    "start_time": "2023-05-20T10:50:16.333Z"
   },
   {
    "duration": 101,
    "start_time": "2023-05-20T10:50:16.341Z"
   },
   {
    "duration": 200,
    "start_time": "2023-05-20T10:50:16.444Z"
   },
   {
    "duration": 267,
    "start_time": "2023-05-20T10:50:16.646Z"
   },
   {
    "duration": 7,
    "start_time": "2023-05-20T10:50:16.915Z"
   },
   {
    "duration": 23,
    "start_time": "2023-05-20T10:50:16.924Z"
   },
   {
    "duration": 5,
    "start_time": "2023-05-20T10:50:16.949Z"
   },
   {
    "duration": 49,
    "start_time": "2023-05-20T10:50:16.956Z"
   },
   {
    "duration": 18,
    "start_time": "2023-05-20T10:50:17.008Z"
   },
   {
    "duration": 11,
    "start_time": "2023-05-20T10:50:17.028Z"
   },
   {
    "duration": 41,
    "start_time": "2023-05-20T10:50:17.042Z"
   },
   {
    "duration": 20,
    "start_time": "2023-05-20T10:50:17.093Z"
   },
   {
    "duration": 4,
    "start_time": "2023-05-20T10:50:17.115Z"
   },
   {
    "duration": 293,
    "start_time": "2023-05-20T10:51:27.710Z"
   },
   {
    "duration": 2,
    "start_time": "2023-05-20T10:53:00.742Z"
   },
   {
    "duration": 320,
    "start_time": "2023-05-20T10:53:00.746Z"
   },
   {
    "duration": 35,
    "start_time": "2023-05-20T10:53:01.067Z"
   },
   {
    "duration": 2913,
    "start_time": "2023-05-20T10:53:01.105Z"
   },
   {
    "duration": 15,
    "start_time": "2023-05-20T10:53:04.020Z"
   },
   {
    "duration": 10,
    "start_time": "2023-05-20T10:53:04.037Z"
   },
   {
    "duration": 56,
    "start_time": "2023-05-20T10:53:04.049Z"
   },
   {
    "duration": 2,
    "start_time": "2023-05-20T10:53:04.108Z"
   },
   {
    "duration": 578,
    "start_time": "2023-05-20T10:53:04.112Z"
   },
   {
    "duration": 607,
    "start_time": "2023-05-20T10:53:04.694Z"
   },
   {
    "duration": 1638,
    "start_time": "2023-05-20T10:53:05.304Z"
   },
   {
    "duration": 1603,
    "start_time": "2023-05-20T10:53:06.947Z"
   },
   {
    "duration": 1488,
    "start_time": "2023-05-20T10:53:08.553Z"
   },
   {
    "duration": 1454,
    "start_time": "2023-05-20T10:53:10.043Z"
   },
   {
    "duration": 7,
    "start_time": "2023-05-20T10:53:11.499Z"
   },
   {
    "duration": 110,
    "start_time": "2023-05-20T10:53:11.508Z"
   },
   {
    "duration": 204,
    "start_time": "2023-05-20T10:53:11.620Z"
   },
   {
    "duration": 240,
    "start_time": "2023-05-20T10:53:11.826Z"
   },
   {
    "duration": 25,
    "start_time": "2023-05-20T10:53:12.072Z"
   },
   {
    "duration": 19,
    "start_time": "2023-05-20T10:53:12.101Z"
   },
   {
    "duration": 7,
    "start_time": "2023-05-20T10:53:12.121Z"
   },
   {
    "duration": 30,
    "start_time": "2023-05-20T10:53:12.130Z"
   },
   {
    "duration": 31,
    "start_time": "2023-05-20T10:53:12.162Z"
   },
   {
    "duration": 3,
    "start_time": "2023-05-20T10:53:12.195Z"
   },
   {
    "duration": 32,
    "start_time": "2023-05-20T10:53:12.200Z"
   },
   {
    "duration": 16,
    "start_time": "2023-05-20T10:53:12.234Z"
   },
   {
    "duration": 4,
    "start_time": "2023-05-20T10:53:12.252Z"
   },
   {
    "duration": 410,
    "start_time": "2023-05-20T10:55:13.469Z"
   },
   {
    "duration": 400,
    "start_time": "2023-05-20T10:55:27.503Z"
   },
   {
    "duration": 1332,
    "start_time": "2023-05-20T10:55:30.182Z"
   },
   {
    "duration": 4,
    "start_time": "2023-05-20T10:55:32.103Z"
   },
   {
    "duration": 177,
    "start_time": "2023-05-20T10:55:32.109Z"
   },
   {
    "duration": 21,
    "start_time": "2023-05-20T10:55:32.288Z"
   },
   {
    "duration": 2440,
    "start_time": "2023-05-20T10:55:32.311Z"
   },
   {
    "duration": 11,
    "start_time": "2023-05-20T10:55:34.754Z"
   },
   {
    "duration": 47,
    "start_time": "2023-05-20T10:55:34.767Z"
   },
   {
    "duration": 75,
    "start_time": "2023-05-20T10:55:34.816Z"
   },
   {
    "duration": 23,
    "start_time": "2023-05-20T10:55:34.893Z"
   },
   {
    "duration": 608,
    "start_time": "2023-05-20T10:55:34.918Z"
   },
   {
    "duration": 627,
    "start_time": "2023-05-20T10:55:35.528Z"
   },
   {
    "duration": 1471,
    "start_time": "2023-05-20T10:55:36.158Z"
   },
   {
    "duration": 1509,
    "start_time": "2023-05-20T10:55:37.631Z"
   },
   {
    "duration": 1557,
    "start_time": "2023-05-20T10:55:39.142Z"
   },
   {
    "duration": 1422,
    "start_time": "2023-05-20T10:55:40.704Z"
   },
   {
    "duration": 6,
    "start_time": "2023-05-20T10:55:42.128Z"
   },
   {
    "duration": 502,
    "start_time": "2023-05-20T10:55:42.136Z"
   },
   {
    "duration": 188,
    "start_time": "2023-05-20T10:55:42.640Z"
   },
   {
    "duration": 233,
    "start_time": "2023-05-20T10:55:42.829Z"
   },
   {
    "duration": 29,
    "start_time": "2023-05-20T10:55:43.064Z"
   },
   {
    "duration": 22,
    "start_time": "2023-05-20T10:55:43.095Z"
   },
   {
    "duration": 5,
    "start_time": "2023-05-20T10:55:43.120Z"
   },
   {
    "duration": 29,
    "start_time": "2023-05-20T10:55:43.127Z"
   },
   {
    "duration": 9,
    "start_time": "2023-05-20T10:55:43.158Z"
   },
   {
    "duration": 16,
    "start_time": "2023-05-20T10:55:43.168Z"
   },
   {
    "duration": 47,
    "start_time": "2023-05-20T10:55:43.186Z"
   },
   {
    "duration": 16,
    "start_time": "2023-05-20T10:55:43.235Z"
   },
   {
    "duration": 3,
    "start_time": "2023-05-20T10:55:43.253Z"
   },
   {
    "duration": 395,
    "start_time": "2023-05-20T10:55:48.598Z"
   },
   {
    "duration": 394,
    "start_time": "2023-05-20T10:55:51.126Z"
   },
   {
    "duration": 369,
    "start_time": "2023-05-20T10:55:59.622Z"
   },
   {
    "duration": 1332,
    "start_time": "2023-05-20T10:55:59.993Z"
   },
   {
    "duration": 1332,
    "start_time": "2023-05-20T10:56:01.328Z"
   },
   {
    "duration": 1283,
    "start_time": "2023-05-20T10:56:02.662Z"
   },
   {
    "duration": 1328,
    "start_time": "2023-05-20T10:56:03.947Z"
   },
   {
    "duration": 9,
    "start_time": "2023-05-20T10:56:05.282Z"
   },
   {
    "duration": 121,
    "start_time": "2023-05-20T10:56:05.300Z"
   },
   {
    "duration": 190,
    "start_time": "2023-05-20T10:56:05.423Z"
   },
   {
    "duration": 236,
    "start_time": "2023-05-20T10:56:05.615Z"
   },
   {
    "duration": 7,
    "start_time": "2023-05-20T10:56:05.853Z"
   },
   {
    "duration": 40,
    "start_time": "2023-05-20T10:56:05.863Z"
   },
   {
    "duration": 9,
    "start_time": "2023-05-20T10:56:05.905Z"
   },
   {
    "duration": 38,
    "start_time": "2023-05-20T10:56:05.916Z"
   },
   {
    "duration": 9,
    "start_time": "2023-05-20T10:56:07.112Z"
   },
   {
    "duration": 3,
    "start_time": "2023-05-20T10:56:07.314Z"
   },
   {
    "duration": 27,
    "start_time": "2023-05-20T10:57:22.837Z"
   },
   {
    "duration": 443,
    "start_time": "2023-05-20T11:08:34.198Z"
   },
   {
    "duration": 463,
    "start_time": "2023-05-20T11:08:41.011Z"
   },
   {
    "duration": 508,
    "start_time": "2023-05-20T11:08:49.700Z"
   },
   {
    "duration": 444,
    "start_time": "2023-05-20T11:09:35.699Z"
   },
   {
    "duration": 241,
    "start_time": "2023-05-20T11:10:12.062Z"
   },
   {
    "duration": 21,
    "start_time": "2023-05-20T11:12:19.686Z"
   },
   {
    "duration": 2552,
    "start_time": "2023-05-20T11:12:20.198Z"
   },
   {
    "duration": 43,
    "start_time": "2023-05-20T11:12:22.753Z"
   },
   {
    "duration": 50,
    "start_time": "2023-05-20T11:12:37.764Z"
   },
   {
    "duration": 28,
    "start_time": "2023-05-20T11:13:00.200Z"
   },
   {
    "duration": 10,
    "start_time": "2023-05-20T11:13:28.318Z"
   },
   {
    "duration": 8,
    "start_time": "2023-05-20T11:13:33.109Z"
   },
   {
    "duration": 4008,
    "start_time": "2023-05-20T11:21:35.101Z"
   },
   {
    "duration": 4,
    "start_time": "2023-05-20T11:22:35.263Z"
   },
   {
    "duration": 236,
    "start_time": "2023-05-20T11:22:35.269Z"
   },
   {
    "duration": 24,
    "start_time": "2023-05-20T11:22:35.507Z"
   },
   {
    "duration": 2653,
    "start_time": "2023-05-20T11:22:35.534Z"
   },
   {
    "duration": 16,
    "start_time": "2023-05-20T11:22:38.190Z"
   },
   {
    "duration": 12,
    "start_time": "2023-05-20T11:22:38.208Z"
   },
   {
    "duration": 34,
    "start_time": "2023-05-20T11:22:38.222Z"
   },
   {
    "duration": 6,
    "start_time": "2023-05-20T11:22:38.276Z"
   },
   {
    "duration": 596,
    "start_time": "2023-05-20T11:22:38.285Z"
   },
   {
    "duration": 655,
    "start_time": "2023-05-20T11:22:38.890Z"
   },
   {
    "duration": 1512,
    "start_time": "2023-05-20T11:22:39.547Z"
   },
   {
    "duration": 1590,
    "start_time": "2023-05-20T11:22:41.061Z"
   },
   {
    "duration": 1678,
    "start_time": "2023-05-20T11:22:42.652Z"
   },
   {
    "duration": 1702,
    "start_time": "2023-05-20T11:22:44.332Z"
   },
   {
    "duration": 7,
    "start_time": "2023-05-20T11:22:46.037Z"
   },
   {
    "duration": 161,
    "start_time": "2023-05-20T11:22:46.047Z"
   },
   {
    "duration": 269,
    "start_time": "2023-05-20T11:22:46.213Z"
   },
   {
    "duration": 330,
    "start_time": "2023-05-20T11:22:46.485Z"
   },
   {
    "duration": 9,
    "start_time": "2023-05-20T11:22:46.817Z"
   },
   {
    "duration": 21,
    "start_time": "2023-05-20T11:22:46.829Z"
   },
   {
    "duration": 25,
    "start_time": "2023-05-20T11:22:46.852Z"
   },
   {
    "duration": 66,
    "start_time": "2023-05-20T11:22:46.879Z"
   },
   {
    "duration": 10,
    "start_time": "2023-05-20T11:22:46.947Z"
   },
   {
    "duration": 38,
    "start_time": "2023-05-20T11:22:46.960Z"
   },
   {
    "duration": 47,
    "start_time": "2023-05-20T11:22:47.002Z"
   },
   {
    "duration": 22,
    "start_time": "2023-05-20T11:22:47.052Z"
   },
   {
    "duration": 3305,
    "start_time": "2023-05-20T11:22:47.077Z"
   },
   {
    "duration": 19,
    "start_time": "2023-05-20T11:22:50.387Z"
   },
   {
    "duration": 44,
    "start_time": "2023-05-20T11:22:50.409Z"
   },
   {
    "duration": 30,
    "start_time": "2023-05-20T11:29:40.620Z"
   },
   {
    "duration": 8,
    "start_time": "2023-05-20T11:29:41.537Z"
   },
   {
    "duration": 40,
    "start_time": "2023-05-20T11:31:24.571Z"
   },
   {
    "duration": 1487,
    "start_time": "2023-05-20T11:32:18.737Z"
   },
   {
    "duration": 0,
    "start_time": "2023-05-20T11:32:20.228Z"
   },
   {
    "duration": 1495,
    "start_time": "2023-05-20T11:33:06.854Z"
   },
   {
    "duration": 421,
    "start_time": "2023-05-20T11:33:55.328Z"
   },
   {
    "duration": 9,
    "start_time": "2023-05-20T11:33:57.204Z"
   },
   {
    "duration": 1854,
    "start_time": "2023-05-20T11:36:46.010Z"
   },
   {
    "duration": 27,
    "start_time": "2023-05-20T11:43:24.369Z"
   },
   {
    "duration": 242,
    "start_time": "2023-05-20T11:43:33.168Z"
   },
   {
    "duration": 210,
    "start_time": "2023-05-20T11:43:53.627Z"
   },
   {
    "duration": 255,
    "start_time": "2023-05-20T11:44:19.524Z"
   },
   {
    "duration": 238,
    "start_time": "2023-05-20T11:45:04.220Z"
   },
   {
    "duration": 246,
    "start_time": "2023-05-20T11:45:16.608Z"
   },
   {
    "duration": 29,
    "start_time": "2023-05-20T11:46:32.754Z"
   },
   {
    "duration": 53,
    "start_time": "2023-05-20T11:46:42.052Z"
   },
   {
    "duration": 4,
    "start_time": "2023-05-20T11:47:31.419Z"
   },
   {
    "duration": 332,
    "start_time": "2023-05-20T11:47:31.427Z"
   },
   {
    "duration": 56,
    "start_time": "2023-05-20T11:47:31.762Z"
   },
   {
    "duration": 4221,
    "start_time": "2023-05-20T11:47:31.828Z"
   },
   {
    "duration": 16,
    "start_time": "2023-05-20T11:47:36.052Z"
   },
   {
    "duration": 85,
    "start_time": "2023-05-20T11:47:36.077Z"
   },
   {
    "duration": 112,
    "start_time": "2023-05-20T11:47:36.165Z"
   },
   {
    "duration": 64,
    "start_time": "2023-05-20T11:47:36.280Z"
   },
   {
    "duration": 950,
    "start_time": "2023-05-20T11:47:36.347Z"
   },
   {
    "duration": 732,
    "start_time": "2023-05-20T11:47:37.302Z"
   },
   {
    "duration": 1959,
    "start_time": "2023-05-20T11:47:38.036Z"
   },
   {
    "duration": 1972,
    "start_time": "2023-05-20T11:47:39.998Z"
   },
   {
    "duration": 1889,
    "start_time": "2023-05-20T11:47:41.988Z"
   },
   {
    "duration": 2023,
    "start_time": "2023-05-20T11:47:43.884Z"
   },
   {
    "duration": 15,
    "start_time": "2023-05-20T11:47:45.920Z"
   },
   {
    "duration": 163,
    "start_time": "2023-05-20T11:47:45.938Z"
   },
   {
    "duration": 262,
    "start_time": "2023-05-20T11:47:46.104Z"
   },
   {
    "duration": 15,
    "start_time": "2023-05-20T11:47:46.368Z"
   },
   {
    "duration": 395,
    "start_time": "2023-05-20T11:47:46.388Z"
   },
   {
    "duration": 49,
    "start_time": "2023-05-20T11:47:46.786Z"
   },
   {
    "duration": 27,
    "start_time": "2023-05-20T11:47:46.837Z"
   },
   {
    "duration": 48,
    "start_time": "2023-05-20T11:47:46.868Z"
   },
   {
    "duration": 47,
    "start_time": "2023-05-20T11:47:46.919Z"
   },
   {
    "duration": 19,
    "start_time": "2023-05-20T11:47:46.969Z"
   },
   {
    "duration": 35,
    "start_time": "2023-05-20T11:47:46.990Z"
   },
   {
    "duration": 35,
    "start_time": "2023-05-20T11:47:47.028Z"
   },
   {
    "duration": 42,
    "start_time": "2023-05-20T11:47:47.065Z"
   },
   {
    "duration": 515,
    "start_time": "2023-05-20T11:47:47.113Z"
   },
   {
    "duration": 9,
    "start_time": "2023-05-20T11:47:47.630Z"
   },
   {
    "duration": 280,
    "start_time": "2023-05-20T11:47:47.641Z"
   },
   {
    "duration": 18,
    "start_time": "2023-05-20T11:48:55.857Z"
   },
   {
    "duration": 324,
    "start_time": "2023-05-20T11:49:00.579Z"
   },
   {
    "duration": 354,
    "start_time": "2023-05-20T11:49:40.971Z"
   },
   {
    "duration": 453,
    "start_time": "2023-05-20T11:49:48.262Z"
   },
   {
    "duration": 17,
    "start_time": "2023-05-20T11:50:02.535Z"
   },
   {
    "duration": 480,
    "start_time": "2023-05-20T11:52:44.678Z"
   },
   {
    "duration": 420,
    "start_time": "2023-05-20T11:52:52.454Z"
   },
   {
    "duration": 425,
    "start_time": "2023-05-20T11:53:00.431Z"
   },
   {
    "duration": 267,
    "start_time": "2023-05-20T11:54:22.529Z"
   },
   {
    "duration": 319,
    "start_time": "2023-05-20T11:54:29.471Z"
   },
   {
    "duration": 311,
    "start_time": "2023-05-20T11:54:37.841Z"
   },
   {
    "duration": 290,
    "start_time": "2023-05-20T11:55:02.174Z"
   },
   {
    "duration": 297,
    "start_time": "2023-05-20T11:55:10.139Z"
   },
   {
    "duration": 300,
    "start_time": "2023-05-20T11:56:26.003Z"
   },
   {
    "duration": 274,
    "start_time": "2023-05-20T11:56:33.256Z"
   },
   {
    "duration": 359,
    "start_time": "2023-05-20T11:57:46.845Z"
   },
   {
    "duration": 367,
    "start_time": "2023-05-20T11:57:57.707Z"
   },
   {
    "duration": 287,
    "start_time": "2023-05-20T11:58:17.232Z"
   },
   {
    "duration": 335,
    "start_time": "2023-05-20T11:58:24.336Z"
   },
   {
    "duration": 367,
    "start_time": "2023-05-20T11:58:28.633Z"
   },
   {
    "duration": 380,
    "start_time": "2023-05-20T11:58:33.156Z"
   },
   {
    "duration": 369,
    "start_time": "2023-05-20T11:58:38.023Z"
   },
   {
    "duration": 303,
    "start_time": "2023-05-20T11:58:50.225Z"
   },
   {
    "duration": 308,
    "start_time": "2023-05-20T11:59:02.123Z"
   },
   {
    "duration": 352,
    "start_time": "2023-05-20T12:00:03.204Z"
   },
   {
    "duration": 285,
    "start_time": "2023-05-20T12:02:48.218Z"
   },
   {
    "duration": 317,
    "start_time": "2023-05-20T12:02:56.312Z"
   },
   {
    "duration": 272,
    "start_time": "2023-05-20T12:03:02.625Z"
   },
   {
    "duration": 11,
    "start_time": "2023-05-20T12:06:35.641Z"
   },
   {
    "duration": 266,
    "start_time": "2023-05-20T12:06:44.251Z"
   },
   {
    "duration": 881,
    "start_time": "2023-05-20T12:07:34.613Z"
   },
   {
    "duration": 256,
    "start_time": "2023-05-20T12:07:39.255Z"
   },
   {
    "duration": 394,
    "start_time": "2023-05-20T12:07:48.924Z"
   },
   {
    "duration": 102,
    "start_time": "2023-05-20T12:08:10.208Z"
   },
   {
    "duration": 472,
    "start_time": "2023-05-20T12:08:31.554Z"
   },
   {
    "duration": 426,
    "start_time": "2023-05-20T12:08:41.402Z"
   },
   {
    "duration": 389,
    "start_time": "2023-05-20T12:09:27.541Z"
   },
   {
    "duration": 519,
    "start_time": "2023-05-20T12:09:56.455Z"
   },
   {
    "duration": 543,
    "start_time": "2023-05-20T12:10:06.340Z"
   },
   {
    "duration": 664,
    "start_time": "2023-05-20T12:10:15.538Z"
   },
   {
    "duration": 517,
    "start_time": "2023-05-20T12:10:21.613Z"
   },
   {
    "duration": 336,
    "start_time": "2023-05-20T12:10:40.324Z"
   },
   {
    "duration": 374,
    "start_time": "2023-05-20T12:10:48.486Z"
   },
   {
    "duration": 434,
    "start_time": "2023-05-20T12:10:54.960Z"
   },
   {
    "duration": 208,
    "start_time": "2023-05-20T12:11:32.542Z"
   },
   {
    "duration": 180,
    "start_time": "2023-05-20T12:11:48.109Z"
   },
   {
    "duration": 276,
    "start_time": "2023-05-20T12:11:56.057Z"
   },
   {
    "duration": 184,
    "start_time": "2023-05-20T12:12:03.742Z"
   },
   {
    "duration": 241,
    "start_time": "2023-05-20T12:12:49.492Z"
   },
   {
    "duration": 233,
    "start_time": "2023-05-20T12:12:56.693Z"
   },
   {
    "duration": 255,
    "start_time": "2023-05-20T12:13:05.857Z"
   },
   {
    "duration": 235,
    "start_time": "2023-05-20T13:00:05.263Z"
   },
   {
    "duration": 347,
    "start_time": "2023-05-20T13:00:45.780Z"
   },
   {
    "duration": 177,
    "start_time": "2023-05-20T13:01:53.999Z"
   },
   {
    "duration": 185,
    "start_time": "2023-05-20T13:02:02.586Z"
   },
   {
    "duration": 205,
    "start_time": "2023-05-20T13:03:09.451Z"
   },
   {
    "duration": 92,
    "start_time": "2023-05-20T13:04:54.680Z"
   },
   {
    "duration": 189,
    "start_time": "2023-05-20T13:05:01.190Z"
   },
   {
    "duration": 203,
    "start_time": "2023-05-20T13:05:36.496Z"
   },
   {
    "duration": 25,
    "start_time": "2023-05-20T13:09:05.725Z"
   },
   {
    "duration": 20,
    "start_time": "2023-05-20T13:09:30.246Z"
   },
   {
    "duration": 20,
    "start_time": "2023-05-20T13:12:05.096Z"
   },
   {
    "duration": 25,
    "start_time": "2023-05-20T13:12:22.214Z"
   },
   {
    "duration": 21,
    "start_time": "2023-05-20T13:12:48.315Z"
   },
   {
    "duration": 23,
    "start_time": "2023-05-20T13:13:04.008Z"
   },
   {
    "duration": 21,
    "start_time": "2023-05-20T13:13:11.714Z"
   },
   {
    "duration": 4,
    "start_time": "2023-05-20T13:14:06.462Z"
   },
   {
    "duration": 73,
    "start_time": "2023-05-20T13:14:15.562Z"
   },
   {
    "duration": 38,
    "start_time": "2023-05-20T13:14:27.849Z"
   },
   {
    "duration": 29,
    "start_time": "2023-05-20T13:15:25.408Z"
   },
   {
    "duration": 3,
    "start_time": "2023-05-20T13:17:56.894Z"
   },
   {
    "duration": 154,
    "start_time": "2023-05-20T13:17:56.900Z"
   },
   {
    "duration": 27,
    "start_time": "2023-05-20T13:17:57.057Z"
   },
   {
    "duration": 2189,
    "start_time": "2023-05-20T13:17:57.086Z"
   },
   {
    "duration": 11,
    "start_time": "2023-05-20T13:17:59.278Z"
   },
   {
    "duration": 11,
    "start_time": "2023-05-20T13:17:59.291Z"
   },
   {
    "duration": 53,
    "start_time": "2023-05-20T13:17:59.304Z"
   },
   {
    "duration": 15,
    "start_time": "2023-05-20T13:17:59.359Z"
   },
   {
    "duration": 1233,
    "start_time": "2023-05-20T13:17:59.376Z"
   },
   {
    "duration": 514,
    "start_time": "2023-05-20T13:18:00.611Z"
   },
   {
    "duration": 1116,
    "start_time": "2023-05-20T13:18:01.127Z"
   },
   {
    "duration": 1018,
    "start_time": "2023-05-20T13:18:02.245Z"
   },
   {
    "duration": 1012,
    "start_time": "2023-05-20T13:18:03.266Z"
   },
   {
    "duration": 1035,
    "start_time": "2023-05-20T13:18:04.282Z"
   },
   {
    "duration": 6,
    "start_time": "2023-05-20T13:18:05.319Z"
   },
   {
    "duration": 95,
    "start_time": "2023-05-20T13:18:05.327Z"
   },
   {
    "duration": 185,
    "start_time": "2023-05-20T13:18:05.424Z"
   },
   {
    "duration": 8,
    "start_time": "2023-05-20T13:18:05.611Z"
   },
   {
    "duration": 262,
    "start_time": "2023-05-20T13:18:05.622Z"
   },
   {
    "duration": 32,
    "start_time": "2023-05-20T13:18:05.887Z"
   },
   {
    "duration": 13,
    "start_time": "2023-05-20T13:18:05.921Z"
   },
   {
    "duration": 34,
    "start_time": "2023-05-20T13:18:05.937Z"
   },
   {
    "duration": 26,
    "start_time": "2023-05-20T13:18:05.974Z"
   },
   {
    "duration": 12,
    "start_time": "2023-05-20T13:18:06.003Z"
   },
   {
    "duration": 7,
    "start_time": "2023-05-20T13:18:06.018Z"
   },
   {
    "duration": 56,
    "start_time": "2023-05-20T13:18:06.027Z"
   },
   {
    "duration": 0,
    "start_time": "2023-05-20T13:18:06.086Z"
   },
   {
    "duration": 0,
    "start_time": "2023-05-20T13:18:06.089Z"
   },
   {
    "duration": 0,
    "start_time": "2023-05-20T13:18:06.091Z"
   },
   {
    "duration": 0,
    "start_time": "2023-05-20T13:18:06.093Z"
   },
   {
    "duration": 0,
    "start_time": "2023-05-20T13:18:06.096Z"
   },
   {
    "duration": 0,
    "start_time": "2023-05-20T13:18:06.098Z"
   },
   {
    "duration": 0,
    "start_time": "2023-05-20T13:18:06.100Z"
   },
   {
    "duration": 0,
    "start_time": "2023-05-20T13:18:06.102Z"
   },
   {
    "duration": 0,
    "start_time": "2023-05-20T13:18:06.104Z"
   },
   {
    "duration": 0,
    "start_time": "2023-05-20T13:18:06.106Z"
   },
   {
    "duration": 0,
    "start_time": "2023-05-20T13:18:06.108Z"
   },
   {
    "duration": 25,
    "start_time": "2023-05-20T13:18:27.934Z"
   },
   {
    "duration": 20,
    "start_time": "2023-05-20T13:18:47.683Z"
   },
   {
    "duration": 403,
    "start_time": "2023-05-20T13:18:48.238Z"
   },
   {
    "duration": 8,
    "start_time": "2023-05-20T13:18:49.632Z"
   },
   {
    "duration": 382,
    "start_time": "2023-05-20T13:18:52.747Z"
   },
   {
    "duration": 173,
    "start_time": "2023-05-20T13:18:53.132Z"
   },
   {
    "duration": 220,
    "start_time": "2023-05-20T13:18:53.308Z"
   },
   {
    "duration": 174,
    "start_time": "2023-05-20T13:18:53.924Z"
   },
   {
    "duration": 196,
    "start_time": "2023-05-20T13:18:54.101Z"
   },
   {
    "duration": 347,
    "start_time": "2023-05-20T13:18:54.299Z"
   },
   {
    "duration": 184,
    "start_time": "2023-05-20T13:18:54.714Z"
   },
   {
    "duration": 43,
    "start_time": "2023-05-20T13:18:55.620Z"
   },
   {
    "duration": 29,
    "start_time": "2023-05-20T13:21:17.446Z"
   },
   {
    "duration": 29,
    "start_time": "2023-05-20T13:21:33.614Z"
   },
   {
    "duration": 3,
    "start_time": "2023-05-20T13:21:37.319Z"
   },
   {
    "duration": 137,
    "start_time": "2023-05-20T13:21:37.325Z"
   },
   {
    "duration": 17,
    "start_time": "2023-05-20T13:21:37.464Z"
   },
   {
    "duration": 2171,
    "start_time": "2023-05-20T13:21:37.483Z"
   },
   {
    "duration": 20,
    "start_time": "2023-05-20T13:21:39.657Z"
   },
   {
    "duration": 8,
    "start_time": "2023-05-20T13:21:39.680Z"
   },
   {
    "duration": 32,
    "start_time": "2023-05-20T13:21:39.690Z"
   },
   {
    "duration": 3,
    "start_time": "2023-05-20T13:21:39.724Z"
   },
   {
    "duration": 486,
    "start_time": "2023-05-20T13:21:39.729Z"
   },
   {
    "duration": 471,
    "start_time": "2023-05-20T13:21:40.217Z"
   },
   {
    "duration": 1019,
    "start_time": "2023-05-20T13:21:40.690Z"
   },
   {
    "duration": 1000,
    "start_time": "2023-05-20T13:21:41.711Z"
   },
   {
    "duration": 986,
    "start_time": "2023-05-20T13:21:42.713Z"
   },
   {
    "duration": 1060,
    "start_time": "2023-05-20T13:21:43.702Z"
   },
   {
    "duration": 9,
    "start_time": "2023-05-20T13:21:44.764Z"
   },
   {
    "duration": 91,
    "start_time": "2023-05-20T13:21:44.775Z"
   },
   {
    "duration": 174,
    "start_time": "2023-05-20T13:21:44.868Z"
   },
   {
    "duration": 7,
    "start_time": "2023-05-20T13:21:45.044Z"
   },
   {
    "duration": 240,
    "start_time": "2023-05-20T13:21:45.053Z"
   },
   {
    "duration": 40,
    "start_time": "2023-05-20T13:21:45.296Z"
   },
   {
    "duration": 20,
    "start_time": "2023-05-20T13:21:45.339Z"
   },
   {
    "duration": 14,
    "start_time": "2023-05-20T13:21:45.371Z"
   },
   {
    "duration": 55,
    "start_time": "2023-05-20T13:21:45.387Z"
   },
   {
    "duration": 11,
    "start_time": "2023-05-20T13:21:45.445Z"
   },
   {
    "duration": 40,
    "start_time": "2023-05-20T13:21:45.458Z"
   },
   {
    "duration": 42,
    "start_time": "2023-05-20T13:21:45.500Z"
   },
   {
    "duration": 0,
    "start_time": "2023-05-20T13:21:45.544Z"
   },
   {
    "duration": 0,
    "start_time": "2023-05-20T13:21:45.546Z"
   },
   {
    "duration": 0,
    "start_time": "2023-05-20T13:21:45.548Z"
   },
   {
    "duration": 0,
    "start_time": "2023-05-20T13:21:45.550Z"
   },
   {
    "duration": 0,
    "start_time": "2023-05-20T13:21:45.551Z"
   },
   {
    "duration": 0,
    "start_time": "2023-05-20T13:21:45.553Z"
   },
   {
    "duration": 0,
    "start_time": "2023-05-20T13:21:45.553Z"
   },
   {
    "duration": 1,
    "start_time": "2023-05-20T13:21:45.554Z"
   },
   {
    "duration": 0,
    "start_time": "2023-05-20T13:21:45.556Z"
   },
   {
    "duration": 0,
    "start_time": "2023-05-20T13:21:45.557Z"
   },
   {
    "duration": 0,
    "start_time": "2023-05-20T13:21:45.558Z"
   },
   {
    "duration": 15,
    "start_time": "2023-05-20T13:22:18.266Z"
   },
   {
    "duration": 17,
    "start_time": "2023-05-20T13:22:19.680Z"
   },
   {
    "duration": 287,
    "start_time": "2023-05-20T13:22:20.282Z"
   },
   {
    "duration": 8,
    "start_time": "2023-05-20T13:22:21.530Z"
   },
   {
    "duration": 369,
    "start_time": "2023-05-20T13:22:22.934Z"
   },
   {
    "duration": 152,
    "start_time": "2023-05-20T13:22:23.897Z"
   },
   {
    "duration": 204,
    "start_time": "2023-05-20T13:22:24.582Z"
   },
   {
    "duration": 147,
    "start_time": "2023-05-20T13:22:25.247Z"
   },
   {
    "duration": 221,
    "start_time": "2023-05-20T13:22:25.917Z"
   },
   {
    "duration": 317,
    "start_time": "2023-05-20T13:22:26.398Z"
   },
   {
    "duration": 178,
    "start_time": "2023-05-20T13:22:26.964Z"
   },
   {
    "duration": 30,
    "start_time": "2023-05-20T13:22:27.658Z"
   },
   {
    "duration": 77,
    "start_time": "2023-05-20T13:23:05.365Z"
   },
   {
    "duration": 29,
    "start_time": "2023-05-20T13:23:19.282Z"
   },
   {
    "duration": 23,
    "start_time": "2023-05-20T13:23:43.062Z"
   },
   {
    "duration": 20,
    "start_time": "2023-05-20T13:28:28.748Z"
   },
   {
    "duration": 27,
    "start_time": "2023-05-20T13:30:59.131Z"
   },
   {
    "duration": 30,
    "start_time": "2023-05-20T13:31:48.900Z"
   },
   {
    "duration": 28,
    "start_time": "2023-05-20T13:32:05.332Z"
   },
   {
    "duration": 25,
    "start_time": "2023-05-20T13:32:49.349Z"
   },
   {
    "duration": 21,
    "start_time": "2023-05-20T13:33:04.532Z"
   },
   {
    "duration": 32,
    "start_time": "2023-05-20T13:33:30.568Z"
   },
   {
    "duration": 33,
    "start_time": "2023-05-20T13:33:42.650Z"
   },
   {
    "duration": 32,
    "start_time": "2023-05-20T13:33:57.669Z"
   },
   {
    "duration": 1301,
    "start_time": "2023-05-20T13:37:49.965Z"
   },
   {
    "duration": 80,
    "start_time": "2023-05-20T13:38:23.257Z"
   },
   {
    "duration": 13,
    "start_time": "2023-05-20T13:38:31.214Z"
   },
   {
    "duration": 14,
    "start_time": "2023-05-20T13:39:29.017Z"
   },
   {
    "duration": 9,
    "start_time": "2023-05-20T13:45:34.533Z"
   },
   {
    "duration": 11,
    "start_time": "2023-05-20T13:45:51.765Z"
   },
   {
    "duration": 4,
    "start_time": "2023-05-20T13:46:28.581Z"
   },
   {
    "duration": 1361,
    "start_time": "2023-05-20T13:48:31.687Z"
   },
   {
    "duration": 983,
    "start_time": "2023-05-20T13:49:10.848Z"
   },
   {
    "duration": 940,
    "start_time": "2023-05-20T13:49:59.315Z"
   },
   {
    "duration": 9,
    "start_time": "2023-05-20T13:52:36.295Z"
   },
   {
    "duration": 9,
    "start_time": "2023-05-20T13:54:42.155Z"
   },
   {
    "duration": 11,
    "start_time": "2023-05-20T13:54:52.247Z"
   },
   {
    "duration": 87,
    "start_time": "2023-05-20T13:57:07.756Z"
   },
   {
    "duration": 11,
    "start_time": "2023-05-20T13:57:14.366Z"
   },
   {
    "duration": 11,
    "start_time": "2023-05-20T13:57:30.089Z"
   },
   {
    "duration": 7,
    "start_time": "2023-05-20T13:59:05.905Z"
   },
   {
    "duration": 19,
    "start_time": "2023-05-20T13:59:12.972Z"
   },
   {
    "duration": 1495,
    "start_time": "2023-05-20T14:00:42.415Z"
   },
   {
    "duration": 1024,
    "start_time": "2023-05-20T14:00:55.092Z"
   },
   {
    "duration": 4,
    "start_time": "2023-05-20T14:01:28.654Z"
   },
   {
    "duration": 49,
    "start_time": "2023-05-20T19:29:13.259Z"
   },
   {
    "duration": 41,
    "start_time": "2023-05-20T19:31:14.620Z"
   },
   {
    "duration": 811,
    "start_time": "2023-05-20T19:31:18.776Z"
   },
   {
    "duration": 173,
    "start_time": "2023-05-20T19:31:19.589Z"
   },
   {
    "duration": 15,
    "start_time": "2023-05-20T19:31:19.764Z"
   },
   {
    "duration": 2026,
    "start_time": "2023-05-20T19:31:19.781Z"
   },
   {
    "duration": 9,
    "start_time": "2023-05-20T19:31:21.809Z"
   },
   {
    "duration": 8,
    "start_time": "2023-05-20T19:31:21.819Z"
   },
   {
    "duration": 29,
    "start_time": "2023-05-20T19:31:21.829Z"
   },
   {
    "duration": 2,
    "start_time": "2023-05-20T19:31:21.860Z"
   },
   {
    "duration": 429,
    "start_time": "2023-05-20T19:31:21.863Z"
   },
   {
    "duration": 46,
    "start_time": "2023-05-20T19:31:22.294Z"
   },
   {
    "duration": 0,
    "start_time": "2023-05-20T19:31:22.342Z"
   },
   {
    "duration": 0,
    "start_time": "2023-05-20T19:31:22.344Z"
   },
   {
    "duration": 0,
    "start_time": "2023-05-20T19:31:22.345Z"
   },
   {
    "duration": 0,
    "start_time": "2023-05-20T19:31:22.346Z"
   },
   {
    "duration": 0,
    "start_time": "2023-05-20T19:31:22.347Z"
   },
   {
    "duration": 0,
    "start_time": "2023-05-20T19:31:22.349Z"
   },
   {
    "duration": 0,
    "start_time": "2023-05-20T19:31:22.351Z"
   },
   {
    "duration": 0,
    "start_time": "2023-05-20T19:31:22.352Z"
   },
   {
    "duration": 0,
    "start_time": "2023-05-20T19:31:22.354Z"
   },
   {
    "duration": 0,
    "start_time": "2023-05-20T19:31:22.356Z"
   },
   {
    "duration": 0,
    "start_time": "2023-05-20T19:31:22.357Z"
   },
   {
    "duration": 0,
    "start_time": "2023-05-20T19:31:22.359Z"
   },
   {
    "duration": 0,
    "start_time": "2023-05-20T19:31:22.361Z"
   },
   {
    "duration": 0,
    "start_time": "2023-05-20T19:31:22.362Z"
   },
   {
    "duration": 0,
    "start_time": "2023-05-20T19:31:22.365Z"
   },
   {
    "duration": 0,
    "start_time": "2023-05-20T19:31:22.367Z"
   },
   {
    "duration": 0,
    "start_time": "2023-05-20T19:31:22.375Z"
   },
   {
    "duration": 0,
    "start_time": "2023-05-20T19:31:22.375Z"
   },
   {
    "duration": 0,
    "start_time": "2023-05-20T19:31:22.377Z"
   },
   {
    "duration": 0,
    "start_time": "2023-05-20T19:31:22.378Z"
   },
   {
    "duration": 0,
    "start_time": "2023-05-20T19:31:22.379Z"
   },
   {
    "duration": 0,
    "start_time": "2023-05-20T19:31:22.380Z"
   },
   {
    "duration": 0,
    "start_time": "2023-05-20T19:31:22.382Z"
   },
   {
    "duration": 0,
    "start_time": "2023-05-20T19:31:22.383Z"
   },
   {
    "duration": 0,
    "start_time": "2023-05-20T19:31:22.384Z"
   },
   {
    "duration": 0,
    "start_time": "2023-05-20T19:31:22.385Z"
   },
   {
    "duration": 0,
    "start_time": "2023-05-20T19:31:22.387Z"
   },
   {
    "duration": 0,
    "start_time": "2023-05-20T19:31:22.388Z"
   },
   {
    "duration": 0,
    "start_time": "2023-05-20T19:31:22.389Z"
   },
   {
    "duration": 0,
    "start_time": "2023-05-20T19:31:22.391Z"
   },
   {
    "duration": 4,
    "start_time": "2023-05-20T19:31:38.521Z"
   },
   {
    "duration": 989,
    "start_time": "2023-05-20T19:31:39.392Z"
   },
   {
    "duration": 962,
    "start_time": "2023-05-20T19:31:40.567Z"
   },
   {
    "duration": 984,
    "start_time": "2023-05-20T19:31:41.531Z"
   },
   {
    "duration": 974,
    "start_time": "2023-05-20T19:31:42.517Z"
   },
   {
    "duration": 7,
    "start_time": "2023-05-20T19:31:43.493Z"
   },
   {
    "duration": 91,
    "start_time": "2023-05-20T19:31:43.502Z"
   },
   {
    "duration": 143,
    "start_time": "2023-05-20T19:31:46.065Z"
   },
   {
    "duration": 7,
    "start_time": "2023-05-20T19:31:47.070Z"
   },
   {
    "duration": 221,
    "start_time": "2023-05-20T19:31:48.283Z"
   },
   {
    "duration": 38,
    "start_time": "2023-05-20T19:31:49.399Z"
   },
   {
    "duration": 12,
    "start_time": "2023-05-20T19:31:50.815Z"
   },
   {
    "duration": 4,
    "start_time": "2023-05-20T19:31:52.462Z"
   },
   {
    "duration": 20,
    "start_time": "2023-05-20T19:31:53.366Z"
   },
   {
    "duration": 12,
    "start_time": "2023-05-20T19:31:54.159Z"
   },
   {
    "duration": 42,
    "start_time": "2023-05-20T19:38:52.017Z"
   },
   {
    "duration": 95,
    "start_time": "2023-05-20T19:39:21.171Z"
   },
   {
    "duration": 20,
    "start_time": "2023-05-20T19:39:34.479Z"
   },
   {
    "duration": 19,
    "start_time": "2023-05-20T19:39:38.258Z"
   },
   {
    "duration": 16,
    "start_time": "2023-05-20T19:39:48.926Z"
   },
   {
    "duration": 6,
    "start_time": "2023-05-20T20:12:37.962Z"
   },
   {
    "duration": 9,
    "start_time": "2023-05-20T20:37:23.867Z"
   },
   {
    "duration": 8,
    "start_time": "2023-05-20T20:37:24.758Z"
   },
   {
    "duration": 1724,
    "start_time": "2023-05-20T20:38:23.070Z"
   },
   {
    "duration": 11,
    "start_time": "2023-05-20T20:38:24.796Z"
   },
   {
    "duration": 2114,
    "start_time": "2023-05-20T20:39:09.924Z"
   },
   {
    "duration": 8,
    "start_time": "2023-05-20T20:39:12.040Z"
   },
   {
    "duration": 14,
    "start_time": "2023-05-20T20:40:48.853Z"
   },
   {
    "duration": 9,
    "start_time": "2023-05-20T20:40:49.504Z"
   },
   {
    "duration": 15,
    "start_time": "2023-05-20T20:40:52.723Z"
   },
   {
    "duration": 15,
    "start_time": "2023-05-20T20:40:53.184Z"
   },
   {
    "duration": 12,
    "start_time": "2023-05-20T20:41:03.091Z"
   },
   {
    "duration": 15,
    "start_time": "2023-05-20T20:41:05.662Z"
   },
   {
    "duration": 10,
    "start_time": "2023-05-20T20:41:06.694Z"
   },
   {
    "duration": 5,
    "start_time": "2023-05-20T20:41:43.637Z"
   },
   {
    "duration": 167,
    "start_time": "2023-05-20T20:41:43.645Z"
   },
   {
    "duration": 20,
    "start_time": "2023-05-20T20:41:43.814Z"
   },
   {
    "duration": 2787,
    "start_time": "2023-05-20T20:41:43.837Z"
   },
   {
    "duration": 15,
    "start_time": "2023-05-20T20:41:46.627Z"
   },
   {
    "duration": 31,
    "start_time": "2023-05-20T20:41:46.644Z"
   },
   {
    "duration": 41,
    "start_time": "2023-05-20T20:41:46.678Z"
   },
   {
    "duration": 646,
    "start_time": "2023-05-20T20:41:46.722Z"
   },
   {
    "duration": 6,
    "start_time": "2023-05-20T20:41:47.376Z"
   },
   {
    "duration": 1332,
    "start_time": "2023-05-20T20:41:47.388Z"
   },
   {
    "duration": 1370,
    "start_time": "2023-05-20T20:41:48.722Z"
   },
   {
    "duration": 1277,
    "start_time": "2023-05-20T20:41:50.095Z"
   },
   {
    "duration": 1116,
    "start_time": "2023-05-20T20:41:51.374Z"
   },
   {
    "duration": 9,
    "start_time": "2023-05-20T20:41:52.492Z"
   },
   {
    "duration": 77,
    "start_time": "2023-05-20T20:41:52.502Z"
   },
   {
    "duration": 160,
    "start_time": "2023-05-20T20:41:52.581Z"
   },
   {
    "duration": 8,
    "start_time": "2023-05-20T20:41:52.742Z"
   },
   {
    "duration": 342,
    "start_time": "2023-05-20T20:41:52.752Z"
   },
   {
    "duration": 57,
    "start_time": "2023-05-20T20:41:53.102Z"
   },
   {
    "duration": 15,
    "start_time": "2023-05-20T20:41:53.161Z"
   },
   {
    "duration": 33,
    "start_time": "2023-05-20T20:41:53.178Z"
   },
   {
    "duration": 14,
    "start_time": "2023-05-20T20:41:53.215Z"
   },
   {
    "duration": 12,
    "start_time": "2023-05-20T20:41:53.231Z"
   },
   {
    "duration": 6,
    "start_time": "2023-05-20T20:41:53.247Z"
   },
   {
    "duration": 48,
    "start_time": "2023-05-20T20:41:53.255Z"
   },
   {
    "duration": 13,
    "start_time": "2023-05-20T20:41:53.308Z"
   },
   {
    "duration": 21,
    "start_time": "2023-05-20T20:41:53.323Z"
   },
   {
    "duration": 22,
    "start_time": "2023-05-20T20:41:53.347Z"
   },
   {
    "duration": 413,
    "start_time": "2023-05-20T20:41:53.376Z"
   },
   {
    "duration": 15,
    "start_time": "2023-05-20T20:41:53.791Z"
   },
   {
    "duration": 478,
    "start_time": "2023-05-20T20:41:53.808Z"
   },
   {
    "duration": 213,
    "start_time": "2023-05-20T20:41:54.290Z"
   },
   {
    "duration": 377,
    "start_time": "2023-05-20T20:41:54.510Z"
   },
   {
    "duration": 216,
    "start_time": "2023-05-20T20:41:54.892Z"
   },
   {
    "duration": 266,
    "start_time": "2023-05-20T20:41:55.111Z"
   },
   {
    "duration": 410,
    "start_time": "2023-05-20T20:41:55.382Z"
   },
   {
    "duration": 239,
    "start_time": "2023-05-20T20:41:55.795Z"
   },
   {
    "duration": 40,
    "start_time": "2023-05-20T20:41:56.036Z"
   },
   {
    "duration": 34,
    "start_time": "2023-05-20T20:41:56.077Z"
   },
   {
    "duration": 7,
    "start_time": "2023-05-20T20:41:56.114Z"
   },
   {
    "duration": 69,
    "start_time": "2023-05-20T20:43:38.171Z"
   },
   {
    "duration": 256,
    "start_time": "2023-05-20T20:44:37.069Z"
   },
   {
    "duration": 249,
    "start_time": "2023-05-20T20:44:53.982Z"
   },
   {
    "duration": 3,
    "start_time": "2023-05-20T20:45:19.885Z"
   },
   {
    "duration": 178,
    "start_time": "2023-05-20T20:45:19.891Z"
   },
   {
    "duration": 29,
    "start_time": "2023-05-20T20:45:20.076Z"
   },
   {
    "duration": 2295,
    "start_time": "2023-05-20T20:45:20.108Z"
   },
   {
    "duration": 15,
    "start_time": "2023-05-20T20:45:22.406Z"
   },
   {
    "duration": 9,
    "start_time": "2023-05-20T20:45:22.424Z"
   },
   {
    "duration": 55,
    "start_time": "2023-05-20T20:45:22.435Z"
   },
   {
    "duration": 638,
    "start_time": "2023-05-20T20:45:22.492Z"
   },
   {
    "duration": 4,
    "start_time": "2023-05-20T20:45:23.132Z"
   },
   {
    "duration": 1612,
    "start_time": "2023-05-20T20:45:23.139Z"
   },
   {
    "duration": 1614,
    "start_time": "2023-05-20T20:45:24.753Z"
   },
   {
    "duration": 1016,
    "start_time": "2023-05-20T20:45:26.369Z"
   },
   {
    "duration": 1332,
    "start_time": "2023-05-20T20:45:27.387Z"
   },
   {
    "duration": 7,
    "start_time": "2023-05-20T20:45:28.721Z"
   },
   {
    "duration": 111,
    "start_time": "2023-05-20T20:45:28.730Z"
   },
   {
    "duration": 265,
    "start_time": "2023-05-20T20:45:28.843Z"
   },
   {
    "duration": 13,
    "start_time": "2023-05-20T20:45:29.112Z"
   },
   {
    "duration": 329,
    "start_time": "2023-05-20T20:45:29.128Z"
   },
   {
    "duration": 43,
    "start_time": "2023-05-20T20:45:29.459Z"
   },
   {
    "duration": 9,
    "start_time": "2023-05-20T20:45:29.505Z"
   },
   {
    "duration": 15,
    "start_time": "2023-05-20T20:45:29.516Z"
   },
   {
    "duration": 42,
    "start_time": "2023-05-20T20:45:29.533Z"
   },
   {
    "duration": 7,
    "start_time": "2023-05-20T20:45:29.578Z"
   },
   {
    "duration": 32,
    "start_time": "2023-05-20T20:45:29.587Z"
   },
   {
    "duration": 20,
    "start_time": "2023-05-20T20:45:29.622Z"
   },
   {
    "duration": 228,
    "start_time": "2023-05-20T20:45:29.645Z"
   },
   {
    "duration": 0,
    "start_time": "2023-05-20T20:45:29.879Z"
   },
   {
    "duration": 0,
    "start_time": "2023-05-20T20:45:29.881Z"
   },
   {
    "duration": 0,
    "start_time": "2023-05-20T20:45:29.882Z"
   },
   {
    "duration": 0,
    "start_time": "2023-05-20T20:45:29.884Z"
   },
   {
    "duration": 0,
    "start_time": "2023-05-20T20:45:29.886Z"
   },
   {
    "duration": 0,
    "start_time": "2023-05-20T20:45:29.887Z"
   },
   {
    "duration": 0,
    "start_time": "2023-05-20T20:45:29.888Z"
   },
   {
    "duration": 0,
    "start_time": "2023-05-20T20:45:29.890Z"
   },
   {
    "duration": 0,
    "start_time": "2023-05-20T20:45:29.891Z"
   },
   {
    "duration": 0,
    "start_time": "2023-05-20T20:45:29.893Z"
   },
   {
    "duration": 0,
    "start_time": "2023-05-20T20:45:29.895Z"
   },
   {
    "duration": 0,
    "start_time": "2023-05-20T20:45:29.896Z"
   },
   {
    "duration": 0,
    "start_time": "2023-05-20T20:45:29.897Z"
   },
   {
    "duration": 22,
    "start_time": "2023-05-20T20:46:20.206Z"
   },
   {
    "duration": 19,
    "start_time": "2023-05-20T20:46:25.963Z"
   },
   {
    "duration": 495,
    "start_time": "2023-05-20T20:46:26.287Z"
   },
   {
    "duration": 13,
    "start_time": "2023-05-20T20:46:27.571Z"
   },
   {
    "duration": 480,
    "start_time": "2023-05-20T20:46:43.965Z"
   },
   {
    "duration": 450,
    "start_time": "2023-05-20T20:46:44.448Z"
   },
   {
    "duration": 183,
    "start_time": "2023-05-20T20:46:44.901Z"
   },
   {
    "duration": 164,
    "start_time": "2023-05-20T20:46:45.087Z"
   },
   {
    "duration": 192,
    "start_time": "2023-05-20T20:46:45.255Z"
   },
   {
    "duration": 440,
    "start_time": "2023-05-20T20:46:45.449Z"
   },
   {
    "duration": 299,
    "start_time": "2023-05-20T20:46:45.892Z"
   },
   {
    "duration": 29,
    "start_time": "2023-05-20T20:46:46.194Z"
   },
   {
    "duration": 56,
    "start_time": "2023-05-20T20:46:46.227Z"
   },
   {
    "duration": 7,
    "start_time": "2023-05-20T20:46:46.286Z"
   },
   {
    "duration": 12,
    "start_time": "2023-05-20T20:49:57.112Z"
   },
   {
    "duration": 45,
    "start_time": "2023-05-20T20:50:18.879Z"
   },
   {
    "duration": 5,
    "start_time": "2023-05-20T20:50:33.255Z"
   },
   {
    "duration": 12,
    "start_time": "2023-05-20T20:50:48.842Z"
   },
   {
    "duration": 11,
    "start_time": "2023-05-20T20:51:20.414Z"
   },
   {
    "duration": 13,
    "start_time": "2023-05-20T20:51:32.282Z"
   },
   {
    "duration": 5,
    "start_time": "2023-05-20T20:53:08.606Z"
   },
   {
    "duration": 6,
    "start_time": "2023-05-20T20:53:21.898Z"
   },
   {
    "duration": 39,
    "start_time": "2023-05-20T20:55:16.866Z"
   },
   {
    "duration": 44,
    "start_time": "2023-05-20T20:55:28.327Z"
   },
   {
    "duration": 12,
    "start_time": "2023-05-20T20:58:01.213Z"
   },
   {
    "duration": 20,
    "start_time": "2023-05-20T20:58:16.517Z"
   },
   {
    "duration": 11,
    "start_time": "2023-05-20T20:58:44.594Z"
   },
   {
    "duration": 17,
    "start_time": "2023-05-20T20:59:07.912Z"
   },
   {
    "duration": 14,
    "start_time": "2023-05-20T20:59:23.262Z"
   },
   {
    "duration": 13,
    "start_time": "2023-05-20T21:00:08.054Z"
   },
   {
    "duration": 29,
    "start_time": "2023-05-20T21:00:14.297Z"
   },
   {
    "duration": 162,
    "start_time": "2023-05-20T21:00:58.366Z"
   },
   {
    "duration": 133,
    "start_time": "2023-05-20T21:05:20.166Z"
   },
   {
    "duration": 50,
    "start_time": "2023-05-21T07:06:46.062Z"
   },
   {
    "duration": 799,
    "start_time": "2023-05-21T07:06:50.213Z"
   },
   {
    "duration": 190,
    "start_time": "2023-05-21T07:06:51.015Z"
   },
   {
    "duration": 18,
    "start_time": "2023-05-21T07:06:51.207Z"
   },
   {
    "duration": 2016,
    "start_time": "2023-05-21T07:06:51.227Z"
   },
   {
    "duration": 10,
    "start_time": "2023-05-21T07:06:53.246Z"
   },
   {
    "duration": 26,
    "start_time": "2023-05-21T07:06:53.258Z"
   },
   {
    "duration": 36,
    "start_time": "2023-05-21T07:06:53.286Z"
   },
   {
    "duration": 440,
    "start_time": "2023-05-21T07:06:53.324Z"
   },
   {
    "duration": 3,
    "start_time": "2023-05-21T07:06:53.766Z"
   },
   {
    "duration": 1031,
    "start_time": "2023-05-21T07:06:53.770Z"
   },
   {
    "duration": 1056,
    "start_time": "2023-05-21T07:06:54.803Z"
   },
   {
    "duration": 1016,
    "start_time": "2023-05-21T07:06:55.861Z"
   },
   {
    "duration": 970,
    "start_time": "2023-05-21T07:06:56.879Z"
   },
   {
    "duration": 5,
    "start_time": "2023-05-21T07:06:57.853Z"
   },
   {
    "duration": 79,
    "start_time": "2023-05-21T07:06:57.859Z"
   },
   {
    "duration": 151,
    "start_time": "2023-05-21T07:06:57.940Z"
   },
   {
    "duration": 7,
    "start_time": "2023-05-21T07:06:58.093Z"
   },
   {
    "duration": 193,
    "start_time": "2023-05-21T07:06:58.101Z"
   },
   {
    "duration": 32,
    "start_time": "2023-05-21T07:06:58.296Z"
   },
   {
    "duration": 77,
    "start_time": "2023-05-21T07:06:58.329Z"
   },
   {
    "duration": 32,
    "start_time": "2023-05-21T07:06:58.408Z"
   },
   {
    "duration": 16,
    "start_time": "2023-05-21T07:06:58.441Z"
   },
   {
    "duration": 15,
    "start_time": "2023-05-21T07:06:58.459Z"
   },
   {
    "duration": 33,
    "start_time": "2023-05-21T07:06:58.476Z"
   },
   {
    "duration": 12,
    "start_time": "2023-05-21T07:06:58.511Z"
   },
   {
    "duration": 19,
    "start_time": "2023-05-21T07:06:58.524Z"
   },
   {
    "duration": 22,
    "start_time": "2023-05-21T07:06:58.545Z"
   },
   {
    "duration": 272,
    "start_time": "2023-05-21T07:06:58.569Z"
   },
   {
    "duration": 166,
    "start_time": "2023-05-21T07:06:58.843Z"
   },
   {
    "duration": 341,
    "start_time": "2023-05-21T07:06:59.011Z"
   },
   {
    "duration": 177,
    "start_time": "2023-05-21T07:06:59.353Z"
   },
   {
    "duration": 210,
    "start_time": "2023-05-21T07:06:59.531Z"
   },
   {
    "duration": 190,
    "start_time": "2023-05-21T07:06:59.743Z"
   },
   {
    "duration": 205,
    "start_time": "2023-05-21T07:06:59.935Z"
   },
   {
    "duration": 303,
    "start_time": "2023-05-21T07:07:00.142Z"
   },
   {
    "duration": 290,
    "start_time": "2023-05-21T07:07:00.447Z"
   },
   {
    "duration": 20,
    "start_time": "2023-05-21T07:07:00.738Z"
   },
   {
    "duration": 51,
    "start_time": "2023-05-21T07:07:00.760Z"
   },
   {
    "duration": 22,
    "start_time": "2023-05-21T07:07:00.813Z"
   },
   {
    "duration": 219,
    "start_time": "2023-05-21T07:07:00.837Z"
   },
   {
    "duration": 59,
    "start_time": "2023-05-21T07:07:29.622Z"
   },
   {
    "duration": 116,
    "start_time": "2023-05-21T07:07:38.162Z"
   },
   {
    "duration": 318,
    "start_time": "2023-05-21T07:14:47.701Z"
   },
   {
    "duration": 853,
    "start_time": "2023-05-22T17:32:01.415Z"
   },
   {
    "duration": 340,
    "start_time": "2023-05-22T17:32:02.270Z"
   },
   {
    "duration": 16,
    "start_time": "2023-05-22T17:32:02.611Z"
   },
   {
    "duration": 2020,
    "start_time": "2023-05-22T17:32:02.629Z"
   },
   {
    "duration": 15,
    "start_time": "2023-05-22T17:32:04.652Z"
   },
   {
    "duration": 18,
    "start_time": "2023-05-22T17:32:04.669Z"
   },
   {
    "duration": 51,
    "start_time": "2023-05-22T17:32:04.689Z"
   },
   {
    "duration": 456,
    "start_time": "2023-05-22T17:32:04.743Z"
   },
   {
    "duration": 4,
    "start_time": "2023-05-22T17:32:05.201Z"
   },
   {
    "duration": 998,
    "start_time": "2023-05-22T17:32:05.208Z"
   },
   {
    "duration": 947,
    "start_time": "2023-05-22T17:32:06.207Z"
   },
   {
    "duration": 1016,
    "start_time": "2023-05-22T17:32:07.157Z"
   },
   {
    "duration": 1142,
    "start_time": "2023-05-22T17:32:08.174Z"
   },
   {
    "duration": 7,
    "start_time": "2023-05-22T17:32:09.317Z"
   },
   {
    "duration": 122,
    "start_time": "2023-05-22T17:32:09.326Z"
   },
   {
    "duration": 169,
    "start_time": "2023-05-22T17:32:09.449Z"
   },
   {
    "duration": 11,
    "start_time": "2023-05-22T17:32:09.619Z"
   },
   {
    "duration": 219,
    "start_time": "2023-05-22T17:32:09.631Z"
   },
   {
    "duration": 28,
    "start_time": "2023-05-22T17:32:09.852Z"
   },
   {
    "duration": 8,
    "start_time": "2023-05-22T17:32:09.882Z"
   },
   {
    "duration": 36,
    "start_time": "2023-05-22T17:32:09.892Z"
   },
   {
    "duration": 12,
    "start_time": "2023-05-22T17:32:09.930Z"
   },
   {
    "duration": 5,
    "start_time": "2023-05-22T17:32:09.944Z"
   },
   {
    "duration": 40,
    "start_time": "2023-05-22T17:32:09.952Z"
   },
   {
    "duration": 16,
    "start_time": "2023-05-22T17:32:09.994Z"
   },
   {
    "duration": 16,
    "start_time": "2023-05-22T17:32:10.023Z"
   },
   {
    "duration": 19,
    "start_time": "2023-05-22T17:32:10.041Z"
   },
   {
    "duration": 400,
    "start_time": "2023-05-22T17:32:10.063Z"
   },
   {
    "duration": 132,
    "start_time": "2023-05-22T17:32:10.466Z"
   },
   {
    "duration": 371,
    "start_time": "2023-05-22T17:32:10.600Z"
   },
   {
    "duration": 184,
    "start_time": "2023-05-22T17:32:10.973Z"
   },
   {
    "duration": 200,
    "start_time": "2023-05-22T17:32:11.159Z"
   },
   {
    "duration": 165,
    "start_time": "2023-05-22T17:32:11.361Z"
   },
   {
    "duration": 184,
    "start_time": "2023-05-22T17:32:11.528Z"
   },
   {
    "duration": 294,
    "start_time": "2023-05-22T17:32:11.714Z"
   },
   {
    "duration": 241,
    "start_time": "2023-05-22T17:32:12.011Z"
   },
   {
    "duration": 20,
    "start_time": "2023-05-22T17:32:12.253Z"
   },
   {
    "duration": 153,
    "start_time": "2023-05-22T17:32:12.275Z"
   },
   {
    "duration": 5,
    "start_time": "2023-05-22T17:32:12.431Z"
   },
   {
    "duration": 190,
    "start_time": "2023-05-22T17:32:12.438Z"
   },
   {
    "duration": 140,
    "start_time": "2023-05-22T17:37:53.542Z"
   },
   {
    "duration": 140,
    "start_time": "2023-05-22T17:38:18.811Z"
   },
   {
    "duration": 143,
    "start_time": "2023-05-22T17:38:45.402Z"
   },
   {
    "duration": 208,
    "start_time": "2023-05-22T17:40:06.661Z"
   },
   {
    "duration": 343,
    "start_time": "2023-05-22T17:40:38.715Z"
   },
   {
    "duration": 356,
    "start_time": "2023-05-22T17:40:55.351Z"
   },
   {
    "duration": 23,
    "start_time": "2023-05-22T17:41:43.894Z"
   },
   {
    "duration": 509,
    "start_time": "2023-05-22T17:41:49.417Z"
   },
   {
    "duration": 594,
    "start_time": "2023-05-22T17:42:18.566Z"
   },
   {
    "duration": 582,
    "start_time": "2023-05-22T17:42:26.430Z"
   },
   {
    "duration": 673,
    "start_time": "2023-05-22T17:43:32.974Z"
   },
   {
    "duration": 546,
    "start_time": "2023-05-22T17:44:01.918Z"
   },
   {
    "duration": 735,
    "start_time": "2023-05-22T17:44:50.868Z"
   },
   {
    "duration": 766,
    "start_time": "2023-05-22T17:48:34.886Z"
   },
   {
    "duration": 839,
    "start_time": "2023-05-22T17:49:21.069Z"
   },
   {
    "duration": 660,
    "start_time": "2023-05-22T17:50:06.391Z"
   },
   {
    "duration": 83,
    "start_time": "2023-05-22T17:50:39.670Z"
   },
   {
    "duration": 747,
    "start_time": "2023-05-22T17:50:44.958Z"
   },
   {
    "duration": 88,
    "start_time": "2023-05-22T17:53:28.450Z"
   },
   {
    "duration": 565,
    "start_time": "2023-05-22T17:55:26.923Z"
   },
   {
    "duration": 636,
    "start_time": "2023-05-22T17:56:39.872Z"
   },
   {
    "duration": 535,
    "start_time": "2023-05-22T17:57:04.257Z"
   },
   {
    "duration": 547,
    "start_time": "2023-05-22T17:57:26.519Z"
   },
   {
    "duration": 1053,
    "start_time": "2023-05-22T17:58:47.131Z"
   },
   {
    "duration": 892,
    "start_time": "2023-05-22T18:00:31.593Z"
   },
   {
    "duration": 728,
    "start_time": "2023-05-22T19:30:19.140Z"
   },
   {
    "duration": 632,
    "start_time": "2023-05-22T19:31:32.447Z"
   },
   {
    "duration": 737,
    "start_time": "2023-05-22T19:32:42.159Z"
   },
   {
    "duration": 972,
    "start_time": "2023-05-22T19:32:53.843Z"
   },
   {
    "duration": 3,
    "start_time": "2023-05-22T19:33:12.280Z"
   },
   {
    "duration": 137,
    "start_time": "2023-05-22T19:33:12.286Z"
   },
   {
    "duration": 15,
    "start_time": "2023-05-22T19:33:12.425Z"
   },
   {
    "duration": 2025,
    "start_time": "2023-05-22T19:33:12.441Z"
   },
   {
    "duration": 14,
    "start_time": "2023-05-22T19:33:14.467Z"
   },
   {
    "duration": 7,
    "start_time": "2023-05-22T19:33:14.484Z"
   },
   {
    "duration": 53,
    "start_time": "2023-05-22T19:33:14.492Z"
   },
   {
    "duration": 744,
    "start_time": "2023-05-22T19:33:14.547Z"
   },
   {
    "duration": 4,
    "start_time": "2023-05-22T19:33:15.293Z"
   },
   {
    "duration": 942,
    "start_time": "2023-05-22T19:33:15.299Z"
   },
   {
    "duration": 964,
    "start_time": "2023-05-22T19:33:16.242Z"
   },
   {
    "duration": 973,
    "start_time": "2023-05-22T19:33:17.207Z"
   },
   {
    "duration": 1026,
    "start_time": "2023-05-22T19:33:18.183Z"
   },
   {
    "duration": 5,
    "start_time": "2023-05-22T19:33:19.211Z"
   },
   {
    "duration": 75,
    "start_time": "2023-05-22T19:33:19.226Z"
   },
   {
    "duration": 191,
    "start_time": "2023-05-22T19:33:19.303Z"
   },
   {
    "duration": 6,
    "start_time": "2023-05-22T19:33:19.496Z"
   },
   {
    "duration": 198,
    "start_time": "2023-05-22T19:33:19.503Z"
   },
   {
    "duration": 35,
    "start_time": "2023-05-22T19:33:19.703Z"
   },
   {
    "duration": 6,
    "start_time": "2023-05-22T19:33:19.739Z"
   },
   {
    "duration": 11,
    "start_time": "2023-05-22T19:33:19.747Z"
   },
   {
    "duration": 22,
    "start_time": "2023-05-22T19:33:19.760Z"
   },
   {
    "duration": 14,
    "start_time": "2023-05-22T19:33:19.784Z"
   },
   {
    "duration": 53,
    "start_time": "2023-05-22T19:33:19.800Z"
   },
   {
    "duration": 22,
    "start_time": "2023-05-22T19:33:19.856Z"
   },
   {
    "duration": 18,
    "start_time": "2023-05-22T19:33:19.880Z"
   },
   {
    "duration": 15,
    "start_time": "2023-05-22T19:33:19.900Z"
   },
   {
    "duration": 276,
    "start_time": "2023-05-22T19:33:19.916Z"
   },
   {
    "duration": 120,
    "start_time": "2023-05-22T19:33:20.194Z"
   },
   {
    "duration": 311,
    "start_time": "2023-05-22T19:33:20.315Z"
   },
   {
    "duration": 160,
    "start_time": "2023-05-22T19:33:20.628Z"
   },
   {
    "duration": 165,
    "start_time": "2023-05-22T19:33:20.790Z"
   },
   {
    "duration": 175,
    "start_time": "2023-05-22T19:33:20.956Z"
   },
   {
    "duration": 159,
    "start_time": "2023-05-22T19:33:21.133Z"
   },
   {
    "duration": 271,
    "start_time": "2023-05-22T19:33:21.293Z"
   },
   {
    "duration": 177,
    "start_time": "2023-05-22T19:33:21.566Z"
   },
   {
    "duration": 18,
    "start_time": "2023-05-22T19:33:21.745Z"
   },
   {
    "duration": 186,
    "start_time": "2023-05-22T19:33:21.764Z"
   },
   {
    "duration": 4,
    "start_time": "2023-05-22T19:33:21.952Z"
   },
   {
    "duration": 726,
    "start_time": "2023-05-22T19:33:21.958Z"
   },
   {
    "duration": 0,
    "start_time": "2023-05-22T19:33:22.686Z"
   },
   {
    "duration": 835,
    "start_time": "2023-05-22T19:34:34.899Z"
   },
   {
    "duration": 816,
    "start_time": "2023-05-22T19:34:46.889Z"
   },
   {
    "duration": 965,
    "start_time": "2023-05-22T19:35:28.520Z"
   },
   {
    "duration": 1061,
    "start_time": "2023-05-22T19:36:06.673Z"
   },
   {
    "duration": 1341,
    "start_time": "2023-05-22T19:47:01.705Z"
   },
   {
    "duration": 136,
    "start_time": "2023-05-22T19:48:35.079Z"
   },
   {
    "duration": 0,
    "start_time": "2023-05-22T19:51:10.929Z"
   },
   {
    "duration": 0,
    "start_time": "2023-05-22T19:51:10.931Z"
   },
   {
    "duration": 0,
    "start_time": "2023-05-22T19:51:10.933Z"
   },
   {
    "duration": 0,
    "start_time": "2023-05-22T19:51:10.935Z"
   },
   {
    "duration": 0,
    "start_time": "2023-05-22T19:51:10.936Z"
   },
   {
    "duration": 0,
    "start_time": "2023-05-22T19:51:10.938Z"
   },
   {
    "duration": 0,
    "start_time": "2023-05-22T19:51:10.939Z"
   },
   {
    "duration": 0,
    "start_time": "2023-05-22T19:51:10.940Z"
   },
   {
    "duration": 0,
    "start_time": "2023-05-22T19:51:10.942Z"
   },
   {
    "duration": 0,
    "start_time": "2023-05-22T19:51:10.943Z"
   },
   {
    "duration": 0,
    "start_time": "2023-05-22T19:51:10.945Z"
   },
   {
    "duration": 0,
    "start_time": "2023-05-22T19:51:10.947Z"
   },
   {
    "duration": 0,
    "start_time": "2023-05-22T19:51:10.948Z"
   },
   {
    "duration": 0,
    "start_time": "2023-05-22T19:51:10.950Z"
   },
   {
    "duration": 0,
    "start_time": "2023-05-22T19:51:10.951Z"
   },
   {
    "duration": 0,
    "start_time": "2023-05-22T19:51:10.952Z"
   },
   {
    "duration": 0,
    "start_time": "2023-05-22T19:51:10.953Z"
   },
   {
    "duration": 0,
    "start_time": "2023-05-22T19:51:10.955Z"
   },
   {
    "duration": 0,
    "start_time": "2023-05-22T19:51:10.956Z"
   },
   {
    "duration": 0,
    "start_time": "2023-05-22T19:51:10.958Z"
   },
   {
    "duration": 0,
    "start_time": "2023-05-22T19:51:10.959Z"
   },
   {
    "duration": 0,
    "start_time": "2023-05-22T19:51:10.960Z"
   },
   {
    "duration": 0,
    "start_time": "2023-05-22T19:51:10.962Z"
   },
   {
    "duration": 0,
    "start_time": "2023-05-22T19:51:10.963Z"
   },
   {
    "duration": 0,
    "start_time": "2023-05-22T19:51:11.024Z"
   },
   {
    "duration": 0,
    "start_time": "2023-05-22T19:51:11.025Z"
   },
   {
    "duration": 0,
    "start_time": "2023-05-22T19:51:11.026Z"
   },
   {
    "duration": 0,
    "start_time": "2023-05-22T19:51:11.027Z"
   },
   {
    "duration": 0,
    "start_time": "2023-05-22T19:51:11.029Z"
   },
   {
    "duration": 0,
    "start_time": "2023-05-22T19:51:11.030Z"
   },
   {
    "duration": 0,
    "start_time": "2023-05-22T19:51:11.031Z"
   },
   {
    "duration": 0,
    "start_time": "2023-05-22T19:51:11.033Z"
   },
   {
    "duration": 0,
    "start_time": "2023-05-22T19:51:11.035Z"
   },
   {
    "duration": 0,
    "start_time": "2023-05-22T19:51:11.036Z"
   },
   {
    "duration": 0,
    "start_time": "2023-05-22T19:51:11.038Z"
   },
   {
    "duration": 0,
    "start_time": "2023-05-22T19:51:11.040Z"
   },
   {
    "duration": 0,
    "start_time": "2023-05-22T19:51:11.041Z"
   },
   {
    "duration": 0,
    "start_time": "2023-05-22T19:51:11.044Z"
   },
   {
    "duration": 0,
    "start_time": "2023-05-22T19:51:11.045Z"
   },
   {
    "duration": 0,
    "start_time": "2023-05-22T19:51:11.046Z"
   },
   {
    "duration": 0,
    "start_time": "2023-05-22T19:51:11.046Z"
   },
   {
    "duration": 0,
    "start_time": "2023-05-22T19:51:11.047Z"
   },
   {
    "duration": 0,
    "start_time": "2023-05-22T19:51:11.048Z"
   },
   {
    "duration": 3,
    "start_time": "2023-05-22T19:51:39.104Z"
   },
   {
    "duration": 3,
    "start_time": "2023-05-22T19:51:42.026Z"
   },
   {
    "duration": 170,
    "start_time": "2023-05-22T19:51:42.031Z"
   },
   {
    "duration": 28,
    "start_time": "2023-05-22T19:51:42.204Z"
   },
   {
    "duration": 2043,
    "start_time": "2023-05-22T19:51:42.234Z"
   },
   {
    "duration": 9,
    "start_time": "2023-05-22T19:51:44.280Z"
   },
   {
    "duration": 21,
    "start_time": "2023-05-22T19:51:44.291Z"
   },
   {
    "duration": 35,
    "start_time": "2023-05-22T19:51:44.313Z"
   },
   {
    "duration": 452,
    "start_time": "2023-05-22T19:51:44.350Z"
   },
   {
    "duration": 4,
    "start_time": "2023-05-22T19:51:44.804Z"
   },
   {
    "duration": 1023,
    "start_time": "2023-05-22T19:51:44.825Z"
   },
   {
    "duration": 1005,
    "start_time": "2023-05-22T19:51:45.850Z"
   },
   {
    "duration": 959,
    "start_time": "2023-05-22T19:51:46.857Z"
   },
   {
    "duration": 976,
    "start_time": "2023-05-22T19:51:47.819Z"
   },
   {
    "duration": 8,
    "start_time": "2023-05-22T19:51:48.798Z"
   },
   {
    "duration": 92,
    "start_time": "2023-05-22T19:51:48.808Z"
   },
   {
    "duration": 167,
    "start_time": "2023-05-22T19:51:48.902Z"
   },
   {
    "duration": 6,
    "start_time": "2023-05-22T19:51:49.070Z"
   },
   {
    "duration": 203,
    "start_time": "2023-05-22T19:51:49.078Z"
   },
   {
    "duration": 41,
    "start_time": "2023-05-22T19:51:49.283Z"
   },
   {
    "duration": 9,
    "start_time": "2023-05-22T19:51:49.327Z"
   },
   {
    "duration": 10,
    "start_time": "2023-05-22T19:51:49.337Z"
   },
   {
    "duration": 71,
    "start_time": "2023-05-22T19:51:49.349Z"
   },
   {
    "duration": 30,
    "start_time": "2023-05-22T19:51:49.421Z"
   },
   {
    "duration": 41,
    "start_time": "2023-05-22T19:51:49.452Z"
   },
   {
    "duration": 12,
    "start_time": "2023-05-22T19:51:49.494Z"
   },
   {
    "duration": 46,
    "start_time": "2023-05-22T19:51:49.508Z"
   },
   {
    "duration": 26,
    "start_time": "2023-05-22T19:51:49.555Z"
   },
   {
    "duration": 283,
    "start_time": "2023-05-22T19:51:49.583Z"
   },
   {
    "duration": 122,
    "start_time": "2023-05-22T19:51:49.868Z"
   },
   {
    "duration": 331,
    "start_time": "2023-05-22T19:51:49.991Z"
   },
   {
    "duration": 154,
    "start_time": "2023-05-22T19:51:50.324Z"
   },
   {
    "duration": 167,
    "start_time": "2023-05-22T19:51:50.479Z"
   },
   {
    "duration": 147,
    "start_time": "2023-05-22T19:51:50.648Z"
   },
   {
    "duration": 164,
    "start_time": "2023-05-22T19:51:50.797Z"
   },
   {
    "duration": 295,
    "start_time": "2023-05-22T19:51:50.963Z"
   },
   {
    "duration": 195,
    "start_time": "2023-05-22T19:51:51.260Z"
   },
   {
    "duration": 21,
    "start_time": "2023-05-22T19:51:51.459Z"
   },
   {
    "duration": 42,
    "start_time": "2023-05-22T19:51:51.482Z"
   },
   {
    "duration": 5,
    "start_time": "2023-05-22T19:51:51.526Z"
   },
   {
    "duration": 1178,
    "start_time": "2023-05-22T19:51:51.532Z"
   },
   {
    "duration": 29472,
    "start_time": "2023-05-22T19:51:52.711Z"
   },
   {
    "duration": 0,
    "start_time": "2023-05-22T19:52:22.185Z"
   },
   {
    "duration": 0,
    "start_time": "2023-05-22T19:52:22.186Z"
   },
   {
    "duration": 146,
    "start_time": "2023-05-22T19:52:22.620Z"
   },
   {
    "duration": 250,
    "start_time": "2023-05-22T20:42:10.152Z"
   },
   {
    "duration": 12,
    "start_time": "2023-05-22T20:43:00.285Z"
   },
   {
    "duration": 404,
    "start_time": "2023-05-22T20:44:31.942Z"
   },
   {
    "duration": 13,
    "start_time": "2023-05-22T20:45:46.248Z"
   },
   {
    "duration": 10,
    "start_time": "2023-05-22T20:45:56.069Z"
   },
   {
    "duration": 8,
    "start_time": "2023-05-22T20:46:00.618Z"
   },
   {
    "duration": 3,
    "start_time": "2023-05-22T20:56:57.890Z"
   },
   {
    "duration": 134,
    "start_time": "2023-05-22T20:56:57.895Z"
   },
   {
    "duration": 14,
    "start_time": "2023-05-22T20:56:58.031Z"
   },
   {
    "duration": 1922,
    "start_time": "2023-05-22T20:56:58.047Z"
   },
   {
    "duration": 9,
    "start_time": "2023-05-22T20:56:59.971Z"
   },
   {
    "duration": 29,
    "start_time": "2023-05-22T20:56:59.982Z"
   },
   {
    "duration": 53,
    "start_time": "2023-05-22T20:57:00.013Z"
   },
   {
    "duration": 435,
    "start_time": "2023-05-22T20:57:00.068Z"
   },
   {
    "duration": 4,
    "start_time": "2023-05-22T20:57:00.505Z"
   },
   {
    "duration": 1026,
    "start_time": "2023-05-22T20:57:00.510Z"
   },
   {
    "duration": 975,
    "start_time": "2023-05-22T20:57:01.539Z"
   },
   {
    "duration": 1019,
    "start_time": "2023-05-22T20:57:02.516Z"
   },
   {
    "duration": 985,
    "start_time": "2023-05-22T20:57:03.537Z"
   },
   {
    "duration": 6,
    "start_time": "2023-05-22T20:57:04.524Z"
   },
   {
    "duration": 73,
    "start_time": "2023-05-22T20:57:04.532Z"
   },
   {
    "duration": 162,
    "start_time": "2023-05-22T20:57:04.607Z"
   },
   {
    "duration": 6,
    "start_time": "2023-05-22T20:57:04.771Z"
   },
   {
    "duration": 196,
    "start_time": "2023-05-22T20:57:04.779Z"
   },
   {
    "duration": 25,
    "start_time": "2023-05-22T20:57:04.977Z"
   },
   {
    "duration": 22,
    "start_time": "2023-05-22T20:57:05.004Z"
   },
   {
    "duration": 27,
    "start_time": "2023-05-22T20:57:05.028Z"
   },
   {
    "duration": 12,
    "start_time": "2023-05-22T20:57:05.057Z"
   },
   {
    "duration": 5,
    "start_time": "2023-05-22T20:57:05.071Z"
   },
   {
    "duration": 22,
    "start_time": "2023-05-22T20:57:05.077Z"
   },
   {
    "duration": 8,
    "start_time": "2023-05-22T20:57:05.101Z"
   },
   {
    "duration": 23,
    "start_time": "2023-05-22T20:57:05.110Z"
   },
   {
    "duration": 14,
    "start_time": "2023-05-22T20:57:05.135Z"
   },
   {
    "duration": 331,
    "start_time": "2023-05-22T20:57:05.150Z"
   },
   {
    "duration": 323,
    "start_time": "2023-05-22T20:57:05.485Z"
   },
   {
    "duration": 148,
    "start_time": "2023-05-22T20:57:05.810Z"
   },
   {
    "duration": 167,
    "start_time": "2023-05-22T20:57:05.959Z"
   },
   {
    "duration": 148,
    "start_time": "2023-05-22T20:57:06.128Z"
   },
   {
    "duration": 167,
    "start_time": "2023-05-22T20:57:06.278Z"
   },
   {
    "duration": 253,
    "start_time": "2023-05-22T20:57:06.447Z"
   },
   {
    "duration": 113,
    "start_time": "2023-05-22T20:57:06.702Z"
   },
   {
    "duration": 153,
    "start_time": "2023-05-22T20:57:06.824Z"
   },
   {
    "duration": 16,
    "start_time": "2023-05-22T20:57:06.978Z"
   },
   {
    "duration": 37,
    "start_time": "2023-05-22T20:57:06.996Z"
   },
   {
    "duration": 4,
    "start_time": "2023-05-22T20:57:07.035Z"
   },
   {
    "duration": 1093,
    "start_time": "2023-05-22T20:57:07.040Z"
   },
   {
    "duration": 159,
    "start_time": "2023-05-22T20:57:08.134Z"
   },
   {
    "duration": 307,
    "start_time": "2023-05-22T20:59:05.720Z"
   },
   {
    "duration": 186,
    "start_time": "2023-05-22T20:59:32.970Z"
   },
   {
    "duration": 134,
    "start_time": "2023-05-22T20:59:48.536Z"
   },
   {
    "duration": 19,
    "start_time": "2023-05-22T21:09:14.437Z"
   },
   {
    "duration": 141,
    "start_time": "2023-05-22T21:09:29.654Z"
   },
   {
    "duration": 160,
    "start_time": "2023-05-22T21:09:37.199Z"
   },
   {
    "duration": 129,
    "start_time": "2023-05-22T21:09:43.967Z"
   },
   {
    "duration": 150,
    "start_time": "2023-05-22T21:09:50.640Z"
   },
   {
    "duration": 160,
    "start_time": "2023-05-22T21:09:55.551Z"
   },
   {
    "duration": 184,
    "start_time": "2023-05-22T21:10:00.642Z"
   },
   {
    "duration": 145,
    "start_time": "2023-05-22T21:10:06.091Z"
   },
   {
    "duration": 146,
    "start_time": "2023-05-22T21:10:15.400Z"
   },
   {
    "duration": 151,
    "start_time": "2023-05-22T21:10:21.333Z"
   },
   {
    "duration": 173,
    "start_time": "2023-05-22T21:10:55.869Z"
   },
   {
    "duration": 180,
    "start_time": "2023-05-22T21:11:07.067Z"
   },
   {
    "duration": 154,
    "start_time": "2023-05-22T21:12:32.341Z"
   },
   {
    "duration": 2,
    "start_time": "2023-05-22T21:15:43.589Z"
   },
   {
    "duration": 140,
    "start_time": "2023-05-22T21:15:43.593Z"
   },
   {
    "duration": 14,
    "start_time": "2023-05-22T21:15:43.734Z"
   },
   {
    "duration": 1870,
    "start_time": "2023-05-22T21:15:43.749Z"
   },
   {
    "duration": 9,
    "start_time": "2023-05-22T21:15:45.622Z"
   },
   {
    "duration": 7,
    "start_time": "2023-05-22T21:15:45.633Z"
   },
   {
    "duration": 29,
    "start_time": "2023-05-22T21:15:45.641Z"
   },
   {
    "duration": 417,
    "start_time": "2023-05-22T21:15:45.672Z"
   },
   {
    "duration": 4,
    "start_time": "2023-05-22T21:15:46.090Z"
   },
   {
    "duration": 1002,
    "start_time": "2023-05-22T21:15:46.095Z"
   },
   {
    "duration": 939,
    "start_time": "2023-05-22T21:15:47.098Z"
   },
   {
    "duration": 900,
    "start_time": "2023-05-22T21:15:48.039Z"
   },
   {
    "duration": 962,
    "start_time": "2023-05-22T21:15:48.941Z"
   },
   {
    "duration": 5,
    "start_time": "2023-05-22T21:15:49.907Z"
   },
   {
    "duration": 73,
    "start_time": "2023-05-22T21:15:49.914Z"
   },
   {
    "duration": 139,
    "start_time": "2023-05-22T21:15:49.989Z"
   },
   {
    "duration": 6,
    "start_time": "2023-05-22T21:15:50.130Z"
   },
   {
    "duration": 167,
    "start_time": "2023-05-22T21:15:50.138Z"
   },
   {
    "duration": 25,
    "start_time": "2023-05-22T21:15:50.307Z"
   },
   {
    "duration": 5,
    "start_time": "2023-05-22T21:15:50.333Z"
   },
   {
    "duration": 8,
    "start_time": "2023-05-22T21:15:50.339Z"
   },
   {
    "duration": 7,
    "start_time": "2023-05-22T21:15:50.348Z"
   },
   {
    "duration": 6,
    "start_time": "2023-05-22T21:15:50.356Z"
   },
   {
    "duration": 19,
    "start_time": "2023-05-22T21:15:50.363Z"
   },
   {
    "duration": 7,
    "start_time": "2023-05-22T21:15:50.383Z"
   },
   {
    "duration": 43,
    "start_time": "2023-05-22T21:15:50.391Z"
   },
   {
    "duration": 13,
    "start_time": "2023-05-22T21:15:50.436Z"
   },
   {
    "duration": 261,
    "start_time": "2023-05-22T21:15:50.451Z"
   },
   {
    "duration": 277,
    "start_time": "2023-05-22T21:15:50.714Z"
   },
   {
    "duration": 161,
    "start_time": "2023-05-22T21:15:50.993Z"
   },
   {
    "duration": 122,
    "start_time": "2023-05-22T21:15:51.155Z"
   },
   {
    "duration": 145,
    "start_time": "2023-05-22T21:15:51.279Z"
   },
   {
    "duration": 144,
    "start_time": "2023-05-22T21:15:51.426Z"
   },
   {
    "duration": 268,
    "start_time": "2023-05-22T21:15:51.572Z"
   },
   {
    "duration": 133,
    "start_time": "2023-05-22T21:15:51.841Z"
   },
   {
    "duration": 187,
    "start_time": "2023-05-22T21:15:51.976Z"
   },
   {
    "duration": 183,
    "start_time": "2023-05-22T21:15:52.165Z"
   },
   {
    "duration": 160,
    "start_time": "2023-05-22T21:15:52.349Z"
   },
   {
    "duration": 24,
    "start_time": "2023-05-22T21:15:52.510Z"
   },
   {
    "duration": 19,
    "start_time": "2023-05-22T21:15:52.536Z"
   },
   {
    "duration": 3,
    "start_time": "2023-05-22T21:15:52.559Z"
   },
   {
    "duration": 1139,
    "start_time": "2023-05-22T21:15:52.564Z"
   },
   {
    "duration": 161,
    "start_time": "2023-05-22T21:15:53.704Z"
   },
   {
    "duration": 169,
    "start_time": "2023-05-22T21:19:35.433Z"
   },
   {
    "duration": 169,
    "start_time": "2023-05-22T21:22:30.036Z"
   },
   {
    "duration": 142,
    "start_time": "2023-05-22T21:23:40.732Z"
   },
   {
    "duration": 154,
    "start_time": "2023-05-22T21:23:50.284Z"
   },
   {
    "duration": 3,
    "start_time": "2023-05-22T21:25:09.590Z"
   },
   {
    "duration": 122,
    "start_time": "2023-05-22T21:25:09.595Z"
   },
   {
    "duration": 13,
    "start_time": "2023-05-22T21:25:09.726Z"
   },
   {
    "duration": 1814,
    "start_time": "2023-05-22T21:25:09.741Z"
   },
   {
    "duration": 8,
    "start_time": "2023-05-22T21:25:11.557Z"
   },
   {
    "duration": 6,
    "start_time": "2023-05-22T21:25:11.567Z"
   },
   {
    "duration": 50,
    "start_time": "2023-05-22T21:25:11.574Z"
   },
   {
    "duration": 418,
    "start_time": "2023-05-22T21:25:11.626Z"
   },
   {
    "duration": 3,
    "start_time": "2023-05-22T21:25:12.046Z"
   },
   {
    "duration": 944,
    "start_time": "2023-05-22T21:25:12.053Z"
   },
   {
    "duration": 1014,
    "start_time": "2023-05-22T21:25:12.999Z"
   },
   {
    "duration": 1000,
    "start_time": "2023-05-22T21:25:14.015Z"
   },
   {
    "duration": 967,
    "start_time": "2023-05-22T21:25:15.017Z"
   },
   {
    "duration": 5,
    "start_time": "2023-05-22T21:25:15.985Z"
   },
   {
    "duration": 77,
    "start_time": "2023-05-22T21:25:15.991Z"
   },
   {
    "duration": 154,
    "start_time": "2023-05-22T21:25:16.070Z"
   },
   {
    "duration": 6,
    "start_time": "2023-05-22T21:25:16.226Z"
   },
   {
    "duration": 186,
    "start_time": "2023-05-22T21:25:16.234Z"
   },
   {
    "duration": 22,
    "start_time": "2023-05-22T21:25:16.424Z"
   },
   {
    "duration": 12,
    "start_time": "2023-05-22T21:25:16.448Z"
   },
   {
    "duration": 19,
    "start_time": "2023-05-22T21:25:16.461Z"
   },
   {
    "duration": 10,
    "start_time": "2023-05-22T21:25:16.481Z"
   },
   {
    "duration": 8,
    "start_time": "2023-05-22T21:25:16.492Z"
   },
   {
    "duration": 25,
    "start_time": "2023-05-22T21:25:16.501Z"
   },
   {
    "duration": 8,
    "start_time": "2023-05-22T21:25:16.528Z"
   },
   {
    "duration": 22,
    "start_time": "2023-05-22T21:25:16.537Z"
   },
   {
    "duration": 20,
    "start_time": "2023-05-22T21:25:16.560Z"
   },
   {
    "duration": 273,
    "start_time": "2023-05-22T21:25:16.583Z"
   },
   {
    "duration": 315,
    "start_time": "2023-05-22T21:25:16.857Z"
   },
   {
    "duration": 159,
    "start_time": "2023-05-22T21:25:17.174Z"
   },
   {
    "duration": 152,
    "start_time": "2023-05-22T21:25:17.336Z"
   },
   {
    "duration": 1704,
    "start_time": "2023-05-22T21:25:17.490Z"
   },
   {
    "duration": 161,
    "start_time": "2023-05-22T21:25:19.196Z"
   },
   {
    "duration": 281,
    "start_time": "2023-05-22T21:25:19.358Z"
   },
   {
    "duration": 128,
    "start_time": "2023-05-22T21:25:19.640Z"
   },
   {
    "duration": 183,
    "start_time": "2023-05-22T21:25:19.771Z"
   },
   {
    "duration": 195,
    "start_time": "2023-05-22T21:25:19.956Z"
   },
   {
    "duration": 182,
    "start_time": "2023-05-22T21:25:20.153Z"
   },
   {
    "duration": 183,
    "start_time": "2023-05-22T21:25:20.336Z"
   },
   {
    "duration": 168,
    "start_time": "2023-05-22T21:25:20.524Z"
   },
   {
    "duration": 17,
    "start_time": "2023-05-22T21:25:20.694Z"
   },
   {
    "duration": 23,
    "start_time": "2023-05-22T21:25:20.724Z"
   },
   {
    "duration": 4,
    "start_time": "2023-05-22T21:25:20.749Z"
   },
   {
    "duration": 1153,
    "start_time": "2023-05-22T21:25:20.755Z"
   },
   {
    "duration": 159,
    "start_time": "2023-05-22T21:25:21.910Z"
   },
   {
    "duration": 3,
    "start_time": "2023-05-22T21:27:25.398Z"
   },
   {
    "duration": 142,
    "start_time": "2023-05-22T21:27:25.403Z"
   },
   {
    "duration": 13,
    "start_time": "2023-05-22T21:27:25.546Z"
   },
   {
    "duration": 1768,
    "start_time": "2023-05-22T21:27:25.561Z"
   },
   {
    "duration": 8,
    "start_time": "2023-05-22T21:27:27.331Z"
   },
   {
    "duration": 22,
    "start_time": "2023-05-22T21:27:27.341Z"
   },
   {
    "duration": 45,
    "start_time": "2023-05-22T21:27:27.364Z"
   },
   {
    "duration": 378,
    "start_time": "2023-05-22T21:27:27.410Z"
   },
   {
    "duration": 4,
    "start_time": "2023-05-22T21:27:27.790Z"
   },
   {
    "duration": 918,
    "start_time": "2023-05-22T21:27:27.796Z"
   },
   {
    "duration": 927,
    "start_time": "2023-05-22T21:27:28.716Z"
   },
   {
    "duration": 913,
    "start_time": "2023-05-22T21:27:29.644Z"
   },
   {
    "duration": 1006,
    "start_time": "2023-05-22T21:27:30.558Z"
   },
   {
    "duration": 5,
    "start_time": "2023-05-22T21:27:31.568Z"
   },
   {
    "duration": 111,
    "start_time": "2023-05-22T21:27:31.575Z"
   },
   {
    "duration": 208,
    "start_time": "2023-05-22T21:27:31.688Z"
   },
   {
    "duration": 5,
    "start_time": "2023-05-22T21:27:31.898Z"
   },
   {
    "duration": 212,
    "start_time": "2023-05-22T21:27:31.905Z"
   },
   {
    "duration": 26,
    "start_time": "2023-05-22T21:27:32.119Z"
   },
   {
    "duration": 36,
    "start_time": "2023-05-22T21:27:32.146Z"
   },
   {
    "duration": 33,
    "start_time": "2023-05-22T21:27:32.184Z"
   },
   {
    "duration": 35,
    "start_time": "2023-05-22T21:27:32.219Z"
   },
   {
    "duration": 22,
    "start_time": "2023-05-22T21:27:32.255Z"
   },
   {
    "duration": 41,
    "start_time": "2023-05-22T21:27:32.279Z"
   },
   {
    "duration": 23,
    "start_time": "2023-05-22T21:27:32.321Z"
   },
   {
    "duration": 23,
    "start_time": "2023-05-22T21:27:32.346Z"
   },
   {
    "duration": 29,
    "start_time": "2023-05-22T21:27:32.371Z"
   },
   {
    "duration": 244,
    "start_time": "2023-05-22T21:27:32.402Z"
   },
   {
    "duration": 302,
    "start_time": "2023-05-22T21:27:32.648Z"
   },
   {
    "duration": 146,
    "start_time": "2023-05-22T21:27:32.952Z"
   },
   {
    "duration": 148,
    "start_time": "2023-05-22T21:27:33.100Z"
   },
   {
    "duration": 144,
    "start_time": "2023-05-22T21:27:33.250Z"
   },
   {
    "duration": 184,
    "start_time": "2023-05-22T21:27:33.396Z"
   },
   {
    "duration": 345,
    "start_time": "2023-05-22T21:27:33.582Z"
   },
   {
    "duration": 120,
    "start_time": "2023-05-22T21:27:33.929Z"
   },
   {
    "duration": 174,
    "start_time": "2023-05-22T21:27:34.050Z"
   },
   {
    "duration": 162,
    "start_time": "2023-05-22T21:27:34.226Z"
   },
   {
    "duration": 177,
    "start_time": "2023-05-22T21:27:34.390Z"
   },
   {
    "duration": 178,
    "start_time": "2023-05-22T21:27:34.568Z"
   },
   {
    "duration": 228,
    "start_time": "2023-05-22T21:27:34.749Z"
   },
   {
    "duration": 17,
    "start_time": "2023-05-22T21:27:34.980Z"
   },
   {
    "duration": 29,
    "start_time": "2023-05-22T21:27:34.998Z"
   },
   {
    "duration": 4,
    "start_time": "2023-05-22T21:27:35.029Z"
   },
   {
    "duration": 1191,
    "start_time": "2023-05-22T21:27:35.035Z"
   },
   {
    "duration": 143,
    "start_time": "2023-05-22T21:27:36.228Z"
   },
   {
    "duration": 648,
    "start_time": "2023-05-22T22:13:43.086Z"
   },
   {
    "duration": 331,
    "start_time": "2023-05-22T22:13:43.736Z"
   },
   {
    "duration": 13,
    "start_time": "2023-05-22T22:13:44.068Z"
   },
   {
    "duration": 1796,
    "start_time": "2023-05-22T22:13:44.083Z"
   },
   {
    "duration": 9,
    "start_time": "2023-05-22T22:13:45.880Z"
   },
   {
    "duration": 10,
    "start_time": "2023-05-22T22:13:45.890Z"
   },
   {
    "duration": 53,
    "start_time": "2023-05-22T22:13:45.901Z"
   },
   {
    "duration": 328,
    "start_time": "2023-05-22T22:13:45.955Z"
   },
   {
    "duration": 3,
    "start_time": "2023-05-22T22:13:46.285Z"
   },
   {
    "duration": 819,
    "start_time": "2023-05-22T22:13:46.290Z"
   },
   {
    "duration": 815,
    "start_time": "2023-05-22T22:13:47.110Z"
   },
   {
    "duration": 833,
    "start_time": "2023-05-22T22:13:47.926Z"
   },
   {
    "duration": 811,
    "start_time": "2023-05-22T22:13:48.761Z"
   },
   {
    "duration": 4,
    "start_time": "2023-05-22T22:13:49.574Z"
   },
   {
    "duration": 68,
    "start_time": "2023-05-22T22:13:49.580Z"
   },
   {
    "duration": 139,
    "start_time": "2023-05-22T22:13:49.650Z"
   },
   {
    "duration": 6,
    "start_time": "2023-05-22T22:13:49.791Z"
   },
   {
    "duration": 164,
    "start_time": "2023-05-22T22:13:49.799Z"
   },
   {
    "duration": 22,
    "start_time": "2023-05-22T22:13:49.965Z"
   },
   {
    "duration": 11,
    "start_time": "2023-05-22T22:13:49.988Z"
   },
   {
    "duration": 21,
    "start_time": "2023-05-22T22:13:50.001Z"
   },
   {
    "duration": 10,
    "start_time": "2023-05-22T22:13:50.024Z"
   },
   {
    "duration": 5,
    "start_time": "2023-05-22T22:13:50.036Z"
   },
   {
    "duration": 18,
    "start_time": "2023-05-22T22:13:50.042Z"
   },
   {
    "duration": 6,
    "start_time": "2023-05-22T22:13:50.062Z"
   },
   {
    "duration": 12,
    "start_time": "2023-05-22T22:13:50.070Z"
   },
   {
    "duration": 37,
    "start_time": "2023-05-22T22:13:50.083Z"
   },
   {
    "duration": 338,
    "start_time": "2023-05-22T22:13:50.123Z"
   },
   {
    "duration": 283,
    "start_time": "2023-05-22T22:13:50.462Z"
   },
   {
    "duration": 160,
    "start_time": "2023-05-22T22:13:50.746Z"
   },
   {
    "duration": 131,
    "start_time": "2023-05-22T22:13:50.907Z"
   },
   {
    "duration": 146,
    "start_time": "2023-05-22T22:13:51.041Z"
   },
   {
    "duration": 147,
    "start_time": "2023-05-22T22:13:51.188Z"
   },
   {
    "duration": 251,
    "start_time": "2023-05-22T22:13:51.336Z"
   },
   {
    "duration": 114,
    "start_time": "2023-05-22T22:13:51.588Z"
   },
   {
    "duration": 168,
    "start_time": "2023-05-22T22:13:51.704Z"
   },
   {
    "duration": 242,
    "start_time": "2023-05-22T22:13:51.873Z"
   },
   {
    "duration": 162,
    "start_time": "2023-05-22T22:13:52.117Z"
   },
   {
    "duration": 165,
    "start_time": "2023-05-22T22:13:52.280Z"
   },
   {
    "duration": 147,
    "start_time": "2023-05-22T22:13:52.447Z"
   },
   {
    "duration": 23,
    "start_time": "2023-05-22T22:13:52.595Z"
   },
   {
    "duration": 20,
    "start_time": "2023-05-22T22:13:52.620Z"
   },
   {
    "duration": 3,
    "start_time": "2023-05-22T22:13:52.641Z"
   },
   {
    "duration": 1058,
    "start_time": "2023-05-22T22:13:52.646Z"
   },
   {
    "duration": 147,
    "start_time": "2023-05-22T22:13:53.706Z"
   },
   {
    "duration": 12,
    "start_time": "2023-05-22T22:14:43.598Z"
   },
   {
    "duration": 138,
    "start_time": "2023-05-22T22:19:50.070Z"
   },
   {
    "duration": 50,
    "start_time": "2023-05-23T20:00:43.672Z"
   },
   {
    "duration": 772,
    "start_time": "2023-05-23T20:00:47.095Z"
   },
   {
    "duration": 355,
    "start_time": "2023-05-23T20:00:47.869Z"
   },
   {
    "duration": 16,
    "start_time": "2023-05-23T20:00:48.227Z"
   },
   {
    "duration": 2027,
    "start_time": "2023-05-23T20:00:48.245Z"
   },
   {
    "duration": 12,
    "start_time": "2023-05-23T20:00:50.275Z"
   },
   {
    "duration": 7,
    "start_time": "2023-05-23T20:00:50.289Z"
   },
   {
    "duration": 55,
    "start_time": "2023-05-23T20:00:50.298Z"
   },
   {
    "duration": 448,
    "start_time": "2023-05-23T20:00:50.355Z"
   },
   {
    "duration": 4,
    "start_time": "2023-05-23T20:00:50.805Z"
   },
   {
    "duration": 1042,
    "start_time": "2023-05-23T20:00:50.811Z"
   },
   {
    "duration": 1022,
    "start_time": "2023-05-23T20:00:51.854Z"
   },
   {
    "duration": 1018,
    "start_time": "2023-05-23T20:00:52.877Z"
   },
   {
    "duration": 979,
    "start_time": "2023-05-23T20:00:53.897Z"
   },
   {
    "duration": 5,
    "start_time": "2023-05-23T20:00:54.879Z"
   },
   {
    "duration": 83,
    "start_time": "2023-05-23T20:00:54.886Z"
   },
   {
    "duration": 174,
    "start_time": "2023-05-23T20:00:54.970Z"
   },
   {
    "duration": 8,
    "start_time": "2023-05-23T20:00:55.146Z"
   },
   {
    "duration": 218,
    "start_time": "2023-05-23T20:00:55.156Z"
   },
   {
    "duration": 25,
    "start_time": "2023-05-23T20:00:55.376Z"
   },
   {
    "duration": 11,
    "start_time": "2023-05-23T20:00:55.403Z"
   },
   {
    "duration": 34,
    "start_time": "2023-05-23T20:00:55.416Z"
   },
   {
    "duration": 24,
    "start_time": "2023-05-23T20:00:55.452Z"
   },
   {
    "duration": 20,
    "start_time": "2023-05-23T20:00:55.478Z"
   },
   {
    "duration": 40,
    "start_time": "2023-05-23T20:00:55.500Z"
   },
   {
    "duration": 15,
    "start_time": "2023-05-23T20:00:55.542Z"
   },
   {
    "duration": 28,
    "start_time": "2023-05-23T20:00:55.558Z"
   },
   {
    "duration": 18,
    "start_time": "2023-05-23T20:00:55.588Z"
   },
   {
    "duration": 358,
    "start_time": "2023-05-23T20:00:55.608Z"
   },
   {
    "duration": 324,
    "start_time": "2023-05-23T20:00:55.968Z"
   },
   {
    "duration": 168,
    "start_time": "2023-05-23T20:00:56.294Z"
   },
   {
    "duration": 150,
    "start_time": "2023-05-23T20:00:56.463Z"
   },
   {
    "duration": 163,
    "start_time": "2023-05-23T20:00:56.614Z"
   },
   {
    "duration": 168,
    "start_time": "2023-05-23T20:00:56.778Z"
   },
   {
    "duration": 274,
    "start_time": "2023-05-23T20:00:56.948Z"
   },
   {
    "duration": 132,
    "start_time": "2023-05-23T20:00:57.224Z"
   },
   {
    "duration": 196,
    "start_time": "2023-05-23T20:00:57.358Z"
   },
   {
    "duration": 252,
    "start_time": "2023-05-23T20:00:57.555Z"
   },
   {
    "duration": 187,
    "start_time": "2023-05-23T20:00:57.809Z"
   },
   {
    "duration": 202,
    "start_time": "2023-05-23T20:00:57.997Z"
   },
   {
    "duration": 171,
    "start_time": "2023-05-23T20:00:58.201Z"
   },
   {
    "duration": 18,
    "start_time": "2023-05-23T20:00:58.376Z"
   },
   {
    "duration": 23,
    "start_time": "2023-05-23T20:00:58.396Z"
   },
   {
    "duration": 28,
    "start_time": "2023-05-23T20:00:58.420Z"
   },
   {
    "duration": 1154,
    "start_time": "2023-05-23T20:00:58.450Z"
   },
   {
    "duration": 150,
    "start_time": "2023-05-23T20:00:59.605Z"
   },
   {
    "duration": 2757,
    "start_time": "2023-05-23T20:01:16.483Z"
   },
   {
    "duration": 57,
    "start_time": "2023-05-23T20:03:05.319Z"
   },
   {
    "duration": 4,
    "start_time": "2023-05-23T20:04:33.196Z"
   },
   {
    "duration": 146,
    "start_time": "2023-05-23T20:04:33.201Z"
   },
   {
    "duration": 13,
    "start_time": "2023-05-23T20:04:33.348Z"
   },
   {
    "duration": 1987,
    "start_time": "2023-05-23T20:04:33.363Z"
   },
   {
    "duration": 18,
    "start_time": "2023-05-23T20:04:35.353Z"
   },
   {
    "duration": 9,
    "start_time": "2023-05-23T20:04:35.373Z"
   },
   {
    "duration": 43,
    "start_time": "2023-05-23T20:04:35.384Z"
   },
   {
    "duration": 591,
    "start_time": "2023-05-23T20:04:35.429Z"
   },
   {
    "duration": 4,
    "start_time": "2023-05-23T20:04:36.022Z"
   },
   {
    "duration": 1034,
    "start_time": "2023-05-23T20:04:36.028Z"
   },
   {
    "duration": 999,
    "start_time": "2023-05-23T20:04:37.064Z"
   },
   {
    "duration": 1007,
    "start_time": "2023-05-23T20:04:38.065Z"
   },
   {
    "duration": 990,
    "start_time": "2023-05-23T20:04:39.076Z"
   },
   {
    "duration": 6,
    "start_time": "2023-05-23T20:04:40.068Z"
   },
   {
    "duration": 79,
    "start_time": "2023-05-23T20:04:40.076Z"
   },
   {
    "duration": 155,
    "start_time": "2023-05-23T20:04:40.157Z"
   },
   {
    "duration": 8,
    "start_time": "2023-05-23T20:04:40.314Z"
   },
   {
    "duration": 208,
    "start_time": "2023-05-23T20:04:40.324Z"
   },
   {
    "duration": 31,
    "start_time": "2023-05-23T20:04:40.534Z"
   },
   {
    "duration": 5,
    "start_time": "2023-05-23T20:04:40.567Z"
   },
   {
    "duration": 21,
    "start_time": "2023-05-23T20:04:40.574Z"
   },
   {
    "duration": 43,
    "start_time": "2023-05-23T20:04:40.597Z"
   },
   {
    "duration": 10,
    "start_time": "2023-05-23T20:04:40.641Z"
   },
   {
    "duration": 23,
    "start_time": "2023-05-23T20:04:40.652Z"
   },
   {
    "duration": 9,
    "start_time": "2023-05-23T20:04:40.677Z"
   },
   {
    "duration": 14,
    "start_time": "2023-05-23T20:04:40.687Z"
   },
   {
    "duration": 13,
    "start_time": "2023-05-23T20:04:40.703Z"
   },
   {
    "duration": 275,
    "start_time": "2023-05-23T20:04:40.718Z"
   },
   {
    "duration": 317,
    "start_time": "2023-05-23T20:04:40.995Z"
   },
   {
    "duration": 142,
    "start_time": "2023-05-23T20:04:41.313Z"
   },
   {
    "duration": 159,
    "start_time": "2023-05-23T20:04:41.458Z"
   },
   {
    "duration": 161,
    "start_time": "2023-05-23T20:04:41.619Z"
   },
   {
    "duration": 170,
    "start_time": "2023-05-23T20:04:41.781Z"
   },
   {
    "duration": 281,
    "start_time": "2023-05-23T20:04:41.953Z"
   },
   {
    "duration": 246,
    "start_time": "2023-05-23T20:04:42.236Z"
   },
   {
    "duration": 247,
    "start_time": "2023-05-23T20:04:42.484Z"
   },
   {
    "duration": 195,
    "start_time": "2023-05-23T20:04:42.735Z"
   },
   {
    "duration": 225,
    "start_time": "2023-05-23T20:04:42.932Z"
   },
   {
    "duration": 207,
    "start_time": "2023-05-23T20:04:43.159Z"
   },
   {
    "duration": 172,
    "start_time": "2023-05-23T20:04:43.368Z"
   },
   {
    "duration": 20,
    "start_time": "2023-05-23T20:04:43.542Z"
   },
   {
    "duration": 28,
    "start_time": "2023-05-23T20:04:43.565Z"
   },
   {
    "duration": 5,
    "start_time": "2023-05-23T20:04:43.595Z"
   },
   {
    "duration": 1179,
    "start_time": "2023-05-23T20:04:43.602Z"
   },
   {
    "duration": 156,
    "start_time": "2023-05-23T20:04:44.783Z"
   },
   {
    "duration": 171,
    "start_time": "2023-05-23T20:08:09.121Z"
   },
   {
    "duration": 181,
    "start_time": "2023-05-23T20:08:38.719Z"
   },
   {
    "duration": 452,
    "start_time": "2023-05-23T20:09:41.019Z"
   },
   {
    "duration": 3,
    "start_time": "2023-05-23T20:09:46.065Z"
   },
   {
    "duration": 147,
    "start_time": "2023-05-23T20:09:46.071Z"
   },
   {
    "duration": 15,
    "start_time": "2023-05-23T20:09:46.220Z"
   },
   {
    "duration": 1952,
    "start_time": "2023-05-23T20:09:46.247Z"
   },
   {
    "duration": 17,
    "start_time": "2023-05-23T20:09:48.201Z"
   },
   {
    "duration": 6,
    "start_time": "2023-05-23T20:09:48.220Z"
   },
   {
    "duration": 215,
    "start_time": "2023-05-23T20:09:48.247Z"
   },
   {
    "duration": 605,
    "start_time": "2023-05-23T20:09:48.464Z"
   },
   {
    "duration": 3,
    "start_time": "2023-05-23T20:09:49.071Z"
   },
   {
    "duration": 1025,
    "start_time": "2023-05-23T20:09:49.077Z"
   },
   {
    "duration": 1054,
    "start_time": "2023-05-23T20:09:50.104Z"
   },
   {
    "duration": 1022,
    "start_time": "2023-05-23T20:09:51.160Z"
   },
   {
    "duration": 1096,
    "start_time": "2023-05-23T20:09:52.184Z"
   },
   {
    "duration": 5,
    "start_time": "2023-05-23T20:09:53.282Z"
   },
   {
    "duration": 77,
    "start_time": "2023-05-23T20:09:53.289Z"
   },
   {
    "duration": 167,
    "start_time": "2023-05-23T20:09:53.368Z"
   },
   {
    "duration": 13,
    "start_time": "2023-05-23T20:09:53.537Z"
   },
   {
    "duration": 193,
    "start_time": "2023-05-23T20:09:53.551Z"
   },
   {
    "duration": 24,
    "start_time": "2023-05-23T20:09:53.746Z"
   },
   {
    "duration": 6,
    "start_time": "2023-05-23T20:09:53.772Z"
   },
   {
    "duration": 17,
    "start_time": "2023-05-23T20:09:53.780Z"
   },
   {
    "duration": 15,
    "start_time": "2023-05-23T20:09:53.799Z"
   },
   {
    "duration": 6,
    "start_time": "2023-05-23T20:09:53.816Z"
   },
   {
    "duration": 40,
    "start_time": "2023-05-23T20:09:53.824Z"
   },
   {
    "duration": 9,
    "start_time": "2023-05-23T20:09:53.866Z"
   },
   {
    "duration": 53,
    "start_time": "2023-05-23T20:09:53.876Z"
   },
   {
    "duration": 15,
    "start_time": "2023-05-23T20:09:53.931Z"
   },
   {
    "duration": 276,
    "start_time": "2023-05-23T20:09:53.949Z"
   },
   {
    "duration": 327,
    "start_time": "2023-05-23T20:09:54.227Z"
   },
   {
    "duration": 153,
    "start_time": "2023-05-23T20:09:54.555Z"
   },
   {
    "duration": 144,
    "start_time": "2023-05-23T20:09:54.709Z"
   },
   {
    "duration": 168,
    "start_time": "2023-05-23T20:09:54.855Z"
   },
   {
    "duration": 163,
    "start_time": "2023-05-23T20:09:55.025Z"
   },
   {
    "duration": 291,
    "start_time": "2023-05-23T20:09:55.190Z"
   },
   {
    "duration": 244,
    "start_time": "2023-05-23T20:09:55.484Z"
   },
   {
    "duration": 193,
    "start_time": "2023-05-23T20:09:55.730Z"
   },
   {
    "duration": 187,
    "start_time": "2023-05-23T20:09:55.925Z"
   },
   {
    "duration": 191,
    "start_time": "2023-05-23T20:09:56.114Z"
   },
   {
    "duration": 194,
    "start_time": "2023-05-23T20:09:56.307Z"
   },
   {
    "duration": 179,
    "start_time": "2023-05-23T20:09:56.503Z"
   },
   {
    "duration": 20,
    "start_time": "2023-05-23T20:09:56.684Z"
   },
   {
    "duration": 43,
    "start_time": "2023-05-23T20:09:56.705Z"
   },
   {
    "duration": 5,
    "start_time": "2023-05-23T20:09:56.749Z"
   },
   {
    "duration": 1172,
    "start_time": "2023-05-23T20:09:56.755Z"
   },
   {
    "duration": 161,
    "start_time": "2023-05-23T20:09:57.929Z"
   },
   {
    "duration": 307,
    "start_time": "2023-05-23T20:10:17.376Z"
   },
   {
    "duration": 100,
    "start_time": "2023-05-23T20:11:39.623Z"
   },
   {
    "duration": 92,
    "start_time": "2023-05-23T20:16:35.657Z"
   },
   {
    "duration": 103,
    "start_time": "2023-05-23T20:17:15.874Z"
   },
   {
    "duration": 295,
    "start_time": "2023-05-23T20:17:35.321Z"
   },
   {
    "duration": 407,
    "start_time": "2023-05-23T20:18:20.119Z"
   },
   {
    "duration": 126,
    "start_time": "2023-05-23T20:18:41.539Z"
   },
   {
    "duration": 95,
    "start_time": "2023-05-23T20:19:03.240Z"
   },
   {
    "duration": 96,
    "start_time": "2023-05-23T20:19:15.039Z"
   },
   {
    "duration": 96,
    "start_time": "2023-05-23T20:19:57.788Z"
   },
   {
    "duration": 14,
    "start_time": "2023-05-23T20:20:48.329Z"
   },
   {
    "duration": 1314,
    "start_time": "2023-05-23T20:21:20.798Z"
   },
   {
    "duration": 1301,
    "start_time": "2023-05-23T20:21:24.540Z"
   },
   {
    "duration": 197,
    "start_time": "2023-05-23T20:21:32.005Z"
   },
   {
    "duration": 102,
    "start_time": "2023-05-23T20:21:39.879Z"
   },
   {
    "duration": 136,
    "start_time": "2023-05-23T20:22:36.267Z"
   },
   {
    "duration": 3,
    "start_time": "2023-05-23T20:23:04.141Z"
   },
   {
    "duration": 124,
    "start_time": "2023-05-23T20:23:04.146Z"
   },
   {
    "duration": 15,
    "start_time": "2023-05-23T20:23:04.272Z"
   },
   {
    "duration": 2036,
    "start_time": "2023-05-23T20:23:04.289Z"
   },
   {
    "duration": 30,
    "start_time": "2023-05-23T20:23:06.328Z"
   },
   {
    "duration": 7,
    "start_time": "2023-05-23T20:23:06.359Z"
   },
   {
    "duration": 209,
    "start_time": "2023-05-23T20:23:06.367Z"
   },
   {
    "duration": 349,
    "start_time": "2023-05-23T20:23:06.578Z"
   },
   {
    "duration": 3,
    "start_time": "2023-05-23T20:23:06.930Z"
   },
   {
    "duration": 996,
    "start_time": "2023-05-23T20:23:06.935Z"
   },
   {
    "duration": 992,
    "start_time": "2023-05-23T20:23:07.933Z"
   },
   {
    "duration": 948,
    "start_time": "2023-05-23T20:23:08.927Z"
   },
   {
    "duration": 983,
    "start_time": "2023-05-23T20:23:09.877Z"
   },
   {
    "duration": 6,
    "start_time": "2023-05-23T20:23:10.862Z"
   },
   {
    "duration": 83,
    "start_time": "2023-05-23T20:23:10.869Z"
   },
   {
    "duration": 112,
    "start_time": "2023-05-23T20:23:10.954Z"
   },
   {
    "duration": 6,
    "start_time": "2023-05-23T20:23:11.068Z"
   },
   {
    "duration": 180,
    "start_time": "2023-05-23T20:23:11.075Z"
   },
   {
    "duration": 23,
    "start_time": "2023-05-23T20:23:11.256Z"
   },
   {
    "duration": 5,
    "start_time": "2023-05-23T20:23:11.280Z"
   },
   {
    "duration": 9,
    "start_time": "2023-05-23T20:23:11.287Z"
   },
   {
    "duration": 8,
    "start_time": "2023-05-23T20:23:11.298Z"
   },
   {
    "duration": 9,
    "start_time": "2023-05-23T20:23:11.307Z"
   },
   {
    "duration": 41,
    "start_time": "2023-05-23T20:23:11.319Z"
   },
   {
    "duration": 8,
    "start_time": "2023-05-23T20:23:11.361Z"
   },
   {
    "duration": 14,
    "start_time": "2023-05-23T20:23:11.371Z"
   },
   {
    "duration": 21,
    "start_time": "2023-05-23T20:23:11.386Z"
   },
   {
    "duration": 272,
    "start_time": "2023-05-23T20:23:11.409Z"
   },
   {
    "duration": 318,
    "start_time": "2023-05-23T20:23:11.682Z"
   },
   {
    "duration": 147,
    "start_time": "2023-05-23T20:23:12.002Z"
   },
   {
    "duration": 148,
    "start_time": "2023-05-23T20:23:12.150Z"
   },
   {
    "duration": 199,
    "start_time": "2023-05-23T20:23:12.300Z"
   },
   {
    "duration": 202,
    "start_time": "2023-05-23T20:23:12.501Z"
   },
   {
    "duration": 492,
    "start_time": "2023-05-23T20:23:12.705Z"
   },
   {
    "duration": 128,
    "start_time": "2023-05-23T20:23:13.199Z"
   },
   {
    "duration": 187,
    "start_time": "2023-05-23T20:23:13.329Z"
   },
   {
    "duration": 187,
    "start_time": "2023-05-23T20:23:13.517Z"
   },
   {
    "duration": 184,
    "start_time": "2023-05-23T20:23:13.706Z"
   },
   {
    "duration": 188,
    "start_time": "2023-05-23T20:23:13.892Z"
   },
   {
    "duration": 174,
    "start_time": "2023-05-23T20:23:14.082Z"
   },
   {
    "duration": 18,
    "start_time": "2023-05-23T20:23:14.257Z"
   },
   {
    "duration": 23,
    "start_time": "2023-05-23T20:23:14.276Z"
   },
   {
    "duration": 4,
    "start_time": "2023-05-23T20:23:14.301Z"
   },
   {
    "duration": 1097,
    "start_time": "2023-05-23T20:23:14.308Z"
   },
   {
    "duration": 146,
    "start_time": "2023-05-23T20:23:15.407Z"
   },
   {
    "duration": 20,
    "start_time": "2023-05-23T20:28:03.185Z"
   },
   {
    "duration": 24,
    "start_time": "2023-05-23T20:29:17.745Z"
   },
   {
    "duration": 16,
    "start_time": "2023-05-23T20:29:25.224Z"
   },
   {
    "duration": 133,
    "start_time": "2023-05-23T20:33:46.029Z"
   },
   {
    "duration": 127,
    "start_time": "2023-05-23T20:34:11.317Z"
   },
   {
    "duration": 3,
    "start_time": "2023-05-23T20:49:13.321Z"
   },
   {
    "duration": 149,
    "start_time": "2023-05-23T20:49:13.326Z"
   },
   {
    "duration": 17,
    "start_time": "2023-05-23T20:49:13.477Z"
   },
   {
    "duration": 2130,
    "start_time": "2023-05-23T20:49:13.496Z"
   },
   {
    "duration": 29,
    "start_time": "2023-05-23T20:49:15.629Z"
   },
   {
    "duration": 8,
    "start_time": "2023-05-23T20:49:15.660Z"
   },
   {
    "duration": 212,
    "start_time": "2023-05-23T20:49:15.670Z"
   },
   {
    "duration": 338,
    "start_time": "2023-05-23T20:49:15.884Z"
   },
   {
    "duration": 4,
    "start_time": "2023-05-23T20:49:16.225Z"
   },
   {
    "duration": 1125,
    "start_time": "2023-05-23T20:49:16.230Z"
   },
   {
    "duration": 1043,
    "start_time": "2023-05-23T20:49:17.357Z"
   },
   {
    "duration": 1052,
    "start_time": "2023-05-23T20:49:18.402Z"
   },
   {
    "duration": 1019,
    "start_time": "2023-05-23T20:49:19.457Z"
   },
   {
    "duration": 7,
    "start_time": "2023-05-23T20:49:20.478Z"
   },
   {
    "duration": 85,
    "start_time": "2023-05-23T20:49:20.487Z"
   },
   {
    "duration": 174,
    "start_time": "2023-05-23T20:49:20.574Z"
   },
   {
    "duration": 8,
    "start_time": "2023-05-23T20:49:20.749Z"
   },
   {
    "duration": 199,
    "start_time": "2023-05-23T20:49:20.759Z"
   },
   {
    "duration": 27,
    "start_time": "2023-05-23T20:49:20.959Z"
   },
   {
    "duration": 14,
    "start_time": "2023-05-23T20:49:20.988Z"
   },
   {
    "duration": 14,
    "start_time": "2023-05-23T20:49:21.004Z"
   },
   {
    "duration": 20,
    "start_time": "2023-05-23T20:49:21.020Z"
   },
   {
    "duration": 4,
    "start_time": "2023-05-23T20:49:21.046Z"
   },
   {
    "duration": 32,
    "start_time": "2023-05-23T20:49:21.052Z"
   },
   {
    "duration": 16,
    "start_time": "2023-05-23T20:49:21.085Z"
   },
   {
    "duration": 18,
    "start_time": "2023-05-23T20:49:21.103Z"
   },
   {
    "duration": 30,
    "start_time": "2023-05-23T20:49:21.123Z"
   },
   {
    "duration": 288,
    "start_time": "2023-05-23T20:49:21.155Z"
   },
   {
    "duration": 334,
    "start_time": "2023-05-23T20:49:21.444Z"
   },
   {
    "duration": 161,
    "start_time": "2023-05-23T20:49:21.780Z"
   },
   {
    "duration": 155,
    "start_time": "2023-05-23T20:49:21.943Z"
   },
   {
    "duration": 173,
    "start_time": "2023-05-23T20:49:22.100Z"
   },
   {
    "duration": 198,
    "start_time": "2023-05-23T20:49:22.275Z"
   },
   {
    "duration": 571,
    "start_time": "2023-05-23T20:49:22.475Z"
   },
   {
    "duration": 140,
    "start_time": "2023-05-23T20:49:23.048Z"
   },
   {
    "duration": 190,
    "start_time": "2023-05-23T20:49:23.190Z"
   },
   {
    "duration": 194,
    "start_time": "2023-05-23T20:49:23.384Z"
   },
   {
    "duration": 190,
    "start_time": "2023-05-23T20:49:23.580Z"
   },
   {
    "duration": 196,
    "start_time": "2023-05-23T20:49:23.772Z"
   },
   {
    "duration": 178,
    "start_time": "2023-05-23T20:49:23.970Z"
   },
   {
    "duration": 150,
    "start_time": "2023-05-23T20:49:24.150Z"
   },
   {
    "duration": 3,
    "start_time": "2023-05-23T20:49:24.302Z"
   },
   {
    "duration": 40,
    "start_time": "2023-05-23T20:49:24.307Z"
   },
   {
    "duration": 4,
    "start_time": "2023-05-23T20:49:24.349Z"
   },
   {
    "duration": 1149,
    "start_time": "2023-05-23T20:49:24.355Z"
   },
   {
    "duration": 182,
    "start_time": "2023-05-23T20:49:25.506Z"
   },
   {
    "duration": 24,
    "start_time": "2023-05-23T20:50:30.635Z"
   },
   {
    "duration": 1344,
    "start_time": "2023-05-23T20:51:08.038Z"
   },
   {
    "duration": 33,
    "start_time": "2023-05-23T20:51:19.841Z"
   },
   {
    "duration": 1166,
    "start_time": "2023-05-23T20:51:20.654Z"
   },
   {
    "duration": 3,
    "start_time": "2023-05-23T20:51:35.198Z"
   },
   {
    "duration": 156,
    "start_time": "2023-05-23T20:51:35.204Z"
   },
   {
    "duration": 15,
    "start_time": "2023-05-23T20:51:35.363Z"
   },
   {
    "duration": 2271,
    "start_time": "2023-05-23T20:51:35.380Z"
   },
   {
    "duration": 17,
    "start_time": "2023-05-23T20:51:37.653Z"
   },
   {
    "duration": 13,
    "start_time": "2023-05-23T20:51:37.672Z"
   },
   {
    "duration": 225,
    "start_time": "2023-05-23T20:51:37.687Z"
   },
   {
    "duration": 332,
    "start_time": "2023-05-23T20:51:37.914Z"
   },
   {
    "duration": 4,
    "start_time": "2023-05-23T20:51:38.248Z"
   },
   {
    "duration": 1020,
    "start_time": "2023-05-23T20:51:38.253Z"
   },
   {
    "duration": 995,
    "start_time": "2023-05-23T20:51:39.275Z"
   },
   {
    "duration": 1042,
    "start_time": "2023-05-23T20:51:40.272Z"
   },
   {
    "duration": 1001,
    "start_time": "2023-05-23T20:51:41.316Z"
   },
   {
    "duration": 5,
    "start_time": "2023-05-23T20:51:42.319Z"
   },
   {
    "duration": 75,
    "start_time": "2023-05-23T20:51:42.326Z"
   },
   {
    "duration": 163,
    "start_time": "2023-05-23T20:51:42.403Z"
   },
   {
    "duration": 9,
    "start_time": "2023-05-23T20:51:42.568Z"
   },
   {
    "duration": 240,
    "start_time": "2023-05-23T20:51:42.579Z"
   },
   {
    "duration": 34,
    "start_time": "2023-05-23T20:51:42.821Z"
   },
   {
    "duration": 6,
    "start_time": "2023-05-23T20:51:42.856Z"
   },
   {
    "duration": 14,
    "start_time": "2023-05-23T20:51:42.864Z"
   },
   {
    "duration": 14,
    "start_time": "2023-05-23T20:51:42.879Z"
   },
   {
    "duration": 7,
    "start_time": "2023-05-23T20:51:42.894Z"
   },
   {
    "duration": 27,
    "start_time": "2023-05-23T20:51:42.903Z"
   },
   {
    "duration": 28,
    "start_time": "2023-05-23T20:51:42.931Z"
   },
   {
    "duration": 18,
    "start_time": "2023-05-23T20:51:42.961Z"
   },
   {
    "duration": 16,
    "start_time": "2023-05-23T20:51:42.980Z"
   },
   {
    "duration": 318,
    "start_time": "2023-05-23T20:51:42.999Z"
   },
   {
    "duration": 322,
    "start_time": "2023-05-23T20:51:43.320Z"
   },
   {
    "duration": 152,
    "start_time": "2023-05-23T20:51:43.646Z"
   },
   {
    "duration": 155,
    "start_time": "2023-05-23T20:51:43.801Z"
   },
   {
    "duration": 171,
    "start_time": "2023-05-23T20:51:43.959Z"
   },
   {
    "duration": 182,
    "start_time": "2023-05-23T20:51:44.133Z"
   },
   {
    "duration": 292,
    "start_time": "2023-05-23T20:51:44.316Z"
   },
   {
    "duration": 131,
    "start_time": "2023-05-23T20:51:44.609Z"
   },
   {
    "duration": 192,
    "start_time": "2023-05-23T20:51:44.746Z"
   },
   {
    "duration": 189,
    "start_time": "2023-05-23T20:51:44.940Z"
   },
   {
    "duration": 218,
    "start_time": "2023-05-23T20:51:45.130Z"
   },
   {
    "duration": 195,
    "start_time": "2023-05-23T20:51:45.350Z"
   },
   {
    "duration": 171,
    "start_time": "2023-05-23T20:51:45.547Z"
   },
   {
    "duration": 139,
    "start_time": "2023-05-23T20:51:45.720Z"
   },
   {
    "duration": 2,
    "start_time": "2023-05-23T20:51:45.861Z"
   },
   {
    "duration": 28,
    "start_time": "2023-05-23T20:51:45.865Z"
   },
   {
    "duration": 1115,
    "start_time": "2023-05-23T20:51:45.895Z"
   },
   {
    "duration": 0,
    "start_time": "2023-05-23T20:51:47.011Z"
   },
   {
    "duration": 0,
    "start_time": "2023-05-23T20:51:47.013Z"
   },
   {
    "duration": 4,
    "start_time": "2023-05-23T20:52:39.155Z"
   },
   {
    "duration": 4,
    "start_time": "2023-05-23T20:53:44.390Z"
   },
   {
    "duration": 1460,
    "start_time": "2023-05-23T20:59:39.809Z"
   },
   {
    "duration": 1092,
    "start_time": "2023-05-23T21:00:50.035Z"
   },
   {
    "duration": 624,
    "start_time": "2023-05-23T21:01:21.908Z"
   },
   {
    "duration": 4,
    "start_time": "2023-05-23T21:01:44.307Z"
   },
   {
    "duration": 139,
    "start_time": "2023-05-23T21:01:44.313Z"
   },
   {
    "duration": 14,
    "start_time": "2023-05-23T21:01:44.454Z"
   },
   {
    "duration": 1828,
    "start_time": "2023-05-23T21:01:44.470Z"
   },
   {
    "duration": 18,
    "start_time": "2023-05-23T21:01:46.300Z"
   },
   {
    "duration": 25,
    "start_time": "2023-05-23T21:01:46.321Z"
   },
   {
    "duration": 200,
    "start_time": "2023-05-23T21:01:46.348Z"
   },
   {
    "duration": 324,
    "start_time": "2023-05-23T21:01:46.550Z"
   },
   {
    "duration": 4,
    "start_time": "2023-05-23T21:01:46.875Z"
   },
   {
    "duration": 1012,
    "start_time": "2023-05-23T21:01:46.880Z"
   },
   {
    "duration": 1013,
    "start_time": "2023-05-23T21:01:47.894Z"
   },
   {
    "duration": 1011,
    "start_time": "2023-05-23T21:01:48.908Z"
   },
   {
    "duration": 1025,
    "start_time": "2023-05-23T21:01:49.921Z"
   },
   {
    "duration": 5,
    "start_time": "2023-05-23T21:01:50.949Z"
   },
   {
    "duration": 80,
    "start_time": "2023-05-23T21:01:50.956Z"
   },
   {
    "duration": 120,
    "start_time": "2023-05-23T21:01:51.045Z"
   },
   {
    "duration": 6,
    "start_time": "2023-05-23T21:01:51.167Z"
   },
   {
    "duration": 203,
    "start_time": "2023-05-23T21:01:51.175Z"
   },
   {
    "duration": 27,
    "start_time": "2023-05-23T21:01:51.379Z"
   },
   {
    "duration": 20,
    "start_time": "2023-05-23T21:01:51.408Z"
   },
   {
    "duration": 22,
    "start_time": "2023-05-23T21:01:51.429Z"
   },
   {
    "duration": 11,
    "start_time": "2023-05-23T21:01:51.452Z"
   },
   {
    "duration": 7,
    "start_time": "2023-05-23T21:01:51.465Z"
   },
   {
    "duration": 32,
    "start_time": "2023-05-23T21:01:51.473Z"
   },
   {
    "duration": 16,
    "start_time": "2023-05-23T21:01:51.507Z"
   },
   {
    "duration": 30,
    "start_time": "2023-05-23T21:01:51.525Z"
   },
   {
    "duration": 15,
    "start_time": "2023-05-23T21:01:51.557Z"
   },
   {
    "duration": 583,
    "start_time": "2023-05-23T21:01:51.573Z"
   },
   {
    "duration": 344,
    "start_time": "2023-05-23T21:01:52.157Z"
   },
   {
    "duration": 170,
    "start_time": "2023-05-23T21:01:52.504Z"
   },
   {
    "duration": 150,
    "start_time": "2023-05-23T21:01:52.675Z"
   },
   {
    "duration": 182,
    "start_time": "2023-05-23T21:01:52.827Z"
   },
   {
    "duration": 189,
    "start_time": "2023-05-23T21:01:53.010Z"
   },
   {
    "duration": 289,
    "start_time": "2023-05-23T21:01:53.201Z"
   },
   {
    "duration": 121,
    "start_time": "2023-05-23T21:01:53.492Z"
   },
   {
    "duration": 189,
    "start_time": "2023-05-23T21:01:53.615Z"
   },
   {
    "duration": 202,
    "start_time": "2023-05-23T21:01:53.806Z"
   },
   {
    "duration": 190,
    "start_time": "2023-05-23T21:01:54.010Z"
   },
   {
    "duration": 199,
    "start_time": "2023-05-23T21:01:54.201Z"
   },
   {
    "duration": 170,
    "start_time": "2023-05-23T21:01:54.402Z"
   },
   {
    "duration": 136,
    "start_time": "2023-05-23T21:01:54.576Z"
   },
   {
    "duration": 2,
    "start_time": "2023-05-23T21:01:54.714Z"
   },
   {
    "duration": 37,
    "start_time": "2023-05-23T21:01:54.718Z"
   },
   {
    "duration": 4,
    "start_time": "2023-05-23T21:01:54.757Z"
   },
   {
    "duration": 606,
    "start_time": "2023-05-23T21:01:54.762Z"
   },
   {
    "duration": 1,
    "start_time": "2023-05-23T21:01:55.369Z"
   },
   {
    "duration": 29,
    "start_time": "2023-05-23T21:03:01.788Z"
   },
   {
    "duration": 170,
    "start_time": "2023-05-23T21:03:17.308Z"
   },
   {
    "duration": 26,
    "start_time": "2023-05-23T21:04:13.779Z"
   },
   {
    "duration": 24,
    "start_time": "2023-05-23T21:04:21.453Z"
   },
   {
    "duration": 23,
    "start_time": "2023-05-23T21:04:25.310Z"
   },
   {
    "duration": 182,
    "start_time": "2023-05-23T21:04:38.538Z"
   },
   {
    "duration": 1087,
    "start_time": "2023-05-23T21:04:48.031Z"
   },
   {
    "duration": 187,
    "start_time": "2023-05-23T21:05:37.022Z"
   },
   {
    "duration": 73,
    "start_time": "2023-05-23T21:06:35.575Z"
   },
   {
    "duration": 1401,
    "start_time": "2023-05-23T21:06:45.377Z"
   },
   {
    "duration": 197,
    "start_time": "2023-05-23T21:06:53.396Z"
   },
   {
    "duration": 1174,
    "start_time": "2023-05-23T21:07:59.188Z"
   },
   {
    "duration": 183,
    "start_time": "2023-05-23T21:08:04.790Z"
   },
   {
    "duration": 21,
    "start_time": "2023-05-23T21:08:57.561Z"
   },
   {
    "duration": 188,
    "start_time": "2023-05-23T21:09:07.629Z"
   },
   {
    "duration": 82,
    "start_time": "2023-05-23T21:10:17.741Z"
   },
   {
    "duration": 173,
    "start_time": "2023-05-23T21:11:35.676Z"
   },
   {
    "duration": 3,
    "start_time": "2023-05-23T21:15:26.862Z"
   },
   {
    "duration": 162,
    "start_time": "2023-05-23T21:15:26.868Z"
   },
   {
    "duration": 22,
    "start_time": "2023-05-23T21:15:27.032Z"
   },
   {
    "duration": 1956,
    "start_time": "2023-05-23T21:15:27.056Z"
   },
   {
    "duration": 16,
    "start_time": "2023-05-23T21:15:29.015Z"
   },
   {
    "duration": 17,
    "start_time": "2023-05-23T21:15:29.033Z"
   },
   {
    "duration": 189,
    "start_time": "2023-05-23T21:15:29.052Z"
   },
   {
    "duration": 336,
    "start_time": "2023-05-23T21:15:29.243Z"
   },
   {
    "duration": 4,
    "start_time": "2023-05-23T21:15:29.581Z"
   },
   {
    "duration": 1003,
    "start_time": "2023-05-23T21:15:29.586Z"
   },
   {
    "duration": 1003,
    "start_time": "2023-05-23T21:15:30.592Z"
   },
   {
    "duration": 1113,
    "start_time": "2023-05-23T21:15:31.597Z"
   },
   {
    "duration": 1001,
    "start_time": "2023-05-23T21:15:32.711Z"
   },
   {
    "duration": 5,
    "start_time": "2023-05-23T21:15:33.714Z"
   },
   {
    "duration": 111,
    "start_time": "2023-05-23T21:15:33.720Z"
   },
   {
    "duration": 103,
    "start_time": "2023-05-23T21:15:33.833Z"
   },
   {
    "duration": 12,
    "start_time": "2023-05-23T21:15:33.937Z"
   },
   {
    "duration": 174,
    "start_time": "2023-05-23T21:15:33.951Z"
   },
   {
    "duration": 37,
    "start_time": "2023-05-23T21:15:34.127Z"
   },
   {
    "duration": 6,
    "start_time": "2023-05-23T21:15:34.165Z"
   },
   {
    "duration": 10,
    "start_time": "2023-05-23T21:15:34.172Z"
   },
   {
    "duration": 19,
    "start_time": "2023-05-23T21:15:34.183Z"
   },
   {
    "duration": 5,
    "start_time": "2023-05-23T21:15:34.204Z"
   },
   {
    "duration": 42,
    "start_time": "2023-05-23T21:15:34.211Z"
   },
   {
    "duration": 16,
    "start_time": "2023-05-23T21:15:34.255Z"
   },
   {
    "duration": 13,
    "start_time": "2023-05-23T21:15:34.273Z"
   },
   {
    "duration": 15,
    "start_time": "2023-05-23T21:15:34.288Z"
   },
   {
    "duration": 289,
    "start_time": "2023-05-23T21:15:34.304Z"
   },
   {
    "duration": 314,
    "start_time": "2023-05-23T21:15:34.597Z"
   },
   {
    "duration": 510,
    "start_time": "2023-05-23T21:15:34.913Z"
   },
   {
    "duration": 142,
    "start_time": "2023-05-23T21:15:35.424Z"
   },
   {
    "duration": 163,
    "start_time": "2023-05-23T21:15:35.568Z"
   },
   {
    "duration": 173,
    "start_time": "2023-05-23T21:15:35.733Z"
   },
   {
    "duration": 275,
    "start_time": "2023-05-23T21:15:35.908Z"
   },
   {
    "duration": 123,
    "start_time": "2023-05-23T21:15:36.185Z"
   },
   {
    "duration": 193,
    "start_time": "2023-05-23T21:15:36.310Z"
   },
   {
    "duration": 206,
    "start_time": "2023-05-23T21:15:36.505Z"
   },
   {
    "duration": 183,
    "start_time": "2023-05-23T21:15:36.713Z"
   },
   {
    "duration": 185,
    "start_time": "2023-05-23T21:15:36.897Z"
   },
   {
    "duration": 201,
    "start_time": "2023-05-23T21:15:37.084Z"
   },
   {
    "duration": 161,
    "start_time": "2023-05-23T21:15:37.288Z"
   },
   {
    "duration": 4,
    "start_time": "2023-05-23T21:15:37.451Z"
   },
   {
    "duration": 48,
    "start_time": "2023-05-23T21:15:37.460Z"
   },
   {
    "duration": 5,
    "start_time": "2023-05-23T21:15:37.510Z"
   },
   {
    "duration": 1228,
    "start_time": "2023-05-23T21:15:37.517Z"
   },
   {
    "duration": 192,
    "start_time": "2023-05-23T21:15:38.747Z"
   },
   {
    "duration": 172,
    "start_time": "2023-05-23T21:15:38.941Z"
   },
   {
    "duration": 145,
    "start_time": "2023-05-23T21:16:57.958Z"
   },
   {
    "duration": 138,
    "start_time": "2023-05-23T21:18:26.991Z"
   },
   {
    "duration": 1040,
    "start_time": "2023-05-24T07:16:55.497Z"
   },
   {
    "duration": 568,
    "start_time": "2023-05-24T07:16:56.540Z"
   },
   {
    "duration": 17,
    "start_time": "2023-05-24T07:16:57.110Z"
   },
   {
    "duration": 2393,
    "start_time": "2023-05-24T07:16:57.128Z"
   },
   {
    "duration": 69,
    "start_time": "2023-05-24T07:16:59.524Z"
   },
   {
    "duration": 8,
    "start_time": "2023-05-24T07:16:59.598Z"
   },
   {
    "duration": 240,
    "start_time": "2023-05-24T07:16:59.607Z"
   },
   {
    "duration": 473,
    "start_time": "2023-05-24T07:16:59.849Z"
   },
   {
    "duration": 4,
    "start_time": "2023-05-24T07:17:00.324Z"
   },
   {
    "duration": 1305,
    "start_time": "2023-05-24T07:17:00.329Z"
   },
   {
    "duration": 1194,
    "start_time": "2023-05-24T07:17:01.637Z"
   },
   {
    "duration": 1131,
    "start_time": "2023-05-24T07:17:02.833Z"
   },
   {
    "duration": 1131,
    "start_time": "2023-05-24T07:17:03.966Z"
   },
   {
    "duration": 7,
    "start_time": "2023-05-24T07:17:05.105Z"
   },
   {
    "duration": 213,
    "start_time": "2023-05-24T07:17:05.114Z"
   },
   {
    "duration": 138,
    "start_time": "2023-05-24T07:17:05.328Z"
   },
   {
    "duration": 34,
    "start_time": "2023-05-24T07:17:05.468Z"
   },
   {
    "duration": 363,
    "start_time": "2023-05-24T07:17:05.504Z"
   },
   {
    "duration": 34,
    "start_time": "2023-05-24T07:17:05.883Z"
   },
   {
    "duration": 100,
    "start_time": "2023-05-24T07:17:05.919Z"
   },
   {
    "duration": 106,
    "start_time": "2023-05-24T07:17:06.021Z"
   },
   {
    "duration": 187,
    "start_time": "2023-05-24T07:17:06.130Z"
   },
   {
    "duration": 25,
    "start_time": "2023-05-24T07:17:06.319Z"
   },
   {
    "duration": 87,
    "start_time": "2023-05-24T07:17:06.346Z"
   },
   {
    "duration": 18,
    "start_time": "2023-05-24T07:17:06.435Z"
   },
   {
    "duration": 57,
    "start_time": "2023-05-24T07:17:06.455Z"
   },
   {
    "duration": 15,
    "start_time": "2023-05-24T07:17:06.514Z"
   },
   {
    "duration": 492,
    "start_time": "2023-05-24T07:17:06.531Z"
   },
   {
    "duration": 388,
    "start_time": "2023-05-24T07:17:07.025Z"
   },
   {
    "duration": 182,
    "start_time": "2023-05-24T07:17:07.416Z"
   },
   {
    "duration": 171,
    "start_time": "2023-05-24T07:17:07.602Z"
   },
   {
    "duration": 217,
    "start_time": "2023-05-24T07:17:07.777Z"
   },
   {
    "duration": 202,
    "start_time": "2023-05-24T07:17:07.996Z"
   },
   {
    "duration": 356,
    "start_time": "2023-05-24T07:17:08.202Z"
   },
   {
    "duration": 178,
    "start_time": "2023-05-24T07:17:08.560Z"
   },
   {
    "duration": 213,
    "start_time": "2023-05-24T07:17:08.740Z"
   },
   {
    "duration": 337,
    "start_time": "2023-05-24T07:17:08.955Z"
   },
   {
    "duration": 219,
    "start_time": "2023-05-24T07:17:09.294Z"
   },
   {
    "duration": 216,
    "start_time": "2023-05-24T07:17:09.514Z"
   },
   {
    "duration": 225,
    "start_time": "2023-05-24T07:17:09.732Z"
   },
   {
    "duration": 179,
    "start_time": "2023-05-24T07:17:09.964Z"
   },
   {
    "duration": 3,
    "start_time": "2023-05-24T07:17:10.145Z"
   },
   {
    "duration": 50,
    "start_time": "2023-05-24T07:17:10.150Z"
   },
   {
    "duration": 108,
    "start_time": "2023-05-24T07:17:10.202Z"
   },
   {
    "duration": 1491,
    "start_time": "2023-05-24T07:17:10.312Z"
   },
   {
    "duration": 213,
    "start_time": "2023-05-24T07:17:11.805Z"
   },
   {
    "duration": 189,
    "start_time": "2023-05-24T07:17:12.020Z"
   },
   {
    "duration": 334,
    "start_time": "2023-05-24T07:17:12.211Z"
   },
   {
    "duration": 8,
    "start_time": "2023-05-24T07:28:00.867Z"
   },
   {
    "duration": 268,
    "start_time": "2023-05-24T07:28:00.878Z"
   },
   {
    "duration": 17,
    "start_time": "2023-05-24T07:28:01.148Z"
   },
   {
    "duration": 2472,
    "start_time": "2023-05-24T07:28:01.175Z"
   },
   {
    "duration": 44,
    "start_time": "2023-05-24T07:28:03.650Z"
   },
   {
    "duration": 14,
    "start_time": "2023-05-24T07:28:03.696Z"
   },
   {
    "duration": 280,
    "start_time": "2023-05-24T07:28:03.712Z"
   },
   {
    "duration": 503,
    "start_time": "2023-05-24T07:28:04.004Z"
   },
   {
    "duration": 5,
    "start_time": "2023-05-24T07:28:04.509Z"
   },
   {
    "duration": 1107,
    "start_time": "2023-05-24T07:28:04.517Z"
   },
   {
    "duration": 1221,
    "start_time": "2023-05-24T07:28:05.627Z"
   },
   {
    "duration": 1245,
    "start_time": "2023-05-24T07:28:06.850Z"
   },
   {
    "duration": 1163,
    "start_time": "2023-05-24T07:28:08.097Z"
   },
   {
    "duration": 14,
    "start_time": "2023-05-24T07:28:09.264Z"
   },
   {
    "duration": 137,
    "start_time": "2023-05-24T07:28:09.280Z"
   },
   {
    "duration": 139,
    "start_time": "2023-05-24T07:28:09.419Z"
   },
   {
    "duration": 21,
    "start_time": "2023-05-24T07:28:09.562Z"
   },
   {
    "duration": 256,
    "start_time": "2023-05-24T07:28:09.587Z"
   },
   {
    "duration": 42,
    "start_time": "2023-05-24T07:28:09.845Z"
   },
   {
    "duration": 27,
    "start_time": "2023-05-24T07:28:09.889Z"
   },
   {
    "duration": 12,
    "start_time": "2023-05-24T07:28:09.918Z"
   },
   {
    "duration": 20,
    "start_time": "2023-05-24T07:28:09.932Z"
   },
   {
    "duration": 28,
    "start_time": "2023-05-24T07:28:09.954Z"
   },
   {
    "duration": 53,
    "start_time": "2023-05-24T07:28:09.988Z"
   },
   {
    "duration": 20,
    "start_time": "2023-05-24T07:28:10.044Z"
   },
   {
    "duration": 29,
    "start_time": "2023-05-24T07:28:10.066Z"
   },
   {
    "duration": 48,
    "start_time": "2023-05-24T07:28:10.097Z"
   },
   {
    "duration": 313,
    "start_time": "2023-05-24T07:28:10.147Z"
   },
   {
    "duration": 390,
    "start_time": "2023-05-24T07:28:10.462Z"
   },
   {
    "duration": 179,
    "start_time": "2023-05-24T07:28:10.854Z"
   },
   {
    "duration": 163,
    "start_time": "2023-05-24T07:28:11.035Z"
   },
   {
    "duration": 176,
    "start_time": "2023-05-24T07:28:11.200Z"
   },
   {
    "duration": 173,
    "start_time": "2023-05-24T07:28:11.384Z"
   },
   {
    "duration": 416,
    "start_time": "2023-05-24T07:28:11.559Z"
   },
   {
    "duration": 137,
    "start_time": "2023-05-24T07:28:11.978Z"
   },
   {
    "duration": 215,
    "start_time": "2023-05-24T07:28:12.116Z"
   },
   {
    "duration": 202,
    "start_time": "2023-05-24T07:28:12.333Z"
   },
   {
    "duration": 201,
    "start_time": "2023-05-24T07:28:12.537Z"
   },
   {
    "duration": 215,
    "start_time": "2023-05-24T07:28:12.740Z"
   },
   {
    "duration": 207,
    "start_time": "2023-05-24T07:28:12.957Z"
   },
   {
    "duration": 164,
    "start_time": "2023-05-24T07:28:13.172Z"
   },
   {
    "duration": 3,
    "start_time": "2023-05-24T07:28:13.338Z"
   },
   {
    "duration": 53,
    "start_time": "2023-05-24T07:28:13.342Z"
   },
   {
    "duration": 7,
    "start_time": "2023-05-24T07:28:13.402Z"
   },
   {
    "duration": 1554,
    "start_time": "2023-05-24T07:28:13.412Z"
   },
   {
    "duration": 223,
    "start_time": "2023-05-24T07:28:14.971Z"
   },
   {
    "duration": 180,
    "start_time": "2023-05-24T07:28:15.195Z"
   },
   {
    "duration": 182,
    "start_time": "2023-05-24T07:28:15.383Z"
   },
   {
    "duration": 114,
    "start_time": "2023-05-24T07:30:01.465Z"
   },
   {
    "duration": 38,
    "start_time": "2023-05-24T07:30:10.259Z"
   },
   {
    "duration": 45,
    "start_time": "2023-05-24T07:31:07.378Z"
   },
   {
    "duration": 26,
    "start_time": "2023-05-24T07:31:39.426Z"
   },
   {
    "duration": 30,
    "start_time": "2023-05-24T07:31:48.911Z"
   },
   {
    "duration": 7,
    "start_time": "2023-05-24T07:32:45.802Z"
   },
   {
    "duration": 330,
    "start_time": "2023-05-24T07:33:03.169Z"
   },
   {
    "duration": 197,
    "start_time": "2023-05-24T07:33:11.657Z"
   },
   {
    "duration": 7,
    "start_time": "2023-05-24T07:33:22.265Z"
   },
   {
    "duration": 8,
    "start_time": "2023-05-24T07:33:46.120Z"
   },
   {
    "duration": 3,
    "start_time": "2023-05-24T07:34:58.412Z"
   },
   {
    "duration": 169,
    "start_time": "2023-05-24T07:34:58.418Z"
   },
   {
    "duration": 28,
    "start_time": "2023-05-24T07:34:58.589Z"
   },
   {
    "duration": 2512,
    "start_time": "2023-05-24T07:34:58.619Z"
   },
   {
    "duration": 18,
    "start_time": "2023-05-24T07:35:01.134Z"
   },
   {
    "duration": 73,
    "start_time": "2023-05-24T07:35:01.153Z"
   },
   {
    "duration": 336,
    "start_time": "2023-05-24T07:35:01.227Z"
   },
   {
    "duration": 409,
    "start_time": "2023-05-24T07:35:01.566Z"
   },
   {
    "duration": 22,
    "start_time": "2023-05-24T07:35:01.982Z"
   },
   {
    "duration": 1125,
    "start_time": "2023-05-24T07:35:02.006Z"
   },
   {
    "duration": 1205,
    "start_time": "2023-05-24T07:35:03.134Z"
   },
   {
    "duration": 1189,
    "start_time": "2023-05-24T07:35:04.341Z"
   },
   {
    "duration": 1406,
    "start_time": "2023-05-24T07:35:05.532Z"
   },
   {
    "duration": 7,
    "start_time": "2023-05-24T07:35:06.941Z"
   },
   {
    "duration": 136,
    "start_time": "2023-05-24T07:35:06.950Z"
   },
   {
    "duration": 184,
    "start_time": "2023-05-24T07:35:07.097Z"
   },
   {
    "duration": 14,
    "start_time": "2023-05-24T07:35:07.283Z"
   },
   {
    "duration": 279,
    "start_time": "2023-05-24T07:35:07.309Z"
   },
   {
    "duration": 32,
    "start_time": "2023-05-24T07:35:07.594Z"
   },
   {
    "duration": 9,
    "start_time": "2023-05-24T07:35:07.629Z"
   },
   {
    "duration": 37,
    "start_time": "2023-05-24T07:35:07.640Z"
   },
   {
    "duration": 20,
    "start_time": "2023-05-24T07:35:07.679Z"
   },
   {
    "duration": 19,
    "start_time": "2023-05-24T07:35:07.701Z"
   },
   {
    "duration": 27,
    "start_time": "2023-05-24T07:35:07.721Z"
   },
   {
    "duration": 17,
    "start_time": "2023-05-24T07:35:07.750Z"
   },
   {
    "duration": 29,
    "start_time": "2023-05-24T07:35:07.784Z"
   },
   {
    "duration": 19,
    "start_time": "2023-05-24T07:35:07.816Z"
   },
   {
    "duration": 360,
    "start_time": "2023-05-24T07:35:07.837Z"
   },
   {
    "duration": 413,
    "start_time": "2023-05-24T07:35:08.202Z"
   },
   {
    "duration": 342,
    "start_time": "2023-05-24T07:35:08.617Z"
   },
   {
    "duration": 190,
    "start_time": "2023-05-24T07:35:08.962Z"
   },
   {
    "duration": 233,
    "start_time": "2023-05-24T07:35:09.154Z"
   },
   {
    "duration": 201,
    "start_time": "2023-05-24T07:35:09.393Z"
   },
   {
    "duration": 324,
    "start_time": "2023-05-24T07:35:09.600Z"
   },
   {
    "duration": 191,
    "start_time": "2023-05-24T07:35:09.926Z"
   },
   {
    "duration": 225,
    "start_time": "2023-05-24T07:35:10.119Z"
   },
   {
    "duration": 247,
    "start_time": "2023-05-24T07:35:10.346Z"
   },
   {
    "duration": 214,
    "start_time": "2023-05-24T07:35:10.596Z"
   },
   {
    "duration": 219,
    "start_time": "2023-05-24T07:35:10.818Z"
   },
   {
    "duration": 346,
    "start_time": "2023-05-24T07:35:11.039Z"
   },
   {
    "duration": 159,
    "start_time": "2023-05-24T07:35:11.387Z"
   },
   {
    "duration": 3,
    "start_time": "2023-05-24T07:35:11.548Z"
   },
   {
    "duration": 52,
    "start_time": "2023-05-24T07:35:11.553Z"
   },
   {
    "duration": 18,
    "start_time": "2023-05-24T07:35:11.607Z"
   },
   {
    "duration": 60,
    "start_time": "2023-05-24T07:35:11.627Z"
   },
   {
    "duration": 1462,
    "start_time": "2023-05-24T07:35:11.689Z"
   },
   {
    "duration": 241,
    "start_time": "2023-05-24T07:35:13.153Z"
   },
   {
    "duration": 181,
    "start_time": "2023-05-24T07:35:13.396Z"
   },
   {
    "duration": 182,
    "start_time": "2023-05-24T07:35:13.583Z"
   },
   {
    "duration": 4,
    "start_time": "2023-05-24T07:45:09.199Z"
   },
   {
    "duration": 169,
    "start_time": "2023-05-24T07:45:09.205Z"
   },
   {
    "duration": 25,
    "start_time": "2023-05-24T07:45:09.376Z"
   },
   {
    "duration": 2523,
    "start_time": "2023-05-24T07:45:09.404Z"
   },
   {
    "duration": 17,
    "start_time": "2023-05-24T07:45:11.930Z"
   },
   {
    "duration": 23,
    "start_time": "2023-05-24T07:45:11.949Z"
   },
   {
    "duration": 271,
    "start_time": "2023-05-24T07:45:11.975Z"
   },
   {
    "duration": 372,
    "start_time": "2023-05-24T07:45:12.248Z"
   },
   {
    "duration": 5,
    "start_time": "2023-05-24T07:45:12.622Z"
   },
   {
    "duration": 1199,
    "start_time": "2023-05-24T07:45:12.629Z"
   },
   {
    "duration": 1193,
    "start_time": "2023-05-24T07:45:13.831Z"
   },
   {
    "duration": 1209,
    "start_time": "2023-05-24T07:45:15.026Z"
   },
   {
    "duration": 1205,
    "start_time": "2023-05-24T07:45:16.237Z"
   },
   {
    "duration": 6,
    "start_time": "2023-05-24T07:45:17.445Z"
   },
   {
    "duration": 135,
    "start_time": "2023-05-24T07:45:17.453Z"
   },
   {
    "duration": 143,
    "start_time": "2023-05-24T07:45:17.593Z"
   },
   {
    "duration": 8,
    "start_time": "2023-05-24T07:45:17.739Z"
   },
   {
    "duration": 256,
    "start_time": "2023-05-24T07:45:17.749Z"
   },
   {
    "duration": 39,
    "start_time": "2023-05-24T07:45:18.007Z"
   },
   {
    "duration": 176,
    "start_time": "2023-05-24T07:45:18.048Z"
   },
   {
    "duration": 12,
    "start_time": "2023-05-24T07:45:18.226Z"
   },
   {
    "duration": 19,
    "start_time": "2023-05-24T07:45:18.240Z"
   },
   {
    "duration": 19,
    "start_time": "2023-05-24T07:45:18.261Z"
   },
   {
    "duration": 39,
    "start_time": "2023-05-24T07:45:18.290Z"
   },
   {
    "duration": 52,
    "start_time": "2023-05-24T07:45:18.331Z"
   },
   {
    "duration": 33,
    "start_time": "2023-05-24T07:45:18.386Z"
   },
   {
    "duration": 28,
    "start_time": "2023-05-24T07:45:18.421Z"
   },
   {
    "duration": 359,
    "start_time": "2023-05-24T07:45:18.452Z"
   },
   {
    "duration": 411,
    "start_time": "2023-05-24T07:45:18.814Z"
   },
   {
    "duration": 198,
    "start_time": "2023-05-24T07:45:19.227Z"
   },
   {
    "duration": 171,
    "start_time": "2023-05-24T07:45:19.428Z"
   },
   {
    "duration": 194,
    "start_time": "2023-05-24T07:45:19.604Z"
   },
   {
    "duration": 187,
    "start_time": "2023-05-24T07:45:19.800Z"
   },
   {
    "duration": 341,
    "start_time": "2023-05-24T07:45:19.989Z"
   },
   {
    "duration": 167,
    "start_time": "2023-05-24T07:45:20.332Z"
   },
   {
    "duration": 329,
    "start_time": "2023-05-24T07:45:20.508Z"
   },
   {
    "duration": 249,
    "start_time": "2023-05-24T07:45:20.839Z"
   },
   {
    "duration": 254,
    "start_time": "2023-05-24T07:45:21.099Z"
   },
   {
    "duration": 256,
    "start_time": "2023-05-24T07:45:21.356Z"
   },
   {
    "duration": 251,
    "start_time": "2023-05-24T07:45:21.614Z"
   },
   {
    "duration": 174,
    "start_time": "2023-05-24T07:45:21.875Z"
   },
   {
    "duration": 3,
    "start_time": "2023-05-24T07:45:22.051Z"
   },
   {
    "duration": 172,
    "start_time": "2023-05-24T07:45:22.055Z"
   },
   {
    "duration": 134,
    "start_time": "2023-05-24T07:45:22.229Z"
   },
   {
    "duration": 81,
    "start_time": "2023-05-24T07:45:22.365Z"
   },
   {
    "duration": 1604,
    "start_time": "2023-05-24T07:45:22.448Z"
   },
   {
    "duration": 244,
    "start_time": "2023-05-24T07:45:24.054Z"
   },
   {
    "duration": 360,
    "start_time": "2023-05-24T07:45:24.299Z"
   },
   {
    "duration": 204,
    "start_time": "2023-05-24T07:45:24.661Z"
   },
   {
    "duration": 720,
    "start_time": "2023-05-24T14:52:06.141Z"
   },
   {
    "duration": 194,
    "start_time": "2023-05-24T14:52:06.864Z"
   },
   {
    "duration": 18,
    "start_time": "2023-05-24T14:52:07.060Z"
   },
   {
    "duration": 2161,
    "start_time": "2023-05-24T14:52:07.079Z"
   },
   {
    "duration": 54,
    "start_time": "2023-05-24T14:52:09.259Z"
   },
   {
    "duration": 11,
    "start_time": "2023-05-24T14:52:09.315Z"
   },
   {
    "duration": 190,
    "start_time": "2023-05-24T14:52:09.328Z"
   },
   {
    "duration": 454,
    "start_time": "2023-05-24T14:52:09.520Z"
   },
   {
    "duration": 3,
    "start_time": "2023-05-24T14:52:09.976Z"
   },
   {
    "duration": 927,
    "start_time": "2023-05-24T14:52:09.980Z"
   },
   {
    "duration": 972,
    "start_time": "2023-05-24T14:52:10.909Z"
   },
   {
    "duration": 973,
    "start_time": "2023-05-24T14:52:11.883Z"
   },
   {
    "duration": 961,
    "start_time": "2023-05-24T14:52:12.858Z"
   },
   {
    "duration": 5,
    "start_time": "2023-05-24T14:52:13.822Z"
   },
   {
    "duration": 91,
    "start_time": "2023-05-24T14:52:13.829Z"
   },
   {
    "duration": 155,
    "start_time": "2023-05-24T14:52:13.922Z"
   },
   {
    "duration": 7,
    "start_time": "2023-05-24T14:52:14.079Z"
   },
   {
    "duration": 202,
    "start_time": "2023-05-24T14:52:14.088Z"
   },
   {
    "duration": 23,
    "start_time": "2023-05-24T14:52:14.292Z"
   },
   {
    "duration": 7,
    "start_time": "2023-05-24T14:52:14.317Z"
   },
   {
    "duration": 34,
    "start_time": "2023-05-24T14:52:14.325Z"
   },
   {
    "duration": 9,
    "start_time": "2023-05-24T14:52:14.361Z"
   },
   {
    "duration": 4,
    "start_time": "2023-05-24T14:52:14.372Z"
   },
   {
    "duration": 27,
    "start_time": "2023-05-24T14:52:14.378Z"
   },
   {
    "duration": 16,
    "start_time": "2023-05-24T14:52:14.408Z"
   },
   {
    "duration": 43,
    "start_time": "2023-05-24T14:52:14.426Z"
   },
   {
    "duration": 14,
    "start_time": "2023-05-24T14:52:14.471Z"
   },
   {
    "duration": 389,
    "start_time": "2023-05-24T14:52:14.487Z"
   },
   {
    "duration": 328,
    "start_time": "2023-05-24T14:52:14.878Z"
   },
   {
    "duration": 159,
    "start_time": "2023-05-24T14:52:15.208Z"
   },
   {
    "duration": 143,
    "start_time": "2023-05-24T14:52:15.368Z"
   },
   {
    "duration": 177,
    "start_time": "2023-05-24T14:52:15.513Z"
   },
   {
    "duration": 159,
    "start_time": "2023-05-24T14:52:15.692Z"
   },
   {
    "duration": 282,
    "start_time": "2023-05-24T14:52:15.857Z"
   },
   {
    "duration": 123,
    "start_time": "2023-05-24T14:52:16.142Z"
   },
   {
    "duration": 181,
    "start_time": "2023-05-24T14:52:16.268Z"
   },
   {
    "duration": 269,
    "start_time": "2023-05-24T14:52:16.451Z"
   },
   {
    "duration": 180,
    "start_time": "2023-05-24T14:52:16.723Z"
   },
   {
    "duration": 183,
    "start_time": "2023-05-24T14:52:16.905Z"
   },
   {
    "duration": 194,
    "start_time": "2023-05-24T14:52:17.090Z"
   },
   {
    "duration": 168,
    "start_time": "2023-05-24T14:52:17.290Z"
   },
   {
    "duration": 2,
    "start_time": "2023-05-24T14:52:17.460Z"
   },
   {
    "duration": 66,
    "start_time": "2023-05-24T14:52:17.464Z"
   },
   {
    "duration": 6,
    "start_time": "2023-05-24T14:52:17.532Z"
   },
   {
    "duration": 36,
    "start_time": "2023-05-24T14:52:17.539Z"
   },
   {
    "duration": 1263,
    "start_time": "2023-05-24T14:52:17.576Z"
   },
   {
    "duration": 250,
    "start_time": "2023-05-24T14:52:18.842Z"
   },
   {
    "duration": 155,
    "start_time": "2023-05-24T14:52:19.094Z"
   },
   {
    "duration": 256,
    "start_time": "2023-05-24T14:52:19.251Z"
   }
  ],
  "kernelspec": {
   "display_name": "Python 3 (ipykernel)",
   "language": "python",
   "name": "python3"
  },
  "language_info": {
   "codemirror_mode": {
    "name": "ipython",
    "version": 3
   },
   "file_extension": ".py",
   "mimetype": "text/x-python",
   "name": "python",
   "nbconvert_exporter": "python",
   "pygments_lexer": "ipython3",
   "version": "3.10.9"
  },
  "toc": {
   "base_numbering": 1,
   "nav_menu": {},
   "number_sections": true,
   "sideBar": true,
   "skip_h1_title": true,
   "title_cell": "Table of Contents",
   "title_sidebar": "Contents",
   "toc_cell": false,
   "toc_position": {
    "height": "calc(100% - 180px)",
    "left": "10px",
    "top": "150px",
    "width": "283px"
   },
   "toc_section_display": true,
   "toc_window_display": true
  }
 },
 "nbformat": 4,
 "nbformat_minor": 2
}
